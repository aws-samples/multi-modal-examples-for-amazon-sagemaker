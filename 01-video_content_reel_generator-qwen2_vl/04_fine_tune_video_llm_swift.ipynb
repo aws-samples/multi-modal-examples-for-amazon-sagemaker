{
 "cells": [
  {
   "cell_type": "markdown",
   "id": "8e31cd0a-06a3-42b8-a5d3-4e07e2daaf18",
   "metadata": {},
   "source": [
    "<div style=\"background-color: #04da79; border: 2px solid #039754; padding: 10px; color: black; font-family: Arial, Helvetica, sans-serif;\">\n",
    "    <strong>Kernel: Python 3 (ipykernel)\n",
    "</div>"
   ]
  },
  {
   "cell_type": "markdown",
   "id": "17db50c4-ad1f-446c-aafc-1a60793dd3c4",
   "metadata": {},
   "source": [
    "# Fine-tuning Qwen2-VL with video/text dataset"
   ]
  },
  {
   "cell_type": "markdown",
   "id": "5a700c78-b5e2-456e-8b79-19b305a36f0e",
   "metadata": {},
   "source": [
    "This notebook shows how to fine-tune a vision Large Language Model (visionLLM) on a video-text to text dataset. The visionLLM can answer questions and extract information from the videos.\n",
    "\n",
    "This notebook uses a SageMaker remote function to run the GPU intensive training as a cost efficient SageMaker training job, where you only pay for the actual execution time and resources required by your job."
   ]
  },
  {
   "cell_type": "markdown",
   "id": "a866d0ce-aa77-4bb2-a77f-7f68416c087a",
   "metadata": {},
   "source": [
    "## Setup"
   ]
  },
  {
   "cell_type": "markdown",
   "id": "ccc373ec-e955-4f14-b006-2cb0faaea764",
   "metadata": {},
   "source": [
    "Let's start by importing necessary packages"
   ]
  },
  {
   "cell_type": "code",
   "execution_count": 1,
   "id": "c216c9c0-c26e-4d4b-a809-f8cb352d2c7a",
   "metadata": {},
   "outputs": [
    {
     "name": "stdout",
     "output_type": "stream",
     "text": [
      "sagemaker.config INFO - Not applying SDK defaults from location: /etc/xdg/sagemaker/config.yaml\n",
      "sagemaker.config INFO - Not applying SDK defaults from location: /home/sagemaker-user/.config/sagemaker/config.yaml\n"
     ]
    }
   ],
   "source": [
    "import os\n",
    "from pathlib import Path\n",
    "import pandas as pd\n",
    "import sagemaker\n",
    "from IPython.display import JSON, Video\n",
    "from huggingface_hub import snapshot_download"
   ]
  },
  {
   "cell_type": "markdown",
   "id": "9c04366b",
   "metadata": {},
   "source": [
    "## Dataset for Fine-Tuning\n",
    "\n",
    "We first need to setup the dataset that we want to do the finetuning on.\n",
    "\n",
    "* Download a small sample dataset based on [LLaVA-Video-178K](https://huggingface.co/datasets/lmms-lab/LLaVA-Video-178K) into your `./local_data` folder\n",
    "* Upload the dataset to S3"
   ]
  },
  {
   "cell_type": "code",
   "execution_count": 2,
   "id": "564a95e2-ae8a-46c9-a8e9-93942c02a3de",
   "metadata": {},
   "outputs": [],
   "source": [
    "role = sagemaker.get_execution_role()\n",
    "region = sagemaker.session.Session().boto_region_name\n",
    "session = sagemaker.Session()\n",
    "default_bucket_name = session.default_bucket()\n",
    "dataset_dir = \"./local_data\"\n",
    "dataset_s3_prefix = \"myvideotrainingdataset\"\n",
    "dataset_s3_uri = f\"s3://{default_bucket_name}/{dataset_s3_prefix}\""
   ]
  },
  {
   "cell_type": "code",
   "execution_count": 3,
   "id": "b679c01f-cd01-4fe5-9a69-551140de2756",
   "metadata": {
    "scrolled": true
   },
   "outputs": [
    {
     "data": {
      "application/vnd.jupyter.widget-view+json": {
       "model_id": "be0e295e916a43e7a563c74c0ae85bef",
       "version_major": 2,
       "version_minor": 0
      },
      "text/plain": [
       "Fetching 210 files:   0%|          | 0/210 [00:00<?, ?it/s]"
      ]
     },
     "metadata": {},
     "output_type": "display_data"
    },
    {
     "data": {
      "application/vnd.jupyter.widget-view+json": {
       "model_id": "9e96142442524869a0bd468946427693",
       "version_major": 2,
       "version_minor": 0
      },
      "text/plain": [
       "test.jsonl:   0%|          | 0.00/4.07k [00:00<?, ?B/s]"
      ]
     },
     "metadata": {},
     "output_type": "display_data"
    },
    {
     "data": {
      "application/vnd.jupyter.widget-view+json": {
       "model_id": "8a63e9dbf5004e2e960577b9797ef84b",
       "version_major": 2,
       "version_minor": 0
      },
      "text/plain": [
       "train.jsonl:   0%|          | 0.00/38.2k [00:00<?, ?B/s]"
      ]
     },
     "metadata": {},
     "output_type": "display_data"
    },
    {
     "data": {
      "application/vnd.jupyter.widget-view+json": {
       "model_id": "0e265aa0acf64f298b63d2e73d6341c0",
       "version_major": 2,
       "version_minor": 0
      },
      "text/plain": [
       "07LG5.mp4:   0%|          | 0.00/2.34M [00:00<?, ?B/s]"
      ]
     },
     "metadata": {},
     "output_type": "display_data"
    },
    {
     "data": {
      "application/vnd.jupyter.widget-view+json": {
       "model_id": "5555a9e5eac34b7c8d71644ff79467ba",
       "version_major": 2,
       "version_minor": 0
      },
      "text/plain": [
       "(…)illa-qwen2-vl-2b-instruct-response.jsonl:   0%|          | 0.00/5.19k [00:00<?, ?B/s]"
      ]
     },
     "metadata": {},
     "output_type": "display_data"
    },
    {
     "data": {
      "application/vnd.jupyter.widget-view+json": {
       "model_id": "372a43dc7224434194b838dfce079e43",
       "version_major": 2,
       "version_minor": 0
      },
      "text/plain": [
       ".gitattributes:   0%|          | 0.00/2.42k [00:00<?, ?B/s]"
      ]
     },
     "metadata": {},
     "output_type": "display_data"
    },
    {
     "data": {
      "application/vnd.jupyter.widget-view+json": {
       "model_id": "385b7ffacd324ddd814e64690d254b31",
       "version_major": 2,
       "version_minor": 0
      },
      "text/plain": [
       "validation.jsonl:   0%|          | 0.00/4.67k [00:00<?, ?B/s]"
      ]
     },
     "metadata": {},
     "output_type": "display_data"
    },
    {
     "data": {
      "application/vnd.jupyter.widget-view+json": {
       "model_id": "df3a7157e1fc446cb76d5759639f8a00",
       "version_major": 2,
       "version_minor": 0
      },
      "text/plain": [
       "03M0K.mp4:   0%|          | 0.00/1.40M [00:00<?, ?B/s]"
      ]
     },
     "metadata": {},
     "output_type": "display_data"
    },
    {
     "data": {
      "application/vnd.jupyter.widget-view+json": {
       "model_id": "e3e048b22d73456d95e13493674c725d",
       "version_major": 2,
       "version_minor": 0
      },
      "text/plain": [
       "11106167914.mp4:   0%|          | 0.00/2.79M [00:00<?, ?B/s]"
      ]
     },
     "metadata": {},
     "output_type": "display_data"
    },
    {
     "data": {
      "application/vnd.jupyter.widget-view+json": {
       "model_id": "2477af47db5d4681879ec1d87768457f",
       "version_major": 2,
       "version_minor": 0
      },
      "text/plain": [
       "10576728026.mp4:   0%|          | 0.00/2.44M [00:00<?, ?B/s]"
      ]
     },
     "metadata": {},
     "output_type": "display_data"
    },
    {
     "data": {
      "application/vnd.jupyter.widget-view+json": {
       "model_id": "8f552a5a2a2749ed9a53df2987d01430",
       "version_major": 2,
       "version_minor": 0
      },
      "text/plain": [
       "README.md:   0%|          | 0.00/335 [00:00<?, ?B/s]"
      ]
     },
     "metadata": {},
     "output_type": "display_data"
    },
    {
     "data": {
      "application/vnd.jupyter.widget-view+json": {
       "model_id": "d11df3c045404612a3e7600e07359701",
       "version_major": 2,
       "version_minor": 0
      },
      "text/plain": [
       "1YC83.mp4:   0%|          | 0.00/1.31M [00:00<?, ?B/s]"
      ]
     },
     "metadata": {},
     "output_type": "display_data"
    },
    {
     "data": {
      "application/vnd.jupyter.widget-view+json": {
       "model_id": "4b3381eb851a445f98c6570052beb7f7",
       "version_major": 2,
       "version_minor": 0
      },
      "text/plain": [
       "1ECM2.mp4:   0%|          | 0.00/1.25M [00:00<?, ?B/s]"
      ]
     },
     "metadata": {},
     "output_type": "display_data"
    },
    {
     "data": {
      "application/vnd.jupyter.widget-view+json": {
       "model_id": "217ce7f882eb440da10bb4d8a1107bef",
       "version_major": 2,
       "version_minor": 0
      },
      "text/plain": [
       "1KKYX.mp4:   0%|          | 0.00/1.61M [00:00<?, ?B/s]"
      ]
     },
     "metadata": {},
     "output_type": "display_data"
    },
    {
     "data": {
      "application/vnd.jupyter.widget-view+json": {
       "model_id": "87a994afaeeb4729bd2edf2ee0256af7",
       "version_major": 2,
       "version_minor": 0
      },
      "text/plain": [
       "2403134475.mp4:   0%|          | 0.00/2.97M [00:00<?, ?B/s]"
      ]
     },
     "metadata": {},
     "output_type": "display_data"
    },
    {
     "data": {
      "application/vnd.jupyter.widget-view+json": {
       "model_id": "bae9b958140b4c8ea12a9a2f0b55d8dd",
       "version_major": 2,
       "version_minor": 0
      },
      "text/plain": [
       "2400900222.mp4:   0%|          | 0.00/1.04M [00:00<?, ?B/s]"
      ]
     },
     "metadata": {},
     "output_type": "display_data"
    },
    {
     "data": {
      "application/vnd.jupyter.widget-view+json": {
       "model_id": "dd17f007962a4e04855356eb7970883b",
       "version_major": 2,
       "version_minor": 0
      },
      "text/plain": [
       "2632387219.mp4:   0%|          | 0.00/1.73M [00:00<?, ?B/s]"
      ]
     },
     "metadata": {},
     "output_type": "display_data"
    },
    {
     "data": {
      "application/vnd.jupyter.widget-view+json": {
       "model_id": "8f05f89c0c1047bc90951252770b535b",
       "version_major": 2,
       "version_minor": 0
      },
      "text/plain": [
       "2PREF.mp4:   0%|          | 0.00/1.55M [00:00<?, ?B/s]"
      ]
     },
     "metadata": {},
     "output_type": "display_data"
    },
    {
     "data": {
      "application/vnd.jupyter.widget-view+json": {
       "model_id": "02f8d26291994a2ebb31266b84307a11",
       "version_major": 2,
       "version_minor": 0
      },
      "text/plain": [
       "2QI8F.mp4:   0%|          | 0.00/1.60M [00:00<?, ?B/s]"
      ]
     },
     "metadata": {},
     "output_type": "display_data"
    },
    {
     "data": {
      "application/vnd.jupyter.widget-view+json": {
       "model_id": "4ac1816e9a58477abc594afe57172fcb",
       "version_major": 2,
       "version_minor": 0
      },
      "text/plain": [
       "3564576864.mp4:   0%|          | 0.00/2.97M [00:00<?, ?B/s]"
      ]
     },
     "metadata": {},
     "output_type": "display_data"
    },
    {
     "data": {
      "application/vnd.jupyter.widget-view+json": {
       "model_id": "dd9e528f84fa44b4837b2169bd5476ba",
       "version_major": 2,
       "version_minor": 0
      },
      "text/plain": [
       "3643922241.mp4:   0%|          | 0.00/1.76M [00:00<?, ?B/s]"
      ]
     },
     "metadata": {},
     "output_type": "display_data"
    },
    {
     "data": {
      "application/vnd.jupyter.widget-view+json": {
       "model_id": "895321a95bb0454a88edd09efd512d50",
       "version_major": 2,
       "version_minor": 0
      },
      "text/plain": [
       "2IX2Z.mp4:   0%|          | 0.00/828k [00:00<?, ?B/s]"
      ]
     },
     "metadata": {},
     "output_type": "display_data"
    },
    {
     "data": {
      "application/vnd.jupyter.widget-view+json": {
       "model_id": "cff54f9730854bda861893f82c39c72e",
       "version_major": 2,
       "version_minor": 0
      },
      "text/plain": [
       "4004287747.mp4:   0%|          | 0.00/2.30M [00:00<?, ?B/s]"
      ]
     },
     "metadata": {},
     "output_type": "display_data"
    },
    {
     "data": {
      "application/vnd.jupyter.widget-view+json": {
       "model_id": "261d28c9186e486a9c528b76b847c3d3",
       "version_major": 2,
       "version_minor": 0
      },
      "text/plain": [
       "4255049031.mp4:   0%|          | 0.00/2.60M [00:00<?, ?B/s]"
      ]
     },
     "metadata": {},
     "output_type": "display_data"
    },
    {
     "data": {
      "application/vnd.jupyter.widget-view+json": {
       "model_id": "42099b7699a947749995d3fd4dcded91",
       "version_major": 2,
       "version_minor": 0
      },
      "text/plain": [
       "42SEP.mp4:   0%|          | 0.00/1.25M [00:00<?, ?B/s]"
      ]
     },
     "metadata": {},
     "output_type": "display_data"
    },
    {
     "data": {
      "application/vnd.jupyter.widget-view+json": {
       "model_id": "61b376ada98d4236afdcb433e362bdf5",
       "version_major": 2,
       "version_minor": 0
      },
      "text/plain": [
       "4329580374.mp4:   0%|          | 0.00/2.47M [00:00<?, ?B/s]"
      ]
     },
     "metadata": {},
     "output_type": "display_data"
    },
    {
     "data": {
      "application/vnd.jupyter.widget-view+json": {
       "model_id": "f56d31519cc542f4bc7b7ebd557b2c04",
       "version_major": 2,
       "version_minor": 0
      },
      "text/plain": [
       "4931493992.mp4:   0%|          | 0.00/1.09M [00:00<?, ?B/s]"
      ]
     },
     "metadata": {},
     "output_type": "display_data"
    },
    {
     "data": {
      "application/vnd.jupyter.widget-view+json": {
       "model_id": "837fa1b8949148f390e99c753abb98fe",
       "version_major": 2,
       "version_minor": 0
      },
      "text/plain": [
       "4360431067.mp4:   0%|          | 0.00/994k [00:00<?, ?B/s]"
      ]
     },
     "metadata": {},
     "output_type": "display_data"
    },
    {
     "data": {
      "application/vnd.jupyter.widget-view+json": {
       "model_id": "ccdb897e1af34dd7a76b337f4120a70b",
       "version_major": 2,
       "version_minor": 0
      },
      "text/plain": [
       "4DZB6.mp4:   0%|          | 0.00/372k [00:00<?, ?B/s]"
      ]
     },
     "metadata": {},
     "output_type": "display_data"
    },
    {
     "data": {
      "application/vnd.jupyter.widget-view+json": {
       "model_id": "3f347c2eeb514caf9b0c980e0a9d771c",
       "version_major": 2,
       "version_minor": 0
      },
      "text/plain": [
       "5235909148.mp4:   0%|          | 0.00/1.22M [00:00<?, ?B/s]"
      ]
     },
     "metadata": {},
     "output_type": "display_data"
    },
    {
     "data": {
      "application/vnd.jupyter.widget-view+json": {
       "model_id": "22b7315bf0ce4c6f9aeb33d5a61697e5",
       "version_major": 2,
       "version_minor": 0
      },
      "text/plain": [
       "5987365500.mp4:   0%|          | 0.00/2.51M [00:00<?, ?B/s]"
      ]
     },
     "metadata": {},
     "output_type": "display_data"
    },
    {
     "data": {
      "application/vnd.jupyter.widget-view+json": {
       "model_id": "7f082436e58d4157874190ba81737494",
       "version_major": 2,
       "version_minor": 0
      },
      "text/plain": [
       "6TVXT.mp4:   0%|          | 0.00/2.57M [00:00<?, ?B/s]"
      ]
     },
     "metadata": {},
     "output_type": "display_data"
    },
    {
     "data": {
      "application/vnd.jupyter.widget-view+json": {
       "model_id": "19da2180250446e6aa053ec4a67ddb5b",
       "version_major": 2,
       "version_minor": 0
      },
      "text/plain": [
       "7748596700.mp4:   0%|          | 0.00/1.12M [00:00<?, ?B/s]"
      ]
     },
     "metadata": {},
     "output_type": "display_data"
    },
    {
     "data": {
      "application/vnd.jupyter.widget-view+json": {
       "model_id": "7964eefb18214d2ca79cbd7fafe5a402",
       "version_major": 2,
       "version_minor": 0
      },
      "text/plain": [
       "6LGTT.mp4:   0%|          | 0.00/1.11M [00:00<?, ?B/s]"
      ]
     },
     "metadata": {},
     "output_type": "display_data"
    },
    {
     "data": {
      "application/vnd.jupyter.widget-view+json": {
       "model_id": "3df6dfb531674ef18852660caa0d8a7c",
       "version_major": 2,
       "version_minor": 0
      },
      "text/plain": [
       "6913450810.mp4:   0%|          | 0.00/2.07M [00:00<?, ?B/s]"
      ]
     },
     "metadata": {},
     "output_type": "display_data"
    },
    {
     "data": {
      "application/vnd.jupyter.widget-view+json": {
       "model_id": "8ac8f5c091904140a15d34c0085457bf",
       "version_major": 2,
       "version_minor": 0
      },
      "text/plain": [
       "7004267908.mp4:   0%|          | 0.00/2.98M [00:00<?, ?B/s]"
      ]
     },
     "metadata": {},
     "output_type": "display_data"
    },
    {
     "data": {
      "application/vnd.jupyter.widget-view+json": {
       "model_id": "e47883d22f50472f95f25475942d8e81",
       "version_major": 2,
       "version_minor": 0
      },
      "text/plain": [
       "9338319433.mp4:   0%|          | 0.00/2.69M [00:00<?, ?B/s]"
      ]
     },
     "metadata": {},
     "output_type": "display_data"
    },
    {
     "data": {
      "application/vnd.jupyter.widget-view+json": {
       "model_id": "5b7c9337578c4fd69d6efd53e718ad08",
       "version_major": 2,
       "version_minor": 0
      },
      "text/plain": [
       "8Y7P5.mp4:   0%|          | 0.00/2.30M [00:00<?, ?B/s]"
      ]
     },
     "metadata": {},
     "output_type": "display_data"
    },
    {
     "data": {
      "application/vnd.jupyter.widget-view+json": {
       "model_id": "14a0b352a2584908af0f820ac5112b7b",
       "version_major": 2,
       "version_minor": 0
      },
      "text/plain": [
       "9963900426.mp4:   0%|          | 0.00/2.88M [00:00<?, ?B/s]"
      ]
     },
     "metadata": {},
     "output_type": "display_data"
    },
    {
     "data": {
      "application/vnd.jupyter.widget-view+json": {
       "model_id": "50f4b055fc5f432e9e1d5899fcbb2ca4",
       "version_major": 2,
       "version_minor": 0
      },
      "text/plain": [
       "9CCDY.mp4:   0%|          | 0.00/714k [00:00<?, ?B/s]"
      ]
     },
     "metadata": {},
     "output_type": "display_data"
    },
    {
     "data": {
      "application/vnd.jupyter.widget-view+json": {
       "model_id": "61f5596131664d079a5500ee2b09f53f",
       "version_major": 2,
       "version_minor": 0
      },
      "text/plain": [
       "AVH53.mp4:   0%|          | 0.00/1.85M [00:00<?, ?B/s]"
      ]
     },
     "metadata": {},
     "output_type": "display_data"
    },
    {
     "data": {
      "application/vnd.jupyter.widget-view+json": {
       "model_id": "8a11596047c94e1dbbff028498200a12",
       "version_major": 2,
       "version_minor": 0
      },
      "text/plain": [
       "B2NAS.mp4:   0%|          | 0.00/724k [00:00<?, ?B/s]"
      ]
     },
     "metadata": {},
     "output_type": "display_data"
    },
    {
     "data": {
      "application/vnd.jupyter.widget-view+json": {
       "model_id": "fa8c8e3217e34ae086f1604132f18665",
       "version_major": 2,
       "version_minor": 0
      },
      "text/plain": [
       "ARKBT.mp4:   0%|          | 0.00/989k [00:00<?, ?B/s]"
      ]
     },
     "metadata": {},
     "output_type": "display_data"
    },
    {
     "data": {
      "application/vnd.jupyter.widget-view+json": {
       "model_id": "53800b87a0044153b4f7ca541c6c5588",
       "version_major": 2,
       "version_minor": 0
      },
      "text/plain": [
       "B7SZJ.mp4:   0%|          | 0.00/1.34M [00:00<?, ?B/s]"
      ]
     },
     "metadata": {},
     "output_type": "display_data"
    },
    {
     "data": {
      "application/vnd.jupyter.widget-view+json": {
       "model_id": "327203d029934b1f9c3b293622b617e5",
       "version_major": 2,
       "version_minor": 0
      },
      "text/plain": [
       "BIV8M.mp4:   0%|          | 0.00/1.05M [00:00<?, ?B/s]"
      ]
     },
     "metadata": {},
     "output_type": "display_data"
    },
    {
     "data": {
      "application/vnd.jupyter.widget-view+json": {
       "model_id": "8c0678534dd0451aa6a96f435d4cfb55",
       "version_major": 2,
       "version_minor": 0
      },
      "text/plain": [
       "DFEG2.mp4:   0%|          | 0.00/1.19M [00:00<?, ?B/s]"
      ]
     },
     "metadata": {},
     "output_type": "display_data"
    },
    {
     "data": {
      "application/vnd.jupyter.widget-view+json": {
       "model_id": "0d3a7f9d255f4c509054e971bc2050be",
       "version_major": 2,
       "version_minor": 0
      },
      "text/plain": [
       "DVPL2.mp4:   0%|          | 0.00/1.24M [00:00<?, ?B/s]"
      ]
     },
     "metadata": {},
     "output_type": "display_data"
    },
    {
     "data": {
      "application/vnd.jupyter.widget-view+json": {
       "model_id": "31c39ee29ae74446805e9637e3efb645",
       "version_major": 2,
       "version_minor": 0
      },
      "text/plain": [
       "CX5ZM.mp4:   0%|          | 0.00/759k [00:00<?, ?B/s]"
      ]
     },
     "metadata": {},
     "output_type": "display_data"
    },
    {
     "data": {
      "application/vnd.jupyter.widget-view+json": {
       "model_id": "534c57806e4a48f7963e2008456dbd17",
       "version_major": 2,
       "version_minor": 0
      },
      "text/plain": [
       "DXVRB.mp4:   0%|          | 0.00/747k [00:00<?, ?B/s]"
      ]
     },
     "metadata": {},
     "output_type": "display_data"
    },
    {
     "data": {
      "application/vnd.jupyter.widget-view+json": {
       "model_id": "26c6003a8b4743b699bdfbcd7c202d36",
       "version_major": 2,
       "version_minor": 0
      },
      "text/plain": [
       "ES10S.mp4:   0%|          | 0.00/940k [00:00<?, ?B/s]"
      ]
     },
     "metadata": {},
     "output_type": "display_data"
    },
    {
     "data": {
      "application/vnd.jupyter.widget-view+json": {
       "model_id": "6379c31aa7b54c7c99f23a512e650216",
       "version_major": 2,
       "version_minor": 0
      },
      "text/plain": [
       "FYHTC.mp4:   0%|          | 0.00/1.31M [00:00<?, ?B/s]"
      ]
     },
     "metadata": {},
     "output_type": "display_data"
    },
    {
     "data": {
      "application/vnd.jupyter.widget-view+json": {
       "model_id": "30384bbaa8b64aefb03f50792a1a5dd1",
       "version_major": 2,
       "version_minor": 0
      },
      "text/plain": [
       "H4ZD8.mp4:   0%|          | 0.00/1.31M [00:00<?, ?B/s]"
      ]
     },
     "metadata": {},
     "output_type": "display_data"
    },
    {
     "data": {
      "application/vnd.jupyter.widget-view+json": {
       "model_id": "95305561217946f5adec7238a1030496",
       "version_major": 2,
       "version_minor": 0
      },
      "text/plain": [
       "HP3HV.mp4:   0%|          | 0.00/944k [00:00<?, ?B/s]"
      ]
     },
     "metadata": {},
     "output_type": "display_data"
    },
    {
     "data": {
      "application/vnd.jupyter.widget-view+json": {
       "model_id": "3ffed9f7bf064b0fa648f4230833c278",
       "version_major": 2,
       "version_minor": 0
      },
      "text/plain": [
       "IRBPD.mp4:   0%|          | 0.00/1.38M [00:00<?, ?B/s]"
      ]
     },
     "metadata": {},
     "output_type": "display_data"
    },
    {
     "data": {
      "application/vnd.jupyter.widget-view+json": {
       "model_id": "6b9003ef5430477f84df958bf3557c8a",
       "version_major": 2,
       "version_minor": 0
      },
      "text/plain": [
       "KEPDQ.mp4:   0%|          | 0.00/174k [00:00<?, ?B/s]"
      ]
     },
     "metadata": {},
     "output_type": "display_data"
    },
    {
     "data": {
      "application/vnd.jupyter.widget-view+json": {
       "model_id": "4660e680b0834060b1db2590323ed09e",
       "version_major": 2,
       "version_minor": 0
      },
      "text/plain": [
       "KVYOZ.mp4:   0%|          | 0.00/317k [00:00<?, ?B/s]"
      ]
     },
     "metadata": {},
     "output_type": "display_data"
    },
    {
     "data": {
      "application/vnd.jupyter.widget-view+json": {
       "model_id": "1295abe05a5542c189f04da7a2225e82",
       "version_major": 2,
       "version_minor": 0
      },
      "text/plain": [
       "MLS4T.mp4:   0%|          | 0.00/1.58M [00:00<?, ?B/s]"
      ]
     },
     "metadata": {},
     "output_type": "display_data"
    },
    {
     "data": {
      "application/vnd.jupyter.widget-view+json": {
       "model_id": "3ac1913d19104c73b96cd5767ae91311",
       "version_major": 2,
       "version_minor": 0
      },
      "text/plain": [
       "MZK2X.mp4:   0%|          | 0.00/1.65M [00:00<?, ?B/s]"
      ]
     },
     "metadata": {},
     "output_type": "display_data"
    },
    {
     "data": {
      "application/vnd.jupyter.widget-view+json": {
       "model_id": "15fd360f914f413ba074b458260ebe04",
       "version_major": 2,
       "version_minor": 0
      },
      "text/plain": [
       "NSUHV.mp4:   0%|          | 0.00/1.89M [00:00<?, ?B/s]"
      ]
     },
     "metadata": {},
     "output_type": "display_data"
    },
    {
     "data": {
      "application/vnd.jupyter.widget-view+json": {
       "model_id": "5cd84d7656634925a9e6737e13c7b731",
       "version_major": 2,
       "version_minor": 0
      },
      "text/plain": [
       "MME0V.mp4:   0%|          | 0.00/1.27M [00:00<?, ?B/s]"
      ]
     },
     "metadata": {},
     "output_type": "display_data"
    },
    {
     "data": {
      "application/vnd.jupyter.widget-view+json": {
       "model_id": "937a28d063fe48e4ab186c4676dc8964",
       "version_major": 2,
       "version_minor": 0
      },
      "text/plain": [
       "OTIA2.mp4:   0%|          | 0.00/1.59M [00:00<?, ?B/s]"
      ]
     },
     "metadata": {},
     "output_type": "display_data"
    },
    {
     "data": {
      "application/vnd.jupyter.widget-view+json": {
       "model_id": "3c4e9ecc2a2640bea731846575f591e4",
       "version_major": 2,
       "version_minor": 0
      },
      "text/plain": [
       "PK2F0.mp4:   0%|          | 0.00/1.37M [00:00<?, ?B/s]"
      ]
     },
     "metadata": {},
     "output_type": "display_data"
    },
    {
     "data": {
      "application/vnd.jupyter.widget-view+json": {
       "model_id": "35ea243b6f8f473aa85dbd80f011fd55",
       "version_major": 2,
       "version_minor": 0
      },
      "text/plain": [
       "RW587.mp4:   0%|          | 0.00/2.21M [00:00<?, ?B/s]"
      ]
     },
     "metadata": {},
     "output_type": "display_data"
    },
    {
     "data": {
      "application/vnd.jupyter.widget-view+json": {
       "model_id": "e1a69fff33384a41b36f99bda57f0fbc",
       "version_major": 2,
       "version_minor": 0
      },
      "text/plain": [
       "QBQR3.mp4:   0%|          | 0.00/1.47M [00:00<?, ?B/s]"
      ]
     },
     "metadata": {},
     "output_type": "display_data"
    },
    {
     "data": {
      "application/vnd.jupyter.widget-view+json": {
       "model_id": "f3841c2869264323a3b915e7e777c6a6",
       "version_major": 2,
       "version_minor": 0
      },
      "text/plain": [
       "S6RYI.mp4:   0%|          | 0.00/1.41M [00:00<?, ?B/s]"
      ]
     },
     "metadata": {},
     "output_type": "display_data"
    },
    {
     "data": {
      "application/vnd.jupyter.widget-view+json": {
       "model_id": "3b21e4b8f71f4c1fa91fafc6e9e83b0f",
       "version_major": 2,
       "version_minor": 0
      },
      "text/plain": [
       "VIN5T.mp4:   0%|          | 0.00/788k [00:00<?, ?B/s]"
      ]
     },
     "metadata": {},
     "output_type": "display_data"
    },
    {
     "data": {
      "application/vnd.jupyter.widget-view+json": {
       "model_id": "417571050c814e2d9f896ef3cc5df1d5",
       "version_major": 2,
       "version_minor": 0
      },
      "text/plain": [
       "T38JM.mp4:   0%|          | 0.00/786k [00:00<?, ?B/s]"
      ]
     },
     "metadata": {},
     "output_type": "display_data"
    },
    {
     "data": {
      "application/vnd.jupyter.widget-view+json": {
       "model_id": "867f46146a674212aae82247065950d9",
       "version_major": 2,
       "version_minor": 0
      },
      "text/plain": [
       "WK5PL.mp4:   0%|          | 0.00/632k [00:00<?, ?B/s]"
      ]
     },
     "metadata": {},
     "output_type": "display_data"
    },
    {
     "data": {
      "application/vnd.jupyter.widget-view+json": {
       "model_id": "be6a40b85a6744c7bebdb35577bcfd5b",
       "version_major": 2,
       "version_minor": 0
      },
      "text/plain": [
       "YB67Z.mp4:   0%|          | 0.00/1.19M [00:00<?, ?B/s]"
      ]
     },
     "metadata": {},
     "output_type": "display_data"
    },
    {
     "data": {
      "application/vnd.jupyter.widget-view+json": {
       "model_id": "212a15a5b8164e78bd4f77521c4f9e61",
       "version_major": 2,
       "version_minor": 0
      },
      "text/plain": [
       "VKDLS.mp4:   0%|          | 0.00/266k [00:00<?, ?B/s]"
      ]
     },
     "metadata": {},
     "output_type": "display_data"
    },
    {
     "data": {
      "application/vnd.jupyter.widget-view+json": {
       "model_id": "f2b034215b75440c8482df02dd6bb96f",
       "version_major": 2,
       "version_minor": 0
      },
      "text/plain": [
       "YKT8I.mp4:   0%|          | 0.00/468k [00:00<?, ?B/s]"
      ]
     },
     "metadata": {},
     "output_type": "display_data"
    },
    {
     "data": {
      "application/vnd.jupyter.widget-view+json": {
       "model_id": "3f722c308fe94b84b6309ff519bba081",
       "version_major": 2,
       "version_minor": 0
      },
      "text/plain": [
       "13AUQ.mp4:   0%|          | 0.00/1.62M [00:00<?, ?B/s]"
      ]
     },
     "metadata": {},
     "output_type": "display_data"
    },
    {
     "data": {
      "application/vnd.jupyter.widget-view+json": {
       "model_id": "ed8dfb2de1284bf3828a41e338ce1be5",
       "version_major": 2,
       "version_minor": 0
      },
      "text/plain": [
       "8Y7P5.mp4:   0%|          | 0.00/2.30M [00:00<?, ?B/s]"
      ]
     },
     "metadata": {},
     "output_type": "display_data"
    },
    {
     "data": {
      "application/vnd.jupyter.widget-view+json": {
       "model_id": "cdeac053ed2e4a3bb689979677985c56",
       "version_major": 2,
       "version_minor": 0
      },
      "text/plain": [
       "3RN5M.mp4:   0%|          | 0.00/1.18M [00:00<?, ?B/s]"
      ]
     },
     "metadata": {},
     "output_type": "display_data"
    },
    {
     "data": {
      "application/vnd.jupyter.widget-view+json": {
       "model_id": "202591ac289f40ea9b931de566a2c668",
       "version_major": 2,
       "version_minor": 0
      },
      "text/plain": [
       "0AGCS.mp4:   0%|          | 0.00/1.35M [00:00<?, ?B/s]"
      ]
     },
     "metadata": {},
     "output_type": "display_data"
    },
    {
     "data": {
      "application/vnd.jupyter.widget-view+json": {
       "model_id": "f93e567e63894d1684515d05c3d64528",
       "version_major": 2,
       "version_minor": 0
      },
      "text/plain": [
       "45BIP.mp4:   0%|          | 0.00/1.39M [00:00<?, ?B/s]"
      ]
     },
     "metadata": {},
     "output_type": "display_data"
    },
    {
     "data": {
      "application/vnd.jupyter.widget-view+json": {
       "model_id": "fed714a9ec934766b2c9677ce1656319",
       "version_major": 2,
       "version_minor": 0
      },
      "text/plain": [
       "5Z1CO.mp4:   0%|          | 0.00/1.90M [00:00<?, ?B/s]"
      ]
     },
     "metadata": {},
     "output_type": "display_data"
    },
    {
     "data": {
      "application/vnd.jupyter.widget-view+json": {
       "model_id": "ac102152ff3a4c05bb63823261393e89",
       "version_major": 2,
       "version_minor": 0
      },
      "text/plain": [
       "ALXUC.mp4:   0%|          | 0.00/614k [00:00<?, ?B/s]"
      ]
     },
     "metadata": {},
     "output_type": "display_data"
    },
    {
     "data": {
      "application/vnd.jupyter.widget-view+json": {
       "model_id": "d0fce3f8f7c54da083e4b9ea86b8fde2",
       "version_major": 2,
       "version_minor": 0
      },
      "text/plain": [
       "CX5ZM.mp4:   0%|          | 0.00/759k [00:00<?, ?B/s]"
      ]
     },
     "metadata": {},
     "output_type": "display_data"
    },
    {
     "data": {
      "application/vnd.jupyter.widget-view+json": {
       "model_id": "ea4eb62318a04eb8bc0307610389e7e8",
       "version_major": 2,
       "version_minor": 0
      },
      "text/plain": [
       "9207X.mp4:   0%|          | 0.00/868k [00:00<?, ?B/s]"
      ]
     },
     "metadata": {},
     "output_type": "display_data"
    },
    {
     "data": {
      "application/vnd.jupyter.widget-view+json": {
       "model_id": "02685228cb4a4cbeb001aedf836b5c0e",
       "version_major": 2,
       "version_minor": 0
      },
      "text/plain": [
       "DP1TV.mp4:   0%|          | 0.00/448k [00:00<?, ?B/s]"
      ]
     },
     "metadata": {},
     "output_type": "display_data"
    },
    {
     "data": {
      "application/vnd.jupyter.widget-view+json": {
       "model_id": "39c34422c6e44f6e989383065f5cf0a9",
       "version_major": 2,
       "version_minor": 0
      },
      "text/plain": [
       "2IX2Z.mp4:   0%|          | 0.00/828k [00:00<?, ?B/s]"
      ]
     },
     "metadata": {},
     "output_type": "display_data"
    },
    {
     "data": {
      "application/vnd.jupyter.widget-view+json": {
       "model_id": "492eb926c5bb465bad204a71d05b1792",
       "version_major": 2,
       "version_minor": 0
      },
      "text/plain": [
       "13XM4.mp4:   0%|          | 0.00/1.95M [00:00<?, ?B/s]"
      ]
     },
     "metadata": {},
     "output_type": "display_data"
    },
    {
     "data": {
      "application/vnd.jupyter.widget-view+json": {
       "model_id": "fc79783c0d63469da57059a02090fb62",
       "version_major": 2,
       "version_minor": 0
      },
      "text/plain": [
       "FY9UT.mp4:   0%|          | 0.00/664k [00:00<?, ?B/s]"
      ]
     },
     "metadata": {},
     "output_type": "display_data"
    },
    {
     "data": {
      "application/vnd.jupyter.widget-view+json": {
       "model_id": "4c3092cacafe4aeeb96ce1018df911c8",
       "version_major": 2,
       "version_minor": 0
      },
      "text/plain": [
       "GG4UR.mp4:   0%|          | 0.00/1.22M [00:00<?, ?B/s]"
      ]
     },
     "metadata": {},
     "output_type": "display_data"
    },
    {
     "data": {
      "application/vnd.jupyter.widget-view+json": {
       "model_id": "971da22aca574d729b19f6531750b785",
       "version_major": 2,
       "version_minor": 0
      },
      "text/plain": [
       "F31X6.mp4:   0%|          | 0.00/1.66M [00:00<?, ?B/s]"
      ]
     },
     "metadata": {},
     "output_type": "display_data"
    },
    {
     "data": {
      "application/vnd.jupyter.widget-view+json": {
       "model_id": "7d2e7714dc8c46b4b97c889d06296a50",
       "version_major": 2,
       "version_minor": 0
      },
      "text/plain": [
       "EJY5V.mp4:   0%|          | 0.00/1.43M [00:00<?, ?B/s]"
      ]
     },
     "metadata": {},
     "output_type": "display_data"
    },
    {
     "data": {
      "application/vnd.jupyter.widget-view+json": {
       "model_id": "5151cc9cb4284461a541711f270e7848",
       "version_major": 2,
       "version_minor": 0
      },
      "text/plain": [
       "GX4B1.mp4:   0%|          | 0.00/3.45M [00:00<?, ?B/s]"
      ]
     },
     "metadata": {},
     "output_type": "display_data"
    },
    {
     "data": {
      "application/vnd.jupyter.widget-view+json": {
       "model_id": "8b0746228dd148379b8388005401c142",
       "version_major": 2,
       "version_minor": 0
      },
      "text/plain": [
       "HQ8K2.mp4:   0%|          | 0.00/1.18M [00:00<?, ?B/s]"
      ]
     },
     "metadata": {},
     "output_type": "display_data"
    },
    {
     "data": {
      "application/vnd.jupyter.widget-view+json": {
       "model_id": "5f347824a72249f4adff4081349061ad",
       "version_major": 2,
       "version_minor": 0
      },
      "text/plain": [
       "IA7X9.mp4:   0%|          | 0.00/1.53M [00:00<?, ?B/s]"
      ]
     },
     "metadata": {},
     "output_type": "display_data"
    },
    {
     "data": {
      "application/vnd.jupyter.widget-view+json": {
       "model_id": "9753783d028d4c8a83965134ac8b3d9a",
       "version_major": 2,
       "version_minor": 0
      },
      "text/plain": [
       "IPH08.mp4:   0%|          | 0.00/1.02M [00:00<?, ?B/s]"
      ]
     },
     "metadata": {},
     "output_type": "display_data"
    },
    {
     "data": {
      "application/vnd.jupyter.widget-view+json": {
       "model_id": "b5de98688fae4f93aa2a3be81b464adf",
       "version_major": 2,
       "version_minor": 0
      },
      "text/plain": [
       "J53NS.mp4:   0%|          | 0.00/1.17M [00:00<?, ?B/s]"
      ]
     },
     "metadata": {},
     "output_type": "display_data"
    },
    {
     "data": {
      "application/vnd.jupyter.widget-view+json": {
       "model_id": "96e52098f2b04c9e87c7aa6c612c638d",
       "version_major": 2,
       "version_minor": 0
      },
      "text/plain": [
       "KEPDQ.mp4:   0%|          | 0.00/174k [00:00<?, ?B/s]"
      ]
     },
     "metadata": {},
     "output_type": "display_data"
    },
    {
     "data": {
      "application/vnd.jupyter.widget-view+json": {
       "model_id": "78c68cf9598b4b178b03bc3c1d1a9517",
       "version_major": 2,
       "version_minor": 0
      },
      "text/plain": [
       "JIS2Q.mp4:   0%|          | 0.00/521k [00:00<?, ?B/s]"
      ]
     },
     "metadata": {},
     "output_type": "display_data"
    },
    {
     "data": {
      "application/vnd.jupyter.widget-view+json": {
       "model_id": "57d25b20d01b4481b448548cb7a6fad5",
       "version_major": 2,
       "version_minor": 0
      },
      "text/plain": [
       "LRDW5.mp4:   0%|          | 0.00/1.10M [00:00<?, ?B/s]"
      ]
     },
     "metadata": {},
     "output_type": "display_data"
    },
    {
     "data": {
      "application/vnd.jupyter.widget-view+json": {
       "model_id": "0b1da62d7551488098a6f993fdd9cff7",
       "version_major": 2,
       "version_minor": 0
      },
      "text/plain": [
       "M79TJ.mp4:   0%|          | 0.00/1.26M [00:00<?, ?B/s]"
      ]
     },
     "metadata": {},
     "output_type": "display_data"
    },
    {
     "data": {
      "application/vnd.jupyter.widget-view+json": {
       "model_id": "fc5c1e254b6341e3b6768e0bcea0a095",
       "version_major": 2,
       "version_minor": 0
      },
      "text/plain": [
       "MLS4T.mp4:   0%|          | 0.00/1.58M [00:00<?, ?B/s]"
      ]
     },
     "metadata": {},
     "output_type": "display_data"
    },
    {
     "data": {
      "application/vnd.jupyter.widget-view+json": {
       "model_id": "4c734a78dd5b455fbcf1999b146616f3",
       "version_major": 2,
       "version_minor": 0
      },
      "text/plain": [
       "NYDRK.mp4:   0%|          | 0.00/2.14M [00:00<?, ?B/s]"
      ]
     },
     "metadata": {},
     "output_type": "display_data"
    },
    {
     "data": {
      "application/vnd.jupyter.widget-view+json": {
       "model_id": "0f633612c39947e7a1b66c8168d7b651",
       "version_major": 2,
       "version_minor": 0
      },
      "text/plain": [
       "OADOE.mp4:   0%|          | 0.00/1.25M [00:00<?, ?B/s]"
      ]
     },
     "metadata": {},
     "output_type": "display_data"
    },
    {
     "data": {
      "application/vnd.jupyter.widget-view+json": {
       "model_id": "97a667dce91b4397bbc3c43e442f977a",
       "version_major": 2,
       "version_minor": 0
      },
      "text/plain": [
       "OPPVW.mp4:   0%|          | 0.00/1.69M [00:00<?, ?B/s]"
      ]
     },
     "metadata": {},
     "output_type": "display_data"
    },
    {
     "data": {
      "application/vnd.jupyter.widget-view+json": {
       "model_id": "35486bc6612f486cb5aec26be1ff4a2d",
       "version_major": 2,
       "version_minor": 0
      },
      "text/plain": [
       "PK2F0.mp4:   0%|          | 0.00/1.37M [00:00<?, ?B/s]"
      ]
     },
     "metadata": {},
     "output_type": "display_data"
    },
    {
     "data": {
      "application/vnd.jupyter.widget-view+json": {
       "model_id": "8c01eae422ea4b6fbacf1af2f68e79b7",
       "version_major": 2,
       "version_minor": 0
      },
      "text/plain": [
       "P36YW.mp4:   0%|          | 0.00/1.50M [00:00<?, ?B/s]"
      ]
     },
     "metadata": {},
     "output_type": "display_data"
    },
    {
     "data": {
      "application/vnd.jupyter.widget-view+json": {
       "model_id": "8b4f9635e0674ff2b1645f68dd0c8d3f",
       "version_major": 2,
       "version_minor": 0
      },
      "text/plain": [
       "P23HN.mp4:   0%|          | 0.00/2.08M [00:00<?, ?B/s]"
      ]
     },
     "metadata": {},
     "output_type": "display_data"
    },
    {
     "data": {
      "application/vnd.jupyter.widget-view+json": {
       "model_id": "2d0f8454fa3c4ca1b1361d391562b901",
       "version_major": 2,
       "version_minor": 0
      },
      "text/plain": [
       "RIE30.mp4:   0%|          | 0.00/465k [00:00<?, ?B/s]"
      ]
     },
     "metadata": {},
     "output_type": "display_data"
    },
    {
     "data": {
      "application/vnd.jupyter.widget-view+json": {
       "model_id": "c1b3c949ecda47c794070d597185305f",
       "version_major": 2,
       "version_minor": 0
      },
      "text/plain": [
       "RTEO8.mp4:   0%|          | 0.00/1.26M [00:00<?, ?B/s]"
      ]
     },
     "metadata": {},
     "output_type": "display_data"
    },
    {
     "data": {
      "application/vnd.jupyter.widget-view+json": {
       "model_id": "2e5810b452274121a085f42d2e04316c",
       "version_major": 2,
       "version_minor": 0
      },
      "text/plain": [
       "RVV5Q.mp4:   0%|          | 0.00/1.16M [00:00<?, ?B/s]"
      ]
     },
     "metadata": {},
     "output_type": "display_data"
    },
    {
     "data": {
      "application/vnd.jupyter.widget-view+json": {
       "model_id": "fc015a499b8f4f90992b234f95dca620",
       "version_major": 2,
       "version_minor": 0
      },
      "text/plain": [
       "XF93D.mp4:   0%|          | 0.00/788k [00:00<?, ?B/s]"
      ]
     },
     "metadata": {},
     "output_type": "display_data"
    },
    {
     "data": {
      "application/vnd.jupyter.widget-view+json": {
       "model_id": "7415a19579ce438d85efd033d6c1a5f2",
       "version_major": 2,
       "version_minor": 0
      },
      "text/plain": [
       "Y1HOV.mp4:   0%|          | 0.00/955k [00:00<?, ?B/s]"
      ]
     },
     "metadata": {},
     "output_type": "display_data"
    },
    {
     "data": {
      "application/vnd.jupyter.widget-view+json": {
       "model_id": "f17fa0bc07d24bf2b27fc392c176880d",
       "version_major": 2,
       "version_minor": 0
      },
      "text/plain": [
       "Y91JG.mp4:   0%|          | 0.00/919k [00:00<?, ?B/s]"
      ]
     },
     "metadata": {},
     "output_type": "display_data"
    },
    {
     "data": {
      "application/vnd.jupyter.widget-view+json": {
       "model_id": "3fc0eeabf7fa4451b223f9e816e50691",
       "version_major": 2,
       "version_minor": 0
      },
      "text/plain": [
       "YLEEO.mp4:   0%|          | 0.00/895k [00:00<?, ?B/s]"
      ]
     },
     "metadata": {},
     "output_type": "display_data"
    },
    {
     "data": {
      "application/vnd.jupyter.widget-view+json": {
       "model_id": "6111c8abdee74e039e157d906af51e35",
       "version_major": 2,
       "version_minor": 0
      },
      "text/plain": [
       "4255049031.mp4:   0%|          | 0.00/2.60M [00:00<?, ?B/s]"
      ]
     },
     "metadata": {},
     "output_type": "display_data"
    },
    {
     "data": {
      "application/vnd.jupyter.widget-view+json": {
       "model_id": "c49f5f5a08f4490abeb807ad5bd441bc",
       "version_major": 2,
       "version_minor": 0
      },
      "text/plain": [
       "Y2QUJ.mp4:   0%|          | 0.00/287k [00:00<?, ?B/s]"
      ]
     },
     "metadata": {},
     "output_type": "display_data"
    },
    {
     "data": {
      "application/vnd.jupyter.widget-view+json": {
       "model_id": "50f87383b6c6408c8aefb1f5fdfec2cb",
       "version_major": 2,
       "version_minor": 0
      },
      "text/plain": [
       "2400900222.mp4:   0%|          | 0.00/1.04M [00:00<?, ?B/s]"
      ]
     },
     "metadata": {},
     "output_type": "display_data"
    },
    {
     "data": {
      "application/vnd.jupyter.widget-view+json": {
       "model_id": "fde0fd04647f4d2ba65eb30a51199c62",
       "version_major": 2,
       "version_minor": 0
      },
      "text/plain": [
       "4333253921.mp4:   0%|          | 0.00/1.63M [00:00<?, ?B/s]"
      ]
     },
     "metadata": {},
     "output_type": "display_data"
    },
    {
     "data": {
      "application/vnd.jupyter.widget-view+json": {
       "model_id": "003dd5bc07f9482cb2340a37617b566b",
       "version_major": 2,
       "version_minor": 0
      },
      "text/plain": [
       "6972796508.mp4:   0%|          | 0.00/2.36M [00:00<?, ?B/s]"
      ]
     },
     "metadata": {},
     "output_type": "display_data"
    },
    {
     "data": {
      "application/vnd.jupyter.widget-view+json": {
       "model_id": "9894a414a0a74c5d9de79564475c713f",
       "version_major": 2,
       "version_minor": 0
      },
      "text/plain": [
       "3938939252.mp4:   0%|          | 0.00/1.83M [00:00<?, ?B/s]"
      ]
     },
     "metadata": {},
     "output_type": "display_data"
    },
    {
     "data": {
      "application/vnd.jupyter.widget-view+json": {
       "model_id": "9fce7a7afa4a472b82dc82af28c9a3f1",
       "version_major": 2,
       "version_minor": 0
      },
      "text/plain": [
       "3434972730.mp4:   0%|          | 0.00/1.97M [00:00<?, ?B/s]"
      ]
     },
     "metadata": {},
     "output_type": "display_data"
    },
    {
     "data": {
      "application/vnd.jupyter.widget-view+json": {
       "model_id": "091b700bdf43449abef081efd6aac281",
       "version_major": 2,
       "version_minor": 0
      },
      "text/plain": [
       "6554011281.mp4:   0%|          | 0.00/2.17M [00:00<?, ?B/s]"
      ]
     },
     "metadata": {},
     "output_type": "display_data"
    },
    {
     "data": {
      "application/vnd.jupyter.widget-view+json": {
       "model_id": "399985ab48ca41c9be406d2d76d5e0b4",
       "version_major": 2,
       "version_minor": 0
      },
      "text/plain": [
       "9520717551.mp4:   0%|          | 0.00/1.56M [00:00<?, ?B/s]"
      ]
     },
     "metadata": {},
     "output_type": "display_data"
    },
    {
     "data": {
      "application/vnd.jupyter.widget-view+json": {
       "model_id": "136d8fde8ff34b4db9a3dddfc594f5e2",
       "version_major": 2,
       "version_minor": 0
      },
      "text/plain": [
       "5327124144.mp4:   0%|          | 0.00/2.80M [00:00<?, ?B/s]"
      ]
     },
     "metadata": {},
     "output_type": "display_data"
    },
    {
     "data": {
      "application/vnd.jupyter.widget-view+json": {
       "model_id": "213ed4c235d245b19348fe2ff8ed3b9c",
       "version_major": 2,
       "version_minor": 0
      },
      "text/plain": [
       "4164771889.mp4:   0%|          | 0.00/1.74M [00:00<?, ?B/s]"
      ]
     },
     "metadata": {},
     "output_type": "display_data"
    },
    {
     "data": {
      "application/vnd.jupyter.widget-view+json": {
       "model_id": "2a7d4ff8577a45e5b7ece4ed76e223d0",
       "version_major": 2,
       "version_minor": 0
      },
      "text/plain": [
       "6179595616.mp4:   0%|          | 0.00/1.44M [00:00<?, ?B/s]"
      ]
     },
     "metadata": {},
     "output_type": "display_data"
    },
    {
     "data": {
      "application/vnd.jupyter.widget-view+json": {
       "model_id": "f3788e980ce94267af14d0f75bbb2bf9",
       "version_major": 2,
       "version_minor": 0
      },
      "text/plain": [
       "5250826364.mp4:   0%|          | 0.00/2.39M [00:00<?, ?B/s]"
      ]
     },
     "metadata": {},
     "output_type": "display_data"
    },
    {
     "data": {
      "application/vnd.jupyter.widget-view+json": {
       "model_id": "ad8bcaa86e9d482885ce21883dd639c9",
       "version_major": 2,
       "version_minor": 0
      },
      "text/plain": [
       "6537701021.mp4:   0%|          | 0.00/2.57M [00:00<?, ?B/s]"
      ]
     },
     "metadata": {},
     "output_type": "display_data"
    },
    {
     "data": {
      "application/vnd.jupyter.widget-view+json": {
       "model_id": "96c4bb48d1ba45cb8078fbf859ca0c59",
       "version_major": 2,
       "version_minor": 0
      },
      "text/plain": [
       "10622567214.mp4:   0%|          | 0.00/2.02M [00:00<?, ?B/s]"
      ]
     },
     "metadata": {},
     "output_type": "display_data"
    },
    {
     "data": {
      "application/vnd.jupyter.widget-view+json": {
       "model_id": "1c9d65b4589d4e3897cdb429c86c10d0",
       "version_major": 2,
       "version_minor": 0
      },
      "text/plain": [
       "3134451316.mp4:   0%|          | 0.00/2.00M [00:00<?, ?B/s]"
      ]
     },
     "metadata": {},
     "output_type": "display_data"
    },
    {
     "data": {
      "application/vnd.jupyter.widget-view+json": {
       "model_id": "10b71619a0df45deb80636efee6507b1",
       "version_major": 2,
       "version_minor": 0
      },
      "text/plain": [
       "7961460440.mp4:   0%|          | 0.00/1.30M [00:00<?, ?B/s]"
      ]
     },
     "metadata": {},
     "output_type": "display_data"
    },
    {
     "data": {
      "application/vnd.jupyter.widget-view+json": {
       "model_id": "4a4ab4f62ef542469d0c34ab2a62fa90",
       "version_major": 2,
       "version_minor": 0
      },
      "text/plain": [
       "7383417060.mp4:   0%|          | 0.00/2.66M [00:00<?, ?B/s]"
      ]
     },
     "metadata": {},
     "output_type": "display_data"
    },
    {
     "data": {
      "application/vnd.jupyter.widget-view+json": {
       "model_id": "b711fb121c324d4a9e985ff80b129cb0",
       "version_major": 2,
       "version_minor": 0
      },
      "text/plain": [
       "v_2RxbcK90TeA.mp4:   0%|          | 0.00/5.89M [00:00<?, ?B/s]"
      ]
     },
     "metadata": {},
     "output_type": "display_data"
    },
    {
     "data": {
      "application/vnd.jupyter.widget-view+json": {
       "model_id": "7c439c4feb0940e19e211f9c52d5c03c",
       "version_major": 2,
       "version_minor": 0
      },
      "text/plain": [
       "v_3SLaaTD8t3Q.mp4:   0%|          | 0.00/1.27M [00:00<?, ?B/s]"
      ]
     },
     "metadata": {},
     "output_type": "display_data"
    },
    {
     "data": {
      "application/vnd.jupyter.widget-view+json": {
       "model_id": "4f2898be18764f2b8a1442245748c077",
       "version_major": 2,
       "version_minor": 0
      },
      "text/plain": [
       "v_7lNAmkaMyyg.mp4:   0%|          | 0.00/3.88M [00:00<?, ?B/s]"
      ]
     },
     "metadata": {},
     "output_type": "display_data"
    },
    {
     "data": {
      "application/vnd.jupyter.widget-view+json": {
       "model_id": "fb44d5f90f6547c0b082eda6b53b9604",
       "version_major": 2,
       "version_minor": 0
      },
      "text/plain": [
       "v_92kGXXfm6ok.mp4:   0%|          | 0.00/5.74M [00:00<?, ?B/s]"
      ]
     },
     "metadata": {},
     "output_type": "display_data"
    },
    {
     "data": {
      "application/vnd.jupyter.widget-view+json": {
       "model_id": "8e68df901e264391b0e61977844a2475",
       "version_major": 2,
       "version_minor": 0
      },
      "text/plain": [
       "v_7wBrvMGZROQ.mp4:   0%|          | 0.00/358k [00:00<?, ?B/s]"
      ]
     },
     "metadata": {},
     "output_type": "display_data"
    },
    {
     "data": {
      "application/vnd.jupyter.widget-view+json": {
       "model_id": "1bd889c5f22e40dc8b3e4faeb3a88aa4",
       "version_major": 2,
       "version_minor": 0
      },
      "text/plain": [
       "v_YZvdzvM-124.mp4:   0%|          | 0.00/384k [00:00<?, ?B/s]"
      ]
     },
     "metadata": {},
     "output_type": "display_data"
    },
    {
     "data": {
      "application/vnd.jupyter.widget-view+json": {
       "model_id": "9139b2361f13476cbc6b5c79f539a01b",
       "version_major": 2,
       "version_minor": 0
      },
      "text/plain": [
       "v_IcfWEKjl_AY.mp4:   0%|          | 0.00/1.81M [00:00<?, ?B/s]"
      ]
     },
     "metadata": {},
     "output_type": "display_data"
    },
    {
     "data": {
      "application/vnd.jupyter.widget-view+json": {
       "model_id": "dceab4d9316147c29ebc87d9d4b6b1a4",
       "version_major": 2,
       "version_minor": 0
      },
      "text/plain": [
       "v_AOteP9srRpw.mp4:   0%|          | 0.00/691k [00:00<?, ?B/s]"
      ]
     },
     "metadata": {},
     "output_type": "display_data"
    },
    {
     "data": {
      "application/vnd.jupyter.widget-view+json": {
       "model_id": "e10fced755b34d11b9951ed2e43b44e9",
       "version_major": 2,
       "version_minor": 0
      },
      "text/plain": [
       "v_FCe1NVTbaZ4.mp4:   0%|          | 0.00/544k [00:00<?, ?B/s]"
      ]
     },
     "metadata": {},
     "output_type": "display_data"
    },
    {
     "data": {
      "application/vnd.jupyter.widget-view+json": {
       "model_id": "b360e5439cb048048c8bdb2da49c656d",
       "version_major": 2,
       "version_minor": 0
      },
      "text/plain": [
       "v_dHzX9NqyBZw.mp4:   0%|          | 0.00/1.49M [00:00<?, ?B/s]"
      ]
     },
     "metadata": {},
     "output_type": "display_data"
    },
    {
     "data": {
      "application/vnd.jupyter.widget-view+json": {
       "model_id": "4a9d5a9b825d486f8ca129b95ff992c2",
       "version_major": 2,
       "version_minor": 0
      },
      "text/plain": [
       "v_i2e67kStfk4.mp4:   0%|          | 0.00/3.39M [00:00<?, ?B/s]"
      ]
     },
     "metadata": {},
     "output_type": "display_data"
    },
    {
     "data": {
      "application/vnd.jupyter.widget-view+json": {
       "model_id": "18ae839c7a2e424782330349871609c8",
       "version_major": 2,
       "version_minor": 0
      },
      "text/plain": [
       "v_sGFbsMKkoYs.mp4:   0%|          | 0.00/580k [00:00<?, ?B/s]"
      ]
     },
     "metadata": {},
     "output_type": "display_data"
    },
    {
     "data": {
      "application/vnd.jupyter.widget-view+json": {
       "model_id": "02324930a75f4b13bad247553de4523d",
       "version_major": 2,
       "version_minor": 0
      },
      "text/plain": [
       "split_6.mp4:   0%|          | 0.00/13.7M [00:00<?, ?B/s]"
      ]
     },
     "metadata": {},
     "output_type": "display_data"
    },
    {
     "data": {
      "application/vnd.jupyter.widget-view+json": {
       "model_id": "95bba65a5ab54b48a0bfe20ebc351e12",
       "version_major": 2,
       "version_minor": 0
      },
      "text/plain": [
       "v_yVsOoFr61x4.mp4:   0%|          | 0.00/6.81M [00:00<?, ?B/s]"
      ]
     },
     "metadata": {},
     "output_type": "display_data"
    },
    {
     "data": {
      "application/vnd.jupyter.widget-view+json": {
       "model_id": "84204b12d3ea4c818c9d6ce02ef0b07e",
       "version_major": 2,
       "version_minor": 0
      },
      "text/plain": [
       "split_6.mp4:   0%|          | 0.00/13.8M [00:00<?, ?B/s]"
      ]
     },
     "metadata": {},
     "output_type": "display_data"
    },
    {
     "data": {
      "application/vnd.jupyter.widget-view+json": {
       "model_id": "f7907482237f4ab3b549ffe872f0c302",
       "version_major": 2,
       "version_minor": 0
      },
      "text/plain": [
       "split_3.mp4:   0%|          | 0.00/1.32M [00:00<?, ?B/s]"
      ]
     },
     "metadata": {},
     "output_type": "display_data"
    },
    {
     "data": {
      "application/vnd.jupyter.widget-view+json": {
       "model_id": "921eb72b6db04f9bb23b1c29b55470cc",
       "version_major": 2,
       "version_minor": 0
      },
      "text/plain": [
       "split_8.mp4:   0%|          | 0.00/1.52M [00:00<?, ?B/s]"
      ]
     },
     "metadata": {},
     "output_type": "display_data"
    },
    {
     "data": {
      "application/vnd.jupyter.widget-view+json": {
       "model_id": "d18f0fa197764404b7b040eb6872f051",
       "version_major": 2,
       "version_minor": 0
      },
      "text/plain": [
       "split_2.mp4:   0%|          | 0.00/2.83M [00:00<?, ?B/s]"
      ]
     },
     "metadata": {},
     "output_type": "display_data"
    },
    {
     "data": {
      "application/vnd.jupyter.widget-view+json": {
       "model_id": "b1cd4579635f442caed4c020529835dc",
       "version_major": 2,
       "version_minor": 0
      },
      "text/plain": [
       "split_1.mp4:   0%|          | 0.00/1.30M [00:00<?, ?B/s]"
      ]
     },
     "metadata": {},
     "output_type": "display_data"
    },
    {
     "data": {
      "application/vnd.jupyter.widget-view+json": {
       "model_id": "72b98c90ecd144c6a314139d08f7a633",
       "version_major": 2,
       "version_minor": 0
      },
      "text/plain": [
       "split_2.mp4:   0%|          | 0.00/448k [00:00<?, ?B/s]"
      ]
     },
     "metadata": {},
     "output_type": "display_data"
    },
    {
     "data": {
      "application/vnd.jupyter.widget-view+json": {
       "model_id": "2c736edce4f944ff8422747db02f64c3",
       "version_major": 2,
       "version_minor": 0
      },
      "text/plain": [
       "split_0.mp4:   0%|          | 0.00/1.91M [00:00<?, ?B/s]"
      ]
     },
     "metadata": {},
     "output_type": "display_data"
    },
    {
     "data": {
      "application/vnd.jupyter.widget-view+json": {
       "model_id": "3239c0db3eda4f409ebc784ec8caebc7",
       "version_major": 2,
       "version_minor": 0
      },
      "text/plain": [
       "split_1.mp4:   0%|          | 0.00/3.22M [00:00<?, ?B/s]"
      ]
     },
     "metadata": {},
     "output_type": "display_data"
    },
    {
     "data": {
      "application/vnd.jupyter.widget-view+json": {
       "model_id": "c2e51bbb7f394d32ac555d3bfb060bb8",
       "version_major": 2,
       "version_minor": 0
      },
      "text/plain": [
       "split_8.mp4:   0%|          | 0.00/2.53M [00:00<?, ?B/s]"
      ]
     },
     "metadata": {},
     "output_type": "display_data"
    },
    {
     "data": {
      "application/vnd.jupyter.widget-view+json": {
       "model_id": "c70115bfcd674e0f9f66de0113aded49",
       "version_major": 2,
       "version_minor": 0
      },
      "text/plain": [
       "split_6.mp4:   0%|          | 0.00/3.35M [00:00<?, ?B/s]"
      ]
     },
     "metadata": {},
     "output_type": "display_data"
    },
    {
     "data": {
      "application/vnd.jupyter.widget-view+json": {
       "model_id": "8b1c297121fb4036939d7d7605e98746",
       "version_major": 2,
       "version_minor": 0
      },
      "text/plain": [
       "split_0.mp4:   0%|          | 0.00/12.0M [00:00<?, ?B/s]"
      ]
     },
     "metadata": {},
     "output_type": "display_data"
    },
    {
     "data": {
      "application/vnd.jupyter.widget-view+json": {
       "model_id": "91c51b4e6a2744dead1887b3ffb5a906",
       "version_major": 2,
       "version_minor": 0
      },
      "text/plain": [
       "split_3.mp4:   0%|          | 0.00/9.20M [00:00<?, ?B/s]"
      ]
     },
     "metadata": {},
     "output_type": "display_data"
    },
    {
     "data": {
      "application/vnd.jupyter.widget-view+json": {
       "model_id": "1381f2ff410b4e03aae9ecad6c0dd994",
       "version_major": 2,
       "version_minor": 0
      },
      "text/plain": [
       "split_8.mp4:   0%|          | 0.00/7.70M [00:00<?, ?B/s]"
      ]
     },
     "metadata": {},
     "output_type": "display_data"
    },
    {
     "data": {
      "application/vnd.jupyter.widget-view+json": {
       "model_id": "85c4cee8effe41d38eb6032fd53c0f44",
       "version_major": 2,
       "version_minor": 0
      },
      "text/plain": [
       "split_3.mp4:   0%|          | 0.00/5.46M [00:00<?, ?B/s]"
      ]
     },
     "metadata": {},
     "output_type": "display_data"
    },
    {
     "data": {
      "application/vnd.jupyter.widget-view+json": {
       "model_id": "772da0fe994042c48e62133b47f9d7ae",
       "version_major": 2,
       "version_minor": 0
      },
      "text/plain": [
       "split_5.mp4:   0%|          | 0.00/3.15M [00:00<?, ?B/s]"
      ]
     },
     "metadata": {},
     "output_type": "display_data"
    },
    {
     "data": {
      "application/vnd.jupyter.widget-view+json": {
       "model_id": "b7dadc5b30d043cd967f43b4488cd0b6",
       "version_major": 2,
       "version_minor": 0
      },
      "text/plain": [
       "split_14.mp4:   0%|          | 0.00/8.03M [00:00<?, ?B/s]"
      ]
     },
     "metadata": {},
     "output_type": "display_data"
    },
    {
     "data": {
      "application/vnd.jupyter.widget-view+json": {
       "model_id": "945e2219231c445384373d06bdd4fcae",
       "version_major": 2,
       "version_minor": 0
      },
      "text/plain": [
       "split_9.mp4:   0%|          | 0.00/2.99M [00:00<?, ?B/s]"
      ]
     },
     "metadata": {},
     "output_type": "display_data"
    },
    {
     "data": {
      "application/vnd.jupyter.widget-view+json": {
       "model_id": "1aa25a506c264abc9c8b794ce49093b0",
       "version_major": 2,
       "version_minor": 0
      },
      "text/plain": [
       "split_0.mp4:   0%|          | 0.00/4.14M [00:00<?, ?B/s]"
      ]
     },
     "metadata": {},
     "output_type": "display_data"
    },
    {
     "data": {
      "application/vnd.jupyter.widget-view+json": {
       "model_id": "924917a2c54d48a1ad3f3d40387e9348",
       "version_major": 2,
       "version_minor": 0
      },
      "text/plain": [
       "split_0.mp4:   0%|          | 0.00/9.58M [00:00<?, ?B/s]"
      ]
     },
     "metadata": {},
     "output_type": "display_data"
    },
    {
     "data": {
      "application/vnd.jupyter.widget-view+json": {
       "model_id": "a2880ab2277e4f98803db33d196438c0",
       "version_major": 2,
       "version_minor": 0
      },
      "text/plain": [
       "split_4.mp4:   0%|          | 0.00/8.50M [00:00<?, ?B/s]"
      ]
     },
     "metadata": {},
     "output_type": "display_data"
    },
    {
     "data": {
      "application/vnd.jupyter.widget-view+json": {
       "model_id": "5d5150cc76854ca79d29231eb9e682df",
       "version_major": 2,
       "version_minor": 0
      },
      "text/plain": [
       "split_2.mp4:   0%|          | 0.00/2.26M [00:00<?, ?B/s]"
      ]
     },
     "metadata": {},
     "output_type": "display_data"
    },
    {
     "data": {
      "application/vnd.jupyter.widget-view+json": {
       "model_id": "39ea831b9e6f4d6ba1285b1e02dbfa64",
       "version_major": 2,
       "version_minor": 0
      },
      "text/plain": [
       "split_6.mp4:   0%|          | 0.00/3.56M [00:00<?, ?B/s]"
      ]
     },
     "metadata": {},
     "output_type": "display_data"
    },
    {
     "data": {
      "application/vnd.jupyter.widget-view+json": {
       "model_id": "85c317ede6be4434baec8dae0423e79d",
       "version_major": 2,
       "version_minor": 0
      },
      "text/plain": [
       "split_3.mp4:   0%|          | 0.00/1.52M [00:00<?, ?B/s]"
      ]
     },
     "metadata": {},
     "output_type": "display_data"
    },
    {
     "data": {
      "application/vnd.jupyter.widget-view+json": {
       "model_id": "bf11279c333a4c7b8c5f7192980a7baa",
       "version_major": 2,
       "version_minor": 0
      },
      "text/plain": [
       "split_4.mp4:   0%|          | 0.00/4.10M [00:00<?, ?B/s]"
      ]
     },
     "metadata": {},
     "output_type": "display_data"
    },
    {
     "data": {
      "application/vnd.jupyter.widget-view+json": {
       "model_id": "d09416c6095349708291d30bb01eabb1",
       "version_major": 2,
       "version_minor": 0
      },
      "text/plain": [
       "split_3.mp4:   0%|          | 0.00/4.09M [00:00<?, ?B/s]"
      ]
     },
     "metadata": {},
     "output_type": "display_data"
    },
    {
     "data": {
      "application/vnd.jupyter.widget-view+json": {
       "model_id": "b8ce446e75294efab644fe73d9a618f4",
       "version_major": 2,
       "version_minor": 0
      },
      "text/plain": [
       "split_2.mp4:   0%|          | 0.00/5.08M [00:00<?, ?B/s]"
      ]
     },
     "metadata": {},
     "output_type": "display_data"
    },
    {
     "data": {
      "application/vnd.jupyter.widget-view+json": {
       "model_id": "b3a06cdbb28a4b24b6129b151b838d5f",
       "version_major": 2,
       "version_minor": 0
      },
      "text/plain": [
       "split_3.mp4:   0%|          | 0.00/5.47M [00:00<?, ?B/s]"
      ]
     },
     "metadata": {},
     "output_type": "display_data"
    },
    {
     "data": {
      "application/vnd.jupyter.widget-view+json": {
       "model_id": "2ca9bb6d37b04769847c0bee9dc07a1b",
       "version_major": 2,
       "version_minor": 0
      },
      "text/plain": [
       "split_4.mp4:   0%|          | 0.00/5.37M [00:00<?, ?B/s]"
      ]
     },
     "metadata": {},
     "output_type": "display_data"
    },
    {
     "data": {
      "application/vnd.jupyter.widget-view+json": {
       "model_id": "8ae6c389012e42f78988f6dfc26adc69",
       "version_major": 2,
       "version_minor": 0
      },
      "text/plain": [
       "split_1.mp4:   0%|          | 0.00/446k [00:00<?, ?B/s]"
      ]
     },
     "metadata": {},
     "output_type": "display_data"
    },
    {
     "data": {
      "application/vnd.jupyter.widget-view+json": {
       "model_id": "0096f703aa184b66b790aa27acebc582",
       "version_major": 2,
       "version_minor": 0
      },
      "text/plain": [
       "split_8.mp4:   0%|          | 0.00/12.9M [00:00<?, ?B/s]"
      ]
     },
     "metadata": {},
     "output_type": "display_data"
    },
    {
     "data": {
      "application/vnd.jupyter.widget-view+json": {
       "model_id": "2075ba3f99024c318a60b90b7b766653",
       "version_major": 2,
       "version_minor": 0
      },
      "text/plain": [
       "split_6.mp4:   0%|          | 0.00/11.2M [00:00<?, ?B/s]"
      ]
     },
     "metadata": {},
     "output_type": "display_data"
    },
    {
     "data": {
      "application/vnd.jupyter.widget-view+json": {
       "model_id": "0aaa2dcab85840028535257ea0751a6f",
       "version_major": 2,
       "version_minor": 0
      },
      "text/plain": [
       "split_6.mp4:   0%|          | 0.00/1.50M [00:00<?, ?B/s]"
      ]
     },
     "metadata": {},
     "output_type": "display_data"
    },
    {
     "data": {
      "application/vnd.jupyter.widget-view+json": {
       "model_id": "e44d52a5ba294c7598e6b65894f80966",
       "version_major": 2,
       "version_minor": 0
      },
      "text/plain": [
       "split_3.mp4:   0%|          | 0.00/4.11M [00:00<?, ?B/s]"
      ]
     },
     "metadata": {},
     "output_type": "display_data"
    },
    {
     "data": {
      "application/vnd.jupyter.widget-view+json": {
       "model_id": "92d72197bdd84d5d85c72f4bb7c1a81a",
       "version_major": 2,
       "version_minor": 0
      },
      "text/plain": [
       "split_0.mp4:   0%|          | 0.00/1.25M [00:00<?, ?B/s]"
      ]
     },
     "metadata": {},
     "output_type": "display_data"
    },
    {
     "data": {
      "application/vnd.jupyter.widget-view+json": {
       "model_id": "01cc3e80d86e423188f4af39c97556a6",
       "version_major": 2,
       "version_minor": 0
      },
      "text/plain": [
       "split_0.mp4:   0%|          | 0.00/2.24M [00:00<?, ?B/s]"
      ]
     },
     "metadata": {},
     "output_type": "display_data"
    },
    {
     "data": {
      "application/vnd.jupyter.widget-view+json": {
       "model_id": "a79fd78f97524488890939e06ebe918b",
       "version_major": 2,
       "version_minor": 0
      },
      "text/plain": [
       "split_1.mp4:   0%|          | 0.00/1.43M [00:00<?, ?B/s]"
      ]
     },
     "metadata": {},
     "output_type": "display_data"
    },
    {
     "data": {
      "application/vnd.jupyter.widget-view+json": {
       "model_id": "8195a12ef6c54dcf8c186c9ba15cc797",
       "version_major": 2,
       "version_minor": 0
      },
      "text/plain": [
       "split_1.mp4:   0%|          | 0.00/7.52M [00:00<?, ?B/s]"
      ]
     },
     "metadata": {},
     "output_type": "display_data"
    },
    {
     "data": {
      "application/vnd.jupyter.widget-view+json": {
       "model_id": "4f81b4f1c2e74d0ea8ae7f60f268e268",
       "version_major": 2,
       "version_minor": 0
      },
      "text/plain": [
       "split_2.mp4:   0%|          | 0.00/5.21M [00:00<?, ?B/s]"
      ]
     },
     "metadata": {},
     "output_type": "display_data"
    },
    {
     "data": {
      "application/vnd.jupyter.widget-view+json": {
       "model_id": "aebfeda983934f4d8f3b053a9f1be844",
       "version_major": 2,
       "version_minor": 0
      },
      "text/plain": [
       "split_7.mp4:   0%|          | 0.00/5.10M [00:00<?, ?B/s]"
      ]
     },
     "metadata": {},
     "output_type": "display_data"
    },
    {
     "data": {
      "application/vnd.jupyter.widget-view+json": {
       "model_id": "27725ebaed8c43658b3c825bf0e728bc",
       "version_major": 2,
       "version_minor": 0
      },
      "text/plain": [
       "split_6.mp4:   0%|          | 0.00/2.40M [00:00<?, ?B/s]"
      ]
     },
     "metadata": {},
     "output_type": "display_data"
    },
    {
     "data": {
      "application/vnd.jupyter.widget-view+json": {
       "model_id": "a290c2429454411e99b0c5247367d4b1",
       "version_major": 2,
       "version_minor": 0
      },
      "text/plain": [
       "split_4.mp4:   0%|          | 0.00/2.57M [00:00<?, ?B/s]"
      ]
     },
     "metadata": {},
     "output_type": "display_data"
    },
    {
     "data": {
      "application/vnd.jupyter.widget-view+json": {
       "model_id": "edf3275b93964525b10a36f4dcecb2f5",
       "version_major": 2,
       "version_minor": 0
      },
      "text/plain": [
       "split_13.mp4:   0%|          | 0.00/3.93M [00:00<?, ?B/s]"
      ]
     },
     "metadata": {},
     "output_type": "display_data"
    },
    {
     "data": {
      "application/vnd.jupyter.widget-view+json": {
       "model_id": "8ed954147fbe4bd6a8a7fb6652b8a29e",
       "version_major": 2,
       "version_minor": 0
      },
      "text/plain": [
       "split_0.mp4:   0%|          | 0.00/2.38M [00:00<?, ?B/s]"
      ]
     },
     "metadata": {},
     "output_type": "display_data"
    },
    {
     "data": {
      "application/vnd.jupyter.widget-view+json": {
       "model_id": "5736b5eaede549e1b7d3b832d68ee783",
       "version_major": 2,
       "version_minor": 0
      },
      "text/plain": [
       "split_5.mp4:   0%|          | 0.00/19.7M [00:00<?, ?B/s]"
      ]
     },
     "metadata": {},
     "output_type": "display_data"
    },
    {
     "data": {
      "application/vnd.jupyter.widget-view+json": {
       "model_id": "da3842989a0b403f8729b3e5ba33023e",
       "version_major": 2,
       "version_minor": 0
      },
      "text/plain": [
       "split_3.mp4:   0%|          | 0.00/1.31M [00:00<?, ?B/s]"
      ]
     },
     "metadata": {},
     "output_type": "display_data"
    },
    {
     "data": {
      "application/vnd.jupyter.widget-view+json": {
       "model_id": "cdad0d8ce04b4e1595d732234342ac17",
       "version_major": 2,
       "version_minor": 0
      },
      "text/plain": [
       "split_2.mp4:   0%|          | 0.00/665k [00:00<?, ?B/s]"
      ]
     },
     "metadata": {},
     "output_type": "display_data"
    },
    {
     "data": {
      "application/vnd.jupyter.widget-view+json": {
       "model_id": "5752a27ea43b4e439e8afa46eab7cf5f",
       "version_major": 2,
       "version_minor": 0
      },
      "text/plain": [
       "split_8.mp4:   0%|          | 0.00/16.1M [00:00<?, ?B/s]"
      ]
     },
     "metadata": {},
     "output_type": "display_data"
    },
    {
     "data": {
      "application/vnd.jupyter.widget-view+json": {
       "model_id": "a3d2dcfbc6be424ead6aab37aaeb5256",
       "version_major": 2,
       "version_minor": 0
      },
      "text/plain": [
       "split_5.mp4:   0%|          | 0.00/6.61M [00:00<?, ?B/s]"
      ]
     },
     "metadata": {},
     "output_type": "display_data"
    },
    {
     "data": {
      "application/vnd.jupyter.widget-view+json": {
       "model_id": "be48093adb5c48f6881fa1fe190fc8d5",
       "version_major": 2,
       "version_minor": 0
      },
      "text/plain": [
       "split_3.mp4:   0%|          | 0.00/4.08M [00:00<?, ?B/s]"
      ]
     },
     "metadata": {},
     "output_type": "display_data"
    },
    {
     "data": {
      "application/vnd.jupyter.widget-view+json": {
       "model_id": "9dd9c1f84ca644599df31805ec9082d4",
       "version_major": 2,
       "version_minor": 0
      },
      "text/plain": [
       "split_3.mp4:   0%|          | 0.00/1.98M [00:00<?, ?B/s]"
      ]
     },
     "metadata": {},
     "output_type": "display_data"
    },
    {
     "data": {
      "application/vnd.jupyter.widget-view+json": {
       "model_id": "5a6b808628854f0aa40aea408094049c",
       "version_major": 2,
       "version_minor": 0
      },
      "text/plain": [
       "split_4.mp4:   0%|          | 0.00/4.36M [00:00<?, ?B/s]"
      ]
     },
     "metadata": {},
     "output_type": "display_data"
    },
    {
     "data": {
      "application/vnd.jupyter.widget-view+json": {
       "model_id": "c7315884ad8b465387aefe7dc93880b4",
       "version_major": 2,
       "version_minor": 0
      },
      "text/plain": [
       "split_0.mp4:   0%|          | 0.00/1.25M [00:00<?, ?B/s]"
      ]
     },
     "metadata": {},
     "output_type": "display_data"
    },
    {
     "data": {
      "application/vnd.jupyter.widget-view+json": {
       "model_id": "68ec77dd3ffd45db89f9c50dbd8696da",
       "version_major": 2,
       "version_minor": 0
      },
      "text/plain": [
       "split_3.mp4:   0%|          | 0.00/1.75M [00:00<?, ?B/s]"
      ]
     },
     "metadata": {},
     "output_type": "display_data"
    },
    {
     "data": {
      "application/vnd.jupyter.widget-view+json": {
       "model_id": "dca622e6efd74e0885872ca9d3d4bc88",
       "version_major": 2,
       "version_minor": 0
      },
      "text/plain": [
       "split_1.mp4:   0%|          | 0.00/2.14M [00:00<?, ?B/s]"
      ]
     },
     "metadata": {},
     "output_type": "display_data"
    },
    {
     "data": {
      "application/vnd.jupyter.widget-view+json": {
       "model_id": "e0b9203cdb8b4fd49cec59259a48302b",
       "version_major": 2,
       "version_minor": 0
      },
      "text/plain": [
       "split_10.mp4:   0%|          | 0.00/7.90M [00:00<?, ?B/s]"
      ]
     },
     "metadata": {},
     "output_type": "display_data"
    },
    {
     "data": {
      "application/vnd.jupyter.widget-view+json": {
       "model_id": "7b08d0fd60234c8fb75ea4effc9ac3e9",
       "version_major": 2,
       "version_minor": 0
      },
      "text/plain": [
       "split_11.mp4:   0%|          | 0.00/2.94M [00:00<?, ?B/s]"
      ]
     },
     "metadata": {},
     "output_type": "display_data"
    },
    {
     "data": {
      "application/vnd.jupyter.widget-view+json": {
       "model_id": "6469d8d66e5b490ca823a94d87ae3987",
       "version_major": 2,
       "version_minor": 0
      },
      "text/plain": [
       "split_14.mp4:   0%|          | 0.00/2.98M [00:00<?, ?B/s]"
      ]
     },
     "metadata": {},
     "output_type": "display_data"
    },
    {
     "data": {
      "application/vnd.jupyter.widget-view+json": {
       "model_id": "1e590d922ef04a97818a50ab9c00928a",
       "version_major": 2,
       "version_minor": 0
      },
      "text/plain": [
       "split_2.mp4:   0%|          | 0.00/5.95M [00:00<?, ?B/s]"
      ]
     },
     "metadata": {},
     "output_type": "display_data"
    },
    {
     "data": {
      "application/vnd.jupyter.widget-view+json": {
       "model_id": "ec000b6ea5244878a64409918f6b8ccc",
       "version_major": 2,
       "version_minor": 0
      },
      "text/plain": [
       "split_3.mp4:   0%|          | 0.00/1.44M [00:00<?, ?B/s]"
      ]
     },
     "metadata": {},
     "output_type": "display_data"
    },
    {
     "data": {
      "application/vnd.jupyter.widget-view+json": {
       "model_id": "bfb449588de047b3b6d98078095300c6",
       "version_major": 2,
       "version_minor": 0
      },
      "text/plain": [
       "split_4.mp4:   0%|          | 0.00/649k [00:00<?, ?B/s]"
      ]
     },
     "metadata": {},
     "output_type": "display_data"
    },
    {
     "data": {
      "application/vnd.jupyter.widget-view+json": {
       "model_id": "bce61d0874994b6f9ff58763f5daebb6",
       "version_major": 2,
       "version_minor": 0
      },
      "text/plain": [
       "split_5.mp4:   0%|          | 0.00/1.19M [00:00<?, ?B/s]"
      ]
     },
     "metadata": {},
     "output_type": "display_data"
    },
    {
     "data": {
      "application/vnd.jupyter.widget-view+json": {
       "model_id": "74d732d5c6cf4b8fa86fbfa9c4bf1b1d",
       "version_major": 2,
       "version_minor": 0
      },
      "text/plain": [
       "split_6.mp4:   0%|          | 0.00/4.26M [00:00<?, ?B/s]"
      ]
     },
     "metadata": {},
     "output_type": "display_data"
    },
    {
     "data": {
      "application/vnd.jupyter.widget-view+json": {
       "model_id": "7c7ea92178b448088162e8fb98881d97",
       "version_major": 2,
       "version_minor": 0
      },
      "text/plain": [
       "split_7.mp4:   0%|          | 0.00/4.74M [00:00<?, ?B/s]"
      ]
     },
     "metadata": {},
     "output_type": "display_data"
    },
    {
     "data": {
      "application/vnd.jupyter.widget-view+json": {
       "model_id": "41822d71811643d3a8c42116857b301d",
       "version_major": 2,
       "version_minor": 0
      },
      "text/plain": [
       "split_8.mp4:   0%|          | 0.00/3.98M [00:00<?, ?B/s]"
      ]
     },
     "metadata": {},
     "output_type": "display_data"
    },
    {
     "data": {
      "application/vnd.jupyter.widget-view+json": {
       "model_id": "44fbc1a823af43bcbc72ff86244707eb",
       "version_major": 2,
       "version_minor": 0
      },
      "text/plain": [
       "split_9.mp4:   0%|          | 0.00/2.18M [00:00<?, ?B/s]"
      ]
     },
     "metadata": {},
     "output_type": "display_data"
    },
    {
     "data": {
      "application/vnd.jupyter.widget-view+json": {
       "model_id": "59f6fde9fa6e48eca86ddfbeba350096",
       "version_major": 2,
       "version_minor": 0
      },
      "text/plain": [
       "v_7lNAmkaMyyg.mp4:   0%|          | 0.00/3.88M [00:00<?, ?B/s]"
      ]
     },
     "metadata": {},
     "output_type": "display_data"
    },
    {
     "data": {
      "application/vnd.jupyter.widget-view+json": {
       "model_id": "490cbd04acc54eed9aa399de7d9ceca8",
       "version_major": 2,
       "version_minor": 0
      },
      "text/plain": [
       "v_4W4mrswC2tA.mp4:   0%|          | 0.00/876k [00:00<?, ?B/s]"
      ]
     },
     "metadata": {},
     "output_type": "display_data"
    },
    {
     "data": {
      "application/vnd.jupyter.widget-view+json": {
       "model_id": "add218e63b7d45139bdec573e55a4a32",
       "version_major": 2,
       "version_minor": 0
      },
      "text/plain": [
       "v_oZTFplEHVDo.mp4:   0%|          | 0.00/798k [00:00<?, ?B/s]"
      ]
     },
     "metadata": {},
     "output_type": "display_data"
    },
    {
     "data": {
      "application/vnd.jupyter.widget-view+json": {
       "model_id": "fed91f29b1b44e219939e159800c87c7",
       "version_major": 2,
       "version_minor": 0
      },
      "text/plain": [
       "v_q5tYHwZLRYU.mp4:   0%|          | 0.00/1.27M [00:00<?, ?B/s]"
      ]
     },
     "metadata": {},
     "output_type": "display_data"
    },
    {
     "name": "stdout",
     "output_type": "stream",
     "text": [
      "Downloaded dataset to local filepath: /home/sagemaker-user/multi-modal-examples-for-amazon-sagemaker/01-video_content_reel_generator-qwen2_vl/local_data\n"
     ]
    }
   ],
   "source": [
    "file_path = snapshot_download(\n",
    "    repo_id=\"malterei/LLaVA-Video-small-swift\",\n",
    "    repo_type=\"dataset\",\n",
    "    local_dir=dataset_dir\n",
    ")\n",
    "print(f\"Downloaded dataset to local filepath: {file_path}\")"
   ]
  },
  {
   "cell_type": "code",
   "execution_count": 4,
   "id": "5ea21a99-9a1c-4588-826f-14a72e61eb4f",
   "metadata": {},
   "outputs": [
    {
     "name": "stdout",
     "output_type": "stream",
     "text": [
      "Uploaded data from local: /home/sagemaker-user/multi-modal-examples-for-amazon-sagemaker/01-video_content_reel_generator-qwen2_vl/local_data to s3: s3://sagemaker-us-east-1-905418336534/myvideotrainingdataset\n"
     ]
    }
   ],
   "source": [
    "dataset_s3_uri = session.upload_data(\n",
    "    file_path, \n",
    "    bucket=default_bucket_name, \n",
    "    key_prefix=dataset_s3_prefix,\n",
    ")\n",
    "print(f\"Uploaded data from local: {file_path} to s3: {dataset_s3_uri}\")"
   ]
  },
  {
   "cell_type": "markdown",
   "id": "947c501a",
   "metadata": {},
   "source": [
    "### View the dataset format\n",
    "\n",
    "The formatting of the dataset is the following\n",
    "\n",
    "* query: user query or request to be answered\n",
    "* response: expected response\n",
    "* videos: path to the video to be used in the context\n",
    "* history: previous conersational history. This can be a multi-turn user/assistant conversations"
   ]
  },
  {
   "cell_type": "code",
   "execution_count": 5,
   "id": "f57611d6",
   "metadata": {},
   "outputs": [
    {
     "data": {
      "text/html": [
       "<div>\n",
       "<style scoped>\n",
       "    .dataframe tbody tr th:only-of-type {\n",
       "        vertical-align: middle;\n",
       "    }\n",
       "\n",
       "    .dataframe tbody tr th {\n",
       "        vertical-align: top;\n",
       "    }\n",
       "\n",
       "    .dataframe thead th {\n",
       "        text-align: right;\n",
       "    }\n",
       "</style>\n",
       "<table border=\"1\" class=\"dataframe\">\n",
       "  <thead>\n",
       "    <tr style=\"text-align: right;\">\n",
       "      <th></th>\n",
       "      <th>query</th>\n",
       "      <th>response</th>\n",
       "      <th>videos</th>\n",
       "      <th>history</th>\n",
       "    </tr>\n",
       "  </thead>\n",
       "  <tbody>\n",
       "    <tr>\n",
       "      <th>0</th>\n",
       "      <td>How does the person emphasize their points dur...</td>\n",
       "      <td>A.</td>\n",
       "      <td>videos/academic_source/Charades/RIE30.mp4</td>\n",
       "      <td>[]</td>\n",
       "    </tr>\n",
       "    <tr>\n",
       "      <th>1</th>\n",
       "      <td>How many stools are visible in the background?...</td>\n",
       "      <td>A. Two.</td>\n",
       "      <td>videos/academic_source/NextQA/1001/6972796508.mp4</td>\n",
       "      <td>[]</td>\n",
       "    </tr>\n",
       "    <tr>\n",
       "      <th>2</th>\n",
       "      <td>What does the person do after watching televis...</td>\n",
       "      <td>B. Walks towards the closet and takes out items.</td>\n",
       "      <td>videos/academic_source/Charades/GG4UR.mp4</td>\n",
       "      <td>[]</td>\n",
       "    </tr>\n",
       "    <tr>\n",
       "      <th>3</th>\n",
       "      <td>What color is the pan used for cooking in the ...</td>\n",
       "      <td>A.</td>\n",
       "      <td>videos/academic_source/youcook2/401/78dIqPhgnL...</td>\n",
       "      <td>[]</td>\n",
       "    </tr>\n",
       "    <tr>\n",
       "      <th>4</th>\n",
       "      <td>In which direction is the windsurfer with the ...</td>\n",
       "      <td>A.</td>\n",
       "      <td>videos/academic_source/activitynet/v_AOteP9srR...</td>\n",
       "      <td>[]</td>\n",
       "    </tr>\n",
       "    <tr>\n",
       "      <th>5</th>\n",
       "      <td>How many food items is the person eating?\\nA. ...</td>\n",
       "      <td>D.</td>\n",
       "      <td>videos/academic_source/Charades/ALXUC.mp4</td>\n",
       "      <td>[]</td>\n",
       "    </tr>\n",
       "    <tr>\n",
       "      <th>6</th>\n",
       "      <td>\\nWhere does the video take place?\\nA. In a bu...</td>\n",
       "      <td>D.</td>\n",
       "      <td>videos/academic_source/activitynet/v_2RxbcK90T...</td>\n",
       "      <td>[]</td>\n",
       "    </tr>\n",
       "    <tr>\n",
       "      <th>7</th>\n",
       "      <td>\\nWhat is the main activity happening in the v...</td>\n",
       "      <td>A.</td>\n",
       "      <td>videos/academic_source/activitynet/v_3SLaaTD8t...</td>\n",
       "      <td>[]</td>\n",
       "    </tr>\n",
       "    <tr>\n",
       "      <th>8</th>\n",
       "      <td>How does the camera move as the person prepare...</td>\n",
       "      <td>C.</td>\n",
       "      <td>videos/academic_source/youcook2/307/GrCrG-EMr8...</td>\n",
       "      <td>[]</td>\n",
       "    </tr>\n",
       "    <tr>\n",
       "      <th>9</th>\n",
       "      <td>\\nWhat is the main focus of the video?\\nA. Sti...</td>\n",
       "      <td>D. All of the above.</td>\n",
       "      <td>videos/academic_source/youcook2/303/nrsFW3HE7y...</td>\n",
       "      <td>[]</td>\n",
       "    </tr>\n",
       "  </tbody>\n",
       "</table>\n",
       "</div>"
      ],
      "text/plain": [
       "                                               query  \\\n",
       "0  How does the person emphasize their points dur...   \n",
       "1  How many stools are visible in the background?...   \n",
       "2  What does the person do after watching televis...   \n",
       "3  What color is the pan used for cooking in the ...   \n",
       "4  In which direction is the windsurfer with the ...   \n",
       "5  How many food items is the person eating?\\nA. ...   \n",
       "6  \\nWhere does the video take place?\\nA. In a bu...   \n",
       "7  \\nWhat is the main activity happening in the v...   \n",
       "8  How does the camera move as the person prepare...   \n",
       "9  \\nWhat is the main focus of the video?\\nA. Sti...   \n",
       "\n",
       "                                           response  \\\n",
       "0                                                A.   \n",
       "1                                           A. Two.   \n",
       "2  B. Walks towards the closet and takes out items.   \n",
       "3                                                A.   \n",
       "4                                                A.   \n",
       "5                                                D.   \n",
       "6                                                D.   \n",
       "7                                                A.   \n",
       "8                                                C.   \n",
       "9                              D. All of the above.   \n",
       "\n",
       "                                              videos history  \n",
       "0          videos/academic_source/Charades/RIE30.mp4      []  \n",
       "1  videos/academic_source/NextQA/1001/6972796508.mp4      []  \n",
       "2          videos/academic_source/Charades/GG4UR.mp4      []  \n",
       "3  videos/academic_source/youcook2/401/78dIqPhgnL...      []  \n",
       "4  videos/academic_source/activitynet/v_AOteP9srR...      []  \n",
       "5          videos/academic_source/Charades/ALXUC.mp4      []  \n",
       "6  videos/academic_source/activitynet/v_2RxbcK90T...      []  \n",
       "7  videos/academic_source/activitynet/v_3SLaaTD8t...      []  \n",
       "8  videos/academic_source/youcook2/307/GrCrG-EMr8...      []  \n",
       "9  videos/academic_source/youcook2/303/nrsFW3HE7y...      []  "
      ]
     },
     "execution_count": 5,
     "metadata": {},
     "output_type": "execute_result"
    }
   ],
   "source": [
    "train_file = os.path.join(\n",
    "    dataset_dir, \n",
    "    \"train.jsonl\"\n",
    ")\n",
    "df = pd.read_json(train_file, lines=True)\n",
    "df.head(10)"
   ]
  },
  {
   "cell_type": "markdown",
   "id": "5310e07a",
   "metadata": {},
   "source": [
    "One row of this dataset described in the train.jsonl file looks as follows"
   ]
  },
  {
   "cell_type": "code",
   "execution_count": 6,
   "id": "6961a3a1",
   "metadata": {},
   "outputs": [
    {
     "data": {
      "application/json": {
       "history": [],
       "query": "How does the person emphasize their points during the video?\nA. By gesturing with one hand\nB. By writing on the blackboard\nC. By raising their voice\nD. By pointing at the door\nPlease respond with only the letter of the correct answer. <video>",
       "response": "A.",
       "videos": "videos/academic_source/Charades/RIE30.mp4"
      },
      "text/plain": [
       "<IPython.core.display.JSON object>"
      ]
     },
     "execution_count": 6,
     "metadata": {
      "application/json": {
       "expanded": true,
       "root": "root"
      }
     },
     "output_type": "execute_result"
    }
   ],
   "source": [
    "JSON(df.iloc[0].to_dict(), expanded=True)"
   ]
  },
  {
   "cell_type": "markdown",
   "id": "de38d567",
   "metadata": {},
   "source": [
    "Lets look into one of the videos from this dataset"
   ]
  },
  {
   "cell_type": "code",
   "execution_count": 7,
   "id": "6cc57065",
   "metadata": {},
   "outputs": [
    {
     "data": {
      "text/html": [
       "<video src=\"./local_data/videos/academic_source/Charades/RIE30.mp4\" controls  >\n",
       "      Your browser does not support the <code>video</code> element.\n",
       "    </video>"
      ],
      "text/plain": [
       "<IPython.core.display.Video object>"
      ]
     },
     "execution_count": 7,
     "metadata": {},
     "output_type": "execute_result"
    }
   ],
   "source": [
    "Video(os.path.join(dataset_dir, df.at[0,\"videos\"]))"
   ]
  },
  {
   "cell_type": "markdown",
   "id": "e8a6b52e",
   "metadata": {},
   "source": [
    "## Run fine-tuning as SageMaker training job\n",
    "\n",
    "Now we want to run the fine-tuning as a training job on SageMake using the remote decorator function.\n",
    "The remote decorator allows us to execute any python function very quickly as a remote SageMaker training job.\n",
    "The inputs and outputs will be automatically serialized/deserialized.\n",
    "\n"
   ]
  },
  {
   "cell_type": "markdown",
   "id": "8b6d78be",
   "metadata": {},
   "source": [
    "Lets define the SageMaker distribution image to be used for us-east-1. \n",
    "The URI for other distributions and regions can be found in the [SageMaker Distribution documentation](https://docs.aws.amazon.com/sagemaker/latest/dg/notebooks-available-images.html#notebooks-available-images-arn).\n",
    "\n",
    "Here are a few example distributions from the link above:\n",
    "* **us-east-1:** 885854791233.dkr.ecr.us-east-1.amazonaws.com/sagemaker-distribution-prod:1.11.0-gpu\n",
    "* **us-west-2:** 542918446943.dkr.ecr.us-west-2.amazonaws.com/sagemaker-distribution-prod:1.11.0-gpu\n"
   ]
  },
  {
   "cell_type": "code",
   "execution_count": 8,
   "id": "36d8332a-6bfc-4c6d-bce8-00cb7e691cbc",
   "metadata": {},
   "outputs": [],
   "source": [
    "import json\n",
    "import os\n",
    "import subprocess\n",
    "from sagemaker.remote_function import remote"
   ]
  },
  {
   "cell_type": "code",
   "execution_count": 9,
   "id": "51c84688",
   "metadata": {},
   "outputs": [],
   "source": [
    "# lets define the sagemaker distribution to use, we use 1.11 for now\n",
    "import sagemaker\n",
    "region = sagemaker.session.Session().boto_region_name\n",
    "\n",
    "if region==\"us-east-1\":\n",
    "    sagemaker_dist_uri = \"885854791233.dkr.ecr.us-east-1.amazonaws.com/sagemaker-distribution-prod:2.1.0-gpu\"\n",
    "elif region==\"us-west-2\":\n",
    "    sagemaker_dist_uri = \"542918446943.dkr.ecr.us-west-2.amazonaws.com/sagemaker-distribution-prod:2.1.0-gpu\"\n",
    "else:\n",
    "    assert False, \"Please make sure to manually set the `sagemaker_dist_uri` uri for your specific AWS region using the provided link from the cell above.\""
   ]
  },
  {
   "cell_type": "markdown",
   "id": "47a4594e",
   "metadata": {},
   "source": [
    "Define the config to be used for running remotely. This config allows all kind of customizations do be made."
   ]
  },
  {
   "cell_type": "code",
   "execution_count": 10,
   "id": "dac98cb7",
   "metadata": {},
   "outputs": [],
   "source": [
    "os.environ[\"SAGEMAKER_USER_CONFIG_OVERRIDE\"] = os.getcwd() "
   ]
  },
  {
   "cell_type": "code",
   "execution_count": 11,
   "id": "e38f03a5",
   "metadata": {},
   "outputs": [
    {
     "name": "stdout",
     "output_type": "stream",
     "text": [
      "Writing ./requirements.txt\n"
     ]
    }
   ],
   "source": [
    "%%writefile ./requirements.txt\n",
    "\n",
    "sagemaker==2.227\n",
    "mlflow\n",
    "sagemaker-mlflow\n",
    "git+https://github.com/huggingface/accelerate.git@v1.1.0\n",
    "ms-swift[llm]@git+https://github.com/modelscope/ms-swift.git@d13c431a0f337f6a04df2ce5310c5666b0c0c1f2\n",
    "git+https://github.com/huggingface/transformers@21fac7abba2a37fae86106f87fcf9974fd1e3830\n",
    "pyav\n",
    "qwen_vl_utils==0.0.8\n",
    "vllm>=0.6.1\n",
    "decord\n",
    "optimum\n",
    "qwen-vl-utils\n",
    "auto-gptq"
   ]
  },
  {
   "cell_type": "code",
   "execution_count": 12,
   "id": "da08fdd3",
   "metadata": {},
   "outputs": [
    {
     "name": "stdout",
     "output_type": "stream",
     "text": [
      "\n",
      "SchemaVersion: '1.0'\n",
      "SageMaker:\n",
      "  PythonSDK:\n",
      "    Modules:\n",
      "      RemoteFunction:\n",
      "        # role arn is not required if in SageMaker Notebook instance or SageMaker Studio\n",
      "        # Uncomment the following line and replace with the right execution role if in a local IDE\n",
      "        # RoleArn: <replace the role arn here>\n",
      "        S3RootUri: s3://sagemaker-us-east-1-905418336534\n",
      "        ImageUri: 885854791233.dkr.ecr.us-east-1.amazonaws.com/sagemaker-distribution-prod:2.1.0-gpu        \n",
      "        InstanceType: ml.g5.12xlarge\n",
      "        Dependencies: ./requirements.txt\n",
      "        IncludeLocalWorkDir: true\n",
      "        PreExecutionCommands:\n",
      "        - \"pip install packaging\"\n",
      "        CustomFileFilter:\n",
      "          IgnoreNamePatterns:\n",
      "          - \"local_data/*\"\n",
      "          - \"outputs/*\"\n",
      "          - \"docker-artifacts/*\"\n",
      "          - \"sample-media/*\"\n",
      "          - \"streamlit-ui/*\"\n",
      "          - \"accelerate/*\"\n",
      "          - \"container/*\"\n",
      "          - \"ms-swift/*\"\n",
      "          - \"model/*\"\n",
      "          - \"*.ipynb\"\n",
      "          - \"__pycache__\"\n",
      "\n",
      "\n"
     ]
    }
   ],
   "source": [
    "config_yaml = f\"\"\"\n",
    "SchemaVersion: '1.0'\n",
    "SageMaker:\n",
    "  PythonSDK:\n",
    "    Modules:\n",
    "      RemoteFunction:\n",
    "        # role arn is not required if in SageMaker Notebook instance or SageMaker Studio\n",
    "        # Uncomment the following line and replace with the right execution role if in a local IDE\n",
    "        # RoleArn: <replace the role arn here>\n",
    "        S3RootUri: s3://{default_bucket_name}\n",
    "        ImageUri: {sagemaker_dist_uri}        \n",
    "        InstanceType: ml.g5.12xlarge\n",
    "        Dependencies: ./requirements.txt\n",
    "        IncludeLocalWorkDir: true\n",
    "        PreExecutionCommands:\n",
    "        - \"pip install packaging\"\n",
    "        CustomFileFilter:\n",
    "          IgnoreNamePatterns:\n",
    "          - \"local_data/*\"\n",
    "          - \"outputs/*\"\n",
    "          - \"docker-artifacts/*\"\n",
    "          - \"sample-media/*\"\n",
    "          - \"streamlit-ui/*\"\n",
    "          - \"accelerate/*\"\n",
    "          - \"container/*\"\n",
    "          - \"ms-swift/*\"\n",
    "          - \"model/*\"\n",
    "          - \"*.ipynb\"\n",
    "          - \"__pycache__\"\n",
    "\n",
    "\"\"\"\n",
    "\n",
    "print(config_yaml, file=open('config.yaml', 'w'))\n",
    "print(config_yaml)"
   ]
  },
  {
   "cell_type": "markdown",
   "id": "855ef6db-6268-4902-b185-cd396939e94a",
   "metadata": {},
   "source": [
    "The `@remote` decorator in Amazon SageMaker allows you to execute local Python functions as SageMaker training jobs with minimal code modifications. By annotating a function with @remote, SageMaker transforms the function's code into a training job, enabling it to run on managed infrastructure. This approach simplifies scaling and leverages SageMaker's capabilities without extensive changes to your existing codebase. \n",
    "\n",
    "- **Simplified Execution**: Wrap your local machine learning code with the @remote decorator to run it as a SageMaker training job, eliminating the need for manual job setup. \n",
    "\n",
    "- **Seamless Integration**: Continue developing in your preferred environment, such as Jupyter notebooks or IDEs, and use the decorator to offload computations to SageMaker's managed infrastructure. \n",
    "\n",
    "- **Flexible Configuration**: Customize training job parameters directly within the decorator or through a configuration file, specifying instance types, dependencies, and other settings."
   ]
  },
  {
   "cell_type": "code",
   "execution_count": 13,
   "id": "bf25821e",
   "metadata": {},
   "outputs": [
    {
     "name": "stdout",
     "output_type": "stream",
     "text": [
      "sagemaker.config INFO - Fetched defaults config from location: /home/sagemaker-user/multi-modal-examples-for-amazon-sagemaker/01-video_content_reel_generator-qwen2_vl\n"
     ]
    },
    {
     "name": "stderr",
     "output_type": "stream",
     "text": [
      "INFO:sagemaker.telemetry.telemetry_logging:SageMaker Python SDK will collect telemetry to help us better understand our user's needs, diagnose issues, and deliver additional features.\n",
      "To opt out of telemetry, please disable via TelemetryOptOut parameter in SDK defaults config. For more information, refer to https://sagemaker.readthedocs.io/en/stable/overview.html#configuring-and-using-defaults-with-the-sagemaker-python-sdk.\n"
     ]
    },
    {
     "name": "stdout",
     "output_type": "stream",
     "text": [
      "sagemaker.config INFO - Applied value from config key = SageMaker.PythonSDK.Modules.RemoteFunction.ImageUri\n",
      "sagemaker.config INFO - Applied value from config key = SageMaker.PythonSDK.Modules.RemoteFunction.Dependencies\n",
      "sagemaker.config INFO - Applied value from config key = SageMaker.PythonSDK.Modules.RemoteFunction.PreExecutionCommands\n",
      "sagemaker.config INFO - Applied value from config key = SageMaker.PythonSDK.Modules.RemoteFunction.IncludeLocalWorkDir\n",
      "sagemaker.config INFO - Applied value from config key = SageMaker.PythonSDK.Modules.RemoteFunction.CustomFileFilter.IgnoreNamePatterns\n",
      "sagemaker.config INFO - Applied value from config key = SageMaker.PythonSDK.Modules.RemoteFunction.S3RootUri\n"
     ]
    }
   ],
   "source": [
    "@remote(\n",
    "    instance_type=\"ml.g5.12xlarge\", \n",
    "    volume_size=200, \n",
    "    use_spot_instances=False, \n",
    "    job_name_prefix=f\"multi-modal-finetune\", \n",
    "    keep_alive_period_in_seconds=300\n",
    ")\n",
    "def fine_tune_video(\n",
    "    training_data_s3, \n",
    "    train_data_path=\"train.jsonl\", \n",
    "    validation_data_path=\"validation.jsonl\"\n",
    "):\n",
    "    \n",
    "    from swift.llm.utils import SftArguments\n",
    "    from swift.llm.sft import llm_sft, get_sft_main\n",
    "\n",
    "    ## copy the training data from input source to local directory\n",
    "    dataset_dir = \".\"\n",
    "    os.makedirs(dataset_dir, exist_ok=True)\n",
    "    subprocess.run(['aws', 's3', 'cp', training_data_s3, dataset_dir, '--recursive'])\n",
    "    train_data_local_path = os.path.join(dataset_dir, train_data_path)\n",
    "    validation_data_local_path = os.path.join(dataset_dir, validation_data_path)\n",
    "\n",
    "    # set and run the fine-tuning using ms-swift framework\n",
    "    \n",
    "    sft_main = get_sft_main(SftArguments, llm_sft)\n",
    "    os.environ[\"NFRAMES\"]=json.dumps(24) # can be increased, but will require more memory\n",
    "    os.environ[\"MAX_PIXELS\"]=json.dumps(100352) # can be increased, but will require more memory\n",
    "    os.environ[\"CUDA_VISIBLE_DEVICES\"]=\"0,1,2,3\" # devices to be used\n",
    "    os.environ[\"NPROC_PER_NODE\"]=\"4\" # we have 4 GPUs on this instance\n",
    "    os.environ[\"USE_HF\"]=\"1\" # use huggingface\n",
    "    \n",
    "    argv = ['--model_type', 'qwen2-vl-2b-instruct',\n",
    "            '--model_id_or_path', 'Qwen/Qwen2-VL-2B-Instruct', \n",
    "            '--sft_type', 'lora', \n",
    "            '--output_dir', '/opt/ml/model' ,'--max_length', '2048',\n",
    "            '--dataset', train_data_local_path, \n",
    "            '--val_dataset', validation_data_local_path]\n",
    "    sft_main(argv)\n",
    "    return \"done\""
   ]
  },
  {
   "cell_type": "markdown",
   "id": "7cffffd6-55af-492e-98ae-61abd863c4eb",
   "metadata": {},
   "source": [
    "That's all, now run your training job"
   ]
  },
  {
   "cell_type": "code",
   "execution_count": null,
   "id": "bb119da2",
   "metadata": {
    "scrolled": true
   },
   "outputs": [
    {
     "name": "stderr",
     "output_type": "stream",
     "text": [
      "2024-11-26 02:46:18,319 sagemaker.remote_function INFO     Serializing function code to s3://sagemaker-us-east-1-905418336534/multi-modal-finetune-2024-11-26-02-46-18-319/function\n",
      "2024-11-26 02:46:18,404 sagemaker.remote_function INFO     Serializing function arguments to s3://sagemaker-us-east-1-905418336534/multi-modal-finetune-2024-11-26-02-46-18-319/arguments\n"
     ]
    },
    {
     "name": "stdout",
     "output_type": "stream",
     "text": [
      "View your job here: https://us-east-1.console.aws.amazon.com/sagemaker/home?region=us-east-1#/jobs/\n"
     ]
    },
    {
     "name": "stderr",
     "output_type": "stream",
     "text": [
      "2024-11-26 02:46:19,151 sagemaker.remote_function INFO     Copied user workspace to '/tmp/tmpic29wtqn/temp_workspace/sagemaker_remote_function_workspace'\n",
      "2024-11-26 02:46:19,155 sagemaker.remote_function INFO     Copied dependencies file at './requirements.txt' to '/tmp/tmpic29wtqn/temp_workspace/sagemaker_remote_function_workspace/requirements.txt'\n",
      "2024-11-26 02:46:19,156 sagemaker.remote_function INFO     Generated pre-execution script from commands to '/tmp/tmpic29wtqn/temp_workspace/sagemaker_remote_function_workspace/pre_exec.sh'\n",
      "2024-11-26 02:46:44,028 sagemaker.remote_function INFO     Successfully created workdir archive at '/tmp/tmpic29wtqn/workspace.zip'\n",
      "2024-11-26 02:46:48,052 sagemaker.remote_function INFO     Successfully uploaded workdir to 's3://sagemaker-us-east-1-905418336534/multi-modal-finetune-2024-11-26-02-46-18-319/sm_rf_user_ws/workspace.zip'\n",
      "2024-11-26 02:46:48,322 sagemaker.remote_function INFO     Creating job: multi-modal-finetune-2024-11-26-02-46-18-319\n"
     ]
    },
    {
     "name": "stdout",
     "output_type": "stream",
     "text": [
      "2024-11-26 02:46:49 Starting - Starting the training job\n",
      "2024-11-26 02:46:49 Pending - Training job waiting for capacity......\n",
      "2024-11-26 02:47:31 Pending - Preparing the instances for training...\n",
      "2024-11-26 02:48:03 Downloading - Downloading input data...........................\n",
      "2024-11-26 02:54:57 Training - Training image download completed. Training in progress..\u001b[34mINFO: CONDA_PKGS_DIRS is set to '/opt/ml/sagemaker/warmpoolcache/sm_remotefunction_user_dependencies_cache/conda/pkgs'\u001b[0m\n",
      "\u001b[34mINFO: PIP_CACHE_DIR is set to '/opt/ml/sagemaker/warmpoolcache/sm_remotefunction_user_dependencies_cache/pip'\u001b[0m\n",
      "\u001b[34mINFO: Bootstraping runtime environment.\u001b[0m\n",
      "\u001b[34m2024-11-26 02:55:29,752 sagemaker.remote_function INFO     The job is running on non-root user: sagemaker-user. Adding write permissions to the following job output directories: ['/opt/ml/output', '/opt/ml/model', '/tmp'].\u001b[0m\n",
      "\u001b[34m2024-11-26 02:55:29,752 sagemaker.remote_function INFO     Executing 'sudo chmod -R 777 /opt/ml/output /opt/ml/model /tmp'.\u001b[0m\n",
      "\u001b[34m2024-11-26 02:55:31,560 sagemaker.remote_function INFO     Successfully unpacked workspace archive at '/home/sagemaker-user'.\u001b[0m\n",
      "\u001b[34m2024-11-26 02:55:31,560 sagemaker.remote_function INFO     Running pre-execution commands in '/home/sagemaker-user/sagemaker_remote_function_workspace/pre_exec.sh'\u001b[0m\n",
      "\u001b[34m2024-11-26 02:55:31,981 sagemaker.remote_function INFO     Requirement already satisfied: packaging in /opt/conda/lib/python3.11/site-packages (24.1)\u001b[0m\n",
      "\u001b[34m2024-11-26 02:55:32,734 sagemaker.remote_function WARNING  WARNING: The directory '/opt/ml/sagemaker/warmpoolcache/sm_remotefunction_user_dependencies_cache/pip' or its parent directory is not owned or is not writable by the current user. The cache has been disabled. Check the permissions and owner of that directory. If executing pip with sudo, you should use sudo's -H flag.\u001b[0m\n",
      "\u001b[34m2024-11-26 02:55:32,734 sagemaker.remote_function INFO     Running command: '/opt/conda/bin/python -m pip install -r /home/sagemaker-user/sagemaker_remote_function_workspace/requirements.txt -U' in the dir: '/home/sagemaker-user' \u001b[0m\n",
      "\u001b[34m2024-11-26 02:55:33,141 sagemaker.remote_function INFO     Collecting git+https://github.com/huggingface/accelerate.git@v1.1.0 (from -r /home/sagemaker-user/sagemaker_remote_function_workspace/requirements.txt (line 5))\u001b[0m\n",
      "\u001b[34m2024-11-26 02:55:33,142 sagemaker.remote_function INFO       Cloning https://github.com/huggingface/accelerate.git (to revision v1.1.0) to /tmp/pip-req-build-a3xogw9e\u001b[0m\n",
      "\u001b[34m2024-11-26 02:55:33,821 sagemaker.remote_function INFO       Resolved https://github.com/huggingface/accelerate.git to commit 100a94b5c05c08545a3b7bc7357961b024dcb3d4\u001b[0m\n",
      "\u001b[34m2024-11-26 02:55:33,825 sagemaker.remote_function INFO       Installing build dependencies: started\u001b[0m\n",
      "\u001b[34m2024-11-26 02:55:35,757 sagemaker.remote_function INFO       Installing build dependencies: finished with status 'done'\u001b[0m\n",
      "\u001b[34m2024-11-26 02:55:35,758 sagemaker.remote_function INFO       Getting requirements to build wheel: started\u001b[0m\n",
      "\u001b[34m2024-11-26 02:55:35,928 sagemaker.remote_function INFO       Getting requirements to build wheel: finished with status 'done'\u001b[0m\n",
      "\u001b[34m2024-11-26 02:55:35,929 sagemaker.remote_function INFO       Preparing metadata (pyproject.toml): started\u001b[0m\n",
      "\u001b[34m2024-11-26 02:55:36,105 sagemaker.remote_function INFO       Preparing metadata (pyproject.toml): finished with status 'done'\u001b[0m\n",
      "\u001b[34m2024-11-26 02:55:36,116 sagemaker.remote_function INFO     Collecting ms-swift@ git+https://github.com/modelscope/ms-swift.git@d13c431a0f337f6a04df2ce5310c5666b0c0c1f2 (from ms-swift[llm]@ git+https://github.com/modelscope/ms-swift.git@d13c431a0f337f6a04df2ce5310c5666b0c0c1f2->-r /home/sagemaker-user/sagemaker_remote_function_workspace/requirements.txt (line 6))\u001b[0m\n",
      "\u001b[34m2024-11-26 02:55:36,116 sagemaker.remote_function INFO       Cloning https://github.com/modelscope/ms-swift.git (to revision d13c431a0f337f6a04df2ce5310c5666b0c0c1f2) to /tmp/pip-install-etgznljr/ms-swift_89a09c4eafa0425a9acafd43bbb1e70d\u001b[0m\n",
      "\u001b[34m2024-11-26 02:55:38,215 sagemaker.remote_function INFO       Resolved https://github.com/modelscope/ms-swift.git to commit d13c431a0f337f6a04df2ce5310c5666b0c0c1f2\u001b[0m\n",
      "\u001b[34m2024-11-26 02:55:38,218 sagemaker.remote_function INFO       Preparing metadata (setup.py): started\u001b[0m\n",
      "\u001b[34m2024-11-26 02:55:38,572 sagemaker.remote_function INFO       Preparing metadata (setup.py): finished with status 'done'\u001b[0m\n",
      "\u001b[34m2024-11-26 02:55:38,582 sagemaker.remote_function INFO     Collecting git+https://github.com/huggingface/transformers@21fac7abba2a37fae86106f87fcf9974fd1e3830 (from -r /home/sagemaker-user/sagemaker_remote_function_workspace/requirements.txt (line 7))\u001b[0m\n",
      "\u001b[34m2024-11-26 02:55:38,582 sagemaker.remote_function INFO       Cloning https://github.com/huggingface/transformers (to revision 21fac7abba2a37fae86106f87fcf9974fd1e3830) to /tmp/pip-req-build-703zgelz\u001b[0m\n",
      "\u001b[34m2024-11-26 02:55:48,344 sagemaker.remote_function INFO       Resolved https://github.com/huggingface/transformers to commit 21fac7abba2a37fae86106f87fcf9974fd1e3830\u001b[0m\n",
      "\u001b[34m2024-11-26 02:55:48,348 sagemaker.remote_function INFO       Installing build dependencies: started\u001b[0m\n",
      "\u001b[34m2024-11-26 02:55:50,274 sagemaker.remote_function INFO       Installing build dependencies: finished with status 'done'\u001b[0m\n",
      "\u001b[34m2024-11-26 02:55:50,275 sagemaker.remote_function INFO       Getting requirements to build wheel: started\u001b[0m\n",
      "\u001b[34m2024-11-26 02:55:50,805 sagemaker.remote_function INFO       Getting requirements to build wheel: finished with status 'done'\u001b[0m\n",
      "\u001b[34m2024-11-26 02:55:50,806 sagemaker.remote_function INFO       Preparing metadata (pyproject.toml): started\u001b[0m\n",
      "\u001b[34m2024-11-26 02:55:51,337 sagemaker.remote_function INFO       Preparing metadata (pyproject.toml): finished with status 'done'\u001b[0m\n",
      "\u001b[34m2024-11-26 02:55:51,482 sagemaker.remote_function INFO     Requirement already satisfied: sagemaker==2.227 in /opt/conda/lib/python3.11/site-packages (from -r /home/sagemaker-user/sagemaker_remote_function_workspace/requirements.txt (line 2)) (2.227.0)\u001b[0m\n",
      "\u001b[34m2024-11-26 02:55:51,584 sagemaker.remote_function INFO     Requirement already satisfied: mlflow in /opt/conda/lib/python3.11/site-packages (from -r /home/sagemaker-user/sagemaker_remote_function_workspace/requirements.txt (line 3)) (2.17.0)\u001b[0m\n",
      "\u001b[34m2024-11-26 02:55:51,617 sagemaker.remote_function INFO     Collecting mlflow (from -r /home/sagemaker-user/sagemaker_remote_function_workspace/requirements.txt (line 3))\u001b[0m\n",
      "\u001b[34m2024-11-26 02:55:51,638 sagemaker.remote_function INFO       Downloading mlflow-2.18.0-py3-none-any.whl.metadata (29 kB)\u001b[0m\n",
      "\u001b[34m2024-11-26 02:55:51,650 sagemaker.remote_function INFO     Requirement already satisfied: sagemaker-mlflow in /opt/conda/lib/python3.11/site-packages (from -r /home/sagemaker-user/sagemaker_remote_function_workspace/requirements.txt (line 4)) (0.1.0)\u001b[0m\n",
      "\u001b[34m2024-11-26 02:55:51,690 sagemaker.remote_function INFO     Collecting pyav (from -r /home/sagemaker-user/sagemaker_remote_function_workspace/requirements.txt (line 8))\u001b[0m\n",
      "\u001b[34m2024-11-26 02:55:51,695 sagemaker.remote_function INFO       Downloading pyav-13.1.0-cp311-cp311-manylinux_2_17_x86_64.manylinux2014_x86_64.whl.metadata (2.0 kB)\u001b[0m\n",
      "\u001b[34m2024-11-26 02:55:51,706 sagemaker.remote_function INFO     Collecting qwen_vl_utils==0.0.8 (from -r /home/sagemaker-user/sagemaker_remote_function_workspace/requirements.txt (line 9))\u001b[0m\n",
      "\u001b[34m2024-11-26 02:55:51,710 sagemaker.remote_function INFO       Downloading qwen_vl_utils-0.0.8-py3-none-any.whl.metadata (3.6 kB)\u001b[0m\n",
      "\u001b[34m2024-11-26 02:55:51,732 sagemaker.remote_function INFO     Collecting vllm>=0.6.1 (from -r /home/sagemaker-user/sagemaker_remote_function_workspace/requirements.txt (line 10))\u001b[0m\n",
      "\u001b[34m2024-11-26 02:55:51,737 sagemaker.remote_function INFO       Downloading vllm-0.6.4.post1-cp38-abi3-manylinux1_x86_64.whl.metadata (10 kB)\u001b[0m\n",
      "\u001b[34m2024-11-26 02:55:51,752 sagemaker.remote_function INFO     Collecting decord (from -r /home/sagemaker-user/sagemaker_remote_function_workspace/requirements.txt (line 11))\u001b[0m\n",
      "\u001b[34m2024-11-26 02:55:51,756 sagemaker.remote_function INFO       Downloading decord-0.6.0-py3-none-manylinux2010_x86_64.whl.metadata (422 bytes)\u001b[0m\n",
      "\u001b[34m2024-11-26 02:55:51,777 sagemaker.remote_function INFO     Collecting optimum (from -r /home/sagemaker-user/sagemaker_remote_function_workspace/requirements.txt (line 12))\u001b[0m\n",
      "\u001b[34m2024-11-26 02:55:51,782 sagemaker.remote_function INFO       Downloading optimum-1.23.3-py3-none-any.whl.metadata (20 kB)\u001b[0m\n",
      "\u001b[34m2024-11-26 02:55:51,813 sagemaker.remote_function INFO     Collecting auto-gptq (from -r /home/sagemaker-user/sagemaker_remote_function_workspace/requirements.txt (line 14))\u001b[0m\n",
      "\u001b[34m2024-11-26 02:55:51,818 sagemaker.remote_function INFO       Downloading auto_gptq-0.7.1-cp311-cp311-manylinux_2_17_x86_64.manylinux2014_x86_64.whl.metadata (18 kB)\u001b[0m\n",
      "\u001b[34m2024-11-26 02:55:51,829 sagemaker.remote_function INFO     Requirement already satisfied: attrs<24,>=23.1.0 in /opt/conda/lib/python3.11/site-packages (from sagemaker==2.227->-r /home/sagemaker-user/sagemaker_remote_function_workspace/requirements.txt (line 2)) (23.2.0)\u001b[0m\n",
      "\u001b[34m2024-11-26 02:55:51,829 sagemaker.remote_function INFO     Requirement already satisfied: boto3<2.0,>=1.34.142 in /opt/conda/lib/python3.11/site-packages (from sagemaker==2.227->-r /home/sagemaker-user/sagemaker_remote_function_workspace/requirements.txt (line 2)) (1.34.162)\u001b[0m\n",
      "\u001b[34m2024-11-26 02:55:51,830 sagemaker.remote_function INFO     Requirement already satisfied: cloudpickle==2.2.1 in /opt/conda/lib/python3.11/site-packages (from sagemaker==2.227->-r /home/sagemaker-user/sagemaker_remote_function_workspace/requirements.txt (line 2)) (2.2.1)\u001b[0m\n",
      "\u001b[34m2024-11-26 02:55:51,830 sagemaker.remote_function INFO     Requirement already satisfied: google-pasta in /opt/conda/lib/python3.11/site-packages (from sagemaker==2.227->-r /home/sagemaker-user/sagemaker_remote_function_workspace/requirements.txt (line 2)) (0.2.0)\u001b[0m\n",
      "\u001b[34m2024-11-26 02:55:51,830 sagemaker.remote_function INFO     Requirement already satisfied: numpy<2.0,>=1.9.0 in /opt/conda/lib/python3.11/site-packages (from sagemaker==2.227->-r /home/sagemaker-user/sagemaker_remote_function_workspace/requirements.txt (line 2)) (1.26.4)\u001b[0m\n",
      "\u001b[34m2024-11-26 02:55:51,831 sagemaker.remote_function INFO     Requirement already satisfied: protobuf<5.0,>=3.12 in /opt/conda/lib/python3.11/site-packages (from sagemaker==2.227->-r /home/sagemaker-user/sagemaker_remote_function_workspace/requirements.txt (line 2)) (4.25.3)\u001b[0m\n",
      "\u001b[34m2024-11-26 02:55:51,831 sagemaker.remote_function INFO     Requirement already satisfied: smdebug-rulesconfig==1.0.1 in /opt/conda/lib/python3.11/site-packages (from sagemaker==2.227->-r /home/sagemaker-user/sagemaker_remote_function_workspace/requirements.txt (line 2)) (1.0.1)\u001b[0m\n",
      "\u001b[34m2024-11-26 02:55:51,832 sagemaker.remote_function INFO     Requirement already satisfied: importlib-metadata<7.0,>=1.4.0 in /opt/conda/lib/python3.11/site-packages (from sagemaker==2.227->-r /home/sagemaker-user/sagemaker_remote_function_workspace/requirements.txt (line 2)) (6.10.0)\u001b[0m\n",
      "\u001b[34m2024-11-26 02:55:51,832 sagemaker.remote_function INFO     Requirement already satisfied: packaging>=20.0 in /opt/conda/lib/python3.11/site-packages (from sagemaker==2.227->-r /home/sagemaker-user/sagemaker_remote_function_workspace/requirements.txt (line 2)) (24.1)\u001b[0m\n",
      "\u001b[34m2024-11-26 02:55:51,832 sagemaker.remote_function INFO     Requirement already satisfied: pandas in /opt/conda/lib/python3.11/site-packages (from sagemaker==2.227->-r /home/sagemaker-user/sagemaker_remote_function_workspace/requirements.txt (line 2)) (2.2.3)\u001b[0m\n",
      "\u001b[34m2024-11-26 02:55:51,832 sagemaker.remote_function INFO     Requirement already satisfied: pathos in /opt/conda/lib/python3.11/site-packages (from sagemaker==2.227->-r /home/sagemaker-user/sagemaker_remote_function_workspace/requirements.txt (line 2)) (0.3.2)\u001b[0m\n",
      "\u001b[34m2024-11-26 02:55:51,833 sagemaker.remote_function INFO     Requirement already satisfied: schema in /opt/conda/lib/python3.11/site-packages (from sagemaker==2.227->-r /home/sagemaker-user/sagemaker_remote_function_workspace/requirements.txt (line 2)) (0.7.7)\u001b[0m\n",
      "\u001b[34m2024-11-26 02:55:51,833 sagemaker.remote_function INFO     Requirement already satisfied: PyYAML~=6.0 in /opt/conda/lib/python3.11/site-packages (from sagemaker==2.227->-r /home/sagemaker-user/sagemaker_remote_function_workspace/requirements.txt (line 2)) (6.0.2)\u001b[0m\n",
      "\u001b[34m2024-11-26 02:55:51,833 sagemaker.remote_function INFO     Requirement already satisfied: jsonschema in /opt/conda/lib/python3.11/site-packages (from sagemaker==2.227->-r /home/sagemaker-user/sagemaker_remote_function_workspace/requirements.txt (line 2)) (4.23.0)\u001b[0m\n",
      "\u001b[34m2024-11-26 02:55:51,834 sagemaker.remote_function INFO     Requirement already satisfied: platformdirs in /opt/conda/lib/python3.11/site-packages (from sagemaker==2.227->-r /home/sagemaker-user/sagemaker_remote_function_workspace/requirements.txt (line 2)) (3.11.0)\u001b[0m\n",
      "\u001b[34m2024-11-26 02:55:51,834 sagemaker.remote_function INFO     Requirement already satisfied: tblib<4,>=1.7.0 in /opt/conda/lib/python3.11/site-packages (from sagemaker==2.227->-r /home/sagemaker-user/sagemaker_remote_function_workspace/requirements.txt (line 2)) (2.0.0)\u001b[0m\n",
      "\u001b[34m2024-11-26 02:55:51,835 sagemaker.remote_function INFO     Requirement already satisfied: urllib3<3.0.0,>=1.26.8 in /opt/conda/lib/python3.11/site-packages (from sagemaker==2.227->-r /home/sagemaker-user/sagemaker_remote_function_workspace/requirements.txt (line 2)) (1.26.19)\u001b[0m\n",
      "\u001b[34m2024-11-26 02:55:51,835 sagemaker.remote_function INFO     Requirement already satisfied: requests in /opt/conda/lib/python3.11/site-packages (from sagemaker==2.227->-r /home/sagemaker-user/sagemaker_remote_function_workspace/requirements.txt (line 2)) (2.32.3)\u001b[0m\n",
      "\u001b[34m2024-11-26 02:55:51,835 sagemaker.remote_function INFO     Requirement already satisfied: docker in /opt/conda/lib/python3.11/site-packages (from sagemaker==2.227->-r /home/sagemaker-user/sagemaker_remote_function_workspace/requirements.txt (line 2)) (7.1.0)\u001b[0m\n",
      "\u001b[34m2024-11-26 02:55:51,835 sagemaker.remote_function INFO     Requirement already satisfied: tqdm in /opt/conda/lib/python3.11/site-packages (from sagemaker==2.227->-r /home/sagemaker-user/sagemaker_remote_function_workspace/requirements.txt (line 2)) (4.66.5)\u001b[0m\n",
      "\u001b[34m2024-11-26 02:55:51,836 sagemaker.remote_function INFO     Requirement already satisfied: psutil in /opt/conda/lib/python3.11/site-packages (from sagemaker==2.227->-r /home/sagemaker-user/sagemaker_remote_function_workspace/requirements.txt (line 2)) (5.9.8)\u001b[0m\n",
      "\u001b[34m2024-11-26 02:55:51,879 sagemaker.remote_function INFO     Collecting av (from qwen_vl_utils==0.0.8->-r /home/sagemaker-user/sagemaker_remote_function_workspace/requirements.txt (line 9))\u001b[0m\n",
      "\u001b[34m2024-11-26 02:55:51,883 sagemaker.remote_function INFO       Downloading av-13.1.0-cp311-cp311-manylinux_2_17_x86_64.manylinux2014_x86_64.whl.metadata (4.4 kB)\u001b[0m\n",
      "\u001b[34m2024-11-26 02:55:51,885 sagemaker.remote_function INFO     Requirement already satisfied: pillow in /opt/conda/lib/python3.11/site-packages (from qwen_vl_utils==0.0.8->-r /home/sagemaker-user/sagemaker_remote_function_workspace/requirements.txt (line 9)) (10.4.0)\u001b[0m\n",
      "\u001b[34m2024-11-26 02:55:51,916 sagemaker.remote_function INFO     Collecting mlflow-skinny==2.18.0 (from mlflow->-r /home/sagemaker-user/sagemaker_remote_function_workspace/requirements.txt (line 3))\u001b[0m\n",
      "\u001b[34m2024-11-26 02:55:51,919 sagemaker.remote_function INFO       Downloading mlflow_skinny-2.18.0-py3-none-any.whl.metadata (30 kB)\u001b[0m\n",
      "\u001b[34m2024-11-26 02:55:51,926 sagemaker.remote_function INFO     Requirement already satisfied: Flask<4 in /opt/conda/lib/python3.11/site-packages (from mlflow->-r /home/sagemaker-user/sagemaker_remote_function_workspace/requirements.txt (line 3)) (3.0.3)\u001b[0m\n",
      "\u001b[34m2024-11-26 02:55:51,926 sagemaker.remote_function INFO     Requirement already satisfied: alembic!=1.10.0,<2 in /opt/conda/lib/python3.11/site-packages (from mlflow->-r /home/sagemaker-user/sagemaker_remote_function_workspace/requirements.txt (line 3)) (1.13.3)\u001b[0m\n",
      "\u001b[34m2024-11-26 02:55:51,927 sagemaker.remote_function INFO     Requirement already satisfied: graphene<4 in /opt/conda/lib/python3.11/site-packages (from mlflow->-r /home/sagemaker-user/sagemaker_remote_function_workspace/requirements.txt (line 3)) (3.4)\u001b[0m\n",
      "\u001b[34m2024-11-26 02:55:51,927 sagemaker.remote_function INFO     Requirement already satisfied: markdown<4,>=3.3 in /opt/conda/lib/python3.11/site-packages (from mlflow->-r /home/sagemaker-user/sagemaker_remote_function_workspace/requirements.txt (line 3)) (3.6)\u001b[0m\n",
      "\u001b[34m2024-11-26 02:55:51,928 sagemaker.remote_function INFO     Requirement already satisfied: matplotlib<4 in /opt/conda/lib/python3.11/site-packages (from mlflow->-r /home/sagemaker-user/sagemaker_remote_function_workspace/requirements.txt (line 3)) (3.9.2)\u001b[0m\n",
      "\u001b[34m2024-11-26 02:55:51,929 sagemaker.remote_function INFO     Requirement already satisfied: pyarrow<19,>=4.0.0 in /opt/conda/lib/python3.11/site-packages (from mlflow->-r /home/sagemaker-user/sagemaker_remote_function_workspace/requirements.txt (line 3)) (17.0.0)\u001b[0m\n",
      "\u001b[34m2024-11-26 02:55:51,929 sagemaker.remote_function INFO     Requirement already satisfied: scikit-learn<2 in /opt/conda/lib/python3.11/site-packages (from mlflow->-r /home/sagemaker-user/sagemaker_remote_function_workspace/requirements.txt (line 3)) (1.5.2)\u001b[0m\n",
      "\u001b[34m2024-11-26 02:55:51,929 sagemaker.remote_function INFO     Requirement already satisfied: scipy<2 in /opt/conda/lib/python3.11/site-packages (from mlflow->-r /home/sagemaker-user/sagemaker_remote_function_workspace/requirements.txt (line 3)) (1.14.1)\u001b[0m\n",
      "\u001b[34m2024-11-26 02:55:51,930 sagemaker.remote_function INFO     Requirement already satisfied: sqlalchemy<3,>=1.4.0 in /opt/conda/lib/python3.11/site-packages (from mlflow->-r /home/sagemaker-user/sagemaker_remote_function_workspace/requirements.txt (line 3)) (2.0.36)\u001b[0m\n",
      "\u001b[34m2024-11-26 02:55:51,930 sagemaker.remote_function INFO     Requirement already satisfied: Jinja2<4,>=2.11 in /opt/conda/lib/python3.11/site-packages (from mlflow->-r /home/sagemaker-user/sagemaker_remote_function_workspace/requirements.txt (line 3)) (3.1.4)\u001b[0m\n",
      "\u001b[34m2024-11-26 02:55:51,931 sagemaker.remote_function INFO     Requirement already satisfied: gunicorn<24 in /opt/conda/lib/python3.11/site-packages (from mlflow->-r /home/sagemaker-user/sagemaker_remote_function_workspace/requirements.txt (line 3)) (22.0.0)\u001b[0m\n",
      "\u001b[34m2024-11-26 02:55:51,933 sagemaker.remote_function INFO     Requirement already satisfied: cachetools<6,>=5.0.0 in /opt/conda/lib/python3.11/site-packages (from mlflow-skinny==2.18.0->mlflow->-r /home/sagemaker-user/sagemaker_remote_function_workspace/requirements.txt (line 3)) (5.5.0)\u001b[0m\n",
      "\u001b[34m2024-11-26 02:55:51,934 sagemaker.remote_function INFO     Requirement already satisfied: click<9,>=7.0 in /opt/conda/lib/python3.11/site-packages (from mlflow-skinny==2.18.0->mlflow->-r /home/sagemaker-user/sagemaker_remote_function_workspace/requirements.txt (line 3)) (8.1.7)\u001b[0m\n",
      "\u001b[34m2024-11-26 02:55:51,934 sagemaker.remote_function INFO     Requirement already satisfied: databricks-sdk<1,>=0.20.0 in /opt/conda/lib/python3.11/site-packages (from mlflow-skinny==2.18.0->mlflow->-r /home/sagemaker-user/sagemaker_remote_function_workspace/requirements.txt (line 3)) (0.34.0)\u001b[0m\n",
      "\u001b[34m2024-11-26 02:55:51,935 sagemaker.remote_function INFO     Requirement already satisfied: gitpython<4,>=3.1.9 in /opt/conda/lib/python3.11/site-packages (from mlflow-skinny==2.18.0->mlflow->-r /home/sagemaker-user/sagemaker_remote_function_workspace/requirements.txt (line 3)) (3.1.43)\u001b[0m\n",
      "\u001b[34m2024-11-26 02:55:51,935 sagemaker.remote_function INFO     Requirement already satisfied: opentelemetry-api<3,>=1.9.0 in /opt/conda/lib/python3.11/site-packages (from mlflow-skinny==2.18.0->mlflow->-r /home/sagemaker-user/sagemaker_remote_function_workspace/requirements.txt (line 3)) (1.27.0)\u001b[0m\n",
      "\u001b[34m2024-11-26 02:55:51,935 sagemaker.remote_function INFO     Requirement already satisfied: opentelemetry-sdk<3,>=1.9.0 in /opt/conda/lib/python3.11/site-packages (from mlflow-skinny==2.18.0->mlflow->-r /home/sagemaker-user/sagemaker_remote_function_workspace/requirements.txt (line 3)) (1.27.0)\u001b[0m\n",
      "\u001b[34m2024-11-26 02:55:51,936 sagemaker.remote_function INFO     Requirement already satisfied: sqlparse<1,>=0.4.0 in /opt/conda/lib/python3.11/site-packages (from mlflow-skinny==2.18.0->mlflow->-r /home/sagemaker-user/sagemaker_remote_function_workspace/requirements.txt (line 3)) (0.5.1)\u001b[0m\n",
      "\u001b[34m2024-11-26 02:55:51,947 sagemaker.remote_function INFO     Requirement already satisfied: torch>=1.10.0 in /opt/conda/lib/python3.11/site-packages (from accelerate==1.1.0->-r /home/sagemaker-user/sagemaker_remote_function_workspace/requirements.txt (line 5)) (2.3.1.post300)\u001b[0m\n",
      "\u001b[34m2024-11-26 02:55:51,947 sagemaker.remote_function INFO     Requirement already satisfied: huggingface_hub>=0.21.0 in /opt/conda/lib/python3.11/site-packages (from accelerate==1.1.0->-r /home/sagemaker-user/sagemaker_remote_function_workspace/requirements.txt (line 5)) (0.25.2)\u001b[0m\n",
      "\u001b[34m2024-11-26 02:55:51,948 sagemaker.remote_function INFO     Requirement already satisfied: safetensors>=0.4.3 in /opt/conda/lib/python3.11/site-packages (from accelerate==1.1.0->-r /home/sagemaker-user/sagemaker_remote_function_workspace/requirements.txt (line 5)) (0.4.5)\u001b[0m\n",
      "\u001b[34m2024-11-26 02:55:51,957 sagemaker.remote_function INFO     Collecting addict (from ms-swift@ git+https://github.com/modelscope/ms-swift.git@d13c431a0f337f6a04df2ce5310c5666b0c0c1f2->ms-swift[llm]@ git+https://github.com/modelscope/ms-swift.git@d13c431a0f337f6a04df2ce5310c5666b0c0c1f2->-r /home/sagemaker-user/sagemaker_remote_function_workspace/requirements.txt (line 6))\u001b[0m\n",
      "\u001b[34m2024-11-26 02:55:51,960 sagemaker.remote_function INFO       Downloading addict-2.4.0-py3-none-any.whl.metadata (1.0 kB)\u001b[0m\n",
      "\u001b[34m2024-11-26 02:55:51,961 sagemaker.remote_function INFO     Requirement already satisfied: aiohttp in /opt/conda/lib/python3.11/site-packages (from ms-swift@ git+https://github.com/modelscope/ms-swift.git@d13c431a0f337f6a04df2ce5310c5666b0c0c1f2->ms-swift[llm]@ git+https://github.com/modelscope/ms-swift.git@d13c431a0f337f6a04df2ce5310c5666b0c0c1f2->-r /home/sagemaker-user/sagemaker_remote_function_workspace/requirements.txt (line 6)) (3.9.5)\u001b[0m\n",
      "\u001b[34m2024-11-26 02:55:51,968 sagemaker.remote_function INFO     Collecting attrdict (from ms-swift@ git+https://github.com/modelscope/ms-swift.git@d13c431a0f337f6a04df2ce5310c5666b0c0c1f2->ms-swift[llm]@ git+https://github.com/modelscope/ms-swift.git@d13c431a0f337f6a04df2ce5310c5666b0c0c1f2->-r /home/sagemaker-user/sagemaker_remote_function_workspace/requirements.txt (line 6))\u001b[0m\n",
      "\u001b[34m2024-11-26 02:55:51,976 sagemaker.remote_function INFO       Downloading attrdict-2.0.1-py2.py3-none-any.whl.metadata (6.7 kB)\u001b[0m\n",
      "\u001b[34m2024-11-26 02:55:51,986 sagemaker.remote_function INFO     Collecting binpacking (from ms-swift@ git+https://github.com/modelscope/ms-swift.git@d13c431a0f337f6a04df2ce5310c5666b0c0c1f2->ms-swift[llm]@ git+https://github.com/modelscope/ms-swift.git@d13c431a0f337f6a04df2ce5310c5666b0c0c1f2->-r /home/sagemaker-user/sagemaker_remote_function_workspace/requirements.txt (line 6))\u001b[0m\n",
      "\u001b[34m2024-11-26 02:55:51,990 sagemaker.remote_function INFO       Downloading binpacking-1.5.2.tar.gz (8.7 kB)\u001b[0m\n",
      "\u001b[34m2024-11-26 02:55:51,996 sagemaker.remote_function INFO       Preparing metadata (setup.py): started\u001b[0m\n",
      "\u001b[34m2024-11-26 02:55:52,309 sagemaker.remote_function INFO       Preparing metadata (setup.py): finished with status 'done'\u001b[0m\n",
      "\u001b[34m2024-11-26 02:55:52,324 sagemaker.remote_function INFO     Collecting dacite (from ms-swift@ git+https://github.com/modelscope/ms-swift.git@d13c431a0f337f6a04df2ce5310c5666b0c0c1f2->ms-swift[llm]@ git+https://github.com/modelscope/ms-swift.git@d13c431a0f337f6a04df2ce5310c5666b0c0c1f2->-r /home/sagemaker-user/sagemaker_remote_function_workspace/requirements.txt (line 6))\u001b[0m\n",
      "\u001b[34m2024-11-26 02:55:52,328 sagemaker.remote_function INFO       Downloading dacite-1.8.1-py3-none-any.whl.metadata (15 kB)\u001b[0m\n",
      "\u001b[34m2024-11-26 02:55:52,338 sagemaker.remote_function INFO     Collecting einops (from ms-swift@ git+https://github.com/modelscope/ms-swift.git@d13c431a0f337f6a04df2ce5310c5666b0c0c1f2->ms-swift[llm]@ git+https://github.com/modelscope/ms-swift.git@d13c431a0f337f6a04df2ce5310c5666b0c0c1f2->-r /home/sagemaker-user/sagemaker_remote_function_workspace/requirements.txt (line 6))\u001b[0m\n",
      "\u001b[34m2024-11-26 02:55:52,343 sagemaker.remote_function INFO       Downloading einops-0.8.0-py3-none-any.whl.metadata (12 kB)\u001b[0m\n",
      "\u001b[34m2024-11-26 02:55:52,353 sagemaker.remote_function INFO     Collecting jieba (from ms-swift@ git+https://github.com/modelscope/ms-swift.git@d13c431a0f337f6a04df2ce5310c5666b0c0c1f2->ms-swift[llm]@ git+https://github.com/modelscope/ms-swift.git@d13c431a0f337f6a04df2ce5310c5666b0c0c1f2->-r /home/sagemaker-user/sagemaker_remote_function_workspace/requirements.txt (line 6))\u001b[0m\n",
      "\u001b[34m2024-11-26 02:55:52,359 sagemaker.remote_function INFO       Downloading jieba-0.42.1.tar.gz (19.2 MB)\u001b[0m\n",
      "\u001b[34m2024-11-26 02:55:52,483 sagemaker.remote_function INFO          ━━━━━━━━━━━━━━━━━━━━━━━━━━━━━━━━━━━━━━━ 19.2/19.2 MB 163.2 MB/s eta 0:00:00\u001b[0m\n",
      "\u001b[34m2024-11-26 02:55:52,930 sagemaker.remote_function INFO       Preparing metadata (setup.py): started\u001b[0m\n",
      "\u001b[34m2024-11-26 02:55:53,216 sagemaker.remote_function INFO       Preparing metadata (setup.py): finished with status 'done'\u001b[0m\n",
      "\u001b[34m2024-11-26 02:55:53,217 sagemaker.remote_function INFO     Requirement already satisfied: nltk in /opt/conda/lib/python3.11/site-packages (from ms-swift@ git+https://github.com/modelscope/ms-swift.git@d13c431a0f337f6a04df2ce5310c5666b0c0c1f2->ms-swift[llm]@ git+https://github.com/modelscope/ms-swift.git@d13c431a0f337f6a04df2ce5310c5666b0c0c1f2->-r /home/sagemaker-user/sagemaker_remote_function_workspace/requirements.txt (line 6)) (3.9.1)\u001b[0m\n",
      "\u001b[34m2024-11-26 02:55:53,225 sagemaker.remote_function INFO     Collecting oss2 (from ms-swift@ git+https://github.com/modelscope/ms-swift.git@d13c431a0f337f6a04df2ce5310c5666b0c0c1f2->ms-swift[llm]@ git+https://github.com/modelscope/ms-swift.git@d13c431a0f337f6a04df2ce5310c5666b0c0c1f2->-r /home/sagemaker-user/sagemaker_remote_function_workspace/requirements.txt (line 6))\u001b[0m\n",
      "\u001b[34m2024-11-26 02:55:53,230 sagemaker.remote_function INFO       Downloading oss2-2.19.1.tar.gz (298 kB)\u001b[0m\n",
      "\u001b[34m2024-11-26 02:55:53,283 sagemaker.remote_function INFO       Preparing metadata (setup.py): started\u001b[0m\n",
      "\u001b[34m2024-11-26 02:55:53,596 sagemaker.remote_function INFO       Preparing metadata (setup.py): finished with status 'done'\u001b[0m\n",
      "\u001b[34m2024-11-26 02:55:53,614 sagemaker.remote_function INFO     Collecting peft<0.13.0,>=0.11.0 (from ms-swift@ git+https://github.com/modelscope/ms-swift.git@d13c431a0f337f6a04df2ce5310c5666b0c0c1f2->ms-swift[llm]@ git+https://github.com/modelscope/ms-swift.git@d13c431a0f337f6a04df2ce5310c5666b0c0c1f2->-r /home/sagemaker-user/sagemaker_remote_function_workspace/requirements.txt (line 6))\u001b[0m\n",
      "\u001b[34m2024-11-26 02:55:53,618 sagemaker.remote_function INFO       Downloading peft-0.12.0-py3-none-any.whl.metadata (13 kB)\u001b[0m\n",
      "\u001b[34m2024-11-26 02:55:53,630 sagemaker.remote_function INFO     Collecting rouge (from ms-swift@ git+https://github.com/modelscope/ms-swift.git@d13c431a0f337f6a04df2ce5310c5666b0c0c1f2->ms-swift[llm]@ git+https://github.com/modelscope/ms-swift.git@d13c431a0f337f6a04df2ce5310c5666b0c0c1f2->-r /home/sagemaker-user/sagemaker_remote_function_workspace/requirements.txt (line 6))\u001b[0m\n",
      "\u001b[34m2024-11-26 02:55:53,634 sagemaker.remote_function INFO       Downloading rouge-1.0.1-py3-none-any.whl.metadata (4.1 kB)\u001b[0m\n",
      "\u001b[34m2024-11-26 02:55:53,636 sagemaker.remote_function INFO     Requirement already satisfied: tensorboard in /opt/conda/lib/python3.11/site-packages (from ms-swift@ git+https://github.com/modelscope/ms-swift.git@d13c431a0f337f6a04df2ce5310c5666b0c0c1f2->ms-swift[llm]@ git+https://github.com/modelscope/ms-swift.git@d13c431a0f337f6a04df2ce5310c5666b0c0c1f2->-r /home/sagemaker-user/sagemaker_remote_function_workspace/requirements.txt (line 6)) (2.17.1)\u001b[0m\n",
      "\u001b[34m2024-11-26 02:55:53,643 sagemaker.remote_function INFO     Collecting transformers_stream_generator (from ms-swift@ git+https://github.com/modelscope/ms-swift.git@d13c431a0f337f6a04df2ce5310c5666b0c0c1f2->ms-swift[llm]@ git+https://github.com/modelscope/ms-swift.git@d13c431a0f337f6a04df2ce5310c5666b0c0c1f2->-r /home/sagemaker-user/sagemaker_remote_function_workspace/requirements.txt (line 6))\u001b[0m\n",
      "\u001b[34m2024-11-26 02:55:53,648 sagemaker.remote_function INFO       Downloading transformers-stream-generator-0.0.5.tar.gz (13 kB)\u001b[0m\n",
      "\u001b[34m2024-11-26 02:55:53,653 sagemaker.remote_function INFO       Preparing metadata (setup.py): started\u001b[0m\n",
      "\u001b[34m2024-11-26 02:55:53,964 sagemaker.remote_function INFO       Preparing metadata (setup.py): finished with status 'done'\u001b[0m\n",
      "\u001b[34m2024-11-26 02:55:53,987 sagemaker.remote_function INFO     Collecting trl<0.12,>=0.11 (from ms-swift@ git+https://github.com/modelscope/ms-swift.git@d13c431a0f337f6a04df2ce5310c5666b0c0c1f2->ms-swift[llm]@ git+https://github.com/modelscope/ms-swift.git@d13c431a0f337f6a04df2ce5310c5666b0c0c1f2->-r /home/sagemaker-user/sagemaker_remote_function_workspace/requirements.txt (line 6))\u001b[0m\n",
      "\u001b[34m2024-11-26 02:55:53,991 sagemaker.remote_function INFO       Downloading trl-0.11.4-py3-none-any.whl.metadata (12 kB)\u001b[0m\n",
      "\u001b[34m2024-11-26 02:55:53,999 sagemaker.remote_function INFO     Requirement already satisfied: datasets<3.0 in /opt/conda/lib/python3.11/site-packages (from ms-swift@ git+https://github.com/modelscope/ms-swift.git@d13c431a0f337f6a04df2ce5310c5666b0c0c1f2->ms-swift[llm]@ git+https://github.com/modelscope/ms-swift.git@d13c431a0f337f6a04df2ce5310c5666b0c0c1f2->-r /home/sagemaker-user/sagemaker_remote_function_workspace/requirements.txt (line 6)) (2.2.1)\u001b[0m\n",
      "\u001b[34m2024-11-26 02:55:54,018 sagemaker.remote_function INFO     Collecting modelscope<1.19,>=1.17 (from modelscope[datasets]<1.19,>=1.17->ms-swift@ git+https://github.com/modelscope/ms-swift.git@d13c431a0f337f6a04df2ce5310c5666b0c0c1f2->ms-swift[llm]@ git+https://github.com/modelscope/ms-swift.git@d13c431a0f337f6a04df2ce5310c5666b0c0c1f2->-r /home/sagemaker-user/sagemaker_remote_function_workspace/requirements.txt (line 6))\u001b[0m\n",
      "\u001b[34m2024-11-26 02:55:54,023 sagemaker.remote_function INFO       Downloading modelscope-1.18.1-py3-none-any.whl.metadata (40 kB)\u001b[0m\n",
      "\u001b[34m2024-11-26 02:55:54,096 sagemaker.remote_function INFO     Requirement already satisfied: filelock in /opt/conda/lib/python3.11/site-packages (from transformers==4.45.0.dev0->-r /home/sagemaker-user/sagemaker_remote_function_workspace/requirements.txt (line 7)) (3.16.1)\u001b[0m\n",
      "\u001b[34m2024-11-26 02:55:54,097 sagemaker.remote_function INFO     Requirement already satisfied: regex!=2019.12.17 in /opt/conda/lib/python3.11/site-packages (from transformers==4.45.0.dev0->-r /home/sagemaker-user/sagemaker_remote_function_workspace/requirements.txt (line 7)) (2024.9.11)\u001b[0m\n",
      "\u001b[34m2024-11-26 02:55:54,315 sagemaker.remote_function INFO     Collecting tokenizers<0.20,>=0.19 (from transformers==4.45.0.dev0->-r /home/sagemaker-user/sagemaker_remote_function_workspace/requirements.txt (line 7))\u001b[0m\n",
      "\u001b[34m2024-11-26 02:55:54,319 sagemaker.remote_function INFO       Downloading tokenizers-0.19.1-cp311-cp311-manylinux_2_17_x86_64.manylinux2014_x86_64.whl.metadata (6.7 kB)\u001b[0m\n",
      "\u001b[34m2024-11-26 02:55:54,325 sagemaker.remote_function INFO     Requirement already satisfied: sentencepiece in /opt/conda/lib/python3.11/site-packages (from vllm>=0.6.1->-r /home/sagemaker-user/sagemaker_remote_function_workspace/requirements.txt (line 10)) (0.1.99)\u001b[0m\n",
      "\u001b[34m2024-11-26 02:55:54,331 sagemaker.remote_function INFO     Collecting py-cpuinfo (from vllm>=0.6.1->-r /home/sagemaker-user/sagemaker_remote_function_workspace/requirements.txt (line 10))\u001b[0m\n",
      "\u001b[34m2024-11-26 02:55:54,336 sagemaker.remote_function INFO       Downloading py_cpuinfo-9.0.0-py3-none-any.whl.metadata (794 bytes)\u001b[0m\n",
      "\u001b[34m2024-11-26 02:55:54,337 sagemaker.remote_function INFO     INFO: pip is looking at multiple versions of vllm to determine which version is compatible with other requirements. This could take a while.\u001b[0m\n",
      "\u001b[34m2024-11-26 02:55:54,337 sagemaker.remote_function INFO     Collecting vllm>=0.6.1 (from -r /home/sagemaker-user/sagemaker_remote_function_workspace/requirements.txt (line 10))\u001b[0m\n",
      "\u001b[34m2024-11-26 02:55:54,341 sagemaker.remote_function INFO       Downloading vllm-0.6.4-cp38-abi3-manylinux1_x86_64.whl.metadata (10 kB)\u001b[0m\n",
      "\u001b[34m2024-11-26 02:55:54,351 sagemaker.remote_function INFO       Downloading vllm-0.6.3.post1-cp38-abi3-manylinux1_x86_64.whl.metadata (10 kB)\u001b[0m\n",
      "\u001b[34m2024-11-26 02:55:54,358 sagemaker.remote_function INFO       Downloading vllm-0.6.3-cp38-abi3-manylinux1_x86_64.whl.metadata (10 kB)\u001b[0m\n",
      "\u001b[34m2024-11-26 02:55:54,366 sagemaker.remote_function INFO       Downloading vllm-0.6.2-cp38-abi3-manylinux1_x86_64.whl.metadata (2.4 kB)\u001b[0m\n",
      "\u001b[34m2024-11-26 02:55:54,373 sagemaker.remote_function INFO       Downloading vllm-0.6.1.post2-cp38-abi3-manylinux1_x86_64.whl.metadata (2.4 kB)\u001b[0m\n",
      "\u001b[34m2024-11-26 02:55:54,442 sagemaker.remote_function INFO     Collecting openai>=1.40.0 (from vllm>=0.6.1->-r /home/sagemaker-user/sagemaker_remote_function_workspace/requirements.txt (line 10))\u001b[0m\n",
      "\u001b[34m2024-11-26 02:55:54,445 sagemaker.remote_function INFO       Downloading openai-1.55.1-py3-none-any.whl.metadata (24 kB)\u001b[0m\n",
      "\u001b[34m2024-11-26 02:55:54,449 sagemaker.remote_function INFO     Requirement already satisfied: uvicorn[standard] in /opt/conda/lib/python3.11/site-packages (from vllm>=0.6.1->-r /home/sagemaker-user/sagemaker_remote_function_workspace/requirements.txt (line 10)) (0.32.0)\u001b[0m\n",
      "\u001b[34m2024-11-26 02:55:54,579 sagemaker.remote_function INFO     Collecting pydantic>=2.9 (from vllm>=0.6.1->-r /home/sagemaker-user/sagemaker_remote_function_workspace/requirements.txt (line 10))\u001b[0m\n",
      "\u001b[34m2024-11-26 02:55:54,582 sagemaker.remote_function INFO       Downloading pydantic-2.10.1-py3-none-any.whl.metadata (169 kB)\u001b[0m\n",
      "\u001b[34m2024-11-26 02:55:54,590 sagemaker.remote_function INFO     Requirement already satisfied: prometheus-client>=0.18.0 in /opt/conda/lib/python3.11/site-packages (from vllm>=0.6.1->-r /home/sagemaker-user/sagemaker_remote_function_workspace/requirements.txt (line 10)) (0.21.0)\u001b[0m\n",
      "\u001b[34m2024-11-26 02:55:54,610 sagemaker.remote_function INFO     Collecting prometheus-fastapi-instrumentator>=7.0.0 (from vllm>=0.6.1->-r /home/sagemaker-user/sagemaker_remote_function_workspace/requirements.txt (line 10))\u001b[0m\n",
      "\u001b[34m2024-11-26 02:55:54,615 sagemaker.remote_function INFO       Downloading prometheus_fastapi_instrumentator-7.0.0-py3-none-any.whl.metadata (13 kB)\u001b[0m\n",
      "\u001b[34m2024-11-26 02:55:54,647 sagemaker.remote_function INFO     Collecting tiktoken>=0.6.0 (from vllm>=0.6.1->-r /home/sagemaker-user/sagemaker_remote_function_workspace/requirements.txt (line 10))\u001b[0m\n",
      "\u001b[34m2024-11-26 02:55:54,650 sagemaker.remote_function INFO       Downloading tiktoken-0.8.0-cp311-cp311-manylinux_2_17_x86_64.manylinux2014_x86_64.whl.metadata (6.6 kB)\u001b[0m\n",
      "\u001b[34m2024-11-26 02:55:54,687 sagemaker.remote_function INFO     Collecting lm-format-enforcer==0.10.6 (from vllm>=0.6.1->-r /home/sagemaker-user/sagemaker_remote_function_workspace/requirements.txt (line 10))\u001b[0m\n",
      "\u001b[34m2024-11-26 02:55:54,691 sagemaker.remote_function INFO       Downloading lm_format_enforcer-0.10.6-py3-none-any.whl.metadata (16 kB)\u001b[0m\n",
      "\u001b[34m2024-11-26 02:55:54,709 sagemaker.remote_function INFO     Collecting outlines<0.1,>=0.0.43 (from vllm>=0.6.1->-r /home/sagemaker-user/sagemaker_remote_function_workspace/requirements.txt (line 10))\u001b[0m\n",
      "\u001b[34m2024-11-26 02:55:54,714 sagemaker.remote_function INFO       Downloading outlines-0.0.46-py3-none-any.whl.metadata (15 kB)\u001b[0m\n",
      "\u001b[34m2024-11-26 02:55:54,718 sagemaker.remote_function INFO     Requirement already satisfied: typing-extensions>=4.10 in /opt/conda/lib/python3.11/site-packages (from vllm>=0.6.1->-r /home/sagemaker-user/sagemaker_remote_function_workspace/requirements.txt (line 10)) (4.12.2)\u001b[0m\n",
      "\u001b[34m2024-11-26 02:55:54,726 sagemaker.remote_function INFO     Collecting partial-json-parser (from vllm>=0.6.1->-r /home/sagemaker-user/sagemaker_remote_function_workspace/requirements.txt (line 10))\u001b[0m\n",
      "\u001b[34m2024-11-26 02:55:54,730 sagemaker.remote_function INFO       Downloading partial_json_parser-0.2.1.1.post4-py3-none-any.whl.metadata (6.2 kB)\u001b[0m\n",
      "\u001b[34m2024-11-26 02:55:54,732 sagemaker.remote_function INFO     Requirement already satisfied: pyzmq in /opt/conda/lib/python3.11/site-packages (from vllm>=0.6.1->-r /home/sagemaker-user/sagemaker_remote_function_workspace/requirements.txt (line 10)) (26.2.0)\u001b[0m\n",
      "\u001b[34m2024-11-26 02:55:54,791 sagemaker.remote_function INFO     Collecting msgspec (from vllm>=0.6.1->-r /home/sagemaker-user/sagemaker_remote_function_workspace/requirements.txt (line 10))\u001b[0m\n",
      "\u001b[34m2024-11-26 02:55:54,797 sagemaker.remote_function INFO       Downloading msgspec-0.18.6-cp311-cp311-manylinux_2_17_x86_64.manylinux2014_x86_64.whl.metadata (6.9 kB)\u001b[0m\n",
      "\u001b[34m2024-11-26 02:55:54,810 sagemaker.remote_function INFO     Collecting gguf==0.9.1 (from vllm>=0.6.1->-r /home/sagemaker-user/sagemaker_remote_function_workspace/requirements.txt (line 10))\u001b[0m\n",
      "\u001b[34m2024-11-26 02:55:54,814 sagemaker.remote_function INFO       Downloading gguf-0.9.1-py3-none-any.whl.metadata (3.3 kB)\u001b[0m\n",
      "\u001b[34m2024-11-26 02:55:54,828 sagemaker.remote_function INFO     Collecting mistral-common>=1.4.0 (from vllm>=0.6.1->-r /home/sagemaker-user/sagemaker_remote_function_workspace/requirements.txt (line 10))\u001b[0m\n",
      "\u001b[34m2024-11-26 02:55:54,832 sagemaker.remote_function INFO       Downloading mistral_common-1.5.1-py3-none-any.whl.metadata (4.6 kB)\u001b[0m\n",
      "\u001b[34m2024-11-26 02:55:54,835 sagemaker.remote_function INFO     Requirement already satisfied: ray>=2.9 in /opt/conda/lib/python3.11/site-packages (from vllm>=0.6.1->-r /home/sagemaker-user/sagemaker_remote_function_workspace/requirements.txt (line 10)) (2.37.0)\u001b[0m\n",
      "\u001b[34m2024-11-26 02:55:54,843 sagemaker.remote_function INFO     Collecting nvidia-ml-py (from vllm>=0.6.1->-r /home/sagemaker-user/sagemaker_remote_function_workspace/requirements.txt (line 10))\u001b[0m\n",
      "\u001b[34m2024-11-26 02:55:54,846 sagemaker.remote_function INFO       Downloading nvidia_ml_py-12.560.30-py3-none-any.whl.metadata (8.6 kB)\u001b[0m\n",
      "\u001b[34m2024-11-26 02:55:54,890 sagemaker.remote_function INFO     Collecting torch>=1.10.0 (from accelerate==1.1.0->-r /home/sagemaker-user/sagemaker_remote_function_workspace/requirements.txt (line 5))\u001b[0m\n",
      "\u001b[34m2024-11-26 02:55:54,893 sagemaker.remote_function INFO       Downloading torch-2.4.0-cp311-cp311-manylinux1_x86_64.whl.metadata (26 kB)\u001b[0m\n",
      "\u001b[34m2024-11-26 02:55:54,942 sagemaker.remote_function INFO     Collecting torchvision==0.19 (from vllm>=0.6.1->-r /home/sagemaker-user/sagemaker_remote_function_workspace/requirements.txt (line 10))\u001b[0m\n",
      "\u001b[34m2024-11-26 02:55:54,946 sagemaker.remote_function INFO       Downloading torchvision-0.19.0-cp311-cp311-manylinux1_x86_64.whl.metadata (6.0 kB)\u001b[0m\n",
      "\u001b[34m2024-11-26 02:55:54,973 sagemaker.remote_function INFO     Collecting xformers==0.0.27.post2 (from vllm>=0.6.1->-r /home/sagemaker-user/sagemaker_remote_function_workspace/requirements.txt (line 10))\u001b[0m\n",
      "\u001b[34m2024-11-26 02:55:54,978 sagemaker.remote_function INFO       Downloading xformers-0.0.27.post2-cp311-cp311-manylinux2014_x86_64.whl.metadata (1.0 kB)\u001b[0m\n",
      "\u001b[34m2024-11-26 02:55:54,986 sagemaker.remote_function INFO     Collecting vllm-flash-attn==2.6.1 (from vllm>=0.6.1->-r /home/sagemaker-user/sagemaker_remote_function_workspace/requirements.txt (line 10))\u001b[0m\n",
      "\u001b[34m2024-11-26 02:55:54,991 sagemaker.remote_function INFO       Downloading vllm_flash_attn-2.6.1-cp311-cp311-manylinux1_x86_64.whl.metadata (476 bytes)\u001b[0m\n",
      "\u001b[34m2024-11-26 02:55:54,992 sagemaker.remote_function INFO     Requirement already satisfied: fastapi>=0.114.1 in /opt/conda/lib/python3.11/site-packages (from vllm>=0.6.1->-r /home/sagemaker-user/sagemaker_remote_function_workspace/requirements.txt (line 10)) (0.115.2)\u001b[0m\n",
      "\u001b[34m2024-11-26 02:55:55,010 sagemaker.remote_function INFO     Collecting interegular>=0.3.2 (from lm-format-enforcer==0.10.6->vllm>=0.6.1->-r /home/sagemaker-user/sagemaker_remote_function_workspace/requirements.txt (line 10))\u001b[0m\n",
      "\u001b[34m2024-11-26 02:55:55,014 sagemaker.remote_function INFO       Downloading interegular-0.3.3-py37-none-any.whl.metadata (3.0 kB)\u001b[0m\n",
      "\u001b[34m2024-11-26 02:55:55,028 sagemaker.remote_function INFO     Requirement already satisfied: sympy in /opt/conda/lib/python3.11/site-packages (from torch>=1.10.0->accelerate==1.1.0->-r /home/sagemaker-user/sagemaker_remote_function_workspace/requirements.txt (line 5)) (1.13.3)\u001b[0m\n",
      "\u001b[34m2024-11-26 02:55:55,028 sagemaker.remote_function INFO     Requirement already satisfied: networkx in /opt/conda/lib/python3.11/site-packages (from torch>=1.10.0->accelerate==1.1.0->-r /home/sagemaker-user/sagemaker_remote_function_workspace/requirements.txt (line 5)) (3.4.1)\u001b[0m\n",
      "\u001b[34m2024-11-26 02:55:55,029 sagemaker.remote_function INFO     Requirement already satisfied: fsspec in /opt/conda/lib/python3.11/site-packages (from torch>=1.10.0->accelerate==1.1.0->-r /home/sagemaker-user/sagemaker_remote_function_workspace/requirements.txt (line 5)) (2023.6.0)\u001b[0m\n",
      "\u001b[34m2024-11-26 02:55:55,040 sagemaker.remote_function INFO     Collecting nvidia-cuda-nvrtc-cu12==12.1.105 (from torch>=1.10.0->accelerate==1.1.0->-r /home/sagemaker-user/sagemaker_remote_function_workspace/requirements.txt (line 5))\u001b[0m\n",
      "\u001b[34m2024-11-26 02:55:55,043 sagemaker.remote_function INFO       Downloading nvidia_cuda_nvrtc_cu12-12.1.105-py3-none-manylinux1_x86_64.whl.metadata (1.5 kB)\u001b[0m\n",
      "\u001b[34m2024-11-26 02:55:55,052 sagemaker.remote_function INFO     Collecting nvidia-cuda-runtime-cu12==12.1.105 (from torch>=1.10.0->accelerate==1.1.0->-r /home/sagemaker-user/sagemaker_remote_function_workspace/requirements.txt (line 5))\u001b[0m\n",
      "\u001b[34m2024-11-26 02:55:55,055 sagemaker.remote_function INFO       Downloading nvidia_cuda_runtime_cu12-12.1.105-py3-none-manylinux1_x86_64.whl.metadata (1.5 kB)\u001b[0m\n",
      "\u001b[34m2024-11-26 02:55:55,063 sagemaker.remote_function INFO     Collecting nvidia-cuda-cupti-cu12==12.1.105 (from torch>=1.10.0->accelerate==1.1.0->-r /home/sagemaker-user/sagemaker_remote_function_workspace/requirements.txt (line 5))\u001b[0m\n",
      "\u001b[34m2024-11-26 02:55:55,069 sagemaker.remote_function INFO       Downloading nvidia_cuda_cupti_cu12-12.1.105-py3-none-manylinux1_x86_64.whl.metadata (1.6 kB)\u001b[0m\n",
      "\u001b[34m2024-11-26 02:55:55,078 sagemaker.remote_function INFO     Collecting nvidia-cudnn-cu12==9.1.0.70 (from torch>=1.10.0->accelerate==1.1.0->-r /home/sagemaker-user/sagemaker_remote_function_workspace/requirements.txt (line 5))\u001b[0m\n",
      "\u001b[34m2024-11-26 02:55:55,081 sagemaker.remote_function INFO       Downloading nvidia_cudnn_cu12-9.1.0.70-py3-none-manylinux2014_x86_64.whl.metadata (1.6 kB)\u001b[0m\n",
      "\u001b[34m2024-11-26 02:55:55,090 sagemaker.remote_function INFO     Collecting nvidia-cublas-cu12==12.1.3.1 (from torch>=1.10.0->accelerate==1.1.0->-r /home/sagemaker-user/sagemaker_remote_function_workspace/requirements.txt (line 5))\u001b[0m\n",
      "\u001b[34m2024-11-26 02:55:55,093 sagemaker.remote_function INFO       Downloading nvidia_cublas_cu12-12.1.3.1-py3-none-manylinux1_x86_64.whl.metadata (1.5 kB)\u001b[0m\n",
      "\u001b[34m2024-11-26 02:55:55,102 sagemaker.remote_function INFO     Collecting nvidia-cufft-cu12==11.0.2.54 (from torch>=1.10.0->accelerate==1.1.0->-r /home/sagemaker-user/sagemaker_remote_function_workspace/requirements.txt (line 5))\u001b[0m\n",
      "\u001b[34m2024-11-26 02:55:55,104 sagemaker.remote_function INFO       Downloading nvidia_cufft_cu12-11.0.2.54-py3-none-manylinux1_x86_64.whl.metadata (1.5 kB)\u001b[0m\n",
      "\u001b[34m2024-11-26 02:55:55,114 sagemaker.remote_function INFO     Collecting nvidia-curand-cu12==10.3.2.106 (from torch>=1.10.0->accelerate==1.1.0->-r /home/sagemaker-user/sagemaker_remote_function_workspace/requirements.txt (line 5))\u001b[0m\n",
      "\u001b[34m2024-11-26 02:55:55,116 sagemaker.remote_function INFO       Downloading nvidia_curand_cu12-10.3.2.106-py3-none-manylinux1_x86_64.whl.metadata (1.5 kB)\u001b[0m\n",
      "\u001b[34m2024-11-26 02:55:55,125 sagemaker.remote_function INFO     Collecting nvidia-cusolver-cu12==11.4.5.107 (from torch>=1.10.0->accelerate==1.1.0->-r /home/sagemaker-user/sagemaker_remote_function_workspace/requirements.txt (line 5))\u001b[0m\n",
      "\u001b[34m2024-11-26 02:55:55,128 sagemaker.remote_function INFO       Downloading nvidia_cusolver_cu12-11.4.5.107-py3-none-manylinux1_x86_64.whl.metadata (1.6 kB)\u001b[0m\n",
      "\u001b[34m2024-11-26 02:55:55,137 sagemaker.remote_function INFO     Collecting nvidia-cusparse-cu12==12.1.0.106 (from torch>=1.10.0->accelerate==1.1.0->-r /home/sagemaker-user/sagemaker_remote_function_workspace/requirements.txt (line 5))\u001b[0m\n",
      "\u001b[34m2024-11-26 02:55:55,141 sagemaker.remote_function INFO       Downloading nvidia_cusparse_cu12-12.1.0.106-py3-none-manylinux1_x86_64.whl.metadata (1.6 kB)\u001b[0m\n",
      "\u001b[34m2024-11-26 02:55:55,148 sagemaker.remote_function INFO     Collecting nvidia-nccl-cu12==2.20.5 (from torch>=1.10.0->accelerate==1.1.0->-r /home/sagemaker-user/sagemaker_remote_function_workspace/requirements.txt (line 5))\u001b[0m\n",
      "\u001b[34m2024-11-26 02:55:55,151 sagemaker.remote_function INFO       Downloading nvidia_nccl_cu12-2.20.5-py3-none-manylinux2014_x86_64.whl.metadata (1.8 kB)\u001b[0m\n",
      "\u001b[34m2024-11-26 02:55:55,160 sagemaker.remote_function INFO     Collecting nvidia-nvtx-cu12==12.1.105 (from torch>=1.10.0->accelerate==1.1.0->-r /home/sagemaker-user/sagemaker_remote_function_workspace/requirements.txt (line 5))\u001b[0m\n",
      "\u001b[34m2024-11-26 02:55:55,163 sagemaker.remote_function INFO       Downloading nvidia_nvtx_cu12-12.1.105-py3-none-manylinux1_x86_64.whl.metadata (1.7 kB)\u001b[0m\n",
      "\u001b[34m2024-11-26 02:55:55,172 sagemaker.remote_function INFO     Collecting triton==3.0.0 (from torch>=1.10.0->accelerate==1.1.0->-r /home/sagemaker-user/sagemaker_remote_function_workspace/requirements.txt (line 5))\u001b[0m\n",
      "\u001b[34m2024-11-26 02:55:55,175 sagemaker.remote_function INFO       Downloading triton-3.0.0-1-cp311-cp311-manylinux2014_x86_64.manylinux_2_17_x86_64.whl.metadata (1.3 kB)\u001b[0m\n",
      "\u001b[34m2024-11-26 02:55:55,205 sagemaker.remote_function INFO     Collecting nvidia-nvjitlink-cu12 (from nvidia-cusolver-cu12==11.4.5.107->torch>=1.10.0->accelerate==1.1.0->-r /home/sagemaker-user/sagemaker_remote_function_workspace/requirements.txt (line 5))\u001b[0m\n",
      "\u001b[34m2024-11-26 02:55:55,208 sagemaker.remote_function INFO       Downloading nvidia_nvjitlink_cu12-12.6.85-py3-none-manylinux2010_x86_64.manylinux_2_12_x86_64.whl.metadata (1.5 kB)\u001b[0m\n",
      "\u001b[34m2024-11-26 02:55:55,238 sagemaker.remote_function INFO     Collecting coloredlogs (from optimum->-r /home/sagemaker-user/sagemaker_remote_function_workspace/requirements.txt (line 12))\u001b[0m\n",
      "\u001b[34m2024-11-26 02:55:55,241 sagemaker.remote_function INFO       Downloading coloredlogs-15.0.1-py2.py3-none-any.whl.metadata (12 kB)\u001b[0m\n",
      "\u001b[34m2024-11-26 02:55:55,268 sagemaker.remote_function INFO     Collecting gekko (from auto-gptq->-r /home/sagemaker-user/sagemaker_remote_function_workspace/requirements.txt (line 14))\u001b[0m\n",
      "\u001b[34m2024-11-26 02:55:55,275 sagemaker.remote_function INFO       Downloading gekko-1.2.1-py3-none-any.whl.metadata (3.0 kB)\u001b[0m\n",
      "\u001b[34m2024-11-26 02:55:55,285 sagemaker.remote_function INFO     Requirement already satisfied: charset_normalizer in /opt/conda/lib/python3.11/site-packages (from ms-swift@ git+https://github.com/modelscope/ms-swift.git@d13c431a0f337f6a04df2ce5310c5666b0c0c1f2->ms-swift[llm]@ git+https://github.com/modelscope/ms-swift.git@d13c431a0f337f6a04df2ce5310c5666b0c0c1f2->-r /home/sagemaker-user/sagemaker_remote_function_workspace/requirements.txt (line 6)) (3.4.0)\u001b[0m\n",
      "\u001b[34m2024-11-26 02:55:55,293 sagemaker.remote_function INFO     Collecting cpm_kernels (from ms-swift@ git+https://github.com/modelscope/ms-swift.git@d13c431a0f337f6a04df2ce5310c5666b0c0c1f2->ms-swift[llm]@ git+https://github.com/modelscope/ms-swift.git@d13c431a0f337f6a04df2ce5310c5666b0c0c1f2->-r /home/sagemaker-user/sagemaker_remote_function_workspace/requirements.txt (line 6))\u001b[0m\n",
      "\u001b[34m2024-11-26 02:55:55,297 sagemaker.remote_function INFO       Downloading cpm_kernels-1.0.11-py3-none-any.whl.metadata (1.2 kB)\u001b[0m\n",
      "\u001b[34m2024-11-26 02:55:55,505 sagemaker.remote_function INFO     Collecting gradio>=3.40.0 (from ms-swift@ git+https://github.com/modelscope/ms-swift.git@d13c431a0f337f6a04df2ce5310c5666b0c0c1f2->ms-swift[llm]@ git+https://github.com/modelscope/ms-swift.git@d13c431a0f337f6a04df2ce5310c5666b0c0c1f2->-r /home/sagemaker-user/sagemaker_remote_function_workspace/requirements.txt (line 6))\u001b[0m\n",
      "\u001b[34m2024-11-26 02:55:55,511 sagemaker.remote_function INFO       Downloading gradio-5.6.0-py3-none-any.whl.metadata (16 kB)\u001b[0m\n",
      "\u001b[34m2024-11-26 02:55:55,517 sagemaker.remote_function INFO     Requirement already satisfied: Mako in /opt/conda/lib/python3.11/site-packages (from alembic!=1.10.0,<2->mlflow->-r /home/sagemaker-user/sagemaker_remote_function_workspace/requirements.txt (line 3)) (1.3.5)\u001b[0m\n",
      "\u001b[34m2024-11-26 02:55:55,524 sagemaker.remote_function INFO     Requirement already satisfied: botocore<1.35.0,>=1.34.162 in /opt/conda/lib/python3.11/site-packages (from boto3<2.0,>=1.34.142->sagemaker==2.227->-r /home/sagemaker-user/sagemaker_remote_function_workspace/requirements.txt (line 2)) (1.34.162)\u001b[0m\n",
      "\u001b[34m2024-11-26 02:55:55,524 sagemaker.remote_function INFO     Requirement already satisfied: jmespath<2.0.0,>=0.7.1 in /opt/conda/lib/python3.11/site-packages (from boto3<2.0,>=1.34.142->sagemaker==2.227->-r /home/sagemaker-user/sagemaker_remote_function_workspace/requirements.txt (line 2)) (1.0.1)\u001b[0m\n",
      "\u001b[34m2024-11-26 02:55:55,524 sagemaker.remote_function INFO     Requirement already satisfied: s3transfer<0.11.0,>=0.10.0 in /opt/conda/lib/python3.11/site-packages (from boto3<2.0,>=1.34.142->sagemaker==2.227->-r /home/sagemaker-user/sagemaker_remote_function_workspace/requirements.txt (line 2)) (0.10.3)\u001b[0m\n",
      "\u001b[34m2024-11-26 02:55:55,538 sagemaker.remote_function INFO     Requirement already satisfied: dill in /opt/conda/lib/python3.11/site-packages (from datasets<3.0->ms-swift@ git+https://github.com/modelscope/ms-swift.git@d13c431a0f337f6a04df2ce5310c5666b0c0c1f2->ms-swift[llm]@ git+https://github.com/modelscope/ms-swift.git@d13c431a0f337f6a04df2ce5310c5666b0c0c1f2->-r /home/sagemaker-user/sagemaker_remote_function_workspace/requirements.txt (line 6)) (0.3.9)\u001b[0m\n",
      "\u001b[34m2024-11-26 02:55:55,539 sagemaker.remote_function INFO     Requirement already satisfied: xxhash in /opt/conda/lib/python3.11/site-packages (from datasets<3.0->ms-swift@ git+https://github.com/modelscope/ms-swift.git@d13c431a0f337f6a04df2ce5310c5666b0c0c1f2->ms-swift[llm]@ git+https://github.com/modelscope/ms-swift.git@d13c431a0f337f6a04df2ce5310c5666b0c0c1f2->-r /home/sagemaker-user/sagemaker_remote_function_workspace/requirements.txt (line 6)) (3.5.0)\u001b[0m\n",
      "\u001b[34m2024-11-26 02:55:55,539 sagemaker.remote_function INFO     Requirement already satisfied: multiprocess in /opt/conda/lib/python3.11/site-packages (from datasets<3.0->ms-swift@ git+https://github.com/modelscope/ms-swift.git@d13c431a0f337f6a04df2ce5310c5666b0c0c1f2->ms-swift[llm]@ git+https://github.com/modelscope/ms-swift.git@d13c431a0f337f6a04df2ce5310c5666b0c0c1f2->-r /home/sagemaker-user/sagemaker_remote_function_workspace/requirements.txt (line 6)) (0.70.16)\u001b[0m\n",
      "\u001b[34m2024-11-26 02:55:55,540 sagemaker.remote_function INFO     Requirement already satisfied: responses<0.19 in /opt/conda/lib/python3.11/site-packages (from datasets<3.0->ms-swift@ git+https://github.com/modelscope/ms-swift.git@d13c431a0f337f6a04df2ce5310c5666b0c0c1f2->ms-swift[llm]@ git+https://github.com/modelscope/ms-swift.git@d13c431a0f337f6a04df2ce5310c5666b0c0c1f2->-r /home/sagemaker-user/sagemaker_remote_function_workspace/requirements.txt (line 6)) (0.18.0)\u001b[0m\n",
      "\u001b[34m2024-11-26 02:55:55,548 sagemaker.remote_function INFO     Requirement already satisfied: starlette<0.41.0,>=0.37.2 in /opt/conda/lib/python3.11/site-packages (from fastapi>=0.114.1->vllm>=0.6.1->-r /home/sagemaker-user/sagemaker_remote_function_workspace/requirements.txt (line 10)) (0.40.0)\u001b[0m\n",
      "\u001b[34m2024-11-26 02:55:55,598 sagemaker.remote_function INFO     Requirement already satisfied: Werkzeug>=3.0.0 in /opt/conda/lib/python3.11/site-packages (from Flask<4->mlflow->-r /home/sagemaker-user/sagemaker_remote_function_workspace/requirements.txt (line 3)) (3.0.4)\u001b[0m\n",
      "\u001b[34m2024-11-26 02:55:55,598 sagemaker.remote_function INFO     Requirement already satisfied: itsdangerous>=2.1.2 in /opt/conda/lib/python3.11/site-packages (from Flask<4->mlflow->-r /home/sagemaker-user/sagemaker_remote_function_workspace/requirements.txt (line 3)) (2.2.0)\u001b[0m\n",
      "\u001b[34m2024-11-26 02:55:55,599 sagemaker.remote_function INFO     Requirement already satisfied: blinker>=1.6.2 in /opt/conda/lib/python3.11/site-packages (from Flask<4->mlflow->-r /home/sagemaker-user/sagemaker_remote_function_workspace/requirements.txt (line 3)) (1.8.2)\u001b[0m\n",
      "\u001b[34m2024-11-26 02:55:55,609 sagemaker.remote_function INFO     Collecting aiofiles<24.0,>=22.0 (from gradio>=3.40.0->ms-swift@ git+https://github.com/modelscope/ms-swift.git@d13c431a0f337f6a04df2ce5310c5666b0c0c1f2->ms-swift[llm]@ git+https://github.com/modelscope/ms-swift.git@d13c431a0f337f6a04df2ce5310c5666b0c0c1f2->-r /home/sagemaker-user/sagemaker_remote_function_workspace/requirements.txt (line 6))\u001b[0m\n",
      "\u001b[34m2024-11-26 02:55:55,612 sagemaker.remote_function INFO       Downloading aiofiles-23.2.1-py3-none-any.whl.metadata (9.7 kB)\u001b[0m\n",
      "\u001b[34m2024-11-26 02:55:55,614 sagemaker.remote_function INFO     Requirement already satisfied: anyio<5.0,>=3.0 in /opt/conda/lib/python3.11/site-packages (from gradio>=3.40.0->ms-swift@ git+https://github.com/modelscope/ms-swift.git@d13c431a0f337f6a04df2ce5310c5666b0c0c1f2->ms-swift[llm]@ git+https://github.com/modelscope/ms-swift.git@d13c431a0f337f6a04df2ce5310c5666b0c0c1f2->-r /home/sagemaker-user/sagemaker_remote_function_workspace/requirements.txt (line 6)) (4.6.2.post1)\u001b[0m\n",
      "\u001b[34m2024-11-26 02:55:55,619 sagemaker.remote_function INFO     Collecting ffmpy (from gradio>=3.40.0->ms-swift@ git+https://github.com/modelscope/ms-swift.git@d13c431a0f337f6a04df2ce5310c5666b0c0c1f2->ms-swift[llm]@ git+https://github.com/modelscope/ms-swift.git@d13c431a0f337f6a04df2ce5310c5666b0c0c1f2->-r /home/sagemaker-user/sagemaker_remote_function_workspace/requirements.txt (line 6))\u001b[0m\n",
      "\u001b[34m2024-11-26 02:55:55,622 sagemaker.remote_function INFO       Downloading ffmpy-0.4.0-py3-none-any.whl.metadata (2.9 kB)\u001b[0m\n",
      "\u001b[34m2024-11-26 02:55:55,649 sagemaker.remote_function INFO     Collecting gradio-client==1.4.3 (from gradio>=3.40.0->ms-swift@ git+https://github.com/modelscope/ms-swift.git@d13c431a0f337f6a04df2ce5310c5666b0c0c1f2->ms-swift[llm]@ git+https://github.com/modelscope/ms-swift.git@d13c431a0f337f6a04df2ce5310c5666b0c0c1f2->-r /home/sagemaker-user/sagemaker_remote_function_workspace/requirements.txt (line 6))\u001b[0m\n",
      "\u001b[34m2024-11-26 02:55:55,652 sagemaker.remote_function INFO       Downloading gradio_client-1.4.3-py3-none-any.whl.metadata (7.1 kB)\u001b[0m\n",
      "\u001b[34m2024-11-26 02:55:55,654 sagemaker.remote_function INFO     Requirement already satisfied: httpx>=0.24.1 in /opt/conda/lib/python3.11/site-packages (from gradio>=3.40.0->ms-swift@ git+https://github.com/modelscope/ms-swift.git@d13c431a0f337f6a04df2ce5310c5666b0c0c1f2->ms-swift[llm]@ git+https://github.com/modelscope/ms-swift.git@d13c431a0f337f6a04df2ce5310c5666b0c0c1f2->-r /home/sagemaker-user/sagemaker_remote_function_workspace/requirements.txt (line 6)) (0.27.2)\u001b[0m\n",
      "\u001b[34m2024-11-26 02:55:55,710 sagemaker.remote_function INFO     Collecting markupsafe~=2.0 (from gradio>=3.40.0->ms-swift@ git+https://github.com/modelscope/ms-swift.git@d13c431a0f337f6a04df2ce5310c5666b0c0c1f2->ms-swift[llm]@ git+https://github.com/modelscope/ms-swift.git@d13c431a0f337f6a04df2ce5310c5666b0c0c1f2->-r /home/sagemaker-user/sagemaker_remote_function_workspace/requirements.txt (line 6))\u001b[0m\n",
      "\u001b[34m2024-11-26 02:55:55,718 sagemaker.remote_function INFO       Downloading MarkupSafe-2.1.5-cp311-cp311-manylinux_2_17_x86_64.manylinux2014_x86_64.whl.metadata (3.0 kB)\u001b[0m\n",
      "\u001b[34m2024-11-26 02:55:55,720 sagemaker.remote_function INFO     Requirement already satisfied: orjson~=3.0 in /opt/conda/lib/python3.11/site-packages (from gradio>=3.40.0->ms-swift@ git+https://github.com/modelscope/ms-swift.git@d13c431a0f337f6a04df2ce5310c5666b0c0c1f2->ms-swift[llm]@ git+https://github.com/modelscope/ms-swift.git@d13c431a0f337f6a04df2ce5310c5666b0c0c1f2->-r /home/sagemaker-user/sagemaker_remote_function_workspace/requirements.txt (line 6)) (3.10.7)\u001b[0m\n",
      "\u001b[34m2024-11-26 02:55:55,770 sagemaker.remote_function INFO     Collecting pydub (from gradio>=3.40.0->ms-swift@ git+https://github.com/modelscope/ms-swift.git@d13c431a0f337f6a04df2ce5310c5666b0c0c1f2->ms-swift[llm]@ git+https://github.com/modelscope/ms-swift.git@d13c431a0f337f6a04df2ce5310c5666b0c0c1f2->-r /home/sagemaker-user/sagemaker_remote_function_workspace/requirements.txt (line 6))\u001b[0m\n",
      "\u001b[34m2024-11-26 02:55:55,773 sagemaker.remote_function INFO       Downloading pydub-0.25.1-py2.py3-none-any.whl.metadata (1.4 kB)\u001b[0m\n",
      "\u001b[34m2024-11-26 02:55:55,774 sagemaker.remote_function INFO     Requirement already satisfied: python-multipart==0.0.12 in /opt/conda/lib/python3.11/site-packages (from gradio>=3.40.0->ms-swift@ git+https://github.com/modelscope/ms-swift.git@d13c431a0f337f6a04df2ce5310c5666b0c0c1f2->ms-swift[llm]@ git+https://github.com/modelscope/ms-swift.git@d13c431a0f337f6a04df2ce5310c5666b0c0c1f2->-r /home/sagemaker-user/sagemaker_remote_function_workspace/requirements.txt (line 6)) (0.0.12)\u001b[0m\n",
      "\u001b[34m2024-11-26 02:55:56,234 sagemaker.remote_function INFO     Collecting ruff>=0.2.2 (from gradio>=3.40.0->ms-swift@ git+https://github.com/modelscope/ms-swift.git@d13c431a0f337f6a04df2ce5310c5666b0c0c1f2->ms-swift[llm]@ git+https://github.com/modelscope/ms-swift.git@d13c431a0f337f6a04df2ce5310c5666b0c0c1f2->-r /home/sagemaker-user/sagemaker_remote_function_workspace/requirements.txt (line 6))\u001b[0m\n",
      "\u001b[34m2024-11-26 02:55:56,238 sagemaker.remote_function INFO       Downloading ruff-0.8.0-py3-none-manylinux_2_17_x86_64.manylinux2014_x86_64.whl.metadata (25 kB)\u001b[0m\n",
      "\u001b[34m2024-11-26 02:55:56,247 sagemaker.remote_function INFO     Collecting safehttpx<1.0,>=0.1.1 (from gradio>=3.40.0->ms-swift@ git+https://github.com/modelscope/ms-swift.git@d13c431a0f337f6a04df2ce5310c5666b0c0c1f2->ms-swift[llm]@ git+https://github.com/modelscope/ms-swift.git@d13c431a0f337f6a04df2ce5310c5666b0c0c1f2->-r /home/sagemaker-user/sagemaker_remote_function_workspace/requirements.txt (line 6))\u001b[0m\n",
      "\u001b[34m2024-11-26 02:55:56,251 sagemaker.remote_function INFO       Downloading safehttpx-0.1.1-py3-none-any.whl.metadata (4.1 kB)\u001b[0m\n",
      "\u001b[34m2024-11-26 02:55:56,265 sagemaker.remote_function INFO     Collecting semantic-version~=2.0 (from gradio>=3.40.0->ms-swift@ git+https://github.com/modelscope/ms-swift.git@d13c431a0f337f6a04df2ce5310c5666b0c0c1f2->ms-swift[llm]@ git+https://github.com/modelscope/ms-swift.git@d13c431a0f337f6a04df2ce5310c5666b0c0c1f2->-r /home/sagemaker-user/sagemaker_remote_function_workspace/requirements.txt (line 6))\u001b[0m\n",
      "\u001b[34m2024-11-26 02:55:56,268 sagemaker.remote_function INFO       Downloading semantic_version-2.10.0-py2.py3-none-any.whl.metadata (9.7 kB)\u001b[0m\n",
      "\u001b[34m2024-11-26 02:55:56,298 sagemaker.remote_function INFO     Collecting tomlkit==0.12.0 (from gradio>=3.40.0->ms-swift@ git+https://github.com/modelscope/ms-swift.git@d13c431a0f337f6a04df2ce5310c5666b0c0c1f2->ms-swift[llm]@ git+https://github.com/modelscope/ms-swift.git@d13c431a0f337f6a04df2ce5310c5666b0c0c1f2->-r /home/sagemaker-user/sagemaker_remote_function_workspace/requirements.txt (line 6))\u001b[0m\n",
      "\u001b[34m2024-11-26 02:55:56,303 sagemaker.remote_function INFO       Downloading tomlkit-0.12.0-py3-none-any.whl.metadata (2.7 kB)\u001b[0m\n",
      "\u001b[34m2024-11-26 02:55:56,304 sagemaker.remote_function INFO     Requirement already satisfied: typer<1.0,>=0.12 in /opt/conda/lib/python3.11/site-packages (from gradio>=3.40.0->ms-swift@ git+https://github.com/modelscope/ms-swift.git@d13c431a0f337f6a04df2ce5310c5666b0c0c1f2->ms-swift[llm]@ git+https://github.com/modelscope/ms-swift.git@d13c431a0f337f6a04df2ce5310c5666b0c0c1f2->-r /home/sagemaker-user/sagemaker_remote_function_workspace/requirements.txt (line 6)) (0.12.5)\u001b[0m\n",
      "\u001b[34m2024-11-26 02:55:56,398 sagemaker.remote_function INFO     Collecting websockets<13.0,>=10.0 (from gradio-client==1.4.3->gradio>=3.40.0->ms-swift@ git+https://github.com/modelscope/ms-swift.git@d13c431a0f337f6a04df2ce5310c5666b0c0c1f2->ms-swift[llm]@ git+https://github.com/modelscope/ms-swift.git@d13c431a0f337f6a04df2ce5310c5666b0c0c1f2->-r /home/sagemaker-user/sagemaker_remote_function_workspace/requirements.txt (line 6))\u001b[0m\n",
      "\u001b[34m2024-11-26 02:55:56,402 sagemaker.remote_function INFO       Downloading websockets-12.0-cp311-cp311-manylinux_2_5_x86_64.manylinux1_x86_64.manylinux_2_17_x86_64.manylinux2014_x86_64.whl.metadata (6.6 kB)\u001b[0m\n",
      "\u001b[34m2024-11-26 02:55:56,414 sagemaker.remote_function INFO     Requirement already satisfied: graphql-core<3.3,>=3.1 in /opt/conda/lib/python3.11/site-packages (from graphene<4->mlflow->-r /home/sagemaker-user/sagemaker_remote_function_workspace/requirements.txt (line 3)) (3.2.5)\u001b[0m\n",
      "\u001b[34m2024-11-26 02:55:56,414 sagemaker.remote_function INFO     Requirement already satisfied: graphql-relay<3.3,>=3.1 in /opt/conda/lib/python3.11/site-packages (from graphene<4->mlflow->-r /home/sagemaker-user/sagemaker_remote_function_workspace/requirements.txt (line 3)) (3.2.0)\u001b[0m\n",
      "\u001b[34m2024-11-26 02:55:56,433 sagemaker.remote_function INFO     Requirement already satisfied: zipp>=0.5 in /opt/conda/lib/python3.11/site-packages (from importlib-metadata<7.0,>=1.4.0->sagemaker==2.227->-r /home/sagemaker-user/sagemaker_remote_function_workspace/requirements.txt (line 2)) (3.20.2)\u001b[0m\n",
      "\u001b[34m2024-11-26 02:55:56,445 sagemaker.remote_function INFO     Requirement already satisfied: contourpy>=1.0.1 in /opt/conda/lib/python3.11/site-packages (from matplotlib<4->mlflow->-r /home/sagemaker-user/sagemaker_remote_function_workspace/requirements.txt (line 3)) (1.3.0)\u001b[0m\n",
      "\u001b[34m2024-11-26 02:55:56,446 sagemaker.remote_function INFO     Requirement already satisfied: cycler>=0.10 in /opt/conda/lib/python3.11/site-packages (from matplotlib<4->mlflow->-r /home/sagemaker-user/sagemaker_remote_function_workspace/requirements.txt (line 3)) (0.12.1)\u001b[0m\n",
      "\u001b[34m2024-11-26 02:55:56,446 sagemaker.remote_function INFO     Requirement already satisfied: fonttools>=4.22.0 in /opt/conda/lib/python3.11/site-packages (from matplotlib<4->mlflow->-r /home/sagemaker-user/sagemaker_remote_function_workspace/requirements.txt (line 3)) (4.54.1)\u001b[0m\n",
      "\u001b[34m2024-11-26 02:55:56,447 sagemaker.remote_function INFO     Requirement already satisfied: kiwisolver>=1.3.1 in /opt/conda/lib/python3.11/site-packages (from matplotlib<4->mlflow->-r /home/sagemaker-user/sagemaker_remote_function_workspace/requirements.txt (line 3)) (1.4.7)\u001b[0m\n",
      "\u001b[34m2024-11-26 02:55:56,448 sagemaker.remote_function INFO     Requirement already satisfied: pyparsing>=2.3.1 in /opt/conda/lib/python3.11/site-packages (from matplotlib<4->mlflow->-r /home/sagemaker-user/sagemaker_remote_function_workspace/requirements.txt (line 3)) (3.2.0)\u001b[0m\n",
      "\u001b[34m2024-11-26 02:55:56,448 sagemaker.remote_function INFO     Requirement already satisfied: python-dateutil>=2.7 in /opt/conda/lib/python3.11/site-packages (from matplotlib<4->mlflow->-r /home/sagemaker-user/sagemaker_remote_function_workspace/requirements.txt (line 3)) (2.9.0)\u001b[0m\n",
      "\u001b[34m2024-11-26 02:55:56,536 sagemaker.remote_function INFO     Collecting sentencepiece (from vllm>=0.6.1->-r /home/sagemaker-user/sagemaker_remote_function_workspace/requirements.txt (line 10))\u001b[0m\n",
      "\u001b[34m2024-11-26 02:55:56,541 sagemaker.remote_function INFO       Downloading sentencepiece-0.2.0-cp311-cp311-manylinux_2_17_x86_64.manylinux2014_x86_64.whl.metadata (7.7 kB)\u001b[0m\n",
      "\u001b[34m2024-11-26 02:55:56,544 sagemaker.remote_function INFO     Collecting tiktoken>=0.6.0 (from vllm>=0.6.1->-r /home/sagemaker-user/sagemaker_remote_function_workspace/requirements.txt (line 10))\u001b[0m\n",
      "\u001b[34m2024-11-26 02:55:56,549 sagemaker.remote_function INFO       Downloading tiktoken-0.7.0-cp311-cp311-manylinux_2_17_x86_64.manylinux2014_x86_64.whl.metadata (6.6 kB)\u001b[0m\n",
      "\u001b[34m2024-11-26 02:55:56,558 sagemaker.remote_function INFO     Requirement already satisfied: jsonschema-specifications>=2023.03.6 in /opt/conda/lib/python3.11/site-packages (from jsonschema->sagemaker==2.227->-r /home/sagemaker-user/sagemaker_remote_function_workspace/requirements.txt (line 2)) (2024.10.1)\u001b[0m\n",
      "\u001b[34m2024-11-26 02:55:56,559 sagemaker.remote_function INFO     Requirement already satisfied: referencing>=0.28.4 in /opt/conda/lib/python3.11/site-packages (from jsonschema->sagemaker==2.227->-r /home/sagemaker-user/sagemaker_remote_function_workspace/requirements.txt (line 2)) (0.35.1)\u001b[0m\n",
      "\u001b[34m2024-11-26 02:55:56,559 sagemaker.remote_function INFO     Requirement already satisfied: rpds-py>=0.7.1 in /opt/conda/lib/python3.11/site-packages (from jsonschema->sagemaker==2.227->-r /home/sagemaker-user/sagemaker_remote_function_workspace/requirements.txt (line 2)) (0.20.0)\u001b[0m\n",
      "\u001b[34m2024-11-26 02:55:56,602 sagemaker.remote_function INFO     Collecting datasets<3.0 (from ms-swift@ git+https://github.com/modelscope/ms-swift.git@d13c431a0f337f6a04df2ce5310c5666b0c0c1f2->ms-swift[llm]@ git+https://github.com/modelscope/ms-swift.git@d13c431a0f337f6a04df2ce5310c5666b0c0c1f2->-r /home/sagemaker-user/sagemaker_remote_function_workspace/requirements.txt (line 6))\u001b[0m\n",
      "\u001b[34m2024-11-26 02:55:56,606 sagemaker.remote_function INFO       Downloading datasets-2.21.0-py3-none-any.whl.metadata (21 kB)\u001b[0m\n",
      "\u001b[34m2024-11-26 02:55:56,824 sagemaker.remote_function INFO     Collecting setuptools==69.5.1 (from modelscope[datasets]<1.19,>=1.17->ms-swift@ git+https://github.com/modelscope/ms-swift.git@d13c431a0f337f6a04df2ce5310c5666b0c0c1f2->ms-swift[llm]@ git+https://github.com/modelscope/ms-swift.git@d13c431a0f337f6a04df2ce5310c5666b0c0c1f2->-r /home/sagemaker-user/sagemaker_remote_function_workspace/requirements.txt (line 6))\u001b[0m\n",
      "\u001b[34m2024-11-26 02:55:56,832 sagemaker.remote_function INFO       Downloading setuptools-69.5.1-py3-none-any.whl.metadata (6.2 kB)\u001b[0m\n",
      "\u001b[34m2024-11-26 02:55:56,925 sagemaker.remote_function INFO     Collecting simplejson>=3.3.0 (from modelscope[datasets]<1.19,>=1.17->ms-swift@ git+https://github.com/modelscope/ms-swift.git@d13c431a0f337f6a04df2ce5310c5666b0c0c1f2->ms-swift[llm]@ git+https://github.com/modelscope/ms-swift.git@d13c431a0f337f6a04df2ce5310c5666b0c0c1f2->-r /home/sagemaker-user/sagemaker_remote_function_workspace/requirements.txt (line 6))\u001b[0m\n",
      "\u001b[34m2024-11-26 02:55:56,929 sagemaker.remote_function INFO       Downloading simplejson-3.19.3-cp311-cp311-manylinux_2_5_x86_64.manylinux1_x86_64.manylinux_2_17_x86_64.manylinux2014_x86_64.whl.metadata (3.2 kB)\u001b[0m\n",
      "\u001b[34m2024-11-26 02:55:56,931 sagemaker.remote_function INFO     Requirement already satisfied: sortedcontainers>=1.5.9 in /opt/conda/lib/python3.11/site-packages (from modelscope[datasets]<1.19,>=1.17->ms-swift@ git+https://github.com/modelscope/ms-swift.git@d13c431a0f337f6a04df2ce5310c5666b0c0c1f2->ms-swift[llm]@ git+https://github.com/modelscope/ms-swift.git@d13c431a0f337f6a04df2ce5310c5666b0c0c1f2->-r /home/sagemaker-user/sagemaker_remote_function_workspace/requirements.txt (line 6)) (2.4.0)\u001b[0m\n",
      "\u001b[34m2024-11-26 02:55:56,952 sagemaker.remote_function INFO     Collecting dill<0.3.9,>=0.3.0 (from datasets<3.0->ms-swift@ git+https://github.com/modelscope/ms-swift.git@d13c431a0f337f6a04df2ce5310c5666b0c0c1f2->ms-swift[llm]@ git+https://github.com/modelscope/ms-swift.git@d13c431a0f337f6a04df2ce5310c5666b0c0c1f2->-r /home/sagemaker-user/sagemaker_remote_function_workspace/requirements.txt (line 6))\u001b[0m\n",
      "\u001b[34m2024-11-26 02:55:56,955 sagemaker.remote_function INFO       Downloading dill-0.3.8-py3-none-any.whl.metadata (10 kB)\u001b[0m\n",
      "\u001b[34m2024-11-26 02:55:56,965 sagemaker.remote_function INFO     Requirement already satisfied: distro<2,>=1.7.0 in /opt/conda/lib/python3.11/site-packages (from openai>=1.40.0->vllm>=0.6.1->-r /home/sagemaker-user/sagemaker_remote_function_workspace/requirements.txt (line 10)) (1.9.0)\u001b[0m\n",
      "\u001b[34m2024-11-26 02:55:57,009 sagemaker.remote_function INFO     Collecting jiter<1,>=0.4.0 (from openai>=1.40.0->vllm>=0.6.1->-r /home/sagemaker-user/sagemaker_remote_function_workspace/requirements.txt (line 10))\u001b[0m\n",
      "\u001b[34m2024-11-26 02:55:57,013 sagemaker.remote_function INFO       Downloading jiter-0.7.1-cp311-cp311-manylinux_2_17_x86_64.manylinux2014_x86_64.whl.metadata (5.2 kB)\u001b[0m\n",
      "\u001b[34m2024-11-26 02:55:57,050 sagemaker.remote_function INFO     Requirement already satisfied: sniffio in /opt/conda/lib/python3.11/site-packages (from openai>=1.40.0->vllm>=0.6.1->-r /home/sagemaker-user/sagemaker_remote_function_workspace/requirements.txt (line 10)) (1.3.1)\u001b[0m\n",
      "\u001b[34m2024-11-26 02:55:57,062 sagemaker.remote_function INFO     Collecting lark (from outlines<0.1,>=0.0.43->vllm>=0.6.1->-r /home/sagemaker-user/sagemaker_remote_function_workspace/requirements.txt (line 10))\u001b[0m\n",
      "\u001b[34m2024-11-26 02:55:57,066 sagemaker.remote_function INFO       Downloading lark-1.2.2-py3-none-any.whl.metadata (1.8 kB)\u001b[0m\n",
      "\u001b[34m2024-11-26 02:55:57,068 sagemaker.remote_function INFO     Requirement already satisfied: nest-asyncio in /opt/conda/lib/python3.11/site-packages (from outlines<0.1,>=0.0.43->vllm>=0.6.1->-r /home/sagemaker-user/sagemaker_remote_function_workspace/requirements.txt (line 10)) (1.6.0)\u001b[0m\n",
      "\u001b[34m2024-11-26 02:55:57,069 sagemaker.remote_function INFO     Requirement already satisfied: diskcache in /opt/conda/lib/python3.11/site-packages (from outlines<0.1,>=0.0.43->vllm>=0.6.1->-r /home/sagemaker-user/sagemaker_remote_function_workspace/requirements.txt (line 10)) (5.6.3)\u001b[0m\n",
      "\u001b[34m2024-11-26 02:55:57,069 sagemaker.remote_function INFO     Requirement already satisfied: numba in /opt/conda/lib/python3.11/site-packages (from outlines<0.1,>=0.0.43->vllm>=0.6.1->-r /home/sagemaker-user/sagemaker_remote_function_workspace/requirements.txt (line 10)) (0.60.0)\u001b[0m\n",
      "\u001b[34m2024-11-26 02:55:57,081 sagemaker.remote_function INFO     Collecting pycountry (from outlines<0.1,>=0.0.43->vllm>=0.6.1->-r /home/sagemaker-user/sagemaker_remote_function_workspace/requirements.txt (line 10))\u001b[0m\n",
      "\u001b[34m2024-11-26 02:55:57,084 sagemaker.remote_function INFO       Downloading pycountry-24.6.1-py3-none-any.whl.metadata (12 kB)\u001b[0m\n",
      "\u001b[34m2024-11-26 02:55:57,090 sagemaker.remote_function INFO     Collecting pyairports (from outlines<0.1,>=0.0.43->vllm>=0.6.1->-r /home/sagemaker-user/sagemaker_remote_function_workspace/requirements.txt (line 10))\u001b[0m\n",
      "\u001b[34m2024-11-26 02:55:57,096 sagemaker.remote_function INFO       Downloading pyairports-2.1.1-py3-none-any.whl.metadata (1.7 kB)\u001b[0m\n",
      "\u001b[34m2024-11-26 02:55:57,112 sagemaker.remote_function INFO     Requirement already satisfied: pytz>=2020.1 in /opt/conda/lib/python3.11/site-packages (from pandas->sagemaker==2.227->-r /home/sagemaker-user/sagemaker_remote_function_workspace/requirements.txt (line 2)) (2023.3)\u001b[0m\n",
      "\u001b[34m2024-11-26 02:55:57,113 sagemaker.remote_function INFO     Requirement already satisfied: tzdata>=2022.7 in /opt/conda/lib/python3.11/site-packages (from pandas->sagemaker==2.227->-r /home/sagemaker-user/sagemaker_remote_function_workspace/requirements.txt (line 2)) (2024.2)\u001b[0m\n",
      "\u001b[34m2024-11-26 02:55:57,146 sagemaker.remote_function INFO     Collecting annotated-types>=0.6.0 (from pydantic>=2.9->vllm>=0.6.1->-r /home/sagemaker-user/sagemaker_remote_function_workspace/requirements.txt (line 10))\u001b[0m\n",
      "\u001b[34m2024-11-26 02:55:57,149 sagemaker.remote_function INFO       Downloading annotated_types-0.7.0-py3-none-any.whl.metadata (15 kB)\u001b[0m\n",
      "\u001b[34m2024-11-26 02:55:57,970 sagemaker.remote_function INFO     Collecting pydantic-core==2.27.1 (from pydantic>=2.9->vllm>=0.6.1->-r /home/sagemaker-user/sagemaker_remote_function_workspace/requirements.txt (line 10))\u001b[0m\n",
      "\u001b[34m2024-11-26 02:55:57,974 sagemaker.remote_function INFO       Downloading pydantic_core-2.27.1-cp311-cp311-manylinux_2_17_x86_64.manylinux2014_x86_64.whl.metadata (6.6 kB)\u001b[0m\n",
      "\u001b[34m2024-11-26 02:55:57,995 sagemaker.remote_function INFO     Requirement already satisfied: idna<4,>=2.5 in /opt/conda/lib/python3.11/site-packages (from requests->sagemaker==2.227->-r /home/sagemaker-user/sagemaker_remote_function_workspace/requirements.txt (line 2)) (3.10)\u001b[0m\n",
      "\u001b[34m2024-11-26 02:55:57,996 sagemaker.remote_function INFO     Requirement already satisfied: certifi>=2017.4.17 in /opt/conda/lib/python3.11/site-packages (from requests->sagemaker==2.227->-r /home/sagemaker-user/sagemaker_remote_function_workspace/requirements.txt (line 2)) (2024.8.30)\u001b[0m\n",
      "\u001b[34m2024-11-26 02:55:58,015 sagemaker.remote_function INFO     Requirement already satisfied: joblib>=1.2.0 in /opt/conda/lib/python3.11/site-packages (from scikit-learn<2->mlflow->-r /home/sagemaker-user/sagemaker_remote_function_workspace/requirements.txt (line 3)) (1.4.2)\u001b[0m\n",
      "\u001b[34m2024-11-26 02:55:58,015 sagemaker.remote_function INFO     Requirement already satisfied: threadpoolctl>=3.1.0 in /opt/conda/lib/python3.11/site-packages (from scikit-learn<2->mlflow->-r /home/sagemaker-user/sagemaker_remote_function_workspace/requirements.txt (line 3)) (3.5.0)\u001b[0m\n",
      "\u001b[34m2024-11-26 02:55:58,030 sagemaker.remote_function INFO     Requirement already satisfied: greenlet!=0.4.17 in /opt/conda/lib/python3.11/site-packages (from sqlalchemy<3,>=1.4.0->mlflow->-r /home/sagemaker-user/sagemaker_remote_function_workspace/requirements.txt (line 3)) (3.1.1)\u001b[0m\n",
      "\u001b[34m2024-11-26 02:55:58,082 sagemaker.remote_function INFO     Collecting tyro>=0.5.11 (from trl<0.12,>=0.11->ms-swift@ git+https://github.com/modelscope/ms-swift.git@d13c431a0f337f6a04df2ce5310c5666b0c0c1f2->ms-swift[llm]@ git+https://github.com/modelscope/ms-swift.git@d13c431a0f337f6a04df2ce5310c5666b0c0c1f2->-r /home/sagemaker-user/sagemaker_remote_function_workspace/requirements.txt (line 6))\u001b[0m\n",
      "\u001b[34m2024-11-26 02:55:58,087 sagemaker.remote_function INFO       Downloading tyro-0.9.2-py3-none-any.whl.metadata (9.4 kB)\u001b[0m\n",
      "\u001b[34m2024-11-26 02:55:58,108 sagemaker.remote_function INFO     Requirement already satisfied: h11>=0.8 in /opt/conda/lib/python3.11/site-packages (from uvicorn[standard]->vllm>=0.6.1->-r /home/sagemaker-user/sagemaker_remote_function_workspace/requirements.txt (line 10)) (0.14.0)\u001b[0m\n",
      "\u001b[34m2024-11-26 02:55:58,116 sagemaker.remote_function INFO     Requirement already satisfied: aiosignal>=1.1.2 in /opt/conda/lib/python3.11/site-packages (from aiohttp->ms-swift@ git+https://github.com/modelscope/ms-swift.git@d13c431a0f337f6a04df2ce5310c5666b0c0c1f2->ms-swift[llm]@ git+https://github.com/modelscope/ms-swift.git@d13c431a0f337f6a04df2ce5310c5666b0c0c1f2->-r /home/sagemaker-user/sagemaker_remote_function_workspace/requirements.txt (line 6)) (1.3.1)\u001b[0m\n",
      "\u001b[34m2024-11-26 02:55:58,117 sagemaker.remote_function INFO     Requirement already satisfied: frozenlist>=1.1.1 in /opt/conda/lib/python3.11/site-packages (from aiohttp->ms-swift@ git+https://github.com/modelscope/ms-swift.git@d13c431a0f337f6a04df2ce5310c5666b0c0c1f2->ms-swift[llm]@ git+https://github.com/modelscope/ms-swift.git@d13c431a0f337f6a04df2ce5310c5666b0c0c1f2->-r /home/sagemaker-user/sagemaker_remote_function_workspace/requirements.txt (line 6)) (1.4.1)\u001b[0m\n",
      "\u001b[34m2024-11-26 02:55:58,117 sagemaker.remote_function INFO     Requirement already satisfied: multidict<7.0,>=4.5 in /opt/conda/lib/python3.11/site-packages (from aiohttp->ms-swift@ git+https://github.com/modelscope/ms-swift.git@d13c431a0f337f6a04df2ce5310c5666b0c0c1f2->ms-swift[llm]@ git+https://github.com/modelscope/ms-swift.git@d13c431a0f337f6a04df2ce5310c5666b0c0c1f2->-r /home/sagemaker-user/sagemaker_remote_function_workspace/requirements.txt (line 6)) (6.1.0)\u001b[0m\n",
      "\u001b[34m2024-11-26 02:55:58,118 sagemaker.remote_function INFO     Requirement already satisfied: yarl<2.0,>=1.0 in /opt/conda/lib/python3.11/site-packages (from aiohttp->ms-swift@ git+https://github.com/modelscope/ms-swift.git@d13c431a0f337f6a04df2ce5310c5666b0c0c1f2->ms-swift[llm]@ git+https://github.com/modelscope/ms-swift.git@d13c431a0f337f6a04df2ce5310c5666b0c0c1f2->-r /home/sagemaker-user/sagemaker_remote_function_workspace/requirements.txt (line 6)) (1.15.5)\u001b[0m\n",
      "\u001b[34m2024-11-26 02:55:58,121 sagemaker.remote_function INFO     Requirement already satisfied: six in /opt/conda/lib/python3.11/site-packages (from attrdict->ms-swift@ git+https://github.com/modelscope/ms-swift.git@d13c431a0f337f6a04df2ce5310c5666b0c0c1f2->ms-swift[llm]@ git+https://github.com/modelscope/ms-swift.git@d13c431a0f337f6a04df2ce5310c5666b0c0c1f2->-r /home/sagemaker-user/sagemaker_remote_function_workspace/requirements.txt (line 6)) (1.16.0)\u001b[0m\n",
      "\u001b[34m2024-11-26 02:55:58,129 sagemaker.remote_function INFO     Requirement already satisfied: future in /opt/conda/lib/python3.11/site-packages (from binpacking->ms-swift@ git+https://github.com/modelscope/ms-swift.git@d13c431a0f337f6a04df2ce5310c5666b0c0c1f2->ms-swift[llm]@ git+https://github.com/modelscope/ms-swift.git@d13c431a0f337f6a04df2ce5310c5666b0c0c1f2->-r /home/sagemaker-user/sagemaker_remote_function_workspace/requirements.txt (line 6)) (1.0.0)\u001b[0m\n",
      "\u001b[34m2024-11-26 02:55:58,156 sagemaker.remote_function INFO     Collecting humanfriendly>=9.1 (from coloredlogs->optimum->-r /home/sagemaker-user/sagemaker_remote_function_workspace/requirements.txt (line 12))\u001b[0m\n",
      "\u001b[34m2024-11-26 02:55:58,159 sagemaker.remote_function INFO       Downloading humanfriendly-10.0-py2.py3-none-any.whl.metadata (9.2 kB)\u001b[0m\n",
      "\u001b[34m2024-11-26 02:55:58,209 sagemaker.remote_function INFO     Collecting crcmod>=1.7 (from oss2->ms-swift@ git+https://github.com/modelscope/ms-swift.git@d13c431a0f337f6a04df2ce5310c5666b0c0c1f2->ms-swift[llm]@ git+https://github.com/modelscope/ms-swift.git@d13c431a0f337f6a04df2ce5310c5666b0c0c1f2->-r /home/sagemaker-user/sagemaker_remote_function_workspace/requirements.txt (line 6))\u001b[0m\n",
      "\u001b[34m2024-11-26 02:55:58,212 sagemaker.remote_function INFO       Downloading crcmod-1.7.tar.gz (89 kB)\u001b[0m\n",
      "\u001b[34m2024-11-26 02:55:58,229 sagemaker.remote_function INFO       Preparing metadata (setup.py): started\u001b[0m\n",
      "\u001b[34m2024-11-26 02:55:58,536 sagemaker.remote_function INFO       Preparing metadata (setup.py): finished with status 'done'\u001b[0m\n",
      "\u001b[34m2024-11-26 02:55:58,639 sagemaker.remote_function INFO     Collecting pycryptodome>=3.4.7 (from oss2->ms-swift@ git+https://github.com/modelscope/ms-swift.git@d13c431a0f337f6a04df2ce5310c5666b0c0c1f2->ms-swift[llm]@ git+https://github.com/modelscope/ms-swift.git@d13c431a0f337f6a04df2ce5310c5666b0c0c1f2->-r /home/sagemaker-user/sagemaker_remote_function_workspace/requirements.txt (line 6))\u001b[0m\n",
      "\u001b[34m2024-11-26 02:55:58,643 sagemaker.remote_function INFO       Downloading pycryptodome-3.21.0-cp36-abi3-manylinux_2_17_x86_64.manylinux2014_x86_64.whl.metadata (3.4 kB)\u001b[0m\n",
      "\u001b[34m2024-11-26 02:55:58,652 sagemaker.remote_function INFO     Collecting aliyun-python-sdk-kms>=2.4.1 (from oss2->ms-swift@ git+https://github.com/modelscope/ms-swift.git@d13c431a0f337f6a04df2ce5310c5666b0c0c1f2->ms-swift[llm]@ git+https://github.com/modelscope/ms-swift.git@d13c431a0f337f6a04df2ce5310c5666b0c0c1f2->-r /home/sagemaker-user/sagemaker_remote_function_workspace/requirements.txt (line 6))\u001b[0m\n",
      "\u001b[34m2024-11-26 02:55:58,657 sagemaker.remote_function INFO       Downloading aliyun_python_sdk_kms-2.16.5-py2.py3-none-any.whl.metadata (1.5 kB)\u001b[0m\n",
      "\u001b[34m2024-11-26 02:55:58,671 sagemaker.remote_function INFO     Collecting aliyun-python-sdk-core>=2.13.12 (from oss2->ms-swift@ git+https://github.com/modelscope/ms-swift.git@d13c431a0f337f6a04df2ce5310c5666b0c0c1f2->ms-swift[llm]@ git+https://github.com/modelscope/ms-swift.git@d13c431a0f337f6a04df2ce5310c5666b0c0c1f2->-r /home/sagemaker-user/sagemaker_remote_function_workspace/requirements.txt (line 6))\u001b[0m\n",
      "\u001b[34m2024-11-26 02:55:58,681 sagemaker.remote_function INFO       Downloading aliyun-python-sdk-core-2.16.0.tar.gz (449 kB)\u001b[0m\n",
      "\u001b[34m2024-11-26 02:55:58,744 sagemaker.remote_function INFO       Preparing metadata (setup.py): started\u001b[0m\n",
      "\u001b[34m2024-11-26 02:55:59,059 sagemaker.remote_function INFO       Preparing metadata (setup.py): finished with status 'done'\u001b[0m\n",
      "\u001b[34m2024-11-26 02:55:59,070 sagemaker.remote_function INFO     Requirement already satisfied: ppft>=1.7.6.8 in /opt/conda/lib/python3.11/site-packages (from pathos->sagemaker==2.227->-r /home/sagemaker-user/sagemaker_remote_function_workspace/requirements.txt (line 2)) (1.7.6.9)\u001b[0m\n",
      "\u001b[34m2024-11-26 02:55:59,072 sagemaker.remote_function INFO     Requirement already satisfied: pox>=0.3.4 in /opt/conda/lib/python3.11/site-packages (from pathos->sagemaker==2.227->-r /home/sagemaker-user/sagemaker_remote_function_workspace/requirements.txt (line 2)) (0.3.5)\u001b[0m\n",
      "\u001b[34m2024-11-26 02:55:59,101 sagemaker.remote_function INFO     Requirement already satisfied: mpmath<1.4,>=1.1.0 in /opt/conda/lib/python3.11/site-packages (from sympy->torch>=1.10.0->accelerate==1.1.0->-r /home/sagemaker-user/sagemaker_remote_function_workspace/requirements.txt (line 5)) (1.3.0)\u001b[0m\n",
      "\u001b[34m2024-11-26 02:55:59,105 sagemaker.remote_function INFO     Requirement already satisfied: absl-py>=0.4 in /opt/conda/lib/python3.11/site-packages (from tensorboard->ms-swift@ git+https://github.com/modelscope/ms-swift.git@d13c431a0f337f6a04df2ce5310c5666b0c0c1f2->ms-swift[llm]@ git+https://github.com/modelscope/ms-swift.git@d13c431a0f337f6a04df2ce5310c5666b0c0c1f2->-r /home/sagemaker-user/sagemaker_remote_function_workspace/requirements.txt (line 6)) (2.1.0)\u001b[0m\n",
      "\u001b[34m2024-11-26 02:55:59,106 sagemaker.remote_function INFO     Requirement already satisfied: grpcio>=1.48.2 in /opt/conda/lib/python3.11/site-packages (from tensorboard->ms-swift@ git+https://github.com/modelscope/ms-swift.git@d13c431a0f337f6a04df2ce5310c5666b0c0c1f2->ms-swift[llm]@ git+https://github.com/modelscope/ms-swift.git@d13c431a0f337f6a04df2ce5310c5666b0c0c1f2->-r /home/sagemaker-user/sagemaker_remote_function_workspace/requirements.txt (line 6)) (1.62.2)\u001b[0m\n",
      "\u001b[34m2024-11-26 02:55:59,142 sagemaker.remote_function INFO     Requirement already satisfied: tensorboard-data-server<0.8.0,>=0.7.0 in /opt/conda/lib/python3.11/site-packages (from tensorboard->ms-swift@ git+https://github.com/modelscope/ms-swift.git@d13c431a0f337f6a04df2ce5310c5666b0c0c1f2->ms-swift[llm]@ git+https://github.com/modelscope/ms-swift.git@d13c431a0f337f6a04df2ce5310c5666b0c0c1f2->-r /home/sagemaker-user/sagemaker_remote_function_workspace/requirements.txt (line 6)) (0.7.0)\u001b[0m\n",
      "\u001b[34m2024-11-26 02:55:59,152 sagemaker.remote_function INFO     Requirement already satisfied: httptools>=0.5.0 in /opt/conda/lib/python3.11/site-packages (from uvicorn[standard]->vllm>=0.6.1->-r /home/sagemaker-user/sagemaker_remote_function_workspace/requirements.txt (line 10)) (0.6.1)\u001b[0m\n",
      "\u001b[34m2024-11-26 02:55:59,153 sagemaker.remote_function INFO     Requirement already satisfied: python-dotenv>=0.13 in /opt/conda/lib/python3.11/site-packages (from uvicorn[standard]->vllm>=0.6.1->-r /home/sagemaker-user/sagemaker_remote_function_workspace/requirements.txt (line 10)) (1.0.1)\u001b[0m\n",
      "\u001b[34m2024-11-26 02:55:59,154 sagemaker.remote_function INFO     Requirement already satisfied: uvloop!=0.15.0,!=0.15.1,>=0.14.0 in /opt/conda/lib/python3.11/site-packages (from uvicorn[standard]->vllm>=0.6.1->-r /home/sagemaker-user/sagemaker_remote_function_workspace/requirements.txt (line 10)) (0.21.0)\u001b[0m\n",
      "\u001b[34m2024-11-26 02:55:59,154 sagemaker.remote_function INFO     Requirement already satisfied: watchfiles>=0.13 in /opt/conda/lib/python3.11/site-packages (from uvicorn[standard]->vllm>=0.6.1->-r /home/sagemaker-user/sagemaker_remote_function_workspace/requirements.txt (line 10)) (0.24.0)\u001b[0m\n",
      "\u001b[34m2024-11-26 02:55:59,188 sagemaker.remote_function INFO     Collecting jmespath<2.0.0,>=0.7.1 (from boto3<2.0,>=1.34.142->sagemaker==2.227->-r /home/sagemaker-user/sagemaker_remote_function_workspace/requirements.txt (line 2))\u001b[0m\n",
      "\u001b[34m2024-11-26 02:55:59,191 sagemaker.remote_function INFO       Downloading jmespath-0.10.0-py2.py3-none-any.whl.metadata (8.0 kB)\u001b[0m\n",
      "\u001b[34m2024-11-26 02:55:59,193 sagemaker.remote_function INFO     Requirement already satisfied: cryptography>=3.0.0 in /opt/conda/lib/python3.11/site-packages (from aliyun-python-sdk-core>=2.13.12->oss2->ms-swift@ git+https://github.com/modelscope/ms-swift.git@d13c431a0f337f6a04df2ce5310c5666b0c0c1f2->ms-swift[llm]@ git+https://github.com/modelscope/ms-swift.git@d13c431a0f337f6a04df2ce5310c5666b0c0c1f2->-r /home/sagemaker-user/sagemaker_remote_function_workspace/requirements.txt (line 6)) (43.0.3)\u001b[0m\n",
      "\u001b[34m2024-11-26 02:55:59,253 sagemaker.remote_function INFO     Requirement already satisfied: google-auth~=2.0 in /opt/conda/lib/python3.11/site-packages (from databricks-sdk<1,>=0.20.0->mlflow-skinny==2.18.0->mlflow->-r /home/sagemaker-user/sagemaker_remote_function_workspace/requirements.txt (line 3)) (2.35.0)\u001b[0m\n",
      "\u001b[34m2024-11-26 02:55:59,294 sagemaker.remote_function INFO     Requirement already satisfied: gitdb<5,>=4.0.1 in /opt/conda/lib/python3.11/site-packages (from gitpython<4,>=3.1.9->mlflow-skinny==2.18.0->mlflow->-r /home/sagemaker-user/sagemaker_remote_function_workspace/requirements.txt (line 3)) (4.0.11)\u001b[0m\n",
      "\u001b[34m2024-11-26 02:55:59,325 sagemaker.remote_function INFO     Requirement already satisfied: httpcore==1.* in /opt/conda/lib/python3.11/site-packages (from httpx>=0.24.1->gradio>=3.40.0->ms-swift@ git+https://github.com/modelscope/ms-swift.git@d13c431a0f337f6a04df2ce5310c5666b0c0c1f2->ms-swift[llm]@ git+https://github.com/modelscope/ms-swift.git@d13c431a0f337f6a04df2ce5310c5666b0c0c1f2->-r /home/sagemaker-user/sagemaker_remote_function_workspace/requirements.txt (line 6)) (1.0.6)\u001b[0m\n",
      "\u001b[34m2024-11-26 02:55:59,394 sagemaker.remote_function INFO     Requirement already satisfied: deprecated>=1.2.6 in /opt/conda/lib/python3.11/site-packages (from opentelemetry-api<3,>=1.9.0->mlflow-skinny==2.18.0->mlflow->-r /home/sagemaker-user/sagemaker_remote_function_workspace/requirements.txt (line 3)) (1.2.14)\u001b[0m\n",
      "\u001b[34m2024-11-26 02:55:59,399 sagemaker.remote_function INFO     Requirement already satisfied: opentelemetry-semantic-conventions==0.48b0 in /opt/conda/lib/python3.11/site-packages (from opentelemetry-sdk<3,>=1.9.0->mlflow-skinny==2.18.0->mlflow->-r /home/sagemaker-user/sagemaker_remote_function_workspace/requirements.txt (line 3)) (0.48b0)\u001b[0m\n",
      "\u001b[34m2024-11-26 02:55:59,513 sagemaker.remote_function INFO     Requirement already satisfied: shellingham>=1.3.0 in /opt/conda/lib/python3.11/site-packages (from typer<1.0,>=0.12->gradio>=3.40.0->ms-swift@ git+https://github.com/modelscope/ms-swift.git@d13c431a0f337f6a04df2ce5310c5666b0c0c1f2->ms-swift[llm]@ git+https://github.com/modelscope/ms-swift.git@d13c431a0f337f6a04df2ce5310c5666b0c0c1f2->-r /home/sagemaker-user/sagemaker_remote_function_workspace/requirements.txt (line 6)) (1.5.4)\u001b[0m\n",
      "\u001b[34m2024-11-26 02:55:59,514 sagemaker.remote_function INFO     Requirement already satisfied: rich>=10.11.0 in /opt/conda/lib/python3.11/site-packages (from typer<1.0,>=0.12->gradio>=3.40.0->ms-swift@ git+https://github.com/modelscope/ms-swift.git@d13c431a0f337f6a04df2ce5310c5666b0c0c1f2->ms-swift[llm]@ git+https://github.com/modelscope/ms-swift.git@d13c431a0f337f6a04df2ce5310c5666b0c0c1f2->-r /home/sagemaker-user/sagemaker_remote_function_workspace/requirements.txt (line 6)) (13.9.2)\u001b[0m\n",
      "\u001b[34m2024-11-26 02:55:59,528 sagemaker.remote_function INFO     Collecting docstring-parser>=0.16 (from tyro>=0.5.11->trl<0.12,>=0.11->ms-swift@ git+https://github.com/modelscope/ms-swift.git@d13c431a0f337f6a04df2ce5310c5666b0c0c1f2->ms-swift[llm]@ git+https://github.com/modelscope/ms-swift.git@d13c431a0f337f6a04df2ce5310c5666b0c0c1f2->-r /home/sagemaker-user/sagemaker_remote_function_workspace/requirements.txt (line 6))\u001b[0m\n",
      "\u001b[34m2024-11-26 02:55:59,531 sagemaker.remote_function INFO       Downloading docstring_parser-0.16-py3-none-any.whl.metadata (3.0 kB)\u001b[0m\n",
      "\u001b[34m2024-11-26 02:55:59,553 sagemaker.remote_function INFO     Collecting shtab>=1.5.6 (from tyro>=0.5.11->trl<0.12,>=0.11->ms-swift@ git+https://github.com/modelscope/ms-swift.git@d13c431a0f337f6a04df2ce5310c5666b0c0c1f2->ms-swift[llm]@ git+https://github.com/modelscope/ms-swift.git@d13c431a0f337f6a04df2ce5310c5666b0c0c1f2->-r /home/sagemaker-user/sagemaker_remote_function_workspace/requirements.txt (line 6))\u001b[0m\n",
      "\u001b[34m2024-11-26 02:55:59,557 sagemaker.remote_function INFO       Downloading shtab-1.7.1-py3-none-any.whl.metadata (7.3 kB)\u001b[0m\n",
      "\u001b[34m2024-11-26 02:55:59,580 sagemaker.remote_function INFO     Collecting typeguard>=4.0.0 (from tyro>=0.5.11->trl<0.12,>=0.11->ms-swift@ git+https://github.com/modelscope/ms-swift.git@d13c431a0f337f6a04df2ce5310c5666b0c0c1f2->ms-swift[llm]@ git+https://github.com/modelscope/ms-swift.git@d13c431a0f337f6a04df2ce5310c5666b0c0c1f2->-r /home/sagemaker-user/sagemaker_remote_function_workspace/requirements.txt (line 6))\u001b[0m\n",
      "\u001b[34m2024-11-26 02:55:59,590 sagemaker.remote_function INFO       Downloading typeguard-4.4.1-py3-none-any.whl.metadata (3.7 kB)\u001b[0m\n",
      "\u001b[34m2024-11-26 02:55:59,629 sagemaker.remote_function INFO     Requirement already satisfied: propcache>=0.2.0 in /opt/conda/lib/python3.11/site-packages (from yarl<2.0,>=1.0->aiohttp->ms-swift@ git+https://github.com/modelscope/ms-swift.git@d13c431a0f337f6a04df2ce5310c5666b0c0c1f2->ms-swift[llm]@ git+https://github.com/modelscope/ms-swift.git@d13c431a0f337f6a04df2ce5310c5666b0c0c1f2->-r /home/sagemaker-user/sagemaker_remote_function_workspace/requirements.txt (line 6)) (0.2.0)\u001b[0m\n",
      "\u001b[34m2024-11-26 02:55:59,679 sagemaker.remote_function INFO     Requirement already satisfied: llvmlite<0.44,>=0.43.0dev0 in /opt/conda/lib/python3.11/site-packages (from numba->outlines<0.1,>=0.0.43->vllm>=0.6.1->-r /home/sagemaker-user/sagemaker_remote_function_workspace/requirements.txt (line 10)) (0.43.0)\u001b[0m\n",
      "\u001b[34m2024-11-26 02:55:59,705 sagemaker.remote_function INFO     Requirement already satisfied: cffi>=1.12 in /opt/conda/lib/python3.11/site-packages (from cryptography>=3.0.0->aliyun-python-sdk-core>=2.13.12->oss2->ms-swift@ git+https://github.com/modelscope/ms-swift.git@d13c431a0f337f6a04df2ce5310c5666b0c0c1f2->ms-swift[llm]@ git+https://github.com/modelscope/ms-swift.git@d13c431a0f337f6a04df2ce5310c5666b0c0c1f2->-r /home/sagemaker-user/sagemaker_remote_function_workspace/requirements.txt (line 6)) (1.17.1)\u001b[0m\n",
      "\u001b[34m2024-11-26 02:55:59,710 sagemaker.remote_function INFO     Requirement already satisfied: wrapt<2,>=1.10 in /opt/conda/lib/python3.11/site-packages (from deprecated>=1.2.6->opentelemetry-api<3,>=1.9.0->mlflow-skinny==2.18.0->mlflow->-r /home/sagemaker-user/sagemaker_remote_function_workspace/requirements.txt (line 3)) (1.16.0)\u001b[0m\n",
      "\u001b[34m2024-11-26 02:55:59,721 sagemaker.remote_function INFO     Requirement already satisfied: smmap<6,>=3.0.1 in /opt/conda/lib/python3.11/site-packages (from gitdb<5,>=4.0.1->gitpython<4,>=3.1.9->mlflow-skinny==2.18.0->mlflow->-r /home/sagemaker-user/sagemaker_remote_function_workspace/requirements.txt (line 3)) (5.0.0)\u001b[0m\n",
      "\u001b[34m2024-11-26 02:55:59,727 sagemaker.remote_function INFO     Requirement already satisfied: pyasn1-modules>=0.2.1 in /opt/conda/lib/python3.11/site-packages (from google-auth~=2.0->databricks-sdk<1,>=0.20.0->mlflow-skinny==2.18.0->mlflow->-r /home/sagemaker-user/sagemaker_remote_function_workspace/requirements.txt (line 3)) (0.4.1)\u001b[0m\n",
      "\u001b[34m2024-11-26 02:55:59,728 sagemaker.remote_function INFO     Requirement already satisfied: rsa<5,>=3.1.4 in /opt/conda/lib/python3.11/site-packages (from google-auth~=2.0->databricks-sdk<1,>=0.20.0->mlflow-skinny==2.18.0->mlflow->-r /home/sagemaker-user/sagemaker_remote_function_workspace/requirements.txt (line 3)) (4.9)\u001b[0m\n",
      "\u001b[34m2024-11-26 02:55:59,743 sagemaker.remote_function INFO     Requirement already satisfied: markdown-it-py>=2.2.0 in /opt/conda/lib/python3.11/site-packages (from rich>=10.11.0->typer<1.0,>=0.12->gradio>=3.40.0->ms-swift@ git+https://github.com/modelscope/ms-swift.git@d13c431a0f337f6a04df2ce5310c5666b0c0c1f2->ms-swift[llm]@ git+https://github.com/modelscope/ms-swift.git@d13c431a0f337f6a04df2ce5310c5666b0c0c1f2->-r /home/sagemaker-user/sagemaker_remote_function_workspace/requirements.txt (line 6)) (3.0.0)\u001b[0m\n",
      "\u001b[34m2024-11-26 02:55:59,743 sagemaker.remote_function INFO     Requirement already satisfied: pygments<3.0.0,>=2.13.0 in /opt/conda/lib/python3.11/site-packages (from rich>=10.11.0->typer<1.0,>=0.12->gradio>=3.40.0->ms-swift@ git+https://github.com/modelscope/ms-swift.git@d13c431a0f337f6a04df2ce5310c5666b0c0c1f2->ms-swift[llm]@ git+https://github.com/modelscope/ms-swift.git@d13c431a0f337f6a04df2ce5310c5666b0c0c1f2->-r /home/sagemaker-user/sagemaker_remote_function_workspace/requirements.txt (line 6)) (2.18.0)\u001b[0m\n",
      "\u001b[34m2024-11-26 02:55:59,772 sagemaker.remote_function INFO     Requirement already satisfied: pycparser in /opt/conda/lib/python3.11/site-packages (from cffi>=1.12->cryptography>=3.0.0->aliyun-python-sdk-core>=2.13.12->oss2->ms-swift@ git+https://github.com/modelscope/ms-swift.git@d13c431a0f337f6a04df2ce5310c5666b0c0c1f2->ms-swift[llm]@ git+https://github.com/modelscope/ms-swift.git@d13c431a0f337f6a04df2ce5310c5666b0c0c1f2->-r /home/sagemaker-user/sagemaker_remote_function_workspace/requirements.txt (line 6)) (2.22)\u001b[0m\n",
      "\u001b[34m2024-11-26 02:55:59,779 sagemaker.remote_function INFO     Requirement already satisfied: mdurl~=0.1 in /opt/conda/lib/python3.11/site-packages (from markdown-it-py>=2.2.0->rich>=10.11.0->typer<1.0,>=0.12->gradio>=3.40.0->ms-swift@ git+https://github.com/modelscope/ms-swift.git@d13c431a0f337f6a04df2ce5310c5666b0c0c1f2->ms-swift[llm]@ git+https://github.com/modelscope/ms-swift.git@d13c431a0f337f6a04df2ce5310c5666b0c0c1f2->-r /home/sagemaker-user/sagemaker_remote_function_workspace/requirements.txt (line 6)) (0.1.2)\u001b[0m\n",
      "\u001b[34m2024-11-26 02:55:59,784 sagemaker.remote_function INFO     Requirement already satisfied: pyasn1<0.7.0,>=0.4.6 in /opt/conda/lib/python3.11/site-packages (from pyasn1-modules>=0.2.1->google-auth~=2.0->databricks-sdk<1,>=0.20.0->mlflow-skinny==2.18.0->mlflow->-r /home/sagemaker-user/sagemaker_remote_function_workspace/requirements.txt (line 3)) (0.6.1)\u001b[0m\n",
      "\u001b[34m2024-11-26 02:55:59,837 sagemaker.remote_function INFO     Downloading qwen_vl_utils-0.0.8-py3-none-any.whl (5.9 kB)\u001b[0m\n",
      "\u001b[34m2024-11-26 02:55:59,840 sagemaker.remote_function INFO     Downloading mlflow-2.18.0-py3-none-any.whl (27.3 MB)\u001b[0m\n",
      "\u001b[34m2024-11-26 02:55:59,931 sagemaker.remote_function INFO        ━━━━━━━━━━━━━━━━━━━━━━━━━━━━━━━━━━━━━━━━ 27.3/27.3 MB 310.1 MB/s eta 0:00:00\u001b[0m\n",
      "\u001b[34m2024-11-26 02:55:59,934 sagemaker.remote_function INFO     Downloading mlflow_skinny-2.18.0-py3-none-any.whl (5.8 MB)\u001b[0m\n",
      "\u001b[34m2024-11-26 02:55:59,970 sagemaker.remote_function INFO        ━━━━━━━━━━━━━━━━━━━━━━━━━━━━━━━━━━━━━━━━ 5.8/5.8 MB 180.4 MB/s eta 0:00:00\u001b[0m\n",
      "\u001b[34m2024-11-26 02:55:59,975 sagemaker.remote_function INFO     Downloading pyav-13.1.0-cp311-cp311-manylinux_2_17_x86_64.manylinux2014_x86_64.whl (30.3 MB)\u001b[0m\n",
      "\u001b[34m2024-11-26 02:56:00,242 sagemaker.remote_function INFO        ━━━━━━━━━━━━━━━━━━━━━━━━━━━━━━━━━━━━━━━━ 30.3/30.3 MB 114.8 MB/s eta 0:00:00\u001b[0m\n",
      "\u001b[34m2024-11-26 02:56:00,246 sagemaker.remote_function INFO     Downloading vllm-0.6.1.post2-cp38-abi3-manylinux1_x86_64.whl (170.7 MB)\u001b[0m\n",
      "\u001b[34m2024-11-26 02:56:01,470 sagemaker.remote_function INFO        ━━━━━━━━━━━━━━━━━━━━━━━━━━━━━━━━━━━━━━━ 170.7/170.7 MB 139.6 MB/s eta 0:00:00\u001b[0m\n",
      "\u001b[34m2024-11-26 02:56:01,483 sagemaker.remote_function INFO     Downloading gguf-0.9.1-py3-none-any.whl (49 kB)\u001b[0m\n",
      "\u001b[34m2024-11-26 02:56:01,488 sagemaker.remote_function INFO     Downloading lm_format_enforcer-0.10.6-py3-none-any.whl (43 kB)\u001b[0m\n",
      "\u001b[34m2024-11-26 02:56:01,492 sagemaker.remote_function INFO     Downloading torch-2.4.0-cp311-cp311-manylinux1_x86_64.whl (797.3 MB)\u001b[0m\n",
      "\u001b[34m2024-11-26 02:56:05,749 sagemaker.remote_function INFO        ━━━━━━━━━━━━━━━━━━━━━━━━━━━━━━━━━━━━━━━ 797.3/797.3 MB 197.5 MB/s eta 0:00:00\u001b[0m\n",
      "\u001b[34m2024-11-26 02:56:05,754 sagemaker.remote_function INFO     Downloading torchvision-0.19.0-cp311-cp311-manylinux1_x86_64.whl (7.0 MB)\u001b[0m\n",
      "\u001b[34m2024-11-26 02:56:05,816 sagemaker.remote_function INFO        ━━━━━━━━━━━━━━━━━━━━━━━━━━━━━━━━━━━━━━━━ 7.0/7.0 MB 113.1 MB/s eta 0:00:00\u001b[0m\n",
      "\u001b[34m2024-11-26 02:56:05,820 sagemaker.remote_function INFO     Downloading vllm_flash_attn-2.6.1-cp311-cp311-manylinux1_x86_64.whl (75.9 MB)\u001b[0m\n",
      "\u001b[34m2024-11-26 02:56:06,241 sagemaker.remote_function INFO        ━━━━━━━━━━━━━━━━━━━━━━━━━━━━━━━━━━━━━━━━ 75.9/75.9 MB 181.0 MB/s eta 0:00:00\u001b[0m\n",
      "\u001b[34m2024-11-26 02:56:06,247 sagemaker.remote_function INFO     Downloading xformers-0.0.27.post2-cp311-cp311-manylinux2014_x86_64.whl (20.8 MB)\u001b[0m\n",
      "\u001b[34m2024-11-26 02:56:06,412 sagemaker.remote_function INFO        ━━━━━━━━━━━━━━━━━━━━━━━━━━━━━━━━━━━━━━━━ 20.8/20.8 MB 127.0 MB/s eta 0:00:00\u001b[0m\n",
      "\u001b[34m2024-11-26 02:56:06,415 sagemaker.remote_function INFO     Downloading nvidia_cublas_cu12-12.1.3.1-py3-none-manylinux1_x86_64.whl (410.6 MB)\u001b[0m\n",
      "\u001b[34m2024-11-26 02:56:08,226 sagemaker.remote_function INFO        ━━━━━━━━━━━━━━━━━━━━━━━━━━━━━━━━━━━━━━━ 410.6/410.6 MB 215.4 MB/s eta 0:00:00\u001b[0m\n",
      "\u001b[34m2024-11-26 02:56:08,232 sagemaker.remote_function INFO     Downloading nvidia_cuda_cupti_cu12-12.1.105-py3-none-manylinux1_x86_64.whl (14.1 MB)\u001b[0m\n",
      "\u001b[34m2024-11-26 02:56:08,304 sagemaker.remote_function INFO        ━━━━━━━━━━━━━━━━━━━━━━━━━━━━━━━━━━━━━━━━ 14.1/14.1 MB 202.9 MB/s eta 0:00:00\u001b[0m\n",
      "\u001b[34m2024-11-26 02:56:08,310 sagemaker.remote_function INFO     Downloading nvidia_cuda_nvrtc_cu12-12.1.105-py3-none-manylinux1_x86_64.whl (23.7 MB)\u001b[0m\n",
      "\u001b[34m2024-11-26 02:56:08,402 sagemaker.remote_function INFO        ━━━━━━━━━━━━━━━━━━━━━━━━━━━━━━━━━━━━━━━━ 23.7/23.7 MB 263.7 MB/s eta 0:00:00\u001b[0m\n",
      "\u001b[34m2024-11-26 02:56:08,406 sagemaker.remote_function INFO     Downloading nvidia_cuda_runtime_cu12-12.1.105-py3-none-manylinux1_x86_64.whl (823 kB)\u001b[0m\n",
      "\u001b[34m2024-11-26 02:56:08,411 sagemaker.remote_function INFO        ━━━━━━━━━━━━━━━━━━━━━━━━━━━━━━━━━━━━━━━ 823.6/823.6 kB 359.5 MB/s eta 0:00:00\u001b[0m\n",
      "\u001b[34m2024-11-26 02:56:08,414 sagemaker.remote_function INFO     Downloading nvidia_cudnn_cu12-9.1.0.70-py3-none-manylinux2014_x86_64.whl (664.8 MB)\u001b[0m\n",
      "\u001b[34m2024-11-26 02:56:10,809 sagemaker.remote_function INFO        ━━━━━━━━━━━━━━━━━━━━━━━━━━━━━━━━━━━━━━━ 664.8/664.8 MB 250.3 MB/s eta 0:00:00\u001b[0m\n",
      "\u001b[34m2024-11-26 02:56:10,812 sagemaker.remote_function INFO     Downloading nvidia_cufft_cu12-11.0.2.54-py3-none-manylinux1_x86_64.whl (121.6 MB)\u001b[0m\n",
      "\u001b[34m2024-11-26 02:56:11,208 sagemaker.remote_function INFO        ━━━━━━━━━━━━━━━━━━━━━━━━━━━━━━━━━━━━━━━ 121.6/121.6 MB 309.6 MB/s eta 0:00:00\u001b[0m\n",
      "\u001b[34m2024-11-26 02:56:11,213 sagemaker.remote_function INFO     Downloading nvidia_curand_cu12-10.3.2.106-py3-none-manylinux1_x86_64.whl (56.5 MB)\u001b[0m\n",
      "\u001b[34m2024-11-26 02:56:11,460 sagemaker.remote_function INFO        ━━━━━━━━━━━━━━━━━━━━━━━━━━━━━━━━━━━━━━━━ 56.5/56.5 MB 232.9 MB/s eta 0:00:00\u001b[0m\n",
      "\u001b[34m2024-11-26 02:56:11,463 sagemaker.remote_function INFO     Downloading nvidia_cusolver_cu12-11.4.5.107-py3-none-manylinux1_x86_64.whl (124.2 MB)\u001b[0m\n",
      "\u001b[34m2024-11-26 02:56:12,040 sagemaker.remote_function INFO        ━━━━━━━━━━━━━━━━━━━━━━━━━━━━━━━━━━━━━━━ 124.2/124.2 MB 216.5 MB/s eta 0:00:00\u001b[0m\n",
      "\u001b[34m2024-11-26 02:56:12,047 sagemaker.remote_function INFO     Downloading nvidia_cusparse_cu12-12.1.0.106-py3-none-manylinux1_x86_64.whl (196.0 MB)\u001b[0m\n",
      "\u001b[34m2024-11-26 02:56:13,039 sagemaker.remote_function INFO        ━━━━━━━━━━━━━━━━━━━━━━━━━━━━━━━━━━━━━━━ 196.0/196.0 MB 198.0 MB/s eta 0:00:00\u001b[0m\n",
      "\u001b[34m2024-11-26 02:56:13,045 sagemaker.remote_function INFO     Downloading nvidia_nccl_cu12-2.20.5-py3-none-manylinux2014_x86_64.whl (176.2 MB)\u001b[0m\n",
      "\u001b[34m2024-11-26 02:56:13,823 sagemaker.remote_function INFO        ━━━━━━━━━━━━━━━━━━━━━━━━━━━━━━━━━━━━━━━ 176.2/176.2 MB 227.1 MB/s eta 0:00:00\u001b[0m\n",
      "\u001b[34m2024-11-26 02:56:13,826 sagemaker.remote_function INFO     Downloading nvidia_nvtx_cu12-12.1.105-py3-none-manylinux1_x86_64.whl (99 kB)\u001b[0m\n",
      "\u001b[34m2024-11-26 02:56:13,832 sagemaker.remote_function INFO     Downloading triton-3.0.0-1-cp311-cp311-manylinux2014_x86_64.manylinux_2_17_x86_64.whl (209.4 MB)\u001b[0m\n",
      "\u001b[34m2024-11-26 02:56:15,205 sagemaker.remote_function INFO        ━━━━━━━━━━━━━━━━━━━━━━━━━━━━━━━━━━━━━━━ 209.4/209.4 MB 152.6 MB/s eta 0:00:00\u001b[0m\n",
      "\u001b[34m2024-11-26 02:56:15,212 sagemaker.remote_function INFO     Downloading decord-0.6.0-py3-none-manylinux2010_x86_64.whl (13.6 MB)\u001b[0m\n",
      "\u001b[34m2024-11-26 02:56:15,279 sagemaker.remote_function INFO        ━━━━━━━━━━━━━━━━━━━━━━━━━━━━━━━━━━━━━━━━ 13.6/13.6 MB 206.3 MB/s eta 0:00:00\u001b[0m\n",
      "\u001b[34m2024-11-26 02:56:15,284 sagemaker.remote_function INFO     Downloading optimum-1.23.3-py3-none-any.whl (424 kB)\u001b[0m\n",
      "\u001b[34m2024-11-26 02:56:15,289 sagemaker.remote_function INFO     Downloading auto_gptq-0.7.1-cp311-cp311-manylinux_2_17_x86_64.manylinux2014_x86_64.whl (23.5 MB)\u001b[0m\n",
      "\u001b[34m2024-11-26 02:56:15,475 sagemaker.remote_function INFO        ━━━━━━━━━━━━━━━━━━━━━━━━━━━━━━━━━━━━━━━━ 23.5/23.5 MB 126.5 MB/s eta 0:00:00\u001b[0m\n",
      "\u001b[34m2024-11-26 02:56:15,480 sagemaker.remote_function INFO     Downloading gradio-5.6.0-py3-none-any.whl (57.1 MB)\u001b[0m\n",
      "\u001b[34m2024-11-26 02:56:15,746 sagemaker.remote_function INFO        ━━━━━━━━━━━━━━━━━━━━━━━━━━━━━━━━━━━━━━━━ 57.1/57.1 MB 215.4 MB/s eta 0:00:00\u001b[0m\n",
      "\u001b[34m2024-11-26 02:56:15,752 sagemaker.remote_function INFO     Downloading gradio_client-1.4.3-py3-none-any.whl (320 kB)\u001b[0m\n",
      "\u001b[34m2024-11-26 02:56:15,760 sagemaker.remote_function INFO     Downloading tomlkit-0.12.0-py3-none-any.whl (37 kB)\u001b[0m\n",
      "\u001b[34m2024-11-26 02:56:15,766 sagemaker.remote_function INFO     Downloading mistral_common-1.5.1-py3-none-any.whl (6.5 MB)\u001b[0m\n",
      "\u001b[34m2024-11-26 02:56:15,798 sagemaker.remote_function INFO        ━━━━━━━━━━━━━━━━━━━━━━━━━━━━━━━━━━━━━━━━ 6.5/6.5 MB 215.5 MB/s eta 0:00:00\u001b[0m\n",
      "\u001b[34m2024-11-26 02:56:15,809 sagemaker.remote_function INFO     Downloading sentencepiece-0.2.0-cp311-cp311-manylinux_2_17_x86_64.manylinux2014_x86_64.whl (1.3 MB)\u001b[0m\n",
      "\u001b[34m2024-11-26 02:56:15,814 sagemaker.remote_function INFO        ━━━━━━━━━━━━━━━━━━━━━━━━━━━━━━━━━━━━━━━━ 1.3/1.3 MB 353.9 MB/s eta 0:00:00\u001b[0m\n",
      "\u001b[34m2024-11-26 02:56:15,821 sagemaker.remote_function INFO     Downloading modelscope-1.18.1-py3-none-any.whl (5.7 MB)\u001b[0m\n",
      "\u001b[34m2024-11-26 02:56:16,003 sagemaker.remote_function INFO        ━━━━━━━━━━━━━━━━━━━━━━━━━━━━━━━━━━━━━━━━ 5.7/5.7 MB 30.6 MB/s eta 0:00:00\u001b[0m\n",
      "\u001b[34m2024-11-26 02:56:16,010 sagemaker.remote_function INFO     Downloading setuptools-69.5.1-py3-none-any.whl (894 kB)\u001b[0m\n",
      "\u001b[34m2024-11-26 02:56:16,016 sagemaker.remote_function INFO        ━━━━━━━━━━━━━━━━━━━━━━━━━━━━━━━━━━━━━━━ 894.6/894.6 kB 202.4 MB/s eta 0:00:00\u001b[0m\n",
      "\u001b[34m2024-11-26 02:56:16,019 sagemaker.remote_function INFO     Downloading datasets-2.21.0-py3-none-any.whl (527 kB)\u001b[0m\n",
      "\u001b[34m2024-11-26 02:56:16,024 sagemaker.remote_function INFO        ━━━━━━━━━━━━━━━━━━━━━━━━━━━━━━━━━━━━━━━ 527.3/527.3 kB 422.6 MB/s eta 0:00:00\u001b[0m\n",
      "\u001b[34m2024-11-26 02:56:16,027 sagemaker.remote_function INFO     Downloading openai-1.55.1-py3-none-any.whl (389 kB)\u001b[0m\n",
      "\u001b[34m2024-11-26 02:56:16,035 sagemaker.remote_function INFO     Downloading outlines-0.0.46-py3-none-any.whl (101 kB)\u001b[0m\n",
      "\u001b[34m2024-11-26 02:56:16,040 sagemaker.remote_function INFO     Downloading peft-0.12.0-py3-none-any.whl (296 kB)\u001b[0m\n",
      "\u001b[34m2024-11-26 02:56:16,044 sagemaker.remote_function INFO     Downloading prometheus_fastapi_instrumentator-7.0.0-py3-none-any.whl (19 kB)\u001b[0m\n",
      "\u001b[34m2024-11-26 02:56:16,047 sagemaker.remote_function INFO     Downloading pydantic-2.10.1-py3-none-any.whl (455 kB)\u001b[0m\n",
      "\u001b[34m2024-11-26 02:56:16,051 sagemaker.remote_function INFO     Downloading pydantic_core-2.27.1-cp311-cp311-manylinux_2_17_x86_64.manylinux2014_x86_64.whl (2.1 MB)\u001b[0m\n",
      "\u001b[34m2024-11-26 02:56:16,057 sagemaker.remote_function INFO        ━━━━━━━━━━━━━━━━━━━━━━━━━━━━━━━━━━━━━━━━ 2.1/2.1 MB 468.1 MB/s eta 0:00:00\u001b[0m\n",
      "\u001b[34m2024-11-26 02:56:16,065 sagemaker.remote_function INFO     Downloading tiktoken-0.7.0-cp311-cp311-manylinux_2_17_x86_64.manylinux2014_x86_64.whl (1.1 MB)\u001b[0m\n",
      "\u001b[34m2024-11-26 02:56:16,069 sagemaker.remote_function INFO        ━━━━━━━━━━━━━━━━━━━━━━━━━━━━━━━━━━━━━━━━ 1.1/1.1 MB 480.6 MB/s eta 0:00:00\u001b[0m\n",
      "\u001b[34m2024-11-26 02:56:16,075 sagemaker.remote_function INFO     Downloading tokenizers-0.19.1-cp311-cp311-manylinux_2_17_x86_64.manylinux2014_x86_64.whl (3.6 MB)\u001b[0m\n",
      "\u001b[34m2024-11-26 02:56:16,093 sagemaker.remote_function INFO        ━━━━━━━━━━━━━━━━━━━━━━━━━━━━━━━━━━━━━━━━ 3.6/3.6 MB 216.3 MB/s eta 0:00:00\u001b[0m\n",
      "\u001b[34m2024-11-26 02:56:16,098 sagemaker.remote_function INFO     Downloading trl-0.11.4-py3-none-any.whl (316 kB)\u001b[0m\n",
      "\u001b[34m2024-11-26 02:56:16,102 sagemaker.remote_function INFO     Downloading addict-2.4.0-py3-none-any.whl (3.8 kB)\u001b[0m\n",
      "\u001b[34m2024-11-26 02:56:16,106 sagemaker.remote_function INFO     Downloading attrdict-2.0.1-py2.py3-none-any.whl (9.9 kB)\u001b[0m\n",
      "\u001b[34m2024-11-26 02:56:16,110 sagemaker.remote_function INFO     Downloading av-13.1.0-cp311-cp311-manylinux_2_17_x86_64.manylinux2014_x86_64.whl (34.0 MB)\u001b[0m\n",
      "\u001b[34m2024-11-26 02:56:16,257 sagemaker.remote_function INFO        ━━━━━━━━━━━━━━━━━━━━━━━━━━━━━━━━━━━━━━━━ 34.0/34.0 MB 234.9 MB/s eta 0:00:00\u001b[0m\n",
      "\u001b[34m2024-11-26 02:56:16,260 sagemaker.remote_function INFO     Downloading coloredlogs-15.0.1-py2.py3-none-any.whl (46 kB)\u001b[0m\n",
      "\u001b[34m2024-11-26 02:56:16,265 sagemaker.remote_function INFO     Downloading cpm_kernels-1.0.11-py3-none-any.whl (416 kB)\u001b[0m\n",
      "\u001b[34m2024-11-26 02:56:16,270 sagemaker.remote_function INFO     Downloading dacite-1.8.1-py3-none-any.whl (14 kB)\u001b[0m\n",
      "\u001b[34m2024-11-26 02:56:16,273 sagemaker.remote_function INFO     Downloading einops-0.8.0-py3-none-any.whl (43 kB)\u001b[0m\n",
      "\u001b[34m2024-11-26 02:56:16,280 sagemaker.remote_function INFO     Downloading gekko-1.2.1-py3-none-any.whl (13.2 MB)\u001b[0m\n",
      "\u001b[34m2024-11-26 02:56:16,359 sagemaker.remote_function INFO        ━━━━━━━━━━━━━━━━━━━━━━━━━━━━━━━━━━━━━━━━ 13.2/13.2 MB 169.3 MB/s eta 0:00:00\u001b[0m\n",
      "\u001b[34m2024-11-26 02:56:16,364 sagemaker.remote_function INFO     Downloading msgspec-0.18.6-cp311-cp311-manylinux_2_17_x86_64.manylinux2014_x86_64.whl (209 kB)\u001b[0m\n",
      "\u001b[34m2024-11-26 02:56:16,367 sagemaker.remote_function INFO     Downloading nvidia_ml_py-12.560.30-py3-none-any.whl (40 kB)\u001b[0m\n",
      "\u001b[34m2024-11-26 02:56:16,370 sagemaker.remote_function INFO     Downloading partial_json_parser-0.2.1.1.post4-py3-none-any.whl (9.9 kB)\u001b[0m\n",
      "\u001b[34m2024-11-26 02:56:16,373 sagemaker.remote_function INFO     Downloading py_cpuinfo-9.0.0-py3-none-any.whl (22 kB)\u001b[0m\n",
      "\u001b[34m2024-11-26 02:56:16,378 sagemaker.remote_function INFO     Downloading rouge-1.0.1-py3-none-any.whl (13 kB)\u001b[0m\n",
      "\u001b[34m2024-11-26 02:56:16,382 sagemaker.remote_function INFO     Downloading aiofiles-23.2.1-py3-none-any.whl (15 kB)\u001b[0m\n",
      "\u001b[34m2024-11-26 02:56:16,387 sagemaker.remote_function INFO     Downloading aliyun_python_sdk_kms-2.16.5-py2.py3-none-any.whl (99 kB)\u001b[0m\n",
      "\u001b[34m2024-11-26 02:56:16,390 sagemaker.remote_function INFO     Downloading annotated_types-0.7.0-py3-none-any.whl (13 kB)\u001b[0m\n",
      "\u001b[34m2024-11-26 02:56:16,393 sagemaker.remote_function INFO     Downloading dill-0.3.8-py3-none-any.whl (116 kB)\u001b[0m\n",
      "\u001b[34m2024-11-26 02:56:16,396 sagemaker.remote_function INFO     Downloading humanfriendly-10.0-py2.py3-none-any.whl (86 kB)\u001b[0m\n",
      "\u001b[34m2024-11-26 02:56:16,399 sagemaker.remote_function INFO     Downloading interegular-0.3.3-py37-none-any.whl (23 kB)\u001b[0m\n",
      "\u001b[34m2024-11-26 02:56:16,403 sagemaker.remote_function INFO     Downloading jiter-0.7.1-cp311-cp311-manylinux_2_17_x86_64.manylinux2014_x86_64.whl (325 kB)\u001b[0m\n",
      "\u001b[34m2024-11-26 02:56:16,408 sagemaker.remote_function INFO     Downloading jmespath-0.10.0-py2.py3-none-any.whl (24 kB)\u001b[0m\n",
      "\u001b[34m2024-11-26 02:56:16,411 sagemaker.remote_function INFO     Downloading MarkupSafe-2.1.5-cp311-cp311-manylinux_2_17_x86_64.manylinux2014_x86_64.whl (28 kB)\u001b[0m\n",
      "\u001b[34m2024-11-26 02:56:16,414 sagemaker.remote_function INFO     Downloading pycryptodome-3.21.0-cp36-abi3-manylinux_2_17_x86_64.manylinux2014_x86_64.whl (2.3 MB)\u001b[0m\n",
      "\u001b[34m2024-11-26 02:56:16,422 sagemaker.remote_function INFO        ━━━━━━━━━━━━━━━━━━━━━━━━━━━━━━━━━━━━━━━━ 2.3/2.3 MB 441.5 MB/s eta 0:00:00\u001b[0m\n",
      "\u001b[34m2024-11-26 02:56:16,428 sagemaker.remote_function INFO     Downloading ruff-0.8.0-py3-none-manylinux_2_17_x86_64.manylinux2014_x86_64.whl (11.1 MB)\u001b[0m\n",
      "\u001b[34m2024-11-26 02:56:16,496 sagemaker.remote_function INFO        ━━━━━━━━━━━━━━━━━━━━━━━━━━━━━━━━━━━━━━━━ 11.1/11.1 MB 165.9 MB/s eta 0:00:00\u001b[0m\n",
      "\u001b[34m2024-11-26 02:56:16,500 sagemaker.remote_function INFO     Downloading safehttpx-0.1.1-py3-none-any.whl (8.4 kB)\u001b[0m\n",
      "\u001b[34m2024-11-26 02:56:16,503 sagemaker.remote_function INFO     Downloading semantic_version-2.10.0-py2.py3-none-any.whl (15 kB)\u001b[0m\n",
      "\u001b[34m2024-11-26 02:56:16,507 sagemaker.remote_function INFO     Downloading simplejson-3.19.3-cp311-cp311-manylinux_2_5_x86_64.manylinux1_x86_64.manylinux_2_17_x86_64.manylinux2014_x86_64.whl (144 kB)\u001b[0m\n",
      "\u001b[34m2024-11-26 02:56:16,512 sagemaker.remote_function INFO     Downloading tyro-0.9.2-py3-none-any.whl (112 kB)\u001b[0m\n",
      "\u001b[34m2024-11-26 02:56:16,516 sagemaker.remote_function INFO     Downloading websockets-12.0-cp311-cp311-manylinux_2_5_x86_64.manylinux1_x86_64.manylinux_2_17_x86_64.manylinux2014_x86_64.whl (130 kB)\u001b[0m\n",
      "\u001b[34m2024-11-26 02:56:16,519 sagemaker.remote_function INFO     Downloading ffmpy-0.4.0-py3-none-any.whl (5.8 kB)\u001b[0m\n",
      "\u001b[34m2024-11-26 02:56:16,522 sagemaker.remote_function INFO     Downloading lark-1.2.2-py3-none-any.whl (111 kB)\u001b[0m\n",
      "\u001b[34m2024-11-26 02:56:16,527 sagemaker.remote_function INFO     Downloading pyairports-2.1.1-py3-none-any.whl (371 kB)\u001b[0m\n",
      "\u001b[34m2024-11-26 02:56:16,532 sagemaker.remote_function INFO     Downloading pycountry-24.6.1-py3-none-any.whl (6.3 MB)\u001b[0m\n",
      "\u001b[34m2024-11-26 02:56:16,557 sagemaker.remote_function INFO        ━━━━━━━━━━━━━━━━━━━━━━━━━━━━━━━━━━━━━━━━ 6.3/6.3 MB 262.4 MB/s eta 0:00:00\u001b[0m\n",
      "\u001b[34m2024-11-26 02:56:16,561 sagemaker.remote_function INFO     Downloading pydub-0.25.1-py2.py3-none-any.whl (32 kB)\u001b[0m\n",
      "\u001b[34m2024-11-26 02:56:16,564 sagemaker.remote_function INFO     Downloading docstring_parser-0.16-py3-none-any.whl (36 kB)\u001b[0m\n",
      "\u001b[34m2024-11-26 02:56:16,566 sagemaker.remote_function INFO     Downloading shtab-1.7.1-py3-none-any.whl (14 kB)\u001b[0m\n",
      "\u001b[34m2024-11-26 02:56:16,569 sagemaker.remote_function INFO     Downloading typeguard-4.4.1-py3-none-any.whl (35 kB)\u001b[0m\n",
      "\u001b[34m2024-11-26 02:56:16,575 sagemaker.remote_function INFO     Downloading nvidia_nvjitlink_cu12-12.6.85-py3-none-manylinux2010_x86_64.manylinux_2_12_x86_64.whl (19.7 MB)\u001b[0m\n",
      "\u001b[34m2024-11-26 02:56:16,674 sagemaker.remote_function INFO        ━━━━━━━━━━━━━━━━━━━━━━━━━━━━━━━━━━━━━━━━ 19.7/19.7 MB 202.6 MB/s eta 0:00:00\u001b[0m\n",
      "\u001b[34m2024-11-26 02:56:19,194 sagemaker.remote_function INFO     Building wheels for collected packages: accelerate, ms-swift, transformers, binpacking, jieba, oss2, transformers_stream_generator, aliyun-python-sdk-core, crcmod\u001b[0m\n",
      "\u001b[34m2024-11-26 02:56:19,195 sagemaker.remote_function INFO       Building wheel for accelerate (pyproject.toml): started\u001b[0m\n",
      "\u001b[34m2024-11-26 02:56:19,472 sagemaker.remote_function INFO       Building wheel for accelerate (pyproject.toml): finished with status 'done'\u001b[0m\n",
      "\u001b[34m2024-11-26 02:56:19,473 sagemaker.remote_function INFO       Created wheel for accelerate: filename=accelerate-1.1.0-py3-none-any.whl size=333181 sha256=9449f9088881067148d6e02565aef194171f88f4693007864430436304d26711\u001b[0m\n",
      "\u001b[34m2024-11-26 02:56:19,473 sagemaker.remote_function INFO       Stored in directory: /tmp/pip-ephem-wheel-cache-t8__lgt0/wheels/f0/2a/6c/28130a006f39e3d715050e5bf0f5b5b659b3f1960fa91f90c1\u001b[0m\n",
      "\u001b[34m2024-11-26 02:56:19,477 sagemaker.remote_function INFO       Building wheel for ms-swift (setup.py): started\u001b[0m\n",
      "\u001b[34m2024-11-26 02:56:20,200 sagemaker.remote_function INFO       Building wheel for ms-swift (setup.py): finished with status 'done'\u001b[0m\n",
      "\u001b[34m2024-11-26 02:56:20,201 sagemaker.remote_function INFO       Created wheel for ms-swift: filename=ms_swift-2.6.0.dev0-py3-none-any.whl size=643204 sha256=2d61a829f61ddcb5627c6287a290f09090177f91e419cdbfbe09368f3d2b587a\u001b[0m\n",
      "\u001b[34m2024-11-26 02:56:20,201 sagemaker.remote_function INFO       Stored in directory: /tmp/pip-ephem-wheel-cache-t8__lgt0/wheels/a0/18/c5/980b3ac93674afb784980451be3dac52b354b641efd61dfee3\u001b[0m\n",
      "\u001b[34m2024-11-26 02:56:20,207 sagemaker.remote_function INFO       Building wheel for transformers (pyproject.toml): started\u001b[0m\n",
      "\u001b[34m2024-11-26 02:56:23,281 sagemaker.remote_function INFO       Building wheel for transformers (pyproject.toml): finished with status 'done'\u001b[0m\n",
      "\u001b[34m2024-11-26 02:56:23,288 sagemaker.remote_function INFO       Created wheel for transformers: filename=transformers-4.45.0.dev0-py3-none-any.whl size=9677099 sha256=a2b21b790e34744773ede4c6f883edf30eb3fe185397dc6ad04be57814d6cf27\u001b[0m\n",
      "\u001b[34m2024-11-26 02:56:23,288 sagemaker.remote_function INFO       Stored in directory: /tmp/pip-ephem-wheel-cache-t8__lgt0/wheels/15/3e/48/cdb9397d65eab9b7a87e0db49347a35956503d4fd6755f9fb8\u001b[0m\n",
      "\u001b[34m2024-11-26 02:56:23,303 sagemaker.remote_function INFO       Building wheel for binpacking (setup.py): started\u001b[0m\n",
      "\u001b[34m2024-11-26 02:56:23,783 sagemaker.remote_function INFO       Building wheel for binpacking (setup.py): finished with status 'done'\u001b[0m\n",
      "\u001b[34m2024-11-26 02:56:23,783 sagemaker.remote_function INFO       Created wheel for binpacking: filename=binpacking-1.5.2-py3-none-any.whl size=10093 sha256=50b27e88f4dfe25436a80406b5f532c13f625dda65cd35ef216dc8296aa71fc4\u001b[0m\n",
      "\u001b[34m2024-11-26 02:56:23,783 sagemaker.remote_function INFO       Stored in directory: /tmp/pip-ephem-wheel-cache-t8__lgt0/wheels/69/69/bb/8cb3bba0d8870bbcbaf8a9f26b17d07ed5714dd3a6b0c73f3d\u001b[0m\n",
      "\u001b[34m2024-11-26 02:56:23,785 sagemaker.remote_function INFO       Building wheel for jieba (setup.py): started\u001b[0m\n",
      "\u001b[34m2024-11-26 02:56:26,237 sagemaker.remote_function INFO       Building wheel for jieba (setup.py): finished with status 'done'\u001b[0m\n",
      "\u001b[34m2024-11-26 02:56:26,251 sagemaker.remote_function INFO       Created wheel for jieba: filename=jieba-0.42.1-py3-none-any.whl size=19314458 sha256=837b1ee08854f68cbd4beeeb81cf627219eb8c66416404e27eab6ea751c7be2c\u001b[0m\n",
      "\u001b[34m2024-11-26 02:56:26,251 sagemaker.remote_function INFO       Stored in directory: /tmp/pip-ephem-wheel-cache-t8__lgt0/wheels/ac/60/cf/538a1f183409caf1fc136b5d2c2dee329001ef6da2c5084bef\u001b[0m\n",
      "\u001b[34m2024-11-26 02:56:26,254 sagemaker.remote_function INFO       Building wheel for oss2 (setup.py): started\u001b[0m\n",
      "\u001b[34m2024-11-26 02:56:26,758 sagemaker.remote_function INFO       Building wheel for oss2 (setup.py): finished with status 'done'\u001b[0m\n",
      "\u001b[34m2024-11-26 02:56:26,758 sagemaker.remote_function INFO       Created wheel for oss2: filename=oss2-2.19.1-py3-none-any.whl size=123943 sha256=6774da639109f17cfebaf48d299c4367edb7301c0c261e362cfb378ee8d91e16\u001b[0m\n",
      "\u001b[34m2024-11-26 02:56:26,758 sagemaker.remote_function INFO       Stored in directory: /tmp/pip-ephem-wheel-cache-t8__lgt0/wheels/56/27/a3/50e7db0dd68810d9d4e383a547b88b4a5b1eaae58e63c1d64a\u001b[0m\n",
      "\u001b[34m2024-11-26 02:56:26,760 sagemaker.remote_function INFO       Building wheel for transformers_stream_generator (setup.py): started\u001b[0m\n",
      "\u001b[34m2024-11-26 02:56:27,232 sagemaker.remote_function INFO       Building wheel for transformers_stream_generator (setup.py): finished with status 'done'\u001b[0m\n",
      "\u001b[34m2024-11-26 02:56:27,232 sagemaker.remote_function INFO       Created wheel for transformers_stream_generator: filename=transformers_stream_generator-0.0.5-py3-none-any.whl size=12425 sha256=ec7fe076c0c9c2d69b927a5714ab079949d60ed7fbe9c1ffb23daadf12c6fedc\u001b[0m\n",
      "\u001b[34m2024-11-26 02:56:27,232 sagemaker.remote_function INFO       Stored in directory: /tmp/pip-ephem-wheel-cache-t8__lgt0/wheels/23/e8/f0/b3c58c12d1ffe60bcc8c7d121115f26b2c1878653edfca48db\u001b[0m\n",
      "\u001b[34m2024-11-26 02:56:27,234 sagemaker.remote_function INFO       Building wheel for aliyun-python-sdk-core (setup.py): started\u001b[0m\n",
      "\u001b[34m2024-11-26 02:56:27,856 sagemaker.remote_function INFO       Building wheel for aliyun-python-sdk-core (setup.py): finished with status 'done'\u001b[0m\n",
      "\u001b[34m2024-11-26 02:56:27,857 sagemaker.remote_function INFO       Created wheel for aliyun-python-sdk-core: filename=aliyun_python_sdk_core-2.16.0-py3-none-any.whl size=535316 sha256=31d0ff14b6d1754f2d2ec69cf4ade43861e171860f9f8d8e840bb79f97096cdf\u001b[0m\n",
      "\u001b[34m2024-11-26 02:56:27,857 sagemaker.remote_function INFO       Stored in directory: /tmp/pip-ephem-wheel-cache-t8__lgt0/wheels/2b/9a/95/60f111d2a488c5f7f7ed2a96ce407ea57ec7393ddfdec8c956\u001b[0m\n",
      "\u001b[34m2024-11-26 02:56:27,860 sagemaker.remote_function INFO       Building wheel for crcmod (setup.py): started\u001b[0m\n",
      "\u001b[34m2024-11-26 02:56:28,524 sagemaker.remote_function INFO       Building wheel for crcmod (setup.py): finished with status 'done'\u001b[0m\n",
      "\u001b[34m2024-11-26 02:56:28,524 sagemaker.remote_function INFO       Created wheel for crcmod: filename=crcmod-1.7-cp311-cp311-linux_x86_64.whl size=23227 sha256=280b062f946619356e52b089020ae9d0564b59011145623451be15ab16042a6c\u001b[0m\n",
      "\u001b[34m2024-11-26 02:56:28,525 sagemaker.remote_function INFO       Stored in directory: /tmp/pip-ephem-wheel-cache-t8__lgt0/wheels/23/94/7a/8cb7d14597e6395ce969933f01aed9ea8fa5f5b4d4c8a61e99\u001b[0m\n",
      "\u001b[34m2024-11-26 02:56:28,527 sagemaker.remote_function INFO     Successfully built accelerate ms-swift transformers binpacking jieba oss2 transformers_stream_generator aliyun-python-sdk-core crcmod\u001b[0m\n",
      "\u001b[34m2024-11-26 02:56:29,545 sagemaker.remote_function INFO     Installing collected packages: sentencepiece, pydub, pyairports, py-cpuinfo, nvidia-ml-py, jieba, crcmod, cpm_kernels, addict, websockets, typeguard, triton, tomlkit, simplejson, shtab, setuptools, semantic-version, ruff, rouge, pydantic-core, pycryptodome, pycountry, pyav, partial-json-parser, nvidia-nvtx-cu12, nvidia-nvjitlink-cu12, nvidia-nccl-cu12, nvidia-curand-cu12, nvidia-cufft-cu12, nvidia-cuda-runtime-cu12, nvidia-cuda-nvrtc-cu12, nvidia-cuda-cupti-cu12, nvidia-cublas-cu12, msgspec, markupsafe, lark, jmespath, jiter, interegular, humanfriendly, gguf, gekko, ffmpy, einops, docstring-parser, dill, decord, dacite, binpacking, av, attrdict, annotated-types, aiofiles, tiktoken, qwen_vl_utils, pydantic, nvidia-cusparse-cu12, nvidia-cudnn-cu12, modelscope, coloredlogs, tyro, tokenizers, safehttpx, prometheus-fastapi-instrumentator, openai, nvidia-cusolver-cu12, lm-format-enforcer, gradio-client, aliyun-python-sdk-core, transformers, torch, mistral-common, gradio, datasets, aliyun-python-sdk-kms, xformers, vllm-flash-attn, transformers_stream_generator, torchvision, outlines, oss2, optimum, mlflow-skinny, accelerate, vllm, trl, peft, mlflow, ms-swift, auto-gptq\u001b[0m\n",
      "\u001b[34m2024-11-26 02:56:29,545 sagemaker.remote_function INFO       Attempting uninstall: sentencepiece\u001b[0m\n",
      "\u001b[34m2024-11-26 02:56:29,551 sagemaker.remote_function INFO         Found existing installation: sentencepiece 0.1.99\u001b[0m\n",
      "\u001b[34m2024-11-26 02:56:29,553 sagemaker.remote_function INFO         Uninstalling sentencepiece-0.1.99:\u001b[0m\n",
      "\u001b[34m2024-11-26 02:56:29,558 sagemaker.remote_function INFO           Successfully uninstalled sentencepiece-0.1.99\u001b[0m\n",
      "\u001b[34m2024-11-26 02:56:30,931 sagemaker.remote_function INFO       Attempting uninstall: websockets\u001b[0m\n",
      "\u001b[34m2024-11-26 02:56:30,941 sagemaker.remote_function INFO         Found existing installation: websockets 13.1\u001b[0m\n",
      "\u001b[34m2024-11-26 02:56:30,948 sagemaker.remote_function INFO         Uninstalling websockets-13.1:\u001b[0m\n",
      "\u001b[34m2024-11-26 02:56:30,970 sagemaker.remote_function INFO           Successfully uninstalled websockets-13.1\u001b[0m\n",
      "\u001b[34m2024-11-26 02:56:33,378 sagemaker.remote_function INFO       Attempting uninstall: tomlkit\u001b[0m\n",
      "\u001b[34m2024-11-26 02:56:33,387 sagemaker.remote_function INFO         Found existing installation: tomlkit 0.13.2\u001b[0m\n",
      "\u001b[34m2024-11-26 02:56:33,390 sagemaker.remote_function INFO         Uninstalling tomlkit-0.13.2:\u001b[0m\n",
      "\u001b[34m2024-11-26 02:56:33,398 sagemaker.remote_function INFO           Successfully uninstalled tomlkit-0.13.2\u001b[0m\n",
      "\u001b[34m2024-11-26 02:56:33,504 sagemaker.remote_function INFO       Attempting uninstall: setuptools\u001b[0m\n",
      "\u001b[34m2024-11-26 02:56:33,514 sagemaker.remote_function INFO         Found existing installation: setuptools 75.1.0\u001b[0m\n",
      "\u001b[34m2024-11-26 02:56:33,516 sagemaker.remote_function INFO         Uninstalling setuptools-75.1.0:\u001b[0m\n",
      "\u001b[34m2024-11-26 02:56:34,648 sagemaker.remote_function INFO           Successfully uninstalled setuptools-75.1.0\u001b[0m\n",
      "\u001b[34m2024-11-26 02:56:44,442 sagemaker.remote_function INFO       Attempting uninstall: markupsafe\u001b[0m\n",
      "\u001b[34m2024-11-26 02:56:44,447 sagemaker.remote_function INFO         Found existing installation: MarkupSafe 3.0.2\u001b[0m\n",
      "\u001b[34m2024-11-26 02:56:44,450 sagemaker.remote_function INFO         Uninstalling MarkupSafe-3.0.2:\u001b[0m\n",
      "\u001b[34m2024-11-26 02:56:44,454 sagemaker.remote_function INFO           Successfully uninstalled MarkupSafe-3.0.2\u001b[0m\n",
      "\u001b[34m2024-11-26 02:56:44,533 sagemaker.remote_function INFO       Attempting uninstall: jmespath\u001b[0m\n",
      "\u001b[34m2024-11-26 02:56:44,541 sagemaker.remote_function INFO         Found existing installation: jmespath 1.0.1\u001b[0m\n",
      "\u001b[34m2024-11-26 02:56:44,543 sagemaker.remote_function INFO         Uninstalling jmespath-1.0.1:\u001b[0m\n",
      "\u001b[34m2024-11-26 02:56:44,553 sagemaker.remote_function INFO           Successfully uninstalled jmespath-1.0.1\u001b[0m\n",
      "\u001b[34m2024-11-26 02:56:44,969 sagemaker.remote_function INFO       Attempting uninstall: dill\u001b[0m\n",
      "\u001b[34m2024-11-26 02:56:44,976 sagemaker.remote_function INFO         Found existing installation: dill 0.3.9\u001b[0m\n",
      "\u001b[34m2024-11-26 02:56:44,983 sagemaker.remote_function INFO         Uninstalling dill-0.3.9:\u001b[0m\n",
      "\u001b[34m2024-11-26 02:56:45,007 sagemaker.remote_function INFO           Successfully uninstalled dill-0.3.9\u001b[0m\n",
      "\u001b[34m2024-11-26 02:56:45,883 sagemaker.remote_function INFO       Attempting uninstall: pydantic\u001b[0m\n",
      "\u001b[34m2024-11-26 02:56:45,895 sagemaker.remote_function INFO         Found existing installation: pydantic 1.10.17\u001b[0m\n",
      "\u001b[34m2024-11-26 02:56:45,903 sagemaker.remote_function INFO         Uninstalling pydantic-1.10.17:\u001b[0m\n",
      "\u001b[34m2024-11-26 02:56:45,936 sagemaker.remote_function INFO           Successfully uninstalled pydantic-1.10.17\u001b[0m\n",
      "\u001b[34m2024-11-26 02:56:58,676 sagemaker.remote_function INFO       Attempting uninstall: tokenizers\u001b[0m\n",
      "\u001b[34m2024-11-26 02:56:58,686 sagemaker.remote_function INFO         Found existing installation: tokenizers 0.15.2\u001b[0m\n",
      "\u001b[34m2024-11-26 02:56:58,690 sagemaker.remote_function INFO         Uninstalling tokenizers-0.15.2:\u001b[0m\n",
      "\u001b[34m2024-11-26 02:56:58,752 sagemaker.remote_function INFO           Successfully uninstalled tokenizers-0.15.2\u001b[0m\n",
      "\u001b[34m2024-11-26 02:57:01,327 sagemaker.remote_function INFO       Attempting uninstall: transformers\u001b[0m\n",
      "\u001b[34m2024-11-26 02:57:01,342 sagemaker.remote_function INFO         Found existing installation: transformers 4.38.2\u001b[0m\n",
      "\u001b[34m2024-11-26 02:57:01,532 sagemaker.remote_function INFO         Uninstalling transformers-4.38.2:\u001b[0m\n",
      "\u001b[34m2024-11-26 02:57:02,456 sagemaker.remote_function INFO           Successfully uninstalled transformers-4.38.2\u001b[0m\n",
      "\u001b[34m2024-11-26 02:57:07,477 sagemaker.remote_function INFO       Attempting uninstall: torch\u001b[0m\n",
      "\u001b[34m2024-11-26 02:57:07,488 sagemaker.remote_function INFO         Found existing installation: torch 2.3.1.post300\u001b[0m\n",
      "\u001b[34m2024-11-26 02:57:07,919 sagemaker.remote_function INFO         Uninstalling torch-2.3.1.post300:\u001b[0m\n",
      "\u001b[34m2024-11-26 02:57:12,807 sagemaker.remote_function INFO           Successfully uninstalled torch-2.3.1.post300\u001b[0m\n",
      "\u001b[34m2024-11-26 02:57:28,844 sagemaker.remote_function INFO       Attempting uninstall: datasets\u001b[0m\n",
      "\u001b[34m2024-11-26 02:57:28,852 sagemaker.remote_function INFO         Found existing installation: datasets 2.2.1\u001b[0m\n",
      "\u001b[34m2024-11-26 02:57:28,865 sagemaker.remote_function INFO         Uninstalling datasets-2.2.1:\u001b[0m\n",
      "\u001b[34m2024-11-26 02:57:28,914 sagemaker.remote_function INFO           Successfully uninstalled datasets-2.2.1\u001b[0m\n",
      "\u001b[34m2024-11-26 02:57:30,875 sagemaker.remote_function INFO       Attempting uninstall: torchvision\u001b[0m\n",
      "\u001b[34m2024-11-26 02:57:30,885 sagemaker.remote_function INFO         Found existing installation: torchvision 0.18.1a0+405940f\u001b[0m\n",
      "\u001b[34m2024-11-26 02:57:30,906 sagemaker.remote_function INFO         Uninstalling torchvision-0.18.1a0+405940f:\u001b[0m\n",
      "\u001b[34m2024-11-26 02:57:30,992 sagemaker.remote_function INFO           Successfully uninstalled torchvision-0.18.1a0+405940f\u001b[0m\n",
      "\u001b[34m2024-11-26 02:57:31,794 sagemaker.remote_function INFO       Attempting uninstall: mlflow-skinny\u001b[0m\n",
      "\u001b[34m2024-11-26 02:57:31,804 sagemaker.remote_function INFO         Found existing installation: mlflow-skinny 2.17.0\u001b[0m\n",
      "\u001b[34m2024-11-26 02:57:31,877 sagemaker.remote_function INFO         Uninstalling mlflow-skinny-2.17.0:\u001b[0m\n",
      "\u001b[34m2024-11-26 02:57:32,235 sagemaker.remote_function INFO           Successfully uninstalled mlflow-skinny-2.17.0\u001b[0m\n",
      "\u001b[34m2024-11-26 02:57:33,186 sagemaker.remote_function INFO       Attempting uninstall: accelerate\u001b[0m\n",
      "\u001b[34m2024-11-26 02:57:33,192 sagemaker.remote_function INFO         Found existing installation: accelerate 0.21.0\u001b[0m\n",
      "\u001b[34m2024-11-26 02:57:33,203 sagemaker.remote_function INFO         Uninstalling accelerate-0.21.0:\u001b[0m\n",
      "\u001b[34m2024-11-26 02:57:33,239 sagemaker.remote_function INFO           Successfully uninstalled accelerate-0.21.0\u001b[0m\n",
      "\u001b[34m2024-11-26 02:57:36,164 sagemaker.remote_function INFO       Attempting uninstall: mlflow\u001b[0m\n",
      "\u001b[34m2024-11-26 02:57:36,174 sagemaker.remote_function INFO         Found existing installation: mlflow 2.17.0\u001b[0m\n",
      "\u001b[34m2024-11-26 02:57:36,249 sagemaker.remote_function INFO         Uninstalling mlflow-2.17.0:\u001b[0m\n",
      "\u001b[34m2024-11-26 02:57:36,430 sagemaker.remote_function INFO           Successfully uninstalled mlflow-2.17.0\u001b[0m\n",
      "\u001b[34m2024-11-26 02:57:38,574 sagemaker.remote_function INFO     Successfully installed accelerate-1.1.0 addict-2.4.0 aiofiles-23.2.1 aliyun-python-sdk-core-2.16.0 aliyun-python-sdk-kms-2.16.5 annotated-types-0.7.0 attrdict-2.0.1 auto-gptq-0.7.1 av-13.1.0 binpacking-1.5.2 coloredlogs-15.0.1 cpm_kernels-1.0.11 crcmod-1.7 dacite-1.8.1 datasets-2.21.0 decord-0.6.0 dill-0.3.8 docstring-parser-0.16 einops-0.8.0 ffmpy-0.4.0 gekko-1.2.1 gguf-0.9.1 gradio-5.6.0 gradio-client-1.4.3 humanfriendly-10.0 interegular-0.3.3 jieba-0.42.1 jiter-0.7.1 jmespath-0.10.0 lark-1.2.2 lm-format-enforcer-0.10.6 markupsafe-2.1.5 mistral-common-1.5.1 mlflow-2.18.0 mlflow-skinny-2.18.0 modelscope-1.18.1 ms-swift-2.6.0.dev0 msgspec-0.18.6 nvidia-cublas-cu12-12.1.3.1 nvidia-cuda-cupti-cu12-12.1.105 nvidia-cuda-nvrtc-cu12-12.1.105 nvidia-cuda-runtime-cu12-12.1.105 nvidia-cudnn-cu12-9.1.0.70 nvidia-cufft-cu12-11.0.2.54 nvidia-curand-cu12-10.3.2.106 nvidia-cusolver-cu12-11.4.5.107 nvidia-cusparse-cu12-12.1.0.106 nvidia-ml-py-12.560.30 nvidia-nccl-cu12-2.20.5 nvidia-nvjitlink-cu12-12.6.85 nvidia-nvtx-cu12-12.1.105 openai-1.55.1 optimum-1.23.3 oss2-2.19.1 outlines-0.0.46 partial-json-parser-0.2.1.1.post4 peft-0.12.0 prometheus-fastapi-instrumentator-7.0.0 py-cpuinfo-9.0.0 pyairports-2.1.1 pyav-13.1.0 pycountry-24.6.1 pycryptodome-3.21.0 pydantic-2.10.1 pydantic-core-2.27.1 pydub-0.25.1 qwen_vl_utils-0.0.8 rouge-1.0.1 ruff-0.8.0 safehttpx-0.1.1 semantic-version-2.10.0 sentencepiece-0.2.0 setuptools-69.5.1 shtab-1.7.1 simplejson-3.19.3 tiktoken-0.7.0 tokenizers-0.19.1 tomlkit-0.12.0 torch-2.4.0 torchvision-0.19.0 transformers-4.45.0.dev0 transformers_stream_generator-0.0.5 triton-3.0.0 trl-0.11.4 typeguard-4.4.1 tyro-0.9.2 vllm-0.6.1.post2 vllm-flash-attn-2.6.1 websockets-12.0 xformers-0.0.27.post2\u001b[0m\n",
      "\u001b[34m2024-11-26 02:57:40,458 sagemaker.remote_function WARNING  WARNING: The directory '/opt/ml/sagemaker/warmpoolcache/sm_remotefunction_user_dependencies_cache/pip' or its parent directory is not owned or is not writable by the current user. The cache has been disabled. Check the permissions and owner of that directory. If executing pip with sudo, you should use sudo's -H flag.\u001b[0m\n",
      "\u001b[34m2024-11-26 02:57:40,458 sagemaker.remote_function WARNING    Running command git clone --filter=blob:none --quiet https://github.com/huggingface/accelerate.git /tmp/pip-req-build-a3xogw9e\u001b[0m\n",
      "\u001b[34m2024-11-26 02:57:40,458 sagemaker.remote_function WARNING    Running command git checkout -q 100a94b5c05c08545a3b7bc7357961b024dcb3d4\u001b[0m\n",
      "\u001b[34m2024-11-26 02:57:40,458 sagemaker.remote_function WARNING    Running command git clone --filter=blob:none --quiet https://github.com/modelscope/ms-swift.git /tmp/pip-install-etgznljr/ms-swift_89a09c4eafa0425a9acafd43bbb1e70d\u001b[0m\n",
      "\u001b[34m2024-11-26 02:57:40,458 sagemaker.remote_function WARNING    Running command git rev-parse -q --verify 'sha^d13c431a0f337f6a04df2ce5310c5666b0c0c1f2'\u001b[0m\n",
      "\u001b[34m2024-11-26 02:57:40,458 sagemaker.remote_function WARNING    Running command git fetch -q https://github.com/modelscope/ms-swift.git d13c431a0f337f6a04df2ce5310c5666b0c0c1f2\u001b[0m\n",
      "\u001b[34m2024-11-26 02:57:40,458 sagemaker.remote_function WARNING    Running command git checkout -q d13c431a0f337f6a04df2ce5310c5666b0c0c1f2\u001b[0m\n",
      "\u001b[34m2024-11-26 02:57:40,458 sagemaker.remote_function WARNING    Running command git clone --filter=blob:none --quiet https://github.com/huggingface/transformers /tmp/pip-req-build-703zgelz\u001b[0m\n",
      "\u001b[34m2024-11-26 02:57:40,458 sagemaker.remote_function WARNING    Running command git rev-parse -q --verify 'sha^21fac7abba2a37fae86106f87fcf9974fd1e3830'\u001b[0m\n",
      "\u001b[34m2024-11-26 02:57:40,458 sagemaker.remote_function WARNING    Running command git fetch -q https://github.com/huggingface/transformers 21fac7abba2a37fae86106f87fcf9974fd1e3830\u001b[0m\n",
      "\u001b[34m2024-11-26 02:57:40,458 sagemaker.remote_function WARNING    Running command git checkout -q 21fac7abba2a37fae86106f87fcf9974fd1e3830\u001b[0m\n",
      "\u001b[34m2024-11-26 02:57:40,458 sagemaker.remote_function ERROR    ERROR: pip's dependency resolver does not currently take into account all the packages that are installed. This behaviour is the source of the following dependency conflicts.\u001b[0m\n",
      "\u001b[34m2024-11-26 02:57:40,458 sagemaker.remote_function WARNING  autogluon-multimodal 1.1.1 requires nvidia-ml-py3==7.352.0, which is not installed.\u001b[0m\n",
      "\u001b[34m2024-11-26 02:57:40,458 sagemaker.remote_function WARNING  dash 2.18.1 requires dash-core-components==2.0.0, which is not installed.\u001b[0m\n",
      "\u001b[34m2024-11-26 02:57:40,458 sagemaker.remote_function WARNING  dash 2.18.1 requires dash-html-components==2.0.0, which is not installed.\u001b[0m\n",
      "\u001b[34m2024-11-26 02:57:40,458 sagemaker.remote_function WARNING  dash 2.18.1 requires dash-table==5.0.0, which is not installed.\u001b[0m\n",
      "\u001b[34m2024-11-26 02:57:40,458 sagemaker.remote_function WARNING  autogluon-core 1.1.1 requires scikit-learn<1.4.1,>=1.3.0, but you have scikit-learn 1.5.2 which is incompatible.\u001b[0m\n",
      "\u001b[34m2024-11-26 02:57:40,458 sagemaker.remote_function WARNING  autogluon-core 1.1.1 requires scipy<1.13,>=1.5.4, but you have scipy 1.14.1 which is incompatible.\u001b[0m\n",
      "\u001b[34m2024-11-26 02:57:40,458 sagemaker.remote_function WARNING  autogluon-features 1.1.1 requires scikit-learn<1.4.1,>=1.3.0, but you have scikit-learn 1.5.2 which is incompatible.\u001b[0m\n",
      "\u001b[34m2024-11-26 02:57:40,458 sagemaker.remote_function WARNING  autogluon-multimodal 1.1.1 requires accelerate<0.22.0,>=0.21.0, but you have accelerate 1.1.0 which is incompatible.\u001b[0m\n",
      "\u001b[34m2024-11-26 02:57:40,458 sagemaker.remote_function WARNING  autogluon-multimodal 1.1.1 requires jsonschema<4.22,>=4.18, but you have jsonschema 4.23.0 which is incompatible.\u001b[0m\n",
      "\u001b[34m2024-11-26 02:57:40,458 sagemaker.remote_function WARNING  autogluon-multimodal 1.1.1 requires omegaconf<2.3.0,>=2.1.1, but you have omegaconf 2.3.0 which is incompatible.\u001b[0m\n",
      "\u001b[34m2024-11-26 02:57:40,458 sagemaker.remote_function WARNING  autogluon-multimodal 1.1.1 requires scikit-learn<1.4.1,>=1.3.0, but you have scikit-learn 1.5.2 which is incompatible.\u001b[0m\n",
      "\u001b[34m2024-11-26 02:57:40,458 sagemaker.remote_function WARNING  autogluon-multimodal 1.1.1 requires scipy<1.13,>=1.5.4, but you have scipy 1.14.1 which is incompatible.\u001b[0m\n",
      "\u001b[34m2024-11-26 02:57:40,458 sagemaker.remote_function WARNING  autogluon-multimodal 1.1.1 requires torch<2.4,>=2.2, but you have torch 2.4.0 which is incompatible.\u001b[0m\n",
      "\u001b[34m2024-11-26 02:57:40,458 sagemaker.remote_function WARNING  autogluon-multimodal 1.1.1 requires transformers[sentencepiece]<4.41.0,>=4.38.0, but you have transformers 4.45.0.dev0 which is incompatible.\u001b[0m\n",
      "\u001b[34m2024-11-26 02:57:40,458 sagemaker.remote_function WARNING  autogluon-tabular 1.1.1 requires scikit-learn<1.4.1,>=1.3.0, but you have scikit-learn 1.5.2 which is incompatible.\u001b[0m\n",
      "\u001b[34m2024-11-26 02:57:40,459 sagemaker.remote_function WARNING  autogluon-tabular 1.1.1 requires scipy<1.13,>=1.5.4, but you have scipy 1.14.1 which is incompatible.\u001b[0m\n",
      "\u001b[34m2024-11-26 02:57:40,459 sagemaker.remote_function WARNING  autogluon-timeseries 1.1.1 requires accelerate<0.22.0,>=0.21.0, but you have accelerate 1.1.0 which is incompatible.\u001b[0m\n",
      "\u001b[34m2024-11-26 02:57:40,459 sagemaker.remote_function WARNING  autogluon-timeseries 1.1.1 requires gluonts==0.15.1, but you have gluonts 0.14.3 which is incompatible.\u001b[0m\n",
      "\u001b[34m2024-11-26 02:57:40,459 sagemaker.remote_function WARNING  autogluon-timeseries 1.1.1 requires scipy<1.13,>=1.5.4, but you have scipy 1.14.1 which is incompatible.\u001b[0m\n",
      "\u001b[34m2024-11-26 02:57:40,459 sagemaker.remote_function WARNING  autogluon-timeseries 1.1.1 requires torch<2.4,>=2.2, but you have torch 2.4.0 which is incompatible.\u001b[0m\n",
      "\u001b[34m2024-11-26 02:57:40,459 sagemaker.remote_function WARNING  autogluon-timeseries 1.1.1 requires transformers[sentencepiece]<4.41.0,>=4.38.0, but you have transformers 4.45.0.dev0 which is incompatible.\u001b[0m\n",
      "\u001b[34m2024-11-26 02:57:40,459 sagemaker.remote_function WARNING  sparkmagic 0.21.0 requires pandas<2.0.0,>=0.17.1, but you have pandas 2.2.3 which is incompatible.\u001b[0m\n",
      "\u001b[34m2024-11-26 02:57:40,459 sagemaker.remote_function INFO     Command /opt/conda/bin/python -m pip install -r /home/sagemaker-user/sagemaker_remote_function_workspace/requirements.txt -U ran successfully\u001b[0m\n",
      "\u001b[34msagemaker.config INFO - Not applying SDK defaults from location: /etc/xdg/sagemaker/config.yaml\u001b[0m\n",
      "\u001b[34msagemaker.config INFO - Not applying SDK defaults from location: /home/sagemaker-user/.config/sagemaker/config.yaml\u001b[0m\n",
      "\u001b[34mINFO: Changing workspace to sagemaker_remote_function_workspace.\u001b[0m\n",
      "\u001b[34mINFO: No conda env provided. Invoking remote function\u001b[0m\n",
      "\u001b[34msagemaker.config INFO - Not applying SDK defaults from location: /etc/xdg/sagemaker/config.yaml\u001b[0m\n",
      "\u001b[34msagemaker.config INFO - Not applying SDK defaults from location: /home/sagemaker-user/.config/sagemaker/config.yaml\u001b[0m\n",
      "\u001b[34m2024-11-26 02:57:43,124 sagemaker.remote_function INFO     Deserializing function code from s3://sagemaker-us-east-1-905418336534/multi-modal-finetune-2024-11-26-02-46-18-319/function\u001b[0m\n",
      "\u001b[34m2024-11-26 02:57:43,275 sagemaker.remote_function INFO     Deserializing function arguments from s3://sagemaker-us-east-1-905418336534/multi-modal-finetune-2024-11-26-02-46-18-319/arguments\u001b[0m\n",
      "\u001b[34m2024-11-26 02:57:43,336 sagemaker.remote_function INFO     Resolving pipeline variables\u001b[0m\n",
      "\u001b[34m2024-11-26 02:57:43,336 sagemaker.remote_function INFO     Invoking the function\u001b[0m\n",
      "\u001b[34m2024-11-26 02:57:45.803005: E external/local_xla/xla/stream_executor/cuda/cuda_fft.cc:485] Unable to register cuFFT factory: Attempting to register factory for plugin cuFFT when one has already been registered\u001b[0m\n",
      "\u001b[34m2024-11-26 02:57:45.818878: E external/local_xla/xla/stream_executor/cuda/cuda_dnn.cc:8454] Unable to register cuDNN factory: Attempting to register factory for plugin cuDNN when one has already been registered\u001b[0m\n",
      "\u001b[34m2024-11-26 02:57:45.823866: E external/local_xla/xla/stream_executor/cuda/cuda_blas.cc:1452] Unable to register cuBLAS factory: Attempting to register factory for plugin cuBLAS when one has already been registered\u001b[0m\n",
      "\u001b[34m2024-11-26 02:57:45.835277: I tensorflow/core/platform/cpu_feature_guard.cc:210] This TensorFlow binary is optimized to use available CPU instructions in performance-critical operations.\u001b[0m\n",
      "\u001b[34mTo enable the following instructions: SSE4.1 SSE4.2 AVX AVX2 FMA, in other operations, rebuild TensorFlow with the appropriate compiler flags.\u001b[0m\n",
      "\u001b[34m[INFO:swift] Successfully registered `/opt/conda/lib/python3.11/site-packages/swift/llm/data/dataset_info.json`\u001b[0m\n",
      "\u001b[34m[INFO:swift] No LMDeploy installed, if you are using LMDeploy, you will get `ImportError: cannot import name 'prepare_lmdeploy_engine_template' from 'swift.llm'`\u001b[0m\n",
      "\u001b[34mCompleted 101 Bytes/~604 Bytes (1.6 KiB/s) with ~14 file(s) remaining (calculating...)#015download: s3://sagemaker-us-east-1-905418336534/myvideotrainingdataset/.cache/huggingface/download/.gitattributes.metadata to .cache/huggingface/download/.gitattributes.metadata\u001b[0m\n",
      "\u001b[34mCompleted 101 Bytes/~729 Bytes (1.6 KiB/s) with ~15 file(s) remaining (calculating...)#015Completed 102 Bytes/~729 Bytes (1.2 KiB/s) with ~15 file(s) remaining (calculating...)#015Completed 203 Bytes/~854 Bytes (2.3 KiB/s) with ~16 file(s) remaining (calculating...)#015download: s3://sagemaker-us-east-1-905418336534/myvideotrainingdataset/.cache/huggingface/download/README.md.lock to .cache/huggingface/download/README.md.lock\u001b[0m\n",
      "\u001b[34mCompleted 203 Bytes/~854 Bytes (2.3 KiB/s) with ~15 file(s) remaining (calculating...)#015download: s3://sagemaker-us-east-1-905418336534/myvideotrainingdataset/.cache/huggingface/.gitignore to .cache/huggingface/.gitignore\u001b[0m\n",
      "\u001b[34mCompleted 203 Bytes/~854 Bytes (2.3 KiB/s) with ~15 file(s) remaining (calculating...)#015download: s3://sagemaker-us-east-1-905418336534/myvideotrainingdataset/.cache/huggingface/download/test.jsonl.lock to .cache/huggingface/download/test.jsonl.lock\u001b[0m\n",
      "\u001b[34mCompleted 203 Bytes/~978 Bytes (2.3 KiB/s) with ~16 file(s) remaining (calculating...)#015Completed 302 Bytes/~1.1 KiB (2.5 KiB/s) with ~18 file(s) remaining (calculating...)  #015download: s3://sagemaker-us-east-1-905418336534/myvideotrainingdataset/.cache/huggingface/download/vanilla-qwen2-vl-2b-instruct-response.jsonl.lock to .cache/huggingface/download/vanilla-qwen2-vl-2b-instruct-response.jsonl.lock\u001b[0m\n",
      "\u001b[34mCompleted 302 Bytes/~1.1 KiB (2.5 KiB/s) with ~17 file(s) remaining (calculating...)#015download: s3://sagemaker-us-east-1-905418336534/myvideotrainingdataset/.cache/huggingface/download/README.md.metadata to .cache/huggingface/download/README.md.metadata\u001b[0m\n",
      "\u001b[34mCompleted 302 Bytes/~1.1 KiB (2.5 KiB/s) with ~16 file(s) remaining (calculating...)#015Completed 403 Bytes/~1.2 KiB (2.8 KiB/s) with ~17 file(s) remaining (calculating...)#015download: s3://sagemaker-us-east-1-905418336534/myvideotrainingdataset/.cache/huggingface/download/.gitattributes.lock to .cache/huggingface/download/.gitattributes.lock\u001b[0m\n",
      "\u001b[34mCompleted 403 Bytes/~1.2 KiB (2.8 KiB/s) with ~16 file(s) remaining (calculating...)#015Completed 504 Bytes/~1.2 KiB (3.4 KiB/s) with ~16 file(s) remaining (calculating...)#015download: s3://sagemaker-us-east-1-905418336534/myvideotrainingdataset/.cache/huggingface/download/validation.jsonl.metadata to .cache/huggingface/download/validation.jsonl.metadata\u001b[0m\n",
      "\u001b[34mCompleted 504 Bytes/~1.2 KiB (3.4 KiB/s) with ~16 file(s) remaining (calculating...)#015download: s3://sagemaker-us-east-1-905418336534/myvideotrainingdataset/.cache/huggingface/download/validation.jsonl.lock to .cache/huggingface/download/validation.jsonl.lock\u001b[0m\n",
      "\u001b[34mCompleted 504 Bytes/~1.4 KiB (3.4 KiB/s) with ~18 file(s) remaining (calculating...)#015Completed 604 Bytes/~1.4 KiB (3.5 KiB/s) with ~19 file(s) remaining (calculating...)#015download: s3://sagemaker-us-east-1-905418336534/myvideotrainingdataset/.cache/huggingface/download/test.jsonl.metadata to .cache/huggingface/download/test.jsonl.metadata\u001b[0m\n",
      "\u001b[34mCompleted 604 Bytes/~1.4 KiB (3.5 KiB/s) with ~18 file(s) remaining (calculating...)#015download: s3://sagemaker-us-east-1-905418336534/myvideotrainingdataset/.cache/huggingface/download/vanilla-qwen2-vl-2b-instruct-response.jsonl.metadata to .cache/huggingface/download/vanilla-qwen2-vl-2b-instruct-response.jsonl.metadata\u001b[0m\n",
      "\u001b[34mCompleted 604 Bytes/~1.4 KiB (3.5 KiB/s) with ~17 file(s) remaining (calculating...)#015download: s3://sagemaker-us-east-1-905418336534/myvideotrainingdataset/.cache/huggingface/download/videos/07LG5.mp4.lock to .cache/huggingface/download/videos/07LG5.mp4.lock\u001b[0m\n",
      "\u001b[34mCompleted 604 Bytes/~1.4 KiB (3.5 KiB/s) with ~16 file(s) remaining (calculating...)#015Completed 729 Bytes/~1.6 KiB (3.9 KiB/s) with ~17 file(s) remaining (calculating...)#015Completed 854 Bytes/~1.7 KiB (4.3 KiB/s) with ~19 file(s) remaining (calculating...)#015download: s3://sagemaker-us-east-1-905418336534/myvideotrainingdataset/.cache/huggingface/download/train.jsonl.lock to .cache/huggingface/download/train.jsonl.lock\u001b[0m\n",
      "\u001b[34mCompleted 854 Bytes/~1.7 KiB (4.3 KiB/s) with ~18 file(s) remaining (calculating...)#015download: s3://sagemaker-us-east-1-905418336534/myvideotrainingdataset/.cache/huggingface/download/videos/10576728026.mp4.lock to .cache/huggingface/download/videos/10576728026.mp4.lock\u001b[0m\n",
      "\u001b[34mCompleted 854 Bytes/~1.7 KiB (4.3 KiB/s) with ~18 file(s) remaining (calculating...)#015Completed 978 Bytes/~1.8 KiB (4.7 KiB/s) with ~19 file(s) remaining (calculating...)#015Completed 1.1 KiB/~1.8 KiB (5.3 KiB/s) with ~19 file(s) remaining (calculating...)  #015download: s3://sagemaker-us-east-1-905418336534/myvideotrainingdataset/.cache/huggingface/download/videos/1ECM2.mp4.lock to .cache/huggingface/download/videos/1ECM2.mp4.lock\u001b[0m\n",
      "\u001b[34mCompleted 1.1 KiB/~1.8 KiB (5.3 KiB/s) with ~18 file(s) remaining (calculating...)#015download: s3://sagemaker-us-east-1-905418336534/myvideotrainingdataset/.cache/huggingface/download/videos/07LG5.mp4.metadata to .cache/huggingface/download/videos/07LG5.mp4.metadata\u001b[0m\n",
      "\u001b[34mCompleted 1.1 KiB/~1.8 KiB (5.3 KiB/s) with ~17 file(s) remaining (calculating...)#015download: s3://sagemaker-us-east-1-905418336534/myvideotrainingdataset/.cache/huggingface/download/train.jsonl.metadata to .cache/huggingface/download/train.jsonl.metadata\u001b[0m\n",
      "\u001b[34mCompleted 1.1 KiB/~1.8 KiB (5.3 KiB/s) with ~16 file(s) remaining (calculating...)#015download: s3://sagemaker-us-east-1-905418336534/myvideotrainingdataset/.cache/huggingface/download/videos/03M0K.mp4.lock to .cache/huggingface/download/videos/03M0K.mp4.lock\u001b[0m\n",
      "\u001b[34mCompleted 1.1 KiB/~1.8 KiB (5.3 KiB/s) with ~15 file(s) remaining (calculating...)#015download: s3://sagemaker-us-east-1-905418336534/myvideotrainingdataset/.cache/huggingface/download/videos/11106167914.mp4.lock to .cache/huggingface/download/videos/11106167914.mp4.lock\u001b[0m\n",
      "\u001b[34mCompleted 1.1 KiB/~1.8 KiB (5.3 KiB/s) with ~15 file(s) remaining (calculating...)#015Completed 1.2 KiB/~1.8 KiB (4.9 KiB/s) with ~15 file(s) remaining (calculating...)#015download: s3://sagemaker-us-east-1-905418336534/myvideotrainingdataset/.cache/huggingface/download/videos/11106167914.mp4.metadata to .cache/huggingface/download/videos/11106167914.mp4.metadata\u001b[0m\n",
      "\u001b[34mCompleted 1.2 KiB/~1.8 KiB (4.9 KiB/s) with ~14 file(s) remaining (calculating...)#015Completed 1.3 KiB/~1.9 KiB (5.2 KiB/s) with ~15 file(s) remaining (calculating...)#015download: s3://sagemaker-us-east-1-905418336534/myvideotrainingdataset/.cache/huggingface/download/videos/1KKYX.mp4.lock to .cache/huggingface/download/videos/1KKYX.mp4.lock\u001b[0m\n",
      "\u001b[34mCompleted 1.3 KiB/~1.9 KiB (5.2 KiB/s) with ~14 file(s) remaining (calculating...)#015Completed 1.4 KiB/~1.9 KiB (5.6 KiB/s) with ~14 file(s) remaining (calculating...)#015download: s3://sagemaker-us-east-1-905418336534/myvideotrainingdataset/.cache/huggingface/download/videos/1KKYX.mp4.metadata to .cache/huggingface/download/videos/1KKYX.mp4.metadata\u001b[0m\n",
      "\u001b[34mCompleted 1.4 KiB/~1.9 KiB (5.6 KiB/s) with ~14 file(s) remaining (calculating...)#015download: s3://sagemaker-us-east-1-905418336534/myvideotrainingdataset/.cache/huggingface/download/videos/03M0K.mp4.metadata to .cache/huggingface/download/videos/03M0K.mp4.metadata\u001b[0m\n",
      "\u001b[34mCompleted 1.4 KiB/~1.9 KiB (5.6 KiB/s) with ~13 file(s) remaining (calculating...)#015Completed 1.6 KiB/~2.1 KiB (6.0 KiB/s) with ~14 file(s) remaining (calculating...)#015download: s3://sagemaker-us-east-1-905418336534/myvideotrainingdataset/.cache/huggingface/download/videos/10576728026.mp4.metadata to .cache/huggingface/download/videos/10576728026.mp4.metadata\u001b[0m\n",
      "\u001b[34mCompleted 1.6 KiB/~2.1 KiB (6.0 KiB/s) with ~13 file(s) remaining (calculating...)#015download: s3://sagemaker-us-east-1-905418336534/myvideotrainingdataset/.cache/huggingface/download/videos/2400900222.mp4.lock to .cache/huggingface/download/videos/2400900222.mp4.lock\u001b[0m\n",
      "\u001b[34mCompleted 1.6 KiB/~2.1 KiB (6.0 KiB/s) with ~12 file(s) remaining (calculating...)#015download: s3://sagemaker-us-east-1-905418336534/myvideotrainingdataset/.cache/huggingface/download/videos/1ECM2.mp4.metadata to .cache/huggingface/download/videos/1ECM2.mp4.metadata\u001b[0m\n",
      "\u001b[34mCompleted 1.6 KiB/~2.1 KiB (6.0 KiB/s) with ~11 file(s) remaining (calculating...)#015download: s3://sagemaker-us-east-1-905418336534/myvideotrainingdataset/.cache/huggingface/download/videos/2400900222.mp4.metadata to .cache/huggingface/download/videos/2400900222.mp4.metadata\u001b[0m\n",
      "\u001b[34mCompleted 1.6 KiB/~2.1 KiB (6.0 KiB/s) with ~11 file(s) remaining (calculating...)#015download: s3://sagemaker-us-east-1-905418336534/myvideotrainingdataset/.cache/huggingface/download/videos/1YC83.mp4.lock to .cache/huggingface/download/videos/1YC83.mp4.lock\u001b[0m\n",
      "\u001b[34mCompleted 1.6 KiB/~2.1 KiB (6.0 KiB/s) with ~10 file(s) remaining (calculating...)#015download: s3://sagemaker-us-east-1-905418336534/myvideotrainingdataset/.cache/huggingface/download/videos/2403134475.mp4.lock to .cache/huggingface/download/videos/2403134475.mp4.lock\u001b[0m\n",
      "\u001b[34mCompleted 1.6 KiB/~2.2 KiB (6.0 KiB/s) with ~11 file(s) remaining (calculating...)#015Completed 1.7 KiB/~2.3 KiB (5.4 KiB/s) with ~13 file(s) remaining (calculating...)#015download: s3://sagemaker-us-east-1-905418336534/myvideotrainingdataset/.cache/huggingface/download/videos/2403134475.mp4.metadata to .cache/huggingface/download/videos/2403134475.mp4.metadata\u001b[0m\n",
      "\u001b[34mCompleted 1.7 KiB/~2.3 KiB (5.4 KiB/s) with ~12 file(s) remaining (calculating...)#015download: s3://sagemaker-us-east-1-905418336534/myvideotrainingdataset/.cache/huggingface/download/videos/2IX2Z.mp4.lock to .cache/huggingface/download/videos/2IX2Z.mp4.lock\u001b[0m\n",
      "\u001b[34mCompleted 1.7 KiB/~2.4 KiB (5.4 KiB/s) with ~12 file(s) remaining (calculating...)#015Completed 1.8 KiB/~2.4 KiB (5.6 KiB/s) with ~13 file(s) remaining (calculating...)#015download: s3://sagemaker-us-east-1-905418336534/myvideotrainingdataset/.cache/huggingface/download/videos/2632387219.mp4.lock to .cache/huggingface/download/videos/2632387219.mp4.lock\u001b[0m\n",
      "\u001b[34mCompleted 1.8 KiB/~2.5 KiB (5.6 KiB/s) with ~14 file(s) remaining (calculating...)#015download: s3://sagemaker-us-east-1-905418336534/myvideotrainingdataset/.cache/huggingface/download/videos/2PREF.mp4.lock to .cache/huggingface/download/videos/2PREF.mp4.lock\u001b[0m\n",
      "\u001b[34mCompleted 1.8 KiB/~2.5 KiB (5.6 KiB/s) with ~13 file(s) remaining (calculating...)#015download: s3://sagemaker-us-east-1-905418336534/myvideotrainingdataset/.cache/huggingface/download/videos/2IX2Z.mp4.metadata to .cache/huggingface/download/videos/2IX2Z.mp4.metadata\u001b[0m\n",
      "\u001b[34mCompleted 1.8 KiB/~2.7 KiB (5.6 KiB/s) with ~13 file(s) remaining (calculating...)#015Completed 1.9 KiB/~2.7 KiB (5.3 KiB/s) with ~13 file(s) remaining (calculating...)#015Completed 2.1 KiB/~2.7 KiB (5.5 KiB/s) with ~13 file(s) remaining (calculating...)#015Completed 2.2 KiB/~2.7 KiB (5.8 KiB/s) with ~13 file(s) remaining (calculating...)#015download: s3://sagemaker-us-east-1-905418336534/myvideotrainingdataset/.cache/huggingface/download/videos/3564576864.mp4.lock to .cache/huggingface/download/videos/3564576864.mp4.lock\u001b[0m\n",
      "\u001b[34mCompleted 2.2 KiB/~2.7 KiB (5.8 KiB/s) with ~13 file(s) remaining (calculating...)#015Completed 2.3 KiB/~2.8 KiB (5.9 KiB/s) with ~15 file(s) remaining (calculating...)#015Completed 2.4 KiB/~2.9 KiB (6.0 KiB/s) with ~17 file(s) remaining (calculating...)#015download: s3://sagemaker-us-east-1-905418336534/myvideotrainingdataset/.cache/huggingface/download/videos/2PREF.mp4.metadata to .cache/huggingface/download/videos/2PREF.mp4.metadata\u001b[0m\n",
      "\u001b[34mCompleted 2.4 KiB/~3.0 KiB (6.0 KiB/s) with ~17 file(s) remaining (calculating...)#015download: s3://sagemaker-us-east-1-905418336534/myvideotrainingdataset/.cache/huggingface/download/videos/2QI8F.mp4.metadata to .cache/huggingface/download/videos/2QI8F.mp4.metadata\u001b[0m\n",
      "\u001b[34mCompleted 2.4 KiB/~3.1 KiB (6.0 KiB/s) with ~18 file(s) remaining (calculating...)#015download: s3://sagemaker-us-east-1-905418336534/myvideotrainingdataset/.cache/huggingface/download/videos/3643922241.mp4.metadata to .cache/huggingface/download/videos/3643922241.mp4.metadata\u001b[0m\n",
      "\u001b[34mCompleted 2.4 KiB/~3.1 KiB (6.0 KiB/s) with ~17 file(s) remaining (calculating...)#015download: s3://sagemaker-us-east-1-905418336534/myvideotrainingdataset/.cache/huggingface/download/videos/2QI8F.mp4.lock to .cache/huggingface/download/videos/2QI8F.mp4.lock\u001b[0m\n",
      "\u001b[34mCompleted 2.4 KiB/~3.1 KiB (6.0 KiB/s) with ~16 file(s) remaining (calculating...)#015download: s3://sagemaker-us-east-1-905418336534/myvideotrainingdataset/.cache/huggingface/download/videos/1YC83.mp4.metadata to .cache/huggingface/download/videos/1YC83.mp4.metadata\u001b[0m\n",
      "\u001b[34mCompleted 2.4 KiB/~3.1 KiB (6.0 KiB/s) with ~15 file(s) remaining (calculating...)#015download: s3://sagemaker-us-east-1-905418336534/myvideotrainingdataset/.cache/huggingface/download/videos/3564576864.mp4.metadata to .cache/huggingface/download/videos/3564576864.mp4.metadata\u001b[0m\n",
      "\u001b[34mCompleted 2.4 KiB/~3.1 KiB (6.0 KiB/s) with ~15 file(s) remaining (calculating...)#015download: s3://sagemaker-us-east-1-905418336534/myvideotrainingdataset/.cache/huggingface/download/videos/4255049031.mp4.lock to .cache/huggingface/download/videos/4255049031.mp4.lock\u001b[0m\n",
      "\u001b[34mCompleted 2.4 KiB/~3.3 KiB (6.0 KiB/s) with ~15 file(s) remaining (calculating...)#015download: s3://sagemaker-us-east-1-905418336534/myvideotrainingdataset/.cache/huggingface/download/videos/2632387219.mp4.metadata to .cache/huggingface/download/videos/2632387219.mp4.metadata\u001b[0m\n",
      "\u001b[34mCompleted 2.4 KiB/~3.3 KiB (6.0 KiB/s) with ~14 file(s) remaining (calculating...)#015download: s3://sagemaker-us-east-1-905418336534/myvideotrainingdataset/.cache/huggingface/download/videos/3643922241.mp4.lock to .cache/huggingface/download/videos/3643922241.mp4.lock\u001b[0m\n",
      "\u001b[34mCompleted 2.4 KiB/~3.4 KiB (6.0 KiB/s) with ~15 file(s) remaining (calculating...)#015Completed 2.5 KiB/~3.4 KiB (5.5 KiB/s) with ~15 file(s) remaining (calculating...)#015Completed 2.7 KiB/~3.4 KiB (5.5 KiB/s) with ~16 file(s) remaining (calculating...)#015download: s3://sagemaker-us-east-1-905418336534/myvideotrainingdataset/.cache/huggingface/download/videos/4004287747.mp4.lock to .cache/huggingface/download/videos/4004287747.mp4.lock\u001b[0m\n",
      "\u001b[34mCompleted 2.7 KiB/~3.4 KiB (5.5 KiB/s) with ~15 file(s) remaining (calculating...)#015download: s3://sagemaker-us-east-1-905418336534/myvideotrainingdataset/.cache/huggingface/download/videos/4329580374.mp4.lock to .cache/huggingface/download/videos/4329580374.mp4.lock\u001b[0m\n",
      "\u001b[34mCompleted 2.7 KiB/~3.4 KiB (5.5 KiB/s) with ~14 file(s) remaining (calculating...)#015download: s3://sagemaker-us-east-1-905418336534/myvideotrainingdataset/.cache/huggingface/download/videos/4360431067.mp4.lock to .cache/huggingface/download/videos/4360431067.mp4.lock\u001b[0m\n",
      "\u001b[34mCompleted 2.7 KiB/~3.4 KiB (5.5 KiB/s) with ~13 file(s) remaining (calculating...)#015Completed 2.8 KiB/~3.4 KiB (5.6 KiB/s) with ~13 file(s) remaining (calculating...)#015Completed 2.9 KiB/~3.5 KiB (5.8 KiB/s) with ~15 file(s) remaining (calculating...)#015download: s3://sagemaker-us-east-1-905418336534/myvideotrainingdataset/.cache/huggingface/download/videos/42SEP.mp4.lock to .cache/huggingface/download/videos/42SEP.mp4.lock\u001b[0m\n",
      "\u001b[34mCompleted 2.9 KiB/~3.6 KiB (5.8 KiB/s) with ~16 file(s) remaining (calculating...)#015download: s3://sagemaker-us-east-1-905418336534/myvideotrainingdataset/.cache/huggingface/download/videos/4004287747.mp4.metadata to .cache/huggingface/download/videos/4004287747.mp4.metadata\u001b[0m\n",
      "\u001b[34mCompleted 2.9 KiB/~3.6 KiB (5.8 KiB/s) with ~15 file(s) remaining (calculating...)#015Completed 3.0 KiB/~3.6 KiB (5.9 KiB/s) with ~15 file(s) remaining (calculating...)#015download: s3://sagemaker-us-east-1-905418336534/myvideotrainingdataset/.cache/huggingface/download/videos/4DZB6.mp4.lock to .cache/huggingface/download/videos/4DZB6.mp4.lock\u001b[0m\n",
      "\u001b[34mCompleted 3.0 KiB/~3.6 KiB (5.9 KiB/s) with ~14 file(s) remaining (calculating...)#015Completed 3.1 KiB/~3.8 KiB (6.0 KiB/s) with ~15 file(s) remaining (calculating...)#015download: s3://sagemaker-us-east-1-905418336534/myvideotrainingdataset/.cache/huggingface/download/videos/4360431067.mp4.metadata to .cache/huggingface/download/videos/4360431067.mp4.metadata\u001b[0m\n",
      "\u001b[34mCompleted 3.1 KiB/~3.8 KiB (6.0 KiB/s) with ~14 file(s) remaining (calculating...)#015Completed 3.3 KiB/~3.8 KiB (6.2 KiB/s) with ~14 file(s) remaining (calculating...)#015download: s3://sagemaker-us-east-1-905418336534/myvideotrainingdataset/.cache/huggingface/download/videos/4931493992.mp4.lock to .cache/huggingface/download/videos/4931493992.mp4.lock\u001b[0m\n",
      "\u001b[34mCompleted 3.3 KiB/~3.8 KiB (6.2 KiB/s) with ~13 file(s) remaining (calculating...)#015download: s3://sagemaker-us-east-1-905418336534/myvideotrainingdataset/.cache/huggingface/download/videos/4255049031.mp4.metadata to .cache/huggingface/download/videos/4255049031.mp4.metadata\u001b[0m\n",
      "\u001b[34mCompleted 3.3 KiB/~3.8 KiB (6.2 KiB/s) with ~12 file(s) remaining (calculating...)#015download: s3://sagemaker-us-east-1-905418336534/myvideotrainingdataset/.cache/huggingface/download/videos/42SEP.mp4.metadata to .cache/huggingface/download/videos/42SEP.mp4.metadata\u001b[0m\n",
      "\u001b[34mCompleted 3.3 KiB/~3.9 KiB (6.2 KiB/s) with ~13 file(s) remaining (calculating...)#015download: s3://sagemaker-us-east-1-905418336534/myvideotrainingdataset/.cache/huggingface/download/videos/5235909148.mp4.lock to .cache/huggingface/download/videos/5235909148.mp4.lock\u001b[0m\n",
      "\u001b[34mCompleted 3.3 KiB/~3.9 KiB (6.2 KiB/s) with ~13 file(s) remaining (calculating...)#015Completed 3.4 KiB/~3.9 KiB (6.1 KiB/s) with ~13 file(s) remaining (calculating...)#015download: s3://sagemaker-us-east-1-905418336534/myvideotrainingdataset/.cache/huggingface/download/videos/4DZB6.mp4.metadata to .cache/huggingface/download/videos/4DZB6.mp4.metadata\u001b[0m\n",
      "\u001b[34mCompleted 3.4 KiB/~3.9 KiB (6.1 KiB/s) with ~12 file(s) remaining (calculating...)#015download: s3://sagemaker-us-east-1-905418336534/myvideotrainingdataset/.cache/huggingface/download/videos/5235909148.mp4.metadata to .cache/huggingface/download/videos/5235909148.mp4.metadata\u001b[0m\n",
      "\u001b[34mCompleted 3.4 KiB/~4.1 KiB (6.1 KiB/s) with ~14 file(s) remaining (calculating...)#015download: s3://sagemaker-us-east-1-905418336534/myvideotrainingdataset/.cache/huggingface/download/videos/4931493992.mp4.metadata to .cache/huggingface/download/videos/4931493992.mp4.metadata\u001b[0m\n",
      "\u001b[34mCompleted 3.4 KiB/~4.1 KiB (6.1 KiB/s) with ~13 file(s) remaining (calculating...)#015download: s3://sagemaker-us-east-1-905418336534/myvideotrainingdataset/.cache/huggingface/download/videos/5987365500.mp4.lock to .cache/huggingface/download/videos/5987365500.mp4.lock\u001b[0m\n",
      "\u001b[34mCompleted 3.4 KiB/~4.1 KiB (6.1 KiB/s) with ~12 file(s) remaining (calculating...)#015download: s3://sagemaker-us-east-1-905418336534/myvideotrainingdataset/.cache/huggingface/download/videos/4329580374.mp4.metadata to .cache/huggingface/download/videos/4329580374.mp4.metadata\u001b[0m\n",
      "\u001b[34mCompleted 3.4 KiB/~4.2 KiB (6.1 KiB/s) with ~13 file(s) remaining (calculating...)#015Completed 3.5 KiB/~4.2 KiB (5.8 KiB/s) with ~13 file(s) remaining (calculating...)#015Completed 3.6 KiB/~4.2 KiB (6.0 KiB/s) with ~13 file(s) remaining (calculating...)#015Completed 3.8 KiB/~4.2 KiB (6.2 KiB/s) with ~13 file(s) remaining (calculating...)#015Completed 3.9 KiB/~4.2 KiB (6.3 KiB/s) with ~13 file(s) remaining (calculating...)#015download: s3://sagemaker-us-east-1-905418336534/myvideotrainingdataset/.cache/huggingface/download/videos/6913450810.mp4.lock to .cache/huggingface/download/videos/6913450810.mp4.lock\u001b[0m\n",
      "\u001b[34mCompleted 3.9 KiB/~4.2 KiB (6.3 KiB/s) with ~13 file(s) remaining (calculating...)#015download: s3://sagemaker-us-east-1-905418336534/myvideotrainingdataset/.cache/huggingface/download/videos/6LGTT.mp4.lock to .cache/huggingface/download/videos/6LGTT.mp4.lock\u001b[0m\n",
      "\u001b[34mCompleted 3.9 KiB/~4.2 KiB (6.3 KiB/s) with ~12 file(s) remaining (calculating...)#015download: s3://sagemaker-us-east-1-905418336534/myvideotrainingdataset/.cache/huggingface/download/videos/6TVXT.mp4.metadata to .cache/huggingface/download/videos/6TVXT.mp4.metadata\u001b[0m\n",
      "\u001b[34mCompleted 3.9 KiB/~4.4 KiB (6.3 KiB/s) with ~12 file(s) remaining (calculating...)#015Completed 4.0 KiB/~4.4 KiB (6.2 KiB/s) with ~13 file(s) remaining (calculating...)#015download: s3://sagemaker-us-east-1-905418336534/myvideotrainingdataset/.cache/huggingface/download/videos/6TVXT.mp4.lock to .cache/huggingface/download/videos/6TVXT.mp4.lock\u001b[0m\n",
      "\u001b[34mCompleted 4.0 KiB/~4.4 KiB (6.2 KiB/s) with ~12 file(s) remaining (calculating...)#015download: s3://sagemaker-us-east-1-905418336534/myvideotrainingdataset/.cache/huggingface/download/videos/6LGTT.mp4.metadata to .cache/huggingface/download/videos/6LGTT.mp4.metadata\u001b[0m\n",
      "\u001b[34mCompleted 4.0 KiB/~4.5 KiB (6.2 KiB/s) with ~13 file(s) remaining (calculating...)#015download: s3://sagemaker-us-east-1-905418336534/myvideotrainingdataset/.cache/huggingface/download/videos/7004267908.mp4.lock to .cache/huggingface/download/videos/7004267908.mp4.lock\u001b[0m\n",
      "\u001b[34mCompleted 4.0 KiB/~4.5 KiB (6.2 KiB/s) with ~12 file(s) remaining (calculating...)#015download: s3://sagemaker-us-east-1-905418336534/myvideotrainingdataset/.cache/huggingface/download/videos/6913450810.mp4.metadata to .cache/huggingface/download/videos/6913450810.mp4.metadata\u001b[0m\n",
      "\u001b[34mCompleted 4.0 KiB/~4.5 KiB (6.2 KiB/s) with ~11 file(s) remaining (calculating...)#015Completed 4.1 KiB/~4.5 KiB (6.2 KiB/s) with ~11 file(s) remaining (calculating...)#015Completed 4.2 KiB/~4.5 KiB (6.3 KiB/s) with ~11 file(s) remaining (calculating...)#015download: s3://sagemaker-us-east-1-905418336534/myvideotrainingdataset/.cache/huggingface/download/videos/8Y7P5.mp4.metadata to .cache/huggingface/download/videos/8Y7P5.mp4.metadata\u001b[0m\n",
      "\u001b[34mCompleted 4.2 KiB/~4.6 KiB (6.3 KiB/s) with ~11 file(s) remaining (calculating...)#015download: s3://sagemaker-us-east-1-905418336534/myvideotrainingdataset/.cache/huggingface/download/videos/5987365500.mp4.metadata to .cache/huggingface/download/videos/5987365500.mp4.metadata\u001b[0m\n",
      "\u001b[34mCompleted 4.2 KiB/~4.6 KiB (6.3 KiB/s) with ~11 file(s) remaining (calculating...)#015download: s3://sagemaker-us-east-1-905418336534/myvideotrainingdataset/.cache/huggingface/download/videos/7004267908.mp4.metadata to .cache/huggingface/download/videos/7004267908.mp4.metadata\u001b[0m\n",
      "\u001b[34mCompleted 4.2 KiB/~4.6 KiB (6.3 KiB/s) with ~10 file(s) remaining (calculating...)#015download: s3://sagemaker-us-east-1-905418336534/myvideotrainingdataset/.cache/huggingface/download/videos/7748596700.mp4.lock to .cache/huggingface/download/videos/7748596700.mp4.lock\u001b[0m\n",
      "\u001b[34mCompleted 4.2 KiB/~4.7 KiB (6.3 KiB/s) with ~10 file(s) remaining (calculating...)#015download: s3://sagemaker-us-east-1-905418336534/myvideotrainingdataset/.cache/huggingface/download/videos/8Y7P5.mp4.lock to .cache/huggingface/download/videos/8Y7P5.mp4.lock\u001b[0m\n",
      "\u001b[34mCompleted 4.2 KiB/~4.9 KiB (6.3 KiB/s) with ~11 file(s) remaining (calculating...)#015download: s3://sagemaker-us-east-1-905418336534/myvideotrainingdataset/.cache/huggingface/download/videos/7748596700.mp4.metadata to .cache/huggingface/download/videos/7748596700.mp4.metadata\u001b[0m\n",
      "\u001b[34mCompleted 4.2 KiB/~5.0 KiB (6.3 KiB/s) with ~12 file(s) remaining (calculating...)#015Completed 4.4 KiB/~5.0 KiB (6.1 KiB/s) with ~13 file(s) remaining (calculating...)#015download: s3://sagemaker-us-east-1-905418336534/myvideotrainingdataset/.cache/huggingface/download/videos/9338319433.mp4.lock to .cache/huggingface/download/videos/9338319433.mp4.lock\u001b[0m\n",
      "\u001b[34mCompleted 4.4 KiB/~5.0 KiB (6.1 KiB/s) with ~12 file(s) remaining (calculating...)#015Completed 4.5 KiB/~5.1 KiB (6.0 KiB/s) with ~14 file(s) remaining (calculating...)#015Completed 4.6 KiB/~5.1 KiB (6.1 KiB/s) with ~14 file(s) remaining (calculating...)#015download: s3://sagemaker-us-east-1-905418336534/myvideotrainingdataset/.cache/huggingface/download/videos/AVH53.mp4.lock to .cache/huggingface/download/videos/AVH53.mp4.lock\u001b[0m\n",
      "\u001b[34mCompleted 4.6 KiB/~5.2 KiB (6.1 KiB/s) with ~14 file(s) remaining (calculating...)#015Completed 4.7 KiB/~5.2 KiB (5.8 KiB/s) with ~14 file(s) remaining (calculating...)#015download: s3://sagemaker-us-east-1-905418336534/myvideotrainingdataset/.cache/huggingface/download/videos/9CCDY.mp4.metadata to .cache/huggingface/download/videos/9CCDY.mp4.metadata\u001b[0m\n",
      "\u001b[34mCompleted 4.7 KiB/~5.2 KiB (5.8 KiB/s) with ~13 file(s) remaining (calculating...)#015download: s3://sagemaker-us-east-1-905418336534/myvideotrainingdataset/.cache/huggingface/download/videos/9963900426.mp4.lock to .cache/huggingface/download/videos/9963900426.mp4.lock\u001b[0m\n",
      "\u001b[34mCompleted 4.7 KiB/~5.2 KiB (5.8 KiB/s) with ~12 file(s) remaining (calculating...)#015download: s3://sagemaker-us-east-1-905418336534/myvideotrainingdataset/.cache/huggingface/download/videos/9CCDY.mp4.lock to .cache/huggingface/download/videos/9CCDY.mp4.lock\u001b[0m\n",
      "\u001b[34mCompleted 4.7 KiB/~5.3 KiB (5.8 KiB/s) with ~13 file(s) remaining (calculating...)#015download: s3://sagemaker-us-east-1-905418336534/myvideotrainingdataset/.cache/huggingface/download/videos/9963900426.mp4.metadata to .cache/huggingface/download/videos/9963900426.mp4.metadata\u001b[0m\n",
      "\u001b[34mCompleted 4.7 KiB/~5.3 KiB (5.8 KiB/s) with ~12 file(s) remaining (calculating...)#015Completed 4.9 KiB/~5.3 KiB (5.8 KiB/s) with ~12 file(s) remaining (calculating...)#015download: s3://sagemaker-us-east-1-905418336534/myvideotrainingdataset/.cache/huggingface/download/videos/ARKBT.mp4.lock to .cache/huggingface/download/videos/ARKBT.mp4.lock\u001b[0m\n",
      "\u001b[34mCompleted 4.9 KiB/~5.3 KiB (5.8 KiB/s) with ~12 file(s) remaining (calculating...)#015Completed 5.0 KiB/~5.5 KiB (5.8 KiB/s) with ~13 file(s) remaining (calculating...)#015Completed 5.1 KiB/~5.5 KiB (6.0 KiB/s) with ~14 file(s) remaining (calculating...)#015download: s3://sagemaker-us-east-1-905418336534/myvideotrainingdataset/.cache/huggingface/download/videos/9338319433.mp4.metadata to .cache/huggingface/download/videos/9338319433.mp4.metadata\u001b[0m\n",
      "\u001b[34mCompleted 5.1 KiB/~5.5 KiB (6.0 KiB/s) with ~13 file(s) remaining (calculating...)#015download: s3://sagemaker-us-east-1-905418336534/myvideotrainingdataset/.cache/huggingface/download/videos/AVH53.mp4.metadata to .cache/huggingface/download/videos/AVH53.mp4.metadata\u001b[0m\n",
      "\u001b[34mCompleted 5.1 KiB/~5.6 KiB (6.0 KiB/s) with ~13 file(s) remaining (calculating...)#015download: s3://sagemaker-us-east-1-905418336534/myvideotrainingdataset/.cache/huggingface/download/videos/B7SZJ.mp4.metadata to .cache/huggingface/download/videos/B7SZJ.mp4.metadata\u001b[0m\n",
      "\u001b[34mCompleted 5.1 KiB/~5.6 KiB (6.0 KiB/s) with ~12 file(s) remaining (calculating...)#015download: s3://sagemaker-us-east-1-905418336534/myvideotrainingdataset/.cache/huggingface/download/videos/ARKBT.mp4.metadata to .cache/huggingface/download/videos/ARKBT.mp4.metadata\u001b[0m\n",
      "\u001b[34mCompleted 5.1 KiB/~5.6 KiB (6.0 KiB/s) with ~11 file(s) remaining (calculating...)#015download: s3://sagemaker-us-east-1-905418336534/myvideotrainingdataset/.cache/huggingface/download/videos/B2NAS.mp4.metadata to .cache/huggingface/download/videos/B2NAS.mp4.metadata\u001b[0m\n",
      "\u001b[34mCompleted 5.1 KiB/~5.6 KiB (6.0 KiB/s) with ~10 file(s) remaining (calculating...)#015download: s3://sagemaker-us-east-1-905418336534/myvideotrainingdataset/.cache/huggingface/download/videos/B2NAS.mp4.lock to .cache/huggingface/download/videos/B2NAS.mp4.lock\u001b[0m\n",
      "\u001b[34mCompleted 5.1 KiB/~5.6 KiB (6.0 KiB/s) with ~10 file(s) remaining (calculating...)#015Completed 5.2 KiB/~5.7 KiB (6.0 KiB/s) with ~12 file(s) remaining (calculating...)#015download: s3://sagemaker-us-east-1-905418336534/myvideotrainingdataset/.cache/huggingface/download/videos/BIV8M.mp4.lock to .cache/huggingface/download/videos/BIV8M.mp4.lock\u001b[0m\n",
      "\u001b[34mCompleted 5.2 KiB/~6.0 KiB (6.0 KiB/s) with ~15 file(s) remaining (calculating...)#015Completed 5.3 KiB/~6.2 KiB (6.1 KiB/s) with ~19 file(s) remaining (calculating...)#015Completed 5.5 KiB/~6.2 KiB (6.2 KiB/s) with ~19 file(s) remaining (calculating...)#015download: s3://sagemaker-us-east-1-905418336534/myvideotrainingdataset/.cache/huggingface/download/videos/BIV8M.mp4.metadata to .cache/huggingface/download/videos/BIV8M.mp4.metadata\u001b[0m\n",
      "\u001b[34mCompleted 5.5 KiB/~6.2 KiB (6.2 KiB/s) with ~18 file(s) remaining (calculating...)#015download: s3://sagemaker-us-east-1-905418336534/myvideotrainingdataset/.cache/huggingface/download/videos/DFEG2.mp4.metadata to .cache/huggingface/download/videos/DFEG2.mp4.metadata\u001b[0m\n",
      "\u001b[34mCompleted 5.5 KiB/~6.3 KiB (6.2 KiB/s) with ~18 file(s) remaining (calculating...)#015download: s3://sagemaker-us-east-1-905418336534/myvideotrainingdataset/.cache/huggingface/download/videos/B7SZJ.mp4.lock to .cache/huggingface/download/videos/B7SZJ.mp4.lock\u001b[0m\n",
      "\u001b[34mCompleted 5.5 KiB/~6.4 KiB (6.2 KiB/s) with ~19 file(s) remaining (calculating...)#015Completed 5.6 KiB/~6.4 KiB (6.3 KiB/s) with ~20 file(s) remaining (calculating...)#015download: s3://sagemaker-us-east-1-905418336534/myvideotrainingdataset/.cache/huggingface/download/videos/CX5ZM.mp4.metadata to .cache/huggingface/download/videos/CX5ZM.mp4.metadata\u001b[0m\n",
      "\u001b[34mCompleted 5.6 KiB/~6.4 KiB (6.3 KiB/s) with ~19 file(s) remaining (calculating...)#015Completed 5.7 KiB/~6.4 KiB (6.4 KiB/s) with ~19 file(s) remaining (calculating...)#015download: s3://sagemaker-us-east-1-905418336534/myvideotrainingdataset/.cache/huggingface/download/videos/CX5ZM.mp4.lock to .cache/huggingface/download/videos/CX5ZM.mp4.lock\u001b[0m\n",
      "\u001b[34mCompleted 5.7 KiB/~6.6 KiB (6.4 KiB/s) with ~19 file(s) remaining (calculating...)#015download: s3://sagemaker-us-east-1-905418336534/myvideotrainingdataset/.cache/huggingface/download/videos/DVPL2.mp4.lock to .cache/huggingface/download/videos/DVPL2.mp4.lock\u001b[0m\n",
      "\u001b[34mCompleted 5.7 KiB/~6.6 KiB (6.4 KiB/s) with ~18 file(s) remaining (calculating...)#015Completed 5.8 KiB/~6.7 KiB (6.5 KiB/s) with ~20 file(s) remaining (calculating...)#015download: s3://sagemaker-us-east-1-905418336534/myvideotrainingdataset/.cache/huggingface/download/videos/DVPL2.mp4.metadata to .cache/huggingface/download/videos/DVPL2.mp4.metadata\u001b[0m\n",
      "\u001b[34mCompleted 5.8 KiB/~6.7 KiB (6.5 KiB/s) with ~19 file(s) remaining (calculating...)#015download: s3://sagemaker-us-east-1-905418336534/myvideotrainingdataset/.cache/huggingface/download/videos/DFEG2.mp4.lock to .cache/huggingface/download/videos/DFEG2.mp4.lock\u001b[0m\n",
      "\u001b[34mCompleted 5.8 KiB/~6.7 KiB (6.5 KiB/s) with ~18 file(s) remaining (calculating...)#015download: s3://sagemaker-us-east-1-905418336534/myvideotrainingdataset/.cache/huggingface/download/videos/DXVRB.mp4.lock to .cache/huggingface/download/videos/DXVRB.mp4.lock\u001b[0m\n",
      "\u001b[34mCompleted 5.8 KiB/~6.7 KiB (6.5 KiB/s) with ~17 file(s) remaining (calculating...)#015Completed 6.0 KiB/~6.7 KiB (6.5 KiB/s) with ~18 file(s) remaining (calculating...)#015download: s3://sagemaker-us-east-1-905418336534/myvideotrainingdataset/.cache/huggingface/download/videos/ES10S.mp4.lock to .cache/huggingface/download/videos/ES10S.mp4.lock\u001b[0m\n",
      "\u001b[34mCompleted 6.0 KiB/~6.8 KiB (6.5 KiB/s) with ~18 file(s) remaining (calculating...)#015Completed 6.1 KiB/~6.9 KiB (6.6 KiB/s) with ~20 file(s) remaining (calculating...)#015download: s3://sagemaker-us-east-1-905418336534/myvideotrainingdataset/.cache/huggingface/download/videos/DXVRB.mp4.metadata to .cache/huggingface/download/videos/DXVRB.mp4.metadata\u001b[0m\n",
      "\u001b[34mCompleted 6.1 KiB/~6.9 KiB (6.6 KiB/s) with ~19 file(s) remaining (calculating...)#015download: s3://sagemaker-us-east-1-905418336534/myvideotrainingdataset/.cache/huggingface/download/videos/H4ZD8.mp4.metadata to .cache/huggingface/download/videos/H4ZD8.mp4.metadata\u001b[0m\n",
      "\u001b[34mCompleted 6.1 KiB/~6.9 KiB (6.6 KiB/s) with ~19 file(s) remaining (calculating...)#015download: s3://sagemaker-us-east-1-905418336534/myvideotrainingdataset/.cache/huggingface/download/videos/ES10S.mp4.metadata to .cache/huggingface/download/videos/ES10S.mp4.metadata\u001b[0m\n",
      "\u001b[34mCompleted 6.1 KiB/~7.0 KiB (6.6 KiB/s) with ~20 file(s) remaining (calculating...)#015download: s3://sagemaker-us-east-1-905418336534/myvideotrainingdataset/.cache/huggingface/download/videos/FYHTC.mp4.metadata to .cache/huggingface/download/videos/FYHTC.mp4.metadata\u001b[0m\n",
      "\u001b[34mCompleted 6.1 KiB/~7.0 KiB (6.6 KiB/s) with ~19 file(s) remaining (calculating...)#015download: s3://sagemaker-us-east-1-905418336534/myvideotrainingdataset/.cache/huggingface/download/videos/HP3HV.mp4.lock to .cache/huggingface/download/videos/HP3HV.mp4.lock\u001b[0m\n",
      "\u001b[34mCompleted 6.1 KiB/~7.0 KiB (6.6 KiB/s) with ~18 file(s) remaining (calculating...)#015Completed 6.2 KiB/~7.2 KiB (6.7 KiB/s) with ~19 file(s) remaining (calculating...)#015Completed 6.3 KiB/~7.2 KiB (6.8 KiB/s) with ~19 file(s) remaining (calculating...)#015download: s3://sagemaker-us-east-1-905418336534/myvideotrainingdataset/.cache/huggingface/download/videos/H4ZD8.mp4.lock to .cache/huggingface/download/videos/H4ZD8.mp4.lock\u001b[0m\n",
      "\u001b[34mCompleted 6.3 KiB/~7.2 KiB (6.8 KiB/s) with ~18 file(s) remaining (calculating...)#015download: s3://sagemaker-us-east-1-905418336534/myvideotrainingdataset/.cache/huggingface/download/videos/IRBPD.mp4.lock to .cache/huggingface/download/videos/IRBPD.mp4.lock\u001b[0m\n",
      "\u001b[34mCompleted 6.3 KiB/~7.3 KiB (6.8 KiB/s) with ~19 file(s) remaining (calculating...)#015Completed 6.4 KiB/~7.3 KiB (6.9 KiB/s) with ~20 file(s) remaining (calculating...)#015download: s3://sagemaker-us-east-1-905418336534/myvideotrainingdataset/.cache/huggingface/download/videos/HP3HV.mp4.metadata to .cache/huggingface/download/videos/HP3HV.mp4.metadata\u001b[0m\n",
      "\u001b[34mCompleted 6.4 KiB/~7.4 KiB (6.9 KiB/s) with ~20 file(s) remaining (calculating...)#015download: s3://sagemaker-us-east-1-905418336534/myvideotrainingdataset/.cache/huggingface/download/videos/KVYOZ.mp4.lock to .cache/huggingface/download/videos/KVYOZ.mp4.lock\u001b[0m\n",
      "\u001b[34mCompleted 6.4 KiB/~7.5 KiB (6.9 KiB/s) with ~21 file(s) remaining (calculating...)#015download: s3://sagemaker-us-east-1-905418336534/myvideotrainingdataset/.cache/huggingface/download/videos/FYHTC.mp4.lock to .cache/huggingface/download/videos/FYHTC.mp4.lock\u001b[0m\n",
      "\u001b[34mCompleted 6.4 KiB/~7.5 KiB (6.9 KiB/s) with ~20 file(s) remaining (calculating...)#015download: s3://sagemaker-us-east-1-905418336534/myvideotrainingdataset/.cache/huggingface/download/videos/KEPDQ.mp4.lock to .cache/huggingface/download/videos/KEPDQ.mp4.lock\u001b[0m\n",
      "\u001b[34mCompleted 6.4 KiB/~7.5 KiB (6.9 KiB/s) with ~19 file(s) remaining (calculating...)#015download: s3://sagemaker-us-east-1-905418336534/myvideotrainingdataset/.cache/huggingface/download/videos/IRBPD.mp4.metadata to .cache/huggingface/download/videos/IRBPD.mp4.metadata\u001b[0m\n",
      "\u001b[34mCompleted 6.4 KiB/~7.7 KiB (6.9 KiB/s) with ~21 file(s) remaining (calculating...)#015Completed 6.6 KiB/~7.7 KiB (6.9 KiB/s) with ~21 file(s) remaining (calculating...)#015Completed 6.7 KiB/~7.8 KiB (7.0 KiB/s) with ~22 file(s) remaining (calculating...)#015Completed 6.8 KiB/~7.8 KiB (7.1 KiB/s) with ~22 file(s) remaining (calculating...)#015Completed 6.9 KiB/~7.8 KiB (7.3 KiB/s) with ~23 file(s) remaining (calculating...)#015download: s3://sagemaker-us-east-1-905418336534/myvideotrainingdataset/.cache/huggingface/download/videos/MLS4T.mp4.lock to .cache/huggingface/download/videos/MLS4T.mp4.lock\u001b[0m\n",
      "\u001b[34mCompleted 6.9 KiB/~7.8 KiB (7.3 KiB/s) with ~22 file(s) remaining (calculating...)#015download: s3://sagemaker-us-east-1-905418336534/myvideotrainingdataset/.cache/huggingface/download/videos/KVYOZ.mp4.metadata to .cache/huggingface/download/videos/KVYOZ.mp4.metadata\u001b[0m\n",
      "\u001b[34mCompleted 6.9 KiB/~7.9 KiB (7.3 KiB/s) with ~22 file(s) remaining (calculating...)#015download: s3://sagemaker-us-east-1-905418336534/myvideotrainingdataset/.cache/huggingface/download/videos/KEPDQ.mp4.metadata to .cache/huggingface/download/videos/KEPDQ.mp4.metadata\u001b[0m\n",
      "\u001b[34mCompleted 6.9 KiB/~8.0 KiB (7.3 KiB/s) with ~23 file(s) remaining (calculating...)#015download: s3://sagemaker-us-east-1-905418336534/myvideotrainingdataset/.cache/huggingface/download/videos/MZK2X.mp4.metadata to .cache/huggingface/download/videos/MZK2X.mp4.metadata\u001b[0m\n",
      "\u001b[34mCompleted 6.9 KiB/~8.0 KiB (7.3 KiB/s) with ~23 file(s) remaining (calculating...)#015download: s3://sagemaker-us-east-1-905418336534/myvideotrainingdataset/.cache/huggingface/download/videos/MME0V.mp4.lock to .cache/huggingface/download/videos/MME0V.mp4.lock\u001b[0m\n",
      "\u001b[34mCompleted 6.9 KiB/~8.0 KiB (7.3 KiB/s) with ~22 file(s) remaining (calculating...)#015download: s3://sagemaker-us-east-1-905418336534/myvideotrainingdataset/.cache/huggingface/download/videos/MZK2X.mp4.lock to .cache/huggingface/download/videos/MZK2X.mp4.lock\u001b[0m\n",
      "\u001b[34mCompleted 6.9 KiB/~8.1 KiB (7.3 KiB/s) with ~22 file(s) remaining (calculating...)#015download: s3://sagemaker-us-east-1-905418336534/myvideotrainingdataset/.cache/huggingface/download/videos/NSUHV.mp4.lock to .cache/huggingface/download/videos/NSUHV.mp4.lock\u001b[0m\n",
      "\u001b[34mCompleted 6.9 KiB/~8.1 KiB (7.3 KiB/s) with ~22 file(s) remaining (calculating...)#015Completed 7.0 KiB/~8.3 KiB (7.2 KiB/s) with ~23 file(s) remaining (calculating...)#015Completed 7.2 KiB/~8.3 KiB (7.3 KiB/s) with ~23 file(s) remaining (calculating...)#015download: s3://sagemaker-us-east-1-905418336534/myvideotrainingdataset/.cache/huggingface/download/videos/MLS4T.mp4.metadata to .cache/huggingface/download/videos/MLS4T.mp4.metadata\u001b[0m\n",
      "\u001b[34mCompleted 7.2 KiB/~8.3 KiB (7.3 KiB/s) with ~23 file(s) remaining (calculating...)#015download: s3://sagemaker-us-east-1-905418336534/myvideotrainingdataset/.cache/huggingface/download/videos/MME0V.mp4.metadata to .cache/huggingface/download/videos/MME0V.mp4.metadata\u001b[0m\n",
      "\u001b[34mCompleted 7.2 KiB/~8.3 KiB (7.3 KiB/s) with ~22 file(s) remaining (calculating...)#015download: s3://sagemaker-us-east-1-905418336534/myvideotrainingdataset/.cache/huggingface/download/videos/OTIA2.mp4.lock to .cache/huggingface/download/videos/OTIA2.mp4.lock\u001b[0m\n",
      "\u001b[34mCompleted 7.2 KiB/~8.3 KiB (7.3 KiB/s) with ~21 file(s) remaining (calculating...)#015Completed 7.3 KiB/~8.4 KiB (7.4 KiB/s) with ~22 file(s) remaining (calculating...)#015download: s3://sagemaker-us-east-1-905418336534/myvideotrainingdataset/.cache/huggingface/download/videos/NSUHV.mp4.metadata to .cache/huggingface/download/videos/NSUHV.mp4.metadata\u001b[0m\n",
      "\u001b[34mCompleted 7.3 KiB/~8.5 KiB (7.4 KiB/s) with ~24 file(s) remaining (calculating...)#015download: s3://sagemaker-us-east-1-905418336534/myvideotrainingdataset/.cache/huggingface/download/videos/OTIA2.mp4.metadata to .cache/huggingface/download/videos/OTIA2.mp4.metadata\u001b[0m\n",
      "\u001b[34mCompleted 7.3 KiB/~8.7 KiB (7.4 KiB/s) with ~26 file(s) remaining (calculating...)#015download: s3://sagemaker-us-east-1-905418336534/myvideotrainingdataset/.cache/huggingface/download/videos/PK2F0.mp4.lock to .cache/huggingface/download/videos/PK2F0.mp4.lock\u001b[0m\n",
      "\u001b[34mCompleted 7.3 KiB/~8.7 KiB (7.4 KiB/s) with ~25 file(s) remaining (calculating...)#015download: s3://sagemaker-us-east-1-905418336534/myvideotrainingdataset/.cache/huggingface/download/videos/QBQR3.mp4.lock to .cache/huggingface/download/videos/QBQR3.mp4.lock\u001b[0m\n",
      "\u001b[34mCompleted 7.3 KiB/~8.9 KiB (7.4 KiB/s) with ~27 file(s) remaining (calculating...)#015Completed 7.4 KiB/~9.0 KiB (7.4 KiB/s) with ~29 file(s) remaining (calculating...)#015Completed 7.5 KiB/~9.0 KiB (7.6 KiB/s) with ~29 file(s) remaining (calculating...)#015Completed 7.7 KiB/~10.0 KiB (7.6 KiB/s) with ~44 file(s) remaining (calculating...)#015download: s3://sagemaker-us-east-1-905418336534/myvideotrainingdataset/.cache/huggingface/download/videos/PK2F0.mp4.metadata to .cache/huggingface/download/videos/PK2F0.mp4.metadata\u001b[0m\n",
      "\u001b[34mCompleted 7.7 KiB/~10.2 KiB (7.6 KiB/s) with ~47 file(s) remaining (calculating...)#015download: s3://sagemaker-us-east-1-905418336534/myvideotrainingdataset/.cache/huggingface/download/videos/S6RYI.mp4.lock to .cache/huggingface/download/videos/S6RYI.mp4.lock\u001b[0m\n",
      "\u001b[34mCompleted 7.7 KiB/~10.6 KiB (7.6 KiB/s) with ~53 file(s) remaining (calculating...)#015Completed 7.8 KiB/~10.7 KiB (7.7 KiB/s) with ~54 file(s) remaining (calculating...)#015download: s3://sagemaker-us-east-1-905418336534/myvideotrainingdataset/.cache/huggingface/download/videos/RW587.mp4.metadata to .cache/huggingface/download/videos/RW587.mp4.metadata\u001b[0m\n",
      "\u001b[34mCompleted 7.8 KiB/~11.1 KiB (7.7 KiB/s) with ~59 file(s) remaining (calculating...)#015download: s3://sagemaker-us-east-1-905418336534/myvideotrainingdataset/.cache/huggingface/download/videos/VIN5T.mp4.lock to .cache/huggingface/download/videos/VIN5T.mp4.lock\u001b[0m\n",
      "\u001b[34mCompleted 7.8 KiB/~11.5 KiB (7.7 KiB/s) with ~67 file(s) remaining (calculating...)#015download: s3://sagemaker-us-east-1-905418336534/myvideotrainingdataset/.cache/huggingface/download/videos/QBQR3.mp4.metadata to .cache/huggingface/download/videos/QBQR3.mp4.metadata\u001b[0m\n",
      "\u001b[34mCompleted 7.8 KiB/~11.5 KiB (7.7 KiB/s) with ~66 file(s) remaining (calculating...)#015download: s3://sagemaker-us-east-1-905418336534/myvideotrainingdataset/.cache/huggingface/download/videos/S6RYI.mp4.metadata to .cache/huggingface/download/videos/S6RYI.mp4.metadata\u001b[0m\n",
      "\u001b[34mCompleted 7.8 KiB/~11.7 KiB (7.7 KiB/s) with ~67 file(s) remaining (calculating...)#015download: s3://sagemaker-us-east-1-905418336534/myvideotrainingdataset/.cache/huggingface/download/videos/T38JM.mp4.lock to .cache/huggingface/download/videos/T38JM.mp4.lock\u001b[0m\n",
      "\u001b[34mCompleted 7.8 KiB/~11.7 KiB (7.7 KiB/s) with ~66 file(s) remaining (calculating...)#015download: s3://sagemaker-us-east-1-905418336534/myvideotrainingdataset/.cache/huggingface/download/videos/RW587.mp4.lock to .cache/huggingface/download/videos/RW587.mp4.lock\u001b[0m\n",
      "\u001b[34mCompleted 7.8 KiB/~11.9 KiB (7.7 KiB/s) with ~68 file(s) remaining (calculating...)#015download: s3://sagemaker-us-east-1-905418336534/myvideotrainingdataset/.cache/huggingface/download/videos/VKDLS.mp4.lock to .cache/huggingface/download/videos/VKDLS.mp4.lock\u001b[0m\n",
      "\u001b[34mCompleted 7.8 KiB/~12.0 KiB (7.7 KiB/s) with ~69 file(s) remaining (calculating...)#015Completed 7.9 KiB/~12.0 KiB (7.6 KiB/s) with ~69 file(s) remaining (calculating...)#015download: s3://sagemaker-us-east-1-905418336534/myvideotrainingdataset/.cache/huggingface/download/videos/T38JM.mp4.metadata to .cache/huggingface/download/videos/T38JM.mp4.metadata\u001b[0m\n",
      "\u001b[34mCompleted 7.9 KiB/~12.2 KiB (7.6 KiB/s) with ~70 file(s) remaining (calculating...)#015Completed 8.0 KiB/~12.5 KiB (7.7 KiB/s) with ~77 file(s) remaining (calculating...)#015Completed 8.1 KiB/~12.8 KiB (7.8 KiB/s) with ~80 file(s) remaining (calculating...)#015download: s3://sagemaker-us-east-1-905418336534/myvideotrainingdataset/.cache/huggingface/download/videos/WK5PL.mp4.lock to .cache/huggingface/download/videos/WK5PL.mp4.lock\u001b[0m\n",
      "\u001b[34mCompleted 8.1 KiB/~13.1 KiB (7.8 KiB/s) with ~85 file(s) remaining (calculating...)#015download: s3://sagemaker-us-east-1-905418336534/myvideotrainingdataset/.cache/huggingface/download/videos/VIN5T.mp4.metadata to .cache/huggingface/download/videos/VIN5T.mp4.metadata\u001b[0m\n",
      "\u001b[34mCompleted 8.1 KiB/~13.1 KiB (7.8 KiB/s) with ~84 file(s) remaining (calculating...)#015download: s3://sagemaker-us-east-1-905418336534/myvideotrainingdataset/.cache/huggingface/download/videos/VKDLS.mp4.metadata to .cache/huggingface/download/videos/VKDLS.mp4.metadata\u001b[0m\n",
      "\u001b[34mCompleted 8.1 KiB/~13.4 KiB (7.8 KiB/s) with ~88 file(s) remaining (calculating...)#015download: s3://sagemaker-us-east-1-905418336534/myvideotrainingdataset/.cache/huggingface/download/videos/YB67Z.mp4.lock to .cache/huggingface/download/videos/YB67Z.mp4.lock\u001b[0m\n",
      "\u001b[34mCompleted 8.1 KiB/~13.4 KiB (7.8 KiB/s) with ~87 file(s) remaining (calculating...)#015Completed 8.3 KiB/~13.5 KiB (7.8 KiB/s) with ~88 file(s) remaining (calculating...)#015Completed 8.4 KiB/~13.5 KiB (8.0 KiB/s) with ~88 file(s) remaining (calculating...)#015Completed 8.5 KiB/~14.0 KiB (8.0 KiB/s) with ~96 file(s) remaining (calculating...)#015Completed 8.6 KiB/~14.0 KiB (8.1 KiB/s) with ~96 file(s) remaining (calculating...)#015download: s3://sagemaker-us-east-1-905418336534/myvideotrainingdataset/.cache/huggingface/download/videos/YKT8I.mp4.lock to .cache/huggingface/download/videos/YKT8I.mp4.lock\u001b[0m\n",
      "\u001b[34mCompleted 8.6 KiB/~14.0 KiB (8.1 KiB/s) with ~96 file(s) remaining (calculating...)#015download: s3://sagemaker-us-east-1-905418336534/myvideotrainingdataset/.cache/huggingface/download/videos/WK5PL.mp4.metadata to .cache/huggingface/download/videos/WK5PL.mp4.metadata\u001b[0m\n",
      "\u001b[34mCompleted 8.6 KiB/~14.1 KiB (8.1 KiB/s) with ~97 file(s) remaining (calculating...)#015download: s3://sagemaker-us-east-1-905418336534/myvideotrainingdataset/.cache/huggingface/download/videos/YB67Z.mp4.metadata to .cache/huggingface/download/videos/YB67Z.mp4.metadata\u001b[0m\n",
      "\u001b[34mCompleted 8.6 KiB/~14.2 KiB (8.1 KiB/s) with ~97 file(s) remaining (calculating...)#015Completed 8.7 KiB/~14.2 KiB (8.2 KiB/s) with ~97 file(s) remaining (calculating...)#015download: s3://sagemaker-us-east-1-905418336534/myvideotrainingdataset/.cache/huggingface/download/videos/YKT8I.mp4.metadata to .cache/huggingface/download/videos/YKT8I.mp4.metadata\u001b[0m\n",
      "\u001b[34mCompleted 8.7 KiB/~14.2 KiB (8.2 KiB/s) with ~96 file(s) remaining (calculating...)#015download: s3://sagemaker-us-east-1-905418336534/myvideotrainingdataset/.cache/huggingface/download/videos/academic_source/Charades/0AGCS.mp4.metadata to .cache/huggingface/download/videos/academic_source/Charades/0AGCS.mp4.metadata\u001b[0m\n",
      "\u001b[34mCompleted 8.7 KiB/~14.5 KiB (8.2 KiB/s) with ~99 file(s) remaining (calculating...)#015download: s3://sagemaker-us-east-1-905418336534/myvideotrainingdataset/.cache/huggingface/download/videos/academic_source/Charades/0AGCS.mp4.lock to .cache/huggingface/download/videos/academic_source/Charades/0AGCS.mp4.lock\u001b[0m\n",
      "\u001b[34mCompleted 8.7 KiB/~14.6 KiB (8.2 KiB/s) with ~100 file(s) remaining (calculating...)#015download: s3://sagemaker-us-east-1-905418336534/myvideotrainingdataset/.cache/huggingface/download/videos/academic_source/Charades/2IX2Z.mp4.metadata to .cache/huggingface/download/videos/academic_source/Charades/2IX2Z.mp4.metadata\u001b[0m\n",
      "\u001b[34mCompleted 8.7 KiB/~14.6 KiB (8.2 KiB/s) with ~99 file(s) remaining (calculating...)#015Completed 8.9 KiB/~14.6 KiB (8.2 KiB/s) with ~100 file(s) remaining (calculating...)#015download: s3://sagemaker-us-east-1-905418336534/myvideotrainingdataset/.cache/huggingface/download/videos/academic_source/Charades/13XM4.mp4.lock to .cache/huggingface/download/videos/academic_source/Charades/13XM4.mp4.lock\u001b[0m\n",
      "\u001b[34mCompleted 8.9 KiB/~14.7 KiB (8.2 KiB/s) with ~100 file(s) remaining (calculating...)#015download: s3://sagemaker-us-east-1-905418336534/myvideotrainingdataset/.cache/huggingface/download/videos/academic_source/Charades/13XM4.mp4.metadata to .cache/huggingface/download/videos/academic_source/Charades/13XM4.mp4.metadata\u001b[0m\n",
      "\u001b[34mCompleted 8.9 KiB/~14.7 KiB (8.2 KiB/s) with ~100 file(s) remaining (calculating...)#015Completed 9.0 KiB/~14.8 KiB (8.3 KiB/s) with ~102 file(s) remaining (calculating...)#015download: s3://sagemaker-us-east-1-905418336534/myvideotrainingdataset/.cache/huggingface/download/videos/academic_source/Charades/3RN5M.mp4.lock to .cache/huggingface/download/videos/academic_source/Charades/3RN5M.mp4.lock\u001b[0m\n",
      "\u001b[34mCompleted 9.0 KiB/~15.0 KiB (8.3 KiB/s) with ~103 file(s) remaining (calculating...)#015download: s3://sagemaker-us-east-1-905418336534/myvideotrainingdataset/.cache/huggingface/download/videos/academic_source/Charades/3RN5M.mp4.metadata to .cache/huggingface/download/videos/academic_source/Charades/3RN5M.mp4.metadata\u001b[0m\n",
      "\u001b[34mCompleted 9.0 KiB/~15.2 KiB (8.3 KiB/s) with ~106 file(s) remaining (calculating...)#015download: s3://sagemaker-us-east-1-905418336534/myvideotrainingdataset/.cache/huggingface/download/videos/academic_source/Charades/13AUQ.mp4.lock to .cache/huggingface/download/videos/academic_source/Charades/13AUQ.mp4.lock\u001b[0m\n",
      "\u001b[34mCompleted 9.0 KiB/~15.3 KiB (8.3 KiB/s) with ~106 file(s) remaining (calculating...)#015Completed 9.1 KiB/~15.5 KiB (8.3 KiB/s) with ~108 file(s) remaining (calculating...)#015Completed 9.2 KiB/~15.6 KiB (8.4 KiB/s) with ~111 file(s) remaining (calculating...)#015Completed 9.4 KiB/~16.2 KiB (8.5 KiB/s) with ~120 file(s) remaining (calculating...)#015download: s3://sagemaker-us-east-1-905418336534/myvideotrainingdataset/.cache/huggingface/download/videos/academic_source/Charades/ALXUC.mp4.lock to .cache/huggingface/download/videos/academic_source/Charades/ALXUC.mp4.lock\u001b[0m\n",
      "\u001b[34mCompleted 9.4 KiB/~16.2 KiB (8.5 KiB/s) with ~119 file(s) remaining (calculating...)#015download: s3://sagemaker-us-east-1-905418336534/myvideotrainingdataset/.cache/huggingface/download/videos/academic_source/Charades/9207X.mp4.lock to .cache/huggingface/download/videos/academic_source/Charades/9207X.mp4.lock\u001b[0m\n",
      "\u001b[34mCompleted 9.4 KiB/~16.9 KiB (8.5 KiB/s) with ~130 file(s) remaining (calculating...)#015Completed 9.5 KiB/~16.9 KiB (8.5 KiB/s) with ~130 file(s) remaining (calculating...)#015download: s3://sagemaker-us-east-1-905418336534/myvideotrainingdataset/.cache/huggingface/download/videos/academic_source/Charades/2IX2Z.mp4.lock to .cache/huggingface/download/videos/academic_source/Charades/2IX2Z.mp4.lock\u001b[0m\n",
      "\u001b[34mCompleted 9.5 KiB/~16.9 KiB (8.5 KiB/s) with ~130 file(s) remaining (calculating...)#015download: s3://sagemaker-us-east-1-905418336534/myvideotrainingdataset/.cache/huggingface/download/videos/academic_source/Charades/13AUQ.mp4.metadata to .cache/huggingface/download/videos/academic_source/Charades/13AUQ.mp4.metadata\u001b[0m\n",
      "\u001b[34mCompleted 9.5 KiB/~17.0 KiB (8.5 KiB/s) with ~130 file(s) remaining (calculating...)#015download: s3://sagemaker-us-east-1-905418336534/myvideotrainingdataset/.cache/huggingface/download/videos/academic_source/Charades/9207X.mp4.metadata to .cache/huggingface/download/videos/academic_source/Charades/9207X.mp4.metadata\u001b[0m\n",
      "\u001b[34mCompleted 9.5 KiB/~17.0 KiB (8.5 KiB/s) with ~129 file(s) remaining (calculating...)#015Completed 9.6 KiB/~17.0 KiB (8.6 KiB/s) with ~130 file(s) remaining (calculating...)#015download: s3://sagemaker-us-east-1-905418336534/myvideotrainingdataset/.cache/huggingface/download/videos/academic_source/Charades/8Y7P5.mp4.metadata to .cache/huggingface/download/videos/academic_source/Charades/8Y7P5.mp4.metadata\u001b[0m\n",
      "\u001b[34mCompleted 9.6 KiB/~17.2 KiB (8.6 KiB/s) with ~131 file(s) remaining (calculating...)#015download: s3://sagemaker-us-east-1-905418336534/myvideotrainingdataset/.cache/huggingface/download/videos/academic_source/Charades/8Y7P5.mp4.lock to .cache/huggingface/download/videos/academic_source/Charades/8Y7P5.mp4.lock\u001b[0m\n",
      "\u001b[34mCompleted 9.6 KiB/~17.2 KiB (8.6 KiB/s) with ~130 file(s) remaining (calculating...)#015download: s3://sagemaker-us-east-1-905418336534/myvideotrainingdataset/.cache/huggingface/download/videos/academic_source/Charades/ALXUC.mp4.metadata to .cache/huggingface/download/videos/academic_source/Charades/ALXUC.mp4.metadata\u001b[0m\n",
      "\u001b[34mCompleted 9.6 KiB/~17.3 KiB (8.6 KiB/s) with ~131 file(s) remaining (calculating...)#015download: s3://sagemaker-us-east-1-905418336534/myvideotrainingdataset/.cache/huggingface/download/videos/academic_source/Charades/45BIP.mp4.metadata to .cache/huggingface/download/videos/academic_source/Charades/45BIP.mp4.metadata\u001b[0m\n",
      "\u001b[34mCompleted 9.6 KiB/~17.4 KiB (8.6 KiB/s) with ~131 file(s) remaining (calculating...)#015download: s3://sagemaker-us-east-1-905418336534/myvideotrainingdataset/.cache/huggingface/download/videos/academic_source/Charades/DP1TV.mp4.lock to .cache/huggingface/download/videos/academic_source/Charades/DP1TV.mp4.lock\u001b[0m\n",
      "\u001b[34mCompleted 9.6 KiB/~17.4 KiB (8.6 KiB/s) with ~130 file(s) remaining (calculating...)#015Completed 9.7 KiB/~17.4 KiB (8.6 KiB/s) with ~130 file(s) remaining (calculating...)#015download: s3://sagemaker-us-east-1-905418336534/myvideotrainingdataset/.cache/huggingface/download/videos/academic_source/Charades/CX5ZM.mp4.metadata to .cache/huggingface/download/videos/academic_source/Charades/CX5ZM.mp4.metadata\u001b[0m\n",
      "\u001b[34mCompleted 9.7 KiB/~17.5 KiB (8.6 KiB/s) with ~132 file(s) remaining (calculating...)#015Completed 9.8 KiB/~17.5 KiB (8.6 KiB/s) with ~132 file(s) remaining (calculating...)#015download: s3://sagemaker-us-east-1-905418336534/myvideotrainingdataset/.cache/huggingface/download/videos/academic_source/Charades/CX5ZM.mp4.lock to .cache/huggingface/download/videos/academic_source/Charades/CX5ZM.mp4.lock\u001b[0m\n",
      "\u001b[34mCompleted 9.8 KiB/~17.5 KiB (8.6 KiB/s) with ~131 file(s) remaining (calculating...)#015download: s3://sagemaker-us-east-1-905418336534/myvideotrainingdataset/.cache/huggingface/download/videos/academic_source/Charades/5Z1CO.mp4.lock to .cache/huggingface/download/videos/academic_source/Charades/5Z1CO.mp4.lock\u001b[0m\n",
      "\u001b[34mCompleted 9.8 KiB/~17.8 KiB (8.6 KiB/s) with ~134 file(s) remaining (calculating...)#015download: s3://sagemaker-us-east-1-905418336534/myvideotrainingdataset/.cache/huggingface/download/videos/academic_source/Charades/45BIP.mp4.lock to .cache/huggingface/download/videos/academic_source/Charades/45BIP.mp4.lock\u001b[0m\n",
      "\u001b[34mCompleted 9.8 KiB/~18.0 KiB (8.6 KiB/s) with ~136 file(s) remaining (calculating...)#015download: s3://sagemaker-us-east-1-905418336534/myvideotrainingdataset/.cache/huggingface/download/videos/academic_source/Charades/DP1TV.mp4.metadata to .cache/huggingface/download/videos/academic_source/Charades/DP1TV.mp4.metadata\u001b[0m\n",
      "\u001b[34mCompleted 9.8 KiB/~18.0 KiB (8.6 KiB/s) with ~135 file(s) remaining (calculating...)#015Completed 10.0 KiB/~18.0 KiB (8.6 KiB/s) with ~135 file(s) remaining (calculating...)#015download: s3://sagemaker-us-east-1-905418336534/myvideotrainingdataset/.cache/huggingface/download/videos/academic_source/Charades/F31X6.mp4.lock to .cache/huggingface/download/videos/academic_source/Charades/F31X6.mp4.lock\u001b[0m\n",
      "\u001b[34mCompleted 10.0 KiB/~18.0 KiB (8.6 KiB/s) with ~134 file(s) remaining (calculating...)#015Completed 10.1 KiB/~18.0 KiB (8.7 KiB/s) with ~134 file(s) remaining (calculating...)#015download: s3://sagemaker-us-east-1-905418336534/myvideotrainingdataset/.cache/huggingface/download/videos/academic_source/Charades/EJY5V.mp4.lock to .cache/huggingface/download/videos/academic_source/Charades/EJY5V.mp4.lock\u001b[0m\n",
      "\u001b[34mCompleted 10.1 KiB/~18.3 KiB (8.7 KiB/s) with ~138 file(s) remaining (calculating...)#015download: s3://sagemaker-us-east-1-905418336534/myvideotrainingdataset/.cache/huggingface/download/videos/academic_source/Charades/5Z1CO.mp4.metadata to .cache/huggingface/download/videos/academic_source/Charades/5Z1CO.mp4.metadata\u001b[0m\n",
      "\u001b[34mCompleted 10.1 KiB/~18.5 KiB (8.7 KiB/s) with ~140 file(s) remaining (calculating...)#015download: s3://sagemaker-us-east-1-905418336534/myvideotrainingdataset/.cache/huggingface/download/videos/academic_source/Charades/F31X6.mp4.metadata to .cache/huggingface/download/videos/academic_source/Charades/F31X6.mp4.metadata\u001b[0m\n",
      "\u001b[34mCompleted 10.1 KiB/~18.5 KiB (8.7 KiB/s) with ~139 file(s) remaining (calculating...)#015download: s3://sagemaker-us-east-1-905418336534/myvideotrainingdataset/.cache/huggingface/download/videos/academic_source/Charades/GG4UR.mp4.lock to .cache/huggingface/download/videos/academic_source/Charades/GG4UR.mp4.lock\u001b[0m\n",
      "\u001b[34mCompleted 10.1 KiB/~18.5 KiB (8.7 KiB/s) with ~138 file(s) remaining (calculating...)#015Completed 10.2 KiB/~18.7 KiB (8.7 KiB/s) with ~142 file(s) remaining (calculating...)#015Completed 10.3 KiB/~18.7 KiB (8.8 KiB/s) with ~143 file(s) remaining (calculating...)#015download: s3://sagemaker-us-east-1-905418336534/myvideotrainingdataset/.cache/huggingface/download/videos/academic_source/Charades/FY9UT.mp4.metadata to .cache/huggingface/download/videos/academic_source/Charades/FY9UT.mp4.metadata\u001b[0m\n",
      "\u001b[34mCompleted 10.3 KiB/~18.7 KiB (8.8 KiB/s) with ~142 file(s) remaining (calculating...)#015download: s3://sagemaker-us-east-1-905418336534/myvideotrainingdataset/.cache/huggingface/download/videos/academic_source/Charades/FY9UT.mp4.lock to .cache/huggingface/download/videos/academic_source/Charades/FY9UT.mp4.lock\u001b[0m\n",
      "\u001b[34mCompleted 10.3 KiB/~18.7 KiB (8.8 KiB/s) with ~141 file(s) remaining (calculating...)#015Completed 10.5 KiB/~18.7 KiB (8.9 KiB/s) with ~141 file(s) remaining (calculating...)#015download: s3://sagemaker-us-east-1-905418336534/myvideotrainingdataset/.cache/huggingface/download/videos/academic_source/Charades/HQ8K2.mp4.lock to .cache/huggingface/download/videos/academic_source/Charades/HQ8K2.mp4.lock\u001b[0m\n",
      "\u001b[34mCompleted 10.5 KiB/~18.7 KiB (8.9 KiB/s) with ~140 file(s) remaining (calculating...)#015Completed 10.6 KiB/~18.9 KiB (8.9 KiB/s) with ~142 file(s) remaining (calculating...)#015download: s3://sagemaker-us-east-1-905418336534/myvideotrainingdataset/.cache/huggingface/download/videos/academic_source/Charades/GX4B1.mp4.metadata to .cache/huggingface/download/videos/academic_source/Charades/GX4B1.mp4.metadata\u001b[0m\n",
      "\u001b[34mCompleted 10.6 KiB/~19.1 KiB (8.9 KiB/s) with ~144 file(s) remaining (calculating...)#015download: s3://sagemaker-us-east-1-905418336534/myvideotrainingdataset/.cache/huggingface/download/videos/academic_source/Charades/EJY5V.mp4.metadata to .cache/huggingface/download/videos/academic_source/Charades/EJY5V.mp4.metadata\u001b[0m\n",
      "\u001b[34mCompleted 10.6 KiB/~19.1 KiB (8.9 KiB/s) with ~143 file(s) remaining (calculating...)#015download: s3://sagemaker-us-east-1-905418336534/myvideotrainingdataset/.cache/huggingface/download/videos/academic_source/Charades/IPH08.mp4.metadata to .cache/huggingface/download/videos/academic_source/Charades/IPH08.mp4.metadata\u001b[0m\n",
      "\u001b[34mCompleted 10.6 KiB/~19.1 KiB (8.9 KiB/s) with ~142 file(s) remaining (calculating...)#015Completed 10.7 KiB/~19.1 KiB (9.0 KiB/s) with ~143 file(s) remaining (calculating...)#015download: s3://sagemaker-us-east-1-905418336534/myvideotrainingdataset/.cache/huggingface/download/videos/academic_source/Charades/HQ8K2.mp4.metadata to .cache/huggingface/download/videos/academic_source/Charades/HQ8K2.mp4.metadata\u001b[0m\n",
      "\u001b[34mCompleted 10.7 KiB/~19.1 KiB (9.0 KiB/s) with ~142 file(s) remaining (calculating...)#015Completed 10.8 KiB/~19.1 KiB (9.0 KiB/s) with ~142 file(s) remaining (calculating...)#015Completed 10.9 KiB/~19.3 KiB (9.1 KiB/s) with ~145 file(s) remaining (calculating...)#015download: s3://sagemaker-us-east-1-905418336534/myvideotrainingdataset/.cache/huggingface/download/videos/academic_source/Charades/IPH08.mp4.lock to .cache/huggingface/download/videos/academic_source/Charades/IPH08.mp4.lock\u001b[0m\n",
      "\u001b[34mCompleted 10.9 KiB/~19.5 KiB (9.1 KiB/s) with ~146 file(s) remaining (calculating...)#015download: s3://sagemaker-us-east-1-905418336534/myvideotrainingdataset/.cache/huggingface/download/videos/academic_source/Charades/GX4B1.mp4.lock to .cache/huggingface/download/videos/academic_source/Charades/GX4B1.mp4.lock\u001b[0m\n",
      "\u001b[34mCompleted 10.9 KiB/~19.6 KiB (9.1 KiB/s) with ~147 file(s) remaining (calculating...)#015Completed 11.1 KiB/~19.6 KiB (9.2 KiB/s) with ~148 file(s) remaining (calculating...)#015Completed 11.2 KiB/~19.6 KiB (9.3 KiB/s) with ~148 file(s) remaining (calculating...)#015download: s3://sagemaker-us-east-1-905418336534/myvideotrainingdataset/.cache/huggingface/download/videos/academic_source/Charades/IA7X9.mp4.lock to .cache/huggingface/download/videos/academic_source/Charades/IA7X9.mp4.lock\u001b[0m\n",
      "\u001b[34mCompleted 11.2 KiB/~19.7 KiB (9.3 KiB/s) with ~148 file(s) remaining (calculating...)#015download: s3://sagemaker-us-east-1-905418336534/myvideotrainingdataset/.cache/huggingface/download/videos/academic_source/Charades/J53NS.mp4.metadata to .cache/huggingface/download/videos/academic_source/Charades/J53NS.mp4.metadata\u001b[0m\n",
      "\u001b[34mCompleted 11.2 KiB/~19.8 KiB (9.3 KiB/s) with ~149 file(s) remaining (calculating...)#015download: s3://sagemaker-us-east-1-905418336534/myvideotrainingdataset/.cache/huggingface/download/videos/academic_source/Charades/GG4UR.mp4.metadata to .cache/huggingface/download/videos/academic_source/Charades/GG4UR.mp4.metadata\u001b[0m\n",
      "\u001b[34mCompleted 11.2 KiB/~19.8 KiB (9.3 KiB/s) with ~149 file(s) remaining (calculating...)#015download: s3://sagemaker-us-east-1-905418336534/myvideotrainingdataset/.cache/huggingface/download/videos/academic_source/Charades/KEPDQ.mp4.metadata to .cache/huggingface/download/videos/academic_source/Charades/KEPDQ.mp4.metadata\u001b[0m\n",
      "\u001b[34mCompleted 11.2 KiB/~19.8 KiB (9.3 KiB/s) with ~148 file(s) remaining (calculating...)#015download: s3://sagemaker-us-east-1-905418336534/myvideotrainingdataset/.cache/huggingface/download/videos/academic_source/Charades/IA7X9.mp4.metadata to .cache/huggingface/download/videos/academic_source/Charades/IA7X9.mp4.metadata\u001b[0m\n",
      "\u001b[34mCompleted 11.2 KiB/~20.0 KiB (9.3 KiB/s) with ~149 file(s) remaining (calculating...)#015download: s3://sagemaker-us-east-1-905418336534/myvideotrainingdataset/.cache/huggingface/download/videos/academic_source/Charades/LRDW5.mp4.lock to .cache/huggingface/download/videos/academic_source/Charades/LRDW5.mp4.lock\u001b[0m\n",
      "\u001b[34mCompleted 11.2 KiB/~20.0 KiB (9.3 KiB/s) with ~148 file(s) remaining (calculating...)#015download: s3://sagemaker-us-east-1-905418336534/myvideotrainingdataset/.cache/huggingface/download/videos/academic_source/Charades/JIS2Q.mp4.metadata to .cache/huggingface/download/videos/academic_source/Charades/JIS2Q.mp4.metadata\u001b[0m\n",
      "\u001b[34mCompleted 11.2 KiB/~20.3 KiB (9.3 KiB/s) with ~152 file(s) remaining (calculating...)#015download: s3://sagemaker-us-east-1-905418336534/myvideotrainingdataset/.cache/huggingface/download/videos/academic_source/Charades/KEPDQ.mp4.lock to .cache/huggingface/download/videos/academic_source/Charades/KEPDQ.mp4.lock\u001b[0m\n",
      "\u001b[34mCompleted 11.2 KiB/~20.3 KiB (9.3 KiB/s) with ~151 file(s) remaining (calculating...)#015Completed 11.3 KiB/~20.3 KiB (9.2 KiB/s) with ~152 file(s) remaining (calculating...)#015download: s3://sagemaker-us-east-1-905418336534/myvideotrainingdataset/.cache/huggingface/download/videos/academic_source/Charades/M79TJ.mp4.lock to .cache/huggingface/download/videos/academic_source/Charades/M79TJ.mp4.lock\u001b[0m\n",
      "\u001b[34mCompleted 11.3 KiB/~20.3 KiB (9.2 KiB/s) with ~151 file(s) remaining (calculating...)#015download: s3://sagemaker-us-east-1-905418336534/myvideotrainingdataset/.cache/huggingface/download/videos/academic_source/Charades/J53NS.mp4.lock to .cache/huggingface/download/videos/academic_source/Charades/J53NS.mp4.lock\u001b[0m\n",
      "\u001b[34mCompleted 11.3 KiB/~20.3 KiB (9.2 KiB/s) with ~150 file(s) remaining (calculating...)#015Completed 11.4 KiB/~20.4 KiB (9.2 KiB/s) with ~152 file(s) remaining (calculating...)#015Completed 11.5 KiB/~20.6 KiB (9.3 KiB/s) with ~154 file(s) remaining (calculating...)#015download: s3://sagemaker-us-east-1-905418336534/myvideotrainingdataset/.cache/huggingface/download/videos/academic_source/Charades/MLS4T.mp4.metadata to .cache/huggingface/download/videos/academic_source/Charades/MLS4T.mp4.metadata\u001b[0m\n",
      "\u001b[34mCompleted 11.5 KiB/~20.6 KiB (9.3 KiB/s) with ~153 file(s) remaining (calculating...)#015download: s3://sagemaker-us-east-1-905418336534/myvideotrainingdataset/.cache/huggingface/download/videos/academic_source/Charades/OADOE.mp4.metadata to .cache/huggingface/download/videos/academic_source/Charades/OADOE.mp4.metadata\u001b[0m\n",
      "\u001b[34mCompleted 11.5 KiB/~20.9 KiB (9.3 KiB/s) with ~157 file(s) remaining (calculating...)#015download: s3://sagemaker-us-east-1-905418336534/myvideotrainingdataset/.cache/huggingface/download/videos/academic_source/Charades/JIS2Q.mp4.lock to .cache/huggingface/download/videos/academic_source/Charades/JIS2Q.mp4.lock\u001b[0m\n",
      "\u001b[34mCompleted 11.5 KiB/~20.9 KiB (9.3 KiB/s) with ~156 file(s) remaining (calculating...)#015download: s3://sagemaker-us-east-1-905418336534/myvideotrainingdataset/.cache/huggingface/download/videos/academic_source/Charades/OPPVW.mp4.lock to .cache/huggingface/download/videos/academic_source/Charades/OPPVW.mp4.lock\u001b[0m\n",
      "\u001b[34mCompleted 11.5 KiB/~20.9 KiB (9.3 KiB/s) with ~155 file(s) remaining (calculating...)#015download: s3://sagemaker-us-east-1-905418336534/myvideotrainingdataset/.cache/huggingface/download/videos/academic_source/Charades/NYDRK.mp4.metadata to .cache/huggingface/download/videos/academic_source/Charades/NYDRK.mp4.metadata\u001b[0m\n",
      "\u001b[34mCompleted 11.5 KiB/~21.1 KiB (9.3 KiB/s) with ~157 file(s) remaining (calculating...)#015download: s3://sagemaker-us-east-1-905418336534/myvideotrainingdataset/.cache/huggingface/download/videos/academic_source/Charades/OADOE.mp4.lock to .cache/huggingface/download/videos/academic_source/Charades/OADOE.mp4.lock\u001b[0m\n",
      "\u001b[34mCompleted 11.5 KiB/~21.2 KiB (9.3 KiB/s) with ~157 file(s) remaining (calculating...)#015download: s3://sagemaker-us-east-1-905418336534/myvideotrainingdataset/.cache/huggingface/download/videos/academic_source/Charades/P23HN.mp4.lock to .cache/huggingface/download/videos/academic_source/Charades/P23HN.mp4.lock\u001b[0m\n",
      "\u001b[34mCompleted 11.5 KiB/~21.3 KiB (9.3 KiB/s) with ~158 file(s) remaining (calculating...)#015Completed 11.7 KiB/~21.3 KiB (9.3 KiB/s) with ~159 file(s) remaining (calculating...)#015download: s3://sagemaker-us-east-1-905418336534/myvideotrainingdataset/.cache/huggingface/download/videos/academic_source/Charades/P36YW.mp4.lock to .cache/huggingface/download/videos/academic_source/Charades/P36YW.mp4.lock\u001b[0m\n",
      "\u001b[34mCompleted 11.7 KiB/~21.5 KiB (9.3 KiB/s) with ~161 file(s) remaining (calculating...)#015download: s3://sagemaker-us-east-1-905418336534/myvideotrainingdataset/.cache/huggingface/download/videos/academic_source/Charades/NYDRK.mp4.lock to .cache/huggingface/download/videos/academic_source/Charades/NYDRK.mp4.lock\u001b[0m\n",
      "\u001b[34mCompleted 11.7 KiB/~21.8 KiB (9.3 KiB/s) with ~164 file(s) remaining (calculating...)#015download: s3://sagemaker-us-east-1-905418336534/myvideotrainingdataset/.cache/huggingface/download/videos/academic_source/Charades/MLS4T.mp4.lock to .cache/huggingface/download/videos/academic_source/Charades/MLS4T.mp4.lock\u001b[0m\n",
      "\u001b[34mCompleted 11.7 KiB/~21.8 KiB (9.3 KiB/s) with ~163 file(s) remaining (calculating...)#015Completed 11.8 KiB/~21.8 KiB (9.3 KiB/s) with ~163 file(s) remaining (calculating...)#015Completed 11.9 KiB/~21.9 KiB (9.4 KiB/s) with ~166 file(s) remaining (calculating...)#015Completed 12.0 KiB/~21.9 KiB (9.4 KiB/s) with ~166 file(s) remaining (calculating...)#015download: s3://sagemaker-us-east-1-905418336534/myvideotrainingdataset/.cache/huggingface/download/videos/academic_source/Charades/PK2F0.mp4.lock to .cache/huggingface/download/videos/academic_source/Charades/PK2F0.mp4.lock\u001b[0m\n",
      "\u001b[34mCompleted 12.0 KiB/~21.9 KiB (9.4 KiB/s) with ~165 file(s) remaining (calculating...)#015download: s3://sagemaker-us-east-1-905418336534/myvideotrainingdataset/.cache/huggingface/download/videos/academic_source/Charades/P36YW.mp4.metadata to .cache/huggingface/download/videos/academic_source/Charades/P36YW.mp4.metadata\u001b[0m\n",
      "\u001b[34mCompleted 12.0 KiB/~22.0 KiB (9.4 KiB/s) with ~166 file(s) remaining (calculating...)#015download: s3://sagemaker-us-east-1-905418336534/myvideotrainingdataset/.cache/huggingface/download/videos/academic_source/Charades/RTEO8.mp4.lock to .cache/huggingface/download/videos/academic_source/Charades/RTEO8.mp4.lock\u001b[0m\n",
      "\u001b[34mCompleted 12.0 KiB/~22.0 KiB (9.4 KiB/s) with ~165 file(s) remaining (calculating...)#015download: s3://sagemaker-us-east-1-905418336534/myvideotrainingdataset/.cache/huggingface/download/videos/academic_source/Charades/P23HN.mp4.metadata to .cache/huggingface/download/videos/academic_source/Charades/P23HN.mp4.metadata\u001b[0m\n",
      "\u001b[34mCompleted 12.0 KiB/~22.2 KiB (9.4 KiB/s) with ~166 file(s) remaining (calculating...)#015Completed 12.2 KiB/~22.2 KiB (9.5 KiB/s) with ~166 file(s) remaining (calculating...)#015download: s3://sagemaker-us-east-1-905418336534/myvideotrainingdataset/.cache/huggingface/download/videos/academic_source/Charades/RIE30.mp4.metadata to .cache/huggingface/download/videos/academic_source/Charades/RIE30.mp4.metadata\u001b[0m\n",
      "\u001b[34mCompleted 12.2 KiB/~22.3 KiB (9.5 KiB/s) with ~167 file(s) remaining (calculating...)#015Completed 12.3 KiB/~22.3 KiB (9.5 KiB/s) with ~167 file(s) remaining (calculating...)#015download: s3://sagemaker-us-east-1-905418336534/myvideotrainingdataset/.cache/huggingface/download/videos/academic_source/Charades/RIE30.mp4.lock to .cache/huggingface/download/videos/academic_source/Charades/RIE30.mp4.lock\u001b[0m\n",
      "\u001b[34mCompleted 12.3 KiB/~22.3 KiB (9.5 KiB/s) with ~166 file(s) remaining (calculating...)#015download: s3://sagemaker-us-east-1-905418336534/myvideotrainingdataset/.cache/huggingface/download/videos/academic_source/Charades/PK2F0.mp4.metadata to .cache/huggingface/download/videos/academic_source/Charades/PK2F0.mp4.metadata\u001b[0m\n",
      "\u001b[34mCompleted 12.3 KiB/~22.4 KiB (9.5 KiB/s) with ~167 file(s) remaining (calculating...)#015download: s3://sagemaker-us-east-1-905418336534/myvideotrainingdataset/.cache/huggingface/download/videos/academic_source/Charades/M79TJ.mp4.metadata to .cache/huggingface/download/videos/academic_source/Charades/M79TJ.mp4.metadata\u001b[0m\n",
      "\u001b[34mCompleted 12.3 KiB/~22.8 KiB (9.5 KiB/s) with ~171 file(s) remaining (calculating...)#015Completed 12.4 KiB/~22.8 KiB (9.5 KiB/s) with ~171 file(s) remaining (calculating...)#015download: s3://sagemaker-us-east-1-905418336534/myvideotrainingdataset/.cache/huggingface/download/videos/academic_source/Charades/XF93D.mp4.lock to .cache/huggingface/download/videos/academic_source/Charades/XF93D.mp4.lock\u001b[0m\n",
      "\u001b[34mCompleted 12.4 KiB/~22.8 KiB (9.5 KiB/s) with ~170 file(s) remaining (calculating...)#015download: s3://sagemaker-us-east-1-905418336534/myvideotrainingdataset/.cache/huggingface/download/videos/academic_source/Charades/OPPVW.mp4.metadata to .cache/huggingface/download/videos/academic_source/Charades/OPPVW.mp4.metadata\u001b[0m\n",
      "\u001b[34mCompleted 12.4 KiB/~22.8 KiB (9.5 KiB/s) with ~169 file(s) remaining (calculating...)#015Completed 12.5 KiB/~22.8 KiB (9.6 KiB/s) with ~169 file(s) remaining (calculating...)#015download: s3://sagemaker-us-east-1-905418336534/myvideotrainingdataset/.cache/huggingface/download/videos/academic_source/Charades/RVV5Q.mp4.lock to .cache/huggingface/download/videos/academic_source/Charades/RVV5Q.mp4.lock\u001b[0m\n",
      "\u001b[34mCompleted 12.5 KiB/~22.8 KiB (9.6 KiB/s) with ~168 file(s) remaining (calculating...)#015Completed 12.6 KiB/~22.8 KiB (9.7 KiB/s) with ~169 file(s) remaining (calculating...)#015download: s3://sagemaker-us-east-1-905418336534/myvideotrainingdataset/.cache/huggingface/download/videos/academic_source/Charades/RTEO8.mp4.metadata to .cache/huggingface/download/videos/academic_source/Charades/RTEO8.mp4.metadata\u001b[0m\n",
      "\u001b[34mCompleted 12.6 KiB/~22.8 KiB (9.7 KiB/s) with ~168 file(s) remaining (calculating...)#015Completed 12.8 KiB/~23.0 KiB (9.7 KiB/s) with ~171 file(s) remaining (calculating...)#015download: s3://sagemaker-us-east-1-905418336534/myvideotrainingdataset/.cache/huggingface/download/videos/academic_source/Charades/Y1HOV.mp4.metadata to .cache/huggingface/download/videos/academic_source/Charades/Y1HOV.mp4.metadata\u001b[0m\n",
      "\u001b[34mCompleted 12.8 KiB/~23.0 KiB (9.7 KiB/s) with ~170 file(s) remaining (calculating...)#015download: s3://sagemaker-us-east-1-905418336534/myvideotrainingdataset/.cache/huggingface/download/videos/academic_source/Charades/LRDW5.mp4.metadata to .cache/huggingface/download/videos/academic_source/Charades/LRDW5.mp4.metadata\u001b[0m\n",
      "\u001b[34mCompleted 12.8 KiB/~23.0 KiB (9.7 KiB/s) with ~170 file(s) remaining (calculating...)#015Completed 12.9 KiB/~23.0 KiB (9.8 KiB/s) with ~170 file(s) remaining (calculating...)#015download: s3://sagemaker-us-east-1-905418336534/myvideotrainingdataset/.cache/huggingface/download/videos/academic_source/Charades/Y2QUJ.mp4.lock to .cache/huggingface/download/videos/academic_source/Charades/Y2QUJ.mp4.lock\u001b[0m\n",
      "\u001b[34mCompleted 12.9 KiB/~23.4 KiB (9.8 KiB/s) with ~174 file(s) remaining (calculating...)#015download: s3://sagemaker-us-east-1-905418336534/myvideotrainingdataset/.cache/huggingface/download/videos/academic_source/Charades/Y2QUJ.mp4.metadata to .cache/huggingface/download/videos/academic_source/Charades/Y2QUJ.mp4.metadata\u001b[0m\n",
      "\u001b[34mCompleted 12.9 KiB/~23.7 KiB (9.8 KiB/s) with ~180 file(s) remaining (calculating...)#015Completed 13.0 KiB/~23.7 KiB (9.8 KiB/s) with ~180 file(s) remaining (calculating...)#015Completed 13.1 KiB/~24.6 KiB (9.8 KiB/s) with ~194 file(s) remaining (calculating...)#015download: s3://sagemaker-us-east-1-905418336534/myvideotrainingdataset/.cache/huggingface/download/videos/academic_source/Charades/Y1HOV.mp4.lock to .cache/huggingface/download/videos/academic_source/Charades/Y1HOV.mp4.lock\u001b[0m\n",
      "\u001b[34mCompleted 13.1 KiB/~24.7 KiB (9.8 KiB/s) with ~194 file(s) remaining (calculating...)#015download: s3://sagemaker-us-east-1-905418336534/myvideotrainingdataset/.cache/huggingface/download/videos/academic_source/Charades/YLEEO.mp4.lock to .cache/huggingface/download/videos/academic_source/Charades/YLEEO.mp4.lock\u001b[0m\n",
      "\u001b[34mCompleted 13.1 KiB/~24.7 KiB (9.8 KiB/s) with ~193 file(s) remaining (calculating...)#015download: s3://sagemaker-us-east-1-905418336534/myvideotrainingdataset/.cache/huggingface/download/videos/academic_source/Charades/Y91JG.mp4.lock to .cache/huggingface/download/videos/academic_source/Charades/Y91JG.mp4.lock\u001b[0m\n",
      "\u001b[34mCompleted 13.1 KiB/~24.7 KiB (9.8 KiB/s) with ~193 file(s) remaining (calculating...)#015Completed 13.3 KiB/~24.7 KiB (9.9 KiB/s) with ~193 file(s) remaining (calculating...)#015Completed 13.4 KiB/~25.1 KiB (10.0 KiB/s) with ~198 file(s) remaining (calculating...)#015download: s3://sagemaker-us-east-1-905418336534/myvideotrainingdataset/.cache/huggingface/download/videos/academic_source/Charades/XF93D.mp4.metadata to .cache/huggingface/download/videos/academic_source/Charades/XF93D.mp4.metadata\u001b[0m\n",
      "\u001b[34mCompleted 13.4 KiB/~25.2 KiB (10.0 KiB/s) with ~200 file(s) remaining (calculating...)#015Completed 13.5 KiB/~1.4 MiB (10.0 KiB/s) with ~210 file(s) remaining (calculating...) #015download: s3://sagemaker-us-east-1-905418336534/myvideotrainingdataset/.cache/huggingface/download/videos/academic_source/NextQA/1000/4255049031.mp4.metadata to .cache/huggingface/download/videos/academic_source/NextQA/1000/4255049031.mp4.metadata\u001b[0m\n",
      "\u001b[34mCompleted 13.5 KiB/~3.6 MiB (10.0 KiB/s) with ~210 file(s) remaining (calculating...)#015download: s3://sagemaker-us-east-1-905418336534/myvideotrainingdataset/.cache/huggingface/download/videos/academic_source/NextQA/0001/4333253921.mp4.metadata to .cache/huggingface/download/videos/academic_source/NextQA/0001/4333253921.mp4.metadata\u001b[0m\n",
      "\u001b[34mCompleted 13.5 KiB/~24.7 MiB (10.0 KiB/s) with ~221 file(s) remaining (calculating...)#015Completed 13.6 KiB/~28.6 MiB (10.0 KiB/s) with ~223 file(s) remaining (calculating...)#015download: s3://sagemaker-us-east-1-905418336534/myvideotrainingdataset/.cache/huggingface/download/videos/academic_source/Charades/Y91JG.mp4.metadata to .cache/huggingface/download/videos/academic_source/Charades/Y91JG.mp4.metadata\u001b[0m\n",
      "\u001b[34mCompleted 13.6 KiB/~46.0 MiB (10.0 KiB/s) with ~233 file(s) remaining (calculating...)#015Completed 13.7 KiB/~46.0 MiB (10.1 KiB/s) with ~233 file(s) remaining (calculating...)#015download: s3://sagemaker-us-east-1-905418336534/myvideotrainingdataset/.cache/huggingface/download/videos/academic_source/Charades/YLEEO.mp4.metadata to .cache/huggingface/download/videos/academic_source/Charades/YLEEO.mp4.metadata\u001b[0m\n",
      "\u001b[34mCompleted 13.7 KiB/~59.0 MiB (10.1 KiB/s) with ~239 file(s) remaining (calculating...)#015download: s3://sagemaker-us-east-1-905418336534/myvideotrainingdataset/.cache/huggingface/download/videos/academic_source/Charades/RVV5Q.mp4.metadata to .cache/huggingface/download/videos/academic_source/Charades/RVV5Q.mp4.metadata\u001b[0m\n",
      "\u001b[34mCompleted 13.7 KiB/~62.8 MiB (10.1 KiB/s) with ~241 file(s) remaining (calculating...)#015download: s3://sagemaker-us-east-1-905418336534/myvideotrainingdataset/.cache/huggingface/download/videos/academic_source/NextQA/1001/2400900222.mp4.lock to .cache/huggingface/download/videos/academic_source/NextQA/1001/2400900222.mp4.lock\u001b[0m\n",
      "\u001b[34mCompleted 13.7 KiB/~94.1 MiB (10.1 KiB/s) with ~269 file(s) remaining (calculating...)#015Completed 13.9 KiB/~94.1 MiB (10.0 KiB/s) with ~269 file(s) remaining (calculating...)#015Completed 14.0 KiB/~110.5 MiB (10.1 KiB/s) with ~283 file(s) remaining (calculating...)#015download: s3://sagemaker-us-east-1-905418336534/myvideotrainingdataset/.cache/huggingface/download/videos/academic_source/NextQA/1001/2400900222.mp4.metadata to .cache/huggingface/download/videos/academic_source/NextQA/1001/2400900222.mp4.metadata\u001b[0m\n",
      "\u001b[34mCompleted 14.0 KiB/~110.5 MiB (10.1 KiB/s) with ~282 file(s) remaining (calculating...)#015download: s3://sagemaker-us-east-1-905418336534/myvideotrainingdataset/.cache/huggingface/download/videos/academic_source/NextQA/1001/6972796508.mp4.metadata to .cache/huggingface/download/videos/academic_source/NextQA/1001/6972796508.mp4.metadata\u001b[0m\n",
      "\u001b[34mCompleted 14.0 KiB/~115.0 MiB (10.1 KiB/s) with ~283 file(s) remaining (calculating...)#015download: s3://sagemaker-us-east-1-905418336534/myvideotrainingdataset/.cache/huggingface/download/videos/academic_source/NextQA/1007/3434972730.mp4.lock to .cache/huggingface/download/videos/academic_source/NextQA/1007/3434972730.mp4.lock\u001b[0m\n",
      "\u001b[34mCompleted 14.0 KiB/~119.0 MiB (10.1 KiB/s) with ~286 file(s) remaining (calculating...)#015Completed 14.1 KiB/~140.5 MiB (10.1 KiB/s) with ~305 file(s) remaining (calculating...)#015download: s3://sagemaker-us-east-1-905418336534/myvideotrainingdataset/.cache/huggingface/download/videos/academic_source/NextQA/1001/6972796508.mp4.lock to .cache/huggingface/download/videos/academic_source/NextQA/1001/6972796508.mp4.lock\u001b[0m\n",
      "\u001b[34mCompleted 14.1 KiB/~143.0 MiB (10.1 KiB/s) with ~305 file(s) remaining (calculating...)#015download: s3://sagemaker-us-east-1-905418336534/myvideotrainingdataset/.cache/huggingface/download/videos/academic_source/NextQA/0001/4333253921.mp4.lock to .cache/huggingface/download/videos/academic_source/NextQA/0001/4333253921.mp4.lock\u001b[0m\n",
      "\u001b[34mCompleted 14.1 KiB/~143.9 MiB (10.1 KiB/s) with ~305 file(s) remaining (calculating...)#015download: s3://sagemaker-us-east-1-905418336534/myvideotrainingdataset/.cache/huggingface/download/videos/academic_source/NextQA/1000/4255049031.mp4.lock to .cache/huggingface/download/videos/academic_source/NextQA/1000/4255049031.mp4.lock\u001b[0m\n",
      "\u001b[34mCompleted 14.1 KiB/~147.7 MiB (10.1 KiB/s) with ~306 file(s) remaining (calculating...)#015download: s3://sagemaker-us-east-1-905418336534/myvideotrainingdataset/.cache/huggingface/download/videos/academic_source/NextQA/1005/9520717551.mp4.lock to .cache/huggingface/download/videos/academic_source/NextQA/1005/9520717551.mp4.lock\u001b[0m\n",
      "\u001b[34mCompleted 14.1 KiB/~147.7 MiB (10.1 KiB/s) with ~305 file(s) remaining (calculating...)#015download: s3://sagemaker-us-east-1-905418336534/myvideotrainingdataset/.cache/huggingface/download/videos/academic_source/NextQA/1007/3434972730.mp4.metadata to .cache/huggingface/download/videos/academic_source/NextQA/1007/3434972730.mp4.metadata\u001b[0m\n",
      "\u001b[34mCompleted 14.1 KiB/~149.6 MiB (10.1 KiB/s) with ~305 file(s) remaining (calculating...)#015Completed 14.2 KiB/~151.3 MiB (10.0 KiB/s) with ~306 file(s) remaining (calculating...)#015download: s3://sagemaker-us-east-1-905418336534/myvideotrainingdataset/.cache/huggingface/download/videos/academic_source/NextQA/1005/9520717551.mp4.metadata to .cache/huggingface/download/videos/academic_source/NextQA/1005/9520717551.mp4.metadata\u001b[0m\n",
      "\u001b[34mCompleted 14.2 KiB/~156.1 MiB (10.0 KiB/s) with ~307 file(s) remaining (calculating...)#015download: s3://sagemaker-us-east-1-905418336534/myvideotrainingdataset/.cache/huggingface/download/videos/academic_source/NextQA/1008/3938939252.mp4.metadata to .cache/huggingface/download/videos/academic_source/NextQA/1008/3938939252.mp4.metadata\u001b[0m\n",
      "\u001b[34mCompleted 14.2 KiB/~157.7 MiB (10.0 KiB/s) with ~307 file(s) remaining (calculating...)#015download: s3://sagemaker-us-east-1-905418336534/myvideotrainingdataset/.cache/huggingface/download/videos/academic_source/NextQA/1023/5327124144.mp4.lock to .cache/huggingface/download/videos/academic_source/NextQA/1023/5327124144.mp4.lock\u001b[0m\n",
      "\u001b[34mCompleted 14.2 KiB/~157.7 MiB (10.0 KiB/s) with ~306 file(s) remaining (calculating...)#015Completed 14.4 KiB/~157.7 MiB (10.1 KiB/s) with ~306 file(s) remaining (calculating...)#015Completed 14.5 KiB/~159.1 MiB (10.2 KiB/s) with ~307 file(s) remaining (calculating...)#015Completed 14.6 KiB/~165.7 MiB (10.2 KiB/s) with ~310 file(s) remaining (calculating...)#015download: s3://sagemaker-us-east-1-905418336534/myvideotrainingdataset/.cache/huggingface/download/videos/academic_source/NextQA/1023/5327124144.mp4.metadata to .cache/huggingface/download/videos/academic_source/NextQA/1023/5327124144.mp4.metadata\u001b[0m\n",
      "\u001b[34mCompleted 14.6 KiB/~167.7 MiB (10.2 KiB/s) with ~310 file(s) remaining (calculating...)#015download: s3://sagemaker-us-east-1-905418336534/myvideotrainingdataset/.cache/huggingface/download/videos/academic_source/NextQA/1051/4164771889.mp4.lock to .cache/huggingface/download/videos/academic_source/NextQA/1051/4164771889.mp4.lock\u001b[0m\n",
      "\u001b[34mCompleted 14.6 KiB/~171.4 MiB (10.2 KiB/s) with ~311 file(s) remaining (calculating...)#015download: s3://sagemaker-us-east-1-905418336534/myvideotrainingdataset/.cache/huggingface/download/videos/academic_source/NextQA/1101/6179595616.mp4.metadata to .cache/huggingface/download/videos/academic_source/NextQA/1101/6179595616.mp4.metadata\u001b[0m\n",
      "\u001b[34mCompleted 14.6 KiB/~171.4 MiB (10.2 KiB/s) with ~310 file(s) remaining (calculating...)#015download: s3://sagemaker-us-east-1-905418336534/myvideotrainingdataset/.cache/huggingface/download/videos/academic_source/NextQA/1008/3938939252.mp4.lock to .cache/huggingface/download/videos/academic_source/NextQA/1008/3938939252.mp4.lock\u001b[0m\n",
      "\u001b[34mCompleted 14.6 KiB/~191.1 MiB (10.2 KiB/s) with ~318 file(s) remaining (calculating...)#015Completed 14.7 KiB/~229.1 MiB (10.2 KiB/s) with ~324 file(s) remaining (calculating...)#015download: s3://sagemaker-us-east-1-905418336534/myvideotrainingdataset/.cache/huggingface/download/videos/academic_source/NextQA/1101/6179595616.mp4.lock to .cache/huggingface/download/videos/academic_source/NextQA/1101/6179595616.mp4.lock\u001b[0m\n",
      "\u001b[34mCompleted 14.7 KiB/~230.3 MiB (10.2 KiB/s) with ~324 file(s) remaining (calculating...)#015download: s3://sagemaker-us-east-1-905418336534/myvideotrainingdataset/.cache/huggingface/download/videos/academic_source/NextQA/1018/6554011281.mp4.metadata to .cache/huggingface/download/videos/academic_source/NextQA/1018/6554011281.mp4.metadata\u001b[0m\n",
      "\u001b[34mCompleted 14.7 KiB/~230.3 MiB (10.2 KiB/s) with ~323 file(s) remaining (calculating...)#015Completed 14.8 KiB/~230.3 MiB (10.2 KiB/s) with ~323 file(s) remaining (calculating...)#015download: s3://sagemaker-us-east-1-905418336534/myvideotrainingdataset/.cache/huggingface/download/videos/academic_source/NextQA/1018/6554011281.mp4.lock to .cache/huggingface/download/videos/academic_source/NextQA/1018/6554011281.mp4.lock\u001b[0m\n",
      "\u001b[34mCompleted 14.8 KiB/~231.8 MiB (10.2 KiB/s) with ~323 file(s) remaining (calculating...)#015Completed 15.0 KiB/~231.8 MiB (10.3 KiB/s) with ~323 file(s) remaining (calculating...)#015download: s3://sagemaker-us-east-1-905418336534/myvideotrainingdataset/.cache/huggingface/download/videos/academic_source/NextQA/1051/4164771889.mp4.metadata to .cache/huggingface/download/videos/academic_source/NextQA/1051/4164771889.mp4.metadata\u001b[0m\n",
      "\u001b[34mCompleted 15.0 KiB/~231.8 MiB (10.3 KiB/s) with ~322 file(s) remaining (calculating...)#015download: s3://sagemaker-us-east-1-905418336534/myvideotrainingdataset/.cache/huggingface/download/videos/academic_source/NextQA/1120/6537701021.mp4.metadata to .cache/huggingface/download/videos/academic_source/NextQA/1120/6537701021.mp4.metadata\u001b[0m\n",
      "\u001b[34mCompleted 15.0 KiB/~235.7 MiB (10.3 KiB/s) with ~323 file(s) remaining (calculating...)#015download: s3://sagemaker-us-east-1-905418336534/myvideotrainingdataset/.cache/huggingface/download/videos/academic_source/NextQA/1120/6537701021.mp4.lock to .cache/huggingface/download/videos/academic_source/NextQA/1120/6537701021.mp4.lock\u001b[0m\n",
      "\u001b[34mCompleted 15.0 KiB/~235.7 MiB (10.3 KiB/s) with ~322 file(s) remaining (calculating...)#015download: s3://sagemaker-us-east-1-905418336534/myvideotrainingdataset/.cache/huggingface/download/videos/academic_source/NextQA/1124/3134451316.mp4.metadata to .cache/huggingface/download/videos/academic_source/NextQA/1124/3134451316.mp4.metadata\u001b[0m\n",
      "\u001b[34mCompleted 15.0 KiB/~236.1 MiB (10.3 KiB/s) with ~322 file(s) remaining (calculating...)#015download: s3://sagemaker-us-east-1-905418336534/myvideotrainingdataset/.cache/huggingface/download/videos/academic_source/NextQA/1161/10622567214.mp4.lock to .cache/huggingface/download/videos/academic_source/NextQA/1161/10622567214.mp4.lock\u001b[0m\n",
      "\u001b[34mCompleted 15.0 KiB/~237.9 MiB (10.3 KiB/s) with ~322 file(s) remaining (calculating...)#015download: s3://sagemaker-us-east-1-905418336534/myvideotrainingdataset/.cache/huggingface/download/videos/academic_source/NextQA/1124/5250826364.mp4.lock to .cache/huggingface/download/videos/academic_source/NextQA/1124/5250826364.mp4.lock\u001b[0m\n",
      "\u001b[34mCompleted 15.0 KiB/~243.4 MiB (10.3 KiB/s) with ~323 file(s) remaining (calculating...)#015download: s3://sagemaker-us-east-1-905418336534/myvideotrainingdataset/.cache/huggingface/download/videos/academic_source/NextQA/1124/3134451316.mp4.lock to .cache/huggingface/download/videos/academic_source/NextQA/1124/3134451316.mp4.lock\u001b[0m\n",
      "\u001b[34mCompleted 15.0 KiB/~243.4 MiB (10.3 KiB/s) with ~322 file(s) remaining (calculating...)#015download: s3://sagemaker-us-east-1-905418336534/myvideotrainingdataset/.cache/huggingface/download/videos/academic_source/NextQA/1161/10622567214.mp4.metadata to .cache/huggingface/download/videos/academic_source/NextQA/1161/10622567214.mp4.metadata\u001b[0m\n",
      "\u001b[34mCompleted 15.0 KiB/~243.4 MiB (10.3 KiB/s) with ~321 file(s) remaining (calculating...)#015Completed 15.1 KiB/~246.6 MiB (10.2 KiB/s) with ~322 file(s) remaining (calculating...)#015Completed 15.2 KiB/~274.2 MiB (10.3 KiB/s) with ~325 file(s) remaining (calculating...)#015Completed 15.3 KiB/~274.2 MiB (10.4 KiB/s) with ~325 file(s) remaining (calculating...)#015download: s3://sagemaker-us-east-1-905418336534/myvideotrainingdataset/.cache/huggingface/download/videos/academic_source/NextQA/1164/7383417060.mp4.lock to .cache/huggingface/download/videos/academic_source/NextQA/1164/7383417060.mp4.lock\u001b[0m\n",
      "\u001b[34mCompleted 15.3 KiB/~279.4 MiB (10.4 KiB/s) with ~325 file(s) remaining (calculating...)#015Completed 15.5 KiB/~279.4 MiB (10.4 KiB/s) with ~325 file(s) remaining (calculating...)#015download: s3://sagemaker-us-east-1-905418336534/myvideotrainingdataset/.cache/huggingface/download/videos/academic_source/activitynet/v_3SLaaTD8t3Q.mp4.metadata to .cache/huggingface/download/videos/academic_source/activitynet/v_3SLaaTD8t3Q.mp4.metadata\u001b[0m\n",
      "\u001b[34mCompleted 15.5 KiB/~306.0 MiB (10.4 KiB/s) with ~329 file(s) remaining (calculating...)#015download: s3://sagemaker-us-east-1-905418336534/myvideotrainingdataset/.cache/huggingface/download/videos/academic_source/activitynet/v_2RxbcK90TeA.mp4.lock to .cache/huggingface/download/videos/academic_source/activitynet/v_2RxbcK90TeA.mp4.lock\u001b[0m\n",
      "\u001b[34mCompleted 15.5 KiB/~306.0 MiB (10.4 KiB/s) with ~328 file(s) remaining (calculating...)#015Completed 15.6 KiB/~306.0 MiB (10.4 KiB/s) with ~328 file(s) remaining (calculating...)#015download: s3://sagemaker-us-east-1-905418336534/myvideotrainingdataset/.cache/huggingface/download/videos/academic_source/NextQA/1162/7961460440.mp4.metadata to .cache/huggingface/download/videos/academic_source/NextQA/1162/7961460440.mp4.metadata\u001b[0m\n",
      "\u001b[34mCompleted 15.6 KiB/~319.6 MiB (10.4 KiB/s) with ~330 file(s) remaining (calculating...)#015download: s3://sagemaker-us-east-1-905418336534/myvideotrainingdataset/.cache/huggingface/download/videos/academic_source/activitynet/v_7wBrvMGZROQ.mp4.lock to .cache/huggingface/download/videos/academic_source/activitynet/v_7wBrvMGZROQ.mp4.lock\u001b[0m\n",
      "\u001b[34mCompleted 15.6 KiB/~319.6 MiB (10.4 KiB/s) with ~329 file(s) remaining (calculating...)#015Completed 15.7 KiB/~321.1 MiB (10.5 KiB/s) with ~330 file(s) remaining (calculating...)#015download: s3://sagemaker-us-east-1-905418336534/myvideotrainingdataset/.cache/huggingface/download/videos/academic_source/NextQA/1164/7383417060.mp4.metadata to .cache/huggingface/download/videos/academic_source/NextQA/1164/7383417060.mp4.metadata\u001b[0m\n",
      "\u001b[34mCompleted 15.7 KiB/~321.1 MiB (10.5 KiB/s) with ~329 file(s) remaining (calculating...)#015download: s3://sagemaker-us-east-1-905418336534/myvideotrainingdataset/.cache/huggingface/download/videos/academic_source/activitynet/v_7wBrvMGZROQ.mp4.metadata to .cache/huggingface/download/videos/academic_source/activitynet/v_7wBrvMGZROQ.mp4.metadata\u001b[0m\n",
      "\u001b[34mCompleted 15.7 KiB/~329.8 MiB (10.5 KiB/s) with ~330 file(s) remaining (calculating...)#015download: s3://sagemaker-us-east-1-905418336534/myvideotrainingdataset/.cache/huggingface/download/videos/academic_source/NextQA/1124/5250826364.mp4.metadata to .cache/huggingface/download/videos/academic_source/NextQA/1124/5250826364.mp4.metadata\u001b[0m\n",
      "\u001b[34mCompleted 15.7 KiB/~329.8 MiB (10.5 KiB/s) with ~329 file(s) remaining (calculating...)#015download: s3://sagemaker-us-east-1-905418336534/myvideotrainingdataset/.cache/huggingface/download/videos/academic_source/NextQA/1162/7961460440.mp4.lock to .cache/huggingface/download/videos/academic_source/NextQA/1162/7961460440.mp4.lock\u001b[0m\n",
      "\u001b[34mCompleted 15.7 KiB/~344.1 MiB (10.5 KiB/s) with ~331 file(s) remaining (calculating...)#015download: s3://sagemaker-us-east-1-905418336534/myvideotrainingdataset/.cache/huggingface/download/videos/academic_source/activitynet/v_7lNAmkaMyyg.mp4.lock to .cache/huggingface/download/videos/academic_source/activitynet/v_7lNAmkaMyyg.mp4.lock\u001b[0m\n",
      "\u001b[34mCompleted 15.7 KiB/~344.5 MiB (10.5 KiB/s) with ~331 file(s) remaining (calculating...)#015download: s3://sagemaker-us-east-1-905418336534/myvideotrainingdataset/.cache/huggingface/download/videos/academic_source/activitynet/v_92kGXXfm6ok.mp4.metadata to .cache/huggingface/download/videos/academic_source/activitynet/v_92kGXXfm6ok.mp4.metadata\u001b[0m\n",
      "\u001b[34mCompleted 15.7 KiB/~367.5 MiB (10.5 KiB/s) with ~332 file(s) remaining (calculating...)#015Completed 15.8 KiB/~369.0 MiB (10.4 KiB/s) with ~333 file(s) remaining (calculating...)#015Completed 15.9 KiB/~372.9 MiB (10.5 KiB/s) with ~334 file(s) remaining (calculating...)#015download: s3://sagemaker-us-east-1-905418336534/myvideotrainingdataset/.cache/huggingface/download/videos/academic_source/activitynet/v_AOteP9srRpw.mp4.lock to .cache/huggingface/download/videos/academic_source/activitynet/v_AOteP9srRpw.mp4.lock\u001b[0m\n",
      "\u001b[34mCompleted 15.9 KiB/~381.2 MiB (10.5 KiB/s) with ~335 file(s) remaining (calculating...)#015Completed 16.1 KiB/~383.4 MiB (10.5 KiB/s) with ~336 file(s) remaining (calculating...)#015download: s3://sagemaker-us-east-1-905418336534/myvideotrainingdataset/.cache/huggingface/download/videos/academic_source/activitynet/v_3SLaaTD8t3Q.mp4.lock to .cache/huggingface/download/videos/academic_source/activitynet/v_3SLaaTD8t3Q.mp4.lock\u001b[0m\n",
      "\u001b[34mCompleted 16.1 KiB/~383.4 MiB (10.5 KiB/s) with ~335 file(s) remaining (calculating...)#015download: s3://sagemaker-us-east-1-905418336534/myvideotrainingdataset/.cache/huggingface/download/videos/academic_source/activitynet/v_FCe1NVTbaZ4.mp4.metadata to .cache/huggingface/download/videos/academic_source/activitynet/v_FCe1NVTbaZ4.mp4.metadata\u001b[0m\n",
      "\u001b[34mCompleted 16.1 KiB/~388.3 MiB (10.5 KiB/s) with ~335 file(s) remaining (calculating...)#015download: s3://sagemaker-us-east-1-905418336534/myvideotrainingdataset/.cache/huggingface/download/videos/academic_source/activitynet/v_IcfWEKjl_AY.mp4.lock to .cache/huggingface/download/videos/academic_source/activitynet/v_IcfWEKjl_AY.mp4.lock\u001b[0m\n",
      "\u001b[34mCompleted 16.1 KiB/~389.7 MiB (10.5 KiB/s) with ~335 file(s) remaining (calculating...)#015download: s3://sagemaker-us-east-1-905418336534/myvideotrainingdataset/.cache/huggingface/download/videos/academic_source/activitynet/v_YZvdzvM-124.mp4.lock to .cache/huggingface/download/videos/academic_source/activitynet/v_YZvdzvM-124.mp4.lock\u001b[0m\n",
      "\u001b[34mCompleted 16.1 KiB/~389.7 MiB (10.5 KiB/s) with ~334 file(s) remaining (calculating...)#015download: s3://sagemaker-us-east-1-905418336534/myvideotrainingdataset/.cache/huggingface/download/videos/academic_source/activitynet/v_FCe1NVTbaZ4.mp4.lock to .cache/huggingface/download/videos/academic_source/activitynet/v_FCe1NVTbaZ4.mp4.lock\u001b[0m\n",
      "\u001b[34mCompleted 16.1 KiB/~399.3 MiB (10.5 KiB/s) with ~336 file(s) remaining (calculating...)#015download: s3://sagemaker-us-east-1-905418336534/myvideotrainingdataset/.cache/huggingface/download/videos/academic_source/activitynet/v_IcfWEKjl_AY.mp4.metadata to .cache/huggingface/download/videos/academic_source/activitynet/v_IcfWEKjl_AY.mp4.metadata\u001b[0m\n",
      "\u001b[34mCompleted 16.1 KiB/~399.3 MiB (10.5 KiB/s) with ~335 file(s) remaining (calculating...)#015download: s3://sagemaker-us-east-1-905418336534/myvideotrainingdataset/.cache/huggingface/download/videos/academic_source/activitynet/v_AOteP9srRpw.mp4.metadata to .cache/huggingface/download/videos/academic_source/activitynet/v_AOteP9srRpw.mp4.metadata\u001b[0m\n",
      "\u001b[34mCompleted 16.1 KiB/~403.1 MiB (10.5 KiB/s) with ~335 file(s) remaining (calculating...)#015Completed 16.2 KiB/~403.1 MiB (10.5 KiB/s) with ~335 file(s) remaining (calculating...)#015Completed 16.3 KiB/~405.3 MiB (10.5 KiB/s) with ~336 file(s) remaining (calculating...)#015download: s3://sagemaker-us-east-1-905418336534/myvideotrainingdataset/.cache/huggingface/download/videos/academic_source/activitynet/v_dHzX9NqyBZw.mp4.lock to .cache/huggingface/download/videos/academic_source/activitynet/v_dHzX9NqyBZw.mp4.lock\u001b[0m\n",
      "\u001b[34mCompleted 16.3 KiB/~405.3 MiB (10.5 KiB/s) with ~335 file(s) remaining (calculating...)#015download: s3://sagemaker-us-east-1-905418336534/myvideotrainingdataset/.cache/huggingface/download/videos/academic_source/activitynet/v_92kGXXfm6ok.mp4.lock to .cache/huggingface/download/videos/academic_source/activitynet/v_92kGXXfm6ok.mp4.lock\u001b[0m\n",
      "\u001b[34mCompleted 16.3 KiB/~405.3 MiB (10.5 KiB/s) with ~334 file(s) remaining (calculating...)#015download: s3://sagemaker-us-east-1-905418336534/myvideotrainingdataset/.cache/huggingface/download/videos/academic_source/activitynet/v_i2e67kStfk4.mp4.lock to .cache/huggingface/download/videos/academic_source/activitynet/v_i2e67kStfk4.mp4.lock\u001b[0m\n",
      "\u001b[34mCompleted 16.3 KiB/~405.3 MiB (10.5 KiB/s) with ~333 file(s) remaining (calculating...)#015Completed 16.4 KiB/~426.0 MiB (10.6 KiB/s) with ~336 file(s) remaining (calculating...)#015download: s3://sagemaker-us-east-1-905418336534/myvideotrainingdataset/.cache/huggingface/download/videos/academic_source/activitynet/v_yVsOoFr61x4.mp4.lock to .cache/huggingface/download/videos/academic_source/activitynet/v_yVsOoFr61x4.mp4.lock\u001b[0m\n",
      "\u001b[34mCompleted 16.4 KiB/~441.3 MiB (10.6 KiB/s) with ~336 file(s) remaining (calculating...)#015download: s3://sagemaker-us-east-1-905418336534/myvideotrainingdataset/.cache/huggingface/download/videos/academic_source/activitynet/v_dHzX9NqyBZw.mp4.metadata to .cache/huggingface/download/videos/academic_source/activitynet/v_dHzX9NqyBZw.mp4.metadata\u001b[0m\n",
      "\u001b[34mCompleted 16.4 KiB/~441.3 MiB (10.6 KiB/s) with ~335 file(s) remaining (calculating...)#015Completed 16.5 KiB/~441.3 MiB (10.6 KiB/s) with ~335 file(s) remaining (calculating...)#015Completed 16.7 KiB/~449.4 MiB (10.7 KiB/s) with ~337 file(s) remaining (calculating...)#015Completed 16.8 KiB/~449.4 MiB (10.7 KiB/s) with ~337 file(s) remaining (calculating...)#015download: s3://sagemaker-us-east-1-905418336534/myvideotrainingdataset/.cache/huggingface/download/videos/academic_source/activitynet/v_2RxbcK90TeA.mp4.metadata to .cache/huggingface/download/videos/academic_source/activitynet/v_2RxbcK90TeA.mp4.metadata\u001b[0m\n",
      "\u001b[34mCompleted 16.8 KiB/~451.3 MiB (10.7 KiB/s) with ~337 file(s) remaining (calculating...)#015Completed 16.9 KiB/~481.3 MiB (10.8 KiB/s) with ~345 file(s) remaining (calculating...)#015download: s3://sagemaker-us-east-1-905418336534/myvideotrainingdataset/.cache/huggingface/download/videos/academic_source/activitynet/v_yVsOoFr61x4.mp4.metadata to .cache/huggingface/download/videos/academic_source/activitynet/v_yVsOoFr61x4.mp4.metadata\u001b[0m\n",
      "\u001b[34mCompleted 16.9 KiB/~488.5 MiB (10.8 KiB/s) with ~348 file(s) remaining (calculating...)#015Completed 17.0 KiB/~488.5 MiB (10.8 KiB/s) with ~348 file(s) remaining (calculating...)#015download: s3://sagemaker-us-east-1-905418336534/myvideotrainingdataset/.cache/huggingface/download/videos/academic_source/activitynet/v_7lNAmkaMyyg.mp4.metadata to .cache/huggingface/download/videos/academic_source/activitynet/v_7lNAmkaMyyg.mp4.metadata\u001b[0m\n",
      "\u001b[34mCompleted 17.0 KiB/~496.8 MiB (10.8 KiB/s) with ~349 file(s) remaining (calculating...)#015Completed 17.2 KiB/505.4 MiB (10.9 KiB/s) with 354 file(s) remaining                   #015download: s3://sagemaker-us-east-1-905418336534/myvideotrainingdataset/.cache/huggingface/download/videos/academic_source/youcook2/101/ucky1nWb7LY/split_6.mp4.lock to .cache/huggingface/download/videos/academic_source/youcook2/101/ucky1nWb7LY/split_6.mp4.lock\u001b[0m\n",
      "\u001b[34mCompleted 17.2 KiB/505.4 MiB (10.9 KiB/s) with 353 file(s) remaining#015download: s3://sagemaker-us-east-1-905418336534/myvideotrainingdataset/.cache/huggingface/download/videos/academic_source/activitynet/v_sGFbsMKkoYs.mp4.lock to .cache/huggingface/download/videos/academic_source/activitynet/v_sGFbsMKkoYs.mp4.lock\u001b[0m\n",
      "\u001b[34mCompleted 17.2 KiB/505.4 MiB (10.9 KiB/s) with 352 file(s) remaining#015download: s3://sagemaker-us-east-1-905418336534/myvideotrainingdataset/.cache/huggingface/download/videos/academic_source/activitynet/v_sGFbsMKkoYs.mp4.metadata to .cache/huggingface/download/videos/academic_source/activitynet/v_sGFbsMKkoYs.mp4.metadata\u001b[0m\n",
      "\u001b[34mCompleted 17.2 KiB/505.4 MiB (10.9 KiB/s) with 351 file(s) remaining#015download: s3://sagemaker-us-east-1-905418336534/myvideotrainingdataset/.cache/huggingface/download/videos/academic_source/youcook2/101/ucky1nWb7LY/split_6.mp4.metadata to .cache/huggingface/download/videos/academic_source/youcook2/101/ucky1nWb7LY/split_6.mp4.metadata\u001b[0m\n",
      "\u001b[34mCompleted 17.2 KiB/505.4 MiB (10.9 KiB/s) with 350 file(s) remaining#015Completed 17.3 KiB/505.4 MiB (10.9 KiB/s) with 350 file(s) remaining#015download: s3://sagemaker-us-east-1-905418336534/myvideotrainingdataset/.cache/huggingface/download/videos/academic_source/youcook2/106/UHmKlQ2OkTM/split_6.mp4.metadata to .cache/huggingface/download/videos/academic_source/youcook2/106/UHmKlQ2OkTM/split_6.mp4.metadata\u001b[0m\n",
      "\u001b[34mCompleted 17.3 KiB/505.4 MiB (10.9 KiB/s) with 349 file(s) remaining#015download: s3://sagemaker-us-east-1-905418336534/myvideotrainingdataset/.cache/huggingface/download/videos/academic_source/youcook2/106/UHmKlQ2OkTM/split_6.mp4.lock to .cache/huggingface/download/videos/academic_source/youcook2/106/UHmKlQ2OkTM/split_6.mp4.lock\u001b[0m\n",
      "\u001b[34mCompleted 17.3 KiB/505.4 MiB (10.9 KiB/s) with 348 file(s) remaining#015download: s3://sagemaker-us-east-1-905418336534/myvideotrainingdataset/.cache/huggingface/download/videos/academic_source/activitynet/v_YZvdzvM-124.mp4.metadata to .cache/huggingface/download/videos/academic_source/activitynet/v_YZvdzvM-124.mp4.metadata\u001b[0m\n",
      "\u001b[34mCompleted 17.3 KiB/505.4 MiB (10.9 KiB/s) with 347 file(s) remaining#015download: s3://sagemaker-us-east-1-905418336534/myvideotrainingdataset/.cache/huggingface/download/videos/academic_source/activitynet/v_i2e67kStfk4.mp4.metadata to .cache/huggingface/download/videos/academic_source/activitynet/v_i2e67kStfk4.mp4.metadata\u001b[0m\n",
      "\u001b[34mCompleted 17.3 KiB/505.4 MiB (10.9 KiB/s) with 346 file(s) remaining#015download: s3://sagemaker-us-east-1-905418336534/myvideotrainingdataset/.cache/huggingface/download/videos/academic_source/youcook2/107/5I-_uJQ0t1o/split_3.mp4.metadata to .cache/huggingface/download/videos/academic_source/youcook2/107/5I-_uJQ0t1o/split_3.mp4.metadata\u001b[0m\n",
      "\u001b[34mCompleted 17.3 KiB/505.4 MiB (10.9 KiB/s) with 345 file(s) remaining#015download: s3://sagemaker-us-east-1-905418336534/myvideotrainingdataset/.cache/huggingface/download/videos/academic_source/youcook2/108/4zO87oc_r-c/split_8.mp4.lock to .cache/huggingface/download/videos/academic_source/youcook2/108/4zO87oc_r-c/split_8.mp4.lock\u001b[0m\n",
      "\u001b[34mCompleted 17.3 KiB/505.4 MiB (10.9 KiB/s) with 344 file(s) remaining#015Completed 17.4 KiB/505.4 MiB (10.8 KiB/s) with 344 file(s) remaining#015download: s3://sagemaker-us-east-1-905418336534/myvideotrainingdataset/.cache/huggingface/download/videos/academic_source/youcook2/107/5I-_uJQ0t1o/split_3.mp4.lock to .cache/huggingface/download/videos/academic_source/youcook2/107/5I-_uJQ0t1o/split_3.mp4.lock\u001b[0m\n",
      "\u001b[34mCompleted 17.4 KiB/505.4 MiB (10.8 KiB/s) with 343 file(s) remaining#015Completed 17.5 KiB/505.4 MiB (10.9 KiB/s) with 343 file(s) remaining#015download: s3://sagemaker-us-east-1-905418336534/myvideotrainingdataset/.cache/huggingface/download/videos/academic_source/youcook2/111/lSq6y2F35ig/split_2.mp4.lock to .cache/huggingface/download/videos/academic_source/youcook2/111/lSq6y2F35ig/split_2.mp4.lock\u001b[0m\n",
      "\u001b[34mCompleted 17.5 KiB/505.4 MiB (10.9 KiB/s) with 342 file(s) remaining#015Completed 17.6 KiB/505.4 MiB (10.9 KiB/s) with 342 file(s) remaining#015download: s3://sagemaker-us-east-1-905418336534/myvideotrainingdataset/.cache/huggingface/download/videos/academic_source/youcook2/113/GLd3aX16zBg/split_1.mp4.lock to .cache/huggingface/download/videos/academic_source/youcook2/113/GLd3aX16zBg/split_1.mp4.lock\u001b[0m\n",
      "\u001b[34mCompleted 17.6 KiB/505.4 MiB (10.9 KiB/s) with 341 file(s) remaining#015download: s3://sagemaker-us-east-1-905418336534/myvideotrainingdataset/.cache/huggingface/download/videos/academic_source/youcook2/113/dn1qrAHh7k0/split_2.mp4.metadata to .cache/huggingface/download/videos/academic_source/youcook2/113/dn1qrAHh7k0/split_2.mp4.metadata\u001b[0m\n",
      "\u001b[34mCompleted 17.6 KiB/505.4 MiB (10.9 KiB/s) with 340 file(s) remaining#015download: s3://sagemaker-us-east-1-905418336534/myvideotrainingdataset/.cache/huggingface/download/videos/academic_source/youcook2/108/4zO87oc_r-c/split_8.mp4.metadata to .cache/huggingface/download/videos/academic_source/youcook2/108/4zO87oc_r-c/split_8.mp4.metadata\u001b[0m\n",
      "\u001b[34mCompleted 17.6 KiB/505.4 MiB (10.9 KiB/s) with 339 file(s) remaining#015download: s3://sagemaker-us-east-1-905418336534/myvideotrainingdataset/.cache/huggingface/download/videos/academic_source/youcook2/115/9CUkuWWVSjE/split_0.mp4.lock to .cache/huggingface/download/videos/academic_source/youcook2/115/9CUkuWWVSjE/split_0.mp4.lock\u001b[0m\n",
      "\u001b[34mCompleted 17.6 KiB/505.4 MiB (10.9 KiB/s) with 338 file(s) remaining#015Completed 17.8 KiB/505.4 MiB (10.9 KiB/s) with 338 file(s) remaining#015Completed 17.9 KiB/505.4 MiB (11.0 KiB/s) with 338 file(s) remaining#015download: s3://sagemaker-us-east-1-905418336534/myvideotrainingdataset/.cache/huggingface/download/videos/academic_source/youcook2/113/dn1qrAHh7k0/split_2.mp4.lock to .cache/huggingface/download/videos/academic_source/youcook2/113/dn1qrAHh7k0/split_2.mp4.lock\u001b[0m\n",
      "\u001b[34mCompleted 17.9 KiB/505.4 MiB (11.0 KiB/s) with 337 file(s) remaining#015download: s3://sagemaker-us-east-1-905418336534/myvideotrainingdataset/.cache/huggingface/download/videos/academic_source/youcook2/111/lSq6y2F35ig/split_2.mp4.metadata to .cache/huggingface/download/videos/academic_source/youcook2/111/lSq6y2F35ig/split_2.mp4.metadata\u001b[0m\n",
      "\u001b[34mCompleted 17.9 KiB/505.4 MiB (11.0 KiB/s) with 336 file(s) remaining#015download: s3://sagemaker-us-east-1-905418336534/myvideotrainingdataset/.cache/huggingface/download/videos/academic_source/youcook2/117/zZysbuDEtWY/split_8.mp4.lock to .cache/huggingface/download/videos/academic_source/youcook2/117/zZysbuDEtWY/split_8.mp4.lock\u001b[0m\n",
      "\u001b[34mCompleted 17.9 KiB/505.4 MiB (11.0 KiB/s) with 335 file(s) remaining#015download: s3://sagemaker-us-east-1-905418336534/myvideotrainingdataset/.cache/huggingface/download/videos/academic_source/youcook2/117/1k64hSAAAd4/split_1.mp4.lock to .cache/huggingface/download/videos/academic_source/youcook2/117/1k64hSAAAd4/split_1.mp4.lock\u001b[0m\n",
      "\u001b[34mCompleted 17.9 KiB/505.4 MiB (11.0 KiB/s) with 334 file(s) remaining#015Completed 18.0 KiB/505.4 MiB (11.0 KiB/s) with 334 file(s) remaining#015download: s3://sagemaker-us-east-1-905418336534/myvideotrainingdataset/.cache/huggingface/download/videos/academic_source/youcook2/119/Lky6MPtNJto/split_6.mp4.lock to .cache/huggingface/download/videos/academic_source/youcook2/119/Lky6MPtNJto/split_6.mp4.lock\u001b[0m\n",
      "\u001b[34mCompleted 18.0 KiB/505.4 MiB (11.0 KiB/s) with 333 file(s) remaining#015download: s3://sagemaker-us-east-1-905418336534/myvideotrainingdataset/.cache/huggingface/download/videos/academic_source/youcook2/117/1k64hSAAAd4/split_1.mp4.metadata to .cache/huggingface/download/videos/academic_source/youcook2/117/1k64hSAAAd4/split_1.mp4.metadata\u001b[0m\n",
      "\u001b[34mCompleted 18.0 KiB/505.4 MiB (11.0 KiB/s) with 332 file(s) remaining#015download: s3://sagemaker-us-east-1-905418336534/myvideotrainingdataset/.cache/huggingface/download/videos/academic_source/youcook2/117/zZysbuDEtWY/split_8.mp4.metadata to .cache/huggingface/download/videos/academic_source/youcook2/117/zZysbuDEtWY/split_8.mp4.metadata\u001b[0m\n",
      "\u001b[34mCompleted 18.0 KiB/505.4 MiB (11.0 KiB/s) with 331 file(s) remaining#015download: s3://sagemaker-us-east-1-905418336534/myvideotrainingdataset/.cache/huggingface/download/videos/academic_source/youcook2/121/UaQ_PwDnIis/split_0.mp4.lock to .cache/huggingface/download/videos/academic_source/youcook2/121/UaQ_PwDnIis/split_0.mp4.lock\u001b[0m\n",
      "\u001b[34mCompleted 18.0 KiB/505.4 MiB (11.0 KiB/s) with 330 file(s) remaining#015Completed 18.1 KiB/505.4 MiB (11.0 KiB/s) with 330 file(s) remaining#015download: s3://sagemaker-us-east-1-905418336534/myvideotrainingdataset/.cache/huggingface/download/videos/academic_source/youcook2/113/GLd3aX16zBg/split_1.mp4.metadata to .cache/huggingface/download/videos/academic_source/youcook2/113/GLd3aX16zBg/split_1.mp4.metadata\u001b[0m\n",
      "\u001b[34mCompleted 18.1 KiB/505.4 MiB (11.0 KiB/s) with 329 file(s) remaining#015Completed 18.3 KiB/505.4 MiB (11.1 KiB/s) with 329 file(s) remaining#015Completed 18.4 KiB/505.4 MiB (11.1 KiB/s) with 329 file(s) remaining#015download: s3://sagemaker-us-east-1-905418336534/myvideotrainingdataset/.cache/huggingface/download/videos/academic_source/youcook2/121/1OtWo8cXKWM/split_3.mp4.lock to .cache/huggingface/download/videos/academic_source/youcook2/121/1OtWo8cXKWM/split_3.mp4.lock\u001b[0m\n",
      "\u001b[34mCompleted 18.4 KiB/505.4 MiB (11.1 KiB/s) with 328 file(s) remaining#015Completed 18.5 KiB/505.4 MiB (11.2 KiB/s) with 328 file(s) remaining#015download: s3://sagemaker-us-east-1-905418336534/myvideotrainingdataset/.cache/huggingface/download/videos/academic_source/youcook2/121/1OtWo8cXKWM/split_3.mp4.metadata to .cache/huggingface/download/videos/academic_source/youcook2/121/1OtWo8cXKWM/split_3.mp4.metadata\u001b[0m\n",
      "\u001b[34mCompleted 18.5 KiB/505.4 MiB (11.2 KiB/s) with 327 file(s) remaining#015download: s3://sagemaker-us-east-1-905418336534/myvideotrainingdataset/.cache/huggingface/download/videos/academic_source/youcook2/121/UaQ_PwDnIis/split_0.mp4.metadata to .cache/huggingface/download/videos/academic_source/youcook2/121/UaQ_PwDnIis/split_0.mp4.metadata\u001b[0m\n",
      "\u001b[34mCompleted 18.5 KiB/505.4 MiB (11.2 KiB/s) with 326 file(s) remaining#015Completed 18.6 KiB/505.4 MiB (11.2 KiB/s) with 326 file(s) remaining#015Completed 18.7 KiB/505.4 MiB (11.3 KiB/s) with 326 file(s) remaining#015download: s3://sagemaker-us-east-1-905418336534/myvideotrainingdataset/.cache/huggingface/download/videos/academic_source/youcook2/121/nfO0YS2dSdw/split_8.mp4.lock to .cache/huggingface/download/videos/academic_source/youcook2/121/nfO0YS2dSdw/split_8.mp4.lock\u001b[0m\n",
      "\u001b[34mCompleted 18.7 KiB/505.4 MiB (11.3 KiB/s) with 325 file(s) remaining#015download: s3://sagemaker-us-east-1-905418336534/myvideotrainingdataset/.cache/huggingface/download/videos/academic_source/youcook2/119/Lky6MPtNJto/split_6.mp4.metadata to .cache/huggingface/download/videos/academic_source/youcook2/119/Lky6MPtNJto/split_6.mp4.metadata\u001b[0m\n",
      "\u001b[34mCompleted 18.7 KiB/505.4 MiB (11.3 KiB/s) with 324 file(s) remaining#015download: s3://sagemaker-us-east-1-905418336534/myvideotrainingdataset/.cache/huggingface/download/videos/academic_source/youcook2/124/qOB709GWcE8/split_3.mp4.lock to .cache/huggingface/download/videos/academic_source/youcook2/124/qOB709GWcE8/split_3.mp4.lock\u001b[0m\n",
      "\u001b[34mCompleted 18.7 KiB/505.4 MiB (11.3 KiB/s) with 323 file(s) remaining#015download: s3://sagemaker-us-east-1-905418336534/myvideotrainingdataset/.cache/huggingface/download/videos/academic_source/youcook2/115/9CUkuWWVSjE/split_0.mp4.metadata to .cache/huggingface/download/videos/academic_source/youcook2/115/9CUkuWWVSjE/split_0.mp4.metadata\u001b[0m\n",
      "\u001b[34mCompleted 18.7 KiB/505.4 MiB (11.3 KiB/s) with 322 file(s) remaining#015download: s3://sagemaker-us-east-1-905418336534/myvideotrainingdataset/.cache/huggingface/download/videos/academic_source/youcook2/124/qOB709GWcE8/split_3.mp4.metadata to .cache/huggingface/download/videos/academic_source/youcook2/124/qOB709GWcE8/split_3.mp4.metadata\u001b[0m\n",
      "\u001b[34mCompleted 18.7 KiB/505.4 MiB (11.3 KiB/s) with 321 file(s) remaining#015download: s3://sagemaker-us-east-1-905418336534/myvideotrainingdataset/.cache/huggingface/download/videos/academic_source/youcook2/121/nfO0YS2dSdw/split_8.mp4.metadata to .cache/huggingface/download/videos/academic_source/youcook2/121/nfO0YS2dSdw/split_8.mp4.metadata\u001b[0m\n",
      "\u001b[34mCompleted 18.7 KiB/505.4 MiB (11.3 KiB/s) with 320 file(s) remaining#015download: s3://sagemaker-us-east-1-905418336534/myvideotrainingdataset/.cache/huggingface/download/videos/academic_source/youcook2/203/m7eR6vTPCxE/split_14.mp4.lock to .cache/huggingface/download/videos/academic_source/youcook2/203/m7eR6vTPCxE/split_14.mp4.lock\u001b[0m\n",
      "\u001b[34mCompleted 18.7 KiB/505.4 MiB (11.3 KiB/s) with 319 file(s) remaining#015Completed 18.9 KiB/505.4 MiB (11.3 KiB/s) with 319 file(s) remaining#015Completed 19.0 KiB/505.4 MiB (11.3 KiB/s) with 319 file(s) remaining#015Completed 19.1 KiB/505.4 MiB (11.4 KiB/s) with 319 file(s) remaining#015download: s3://sagemaker-us-east-1-905418336534/myvideotrainingdataset/.cache/huggingface/download/videos/academic_source/youcook2/207/-ORd4EBliqw/split_9.mp4.lock to .cache/huggingface/download/videos/academic_source/youcook2/207/-ORd4EBliqw/split_9.mp4.lock\u001b[0m\n",
      "\u001b[34mCompleted 19.1 KiB/505.4 MiB (11.4 KiB/s) with 318 file(s) remaining#015download: s3://sagemaker-us-east-1-905418336534/myvideotrainingdataset/.cache/huggingface/download/videos/academic_source/youcook2/202/pCTdsgv1wZ4/split_5.mp4.metadata to .cache/huggingface/download/videos/academic_source/youcook2/202/pCTdsgv1wZ4/split_5.mp4.metadata\u001b[0m\n",
      "\u001b[34mCompleted 19.1 KiB/505.4 MiB (11.4 KiB/s) with 317 file(s) remaining#015Completed 19.2 KiB/505.4 MiB (11.4 KiB/s) with 317 file(s) remaining#015Completed 19.3 KiB/505.4 MiB (11.5 KiB/s) with 317 file(s) remaining#015download: s3://sagemaker-us-east-1-905418336534/myvideotrainingdataset/.cache/huggingface/download/videos/academic_source/youcook2/202/pCTdsgv1wZ4/split_5.mp4.lock to .cache/huggingface/download/videos/academic_source/youcook2/202/pCTdsgv1wZ4/split_5.mp4.lock\u001b[0m\n",
      "\u001b[34mCompleted 19.3 KiB/505.4 MiB (11.5 KiB/s) with 316 file(s) remaining#015download: s3://sagemaker-us-east-1-905418336534/myvideotrainingdataset/.cache/huggingface/download/videos/academic_source/youcook2/207/-ORd4EBliqw/split_9.mp4.metadata to .cache/huggingface/download/videos/academic_source/youcook2/207/-ORd4EBliqw/split_9.mp4.metadata\u001b[0m\n",
      "\u001b[34mCompleted 19.3 KiB/505.4 MiB (11.5 KiB/s) with 315 file(s) remaining#015download: s3://sagemaker-us-east-1-905418336534/myvideotrainingdataset/.cache/huggingface/download/videos/academic_source/youcook2/207/MzOOayCmDkA/split_0.mp4.metadata to .cache/huggingface/download/videos/academic_source/youcook2/207/MzOOayCmDkA/split_0.mp4.metadata\u001b[0m\n",
      "\u001b[34mCompleted 19.3 KiB/505.4 MiB (11.5 KiB/s) with 314 file(s) remaining#015download: s3://sagemaker-us-east-1-905418336534/myvideotrainingdataset/.cache/huggingface/download/videos/academic_source/youcook2/213/TmbdrTVJ_Mo/split_4.mp4.lock to .cache/huggingface/download/videos/academic_source/youcook2/213/TmbdrTVJ_Mo/split_4.mp4.lock\u001b[0m\n",
      "\u001b[34mCompleted 19.3 KiB/505.4 MiB (11.5 KiB/s) with 313 file(s) remaining#015download: s3://sagemaker-us-east-1-905418336534/myvideotrainingdataset/.cache/huggingface/download/videos/academic_source/youcook2/209/Qsgz9Vr-5aU/split_0.mp4.metadata to .cache/huggingface/download/videos/academic_source/youcook2/209/Qsgz9Vr-5aU/split_0.mp4.metadata\u001b[0m\n",
      "\u001b[34mCompleted 19.3 KiB/505.4 MiB (11.5 KiB/s) with 312 file(s) remaining#015download: s3://sagemaker-us-east-1-905418336534/myvideotrainingdataset/.cache/huggingface/download/videos/academic_source/youcook2/209/Qsgz9Vr-5aU/split_0.mp4.lock to .cache/huggingface/download/videos/academic_source/youcook2/209/Qsgz9Vr-5aU/split_0.mp4.lock\u001b[0m\n",
      "\u001b[34mCompleted 19.3 KiB/505.4 MiB (11.5 KiB/s) with 311 file(s) remaining#015download: s3://sagemaker-us-east-1-905418336534/myvideotrainingdataset/.cache/huggingface/download/videos/academic_source/youcook2/203/m7eR6vTPCxE/split_14.mp4.metadata to .cache/huggingface/download/videos/academic_source/youcook2/203/m7eR6vTPCxE/split_14.mp4.metadata\u001b[0m\n",
      "\u001b[34mCompleted 19.3 KiB/505.4 MiB (11.5 KiB/s) with 310 file(s) remaining#015Completed 19.5 KiB/505.4 MiB (11.4 KiB/s) with 310 file(s) remaining#015download: s3://sagemaker-us-east-1-905418336534/myvideotrainingdataset/.cache/huggingface/download/videos/academic_source/youcook2/207/MzOOayCmDkA/split_0.mp4.lock to .cache/huggingface/download/videos/academic_source/youcook2/207/MzOOayCmDkA/split_0.mp4.lock\u001b[0m\n",
      "\u001b[34mCompleted 19.5 KiB/505.4 MiB (11.4 KiB/s) with 309 file(s) remaining#015download: s3://sagemaker-us-east-1-905418336534/myvideotrainingdataset/.cache/huggingface/download/videos/academic_source/youcook2/221/UB1_MNpdvgs/split_6.mp4.lock to .cache/huggingface/download/videos/academic_source/youcook2/221/UB1_MNpdvgs/split_6.mp4.lock\u001b[0m\n",
      "\u001b[34mCompleted 19.5 KiB/505.4 MiB (11.4 KiB/s) with 308 file(s) remaining#015Completed 19.6 KiB/505.4 MiB (11.5 KiB/s) with 308 file(s) remaining#015Completed 19.7 KiB/505.4 MiB (11.5 KiB/s) with 308 file(s) remaining#015Completed 19.8 KiB/505.4 MiB (11.6 KiB/s) with 308 file(s) remaining#015download: s3://sagemaker-us-east-1-905418336534/myvideotrainingdataset/.cache/huggingface/download/videos/academic_source/youcook2/221/FQRC8urWpew/split_2.mp4.lock to .cache/huggingface/download/videos/academic_source/youcook2/221/FQRC8urWpew/split_2.mp4.lock\u001b[0m\n",
      "\u001b[34mCompleted 19.8 KiB/505.4 MiB (11.6 KiB/s) with 307 file(s) remaining#015download: s3://sagemaker-us-east-1-905418336534/myvideotrainingdataset/.cache/huggingface/download/videos/academic_source/youcook2/222/Bn0wtnfGUA8/split_3.mp4.metadata to .cache/huggingface/download/videos/academic_source/youcook2/222/Bn0wtnfGUA8/split_3.mp4.metadata\u001b[0m\n",
      "\u001b[34mCompleted 19.8 KiB/505.4 MiB (11.6 KiB/s) with 306 file(s) remaining#015download: s3://sagemaker-us-east-1-905418336534/myvideotrainingdataset/.cache/huggingface/download/videos/academic_source/youcook2/221/UB1_MNpdvgs/split_6.mp4.metadata to .cache/huggingface/download/videos/academic_source/youcook2/221/UB1_MNpdvgs/split_6.mp4.metadata\u001b[0m\n",
      "\u001b[34mCompleted 19.8 KiB/505.4 MiB (11.6 KiB/s) with 305 file(s) remaining#015download: s3://sagemaker-us-east-1-905418336534/myvideotrainingdataset/.cache/huggingface/download/videos/academic_source/youcook2/213/TmbdrTVJ_Mo/split_4.mp4.metadata to .cache/huggingface/download/videos/academic_source/youcook2/213/TmbdrTVJ_Mo/split_4.mp4.metadata\u001b[0m\n",
      "\u001b[34mCompleted 19.8 KiB/505.4 MiB (11.6 KiB/s) with 304 file(s) remaining#015download: s3://sagemaker-us-east-1-905418336534/myvideotrainingdataset/.cache/huggingface/download/videos/academic_source/youcook2/221/FQRC8urWpew/split_2.mp4.metadata to .cache/huggingface/download/videos/academic_source/youcook2/221/FQRC8urWpew/split_2.mp4.metadata\u001b[0m\n",
      "\u001b[34mCompleted 19.8 KiB/505.4 MiB (11.6 KiB/s) with 303 file(s) remaining#015Completed 20.0 KiB/505.4 MiB (11.6 KiB/s) with 303 file(s) remaining#015Completed 20.1 KiB/505.4 MiB (11.7 KiB/s) with 303 file(s) remaining#015download: s3://sagemaker-us-east-1-905418336534/myvideotrainingdataset/.cache/huggingface/download/videos/academic_source/youcook2/225/WiliCz0XYVU/split_4.mp4.lock to .cache/huggingface/download/videos/academic_source/youcook2/225/WiliCz0XYVU/split_4.mp4.lock\u001b[0m\n",
      "\u001b[34mCompleted 20.1 KiB/505.4 MiB (11.7 KiB/s) with 302 file(s) remaining#015download: s3://sagemaker-us-east-1-905418336534/myvideotrainingdataset/.cache/huggingface/download/videos/academic_source/youcook2/222/Bn0wtnfGUA8/split_3.mp4.lock to .cache/huggingface/download/videos/academic_source/youcook2/222/Bn0wtnfGUA8/split_3.mp4.lock\u001b[0m\n",
      "\u001b[34mCompleted 20.1 KiB/505.4 MiB (11.7 KiB/s) with 301 file(s) remaining#015download: s3://sagemaker-us-east-1-905418336534/myvideotrainingdataset/.cache/huggingface/download/videos/academic_source/youcook2/226/iDMXdB88oQI/split_2.mp4.lock to .cache/huggingface/download/videos/academic_source/youcook2/226/iDMXdB88oQI/split_2.mp4.lock\u001b[0m\n",
      "\u001b[34mCompleted 20.1 KiB/505.4 MiB (11.7 KiB/s) with 300 file(s) remaining#015Completed 20.2 KiB/505.4 MiB (11.7 KiB/s) with 300 file(s) remaining#015download: s3://sagemaker-us-east-1-905418336534/myvideotrainingdataset/.cache/huggingface/download/videos/academic_source/youcook2/225/WiliCz0XYVU/split_4.mp4.metadata to .cache/huggingface/download/videos/academic_source/youcook2/225/WiliCz0XYVU/split_4.mp4.metadata\u001b[0m\n",
      "\u001b[34mCompleted 20.2 KiB/505.4 MiB (11.7 KiB/s) with 299 file(s) remaining#015download: s3://sagemaker-us-east-1-905418336534/myvideotrainingdataset/.cache/huggingface/download/videos/academic_source/youcook2/229/oNgVoSBrndw/split_3.mp4.lock to .cache/huggingface/download/videos/academic_source/youcook2/229/oNgVoSBrndw/split_3.mp4.lock\u001b[0m\n",
      "\u001b[34mCompleted 20.2 KiB/505.4 MiB (11.7 KiB/s) with 298 file(s) remaining#015download: s3://sagemaker-us-east-1-905418336534/myvideotrainingdataset/.cache/huggingface/download/videos/academic_source/youcook2/229/oNgVoSBrndw/split_3.mp4.metadata to .cache/huggingface/download/videos/academic_source/youcook2/229/oNgVoSBrndw/split_3.mp4.metadata\u001b[0m\n",
      "\u001b[34mCompleted 20.2 KiB/505.4 MiB (11.7 KiB/s) with 297 file(s) remaining#015Completed 20.3 KiB/505.4 MiB (11.7 KiB/s) with 297 file(s) remaining#015download: s3://sagemaker-us-east-1-905418336534/myvideotrainingdataset/.cache/huggingface/download/videos/academic_source/youcook2/227/ZcsshMf0NTI/split_3.mp4.lock to .cache/huggingface/download/videos/academic_source/youcook2/227/ZcsshMf0NTI/split_3.mp4.lock\u001b[0m\n",
      "\u001b[34mCompleted 20.3 KiB/505.4 MiB (11.7 KiB/s) with 296 file(s) remaining#015Completed 20.4 KiB/505.4 MiB (11.7 KiB/s) with 296 file(s) remaining#015Completed 20.6 KiB/505.4 MiB (11.8 KiB/s) with 296 file(s) remaining#015download: s3://sagemaker-us-east-1-905418336534/myvideotrainingdataset/.cache/huggingface/download/videos/academic_source/youcook2/226/iDMXdB88oQI/split_2.mp4.metadata to .cache/huggingface/download/videos/academic_source/youcook2/226/iDMXdB88oQI/split_2.mp4.metadata\u001b[0m\n",
      "\u001b[34mCompleted 20.6 KiB/505.4 MiB (11.8 KiB/s) with 295 file(s) remaining#015download: s3://sagemaker-us-east-1-905418336534/myvideotrainingdataset/.cache/huggingface/download/videos/academic_source/youcook2/303/LaouC0RQoDg/split_8.mp4.lock to .cache/huggingface/download/videos/academic_source/youcook2/303/LaouC0RQoDg/split_8.mp4.lock\u001b[0m\n",
      "\u001b[34mCompleted 20.6 KiB/505.4 MiB (11.8 KiB/s) with 294 file(s) remaining#015download: s3://sagemaker-us-east-1-905418336534/myvideotrainingdataset/.cache/huggingface/download/videos/academic_source/youcook2/227/ZcsshMf0NTI/split_3.mp4.metadata to .cache/huggingface/download/videos/academic_source/youcook2/227/ZcsshMf0NTI/split_3.mp4.metadata\u001b[0m\n",
      "\u001b[34mCompleted 20.6 KiB/505.4 MiB (11.8 KiB/s) with 293 file(s) remaining#015download: s3://sagemaker-us-east-1-905418336534/myvideotrainingdataset/.cache/huggingface/download/videos/academic_source/youcook2/302/iQjNhG92hr4/split_4.mp4.lock to .cache/huggingface/download/videos/academic_source/youcook2/302/iQjNhG92hr4/split_4.mp4.lock\u001b[0m\n",
      "\u001b[34mCompleted 20.6 KiB/505.4 MiB (11.8 KiB/s) with 292 file(s) remaining#015download: s3://sagemaker-us-east-1-905418336534/myvideotrainingdataset/.cache/huggingface/download/videos/academic_source/youcook2/303/KP-sFwyyi2k/split_1.mp4.metadata to .cache/huggingface/download/videos/academic_source/youcook2/303/KP-sFwyyi2k/split_1.mp4.metadata\u001b[0m\n",
      "\u001b[34mCompleted 20.6 KiB/505.4 MiB (11.8 KiB/s) with 291 file(s) remaining#015Completed 20.7 KiB/505.4 MiB (11.8 KiB/s) with 291 file(s) remaining#015Completed 20.8 KiB/505.4 MiB (11.8 KiB/s) with 291 file(s) remaining#015download: s3://sagemaker-us-east-1-905418336534/myvideotrainingdataset/.cache/huggingface/download/videos/academic_source/youcook2/302/iQjNhG92hr4/split_4.mp4.metadata to .cache/huggingface/download/videos/academic_source/youcook2/302/iQjNhG92hr4/split_4.mp4.metadata\u001b[0m\n",
      "\u001b[34mCompleted 20.8 KiB/505.4 MiB (11.8 KiB/s) with 290 file(s) remaining#015Completed 20.9 KiB/505.4 MiB (11.9 KiB/s) with 290 file(s) remaining#015download: s3://sagemaker-us-east-1-905418336534/myvideotrainingdataset/.cache/huggingface/download/videos/academic_source/youcook2/303/KP-sFwyyi2k/split_1.mp4.lock to .cache/huggingface/download/videos/academic_source/youcook2/303/KP-sFwyyi2k/split_1.mp4.lock\u001b[0m\n",
      "\u001b[34mCompleted 20.9 KiB/505.4 MiB (11.9 KiB/s) with 289 file(s) remaining#015download: s3://sagemaker-us-east-1-905418336534/myvideotrainingdataset/.cache/huggingface/download/videos/academic_source/youcook2/303/nrsFW3HE7yo/split_6.mp4.lock to .cache/huggingface/download/videos/academic_source/youcook2/303/nrsFW3HE7yo/split_6.mp4.lock\u001b[0m\n",
      "\u001b[34mCompleted 20.9 KiB/505.4 MiB (11.9 KiB/s) with 288 file(s) remaining#015download: s3://sagemaker-us-east-1-905418336534/myvideotrainingdataset/.cache/huggingface/download/videos/academic_source/youcook2/303/nrsFW3HE7yo/split_6.mp4.metadata to .cache/huggingface/download/videos/academic_source/youcook2/303/nrsFW3HE7yo/split_6.mp4.metadata\u001b[0m\n",
      "\u001b[34mCompleted 20.9 KiB/505.4 MiB (11.9 KiB/s) with 287 file(s) remaining#015download: s3://sagemaker-us-east-1-905418336534/myvideotrainingdataset/.cache/huggingface/download/videos/academic_source/youcook2/303/LaouC0RQoDg/split_8.mp4.metadata to .cache/huggingface/download/videos/academic_source/youcook2/303/LaouC0RQoDg/split_8.mp4.metadata\u001b[0m\n",
      "\u001b[34mCompleted 20.9 KiB/505.4 MiB (11.9 KiB/s) with 286 file(s) remaining#015download: s3://sagemaker-us-east-1-905418336534/myvideotrainingdataset/.cache/huggingface/download/videos/academic_source/youcook2/307/GrCrG-EMr8g/split_6.mp4.lock to .cache/huggingface/download/videos/academic_source/youcook2/307/GrCrG-EMr8g/split_6.mp4.lock\u001b[0m\n",
      "\u001b[34mCompleted 20.9 KiB/505.4 MiB (11.9 KiB/s) with 285 file(s) remaining#015download: s3://sagemaker-us-east-1-905418336534/myvideotrainingdataset/.cache/huggingface/download/videos/academic_source/youcook2/310/cFZPX7by9N8/split_3.mp4.lock to .cache/huggingface/download/videos/academic_source/youcook2/310/cFZPX7by9N8/split_3.mp4.lock\u001b[0m\n",
      "\u001b[34mCompleted 20.9 KiB/505.4 MiB (11.9 KiB/s) with 284 file(s) remaining#015Completed 21.1 KiB/505.4 MiB (11.9 KiB/s) with 284 file(s) remaining#015download: s3://sagemaker-us-east-1-905418336534/myvideotrainingdataset/.cache/huggingface/download/videos/academic_source/youcook2/310/cFZPX7by9N8/split_3.mp4.metadata to .cache/huggingface/download/videos/academic_source/youcook2/310/cFZPX7by9N8/split_3.mp4.metadata\u001b[0m\n",
      "\u001b[34mCompleted 21.1 KiB/505.4 MiB (11.9 KiB/s) with 283 file(s) remaining#015Completed 21.2 KiB/505.4 MiB (11.9 KiB/s) with 283 file(s) remaining#015Completed 21.3 KiB/505.4 MiB (12.0 KiB/s) with 283 file(s) remaining#015download: s3://sagemaker-us-east-1-905418336534/myvideotrainingdataset/.cache/huggingface/download/videos/academic_source/youcook2/316/FiE1KczH4pc/split_0.mp4.metadata to .cache/huggingface/download/videos/academic_source/youcook2/316/FiE1KczH4pc/split_0.mp4.metadata\u001b[0m\n",
      "\u001b[34mCompleted 21.3 KiB/505.4 MiB (12.0 KiB/s) with 282 file(s) remaining#015download: s3://sagemaker-us-east-1-905418336534/myvideotrainingdataset/.cache/huggingface/download/videos/academic_source/youcook2/316/FiE1KczH4pc/split_0.mp4.lock to .cache/huggingface/download/videos/academic_source/youcook2/316/FiE1KczH4pc/split_0.mp4.lock\u001b[0m\n",
      "\u001b[34mCompleted 21.3 KiB/505.4 MiB (12.0 KiB/s) with 281 file(s) remaining#015Completed 21.4 KiB/505.4 MiB (12.0 KiB/s) with 281 file(s) remaining#015download: s3://sagemaker-us-east-1-905418336534/myvideotrainingdataset/.cache/huggingface/download/videos/academic_source/youcook2/325/c87PnAWDbOA/split_1.mp4.lock to .cache/huggingface/download/videos/academic_source/youcook2/325/c87PnAWDbOA/split_1.mp4.lock\u001b[0m\n",
      "\u001b[34mCompleted 21.4 KiB/505.4 MiB (12.0 KiB/s) with 280 file(s) remaining#015Completed 21.5 KiB/505.4 MiB (12.0 KiB/s) with 280 file(s) remaining#015Completed 21.7 KiB/505.4 MiB (12.1 KiB/s) with 280 file(s) remaining#015download: s3://sagemaker-us-east-1-905418336534/myvideotrainingdataset/.cache/huggingface/download/videos/academic_source/youcook2/307/GrCrG-EMr8g/split_6.mp4.metadata to .cache/huggingface/download/videos/academic_source/youcook2/307/GrCrG-EMr8g/split_6.mp4.metadata\u001b[0m\n",
      "\u001b[34mCompleted 21.7 KiB/505.4 MiB (12.1 KiB/s) with 279 file(s) remaining#015download: s3://sagemaker-us-east-1-905418336534/myvideotrainingdataset/.cache/huggingface/download/videos/academic_source/youcook2/318/qH6kSDQMiFA/split_0.mp4.metadata to .cache/huggingface/download/videos/academic_source/youcook2/318/qH6kSDQMiFA/split_0.mp4.metadata\u001b[0m\n",
      "\u001b[34mCompleted 21.7 KiB/505.4 MiB (12.1 KiB/s) with 278 file(s) remaining#015download: s3://sagemaker-us-east-1-905418336534/myvideotrainingdataset/.cache/huggingface/download/videos/academic_source/youcook2/318/bpogVeh1pRw/split_1.mp4.metadata to .cache/huggingface/download/videos/academic_source/youcook2/318/bpogVeh1pRw/split_1.mp4.metadata\u001b[0m\n",
      "\u001b[34mCompleted 21.7 KiB/505.4 MiB (12.1 KiB/s) with 277 file(s) remaining#015download: s3://sagemaker-us-east-1-905418336534/myvideotrainingdataset/.cache/huggingface/download/videos/academic_source/youcook2/325/c87PnAWDbOA/split_1.mp4.metadata to .cache/huggingface/download/videos/academic_source/youcook2/325/c87PnAWDbOA/split_1.mp4.metadata\u001b[0m\n",
      "\u001b[34mCompleted 21.7 KiB/505.4 MiB (12.1 KiB/s) with 276 file(s) remaining#015download: s3://sagemaker-us-east-1-905418336534/myvideotrainingdataset/.cache/huggingface/download/videos/academic_source/youcook2/325/zia8N3EN69s/split_7.mp4.lock to .cache/huggingface/download/videos/academic_source/youcook2/325/zia8N3EN69s/split_7.mp4.lock\u001b[0m\n",
      "\u001b[34mCompleted 21.7 KiB/505.4 MiB (12.1 KiB/s) with 275 file(s) remaining#015download: s3://sagemaker-us-east-1-905418336534/myvideotrainingdataset/.cache/huggingface/download/videos/academic_source/youcook2/325/zia8N3EN69s/split_7.mp4.metadata to .cache/huggingface/download/videos/academic_source/youcook2/325/zia8N3EN69s/split_7.mp4.metadata\u001b[0m\n",
      "\u001b[34mCompleted 21.7 KiB/505.4 MiB (12.1 KiB/s) with 274 file(s) remaining#015Completed 21.8 KiB/505.4 MiB (12.1 KiB/s) with 274 file(s) remaining#015download: s3://sagemaker-us-east-1-905418336534/myvideotrainingdataset/.cache/huggingface/download/videos/academic_source/youcook2/318/bpogVeh1pRw/split_1.mp4.lock to .cache/huggingface/download/videos/academic_source/youcook2/318/bpogVeh1pRw/split_1.mp4.lock\u001b[0m\n",
      "\u001b[34mCompleted 21.8 KiB/505.4 MiB (12.1 KiB/s) with 273 file(s) remaining#015download: s3://sagemaker-us-east-1-905418336534/myvideotrainingdataset/.cache/huggingface/download/videos/academic_source/youcook2/325/Z6c8hIW7bhI/split_2.mp4.lock to .cache/huggingface/download/videos/academic_source/youcook2/325/Z6c8hIW7bhI/split_2.mp4.lock\u001b[0m\n",
      "\u001b[34mCompleted 21.8 KiB/505.4 MiB (12.1 KiB/s) with 272 file(s) remaining#015Completed 21.9 KiB/505.4 MiB (12.1 KiB/s) with 272 file(s) remaining#015Completed 22.0 KiB/505.4 MiB (12.1 KiB/s) with 272 file(s) remaining#015download: s3://sagemaker-us-east-1-905418336534/myvideotrainingdataset/.cache/huggingface/download/videos/academic_source/youcook2/318/qH6kSDQMiFA/split_0.mp4.lock to .cache/huggingface/download/videos/academic_source/youcook2/318/qH6kSDQMiFA/split_0.mp4.lock\u001b[0m\n",
      "\u001b[34mCompleted 22.0 KiB/505.4 MiB (12.1 KiB/s) with 271 file(s) remaining#015Completed 22.2 KiB/505.4 MiB (12.2 KiB/s) with 271 file(s) remaining#015download: s3://sagemaker-us-east-1-905418336534/myvideotrainingdataset/.cache/huggingface/download/videos/academic_source/youcook2/403/sb58mkT8_ak/split_4.mp4.lock to .cache/huggingface/download/videos/academic_source/youcook2/403/sb58mkT8_ak/split_4.mp4.lock\u001b[0m\n",
      "\u001b[34mCompleted 22.2 KiB/505.4 MiB (12.2 KiB/s) with 270 file(s) remaining#015download: s3://sagemaker-us-east-1-905418336534/myvideotrainingdataset/.cache/huggingface/download/videos/academic_source/youcook2/403/sb58mkT8_ak/split_4.mp4.metadata to .cache/huggingface/download/videos/academic_source/youcook2/403/sb58mkT8_ak/split_4.mp4.metadata\u001b[0m\n",
      "\u001b[34mCompleted 22.2 KiB/505.4 MiB (12.2 KiB/s) with 269 file(s) remaining#015Completed 22.3 KiB/505.4 MiB (12.2 KiB/s) with 269 file(s) remaining#015download: s3://sagemaker-us-east-1-905418336534/myvideotrainingdataset/.cache/huggingface/download/videos/academic_source/youcook2/325/Z6c8hIW7bhI/split_2.mp4.metadata to .cache/huggingface/download/videos/academic_source/youcook2/325/Z6c8hIW7bhI/split_2.mp4.metadata\u001b[0m\n",
      "\u001b[34mCompleted 22.3 KiB/505.4 MiB (12.2 KiB/s) with 268 file(s) remaining#015download: s3://sagemaker-us-east-1-905418336534/myvideotrainingdataset/.cache/huggingface/download/videos/academic_source/youcook2/401/78dIqPhgnLs/split_6.mp4.metadata to .cache/huggingface/download/videos/academic_source/youcook2/401/78dIqPhgnLs/split_6.mp4.metadata\u001b[0m\n",
      "\u001b[34mCompleted 22.3 KiB/505.4 MiB (12.2 KiB/s) with 267 file(s) remaining#015download: s3://sagemaker-us-east-1-905418336534/myvideotrainingdataset/.cache/huggingface/download/videos/academic_source/youcook2/401/78dIqPhgnLs/split_6.mp4.lock to .cache/huggingface/download/videos/academic_source/youcook2/401/78dIqPhgnLs/split_6.mp4.lock\u001b[0m\n",
      "\u001b[34mCompleted 22.3 KiB/505.4 MiB (12.2 KiB/s) with 266 file(s) remaining#015download: s3://sagemaker-us-east-1-905418336534/myvideotrainingdataset/.cache/huggingface/download/videos/academic_source/youcook2/404/zwbCD3CUFIs/split_13.mp4.metadata to .cache/huggingface/download/videos/academic_source/youcook2/404/zwbCD3CUFIs/split_13.mp4.metadata\u001b[0m\n",
      "\u001b[34mCompleted 22.3 KiB/505.4 MiB (12.2 KiB/s) with 265 file(s) remaining#015download: s3://sagemaker-us-east-1-905418336534/myvideotrainingdataset/.cache/huggingface/download/videos/academic_source/youcook2/410/gRoxcqIRXOU/split_3.mp4.lock to .cache/huggingface/download/videos/academic_source/youcook2/410/gRoxcqIRXOU/split_3.mp4.lock\u001b[0m\n",
      "\u001b[34mCompleted 22.3 KiB/505.4 MiB (12.2 KiB/s) with 264 file(s) remaining#015Completed 22.4 KiB/505.4 MiB (12.2 KiB/s) with 264 file(s) remaining#015download: s3://sagemaker-us-east-1-905418336534/myvideotrainingdataset/.cache/huggingface/download/videos/academic_source/youcook2/406/9RRHAydI_xk/split_0.mp4.metadata to .cache/huggingface/download/videos/academic_source/youcook2/406/9RRHAydI_xk/split_0.mp4.metadata\u001b[0m\n",
      "\u001b[34mCompleted 22.4 KiB/505.4 MiB (12.2 KiB/s) with 263 file(s) remaining#015Completed 22.5 KiB/505.4 MiB (12.3 KiB/s) with 263 file(s) remaining#015download: s3://sagemaker-us-east-1-905418336534/myvideotrainingdataset/.cache/huggingface/download/videos/academic_source/youcook2/410/gRoxcqIRXOU/split_3.mp4.metadata to .cache/huggingface/download/videos/academic_source/youcook2/410/gRoxcqIRXOU/split_3.mp4.metadata\u001b[0m\n",
      "\u001b[34mCompleted 22.5 KiB/505.4 MiB (12.3 KiB/s) with 262 file(s) remaining#015download: s3://sagemaker-us-east-1-905418336534/myvideotrainingdataset/.cache/huggingface/download/videos/academic_source/youcook2/406/9RRHAydI_xk/split_0.mp4.lock to .cache/huggingface/download/videos/academic_source/youcook2/406/9RRHAydI_xk/split_0.mp4.lock\u001b[0m\n",
      "\u001b[34mCompleted 22.5 KiB/505.4 MiB (12.3 KiB/s) with 261 file(s) remaining#015download: s3://sagemaker-us-east-1-905418336534/myvideotrainingdataset/.cache/huggingface/download/videos/academic_source/youcook2/404/zwbCD3CUFIs/split_13.mp4.lock to .cache/huggingface/download/videos/academic_source/youcook2/404/zwbCD3CUFIs/split_13.mp4.lock\u001b[0m\n",
      "\u001b[34mCompleted 22.5 KiB/505.4 MiB (12.3 KiB/s) with 260 file(s) remaining#015Completed 22.6 KiB/505.4 MiB (12.3 KiB/s) with 260 file(s) remaining#015download: s3://sagemaker-us-east-1-905418336534/myvideotrainingdataset/.cache/huggingface/download/videos/academic_source/youcook2/412/KUL6f9Q5ER4/split_5.mp4.lock to .cache/huggingface/download/videos/academic_source/youcook2/412/KUL6f9Q5ER4/split_5.mp4.lock\u001b[0m\n",
      "\u001b[34mCompleted 22.6 KiB/505.4 MiB (12.3 KiB/s) with 259 file(s) remaining#015Completed 22.8 KiB/505.4 MiB (12.3 KiB/s) with 259 file(s) remaining#015download: s3://sagemaker-us-east-1-905418336534/myvideotrainingdataset/.cache/huggingface/download/videos/academic_source/youcook2/412/KUL6f9Q5ER4/split_5.mp4.metadata to .cache/huggingface/download/videos/academic_source/youcook2/412/KUL6f9Q5ER4/split_5.mp4.metadata\u001b[0m\n",
      "\u001b[34mCompleted 22.8 KiB/505.4 MiB (12.3 KiB/s) with 258 file(s) remaining#015Completed 22.9 KiB/505.4 MiB (12.3 KiB/s) with 258 file(s) remaining#015download: s3://sagemaker-us-east-1-905418336534/myvideotrainingdataset/.cache/huggingface/download/videos/academic_source/youcook2/413/ny7G1uw36J0/split_2.mp4.lock to .cache/huggingface/download/videos/academic_source/youcook2/413/ny7G1uw36J0/split_2.mp4.lock\u001b[0m\n",
      "\u001b[34mCompleted 22.9 KiB/505.4 MiB (12.3 KiB/s) with 257 file(s) remaining#015download: s3://sagemaker-us-east-1-905418336534/myvideotrainingdataset/.cache/huggingface/download/videos/academic_source/youcook2/418/QuHIxCOkTAo/split_8.mp4.metadata to .cache/huggingface/download/videos/academic_source/youcook2/418/QuHIxCOkTAo/split_8.mp4.metadata\u001b[0m\n",
      "\u001b[34mCompleted 22.9 KiB/505.4 MiB (12.3 KiB/s) with 256 file(s) remaining#015download: s3://sagemaker-us-east-1-905418336534/myvideotrainingdataset/.cache/huggingface/download/videos/academic_source/youcook2/413/ny7G1uw36J0/split_2.mp4.metadata to .cache/huggingface/download/videos/academic_source/youcook2/413/ny7G1uw36J0/split_2.mp4.metadata\u001b[0m\n",
      "\u001b[34mCompleted 22.9 KiB/505.4 MiB (12.3 KiB/s) with 255 file(s) remaining#015download: s3://sagemaker-us-east-1-905418336534/myvideotrainingdataset/.cache/huggingface/download/videos/academic_source/youcook2/421/z_ZHVTqbSZo/split_3.mp4.lock to .cache/huggingface/download/videos/academic_source/youcook2/421/z_ZHVTqbSZo/split_3.mp4.lock\u001b[0m\n",
      "\u001b[34mCompleted 22.9 KiB/505.4 MiB (12.3 KiB/s) with 254 file(s) remaining#015download: s3://sagemaker-us-east-1-905418336534/myvideotrainingdataset/.cache/huggingface/download/videos/academic_source/youcook2/419/EN1Qf9vcnN0/split_3.mp4.metadata to .cache/huggingface/download/videos/academic_source/youcook2/419/EN1Qf9vcnN0/split_3.mp4.metadata\u001b[0m\n",
      "\u001b[34mCompleted 22.9 KiB/505.4 MiB (12.3 KiB/s) with 253 file(s) remaining#015download: s3://sagemaker-us-east-1-905418336534/myvideotrainingdataset/.cache/huggingface/download/videos/academic_source/youcook2/418/QuHIxCOkTAo/split_8.mp4.lock to .cache/huggingface/download/videos/academic_source/youcook2/418/QuHIxCOkTAo/split_8.mp4.lock\u001b[0m\n",
      "\u001b[34mCompleted 22.9 KiB/505.4 MiB (12.3 KiB/s) with 252 file(s) remaining#015Completed 23.0 KiB/505.4 MiB (12.3 KiB/s) with 252 file(s) remaining#015download: s3://sagemaker-us-east-1-905418336534/myvideotrainingdataset/.cache/huggingface/download/videos/academic_source/youcook2/419/EN1Qf9vcnN0/split_3.mp4.lock to .cache/huggingface/download/videos/academic_source/youcook2/419/EN1Qf9vcnN0/split_3.mp4.lock\u001b[0m\n",
      "\u001b[34mCompleted 23.0 KiB/505.4 MiB (12.3 KiB/s) with 251 file(s) remaining#015Completed 23.1 KiB/505.4 MiB (12.4 KiB/s) with 251 file(s) remaining#015download: s3://sagemaker-us-east-1-905418336534/myvideotrainingdataset/.cache/huggingface/download/videos/academic_source/youcook2/421/b56WIxbLd1c/split_4.mp4.lock to .cache/huggingface/download/videos/academic_source/youcook2/421/b56WIxbLd1c/split_4.mp4.lock\u001b[0m\n",
      "\u001b[34mCompleted 23.1 KiB/505.4 MiB (12.4 KiB/s) with 250 file(s) remaining#015download: s3://sagemaker-us-east-1-905418336534/myvideotrainingdataset/.cache/huggingface/download/videos/academic_source/youcook2/421/z_ZHVTqbSZo/split_3.mp4.metadata to .cache/huggingface/download/videos/academic_source/youcook2/421/z_ZHVTqbSZo/split_3.mp4.metadata\u001b[0m\n",
      "\u001b[34mCompleted 23.1 KiB/505.4 MiB (12.4 KiB/s) with 249 file(s) remaining#015download: s3://sagemaker-us-east-1-905418336534/myvideotrainingdataset/.cache/huggingface/download/videos/academic_source/youcook2/421/b56WIxbLd1c/split_4.mp4.metadata to .cache/huggingface/download/videos/academic_source/youcook2/421/b56WIxbLd1c/split_4.mp4.metadata\u001b[0m\n",
      "\u001b[34mCompleted 23.1 KiB/505.4 MiB (12.4 KiB/s) with 248 file(s) remaining#015Completed 23.2 KiB/505.4 MiB (12.4 KiB/s) with 248 file(s) remaining#015Completed 23.4 KiB/505.4 MiB (12.4 KiB/s) with 248 file(s) remaining#015download: s3://sagemaker-us-east-1-905418336534/myvideotrainingdataset/.cache/huggingface/download/videos/split_0.mp4.lock to .cache/huggingface/download/videos/split_0.mp4.lock\u001b[0m\n",
      "\u001b[34mCompleted 23.4 KiB/505.4 MiB (12.4 KiB/s) with 247 file(s) remaining#015Completed 23.5 KiB/505.4 MiB (12.5 KiB/s) with 247 file(s) remaining#015download: s3://sagemaker-us-east-1-905418336534/myvideotrainingdataset/.cache/huggingface/download/videos/split_0.mp4.metadata to .cache/huggingface/download/videos/split_0.mp4.metadata\u001b[0m\n",
      "\u001b[34mCompleted 23.5 KiB/505.4 MiB (12.5 KiB/s) with 246 file(s) remaining#015Completed 23.6 KiB/505.4 MiB (12.5 KiB/s) with 246 file(s) remaining#015download: s3://sagemaker-us-east-1-905418336534/myvideotrainingdataset/.cache/huggingface/download/videos/academic_source/youcook2/425/j878b3cSqEw/split_3.mp4.metadata to .cache/huggingface/download/videos/academic_source/youcook2/425/j878b3cSqEw/split_3.mp4.metadata\u001b[0m\n",
      "\u001b[34mCompleted 23.6 KiB/505.4 MiB (12.5 KiB/s) with 245 file(s) remaining#015download: s3://sagemaker-us-east-1-905418336534/myvideotrainingdataset/.cache/huggingface/download/videos/academic_source/youcook2/425/j878b3cSqEw/split_3.mp4.lock to .cache/huggingface/download/videos/academic_source/youcook2/425/j878b3cSqEw/split_3.mp4.lock\u001b[0m\n",
      "\u001b[34mCompleted 23.6 KiB/505.4 MiB (12.5 KiB/s) with 244 file(s) remaining#015download: s3://sagemaker-us-east-1-905418336534/myvideotrainingdataset/.cache/huggingface/download/videos/academic_source/youcook2/425/Bts6MvK8f9k/split_5.mp4.lock to .cache/huggingface/download/videos/academic_source/youcook2/425/Bts6MvK8f9k/split_5.mp4.lock\u001b[0m\n",
      "\u001b[34mCompleted 23.6 KiB/505.4 MiB (12.5 KiB/s) with 243 file(s) remaining#015download: s3://sagemaker-us-east-1-905418336534/myvideotrainingdataset/.cache/huggingface/download/videos/split_1.mp4.metadata to .cache/huggingface/download/videos/split_1.mp4.metadata\u001b[0m\n",
      "\u001b[34mCompleted 23.6 KiB/505.4 MiB (12.5 KiB/s) with 242 file(s) remaining#015Completed 23.7 KiB/505.4 MiB (12.5 KiB/s) with 242 file(s) remaining#015download: s3://sagemaker-us-east-1-905418336534/myvideotrainingdataset/.cache/huggingface/download/videos/split_1.mp4.lock to .cache/huggingface/download/videos/split_1.mp4.lock\u001b[0m\n",
      "\u001b[34mCompleted 23.7 KiB/505.4 MiB (12.5 KiB/s) with 241 file(s) remaining#015Completed 23.9 KiB/505.4 MiB (12.6 KiB/s) with 241 file(s) remaining#015Completed 24.0 KiB/505.4 MiB (12.6 KiB/s) with 241 file(s) remaining#015download: s3://sagemaker-us-east-1-905418336534/myvideotrainingdataset/.cache/huggingface/download/videos/split_14.mp4.lock to .cache/huggingface/download/videos/split_14.mp4.lock\u001b[0m\n",
      "\u001b[34mCompleted 24.0 KiB/505.4 MiB (12.6 KiB/s) with 240 file(s) remaining#015download: s3://sagemaker-us-east-1-905418336534/myvideotrainingdataset/.cache/huggingface/download/videos/academic_source/youcook2/425/Bts6MvK8f9k/split_5.mp4.metadata to .cache/huggingface/download/videos/academic_source/youcook2/425/Bts6MvK8f9k/split_5.mp4.metadata\u001b[0m\n",
      "\u001b[34mCompleted 24.0 KiB/505.4 MiB (12.6 KiB/s) with 239 file(s) remaining#015download: s3://sagemaker-us-east-1-905418336534/myvideotrainingdataset/.cache/huggingface/download/videos/split_14.mp4.metadata to .cache/huggingface/download/videos/split_14.mp4.metadata\u001b[0m\n",
      "\u001b[34mCompleted 24.0 KiB/505.4 MiB (12.6 KiB/s) with 238 file(s) remaining#015Completed 24.1 KiB/505.4 MiB (12.6 KiB/s) with 238 file(s) remaining#015download: s3://sagemaker-us-east-1-905418336534/myvideotrainingdataset/.cache/huggingface/download/videos/split_2.mp4.metadata to .cache/huggingface/download/videos/split_2.mp4.metadata\u001b[0m\n",
      "\u001b[34mCompleted 24.1 KiB/505.4 MiB (12.6 KiB/s) with 237 file(s) remaining#015download: s3://sagemaker-us-east-1-905418336534/myvideotrainingdataset/.cache/huggingface/download/videos/split_3.mp4.lock to .cache/huggingface/download/videos/split_3.mp4.lock\u001b[0m\n",
      "\u001b[34mCompleted 24.1 KiB/505.4 MiB (12.6 KiB/s) with 236 file(s) remaining#015Completed 24.2 KiB/505.4 MiB (12.7 KiB/s) with 236 file(s) remaining#015download: s3://sagemaker-us-east-1-905418336534/myvideotrainingdataset/.cache/huggingface/download/videos/split_3.mp4.metadata to .cache/huggingface/download/videos/split_3.mp4.metadata\u001b[0m\n",
      "\u001b[34mCompleted 24.2 KiB/505.4 MiB (12.7 KiB/s) with 235 file(s) remaining#015download: s3://sagemaker-us-east-1-905418336534/myvideotrainingdataset/.cache/huggingface/download/videos/split_10.mp4.metadata to .cache/huggingface/download/videos/split_10.mp4.metadata\u001b[0m\n",
      "\u001b[34mCompleted 24.2 KiB/505.4 MiB (12.7 KiB/s) with 234 file(s) remaining#015download: s3://sagemaker-us-east-1-905418336534/myvideotrainingdataset/.cache/huggingface/download/videos/split_4.mp4.lock to .cache/huggingface/download/videos/split_4.mp4.lock\u001b[0m\n",
      "\u001b[34mCompleted 24.2 KiB/505.4 MiB (12.7 KiB/s) with 233 file(s) remaining#015download: s3://sagemaker-us-east-1-905418336534/myvideotrainingdataset/.cache/huggingface/download/videos/split_4.mp4.metadata to .cache/huggingface/download/videos/split_4.mp4.metadata\u001b[0m\n",
      "\u001b[34mCompleted 24.2 KiB/505.4 MiB (12.7 KiB/s) with 232 file(s) remaining#015Completed 24.3 KiB/505.4 MiB (12.7 KiB/s) with 232 file(s) remaining#015download: s3://sagemaker-us-east-1-905418336534/myvideotrainingdataset/.cache/huggingface/download/videos/split_11.mp4.lock to .cache/huggingface/download/videos/split_11.mp4.lock\u001b[0m\n",
      "\u001b[34mCompleted 24.3 KiB/505.4 MiB (12.7 KiB/s) with 231 file(s) remaining#015download: s3://sagemaker-us-east-1-905418336534/myvideotrainingdataset/.cache/huggingface/download/videos/split_5.mp4.lock to .cache/huggingface/download/videos/split_5.mp4.lock\u001b[0m\n",
      "\u001b[34mCompleted 24.3 KiB/505.4 MiB (12.7 KiB/s) with 230 file(s) remaining#015download: s3://sagemaker-us-east-1-905418336534/myvideotrainingdataset/.cache/huggingface/download/videos/split_6.mp4.lock to .cache/huggingface/download/videos/split_6.mp4.lock\u001b[0m\n",
      "\u001b[34mCompleted 24.3 KiB/505.4 MiB (12.7 KiB/s) with 229 file(s) remaining#015Completed 24.5 KiB/505.4 MiB (12.7 KiB/s) with 229 file(s) remaining#015download: s3://sagemaker-us-east-1-905418336534/myvideotrainingdataset/.cache/huggingface/download/videos/split_7.mp4.lock to .cache/huggingface/download/videos/split_7.mp4.lock\u001b[0m\n",
      "\u001b[34mCompleted 24.5 KiB/505.4 MiB (12.7 KiB/s) with 228 file(s) remaining#015download: s3://sagemaker-us-east-1-905418336534/myvideotrainingdataset/.cache/huggingface/download/videos/split_5.mp4.metadata to .cache/huggingface/download/videos/split_5.mp4.metadata\u001b[0m\n",
      "\u001b[34mCompleted 24.5 KiB/505.4 MiB (12.7 KiB/s) with 227 file(s) remaining#015download: s3://sagemaker-us-east-1-905418336534/myvideotrainingdataset/.cache/huggingface/download/videos/split_9.mp4.lock to .cache/huggingface/download/videos/split_9.mp4.lock\u001b[0m\n",
      "\u001b[34mCompleted 24.5 KiB/505.4 MiB (12.7 KiB/s) with 226 file(s) remaining#015download: s3://sagemaker-us-east-1-905418336534/myvideotrainingdataset/.cache/huggingface/download/videos/split_10.mp4.lock to .cache/huggingface/download/videos/split_10.mp4.lock\u001b[0m\n",
      "\u001b[34mCompleted 24.5 KiB/505.4 MiB (12.7 KiB/s) with 225 file(s) remaining#015Completed 24.6 KiB/505.4 MiB (12.6 KiB/s) with 225 file(s) remaining#015Completed 24.7 KiB/505.4 MiB (12.7 KiB/s) with 225 file(s) remaining#015download: s3://sagemaker-us-east-1-905418336534/myvideotrainingdataset/.cache/huggingface/download/videos/split_6.mp4.metadata to .cache/huggingface/download/videos/split_6.mp4.metadata\u001b[0m\n",
      "\u001b[34mCompleted 24.7 KiB/505.4 MiB (12.7 KiB/s) with 224 file(s) remaining#015download: s3://sagemaker-us-east-1-905418336534/myvideotrainingdataset/.cache/huggingface/download/videos/split_2.mp4.lock to .cache/huggingface/download/videos/split_2.mp4.lock\u001b[0m\n",
      "\u001b[34mCompleted 24.7 KiB/505.4 MiB (12.7 KiB/s) with 223 file(s) remaining#015Completed 24.8 KiB/505.4 MiB (12.7 KiB/s) with 223 file(s) remaining#015download: s3://sagemaker-us-east-1-905418336534/myvideotrainingdataset/.cache/huggingface/download/videos/v_7lNAmkaMyyg.mp4.lock to .cache/huggingface/download/videos/v_7lNAmkaMyyg.mp4.lock\u001b[0m\n",
      "\u001b[34mCompleted 24.8 KiB/505.4 MiB (12.7 KiB/s) with 222 file(s) remaining#015Completed 25.0 KiB/505.4 MiB (12.8 KiB/s) with 222 file(s) remaining#015download: s3://sagemaker-us-east-1-905418336534/myvideotrainingdataset/.cache/huggingface/download/videos/split_9.mp4.metadata to .cache/huggingface/download/videos/split_9.mp4.metadata\u001b[0m\n",
      "\u001b[34mCompleted 25.0 KiB/505.4 MiB (12.8 KiB/s) with 221 file(s) remaining#015Completed 25.1 KiB/505.4 MiB (12.8 KiB/s) with 221 file(s) remaining#015download: s3://sagemaker-us-east-1-905418336534/myvideotrainingdataset/.cache/huggingface/download/videos/split_7.mp4.metadata to .cache/huggingface/download/videos/split_7.mp4.metadata\u001b[0m\n",
      "\u001b[34mCompleted 25.1 KiB/505.4 MiB (12.8 KiB/s) with 220 file(s) remaining#015download: s3://sagemaker-us-east-1-905418336534/myvideotrainingdataset/.cache/huggingface/download/videos/v_4W4mrswC2tA.mp4.lock to .cache/huggingface/download/videos/v_4W4mrswC2tA.mp4.lock\u001b[0m\n",
      "\u001b[34mCompleted 25.1 KiB/505.4 MiB (12.8 KiB/s) with 219 file(s) remaining#015download: s3://sagemaker-us-east-1-905418336534/myvideotrainingdataset/.cache/huggingface/download/videos/v_oZTFplEHVDo.mp4.metadata to .cache/huggingface/download/videos/v_oZTFplEHVDo.mp4.metadata\u001b[0m\n",
      "\u001b[34mCompleted 25.1 KiB/505.4 MiB (12.8 KiB/s) with 218 file(s) remaining#015download: s3://sagemaker-us-east-1-905418336534/myvideotrainingdataset/.cache/huggingface/download/videos/split_8.mp4.metadata to .cache/huggingface/download/videos/split_8.mp4.metadata\u001b[0m\n",
      "\u001b[34mCompleted 25.1 KiB/505.4 MiB (12.8 KiB/s) with 217 file(s) remaining#015download: s3://sagemaker-us-east-1-905418336534/myvideotrainingdataset/.cache/huggingface/download/videos/split_8.mp4.lock to .cache/huggingface/download/videos/split_8.mp4.lock\u001b[0m\n",
      "\u001b[34mCompleted 25.1 KiB/505.4 MiB (12.8 KiB/s) with 216 file(s) remaining#015download: s3://sagemaker-us-east-1-905418336534/myvideotrainingdataset/.cache/huggingface/download/videos/v_oZTFplEHVDo.mp4.lock to .cache/huggingface/download/videos/v_oZTFplEHVDo.mp4.lock\u001b[0m\n",
      "\u001b[34mCompleted 25.1 KiB/505.4 MiB (12.8 KiB/s) with 215 file(s) remaining#015download: s3://sagemaker-us-east-1-905418336534/myvideotrainingdataset/.cache/huggingface/download/videos/split_11.mp4.metadata to .cache/huggingface/download/videos/split_11.mp4.metadata\u001b[0m\n",
      "\u001b[34mCompleted 25.1 KiB/505.4 MiB (12.8 KiB/s) with 214 file(s) remaining#015Completed 25.2 KiB/505.4 MiB (12.8 KiB/s) with 214 file(s) remaining#015download: s3://sagemaker-us-east-1-905418336534/myvideotrainingdataset/.cache/huggingface/download/videos/v_7lNAmkaMyyg.mp4.metadata to .cache/huggingface/download/videos/v_7lNAmkaMyyg.mp4.metadata\u001b[0m\n",
      "\u001b[34mCompleted 25.2 KiB/505.4 MiB (12.8 KiB/s) with 213 file(s) remaining#015Completed 27.6 KiB/505.4 MiB (13.9 KiB/s) with 213 file(s) remaining#015download: s3://sagemaker-us-east-1-905418336534/myvideotrainingdataset/.gitattributes to ./.gitattributes\u001b[0m\n",
      "\u001b[34mCompleted 27.6 KiB/505.4 MiB (13.9 KiB/s) with 212 file(s) remaining#015Completed 27.7 KiB/505.4 MiB (14.0 KiB/s) with 212 file(s) remaining#015download: s3://sagemaker-us-east-1-905418336534/myvideotrainingdataset/.cache/huggingface/download/videos/v_4W4mrswC2tA.mp4.metadata to .cache/huggingface/download/videos/v_4W4mrswC2tA.mp4.metadata\u001b[0m\n",
      "\u001b[34mCompleted 27.7 KiB/505.4 MiB (14.0 KiB/s) with 211 file(s) remaining#015Completed 65.0 KiB/505.4 MiB (32.7 KiB/s) with 211 file(s) remaining#015Completed 65.3 KiB/505.4 MiB (32.9 KiB/s) with 211 file(s) remaining#015download: s3://sagemaker-us-east-1-905418336534/myvideotrainingdataset/README.md to ./README.md\u001b[0m\n",
      "\u001b[34mCompleted 65.3 KiB/505.4 MiB (32.9 KiB/s) with 210 file(s) remaining#015download: s3://sagemaker-us-east-1-905418336534/myvideotrainingdataset/train.jsonl to ./train.jsonl\u001b[0m\n",
      "\u001b[34mCompleted 65.3 KiB/505.4 MiB (32.9 KiB/s) with 209 file(s) remaining#015Completed 69.9 KiB/505.4 MiB (34.8 KiB/s) with 209 file(s) remaining#015download: s3://sagemaker-us-east-1-905418336534/myvideotrainingdataset/validation.jsonl to ./validation.jsonl\u001b[0m\n",
      "\u001b[34mCompleted 69.9 KiB/505.4 MiB (34.8 KiB/s) with 208 file(s) remaining#015Completed 73.9 KiB/505.4 MiB (36.7 KiB/s) with 208 file(s) remaining#015download: s3://sagemaker-us-east-1-905418336534/myvideotrainingdataset/test.jsonl to ./test.jsonl\u001b[0m\n",
      "\u001b[34mCompleted 73.9 KiB/505.4 MiB (36.7 KiB/s) with 207 file(s) remaining#015Completed 78.9 KiB/505.4 MiB (38.8 KiB/s) with 207 file(s) remaining#015download: s3://sagemaker-us-east-1-905418336534/myvideotrainingdataset/vanilla-qwen2-vl-2b-instruct-response.jsonl to ./vanilla-qwen2-vl-2b-instruct-response.jsonl\u001b[0m\n",
      "\u001b[34mCompleted 78.9 KiB/505.4 MiB (38.8 KiB/s) with 206 file(s) remaining#015Completed 79.0 KiB/505.4 MiB (38.6 KiB/s) with 206 file(s) remaining#015download: s3://sagemaker-us-east-1-905418336534/myvideotrainingdataset/.cache/huggingface/download/videos/v_q5tYHwZLRYU.mp4.metadata to .cache/huggingface/download/videos/v_q5tYHwZLRYU.mp4.metadata\u001b[0m\n",
      "\u001b[34mCompleted 79.0 KiB/505.4 MiB (38.6 KiB/s) with 205 file(s) remaining#015Completed 335.0 KiB/505.4 MiB (163.3 KiB/s) with 205 file(s) remaining#015Completed 591.0 KiB/505.4 MiB (287.9 KiB/s) with 205 file(s) remaining#015Completed 847.0 KiB/505.4 MiB (412.5 KiB/s) with 205 file(s) remaining#015Completed 1.1 MiB/505.4 MiB (535.2 KiB/s) with 205 file(s) remaining  #015download: s3://sagemaker-us-east-1-905418336534/myvideotrainingdataset/videos/2400900222.mp4 to videos/2400900222.mp4\u001b[0m\n",
      "\u001b[34mCompleted 1.1 MiB/505.4 MiB (535.2 KiB/s) with 204 file(s) remaining#015Completed 1.3 MiB/505.4 MiB (658.2 KiB/s) with 204 file(s) remaining#015Completed 1.6 MiB/505.4 MiB (781.7 KiB/s) with 204 file(s) remaining#015Completed 1.8 MiB/505.4 MiB (905.6 KiB/s) with 204 file(s) remaining#015Completed 2.1 MiB/505.4 MiB (1.0 MiB/s) with 204 file(s) remaining  #015Completed 2.3 MiB/505.4 MiB (1.1 MiB/s) with 204 file(s) remaining  #015Completed 2.6 MiB/505.4 MiB (1.2 MiB/s) with 204 file(s) remaining  #015Completed 2.6 MiB/505.4 MiB (1.3 MiB/s) with 204 file(s) remaining  #015download: s3://sagemaker-us-east-1-905418336534/myvideotrainingdataset/videos/1KKYX.mp4 to videos/1KKYX.mp4\u001b[0m\n",
      "\u001b[34mCompleted 2.6 MiB/505.4 MiB (1.3 MiB/s) with 203 file(s) remaining#015download: s3://sagemaker-us-east-1-905418336534/myvideotrainingdataset/.cache/huggingface/download/videos/v_q5tYHwZLRYU.mp4.lock to .cache/huggingface/download/videos/v_q5tYHwZLRYU.mp4.lock\u001b[0m\n",
      "\u001b[34mCompleted 2.6 MiB/505.4 MiB (1.3 MiB/s) with 202 file(s) remaining#015Completed 2.9 MiB/505.4 MiB (1.4 MiB/s) with 202 file(s) remaining#015Completed 3.1 MiB/505.4 MiB (1.5 MiB/s) with 202 file(s) remaining#015Completed 3.4 MiB/505.4 MiB (1.6 MiB/s) with 202 file(s) remaining#015Completed 3.6 MiB/505.4 MiB (1.7 MiB/s) with 202 file(s) remaining#015Completed 3.9 MiB/505.4 MiB (1.9 MiB/s) with 202 file(s) remaining#015Completed 4.1 MiB/505.4 MiB (2.0 MiB/s) with 202 file(s) remaining#015Completed 4.2 MiB/505.4 MiB (2.0 MiB/s) with 202 file(s) remaining#015download: s3://sagemaker-us-east-1-905418336534/myvideotrainingdataset/videos/03M0K.mp4 to videos/03M0K.mp4\u001b[0m\n",
      "\u001b[34mCompleted 4.2 MiB/505.4 MiB (2.0 MiB/s) with 201 file(s) remaining#015Completed 4.4 MiB/505.4 MiB (2.1 MiB/s) with 201 file(s) remaining#015Completed 4.7 MiB/505.4 MiB (2.3 MiB/s) with 201 file(s) remaining#015Completed 4.9 MiB/505.4 MiB (2.4 MiB/s) with 201 file(s) remaining#015Completed 5.2 MiB/505.4 MiB (2.5 MiB/s) with 201 file(s) remaining#015Completed 5.4 MiB/505.4 MiB (2.6 MiB/s) with 201 file(s) remaining#015Completed 5.7 MiB/505.4 MiB (2.7 MiB/s) with 201 file(s) remaining#015Completed 5.9 MiB/505.4 MiB (2.8 MiB/s) with 201 file(s) remaining#015Completed 6.2 MiB/505.4 MiB (3.0 MiB/s) with 201 file(s) remaining#015Completed 6.4 MiB/505.4 MiB (3.1 MiB/s) with 201 file(s) remaining#015Completed 6.7 MiB/505.4 MiB (3.2 MiB/s) with 201 file(s) remaining#015Completed 6.9 MiB/505.4 MiB (3.3 MiB/s) with 201 file(s) remaining#015download: s3://sagemaker-us-east-1-905418336534/myvideotrainingdataset/videos/1ECM2.mp4 to videos/1ECM2.mp4\u001b[0m\n",
      "\u001b[34mCompleted 6.9 MiB/505.4 MiB (3.3 MiB/s) with 200 file(s) remaining#015Completed 7.0 MiB/505.4 MiB (3.4 MiB/s) with 200 file(s) remaining#015download: s3://sagemaker-us-east-1-905418336534/myvideotrainingdataset/videos/2632387219.mp4 to videos/2632387219.mp4\u001b[0m\n",
      "\u001b[34mCompleted 7.0 MiB/505.4 MiB (3.4 MiB/s) with 199 file(s) remaining#015Completed 7.3 MiB/505.4 MiB (3.5 MiB/s) with 199 file(s) remaining#015Completed 7.5 MiB/505.4 MiB (3.6 MiB/s) with 199 file(s) remaining#015Completed 7.8 MiB/505.4 MiB (3.7 MiB/s) with 199 file(s) remaining#015Completed 8.0 MiB/505.4 MiB (3.8 MiB/s) with 199 file(s) remaining#015Completed 8.3 MiB/505.4 MiB (3.9 MiB/s) with 199 file(s) remaining#015Completed 8.3 MiB/505.4 MiB (4.0 MiB/s) with 199 file(s) remaining#015download: s3://sagemaker-us-east-1-905418336534/myvideotrainingdataset/videos/2IX2Z.mp4 to videos/2IX2Z.mp4\u001b[0m\n",
      "\u001b[34mCompleted 8.3 MiB/505.4 MiB (4.0 MiB/s) with 198 file(s) remaining#015Completed 8.6 MiB/505.4 MiB (4.1 MiB/s) with 198 file(s) remaining#015Completed 8.8 MiB/505.4 MiB (4.2 MiB/s) with 198 file(s) remaining#015Completed 9.1 MiB/505.4 MiB (4.3 MiB/s) with 198 file(s) remaining#015Completed 9.3 MiB/505.4 MiB (4.4 MiB/s) with 198 file(s) remaining#015Completed 9.6 MiB/505.4 MiB (4.5 MiB/s) with 198 file(s) remaining#015Completed 9.8 MiB/505.4 MiB (4.7 MiB/s) with 198 file(s) remaining#015Completed 10.1 MiB/505.4 MiB (4.8 MiB/s) with 198 file(s) remaining#015Completed 10.3 MiB/505.4 MiB (4.9 MiB/s) with 198 file(s) remaining#015Completed 10.6 MiB/505.4 MiB (5.0 MiB/s) with 198 file(s) remaining#015Completed 10.8 MiB/505.4 MiB (5.1 MiB/s) with 198 file(s) remaining#015Completed 11.1 MiB/505.4 MiB (5.2 MiB/s) with 198 file(s) remaining#015Completed 11.3 MiB/505.4 MiB (5.3 MiB/s) with 198 file(s) remaining#015Completed 11.6 MiB/505.4 MiB (5.5 MiB/s) with 198 file(s) remaining#015Completed 11.8 MiB/505.4 MiB (5.6 MiB/s) with 198 file(s) remaining#015Completed 12.1 MiB/505.4 MiB (5.7 MiB/s) with 198 file(s) remaining#015Completed 12.3 MiB/505.4 MiB (5.8 MiB/s) with 198 file(s) remaining#015Completed 12.6 MiB/505.4 MiB (5.9 MiB/s) with 198 file(s) remaining#015download: s3://sagemaker-us-east-1-905418336534/myvideotrainingdataset/videos/07LG5.mp4 to videos/07LG5.mp4\u001b[0m\n",
      "\u001b[34mCompleted 12.6 MiB/505.4 MiB (5.9 MiB/s) with 197 file(s) remaining#015Completed 12.8 MiB/505.4 MiB (6.0 MiB/s) with 197 file(s) remaining#015Completed 13.1 MiB/505.4 MiB (6.1 MiB/s) with 197 file(s) remaining#015Completed 13.3 MiB/505.4 MiB (6.3 MiB/s) with 197 file(s) remaining#015Completed 13.3 MiB/505.4 MiB (6.3 MiB/s) with 197 file(s) remaining#015download: s3://sagemaker-us-east-1-905418336534/myvideotrainingdataset/videos/2QI8F.mp4 to videos/2QI8F.mp4\u001b[0m\n",
      "\u001b[34mCompleted 13.3 MiB/505.4 MiB (6.3 MiB/s) with 196 file(s) remaining#015Completed 13.6 MiB/505.4 MiB (6.3 MiB/s) with 196 file(s) remaining#015Completed 13.8 MiB/505.4 MiB (6.4 MiB/s) with 196 file(s) remaining#015Completed 14.1 MiB/505.4 MiB (6.5 MiB/s) with 196 file(s) remaining#015Completed 14.3 MiB/505.4 MiB (6.7 MiB/s) with 196 file(s) remaining#015Completed 14.6 MiB/505.4 MiB (6.8 MiB/s) with 196 file(s) remaining#015Completed 14.8 MiB/505.4 MiB (6.9 MiB/s) with 196 file(s) remaining#015Completed 15.1 MiB/505.4 MiB (7.0 MiB/s) with 196 file(s) remaining#015Completed 15.3 MiB/505.4 MiB (7.1 MiB/s) with 196 file(s) remaining#015Completed 15.6 MiB/505.4 MiB (7.2 MiB/s) with 196 file(s) remaining#015Completed 15.8 MiB/505.4 MiB (7.3 MiB/s) with 196 file(s) remaining#015Completed 16.1 MiB/505.4 MiB (7.4 MiB/s) with 196 file(s) remaining#015Completed 16.3 MiB/505.4 MiB (7.6 MiB/s) with 196 file(s) remaining#015Completed 16.5 MiB/505.4 MiB (7.6 MiB/s) with 196 file(s) remaining#015Completed 16.8 MiB/505.4 MiB (7.8 MiB/s) with 196 file(s) remaining#015download: s3://sagemaker-us-east-1-905418336534/myvideotrainingdataset/videos/3643922241.mp4 to videos/3643922241.mp4\u001b[0m\n",
      "\u001b[34mCompleted 16.8 MiB/505.4 MiB (7.8 MiB/s) with 195 file(s) remaining#015Completed 17.0 MiB/505.4 MiB (7.9 MiB/s) with 195 file(s) remaining#015Completed 17.3 MiB/505.4 MiB (8.0 MiB/s) with 195 file(s) remaining#015Completed 17.5 MiB/505.4 MiB (8.1 MiB/s) with 195 file(s) remaining#015Completed 17.8 MiB/505.4 MiB (8.2 MiB/s) with 195 file(s) remaining#015Completed 18.0 MiB/505.4 MiB (8.3 MiB/s) with 195 file(s) remaining#015Completed 18.3 MiB/505.4 MiB (8.4 MiB/s) with 195 file(s) remaining#015Completed 18.5 MiB/505.4 MiB (8.5 MiB/s) with 195 file(s) remaining#015download: s3://sagemaker-us-east-1-905418336534/myvideotrainingdataset/videos/2PREF.mp4 to videos/2PREF.mp4\u001b[0m\n",
      "\u001b[34mCompleted 18.5 MiB/505.4 MiB (8.5 MiB/s) with 194 file(s) remaining#015Completed 18.7 MiB/505.4 MiB (8.6 MiB/s) with 194 file(s) remaining#015Completed 19.0 MiB/505.4 MiB (8.7 MiB/s) with 194 file(s) remaining#015Completed 19.2 MiB/505.4 MiB (8.8 MiB/s) with 194 file(s) remaining#015Completed 19.4 MiB/505.4 MiB (8.9 MiB/s) with 194 file(s) remaining#015download: s3://sagemaker-us-east-1-905418336534/myvideotrainingdataset/videos/4360431067.mp4 to videos/4360431067.mp4\u001b[0m\n",
      "\u001b[34mCompleted 19.4 MiB/505.4 MiB (8.9 MiB/s) with 193 file(s) remaining#015Completed 19.7 MiB/505.4 MiB (9.0 MiB/s) with 193 file(s) remaining#015Completed 19.9 MiB/505.4 MiB (9.1 MiB/s) with 193 file(s) remaining#015Completed 20.2 MiB/505.4 MiB (9.2 MiB/s) with 193 file(s) remaining#015Completed 20.4 MiB/505.4 MiB (9.3 MiB/s) with 193 file(s) remaining#015Completed 20.7 MiB/505.4 MiB (9.4 MiB/s) with 193 file(s) remaining#015Completed 20.9 MiB/505.4 MiB (9.5 MiB/s) with 193 file(s) remaining#015Completed 21.2 MiB/505.4 MiB (9.7 MiB/s) with 193 file(s) remaining#015Completed 21.4 MiB/505.4 MiB (9.8 MiB/s) with 193 file(s) remaining#015Completed 21.7 MiB/505.4 MiB (9.9 MiB/s) with 193 file(s) remaining#015Completed 21.9 MiB/505.4 MiB (10.0 MiB/s) with 193 file(s) remaining#015Completed 22.2 MiB/505.4 MiB (10.1 MiB/s) with 193 file(s) remaining#015Completed 22.4 MiB/505.4 MiB (10.2 MiB/s) with 193 file(s) remaining#015Completed 22.7 MiB/505.4 MiB (10.3 MiB/s) with 193 file(s) remaining#015Completed 22.9 MiB/505.4 MiB (10.4 MiB/s) with 193 file(s) remaining#015Completed 23.2 MiB/505.4 MiB (10.5 MiB/s) with 193 file(s) remaining#015Completed 23.4 MiB/505.4 MiB (10.7 MiB/s) with 193 file(s) remaining#015Completed 23.7 MiB/505.4 MiB (10.7 MiB/s) with 193 file(s) remaining#015Completed 23.9 MiB/505.4 MiB (10.8 MiB/s) with 193 file(s) remaining#015Completed 24.2 MiB/505.4 MiB (10.9 MiB/s) with 193 file(s) remaining#015Completed 24.4 MiB/505.4 MiB (11.0 MiB/s) with 193 file(s) remaining#015Completed 24.7 MiB/505.4 MiB (11.2 MiB/s) with 193 file(s) remaining#015Completed 24.9 MiB/505.4 MiB (11.3 MiB/s) with 193 file(s) remaining#015Completed 25.2 MiB/505.4 MiB (11.4 MiB/s) with 193 file(s) remaining#015Completed 25.4 MiB/505.4 MiB (11.5 MiB/s) with 193 file(s) remaining#015Completed 25.7 MiB/505.4 MiB (11.6 MiB/s) with 193 file(s) remaining#015Completed 25.7 MiB/505.4 MiB (11.6 MiB/s) with 193 file(s) remaining#015download: s3://sagemaker-us-east-1-905418336534/myvideotrainingdataset/videos/4931493992.mp4 to videos/4931493992.mp4\u001b[0m\n",
      "\u001b[34mCompleted 25.7 MiB/505.4 MiB (11.6 MiB/s) with 192 file(s) remaining#015Completed 26.0 MiB/505.4 MiB (11.7 MiB/s) with 192 file(s) remaining#015Completed 26.2 MiB/505.4 MiB (11.8 MiB/s) with 192 file(s) remaining#015Completed 26.5 MiB/505.4 MiB (11.9 MiB/s) with 192 file(s) remaining#015Completed 26.7 MiB/505.4 MiB (11.9 MiB/s) with 192 file(s) remaining#015Completed 26.8 MiB/505.4 MiB (12.0 MiB/s) with 192 file(s) remaining#015download: s3://sagemaker-us-east-1-905418336534/myvideotrainingdataset/videos/4DZB6.mp4 to videos/4DZB6.mp4\u001b[0m\n",
      "\u001b[34mCompleted 26.8 MiB/505.4 MiB (12.0 MiB/s) with 191 file(s) remaining#015Completed 27.1 MiB/505.4 MiB (12.0 MiB/s) with 191 file(s) remaining#015Completed 27.3 MiB/505.4 MiB (12.1 MiB/s) with 191 file(s) remaining#015Completed 27.6 MiB/505.4 MiB (12.2 MiB/s) with 191 file(s) remaining#015Completed 27.8 MiB/505.4 MiB (12.3 MiB/s) with 191 file(s) remaining#015Completed 28.1 MiB/505.4 MiB (12.4 MiB/s) with 191 file(s) remaining#015Completed 28.2 MiB/505.4 MiB (12.5 MiB/s) with 191 file(s) remaining#015download: s3://sagemaker-us-east-1-905418336534/myvideotrainingdataset/videos/5235909148.mp4 to videos/5235909148.mp4\u001b[0m\n",
      "\u001b[34mCompleted 28.2 MiB/505.4 MiB (12.5 MiB/s) with 190 file(s) remaining#015Completed 28.5 MiB/505.4 MiB (12.6 MiB/s) with 190 file(s) remaining#015Completed 28.7 MiB/505.4 MiB (12.7 MiB/s) with 190 file(s) remaining#015Completed 28.8 MiB/505.4 MiB (12.8 MiB/s) with 190 file(s) remaining#015download: s3://sagemaker-us-east-1-905418336534/myvideotrainingdataset/videos/3564576864.mp4 to videos/3564576864.mp4\u001b[0m\n",
      "\u001b[34mCompleted 28.8 MiB/505.4 MiB (12.8 MiB/s) with 189 file(s) remaining#015Completed 29.1 MiB/505.4 MiB (12.8 MiB/s) with 189 file(s) remaining#015Completed 29.3 MiB/505.4 MiB (12.9 MiB/s) with 189 file(s) remaining#015Completed 29.6 MiB/505.4 MiB (13.0 MiB/s) with 189 file(s) remaining#015Completed 29.8 MiB/505.4 MiB (13.1 MiB/s) with 189 file(s) remaining#015Completed 30.1 MiB/505.4 MiB (13.2 MiB/s) with 189 file(s) remaining#015Completed 30.3 MiB/505.4 MiB (13.3 MiB/s) with 189 file(s) remaining#015Completed 30.6 MiB/505.4 MiB (13.4 MiB/s) with 189 file(s) remaining#015Completed 30.8 MiB/505.4 MiB (13.5 MiB/s) with 189 file(s) remaining#015Completed 31.1 MiB/505.4 MiB (13.6 MiB/s) with 189 file(s) remaining#015Completed 31.2 MiB/505.4 MiB (13.7 MiB/s) with 189 file(s) remaining#015download: s3://sagemaker-us-east-1-905418336534/myvideotrainingdataset/videos/5987365500.mp4 to videos/5987365500.mp4\u001b[0m\n",
      "\u001b[34mCompleted 31.2 MiB/505.4 MiB (13.7 MiB/s) with 188 file(s) remaining#015Completed 31.5 MiB/505.4 MiB (13.8 MiB/s) with 188 file(s) remaining#015Completed 31.7 MiB/505.4 MiB (13.9 MiB/s) with 188 file(s) remaining#015Completed 32.0 MiB/505.4 MiB (14.0 MiB/s) with 188 file(s) remaining#015Completed 32.2 MiB/505.4 MiB (14.1 MiB/s) with 188 file(s) remaining#015Completed 32.5 MiB/505.4 MiB (14.2 MiB/s) with 188 file(s) remaining#015Completed 32.7 MiB/505.4 MiB (14.3 MiB/s) with 188 file(s) remaining#015Completed 33.0 MiB/505.4 MiB (14.4 MiB/s) with 188 file(s) remaining#015Completed 33.2 MiB/505.4 MiB (14.5 MiB/s) with 188 file(s) remaining#015download: s3://sagemaker-us-east-1-905418336534/myvideotrainingdataset/videos/6913450810.mp4 to videos/6913450810.mp4\u001b[0m\n",
      "\u001b[34mCompleted 33.2 MiB/505.4 MiB (14.5 MiB/s) with 187 file(s) remaining#015Completed 33.4 MiB/505.4 MiB (14.5 MiB/s) with 187 file(s) remaining#015download: s3://sagemaker-us-east-1-905418336534/myvideotrainingdataset/videos/4004287747.mp4 to videos/4004287747.mp4\u001b[0m\n",
      "\u001b[34mCompleted 33.4 MiB/505.4 MiB (14.5 MiB/s) with 186 file(s) remaining#015Completed 33.6 MiB/505.4 MiB (14.5 MiB/s) with 186 file(s) remaining#015Completed 33.9 MiB/505.4 MiB (14.6 MiB/s) with 186 file(s) remaining#015Completed 34.1 MiB/505.4 MiB (14.7 MiB/s) with 186 file(s) remaining#015Completed 34.3 MiB/505.4 MiB (14.8 MiB/s) with 186 file(s) remaining#015download: s3://sagemaker-us-east-1-905418336534/myvideotrainingdataset/videos/11106167914.mp4 to videos/11106167914.mp4\u001b[0m\n",
      "\u001b[34mCompleted 34.3 MiB/505.4 MiB (14.8 MiB/s) with 185 file(s) remaining#015Completed 34.5 MiB/505.4 MiB (14.9 MiB/s) with 185 file(s) remaining#015Completed 34.8 MiB/505.4 MiB (15.0 MiB/s) with 185 file(s) remaining#015Completed 35.0 MiB/505.4 MiB (15.1 MiB/s) with 185 file(s) remaining#015Completed 35.1 MiB/505.4 MiB (15.1 MiB/s) with 185 file(s) remaining#015download: s3://sagemaker-us-east-1-905418336534/myvideotrainingdataset/videos/6LGTT.mp4 to videos/6LGTT.mp4\u001b[0m\n",
      "\u001b[34mCompleted 35.1 MiB/505.4 MiB (15.1 MiB/s) with 184 file(s) remaining#015Completed 35.4 MiB/505.4 MiB (15.2 MiB/s) with 184 file(s) remaining#015Completed 35.6 MiB/505.4 MiB (15.3 MiB/s) with 184 file(s) remaining#015Completed 35.9 MiB/505.4 MiB (15.4 MiB/s) with 184 file(s) remaining#015Completed 36.1 MiB/505.4 MiB (15.5 MiB/s) with 184 file(s) remaining#015Completed 36.4 MiB/505.4 MiB (15.6 MiB/s) with 184 file(s) remaining#015Completed 36.4 MiB/505.4 MiB (15.6 MiB/s) with 184 file(s) remaining#015download: s3://sagemaker-us-east-1-905418336534/myvideotrainingdataset/videos/1YC83.mp4 to videos/1YC83.mp4\u001b[0m\n",
      "\u001b[34mCompleted 36.4 MiB/505.4 MiB (15.6 MiB/s) with 183 file(s) remaining#015Completed 36.6 MiB/505.4 MiB (15.6 MiB/s) with 183 file(s) remaining#015Completed 36.7 MiB/505.4 MiB (15.6 MiB/s) with 183 file(s) remaining#015download: s3://sagemaker-us-east-1-905418336534/myvideotrainingdataset/videos/10576728026.mp4 to videos/10576728026.mp4\u001b[0m\n",
      "\u001b[34mCompleted 36.7 MiB/505.4 MiB (15.6 MiB/s) with 182 file(s) remaining#015Completed 36.9 MiB/505.4 MiB (15.7 MiB/s) with 182 file(s) remaining#015Completed 37.2 MiB/505.4 MiB (15.8 MiB/s) with 182 file(s) remaining#015Completed 37.4 MiB/505.4 MiB (15.9 MiB/s) with 182 file(s) remaining#015Completed 37.7 MiB/505.4 MiB (16.0 MiB/s) with 182 file(s) remaining#015Completed 37.7 MiB/505.4 MiB (16.0 MiB/s) with 182 file(s) remaining#015download: s3://sagemaker-us-east-1-905418336534/myvideotrainingdataset/videos/7748596700.mp4 to videos/7748596700.mp4\u001b[0m\n",
      "\u001b[34mCompleted 37.7 MiB/505.4 MiB (16.0 MiB/s) with 181 file(s) remaining#015Completed 38.0 MiB/505.4 MiB (16.0 MiB/s) with 181 file(s) remaining#015Completed 38.2 MiB/505.4 MiB (16.0 MiB/s) with 181 file(s) remaining#015Completed 38.5 MiB/505.4 MiB (16.1 MiB/s) with 181 file(s) remaining#015Completed 38.7 MiB/505.4 MiB (16.3 MiB/s) with 181 file(s) remaining#015Completed 39.0 MiB/505.4 MiB (16.3 MiB/s) with 181 file(s) remaining#015Completed 39.2 MiB/505.4 MiB (16.4 MiB/s) with 181 file(s) remaining#015Completed 39.5 MiB/505.4 MiB (16.5 MiB/s) with 181 file(s) remaining#015Completed 39.7 MiB/505.4 MiB (16.6 MiB/s) with 181 file(s) remaining#015Completed 40.0 MiB/505.4 MiB (16.7 MiB/s) with 181 file(s) remaining#015Completed 40.2 MiB/505.4 MiB (16.8 MiB/s) with 181 file(s) remaining#015Completed 40.5 MiB/505.4 MiB (16.9 MiB/s) with 181 file(s) remaining#015Completed 40.7 MiB/505.4 MiB (17.0 MiB/s) with 181 file(s) remaining#015Completed 41.0 MiB/505.4 MiB (17.1 MiB/s) with 181 file(s) remaining#015Completed 41.2 MiB/505.4 MiB (17.2 MiB/s) with 181 file(s) remaining#015Completed 41.5 MiB/505.4 MiB (17.3 MiB/s) with 181 file(s) remaining#015Completed 41.7 MiB/505.4 MiB (17.4 MiB/s) with 181 file(s) remaining#015Completed 42.0 MiB/505.4 MiB (17.5 MiB/s) with 181 file(s) remaining#015Completed 42.2 MiB/505.4 MiB (17.6 MiB/s) with 181 file(s) remaining#015Completed 42.5 MiB/505.4 MiB (17.7 MiB/s) with 181 file(s) remaining#015Completed 42.7 MiB/505.4 MiB (17.8 MiB/s) with 181 file(s) remaining#015Completed 42.9 MiB/505.4 MiB (17.9 MiB/s) with 181 file(s) remaining#015Completed 43.2 MiB/505.4 MiB (18.0 MiB/s) with 181 file(s) remaining#015download: s3://sagemaker-us-east-1-905418336534/myvideotrainingdataset/videos/42SEP.mp4 to videos/42SEP.mp4\u001b[0m\n",
      "\u001b[34mCompleted 43.2 MiB/505.4 MiB (18.0 MiB/s) with 180 file(s) remaining#015Completed 43.4 MiB/505.4 MiB (18.0 MiB/s) with 180 file(s) remaining#015Completed 43.7 MiB/505.4 MiB (18.1 MiB/s) with 180 file(s) remaining#015Completed 43.9 MiB/505.4 MiB (18.2 MiB/s) with 180 file(s) remaining#015Completed 44.2 MiB/505.4 MiB (18.3 MiB/s) with 180 file(s) remaining#015Completed 44.4 MiB/505.4 MiB (18.4 MiB/s) with 180 file(s) remaining#015Completed 44.7 MiB/505.4 MiB (18.5 MiB/s) with 180 file(s) remaining#015Completed 44.9 MiB/505.4 MiB (18.6 MiB/s) with 180 file(s) remaining#015Completed 45.2 MiB/505.4 MiB (18.7 MiB/s) with 180 file(s) remaining#015Completed 45.4 MiB/505.4 MiB (18.8 MiB/s) with 180 file(s) remaining#015Completed 45.7 MiB/505.4 MiB (18.9 MiB/s) with 180 file(s) remaining#015Completed 45.9 MiB/505.4 MiB (19.0 MiB/s) with 180 file(s) remaining#015Completed 46.2 MiB/505.4 MiB (19.1 MiB/s) with 180 file(s) remaining#015Completed 46.4 MiB/505.4 MiB (19.2 MiB/s) with 180 file(s) remaining#015Completed 46.7 MiB/505.4 MiB (19.3 MiB/s) with 180 file(s) remaining#015Completed 46.9 MiB/505.4 MiB (19.4 MiB/s) with 180 file(s) remaining#015Completed 47.2 MiB/505.4 MiB (19.4 MiB/s) with 180 file(s) remaining#015Completed 47.4 MiB/505.4 MiB (19.5 MiB/s) with 180 file(s) remaining#015Completed 47.7 MiB/505.4 MiB (19.5 MiB/s) with 180 file(s) remaining#015Completed 47.8 MiB/505.4 MiB (19.6 MiB/s) with 180 file(s) remaining#015download: s3://sagemaker-us-east-1-905418336534/myvideotrainingdataset/videos/2403134475.mp4 to videos/2403134475.mp4\u001b[0m\n",
      "\u001b[34mCompleted 47.8 MiB/505.4 MiB (19.6 MiB/s) with 179 file(s) remaining#015Completed 48.0 MiB/505.4 MiB (19.6 MiB/s) with 179 file(s) remaining#015Completed 48.3 MiB/505.4 MiB (19.7 MiB/s) with 179 file(s) remaining#015Completed 48.5 MiB/505.4 MiB (19.8 MiB/s) with 179 file(s) remaining#015Completed 48.8 MiB/505.4 MiB (19.8 MiB/s) with 179 file(s) remaining#015Completed 49.0 MiB/505.4 MiB (19.9 MiB/s) with 179 file(s) remaining#015Completed 49.3 MiB/505.4 MiB (20.0 MiB/s) with 179 file(s) remaining#015Completed 49.5 MiB/505.4 MiB (20.1 MiB/s) with 179 file(s) remaining#015Completed 49.8 MiB/505.4 MiB (20.2 MiB/s) with 179 file(s) remaining#015Completed 50.0 MiB/505.4 MiB (20.3 MiB/s) with 179 file(s) remaining#015Completed 50.3 MiB/505.4 MiB (20.4 MiB/s) with 179 file(s) remaining#015Completed 50.5 MiB/505.4 MiB (20.5 MiB/s) with 179 file(s) remaining#015Completed 50.8 MiB/505.4 MiB (20.6 MiB/s) with 179 file(s) remaining#015Completed 51.0 MiB/505.4 MiB (20.7 MiB/s) with 179 file(s) remaining#015Completed 51.3 MiB/505.4 MiB (20.8 MiB/s) with 179 file(s) remaining#015Completed 51.5 MiB/505.4 MiB (20.9 MiB/s) with 179 file(s) remaining#015Completed 51.8 MiB/505.4 MiB (21.0 MiB/s) with 179 file(s) remaining#015Completed 52.0 MiB/505.4 MiB (21.1 MiB/s) with 179 file(s) remaining#015Completed 52.3 MiB/505.4 MiB (21.2 MiB/s) with 179 file(s) remaining#015Completed 52.5 MiB/505.4 MiB (21.2 MiB/s) with 179 file(s) remaining#015Completed 52.7 MiB/505.4 MiB (21.3 MiB/s) with 179 file(s) remaining#015download: s3://sagemaker-us-east-1-905418336534/myvideotrainingdataset/videos/ARKBT.mp4 to videos/ARKBT.mp4\u001b[0m\n",
      "\u001b[34mCompleted 52.7 MiB/505.4 MiB (21.3 MiB/s) with 178 file(s) remaining#015Completed 53.0 MiB/505.4 MiB (21.3 MiB/s) with 178 file(s) remaining#015Completed 53.2 MiB/505.4 MiB (21.3 MiB/s) with 178 file(s) remaining#015Completed 53.5 MiB/505.4 MiB (21.4 MiB/s) with 178 file(s) remaining#015Completed 53.7 MiB/505.4 MiB (21.5 MiB/s) with 178 file(s) remaining#015Completed 54.0 MiB/505.4 MiB (21.6 MiB/s) with 178 file(s) remaining#015download: s3://sagemaker-us-east-1-905418336534/myvideotrainingdataset/videos/BIV8M.mp4 to videos/BIV8M.mp4\u001b[0m\n",
      "\u001b[34mCompleted 54.0 MiB/505.4 MiB (21.6 MiB/s) with 177 file(s) remaining#015Completed 54.2 MiB/505.4 MiB (21.7 MiB/s) with 177 file(s) remaining#015Completed 54.5 MiB/505.4 MiB (21.8 MiB/s) with 177 file(s) remaining#015Completed 54.7 MiB/505.4 MiB (21.9 MiB/s) with 177 file(s) remaining#015Completed 55.0 MiB/505.4 MiB (22.0 MiB/s) with 177 file(s) remaining#015Completed 55.2 MiB/505.4 MiB (22.1 MiB/s) with 177 file(s) remaining#015Completed 55.5 MiB/505.4 MiB (22.2 MiB/s) with 177 file(s) remaining#015Completed 55.7 MiB/505.4 MiB (22.3 MiB/s) with 177 file(s) remaining#015Completed 55.9 MiB/505.4 MiB (22.3 MiB/s) with 177 file(s) remaining#015download: s3://sagemaker-us-east-1-905418336534/myvideotrainingdataset/videos/8Y7P5.mp4 to videos/8Y7P5.mp4\u001b[0m\n",
      "\u001b[34mCompleted 55.9 MiB/505.4 MiB (22.3 MiB/s) with 176 file(s) remaining#015Completed 56.2 MiB/505.4 MiB (22.1 MiB/s) with 176 file(s) remaining#015Completed 56.4 MiB/505.4 MiB (22.2 MiB/s) with 176 file(s) remaining#015Completed 56.7 MiB/505.4 MiB (22.3 MiB/s) with 176 file(s) remaining#015Completed 56.9 MiB/505.4 MiB (22.4 MiB/s) with 176 file(s) remaining#015Completed 57.2 MiB/505.4 MiB (22.5 MiB/s) with 176 file(s) remaining#015Completed 57.4 MiB/505.4 MiB (22.5 MiB/s) with 176 file(s) remaining#015Completed 57.7 MiB/505.4 MiB (22.6 MiB/s) with 176 file(s) remaining#015Completed 57.9 MiB/505.4 MiB (22.7 MiB/s) with 176 file(s) remaining#015Completed 58.2 MiB/505.4 MiB (22.8 MiB/s) with 176 file(s) remaining#015Completed 58.4 MiB/505.4 MiB (22.9 MiB/s) with 176 file(s) remaining#015Completed 58.7 MiB/505.4 MiB (23.0 MiB/s) with 176 file(s) remaining#015Completed 58.7 MiB/505.4 MiB (23.0 MiB/s) with 176 file(s) remaining#015download: s3://sagemaker-us-east-1-905418336534/myvideotrainingdataset/videos/AVH53.mp4 to videos/AVH53.mp4\u001b[0m\n",
      "\u001b[34mCompleted 58.7 MiB/505.4 MiB (23.0 MiB/s) with 175 file(s) remaining#015Completed 58.9 MiB/505.4 MiB (23.1 MiB/s) with 175 file(s) remaining#015Completed 59.2 MiB/505.4 MiB (23.2 MiB/s) with 175 file(s) remaining#015Completed 59.2 MiB/505.4 MiB (23.2 MiB/s) with 175 file(s) remaining#015download: s3://sagemaker-us-east-1-905418336534/myvideotrainingdataset/videos/B7SZJ.mp4 to videos/B7SZJ.mp4\u001b[0m\n",
      "\u001b[34mCompleted 59.2 MiB/505.4 MiB (23.2 MiB/s) with 174 file(s) remaining#015Completed 59.4 MiB/505.4 MiB (23.3 MiB/s) with 174 file(s) remaining#015Completed 59.7 MiB/505.4 MiB (23.4 MiB/s) with 174 file(s) remaining#015Completed 59.8 MiB/505.4 MiB (23.4 MiB/s) with 174 file(s) remaining#015download: s3://sagemaker-us-east-1-905418336534/myvideotrainingdataset/videos/7004267908.mp4 to videos/7004267908.mp4\u001b[0m\n",
      "\u001b[34mCompleted 59.8 MiB/505.4 MiB (23.4 MiB/s) with 173 file(s) remaining#015Completed 60.0 MiB/505.4 MiB (23.3 MiB/s) with 173 file(s) remaining#015Completed 60.3 MiB/505.4 MiB (23.4 MiB/s) with 173 file(s) remaining#015Completed 60.5 MiB/505.4 MiB (23.5 MiB/s) with 173 file(s) remaining#015Completed 60.8 MiB/505.4 MiB (23.6 MiB/s) with 173 file(s) remaining#015Completed 61.0 MiB/505.4 MiB (23.7 MiB/s) with 173 file(s) remaining#015download: s3://sagemaker-us-east-1-905418336534/myvideotrainingdataset/videos/DVPL2.mp4 to videos/DVPL2.mp4\u001b[0m\n",
      "\u001b[34mCompleted 61.0 MiB/505.4 MiB (23.7 MiB/s) with 172 file(s) remaining#015Completed 61.2 MiB/505.4 MiB (23.5 MiB/s) with 172 file(s) remaining#015Completed 61.5 MiB/505.4 MiB (23.6 MiB/s) with 172 file(s) remaining#015Completed 61.7 MiB/505.4 MiB (23.7 MiB/s) with 172 file(s) remaining#015download: s3://sagemaker-us-east-1-905418336534/myvideotrainingdataset/videos/DXVRB.mp4 to videos/DXVRB.mp4\u001b[0m\n",
      "\u001b[34mCompleted 61.7 MiB/505.4 MiB (23.7 MiB/s) with 171 file(s) remaining#015Completed 61.9 MiB/505.4 MiB (23.6 MiB/s) with 171 file(s) remaining#015Completed 62.2 MiB/505.4 MiB (23.7 MiB/s) with 171 file(s) remaining#015Completed 62.4 MiB/505.4 MiB (23.8 MiB/s) with 171 file(s) remaining#015Completed 62.7 MiB/505.4 MiB (23.9 MiB/s) with 171 file(s) remaining#015download: s3://sagemaker-us-east-1-905418336534/myvideotrainingdataset/videos/9963900426.mp4 to videos/9963900426.mp4\u001b[0m\n",
      "\u001b[34mCompleted 62.7 MiB/505.4 MiB (23.9 MiB/s) with 170 file(s) remaining#015Completed 62.9 MiB/505.4 MiB (23.9 MiB/s) with 170 file(s) remaining#015Completed 63.2 MiB/505.4 MiB (24.0 MiB/s) with 170 file(s) remaining#015Completed 63.3 MiB/505.4 MiB (24.1 MiB/s) with 170 file(s) remaining#015Completed 63.5 MiB/505.4 MiB (24.2 MiB/s) with 170 file(s) remaining#015download: s3://sagemaker-us-east-1-905418336534/myvideotrainingdataset/videos/4329580374.mp4 to videos/4329580374.mp4\u001b[0m\n",
      "\u001b[34mCompleted 63.5 MiB/505.4 MiB (24.2 MiB/s) with 169 file(s) remaining#015Completed 63.8 MiB/505.4 MiB (24.2 MiB/s) with 169 file(s) remaining#015Completed 64.0 MiB/505.4 MiB (24.3 MiB/s) with 169 file(s) remaining#015Completed 64.2 MiB/505.4 MiB (24.4 MiB/s) with 169 file(s) remaining#015download: s3://sagemaker-us-east-1-905418336534/myvideotrainingdataset/videos/ES10S.mp4 to videos/ES10S.mp4\u001b[0m\n",
      "\u001b[34mCompleted 64.2 MiB/505.4 MiB (24.4 MiB/s) with 168 file(s) remaining#015Completed 64.4 MiB/505.4 MiB (24.4 MiB/s) with 168 file(s) remaining#015Completed 64.7 MiB/505.4 MiB (24.5 MiB/s) with 168 file(s) remaining#015Completed 64.9 MiB/505.4 MiB (24.6 MiB/s) with 168 file(s) remaining#015Completed 65.2 MiB/505.4 MiB (24.7 MiB/s) with 168 file(s) remaining#015download: s3://sagemaker-us-east-1-905418336534/myvideotrainingdataset/videos/4255049031.mp4 to videos/4255049031.mp4\u001b[0m\n",
      "\u001b[34mCompleted 65.2 MiB/505.4 MiB (24.7 MiB/s) with 167 file(s) remaining#015Completed 65.4 MiB/505.4 MiB (24.8 MiB/s) with 167 file(s) remaining#015Completed 65.7 MiB/505.4 MiB (24.8 MiB/s) with 167 file(s) remaining#015Completed 65.9 MiB/505.4 MiB (24.9 MiB/s) with 167 file(s) remaining#015Completed 66.1 MiB/505.4 MiB (25.0 MiB/s) with 167 file(s) remaining#015download: s3://sagemaker-us-east-1-905418336534/myvideotrainingdataset/videos/CX5ZM.mp4 to videos/CX5ZM.mp4\u001b[0m\n",
      "\u001b[34mCompleted 66.1 MiB/505.4 MiB (25.0 MiB/s) with 166 file(s) remaining#015download: s3://sagemaker-us-east-1-905418336534/myvideotrainingdataset/videos/FYHTC.mp4 to videos/FYHTC.mp4\u001b[0m\n",
      "\u001b[34mCompleted 66.1 MiB/505.4 MiB (25.0 MiB/s) with 165 file(s) remaining#015Completed 66.4 MiB/505.4 MiB (24.9 MiB/s) with 165 file(s) remaining#015Completed 66.6 MiB/505.4 MiB (25.0 MiB/s) with 165 file(s) remaining#015download: s3://sagemaker-us-east-1-905418336534/myvideotrainingdataset/videos/6TVXT.mp4 to videos/6TVXT.mp4\u001b[0m\n",
      "\u001b[34mCompleted 66.6 MiB/505.4 MiB (25.0 MiB/s) with 164 file(s) remaining#015Completed 66.8 MiB/505.4 MiB (24.9 MiB/s) with 164 file(s) remaining#015Completed 67.1 MiB/505.4 MiB (25.0 MiB/s) with 164 file(s) remaining#015Completed 67.3 MiB/505.4 MiB (25.1 MiB/s) with 164 file(s) remaining#015Completed 67.5 MiB/505.4 MiB (25.1 MiB/s) with 164 file(s) remaining#015download: s3://sagemaker-us-east-1-905418336534/myvideotrainingdataset/videos/HP3HV.mp4 to videos/HP3HV.mp4\u001b[0m\n",
      "\u001b[34mCompleted 67.5 MiB/505.4 MiB (25.1 MiB/s) with 163 file(s) remaining#015Completed 67.7 MiB/505.4 MiB (25.2 MiB/s) with 163 file(s) remaining#015Completed 67.9 MiB/505.4 MiB (25.2 MiB/s) with 163 file(s) remaining#015download: s3://sagemaker-us-east-1-905418336534/myvideotrainingdataset/videos/KEPDQ.mp4 to videos/KEPDQ.mp4\u001b[0m\n",
      "\u001b[34mCompleted 67.9 MiB/505.4 MiB (25.2 MiB/s) with 162 file(s) remaining#015Completed 68.1 MiB/505.4 MiB (25.3 MiB/s) with 162 file(s) remaining#015Completed 68.2 MiB/505.4 MiB (25.3 MiB/s) with 162 file(s) remaining#015download: s3://sagemaker-us-east-1-905418336534/myvideotrainingdataset/videos/9338319433.mp4 to videos/9338319433.mp4\u001b[0m\n",
      "\u001b[34mCompleted 68.2 MiB/505.4 MiB (25.3 MiB/s) with 161 file(s) remaining#015Completed 68.5 MiB/505.4 MiB (25.3 MiB/s) with 161 file(s) remaining#015Completed 68.7 MiB/505.4 MiB (25.4 MiB/s) with 161 file(s) remaining#015Completed 69.0 MiB/505.4 MiB (25.5 MiB/s) with 161 file(s) remaining#015Completed 69.2 MiB/505.4 MiB (25.5 MiB/s) with 161 file(s) remaining#015Completed 69.5 MiB/505.4 MiB (25.6 MiB/s) with 161 file(s) remaining#015Completed 69.5 MiB/505.4 MiB (25.7 MiB/s) with 161 file(s) remaining#015download: s3://sagemaker-us-east-1-905418336534/myvideotrainingdataset/videos/IRBPD.mp4 to videos/IRBPD.mp4\u001b[0m\n",
      "\u001b[34mCompleted 69.5 MiB/505.4 MiB (25.7 MiB/s) with 160 file(s) remaining#015Completed 69.8 MiB/505.4 MiB (25.7 MiB/s) with 160 file(s) remaining#015Completed 70.0 MiB/505.4 MiB (25.8 MiB/s) with 160 file(s) remaining#015Completed 70.3 MiB/505.4 MiB (25.9 MiB/s) with 160 file(s) remaining#015Completed 70.5 MiB/505.4 MiB (26.0 MiB/s) with 160 file(s) remaining#015Completed 70.8 MiB/505.4 MiB (26.1 MiB/s) with 160 file(s) remaining#015Completed 71.0 MiB/505.4 MiB (26.1 MiB/s) with 160 file(s) remaining#015Completed 71.0 MiB/505.4 MiB (26.1 MiB/s) with 160 file(s) remaining#015download: s3://sagemaker-us-east-1-905418336534/myvideotrainingdataset/videos/MLS4T.mp4 to videos/MLS4T.mp4\u001b[0m\n",
      "\u001b[34mCompleted 71.0 MiB/505.4 MiB (26.1 MiB/s) with 159 file(s) remaining#015Completed 71.3 MiB/505.4 MiB (26.1 MiB/s) with 159 file(s) remaining#015Completed 71.5 MiB/505.4 MiB (26.2 MiB/s) with 159 file(s) remaining#015Completed 71.8 MiB/505.4 MiB (26.3 MiB/s) with 159 file(s) remaining#015Completed 72.0 MiB/505.4 MiB (26.4 MiB/s) with 159 file(s) remaining#015Completed 72.2 MiB/505.4 MiB (26.4 MiB/s) with 159 file(s) remaining#015download: s3://sagemaker-us-east-1-905418336534/myvideotrainingdataset/videos/MME0V.mp4 to videos/MME0V.mp4\u001b[0m\n",
      "\u001b[34mCompleted 72.2 MiB/505.4 MiB (26.4 MiB/s) with 158 file(s) remaining#015Completed 72.5 MiB/505.4 MiB (26.4 MiB/s) with 158 file(s) remaining#015Completed 72.7 MiB/505.4 MiB (26.5 MiB/s) with 158 file(s) remaining#015Completed 73.0 MiB/505.4 MiB (26.6 MiB/s) with 158 file(s) remaining#015Completed 73.2 MiB/505.4 MiB (26.7 MiB/s) with 158 file(s) remaining#015Completed 73.4 MiB/505.4 MiB (26.7 MiB/s) with 158 file(s) remaining#015Completed 73.7 MiB/505.4 MiB (26.8 MiB/s) with 158 file(s) remaining#015download: s3://sagemaker-us-east-1-905418336534/myvideotrainingdataset/videos/B2NAS.mp4 to videos/B2NAS.mp4\u001b[0m\n",
      "\u001b[34mCompleted 73.7 MiB/505.4 MiB (26.8 MiB/s) with 157 file(s) remaining#015Completed 73.9 MiB/505.4 MiB (26.9 MiB/s) with 157 file(s) remaining#015Completed 74.2 MiB/505.4 MiB (27.0 MiB/s) with 157 file(s) remaining#015Completed 74.4 MiB/505.4 MiB (27.0 MiB/s) with 157 file(s) remaining#015Completed 74.7 MiB/505.4 MiB (27.1 MiB/s) with 157 file(s) remaining#015Completed 74.9 MiB/505.4 MiB (27.2 MiB/s) with 157 file(s) remaining#015Completed 75.2 MiB/505.4 MiB (27.3 MiB/s) with 157 file(s) remaining#015Completed 75.4 MiB/505.4 MiB (27.4 MiB/s) with 157 file(s) remaining#015Completed 75.5 MiB/505.4 MiB (27.4 MiB/s) with 157 file(s) remaining#015Completed 75.7 MiB/505.4 MiB (27.5 MiB/s) with 157 file(s) remaining#015download: s3://sagemaker-us-east-1-905418336534/myvideotrainingdataset/videos/PK2F0.mp4 to videos/PK2F0.mp4\u001b[0m\n",
      "\u001b[34mCompleted 75.7 MiB/505.4 MiB (27.5 MiB/s) with 156 file(s) remaining#015Completed 76.0 MiB/505.4 MiB (27.6 MiB/s) with 156 file(s) remaining#015Completed 76.2 MiB/505.4 MiB (27.6 MiB/s) with 156 file(s) remaining#015Completed 76.3 MiB/505.4 MiB (27.6 MiB/s) with 156 file(s) remaining#015download: s3://sagemaker-us-east-1-905418336534/myvideotrainingdataset/videos/OTIA2.mp4 to videos/OTIA2.mp4\u001b[0m\n",
      "\u001b[34mCompleted 76.3 MiB/505.4 MiB (27.6 MiB/s) with 155 file(s) remaining#015Completed 76.5 MiB/505.4 MiB (27.7 MiB/s) with 155 file(s) remaining#015Completed 76.8 MiB/505.4 MiB (27.8 MiB/s) with 155 file(s) remaining#015Completed 77.0 MiB/505.4 MiB (27.9 MiB/s) with 155 file(s) remaining#015Completed 77.3 MiB/505.4 MiB (27.9 MiB/s) with 155 file(s) remaining#015Completed 77.5 MiB/505.4 MiB (28.0 MiB/s) with 155 file(s) remaining#015Completed 77.8 MiB/505.4 MiB (28.1 MiB/s) with 155 file(s) remaining#015Completed 77.8 MiB/505.4 MiB (28.1 MiB/s) with 155 file(s) remaining#015download: s3://sagemaker-us-east-1-905418336534/myvideotrainingdataset/videos/MZK2X.mp4 to videos/MZK2X.mp4\u001b[0m\n",
      "\u001b[34mCompleted 77.8 MiB/505.4 MiB (28.1 MiB/s) with 154 file(s) remaining#015Completed 78.1 MiB/505.4 MiB (28.2 MiB/s) with 154 file(s) remaining#015Completed 78.3 MiB/505.4 MiB (28.3 MiB/s) with 154 file(s) remaining#015Completed 78.6 MiB/505.4 MiB (28.3 MiB/s) with 154 file(s) remaining#015Completed 78.8 MiB/505.4 MiB (28.4 MiB/s) with 154 file(s) remaining#015Completed 79.0 MiB/505.4 MiB (28.5 MiB/s) with 154 file(s) remaining#015download: s3://sagemaker-us-east-1-905418336534/myvideotrainingdataset/videos/DFEG2.mp4 to videos/DFEG2.mp4\u001b[0m\n",
      "\u001b[34mCompleted 79.0 MiB/505.4 MiB (28.5 MiB/s) with 153 file(s) remaining#015Completed 79.2 MiB/505.4 MiB (28.5 MiB/s) with 153 file(s) remaining#015Completed 79.5 MiB/505.4 MiB (28.6 MiB/s) with 153 file(s) remaining#015Completed 79.7 MiB/505.4 MiB (28.7 MiB/s) with 153 file(s) remaining#015Completed 80.0 MiB/505.4 MiB (28.7 MiB/s) with 153 file(s) remaining#015Completed 80.2 MiB/505.4 MiB (28.8 MiB/s) with 153 file(s) remaining#015Completed 80.3 MiB/505.4 MiB (28.8 MiB/s) with 153 file(s) remaining#015download: s3://sagemaker-us-east-1-905418336534/myvideotrainingdataset/videos/NSUHV.mp4 to videos/NSUHV.mp4\u001b[0m\n",
      "\u001b[34mCompleted 80.3 MiB/505.4 MiB (28.8 MiB/s) with 152 file(s) remaining#015Completed 80.5 MiB/505.4 MiB (28.9 MiB/s) with 152 file(s) remaining#015Completed 80.8 MiB/505.4 MiB (28.9 MiB/s) with 152 file(s) remaining#015Completed 81.0 MiB/505.4 MiB (29.0 MiB/s) with 152 file(s) remaining#015download: s3://sagemaker-us-east-1-905418336534/myvideotrainingdataset/videos/T38JM.mp4 to videos/T38JM.mp4\u001b[0m\n",
      "\u001b[34mCompleted 81.0 MiB/505.4 MiB (29.0 MiB/s) with 151 file(s) remaining#015Completed 81.3 MiB/505.4 MiB (29.1 MiB/s) with 151 file(s) remaining#015Completed 81.5 MiB/505.4 MiB (29.2 MiB/s) with 151 file(s) remaining#015Completed 81.8 MiB/505.4 MiB (29.2 MiB/s) with 151 file(s) remaining#015Completed 82.0 MiB/505.4 MiB (29.3 MiB/s) with 151 file(s) remaining#015Completed 82.3 MiB/505.4 MiB (29.4 MiB/s) with 151 file(s) remaining#015Completed 82.5 MiB/505.4 MiB (29.5 MiB/s) with 151 file(s) remaining#015Completed 82.8 MiB/505.4 MiB (29.5 MiB/s) with 151 file(s) remaining#015Completed 83.0 MiB/505.4 MiB (29.6 MiB/s) with 151 file(s) remaining#015Completed 83.1 MiB/505.4 MiB (29.6 MiB/s) with 151 file(s) remaining#015download: s3://sagemaker-us-east-1-905418336534/myvideotrainingdataset/videos/RW587.mp4 to videos/RW587.mp4\u001b[0m\n",
      "\u001b[34mCompleted 83.1 MiB/505.4 MiB (29.6 MiB/s) with 150 file(s) remaining#015Completed 83.4 MiB/505.4 MiB (29.7 MiB/s) with 150 file(s) remaining#015Completed 83.6 MiB/505.4 MiB (29.8 MiB/s) with 150 file(s) remaining#015Completed 83.9 MiB/505.4 MiB (29.8 MiB/s) with 150 file(s) remaining#015Completed 84.1 MiB/505.4 MiB (29.9 MiB/s) with 150 file(s) remaining#015Completed 84.4 MiB/505.4 MiB (30.0 MiB/s) with 150 file(s) remaining#015Completed 84.6 MiB/505.4 MiB (30.1 MiB/s) with 150 file(s) remaining#015Completed 84.9 MiB/505.4 MiB (30.2 MiB/s) with 150 file(s) remaining#015Completed 85.1 MiB/505.4 MiB (30.2 MiB/s) with 150 file(s) remaining#015Completed 85.4 MiB/505.4 MiB (30.3 MiB/s) with 150 file(s) remaining#015Completed 85.5 MiB/505.4 MiB (30.4 MiB/s) with 150 file(s) remaining#015Completed 85.7 MiB/505.4 MiB (30.4 MiB/s) with 150 file(s) remaining#015download: s3://sagemaker-us-east-1-905418336534/myvideotrainingdataset/videos/S6RYI.mp4 to videos/S6RYI.mp4\u001b[0m\n",
      "\u001b[34mCompleted 85.7 MiB/505.4 MiB (30.4 MiB/s) with 149 file(s) remaining#015Completed 85.9 MiB/505.4 MiB (30.5 MiB/s) with 149 file(s) remaining#015download: s3://sagemaker-us-east-1-905418336534/myvideotrainingdataset/videos/QBQR3.mp4 to videos/QBQR3.mp4\u001b[0m\n",
      "\u001b[34mCompleted 85.9 MiB/505.4 MiB (30.5 MiB/s) with 148 file(s) remaining#015Completed 86.1 MiB/505.4 MiB (30.5 MiB/s) with 148 file(s) remaining#015Completed 86.4 MiB/505.4 MiB (30.5 MiB/s) with 148 file(s) remaining#015Completed 86.5 MiB/505.4 MiB (30.6 MiB/s) with 148 file(s) remaining#015download: s3://sagemaker-us-east-1-905418336534/myvideotrainingdataset/videos/WK5PL.mp4 to videos/WK5PL.mp4\u001b[0m\n",
      "\u001b[34mCompleted 86.5 MiB/505.4 MiB (30.6 MiB/s) with 147 file(s) remaining#015Completed 86.7 MiB/505.4 MiB (30.5 MiB/s) with 147 file(s) remaining#015Completed 86.8 MiB/505.4 MiB (30.5 MiB/s) with 147 file(s) remaining#015download: s3://sagemaker-us-east-1-905418336534/myvideotrainingdataset/videos/KVYOZ.mp4 to videos/KVYOZ.mp4\u001b[0m\n",
      "\u001b[34mCompleted 86.8 MiB/505.4 MiB (30.5 MiB/s) with 146 file(s) remaining#015Completed 87.0 MiB/505.4 MiB (30.6 MiB/s) with 146 file(s) remaining#015Completed 87.2 MiB/505.4 MiB (30.6 MiB/s) with 146 file(s) remaining#015download: s3://sagemaker-us-east-1-905418336534/myvideotrainingdataset/videos/YKT8I.mp4 to videos/YKT8I.mp4\u001b[0m\n",
      "\u001b[34mCompleted 87.2 MiB/505.4 MiB (30.6 MiB/s) with 145 file(s) remaining#015Completed 87.5 MiB/505.4 MiB (30.7 MiB/s) with 145 file(s) remaining#015Completed 87.7 MiB/505.4 MiB (30.7 MiB/s) with 145 file(s) remaining#015Completed 88.0 MiB/505.4 MiB (30.8 MiB/s) with 145 file(s) remaining#015Completed 88.2 MiB/505.4 MiB (30.9 MiB/s) with 145 file(s) remaining#015Completed 88.4 MiB/505.4 MiB (30.9 MiB/s) with 145 file(s) remaining#015download: s3://sagemaker-us-east-1-905418336534/myvideotrainingdataset/videos/YB67Z.mp4 to videos/YB67Z.mp4\u001b[0m\n",
      "\u001b[34mCompleted 88.4 MiB/505.4 MiB (30.9 MiB/s) with 144 file(s) remaining#015Completed 88.6 MiB/505.4 MiB (31.0 MiB/s) with 144 file(s) remaining#015Completed 88.9 MiB/505.4 MiB (31.1 MiB/s) with 144 file(s) remaining#015Completed 89.1 MiB/505.4 MiB (31.1 MiB/s) with 144 file(s) remaining#015Completed 89.4 MiB/505.4 MiB (31.2 MiB/s) with 144 file(s) remaining#015Completed 89.6 MiB/505.4 MiB (31.3 MiB/s) with 144 file(s) remaining#015Completed 89.9 MiB/505.4 MiB (31.4 MiB/s) with 144 file(s) remaining#015Completed 89.9 MiB/505.4 MiB (31.4 MiB/s) with 144 file(s) remaining#015download: s3://sagemaker-us-east-1-905418336534/myvideotrainingdataset/videos/VIN5T.mp4 to videos/VIN5T.mp4\u001b[0m\n",
      "\u001b[34mCompleted 89.9 MiB/505.4 MiB (31.4 MiB/s) with 143 file(s) remaining#015Completed 90.1 MiB/505.4 MiB (31.4 MiB/s) with 143 file(s) remaining#015Completed 90.4 MiB/505.4 MiB (31.5 MiB/s) with 143 file(s) remaining#015Completed 90.4 MiB/505.4 MiB (31.5 MiB/s) with 143 file(s) remaining#015download: s3://sagemaker-us-east-1-905418336534/myvideotrainingdataset/videos/H4ZD8.mp4 to videos/H4ZD8.mp4\u001b[0m\n",
      "\u001b[34mCompleted 90.4 MiB/505.4 MiB (31.5 MiB/s) with 142 file(s) remaining#015Completed 90.6 MiB/505.4 MiB (31.4 MiB/s) with 142 file(s) remaining#015Completed 90.9 MiB/505.4 MiB (31.5 MiB/s) with 142 file(s) remaining#015Completed 91.1 MiB/505.4 MiB (31.6 MiB/s) with 142 file(s) remaining#015Completed 91.1 MiB/505.4 MiB (31.6 MiB/s) with 142 file(s) remaining#015download: s3://sagemaker-us-east-1-905418336534/myvideotrainingdataset/videos/academic_source/Charades/2IX2Z.mp4 to videos/academic_source/Charades/2IX2Z.mp4\u001b[0m\n",
      "\u001b[34mCompleted 91.1 MiB/505.4 MiB (31.6 MiB/s) with 141 file(s) remaining#015Completed 91.4 MiB/505.4 MiB (31.6 MiB/s) with 141 file(s) remaining#015Completed 91.6 MiB/505.4 MiB (31.7 MiB/s) with 141 file(s) remaining#015Completed 91.9 MiB/505.4 MiB (31.8 MiB/s) with 141 file(s) remaining#015Completed 92.1 MiB/505.4 MiB (31.8 MiB/s) with 141 file(s) remaining#015Completed 92.4 MiB/505.4 MiB (31.9 MiB/s) with 141 file(s) remaining#015Completed 92.6 MiB/505.4 MiB (32.0 MiB/s) with 141 file(s) remaining#015Completed 92.9 MiB/505.4 MiB (32.1 MiB/s) with 141 file(s) remaining#015Completed 93.0 MiB/505.4 MiB (32.1 MiB/s) with 141 file(s) remaining#015download: s3://sagemaker-us-east-1-905418336534/myvideotrainingdataset/videos/academic_source/Charades/13XM4.mp4 to videos/academic_source/Charades/13XM4.mp4\u001b[0m\n",
      "\u001b[34mCompleted 93.0 MiB/505.4 MiB (32.1 MiB/s) with 140 file(s) remaining#015Completed 93.3 MiB/505.4 MiB (32.1 MiB/s) with 140 file(s) remaining#015Completed 93.5 MiB/505.4 MiB (32.2 MiB/s) with 140 file(s) remaining#015Completed 93.8 MiB/505.4 MiB (32.2 MiB/s) with 140 file(s) remaining#015Completed 94.0 MiB/505.4 MiB (32.3 MiB/s) with 140 file(s) remaining#015Completed 94.3 MiB/505.4 MiB (32.4 MiB/s) with 140 file(s) remaining#015Completed 94.5 MiB/505.4 MiB (32.5 MiB/s) with 140 file(s) remaining#015Completed 94.8 MiB/505.4 MiB (32.5 MiB/s) with 140 file(s) remaining#015Completed 95.0 MiB/505.4 MiB (32.6 MiB/s) with 140 file(s) remaining#015Completed 95.3 MiB/505.4 MiB (32.7 MiB/s) with 140 file(s) remaining#015Completed 95.5 MiB/505.4 MiB (32.7 MiB/s) with 140 file(s) remaining#015Completed 95.6 MiB/505.4 MiB (32.8 MiB/s) with 140 file(s) remaining#015download: s3://sagemaker-us-east-1-905418336534/myvideotrainingdataset/videos/academic_source/Charades/3RN5M.mp4 to videos/academic_source/Charades/3RN5M.mp4\u001b[0m\n",
      "\u001b[34mCompleted 95.6 MiB/505.4 MiB (32.8 MiB/s) with 139 file(s) remaining#015Completed 95.9 MiB/505.4 MiB (32.8 MiB/s) with 139 file(s) remaining#015Completed 96.1 MiB/505.4 MiB (32.9 MiB/s) with 139 file(s) remaining#015Completed 96.4 MiB/505.4 MiB (33.0 MiB/s) with 139 file(s) remaining#015Completed 96.4 MiB/505.4 MiB (33.0 MiB/s) with 139 file(s) remaining#015download: s3://sagemaker-us-east-1-905418336534/myvideotrainingdataset/videos/academic_source/Charades/0AGCS.mp4 to videos/academic_source/Charades/0AGCS.mp4\u001b[0m\n",
      "\u001b[34mCompleted 96.4 MiB/505.4 MiB (33.0 MiB/s) with 138 file(s) remaining#015Completed 96.7 MiB/505.4 MiB (33.0 MiB/s) with 138 file(s) remaining#015Completed 96.9 MiB/505.4 MiB (33.1 MiB/s) with 138 file(s) remaining#015Completed 97.2 MiB/505.4 MiB (33.2 MiB/s) with 138 file(s) remaining#015Completed 97.4 MiB/505.4 MiB (33.3 MiB/s) with 138 file(s) remaining#015Completed 97.5 MiB/505.4 MiB (33.3 MiB/s) with 138 file(s) remaining#015download: s3://sagemaker-us-east-1-905418336534/myvideotrainingdataset/videos/academic_source/Charades/45BIP.mp4 to videos/academic_source/Charades/45BIP.mp4\u001b[0m\n",
      "\u001b[34mCompleted 97.5 MiB/505.4 MiB (33.3 MiB/s) with 137 file(s) remaining#015Completed 97.7 MiB/505.4 MiB (33.4 MiB/s) with 137 file(s) remaining#015Completed 98.0 MiB/505.4 MiB (33.4 MiB/s) with 137 file(s) remaining#015Completed 98.2 MiB/505.4 MiB (33.5 MiB/s) with 137 file(s) remaining#015Completed 98.5 MiB/505.4 MiB (33.6 MiB/s) with 137 file(s) remaining#015Completed 98.7 MiB/505.4 MiB (33.7 MiB/s) with 137 file(s) remaining#015Completed 99.0 MiB/505.4 MiB (33.8 MiB/s) with 137 file(s) remaining#015Completed 99.1 MiB/505.4 MiB (33.8 MiB/s) with 137 file(s) remaining#015download: s3://sagemaker-us-east-1-905418336534/myvideotrainingdataset/videos/academic_source/Charades/5Z1CO.mp4 to videos/academic_source/Charades/5Z1CO.mp4\u001b[0m\n",
      "\u001b[34mCompleted 99.1 MiB/505.4 MiB (33.8 MiB/s) with 136 file(s) remaining#015Completed 99.3 MiB/505.4 MiB (33.8 MiB/s) with 136 file(s) remaining#015download: s3://sagemaker-us-east-1-905418336534/myvideotrainingdataset/videos/academic_source/Charades/CX5ZM.mp4 to videos/academic_source/Charades/CX5ZM.mp4\u001b[0m\n",
      "\u001b[34mCompleted 99.3 MiB/505.4 MiB (33.8 MiB/s) with 135 file(s) remaining#015Completed 99.5 MiB/505.4 MiB (33.9 MiB/s) with 135 file(s) remaining#015Completed 99.7 MiB/505.4 MiB (33.9 MiB/s) with 135 file(s) remaining#015download: s3://sagemaker-us-east-1-905418336534/myvideotrainingdataset/videos/academic_source/Charades/DP1TV.mp4 to videos/academic_source/Charades/DP1TV.mp4\u001b[0m\n",
      "\u001b[34mCompleted 99.7 MiB/505.4 MiB (33.9 MiB/s) with 134 file(s) remaining#015Completed 100.0 MiB/505.4 MiB (33.9 MiB/s) with 134 file(s) remaining#015Completed 100.2 MiB/505.4 MiB (34.0 MiB/s) with 134 file(s) remaining#015Completed 100.3 MiB/505.4 MiB (34.0 MiB/s) with 134 file(s) remaining#015download: s3://sagemaker-us-east-1-905418336534/myvideotrainingdataset/videos/academic_source/Charades/ALXUC.mp4 to videos/academic_source/Charades/ALXUC.mp4\u001b[0m\n",
      "\u001b[34mCompleted 100.3 MiB/505.4 MiB (34.0 MiB/s) with 133 file(s) remaining#015Completed 100.5 MiB/505.4 MiB (34.0 MiB/s) with 133 file(s) remaining#015Completed 100.8 MiB/505.4 MiB (34.1 MiB/s) with 133 file(s) remaining#015Completed 101.0 MiB/505.4 MiB (34.1 MiB/s) with 133 file(s) remaining#015Completed 101.3 MiB/505.4 MiB (34.2 MiB/s) with 133 file(s) remaining#015Completed 101.5 MiB/505.4 MiB (34.3 MiB/s) with 133 file(s) remaining#015Completed 101.7 MiB/505.4 MiB (34.3 MiB/s) with 133 file(s) remaining#015download: s3://sagemaker-us-east-1-905418336534/myvideotrainingdataset/videos/academic_source/Charades/EJY5V.mp4 to videos/academic_source/Charades/EJY5V.mp4\u001b[0m\n",
      "\u001b[34mCompleted 101.7 MiB/505.4 MiB (34.3 MiB/s) with 132 file(s) remaining#015Completed 101.9 MiB/505.4 MiB (34.4 MiB/s) with 132 file(s) remaining#015Completed 102.2 MiB/505.4 MiB (34.4 MiB/s) with 132 file(s) remaining#015Completed 102.4 MiB/505.4 MiB (34.5 MiB/s) with 132 file(s) remaining#015Completed 102.7 MiB/505.4 MiB (34.6 MiB/s) with 132 file(s) remaining#015Completed 102.9 MiB/505.4 MiB (34.7 MiB/s) with 132 file(s) remaining#015Completed 103.2 MiB/505.4 MiB (34.7 MiB/s) with 132 file(s) remaining#015Completed 103.4 MiB/505.4 MiB (34.8 MiB/s) with 132 file(s) remaining#015Completed 103.7 MiB/505.4 MiB (34.9 MiB/s) with 132 file(s) remaining#015Completed 103.9 MiB/505.4 MiB (34.8 MiB/s) with 132 file(s) remaining#015Completed 104.2 MiB/505.4 MiB (34.9 MiB/s) with 132 file(s) remaining#015Completed 104.4 MiB/505.4 MiB (34.9 MiB/s) with 132 file(s) remaining#015Completed 104.7 MiB/505.4 MiB (35.0 MiB/s) with 132 file(s) remaining#015Completed 104.9 MiB/505.4 MiB (35.1 MiB/s) with 132 file(s) remaining#015Completed 105.2 MiB/505.4 MiB (35.2 MiB/s) with 132 file(s) remaining#015Completed 105.2 MiB/505.4 MiB (35.2 MiB/s) with 132 file(s) remaining#015download: s3://sagemaker-us-east-1-905418336534/myvideotrainingdataset/videos/academic_source/Charades/F31X6.mp4 to videos/academic_source/Charades/F31X6.mp4\u001b[0m\n",
      "\u001b[34mCompleted 105.2 MiB/505.4 MiB (35.2 MiB/s) with 131 file(s) remaining#015Completed 105.5 MiB/505.4 MiB (35.2 MiB/s) with 131 file(s) remaining#015Completed 105.7 MiB/505.4 MiB (35.3 MiB/s) with 131 file(s) remaining#015Completed 105.9 MiB/505.4 MiB (35.3 MiB/s) with 131 file(s) remaining#015download: s3://sagemaker-us-east-1-905418336534/myvideotrainingdataset/videos/academic_source/Charades/FY9UT.mp4 to videos/academic_source/Charades/FY9UT.mp4\u001b[0m\n",
      "\u001b[34mCompleted 105.9 MiB/505.4 MiB (35.3 MiB/s) with 130 file(s) remaining#015Completed 106.1 MiB/505.4 MiB (35.3 MiB/s) with 130 file(s) remaining#015Completed 106.4 MiB/505.4 MiB (35.4 MiB/s) with 130 file(s) remaining#015Completed 106.6 MiB/505.4 MiB (35.5 MiB/s) with 130 file(s) remaining#015Completed 106.7 MiB/505.4 MiB (35.5 MiB/s) with 130 file(s) remaining#015download: s3://sagemaker-us-east-1-905418336534/myvideotrainingdataset/videos/academic_source/Charades/9207X.mp4 to videos/academic_source/Charades/9207X.mp4\u001b[0m\n",
      "\u001b[34mCompleted 106.7 MiB/505.4 MiB (35.5 MiB/s) with 129 file(s) remaining#015Completed 107.0 MiB/505.4 MiB (35.5 MiB/s) with 129 file(s) remaining#015Completed 107.2 MiB/505.4 MiB (35.6 MiB/s) with 129 file(s) remaining#015Completed 107.4 MiB/505.4 MiB (35.6 MiB/s) with 129 file(s) remaining#015Completed 107.6 MiB/505.4 MiB (35.7 MiB/s) with 129 file(s) remaining#015download: s3://sagemaker-us-east-1-905418336534/myvideotrainingdataset/videos/9CCDY.mp4 to videos/9CCDY.mp4\u001b[0m\n",
      "\u001b[34mCompleted 107.6 MiB/505.4 MiB (35.7 MiB/s) with 128 file(s) remaining#015Completed 107.9 MiB/505.4 MiB (35.7 MiB/s) with 128 file(s) remaining#015Completed 108.1 MiB/505.4 MiB (35.8 MiB/s) with 128 file(s) remaining#015Completed 108.4 MiB/505.4 MiB (35.9 MiB/s) with 128 file(s) remaining#015Completed 108.5 MiB/505.4 MiB (35.9 MiB/s) with 128 file(s) remaining#015download: s3://sagemaker-us-east-1-905418336534/myvideotrainingdataset/videos/academic_source/Charades/J53NS.mp4 to videos/academic_source/Charades/J53NS.mp4\u001b[0m\n",
      "\u001b[34mCompleted 108.5 MiB/505.4 MiB (35.9 MiB/s) with 127 file(s) remaining#015Completed 108.7 MiB/505.4 MiB (35.9 MiB/s) with 127 file(s) remaining#015Completed 109.0 MiB/505.4 MiB (36.0 MiB/s) with 127 file(s) remaining#015Completed 109.2 MiB/505.4 MiB (36.0 MiB/s) with 127 file(s) remaining#015Completed 109.5 MiB/505.4 MiB (36.1 MiB/s) with 127 file(s) remaining#015Completed 109.7 MiB/505.4 MiB (36.2 MiB/s) with 127 file(s) remaining#015Completed 109.9 MiB/505.4 MiB (36.2 MiB/s) with 127 file(s) remaining#015download: s3://sagemaker-us-east-1-905418336534/myvideotrainingdataset/videos/academic_source/Charades/8Y7P5.mp4 to videos/academic_source/Charades/8Y7P5.mp4\u001b[0m\n",
      "\u001b[34mCompleted 109.9 MiB/505.4 MiB (36.2 MiB/s) with 126 file(s) remaining#015Completed 110.2 MiB/505.4 MiB (36.3 MiB/s) with 126 file(s) remaining#015Completed 110.4 MiB/505.4 MiB (36.4 MiB/s) with 126 file(s) remaining#015Completed 110.7 MiB/505.4 MiB (36.4 MiB/s) with 126 file(s) remaining#015Completed 110.9 MiB/505.4 MiB (36.5 MiB/s) with 126 file(s) remaining#015download: s3://sagemaker-us-east-1-905418336534/myvideotrainingdataset/videos/academic_source/Charades/IPH08.mp4 to videos/academic_source/Charades/IPH08.mp4\u001b[0m\n",
      "\u001b[34mCompleted 110.9 MiB/505.4 MiB (36.5 MiB/s) with 125 file(s) remaining#015Completed 111.1 MiB/505.4 MiB (36.5 MiB/s) with 125 file(s) remaining#015download: s3://sagemaker-us-east-1-905418336534/myvideotrainingdataset/videos/academic_source/Charades/IA7X9.mp4 to videos/academic_source/Charades/IA7X9.mp4\u001b[0m\n",
      "\u001b[34mCompleted 111.1 MiB/505.4 MiB (36.5 MiB/s) with 124 file(s) remaining#015Completed 111.4 MiB/505.4 MiB (36.3 MiB/s) with 124 file(s) remaining#015Completed 111.4 MiB/505.4 MiB (36.3 MiB/s) with 124 file(s) remaining#015download: s3://sagemaker-us-east-1-905418336534/myvideotrainingdataset/videos/VKDLS.mp4 to videos/VKDLS.mp4\u001b[0m\n",
      "\u001b[34mCompleted 111.4 MiB/505.4 MiB (36.3 MiB/s) with 123 file(s) remaining#015Completed 111.6 MiB/505.4 MiB (36.3 MiB/s) with 123 file(s) remaining#015Completed 111.9 MiB/505.4 MiB (36.4 MiB/s) with 123 file(s) remaining#015Completed 112.1 MiB/505.4 MiB (36.5 MiB/s) with 123 file(s) remaining#015Completed 112.4 MiB/505.4 MiB (36.6 MiB/s) with 123 file(s) remaining#015Completed 112.5 MiB/505.4 MiB (36.6 MiB/s) with 123 file(s) remaining#015Completed 112.6 MiB/505.4 MiB (36.6 MiB/s) with 123 file(s) remaining#015download: s3://sagemaker-us-east-1-905418336534/myvideotrainingdataset/videos/academic_source/Charades/KEPDQ.mp4 to videos/academic_source/Charades/KEPDQ.mp4\u001b[0m\n",
      "\u001b[34mCompleted 112.6 MiB/505.4 MiB (36.6 MiB/s) with 122 file(s) remaining#015download: s3://sagemaker-us-east-1-905418336534/myvideotrainingdataset/videos/academic_source/Charades/LRDW5.mp4 to videos/academic_source/Charades/LRDW5.mp4\u001b[0m\n",
      "\u001b[34mCompleted 112.6 MiB/505.4 MiB (36.6 MiB/s) with 121 file(s) remaining#015Completed 112.8 MiB/505.4 MiB (36.6 MiB/s) with 121 file(s) remaining#015Completed 113.1 MiB/505.4 MiB (36.7 MiB/s) with 121 file(s) remaining#015Completed 113.3 MiB/505.4 MiB (36.8 MiB/s) with 121 file(s) remaining#015Completed 113.6 MiB/505.4 MiB (36.9 MiB/s) with 121 file(s) remaining#015Completed 113.8 MiB/505.4 MiB (36.9 MiB/s) with 121 file(s) remaining#015Completed 114.1 MiB/505.4 MiB (37.0 MiB/s) with 121 file(s) remaining#015Completed 114.3 MiB/505.4 MiB (37.1 MiB/s) with 121 file(s) remaining#015Completed 114.6 MiB/505.4 MiB (37.1 MiB/s) with 121 file(s) remaining#015Completed 114.8 MiB/505.4 MiB (37.1 MiB/s) with 121 file(s) remaining#015Completed 115.1 MiB/505.4 MiB (37.2 MiB/s) with 121 file(s) remaining#015Completed 115.3 MiB/505.4 MiB (37.3 MiB/s) with 121 file(s) remaining#015Completed 115.6 MiB/505.4 MiB (37.4 MiB/s) with 121 file(s) remaining#015Completed 115.8 MiB/505.4 MiB (37.4 MiB/s) with 121 file(s) remaining#015download: s3://sagemaker-us-east-1-905418336534/myvideotrainingdataset/videos/academic_source/Charades/OADOE.mp4 to videos/academic_source/Charades/OADOE.mp4\u001b[0m\n",
      "\u001b[34mCompleted 115.8 MiB/505.4 MiB (37.4 MiB/s) with 120 file(s) remaining#015Completed 116.0 MiB/505.4 MiB (37.4 MiB/s) with 120 file(s) remaining#015Completed 116.3 MiB/505.4 MiB (37.5 MiB/s) with 120 file(s) remaining#015Completed 116.5 MiB/505.4 MiB (37.6 MiB/s) with 120 file(s) remaining#015Completed 116.8 MiB/505.4 MiB (37.6 MiB/s) with 120 file(s) remaining#015Completed 117.0 MiB/505.4 MiB (37.7 MiB/s) with 120 file(s) remaining#015Completed 117.3 MiB/505.4 MiB (37.8 MiB/s) with 120 file(s) remaining#015Completed 117.5 MiB/505.4 MiB (37.8 MiB/s) with 120 file(s) remaining#015Completed 117.5 MiB/505.4 MiB (37.8 MiB/s) with 120 file(s) remaining#015download: s3://sagemaker-us-east-1-905418336534/myvideotrainingdataset/videos/academic_source/Charades/MLS4T.mp4 to videos/academic_source/Charades/MLS4T.mp4\u001b[0m\n",
      "\u001b[34mCompleted 117.5 MiB/505.4 MiB (37.8 MiB/s) with 119 file(s) remaining#015Completed 117.8 MiB/505.4 MiB (37.9 MiB/s) with 119 file(s) remaining#015Completed 118.0 MiB/505.4 MiB (38.0 MiB/s) with 119 file(s) remaining#015Completed 118.3 MiB/505.4 MiB (38.0 MiB/s) with 119 file(s) remaining#015Completed 118.5 MiB/505.4 MiB (38.1 MiB/s) with 119 file(s) remaining#015Completed 118.8 MiB/505.4 MiB (38.2 MiB/s) with 119 file(s) remaining#015Completed 119.0 MiB/505.4 MiB (38.3 MiB/s) with 119 file(s) remaining#015Completed 119.1 MiB/505.4 MiB (38.3 MiB/s) with 119 file(s) remaining#015download: s3://sagemaker-us-east-1-905418336534/myvideotrainingdataset/videos/academic_source/Charades/13AUQ.mp4 to videos/academic_source/Charades/13AUQ.mp4\u001b[0m\n",
      "\u001b[34mCompleted 119.1 MiB/505.4 MiB (38.3 MiB/s) with 118 file(s) remaining#015Completed 119.3 MiB/505.4 MiB (38.3 MiB/s) with 118 file(s) remaining#015Completed 119.6 MiB/505.4 MiB (38.4 MiB/s) with 118 file(s) remaining#015Completed 119.8 MiB/505.4 MiB (38.5 MiB/s) with 118 file(s) remaining#015Completed 120.0 MiB/505.4 MiB (38.5 MiB/s) with 118 file(s) remaining#015download: s3://sagemaker-us-east-1-905418336534/myvideotrainingdataset/videos/academic_source/Charades/GG4UR.mp4 to videos/academic_source/Charades/GG4UR.mp4\u001b[0m\n",
      "\u001b[34mCompleted 120.0 MiB/505.4 MiB (38.5 MiB/s) with 117 file(s) remaining#015Completed 120.3 MiB/505.4 MiB (38.5 MiB/s) with 117 file(s) remaining#015Completed 120.5 MiB/505.4 MiB (38.5 MiB/s) with 117 file(s) remaining#015Completed 120.8 MiB/505.4 MiB (38.6 MiB/s) with 117 file(s) remaining#015Completed 121.0 MiB/505.4 MiB (38.7 MiB/s) with 117 file(s) remaining#015Completed 121.3 MiB/505.4 MiB (38.7 MiB/s) with 117 file(s) remaining#015Completed 121.5 MiB/505.4 MiB (38.8 MiB/s) with 117 file(s) remaining#015Completed 121.8 MiB/505.4 MiB (38.9 MiB/s) with 117 file(s) remaining#015Completed 122.0 MiB/505.4 MiB (39.0 MiB/s) with 117 file(s) remaining#015download: s3://sagemaker-us-east-1-905418336534/myvideotrainingdataset/videos/academic_source/Charades/P23HN.mp4 to videos/academic_source/Charades/P23HN.mp4\u001b[0m\n",
      "\u001b[34mCompleted 122.0 MiB/505.4 MiB (39.0 MiB/s) with 116 file(s) remaining#015Completed 122.2 MiB/505.4 MiB (39.0 MiB/s) with 116 file(s) remaining#015Completed 122.5 MiB/505.4 MiB (39.0 MiB/s) with 116 file(s) remaining#015Completed 122.7 MiB/505.4 MiB (39.1 MiB/s) with 116 file(s) remaining#015Completed 123.0 MiB/505.4 MiB (39.2 MiB/s) with 116 file(s) remaining#015Completed 123.2 MiB/505.4 MiB (39.2 MiB/s) with 116 file(s) remaining#015Completed 123.5 MiB/505.4 MiB (39.3 MiB/s) with 116 file(s) remaining#015Completed 123.6 MiB/505.4 MiB (39.3 MiB/s) with 116 file(s) remaining#015download: s3://sagemaker-us-east-1-905418336534/myvideotrainingdataset/videos/academic_source/Charades/OPPVW.mp4 to videos/academic_source/Charades/OPPVW.mp4\u001b[0m\n",
      "\u001b[34mCompleted 123.6 MiB/505.4 MiB (39.3 MiB/s) with 115 file(s) remaining#015Completed 123.9 MiB/505.4 MiB (39.1 MiB/s) with 115 file(s) remaining#015Completed 124.0 MiB/505.4 MiB (39.2 MiB/s) with 115 file(s) remaining#015download: s3://sagemaker-us-east-1-905418336534/myvideotrainingdataset/videos/academic_source/Charades/RIE30.mp4 to videos/academic_source/Charades/RIE30.mp4\u001b[0m\n",
      "\u001b[34mCompleted 124.0 MiB/505.4 MiB (39.2 MiB/s) with 114 file(s) remaining#015Completed 124.3 MiB/505.4 MiB (39.2 MiB/s) with 114 file(s) remaining#015Completed 124.5 MiB/505.4 MiB (39.3 MiB/s) with 114 file(s) remaining#015Completed 124.8 MiB/505.4 MiB (39.3 MiB/s) with 114 file(s) remaining#015Completed 125.0 MiB/505.4 MiB (39.4 MiB/s) with 114 file(s) remaining#015Completed 125.3 MiB/505.4 MiB (39.5 MiB/s) with 114 file(s) remaining#015Completed 125.5 MiB/505.4 MiB (39.5 MiB/s) with 114 file(s) remaining#015Completed 125.8 MiB/505.4 MiB (39.6 MiB/s) with 114 file(s) remaining#015Completed 126.0 MiB/505.4 MiB (39.7 MiB/s) with 114 file(s) remaining#015Completed 126.3 MiB/505.4 MiB (39.7 MiB/s) with 114 file(s) remaining#015Completed 126.5 MiB/505.4 MiB (39.8 MiB/s) with 114 file(s) remaining#015Completed 126.5 MiB/505.4 MiB (39.8 MiB/s) with 114 file(s) remaining#015download: s3://sagemaker-us-east-1-905418336534/myvideotrainingdataset/videos/academic_source/Charades/M79TJ.mp4 to videos/academic_source/Charades/M79TJ.mp4\u001b[0m\n",
      "\u001b[34mCompleted 126.5 MiB/505.4 MiB (39.8 MiB/s) with 113 file(s) remaining#015download: s3://sagemaker-us-east-1-905418336534/myvideotrainingdataset/videos/academic_source/Charades/PK2F0.mp4 to videos/academic_source/Charades/PK2F0.mp4\u001b[0m\n",
      "\u001b[34mCompleted 126.5 MiB/505.4 MiB (39.8 MiB/s) with 112 file(s) remaining#015Completed 126.8 MiB/505.4 MiB (39.7 MiB/s) with 112 file(s) remaining#015Completed 127.0 MiB/505.4 MiB (39.7 MiB/s) with 112 file(s) remaining#015Completed 127.3 MiB/505.4 MiB (39.8 MiB/s) with 112 file(s) remaining#015Completed 127.5 MiB/505.4 MiB (39.9 MiB/s) with 112 file(s) remaining#015Completed 127.7 MiB/505.4 MiB (39.9 MiB/s) with 112 file(s) remaining#015download: s3://sagemaker-us-east-1-905418336534/myvideotrainingdataset/videos/academic_source/Charades/HQ8K2.mp4 to videos/academic_source/Charades/HQ8K2.mp4\u001b[0m\n",
      "\u001b[34mCompleted 127.7 MiB/505.4 MiB (39.9 MiB/s) with 111 file(s) remaining#015Completed 127.9 MiB/505.4 MiB (39.9 MiB/s) with 111 file(s) remaining#015Completed 128.2 MiB/505.4 MiB (40.0 MiB/s) with 111 file(s) remaining#015Completed 128.4 MiB/505.4 MiB (40.1 MiB/s) with 111 file(s) remaining#015Completed 128.6 MiB/505.4 MiB (40.1 MiB/s) with 111 file(s) remaining#015download: s3://sagemaker-us-east-1-905418336534/myvideotrainingdataset/videos/academic_source/Charades/Y1HOV.mp4 to videos/academic_source/Charades/Y1HOV.mp4\u001b[0m\n",
      "\u001b[34mCompleted 128.6 MiB/505.4 MiB (40.1 MiB/s) with 110 file(s) remaining#015Completed 128.8 MiB/505.4 MiB (40.1 MiB/s) with 110 file(s) remaining#015Completed 129.1 MiB/505.4 MiB (40.2 MiB/s) with 110 file(s) remaining#015Completed 129.3 MiB/505.4 MiB (40.3 MiB/s) with 110 file(s) remaining#015Completed 129.6 MiB/505.4 MiB (40.3 MiB/s) with 110 file(s) remaining#015Completed 129.6 MiB/505.4 MiB (40.3 MiB/s) with 110 file(s) remaining#015download: s3://sagemaker-us-east-1-905418336534/myvideotrainingdataset/videos/academic_source/Charades/XF93D.mp4 to videos/academic_source/Charades/XF93D.mp4\u001b[0m\n",
      "\u001b[34mCompleted 129.6 MiB/505.4 MiB (40.3 MiB/s) with 109 file(s) remaining#015Completed 129.8 MiB/505.4 MiB (40.4 MiB/s) with 109 file(s) remaining#015Completed 130.1 MiB/505.4 MiB (40.5 MiB/s) with 109 file(s) remaining#015Completed 130.3 MiB/505.4 MiB (40.5 MiB/s) with 109 file(s) remaining#015Completed 130.6 MiB/505.4 MiB (40.6 MiB/s) with 109 file(s) remaining#015Completed 130.8 MiB/505.4 MiB (40.7 MiB/s) with 109 file(s) remaining#015download: s3://sagemaker-us-east-1-905418336534/myvideotrainingdataset/videos/academic_source/Charades/P36YW.mp4 to videos/academic_source/Charades/P36YW.mp4\u001b[0m\n",
      "\u001b[34mCompleted 130.8 MiB/505.4 MiB (40.7 MiB/s) with 108 file(s) remaining#015Completed 131.0 MiB/505.4 MiB (40.7 MiB/s) with 108 file(s) remaining#015Completed 131.0 MiB/505.4 MiB (40.7 MiB/s) with 108 file(s) remaining#015download: s3://sagemaker-us-east-1-905418336534/myvideotrainingdataset/videos/academic_source/Charades/Y2QUJ.mp4 to videos/academic_source/Charades/Y2QUJ.mp4\u001b[0m\n",
      "\u001b[34mCompleted 131.0 MiB/505.4 MiB (40.7 MiB/s) with 107 file(s) remaining#015Completed 131.3 MiB/505.4 MiB (40.6 MiB/s) with 107 file(s) remaining#015Completed 131.5 MiB/505.4 MiB (40.6 MiB/s) with 107 file(s) remaining#015Completed 131.8 MiB/505.4 MiB (40.7 MiB/s) with 107 file(s) remaining#015Completed 131.9 MiB/505.4 MiB (40.7 MiB/s) with 107 file(s) remaining#015download: s3://sagemaker-us-east-1-905418336534/myvideotrainingdataset/videos/academic_source/Charades/Y91JG.mp4 to videos/academic_source/Charades/Y91JG.mp4\u001b[0m\n",
      "\u001b[34mCompleted 131.9 MiB/505.4 MiB (40.7 MiB/s) with 106 file(s) remaining#015Completed 132.2 MiB/505.4 MiB (40.7 MiB/s) with 106 file(s) remaining#015Completed 132.4 MiB/505.4 MiB (40.8 MiB/s) with 106 file(s) remaining#015download: s3://sagemaker-us-east-1-905418336534/myvideotrainingdataset/videos/academic_source/Charades/JIS2Q.mp4 to videos/academic_source/Charades/JIS2Q.mp4\u001b[0m\n",
      "\u001b[34mCompleted 132.4 MiB/505.4 MiB (40.8 MiB/s) with 105 file(s) remaining#015Completed 132.7 MiB/505.4 MiB (40.8 MiB/s) with 105 file(s) remaining#015Completed 132.9 MiB/505.4 MiB (40.9 MiB/s) with 105 file(s) remaining#015Completed 133.2 MiB/505.4 MiB (40.9 MiB/s) with 105 file(s) remaining#015Completed 133.4 MiB/505.4 MiB (41.0 MiB/s) with 105 file(s) remaining#015Completed 133.7 MiB/505.4 MiB (41.1 MiB/s) with 105 file(s) remaining#015Completed 133.9 MiB/505.4 MiB (41.1 MiB/s) with 105 file(s) remaining#015Completed 134.2 MiB/505.4 MiB (41.2 MiB/s) with 105 file(s) remaining#015Completed 134.4 MiB/505.4 MiB (41.3 MiB/s) with 105 file(s) remaining#015Completed 134.7 MiB/505.4 MiB (41.3 MiB/s) with 105 file(s) remaining#015Completed 134.8 MiB/505.4 MiB (41.4 MiB/s) with 105 file(s) remaining#015download: s3://sagemaker-us-east-1-905418336534/myvideotrainingdataset/videos/academic_source/Charades/YLEEO.mp4 to videos/academic_source/Charades/YLEEO.mp4\u001b[0m\n",
      "\u001b[34mCompleted 134.8 MiB/505.4 MiB (41.4 MiB/s) with 104 file(s) remaining#015Completed 135.0 MiB/505.4 MiB (41.4 MiB/s) with 104 file(s) remaining#015Completed 135.3 MiB/505.4 MiB (41.5 MiB/s) with 104 file(s) remaining#015Completed 135.5 MiB/505.4 MiB (41.5 MiB/s) with 104 file(s) remaining#015Completed 135.8 MiB/505.4 MiB (41.6 MiB/s) with 104 file(s) remaining#015Completed 136.0 MiB/505.4 MiB (41.7 MiB/s) with 104 file(s) remaining#015Completed 136.1 MiB/505.4 MiB (41.7 MiB/s) with 104 file(s) remaining#015Completed 136.3 MiB/505.4 MiB (41.8 MiB/s) with 104 file(s) remaining#015download: s3://sagemaker-us-east-1-905418336534/myvideotrainingdataset/videos/academic_source/Charades/GX4B1.mp4 to videos/academic_source/Charades/GX4B1.mp4\u001b[0m\n",
      "\u001b[34mCompleted 136.3 MiB/505.4 MiB (41.8 MiB/s) with 103 file(s) remaining#015Completed 136.6 MiB/505.4 MiB (41.8 MiB/s) with 103 file(s) remaining#015Completed 136.6 MiB/505.4 MiB (41.8 MiB/s) with 103 file(s) remaining#015download: s3://sagemaker-us-east-1-905418336534/myvideotrainingdataset/videos/academic_source/Charades/NYDRK.mp4 to videos/academic_source/Charades/NYDRK.mp4\u001b[0m\n",
      "\u001b[34mCompleted 136.6 MiB/505.4 MiB (41.8 MiB/s) with 102 file(s) remaining#015Completed 136.9 MiB/505.4 MiB (41.7 MiB/s) with 102 file(s) remaining#015Completed 137.1 MiB/505.4 MiB (41.8 MiB/s) with 102 file(s) remaining#015Completed 137.4 MiB/505.4 MiB (41.9 MiB/s) with 102 file(s) remaining#015Completed 137.6 MiB/505.4 MiB (41.9 MiB/s) with 102 file(s) remaining#015Completed 137.9 MiB/505.4 MiB (42.0 MiB/s) with 102 file(s) remaining#015Completed 138.1 MiB/505.4 MiB (42.1 MiB/s) with 102 file(s) remaining#015Completed 138.3 MiB/505.4 MiB (42.1 MiB/s) with 102 file(s) remaining#015download: s3://sagemaker-us-east-1-905418336534/myvideotrainingdataset/videos/academic_source/Charades/RTEO8.mp4 to videos/academic_source/Charades/RTEO8.mp4\u001b[0m\n",
      "\u001b[34mCompleted 138.3 MiB/505.4 MiB (42.1 MiB/s) with 101 file(s) remaining#015Completed 138.6 MiB/505.4 MiB (42.2 MiB/s) with 101 file(s) remaining#015Completed 138.8 MiB/505.4 MiB (42.2 MiB/s) with 101 file(s) remaining#015Completed 139.1 MiB/505.4 MiB (42.3 MiB/s) with 101 file(s) remaining#015Completed 139.2 MiB/505.4 MiB (42.3 MiB/s) with 101 file(s) remaining#015download: s3://sagemaker-us-east-1-905418336534/myvideotrainingdataset/videos/academic_source/Charades/RVV5Q.mp4 to videos/academic_source/Charades/RVV5Q.mp4\u001b[0m\n",
      "\u001b[34mCompleted 139.2 MiB/505.4 MiB (42.3 MiB/s) with 100 file(s) remaining#015Completed 139.4 MiB/505.4 MiB (42.4 MiB/s) with 100 file(s) remaining#015Completed 139.7 MiB/505.4 MiB (42.4 MiB/s) with 100 file(s) remaining#015Completed 139.9 MiB/505.4 MiB (42.5 MiB/s) with 100 file(s) remaining#015Completed 140.2 MiB/505.4 MiB (42.6 MiB/s) with 100 file(s) remaining#015Completed 140.4 MiB/505.4 MiB (42.7 MiB/s) with 100 file(s) remaining#015Completed 140.5 MiB/505.4 MiB (42.7 MiB/s) with 100 file(s) remaining#015download: s3://sagemaker-us-east-1-905418336534/myvideotrainingdataset/videos/academic_source/NextQA/0001/4333253921.mp4 to videos/academic_source/NextQA/0001/4333253921.mp4\u001b[0m\n",
      "\u001b[34mCompleted 140.5 MiB/505.4 MiB (42.7 MiB/s) with 99 file(s) remaining#015Completed 140.7 MiB/505.4 MiB (42.7 MiB/s) with 99 file(s) remaining#015Completed 141.0 MiB/505.4 MiB (42.7 MiB/s) with 99 file(s) remaining#015Completed 141.2 MiB/505.4 MiB (42.8 MiB/s) with 99 file(s) remaining#015Completed 141.5 MiB/505.4 MiB (42.8 MiB/s) with 99 file(s) remaining#015download: s3://sagemaker-us-east-1-905418336534/myvideotrainingdataset/videos/academic_source/NextQA/1001/2400900222.mp4 to videos/academic_source/NextQA/1001/2400900222.mp4\u001b[0m\n",
      "\u001b[34mCompleted 141.5 MiB/505.4 MiB (42.8 MiB/s) with 98 file(s) remaining#015Completed 141.7 MiB/505.4 MiB (42.8 MiB/s) with 98 file(s) remaining#015Completed 142.0 MiB/505.4 MiB (42.8 MiB/s) with 98 file(s) remaining#015Completed 142.2 MiB/505.4 MiB (42.9 MiB/s) with 98 file(s) remaining#015Completed 142.5 MiB/505.4 MiB (42.9 MiB/s) with 98 file(s) remaining#015Completed 142.7 MiB/505.4 MiB (43.0 MiB/s) with 98 file(s) remaining#015Completed 143.0 MiB/505.4 MiB (43.1 MiB/s) with 98 file(s) remaining#015Completed 143.2 MiB/505.4 MiB (43.1 MiB/s) with 98 file(s) remaining#015Completed 143.4 MiB/505.4 MiB (43.2 MiB/s) with 98 file(s) remaining#015download: s3://sagemaker-us-east-1-905418336534/myvideotrainingdataset/videos/academic_source/NextQA/1007/3434972730.mp4 to videos/academic_source/NextQA/1007/3434972730.mp4\u001b[0m\n",
      "\u001b[34mCompleted 143.4 MiB/505.4 MiB (43.2 MiB/s) with 97 file(s) remaining#015Completed 143.6 MiB/505.4 MiB (43.2 MiB/s) with 97 file(s) remaining#015Completed 143.9 MiB/505.4 MiB (43.3 MiB/s) with 97 file(s) remaining#015Completed 144.1 MiB/505.4 MiB (43.3 MiB/s) with 97 file(s) remaining#015Completed 144.4 MiB/505.4 MiB (43.4 MiB/s) with 97 file(s) remaining#015Completed 144.6 MiB/505.4 MiB (43.5 MiB/s) with 97 file(s) remaining#015Completed 144.8 MiB/505.4 MiB (43.5 MiB/s) with 97 file(s) remaining#015download: s3://sagemaker-us-east-1-905418336534/myvideotrainingdataset/videos/academic_source/NextQA/1005/9520717551.mp4 to videos/academic_source/NextQA/1005/9520717551.mp4\u001b[0m\n",
      "\u001b[34mCompleted 144.8 MiB/505.4 MiB (43.5 MiB/s) with 96 file(s) remaining#015Completed 145.1 MiB/505.4 MiB (43.4 MiB/s) with 96 file(s) remaining#015Completed 145.3 MiB/505.4 MiB (43.5 MiB/s) with 96 file(s) remaining#015Completed 145.6 MiB/505.4 MiB (43.5 MiB/s) with 96 file(s) remaining#015Completed 145.8 MiB/505.4 MiB (43.6 MiB/s) with 96 file(s) remaining#015Completed 146.1 MiB/505.4 MiB (43.7 MiB/s) with 96 file(s) remaining#015Completed 146.3 MiB/505.4 MiB (43.7 MiB/s) with 96 file(s) remaining#015Completed 146.5 MiB/505.4 MiB (43.8 MiB/s) with 96 file(s) remaining#015download: s3://sagemaker-us-east-1-905418336534/myvideotrainingdataset/videos/academic_source/NextQA/1051/4164771889.mp4 to videos/academic_source/NextQA/1051/4164771889.mp4\u001b[0m\n",
      "\u001b[34mCompleted 146.5 MiB/505.4 MiB (43.8 MiB/s) with 95 file(s) remaining#015Completed 146.8 MiB/505.4 MiB (43.7 MiB/s) with 95 file(s) remaining#015Completed 147.0 MiB/505.4 MiB (43.7 MiB/s) with 95 file(s) remaining#015Completed 147.3 MiB/505.4 MiB (43.8 MiB/s) with 95 file(s) remaining#015Completed 147.5 MiB/505.4 MiB (43.9 MiB/s) with 95 file(s) remaining#015Completed 147.8 MiB/505.4 MiB (43.9 MiB/s) with 95 file(s) remaining#015Completed 148.0 MiB/505.4 MiB (44.0 MiB/s) with 95 file(s) remaining#015Completed 148.3 MiB/505.4 MiB (44.0 MiB/s) with 95 file(s) remaining#015Completed 148.5 MiB/505.4 MiB (44.1 MiB/s) with 95 file(s) remaining#015Completed 148.6 MiB/505.4 MiB (44.1 MiB/s) with 95 file(s) remaining#015download: s3://sagemaker-us-east-1-905418336534/myvideotrainingdataset/videos/academic_source/NextQA/1018/6554011281.mp4 to videos/academic_source/NextQA/1018/6554011281.mp4\u001b[0m\n",
      "\u001b[34mCompleted 148.6 MiB/505.4 MiB (44.1 MiB/s) with 94 file(s) remaining#015Completed 148.8 MiB/505.4 MiB (44.1 MiB/s) with 94 file(s) remaining#015Completed 149.1 MiB/505.4 MiB (44.2 MiB/s) with 94 file(s) remaining#015Completed 149.3 MiB/505.4 MiB (44.2 MiB/s) with 94 file(s) remaining#015Completed 149.6 MiB/505.4 MiB (44.3 MiB/s) with 94 file(s) remaining#015Completed 149.8 MiB/505.4 MiB (44.4 MiB/s) with 94 file(s) remaining#015Completed 150.1 MiB/505.4 MiB (44.5 MiB/s) with 94 file(s) remaining#015Completed 150.2 MiB/505.4 MiB (44.5 MiB/s) with 94 file(s) remaining#015download: s3://sagemaker-us-east-1-905418336534/myvideotrainingdataset/videos/academic_source/NextQA/1101/6179595616.mp4 to videos/academic_source/NextQA/1101/6179595616.mp4\u001b[0m\n",
      "\u001b[34mCompleted 150.2 MiB/505.4 MiB (44.5 MiB/s) with 93 file(s) remaining#015Completed 150.4 MiB/505.4 MiB (44.5 MiB/s) with 93 file(s) remaining#015Completed 150.7 MiB/505.4 MiB (44.6 MiB/s) with 93 file(s) remaining#015Completed 150.9 MiB/505.4 MiB (44.7 MiB/s) with 93 file(s) remaining#015Completed 151.2 MiB/505.4 MiB (44.7 MiB/s) with 93 file(s) remaining#015Completed 151.4 MiB/505.4 MiB (44.8 MiB/s) with 93 file(s) remaining#015Completed 151.7 MiB/505.4 MiB (44.9 MiB/s) with 93 file(s) remaining#015download: s3://sagemaker-us-east-1-905418336534/myvideotrainingdataset/videos/academic_source/NextQA/1008/3938939252.mp4 to videos/academic_source/NextQA/1008/3938939252.mp4\u001b[0m\n",
      "\u001b[34mCompleted 151.7 MiB/505.4 MiB (44.9 MiB/s) with 92 file(s) remaining#015Completed 151.9 MiB/505.4 MiB (44.7 MiB/s) with 92 file(s) remaining#015Completed 152.2 MiB/505.4 MiB (44.8 MiB/s) with 92 file(s) remaining#015Completed 152.4 MiB/505.4 MiB (44.9 MiB/s) with 92 file(s) remaining#015Completed 152.7 MiB/505.4 MiB (44.9 MiB/s) with 92 file(s) remaining#015Completed 152.9 MiB/505.4 MiB (45.0 MiB/s) with 92 file(s) remaining#015Completed 153.2 MiB/505.4 MiB (45.0 MiB/s) with 92 file(s) remaining#015Completed 153.4 MiB/505.4 MiB (45.1 MiB/s) with 92 file(s) remaining#015Completed 153.7 MiB/505.4 MiB (45.2 MiB/s) with 92 file(s) remaining#015Completed 153.9 MiB/505.4 MiB (45.2 MiB/s) with 92 file(s) remaining#015Completed 154.2 MiB/505.4 MiB (45.2 MiB/s) with 92 file(s) remaining#015Completed 154.4 MiB/505.4 MiB (45.3 MiB/s) with 92 file(s) remaining#015Completed 154.7 MiB/505.4 MiB (45.4 MiB/s) with 92 file(s) remaining#015Completed 154.9 MiB/505.4 MiB (45.4 MiB/s) with 92 file(s) remaining#015Completed 155.2 MiB/505.4 MiB (45.5 MiB/s) with 92 file(s) remaining#015Completed 155.4 MiB/505.4 MiB (45.5 MiB/s) with 92 file(s) remaining#015Completed 155.7 MiB/505.4 MiB (45.6 MiB/s) with 92 file(s) remaining#015Completed 155.9 MiB/505.4 MiB (45.6 MiB/s) with 92 file(s) remaining#015Completed 156.2 MiB/505.4 MiB (45.7 MiB/s) with 92 file(s) remaining#015Completed 156.4 MiB/505.4 MiB (45.7 MiB/s) with 92 file(s) remaining#015download: s3://sagemaker-us-east-1-905418336534/myvideotrainingdataset/videos/academic_source/activitynet/v_3SLaaTD8t3Q.mp4 to videos/academic_source/activitynet/v_3SLaaTD8t3Q.mp4\u001b[0m\n",
      "\u001b[34mCompleted 156.4 MiB/505.4 MiB (45.7 MiB/s) with 91 file(s) remaining#015Completed 156.7 MiB/505.4 MiB (45.8 MiB/s) with 91 file(s) remaining#015Completed 156.9 MiB/505.4 MiB (45.8 MiB/s) with 91 file(s) remaining#015Completed 157.2 MiB/505.4 MiB (45.9 MiB/s) with 91 file(s) remaining#015Completed 157.4 MiB/505.4 MiB (46.0 MiB/s) with 91 file(s) remaining#015Completed 157.7 MiB/505.4 MiB (46.0 MiB/s) with 91 file(s) remaining#015Completed 157.9 MiB/505.4 MiB (46.1 MiB/s) with 91 file(s) remaining#015Completed 158.2 MiB/505.4 MiB (46.1 MiB/s) with 91 file(s) remaining#015Completed 158.4 MiB/505.4 MiB (46.2 MiB/s) with 91 file(s) remaining#015Completed 158.7 MiB/505.4 MiB (46.3 MiB/s) with 91 file(s) remaining#015Completed 158.9 MiB/505.4 MiB (46.3 MiB/s) with 91 file(s) remaining#015Completed 159.2 MiB/505.4 MiB (46.4 MiB/s) with 91 file(s) remaining#015Completed 159.4 MiB/505.4 MiB (46.5 MiB/s) with 91 file(s) remaining#015Completed 159.7 MiB/505.4 MiB (46.5 MiB/s) with 91 file(s) remaining#015Completed 159.9 MiB/505.4 MiB (46.6 MiB/s) with 91 file(s) remaining#015download: s3://sagemaker-us-east-1-905418336534/myvideotrainingdataset/videos/academic_source/NextQA/1162/7961460440.mp4 to videos/academic_source/NextQA/1162/7961460440.mp4\u001b[0m\n",
      "\u001b[34mCompleted 159.9 MiB/505.4 MiB (46.6 MiB/s) with 90 file(s) remaining#015Completed 160.1 MiB/505.4 MiB (46.6 MiB/s) with 90 file(s) remaining#015Completed 160.4 MiB/505.4 MiB (46.6 MiB/s) with 90 file(s) remaining#015Completed 160.5 MiB/505.4 MiB (46.6 MiB/s) with 90 file(s) remaining#015download: s3://sagemaker-us-east-1-905418336534/myvideotrainingdataset/videos/academic_source/activitynet/v_7wBrvMGZROQ.mp4 to videos/academic_source/activitynet/v_7wBrvMGZROQ.mp4\u001b[0m\n",
      "\u001b[34mCompleted 160.5 MiB/505.4 MiB (46.6 MiB/s) with 89 file(s) remaining#015Completed 160.7 MiB/505.4 MiB (46.6 MiB/s) with 89 file(s) remaining#015Completed 161.0 MiB/505.4 MiB (46.7 MiB/s) with 89 file(s) remaining#015Completed 161.2 MiB/505.4 MiB (46.7 MiB/s) with 89 file(s) remaining#015Completed 161.5 MiB/505.4 MiB (46.8 MiB/s) with 89 file(s) remaining#015Completed 161.7 MiB/505.4 MiB (46.9 MiB/s) with 89 file(s) remaining#015Completed 162.0 MiB/505.4 MiB (46.9 MiB/s) with 89 file(s) remaining#015Completed 162.2 MiB/505.4 MiB (47.0 MiB/s) with 89 file(s) remaining#015Completed 162.5 MiB/505.4 MiB (47.1 MiB/s) with 89 file(s) remaining#015Completed 162.7 MiB/505.4 MiB (46.5 MiB/s) with 89 file(s) remaining#015Completed 163.0 MiB/505.4 MiB (46.6 MiB/s) with 89 file(s) remaining#015Completed 163.2 MiB/505.4 MiB (46.7 MiB/s) with 89 file(s) remaining#015Completed 163.5 MiB/505.4 MiB (46.7 MiB/s) with 89 file(s) remaining#015Completed 163.7 MiB/505.4 MiB (46.8 MiB/s) with 89 file(s) remaining#015Completed 164.0 MiB/505.4 MiB (46.8 MiB/s) with 89 file(s) remaining#015Completed 164.2 MiB/505.4 MiB (46.9 MiB/s) with 89 file(s) remaining#015Completed 164.5 MiB/505.4 MiB (47.0 MiB/s) with 89 file(s) remaining#015Completed 164.7 MiB/505.4 MiB (47.0 MiB/s) with 89 file(s) remaining#015Completed 165.0 MiB/505.4 MiB (47.1 MiB/s) with 89 file(s) remaining#015Completed 165.2 MiB/505.4 MiB (47.1 MiB/s) with 89 file(s) remaining#015Completed 165.5 MiB/505.4 MiB (47.1 MiB/s) with 89 file(s) remaining#015Completed 165.7 MiB/505.4 MiB (47.2 MiB/s) with 89 file(s) remaining#015Completed 166.0 MiB/505.4 MiB (47.2 MiB/s) with 89 file(s) remaining#015Completed 166.2 MiB/505.4 MiB (47.3 MiB/s) with 89 file(s) remaining#015Completed 166.5 MiB/505.4 MiB (47.4 MiB/s) with 89 file(s) remaining#015Completed 166.7 MiB/505.4 MiB (47.4 MiB/s) with 89 file(s) remaining#015download: s3://sagemaker-us-east-1-905418336534/myvideotrainingdataset/videos/academic_source/NextQA/1000/4255049031.mp4 to videos/academic_source/NextQA/1000/4255049031.mp4\u001b[0m\n",
      "\u001b[34mCompleted 166.7 MiB/505.4 MiB (47.4 MiB/s) with 88 file(s) remaining#015Completed 167.0 MiB/505.4 MiB (47.5 MiB/s) with 88 file(s) remaining#015Completed 167.0 MiB/505.4 MiB (47.4 MiB/s) with 88 file(s) remaining#015Completed 167.2 MiB/505.4 MiB (47.5 MiB/s) with 88 file(s) remaining#015download: s3://sagemaker-us-east-1-905418336534/myvideotrainingdataset/videos/academic_source/NextQA/1001/6972796508.mp4 to videos/academic_source/NextQA/1001/6972796508.mp4\u001b[0m\n",
      "\u001b[34mCompleted 167.2 MiB/505.4 MiB (47.5 MiB/s) with 87 file(s) remaining#015Completed 167.5 MiB/505.4 MiB (47.5 MiB/s) with 87 file(s) remaining#015Completed 167.7 MiB/505.4 MiB (47.6 MiB/s) with 87 file(s) remaining#015Completed 168.0 MiB/505.4 MiB (47.7 MiB/s) with 87 file(s) remaining#015Completed 168.2 MiB/505.4 MiB (47.7 MiB/s) with 87 file(s) remaining#015Completed 168.5 MiB/505.4 MiB (47.8 MiB/s) with 87 file(s) remaining#015Completed 168.7 MiB/505.4 MiB (47.9 MiB/s) with 87 file(s) remaining#015Completed 169.0 MiB/505.4 MiB (47.9 MiB/s) with 87 file(s) remaining#015Completed 169.2 MiB/505.4 MiB (48.0 MiB/s) with 87 file(s) remaining#015Completed 169.5 MiB/505.4 MiB (48.0 MiB/s) with 87 file(s) remaining#015Completed 169.7 MiB/505.4 MiB (48.1 MiB/s) with 87 file(s) remaining#015Completed 170.0 MiB/505.4 MiB (48.1 MiB/s) with 87 file(s) remaining#015Completed 170.2 MiB/505.4 MiB (48.2 MiB/s) with 87 file(s) remaining#015Completed 170.5 MiB/505.4 MiB (48.3 MiB/s) with 87 file(s) remaining#015Completed 170.7 MiB/505.4 MiB (48.3 MiB/s) with 87 file(s) remaining#015Completed 170.9 MiB/505.4 MiB (48.4 MiB/s) with 87 file(s) remaining#015download: s3://sagemaker-us-east-1-905418336534/myvideotrainingdataset/videos/academic_source/NextQA/1161/10622567214.mp4 to videos/academic_source/NextQA/1161/10622567214.mp4\u001b[0m\n",
      "\u001b[34mCompleted 170.9 MiB/505.4 MiB (48.4 MiB/s) with 86 file(s) remaining#015Completed 171.1 MiB/505.4 MiB (48.4 MiB/s) with 86 file(s) remaining#015Completed 171.4 MiB/505.4 MiB (48.4 MiB/s) with 86 file(s) remaining#015Completed 171.6 MiB/505.4 MiB (48.5 MiB/s) with 86 file(s) remaining#015Completed 171.9 MiB/505.4 MiB (48.5 MiB/s) with 86 file(s) remaining#015Completed 172.1 MiB/505.4 MiB (48.6 MiB/s) with 86 file(s) remaining#015Completed 172.4 MiB/505.4 MiB (48.7 MiB/s) with 86 file(s) remaining#015Completed 172.6 MiB/505.4 MiB (48.7 MiB/s) with 86 file(s) remaining#015Completed 172.9 MiB/505.4 MiB (48.8 MiB/s) with 86 file(s) remaining#015Completed 173.1 MiB/505.4 MiB (48.8 MiB/s) with 86 file(s) remaining#015Completed 173.4 MiB/505.4 MiB (48.9 MiB/s) with 86 file(s) remaining#015Completed 173.6 MiB/505.4 MiB (49.0 MiB/s) with 86 file(s) remaining#015Completed 173.9 MiB/505.4 MiB (49.0 MiB/s) with 86 file(s) remaining#015Completed 174.1 MiB/505.4 MiB (49.1 MiB/s) with 86 file(s) remaining#015Completed 174.2 MiB/505.4 MiB (49.1 MiB/s) with 86 file(s) remaining#015download: s3://sagemaker-us-east-1-905418336534/myvideotrainingdataset/videos/academic_source/NextQA/1124/5250826364.mp4 to videos/academic_source/NextQA/1124/5250826364.mp4\u001b[0m\n",
      "\u001b[34mCompleted 174.2 MiB/505.4 MiB (49.1 MiB/s) with 85 file(s) remaining#015Completed 174.4 MiB/505.4 MiB (49.1 MiB/s) with 85 file(s) remaining#015Completed 174.7 MiB/505.4 MiB (49.1 MiB/s) with 85 file(s) remaining#015Completed 174.9 MiB/505.4 MiB (49.2 MiB/s) with 85 file(s) remaining#015Completed 175.2 MiB/505.4 MiB (49.3 MiB/s) with 85 file(s) remaining#015Completed 175.4 MiB/505.4 MiB (49.3 MiB/s) with 85 file(s) remaining#015Completed 175.7 MiB/505.4 MiB (49.4 MiB/s) with 85 file(s) remaining#015Completed 175.9 MiB/505.4 MiB (49.4 MiB/s) with 85 file(s) remaining#015Completed 176.2 MiB/505.4 MiB (49.5 MiB/s) with 85 file(s) remaining#015Completed 176.4 MiB/505.4 MiB (49.6 MiB/s) with 85 file(s) remaining#015Completed 176.7 MiB/505.4 MiB (49.6 MiB/s) with 85 file(s) remaining#015Completed 176.9 MiB/505.4 MiB (49.7 MiB/s) with 85 file(s) remaining#015Completed 177.2 MiB/505.4 MiB (49.7 MiB/s) with 85 file(s) remaining#015Completed 177.4 MiB/505.4 MiB (49.8 MiB/s) with 85 file(s) remaining#015Completed 177.7 MiB/505.4 MiB (49.9 MiB/s) with 85 file(s) remaining#015Completed 177.9 MiB/505.4 MiB (49.9 MiB/s) with 85 file(s) remaining#015Completed 178.2 MiB/505.4 MiB (50.0 MiB/s) with 85 file(s) remaining#015Completed 178.4 MiB/505.4 MiB (50.1 MiB/s) with 85 file(s) remaining#015Completed 178.7 MiB/505.4 MiB (50.1 MiB/s) with 85 file(s) remaining#015Completed 178.9 MiB/505.4 MiB (50.2 MiB/s) with 85 file(s) remaining#015Completed 179.2 MiB/505.4 MiB (50.2 MiB/s) with 85 file(s) remaining#015Completed 179.4 MiB/505.4 MiB (50.3 MiB/s) with 85 file(s) remaining#015Completed 179.7 MiB/505.4 MiB (50.4 MiB/s) with 85 file(s) remaining#015Completed 179.9 MiB/505.4 MiB (49.9 MiB/s) with 85 file(s) remaining#015Completed 180.2 MiB/505.4 MiB (49.9 MiB/s) with 85 file(s) remaining#015Completed 180.3 MiB/505.4 MiB (50.0 MiB/s) with 85 file(s) remaining#015download: s3://sagemaker-us-east-1-905418336534/myvideotrainingdataset/videos/academic_source/activitynet/v_YZvdzvM-124.mp4 to videos/academic_source/activitynet/v_YZvdzvM-124.mp4\u001b[0m\n",
      "\u001b[34mCompleted 180.3 MiB/505.4 MiB (50.0 MiB/s) with 84 file(s) remaining#015Completed 180.5 MiB/505.4 MiB (50.0 MiB/s) with 84 file(s) remaining#015Completed 180.8 MiB/505.4 MiB (50.1 MiB/s) with 84 file(s) remaining#015Completed 181.0 MiB/505.4 MiB (50.1 MiB/s) with 84 file(s) remaining#015Completed 181.3 MiB/505.4 MiB (50.2 MiB/s) with 84 file(s) remaining#015Completed 181.5 MiB/505.4 MiB (50.2 MiB/s) with 84 file(s) remaining#015download: s3://sagemaker-us-east-1-905418336534/myvideotrainingdataset/videos/academic_source/activitynet/v_dHzX9NqyBZw.mp4 to videos/academic_source/activitynet/v_dHzX9NqyBZw.mp4\u001b[0m\n",
      "\u001b[34mCompleted 181.5 MiB/505.4 MiB (50.2 MiB/s) with 83 file(s) remaining#015Completed 181.7 MiB/505.4 MiB (50.1 MiB/s) with 83 file(s) remaining#015Completed 182.0 MiB/505.4 MiB (50.1 MiB/s) with 83 file(s) remaining#015Completed 182.0 MiB/505.4 MiB (50.1 MiB/s) with 83 file(s) remaining#015download: s3://sagemaker-us-east-1-905418336534/myvideotrainingdataset/videos/academic_source/activitynet/v_sGFbsMKkoYs.mp4 to videos/academic_source/activitynet/v_sGFbsMKkoYs.mp4\u001b[0m\n",
      "\u001b[34mCompleted 182.0 MiB/505.4 MiB (50.1 MiB/s) with 82 file(s) remaining#015Completed 182.3 MiB/505.4 MiB (50.1 MiB/s) with 82 file(s) remaining#015Completed 182.5 MiB/505.4 MiB (50.2 MiB/s) with 82 file(s) remaining#015Completed 182.8 MiB/505.4 MiB (50.3 MiB/s) with 82 file(s) remaining#015Completed 182.9 MiB/505.4 MiB (50.3 MiB/s) with 82 file(s) remaining#015download: s3://sagemaker-us-east-1-905418336534/myvideotrainingdataset/videos/academic_source/NextQA/1023/5327124144.mp4 to videos/academic_source/NextQA/1023/5327124144.mp4\u001b[0m\n",
      "\u001b[34mCompleted 182.9 MiB/505.4 MiB (50.3 MiB/s) with 81 file(s) remaining#015Completed 183.2 MiB/505.4 MiB (50.3 MiB/s) with 81 file(s) remaining#015Completed 183.4 MiB/505.4 MiB (50.4 MiB/s) with 81 file(s) remaining#015Completed 183.7 MiB/505.4 MiB (50.4 MiB/s) with 81 file(s) remaining#015Completed 183.9 MiB/505.4 MiB (50.5 MiB/s) with 81 file(s) remaining#015Completed 184.2 MiB/505.4 MiB (50.6 MiB/s) with 81 file(s) remaining#015Completed 184.4 MiB/505.4 MiB (50.6 MiB/s) with 81 file(s) remaining#015download: s3://sagemaker-us-east-1-905418336534/myvideotrainingdataset/videos/academic_source/activitynet/v_7lNAmkaMyyg.mp4 to videos/academic_source/activitynet/v_7lNAmkaMyyg.mp4\u001b[0m\n",
      "\u001b[34mCompleted 184.4 MiB/505.4 MiB (50.6 MiB/s) with 80 file(s) remaining#015Completed 184.6 MiB/505.4 MiB (50.4 MiB/s) with 80 file(s) remaining#015Completed 184.9 MiB/505.4 MiB (50.5 MiB/s) with 80 file(s) remaining#015Completed 185.1 MiB/505.4 MiB (50.5 MiB/s) with 80 file(s) remaining#015Completed 185.4 MiB/505.4 MiB (50.6 MiB/s) with 80 file(s) remaining#015Completed 185.6 MiB/505.4 MiB (50.6 MiB/s) with 80 file(s) remaining#015Completed 185.9 MiB/505.4 MiB (50.7 MiB/s) with 80 file(s) remaining#015Completed 186.1 MiB/505.4 MiB (50.7 MiB/s) with 80 file(s) remaining#015Completed 186.4 MiB/505.4 MiB (50.8 MiB/s) with 80 file(s) remaining#015Completed 186.6 MiB/505.4 MiB (50.6 MiB/s) with 80 file(s) remaining#015Completed 186.9 MiB/505.4 MiB (50.7 MiB/s) with 80 file(s) remaining#015Completed 187.1 MiB/505.4 MiB (50.8 MiB/s) with 80 file(s) remaining#015Completed 187.4 MiB/505.4 MiB (50.8 MiB/s) with 80 file(s) remaining#015Completed 187.6 MiB/505.4 MiB (50.9 MiB/s) with 80 file(s) remaining#015Completed 187.9 MiB/505.4 MiB (50.9 MiB/s) with 80 file(s) remaining#015Completed 188.1 MiB/505.4 MiB (50.9 MiB/s) with 80 file(s) remaining#015download: s3://sagemaker-us-east-1-905418336534/myvideotrainingdataset/videos/academic_source/activitynet/v_IcfWEKjl_AY.mp4 to videos/academic_source/activitynet/v_IcfWEKjl_AY.mp4\u001b[0m\n",
      "\u001b[34mCompleted 188.1 MiB/505.4 MiB (50.9 MiB/s) with 79 file(s) remaining#015Completed 188.4 MiB/505.4 MiB (51.0 MiB/s) with 79 file(s) remaining#015Completed 188.6 MiB/505.4 MiB (51.0 MiB/s) with 79 file(s) remaining#015Completed 188.6 MiB/505.4 MiB (51.0 MiB/s) with 79 file(s) remaining#015download: s3://sagemaker-us-east-1-905418336534/myvideotrainingdataset/videos/academic_source/activitynet/v_FCe1NVTbaZ4.mp4 to videos/academic_source/activitynet/v_FCe1NVTbaZ4.mp4\u001b[0m\n",
      "\u001b[34mCompleted 188.6 MiB/505.4 MiB (51.0 MiB/s) with 78 file(s) remaining#015Completed 188.9 MiB/505.4 MiB (50.9 MiB/s) with 78 file(s) remaining#015Completed 189.1 MiB/505.4 MiB (51.0 MiB/s) with 78 file(s) remaining#015Completed 189.4 MiB/505.4 MiB (51.0 MiB/s) with 78 file(s) remaining#015Completed 189.6 MiB/505.4 MiB (51.1 MiB/s) with 78 file(s) remaining#015Completed 189.9 MiB/505.4 MiB (51.2 MiB/s) with 78 file(s) remaining#015Completed 190.1 MiB/505.4 MiB (51.2 MiB/s) with 78 file(s) remaining#015Completed 190.4 MiB/505.4 MiB (51.3 MiB/s) with 78 file(s) remaining#015Completed 190.4 MiB/505.4 MiB (51.3 MiB/s) with 78 file(s) remaining#015download: s3://sagemaker-us-east-1-905418336534/myvideotrainingdataset/videos/academic_source/youcook2/107/5I-_uJQ0t1o/split_3.mp4 to videos/academic_source/youcook2/107/5I-_uJQ0t1o/split_3.mp4\u001b[0m\n",
      "\u001b[34mCompleted 190.4 MiB/505.4 MiB (51.3 MiB/s) with 77 file(s) remaining#015Completed 190.6 MiB/505.4 MiB (51.3 MiB/s) with 77 file(s) remaining#015Completed 190.9 MiB/505.4 MiB (51.4 MiB/s) with 77 file(s) remaining#015Completed 191.1 MiB/505.4 MiB (51.4 MiB/s) with 77 file(s) remaining#015Completed 191.4 MiB/505.4 MiB (51.5 MiB/s) with 77 file(s) remaining#015Completed 191.5 MiB/505.4 MiB (51.5 MiB/s) with 77 file(s) remaining#015download: s3://sagemaker-us-east-1-905418336534/myvideotrainingdataset/videos/academic_source/activitynet/v_2RxbcK90TeA.mp4 to videos/academic_source/activitynet/v_2RxbcK90TeA.mp4\u001b[0m\n",
      "\u001b[34mCompleted 191.5 MiB/505.4 MiB (51.5 MiB/s) with 76 file(s) remaining#015Completed 191.8 MiB/505.4 MiB (51.6 MiB/s) with 76 file(s) remaining#015Completed 192.0 MiB/505.4 MiB (51.6 MiB/s) with 76 file(s) remaining#015Completed 192.3 MiB/505.4 MiB (51.7 MiB/s) with 76 file(s) remaining#015Completed 192.5 MiB/505.4 MiB (51.7 MiB/s) with 76 file(s) remaining#015Completed 192.8 MiB/505.4 MiB (51.8 MiB/s) with 76 file(s) remaining#015Completed 193.0 MiB/505.4 MiB (51.8 MiB/s) with 76 file(s) remaining#015Completed 193.3 MiB/505.4 MiB (51.9 MiB/s) with 76 file(s) remaining#015Completed 193.4 MiB/505.4 MiB (51.9 MiB/s) with 76 file(s) remaining#015download: s3://sagemaker-us-east-1-905418336534/myvideotrainingdataset/videos/academic_source/NextQA/1124/3134451316.mp4 to videos/academic_source/NextQA/1124/3134451316.mp4\u001b[0m\n",
      "\u001b[34mCompleted 193.4 MiB/505.4 MiB (51.9 MiB/s) with 75 file(s) remaining#015Completed 193.7 MiB/505.4 MiB (51.9 MiB/s) with 75 file(s) remaining#015Completed 193.9 MiB/505.4 MiB (52.0 MiB/s) with 75 file(s) remaining#015Completed 194.0 MiB/505.4 MiB (52.0 MiB/s) with 75 file(s) remaining#015download: s3://sagemaker-us-east-1-905418336534/myvideotrainingdataset/videos/academic_source/NextQA/1164/7383417060.mp4 to videos/academic_source/NextQA/1164/7383417060.mp4\u001b[0m\n",
      "\u001b[34mCompleted 194.0 MiB/505.4 MiB (52.0 MiB/s) with 74 file(s) remaining#015Completed 194.2 MiB/505.4 MiB (52.0 MiB/s) with 74 file(s) remaining#015Completed 194.5 MiB/505.4 MiB (52.1 MiB/s) with 74 file(s) remaining#015Completed 194.7 MiB/505.4 MiB (52.1 MiB/s) with 74 file(s) remaining#015Completed 195.0 MiB/505.4 MiB (52.2 MiB/s) with 74 file(s) remaining#015Completed 195.2 MiB/505.4 MiB (52.2 MiB/s) with 74 file(s) remaining#015download: s3://sagemaker-us-east-1-905418336534/myvideotrainingdataset/videos/academic_source/activitynet/v_92kGXXfm6ok.mp4 to videos/academic_source/activitynet/v_92kGXXfm6ok.mp4\u001b[0m\n",
      "\u001b[34mCompleted 195.2 MiB/505.4 MiB (52.2 MiB/s) with 73 file(s) remaining#015Completed 195.4 MiB/505.4 MiB (52.1 MiB/s) with 73 file(s) remaining#015Completed 195.7 MiB/505.4 MiB (52.1 MiB/s) with 73 file(s) remaining#015Completed 195.9 MiB/505.4 MiB (52.2 MiB/s) with 73 file(s) remaining#015Completed 196.2 MiB/505.4 MiB (52.2 MiB/s) with 73 file(s) remaining#015Completed 196.4 MiB/505.4 MiB (52.3 MiB/s) with 73 file(s) remaining#015Completed 196.7 MiB/505.4 MiB (52.3 MiB/s) with 73 file(s) remaining#015Completed 196.9 MiB/505.4 MiB (52.4 MiB/s) with 73 file(s) remaining#015Completed 197.1 MiB/505.4 MiB (52.4 MiB/s) with 73 file(s) remaining#015download: s3://sagemaker-us-east-1-905418336534/myvideotrainingdataset/videos/academic_source/activitynet/v_AOteP9srRpw.mp4 to videos/academic_source/activitynet/v_AOteP9srRpw.mp4\u001b[0m\n",
      "\u001b[34mCompleted 197.1 MiB/505.4 MiB (52.4 MiB/s) with 72 file(s) remaining#015Completed 197.3 MiB/505.4 MiB (52.4 MiB/s) with 72 file(s) remaining#015Completed 197.6 MiB/505.4 MiB (52.5 MiB/s) with 72 file(s) remaining#015Completed 197.8 MiB/505.4 MiB (52.6 MiB/s) with 72 file(s) remaining#015Completed 198.1 MiB/505.4 MiB (52.6 MiB/s) with 72 file(s) remaining#015Completed 198.3 MiB/505.4 MiB (52.7 MiB/s) with 72 file(s) remaining#015Completed 198.6 MiB/505.4 MiB (52.7 MiB/s) with 72 file(s) remaining#015Completed 198.8 MiB/505.4 MiB (52.8 MiB/s) with 72 file(s) remaining#015Completed 199.1 MiB/505.4 MiB (52.8 MiB/s) with 72 file(s) remaining#015Completed 199.3 MiB/505.4 MiB (52.9 MiB/s) with 72 file(s) remaining#015Completed 199.6 MiB/505.4 MiB (52.9 MiB/s) with 72 file(s) remaining#015Completed 199.8 MiB/505.4 MiB (53.0 MiB/s) with 72 file(s) remaining#015Completed 200.1 MiB/505.4 MiB (53.1 MiB/s) with 72 file(s) remaining#015Completed 200.3 MiB/505.4 MiB (53.1 MiB/s) with 72 file(s) remaining#015Completed 200.6 MiB/505.4 MiB (53.2 MiB/s) with 72 file(s) remaining#015Completed 200.8 MiB/505.4 MiB (53.2 MiB/s) with 72 file(s) remaining#015Completed 201.1 MiB/505.4 MiB (53.3 MiB/s) with 72 file(s) remaining#015Completed 201.3 MiB/505.4 MiB (53.4 MiB/s) with 72 file(s) remaining#015Completed 201.6 MiB/505.4 MiB (53.4 MiB/s) with 72 file(s) remaining#015Completed 201.8 MiB/505.4 MiB (53.5 MiB/s) with 72 file(s) remaining#015Completed 202.1 MiB/505.4 MiB (53.5 MiB/s) with 72 file(s) remaining#015Completed 202.3 MiB/505.4 MiB (53.4 MiB/s) with 72 file(s) remaining#015Completed 202.6 MiB/505.4 MiB (53.5 MiB/s) with 72 file(s) remaining#015Completed 202.8 MiB/505.4 MiB (53.5 MiB/s) with 72 file(s) remaining#015Completed 203.1 MiB/505.4 MiB (53.6 MiB/s) with 72 file(s) remaining#015Completed 203.3 MiB/505.4 MiB (53.6 MiB/s) with 72 file(s) remaining#015Completed 203.6 MiB/505.4 MiB (53.7 MiB/s) with 72 file(s) remaining#015Completed 203.8 MiB/505.4 MiB (53.7 MiB/s) with 72 file(s) remaining#015Completed 204.0 MiB/505.4 MiB (53.8 MiB/s) with 72 file(s) remaining#015download: s3://sagemaker-us-east-1-905418336534/myvideotrainingdataset/videos/academic_source/youcook2/108/4zO87oc_r-c/split_8.mp4 to videos/academic_source/youcook2/108/4zO87oc_r-c/split_8.mp4\u001b[0m\n",
      "\u001b[34mCompleted 204.0 MiB/505.4 MiB (53.8 MiB/s) with 71 file(s) remaining#015Completed 204.3 MiB/505.4 MiB (53.8 MiB/s) with 71 file(s) remaining#015Completed 204.5 MiB/505.4 MiB (53.9 MiB/s) with 71 file(s) remaining#015Completed 204.8 MiB/505.4 MiB (53.9 MiB/s) with 71 file(s) remaining#015download: s3://sagemaker-us-east-1-905418336534/myvideotrainingdataset/videos/academic_source/activitynet/v_i2e67kStfk4.mp4 to videos/academic_source/activitynet/v_i2e67kStfk4.mp4\u001b[0m\n",
      "\u001b[34mCompleted 204.8 MiB/505.4 MiB (53.9 MiB/s) with 70 file(s) remaining#015Completed 205.0 MiB/505.4 MiB (53.9 MiB/s) with 70 file(s) remaining#015Completed 205.3 MiB/505.4 MiB (53.9 MiB/s) with 70 file(s) remaining#015Completed 205.5 MiB/505.4 MiB (54.0 MiB/s) with 70 file(s) remaining#015Completed 205.8 MiB/505.4 MiB (54.0 MiB/s) with 70 file(s) remaining#015Completed 206.0 MiB/505.4 MiB (54.1 MiB/s) with 70 file(s) remaining#015Completed 206.3 MiB/505.4 MiB (54.1 MiB/s) with 70 file(s) remaining#015Completed 206.5 MiB/505.4 MiB (54.2 MiB/s) with 70 file(s) remaining#015Completed 206.8 MiB/505.4 MiB (54.2 MiB/s) with 70 file(s) remaining#015Completed 207.0 MiB/505.4 MiB (54.3 MiB/s) with 70 file(s) remaining#015Completed 207.3 MiB/505.4 MiB (54.3 MiB/s) with 70 file(s) remaining#015Completed 207.5 MiB/505.4 MiB (54.4 MiB/s) with 70 file(s) remaining#015Completed 207.8 MiB/505.4 MiB (54.4 MiB/s) with 70 file(s) remaining#015Completed 208.0 MiB/505.4 MiB (54.5 MiB/s) with 70 file(s) remaining#015Completed 208.3 MiB/505.4 MiB (54.5 MiB/s) with 70 file(s) remaining#015Completed 208.5 MiB/505.4 MiB (54.6 MiB/s) with 70 file(s) remaining#015Completed 208.8 MiB/505.4 MiB (54.7 MiB/s) with 70 file(s) remaining#015Completed 209.0 MiB/505.4 MiB (54.7 MiB/s) with 70 file(s) remaining#015Completed 209.3 MiB/505.4 MiB (54.8 MiB/s) with 70 file(s) remaining#015Completed 209.5 MiB/505.4 MiB (54.8 MiB/s) with 70 file(s) remaining#015Completed 209.8 MiB/505.4 MiB (54.9 MiB/s) with 70 file(s) remaining#015Completed 210.0 MiB/505.4 MiB (54.9 MiB/s) with 70 file(s) remaining#015Completed 210.3 MiB/505.4 MiB (55.0 MiB/s) with 70 file(s) remaining#015Completed 210.5 MiB/505.4 MiB (55.1 MiB/s) with 70 file(s) remaining#015Completed 210.8 MiB/505.4 MiB (55.1 MiB/s) with 70 file(s) remaining#015Completed 211.0 MiB/505.4 MiB (55.2 MiB/s) with 70 file(s) remaining#015Completed 211.3 MiB/505.4 MiB (55.2 MiB/s) with 70 file(s) remaining#015download: s3://sagemaker-us-east-1-905418336534/myvideotrainingdataset/videos/academic_source/youcook2/113/GLd3aX16zBg/split_1.mp4 to videos/academic_source/youcook2/113/GLd3aX16zBg/split_1.mp4\u001b[0m\n",
      "\u001b[34mCompleted 211.3 MiB/505.4 MiB (55.2 MiB/s) with 69 file(s) remaining#015Completed 211.5 MiB/505.4 MiB (55.3 MiB/s) with 69 file(s) remaining#015Completed 211.8 MiB/505.4 MiB (55.3 MiB/s) with 69 file(s) remaining#015Completed 212.0 MiB/505.4 MiB (55.4 MiB/s) with 69 file(s) remaining#015Completed 212.3 MiB/505.4 MiB (55.4 MiB/s) with 69 file(s) remaining#015Completed 212.5 MiB/505.4 MiB (55.1 MiB/s) with 69 file(s) remaining#015Completed 212.8 MiB/505.4 MiB (55.2 MiB/s) with 69 file(s) remaining#015Completed 212.9 MiB/505.4 MiB (55.2 MiB/s) with 69 file(s) remaining#015download: s3://sagemaker-us-east-1-905418336534/myvideotrainingdataset/videos/academic_source/youcook2/113/dn1qrAHh7k0/split_2.mp4 to videos/academic_source/youcook2/113/dn1qrAHh7k0/split_2.mp4\u001b[0m\n",
      "\u001b[34mCompleted 212.9 MiB/505.4 MiB (55.2 MiB/s) with 68 file(s) remaining#015Completed 213.2 MiB/505.4 MiB (55.2 MiB/s) with 68 file(s) remaining#015Completed 213.4 MiB/505.4 MiB (55.3 MiB/s) with 68 file(s) remaining#015Completed 213.7 MiB/505.4 MiB (55.4 MiB/s) with 68 file(s) remaining#015Completed 213.9 MiB/505.4 MiB (55.4 MiB/s) with 68 file(s) remaining#015Completed 214.2 MiB/505.4 MiB (55.5 MiB/s) with 68 file(s) remaining#015Completed 214.4 MiB/505.4 MiB (55.5 MiB/s) with 68 file(s) remaining#015Completed 214.7 MiB/505.4 MiB (55.6 MiB/s) with 68 file(s) remaining#015Completed 214.9 MiB/505.4 MiB (55.6 MiB/s) with 68 file(s) remaining#015Completed 215.2 MiB/505.4 MiB (55.7 MiB/s) with 68 file(s) remaining#015Completed 215.4 MiB/505.4 MiB (55.7 MiB/s) with 68 file(s) remaining#015Completed 215.7 MiB/505.4 MiB (55.8 MiB/s) with 68 file(s) remaining#015Completed 215.9 MiB/505.4 MiB (55.8 MiB/s) with 68 file(s) remaining#015Completed 216.2 MiB/505.4 MiB (55.9 MiB/s) with 68 file(s) remaining#015Completed 216.4 MiB/505.4 MiB (55.9 MiB/s) with 68 file(s) remaining#015download: s3://sagemaker-us-east-1-905418336534/myvideotrainingdataset/videos/academic_source/NextQA/1120/6537701021.mp4 to videos/academic_source/NextQA/1120/6537701021.mp4\u001b[0m\n",
      "\u001b[34mCompleted 216.4 MiB/505.4 MiB (55.9 MiB/s) with 67 file(s) remaining#015Completed 216.6 MiB/505.4 MiB (56.0 MiB/s) with 67 file(s) remaining#015Completed 216.9 MiB/505.4 MiB (56.0 MiB/s) with 67 file(s) remaining#015Completed 217.1 MiB/505.4 MiB (56.1 MiB/s) with 67 file(s) remaining#015Completed 217.4 MiB/505.4 MiB (56.1 MiB/s) with 67 file(s) remaining#015Completed 217.6 MiB/505.4 MiB (56.1 MiB/s) with 67 file(s) remaining#015Completed 217.9 MiB/505.4 MiB (56.2 MiB/s) with 67 file(s) remaining#015Completed 218.1 MiB/505.4 MiB (56.2 MiB/s) with 67 file(s) remaining#015Completed 218.4 MiB/505.4 MiB (56.3 MiB/s) with 67 file(s) remaining#015Completed 218.6 MiB/505.4 MiB (56.3 MiB/s) with 67 file(s) remaining#015Completed 218.9 MiB/505.4 MiB (56.4 MiB/s) with 67 file(s) remaining#015Completed 219.1 MiB/505.4 MiB (56.4 MiB/s) with 67 file(s) remaining#015Completed 219.4 MiB/505.4 MiB (56.5 MiB/s) with 67 file(s) remaining#015Completed 219.6 MiB/505.4 MiB (56.5 MiB/s) with 67 file(s) remaining#015Completed 219.9 MiB/505.4 MiB (56.6 MiB/s) with 67 file(s) remaining#015Completed 220.1 MiB/505.4 MiB (56.6 MiB/s) with 67 file(s) remaining#015Completed 220.4 MiB/505.4 MiB (56.7 MiB/s) with 67 file(s) remaining#015Completed 220.6 MiB/505.4 MiB (56.7 MiB/s) with 67 file(s) remaining#015Completed 220.9 MiB/505.4 MiB (56.8 MiB/s) with 67 file(s) remaining#015Completed 221.1 MiB/505.4 MiB (56.8 MiB/s) with 67 file(s) remaining#015Completed 221.4 MiB/505.4 MiB (56.9 MiB/s) with 67 file(s) remaining#015Completed 221.6 MiB/505.4 MiB (57.0 MiB/s) with 67 file(s) remaining#015Completed 221.9 MiB/505.4 MiB (57.0 MiB/s) with 67 file(s) remaining#015Completed 222.1 MiB/505.4 MiB (57.1 MiB/s) with 67 file(s) remaining#015Completed 222.4 MiB/505.4 MiB (57.1 MiB/s) with 67 file(s) remaining#015Completed 222.5 MiB/505.4 MiB (57.1 MiB/s) with 67 file(s) remaining#015download: s3://sagemaker-us-east-1-905418336534/myvideotrainingdataset/videos/academic_source/youcook2/115/9CUkuWWVSjE/split_0.mp4 to videos/academic_source/youcook2/115/9CUkuWWVSjE/split_0.mp4\u001b[0m\n",
      "\u001b[34mCompleted 222.5 MiB/505.4 MiB (57.1 MiB/s) with 66 file(s) remaining#015Completed 222.7 MiB/505.4 MiB (57.1 MiB/s) with 66 file(s) remaining#015Completed 223.0 MiB/505.4 MiB (57.2 MiB/s) with 66 file(s) remaining#015Completed 223.2 MiB/505.4 MiB (57.2 MiB/s) with 66 file(s) remaining#015Completed 223.5 MiB/505.4 MiB (57.3 MiB/s) with 66 file(s) remaining#015Completed 223.7 MiB/505.4 MiB (57.4 MiB/s) with 66 file(s) remaining#015Completed 224.0 MiB/505.4 MiB (57.4 MiB/s) with 66 file(s) remaining#015Completed 224.2 MiB/505.4 MiB (57.5 MiB/s) with 66 file(s) remaining#015Completed 224.5 MiB/505.4 MiB (57.5 MiB/s) with 66 file(s) remaining#015Completed 224.7 MiB/505.4 MiB (57.6 MiB/s) with 66 file(s) remaining#015Completed 225.0 MiB/505.4 MiB (57.6 MiB/s) with 66 file(s) remaining#015Completed 225.2 MiB/505.4 MiB (57.7 MiB/s) with 66 file(s) remaining#015Completed 225.5 MiB/505.4 MiB (57.8 MiB/s) with 66 file(s) remaining#015Completed 225.7 MiB/505.4 MiB (57.8 MiB/s) with 66 file(s) remaining#015Completed 226.0 MiB/505.4 MiB (57.9 MiB/s) with 66 file(s) remaining#015Completed 226.2 MiB/505.4 MiB (57.9 MiB/s) with 66 file(s) remaining#015Completed 226.5 MiB/505.4 MiB (58.0 MiB/s) with 66 file(s) remaining#015Completed 226.7 MiB/505.4 MiB (58.0 MiB/s) with 66 file(s) remaining#015Completed 227.0 MiB/505.4 MiB (58.1 MiB/s) with 66 file(s) remaining#015Completed 227.2 MiB/505.4 MiB (58.1 MiB/s) with 66 file(s) remaining#015Completed 227.5 MiB/505.4 MiB (58.2 MiB/s) with 66 file(s) remaining#015Completed 227.7 MiB/505.4 MiB (58.2 MiB/s) with 66 file(s) remaining#015Completed 228.0 MiB/505.4 MiB (58.3 MiB/s) with 66 file(s) remaining#015Completed 228.2 MiB/505.4 MiB (58.3 MiB/s) with 66 file(s) remaining#015Completed 228.5 MiB/505.4 MiB (58.4 MiB/s) with 66 file(s) remaining#015Completed 228.7 MiB/505.4 MiB (58.4 MiB/s) with 66 file(s) remaining#015Completed 229.0 MiB/505.4 MiB (58.5 MiB/s) with 66 file(s) remaining#015Completed 229.2 MiB/505.4 MiB (58.5 MiB/s) with 66 file(s) remaining#015Completed 229.5 MiB/505.4 MiB (58.6 MiB/s) with 66 file(s) remaining#015Completed 229.7 MiB/505.4 MiB (58.6 MiB/s) with 66 file(s) remaining#015Completed 230.0 MiB/505.4 MiB (58.7 MiB/s) with 66 file(s) remaining#015Completed 230.2 MiB/505.4 MiB (58.8 MiB/s) with 66 file(s) remaining#015Completed 230.5 MiB/505.4 MiB (58.8 MiB/s) with 66 file(s) remaining#015Completed 230.7 MiB/505.4 MiB (58.9 MiB/s) with 66 file(s) remaining#015Completed 231.0 MiB/505.4 MiB (58.9 MiB/s) with 66 file(s) remaining#015Completed 231.2 MiB/505.4 MiB (59.0 MiB/s) with 66 file(s) remaining#015Completed 231.5 MiB/505.4 MiB (59.0 MiB/s) with 66 file(s) remaining#015Completed 231.7 MiB/505.4 MiB (59.1 MiB/s) with 66 file(s) remaining#015Completed 232.0 MiB/505.4 MiB (59.1 MiB/s) with 66 file(s) remaining#015Completed 232.2 MiB/505.4 MiB (59.2 MiB/s) with 66 file(s) remaining#015Completed 232.5 MiB/505.4 MiB (59.2 MiB/s) with 66 file(s) remaining#015Completed 232.7 MiB/505.4 MiB (59.3 MiB/s) with 66 file(s) remaining#015Completed 233.0 MiB/505.4 MiB (59.4 MiB/s) with 66 file(s) remaining#015Completed 233.2 MiB/505.4 MiB (59.4 MiB/s) with 66 file(s) remaining#015Completed 233.5 MiB/505.4 MiB (59.4 MiB/s) with 66 file(s) remaining#015Completed 233.7 MiB/505.4 MiB (59.4 MiB/s) with 66 file(s) remaining#015Completed 234.0 MiB/505.4 MiB (59.5 MiB/s) with 66 file(s) remaining#015Completed 234.2 MiB/505.4 MiB (59.5 MiB/s) with 66 file(s) remaining#015Completed 234.5 MiB/505.4 MiB (59.6 MiB/s) with 66 file(s) remaining#015Completed 234.7 MiB/505.4 MiB (59.6 MiB/s) with 66 file(s) remaining#015Completed 235.0 MiB/505.4 MiB (59.7 MiB/s) with 66 file(s) remaining#015Completed 235.2 MiB/505.4 MiB (59.7 MiB/s) with 66 file(s) remaining#015Completed 235.5 MiB/505.4 MiB (59.3 MiB/s) with 66 file(s) remaining#015Completed 235.7 MiB/505.4 MiB (59.4 MiB/s) with 66 file(s) remaining#015Completed 236.0 MiB/505.4 MiB (59.4 MiB/s) with 66 file(s) remaining#015Completed 236.2 MiB/505.4 MiB (59.5 MiB/s) with 66 file(s) remaining#015Completed 236.5 MiB/505.4 MiB (59.5 MiB/s) with 66 file(s) remaining#015Completed 236.7 MiB/505.4 MiB (59.6 MiB/s) with 66 file(s) remaining#015Completed 237.0 MiB/505.4 MiB (59.6 MiB/s) with 66 file(s) remaining#015Completed 237.2 MiB/505.4 MiB (59.7 MiB/s) with 66 file(s) remaining#015Completed 237.5 MiB/505.4 MiB (59.7 MiB/s) with 66 file(s) remaining#015Completed 237.7 MiB/505.4 MiB (59.8 MiB/s) with 66 file(s) remaining#015Completed 238.0 MiB/505.4 MiB (59.8 MiB/s) with 66 file(s) remaining#015Completed 238.2 MiB/505.4 MiB (59.9 MiB/s) with 66 file(s) remaining#015Completed 238.5 MiB/505.4 MiB (59.9 MiB/s) with 66 file(s) remaining#015Completed 238.7 MiB/505.4 MiB (60.0 MiB/s) with 66 file(s) remaining#015Completed 239.0 MiB/505.4 MiB (60.0 MiB/s) with 66 file(s) remaining#015Completed 239.2 MiB/505.4 MiB (60.1 MiB/s) with 66 file(s) remaining#015Completed 239.5 MiB/505.4 MiB (60.1 MiB/s) with 66 file(s) remaining#015Completed 239.7 MiB/505.4 MiB (60.2 MiB/s) with 66 file(s) remaining#015Completed 240.0 MiB/505.4 MiB (60.2 MiB/s) with 66 file(s) remaining#015Completed 240.2 MiB/505.4 MiB (60.3 MiB/s) with 66 file(s) remaining#015Completed 240.5 MiB/505.4 MiB (60.3 MiB/s) with 66 file(s) remaining#015Completed 240.7 MiB/505.4 MiB (60.4 MiB/s) with 66 file(s) remaining#015Completed 241.0 MiB/505.4 MiB (60.4 MiB/s) with 66 file(s) remaining#015Completed 241.2 MiB/505.4 MiB (60.5 MiB/s) with 66 file(s) remaining#015Completed 241.5 MiB/505.4 MiB (60.5 MiB/s) with 66 file(s) remaining#015Completed 241.7 MiB/505.4 MiB (60.6 MiB/s) with 66 file(s) remaining#015Completed 242.0 MiB/505.4 MiB (60.6 MiB/s) with 66 file(s) remaining#015Completed 242.2 MiB/505.4 MiB (60.7 MiB/s) with 66 file(s) remaining#015Completed 242.5 MiB/505.4 MiB (60.7 MiB/s) with 66 file(s) remaining#015Completed 242.7 MiB/505.4 MiB (60.8 MiB/s) with 66 file(s) remaining#015Completed 243.0 MiB/505.4 MiB (60.8 MiB/s) with 66 file(s) remaining#015Completed 243.2 MiB/505.4 MiB (60.9 MiB/s) with 66 file(s) remaining#015Completed 243.5 MiB/505.4 MiB (60.8 MiB/s) with 66 file(s) remaining#015Completed 243.7 MiB/505.4 MiB (60.8 MiB/s) with 66 file(s) remaining#015Completed 244.0 MiB/505.4 MiB (60.9 MiB/s) with 66 file(s) remaining#015Completed 244.2 MiB/505.4 MiB (60.9 MiB/s) with 66 file(s) remaining#015Completed 244.5 MiB/505.4 MiB (61.0 MiB/s) with 66 file(s) remaining#015Completed 244.7 MiB/505.4 MiB (61.0 MiB/s) with 66 file(s) remaining#015download: s3://sagemaker-us-east-1-905418336534/myvideotrainingdataset/videos/academic_source/activitynet/v_yVsOoFr61x4.mp4 to videos/academic_source/activitynet/v_yVsOoFr61x4.mp4\u001b[0m\n",
      "\u001b[34mCompleted 244.7 MiB/505.4 MiB (61.0 MiB/s) with 65 file(s) remaining#015Completed 245.0 MiB/505.4 MiB (61.1 MiB/s) with 65 file(s) remaining#015Completed 245.2 MiB/505.4 MiB (61.1 MiB/s) with 65 file(s) remaining#015Completed 245.5 MiB/505.4 MiB (61.2 MiB/s) with 65 file(s) remaining#015Completed 245.7 MiB/505.4 MiB (61.2 MiB/s) with 65 file(s) remaining#015Completed 246.0 MiB/505.4 MiB (61.3 MiB/s) with 65 file(s) remaining#015Completed 246.2 MiB/505.4 MiB (61.3 MiB/s) with 65 file(s) remaining#015Completed 246.5 MiB/505.4 MiB (61.4 MiB/s) with 65 file(s) remaining#015Completed 246.7 MiB/505.4 MiB (61.4 MiB/s) with 65 file(s) remaining#015Completed 247.0 MiB/505.4 MiB (61.5 MiB/s) with 65 file(s) remaining#015Completed 247.2 MiB/505.4 MiB (61.5 MiB/s) with 65 file(s) remaining#015Completed 247.5 MiB/505.4 MiB (61.4 MiB/s) with 65 file(s) remaining#015Completed 247.7 MiB/505.4 MiB (61.5 MiB/s) with 65 file(s) remaining#015Completed 248.0 MiB/505.4 MiB (61.5 MiB/s) with 65 file(s) remaining#015Completed 248.2 MiB/505.4 MiB (61.6 MiB/s) with 65 file(s) remaining#015Completed 248.5 MiB/505.4 MiB (61.6 MiB/s) with 65 file(s) remaining#015Completed 248.5 MiB/505.4 MiB (61.6 MiB/s) with 65 file(s) remaining#015download: s3://sagemaker-us-east-1-905418336534/myvideotrainingdataset/videos/academic_source/youcook2/101/ucky1nWb7LY/split_6.mp4 to videos/academic_source/youcook2/101/ucky1nWb7LY/split_6.mp4\u001b[0m\n",
      "\u001b[34mCompleted 248.5 MiB/505.4 MiB (61.6 MiB/s) with 64 file(s) remaining#015Completed 248.8 MiB/505.4 MiB (61.7 MiB/s) with 64 file(s) remaining#015Completed 249.0 MiB/505.4 MiB (61.7 MiB/s) with 64 file(s) remaining#015Completed 249.3 MiB/505.4 MiB (61.8 MiB/s) with 64 file(s) remaining#015Completed 249.5 MiB/505.4 MiB (61.8 MiB/s) with 64 file(s) remaining#015Completed 249.8 MiB/505.4 MiB (61.9 MiB/s) with 64 file(s) remaining#015Completed 250.0 MiB/505.4 MiB (61.9 MiB/s) with 64 file(s) remaining#015Completed 250.3 MiB/505.4 MiB (62.0 MiB/s) with 64 file(s) remaining#015Completed 250.5 MiB/505.4 MiB (62.0 MiB/s) with 64 file(s) remaining#015Completed 250.8 MiB/505.4 MiB (62.1 MiB/s) with 64 file(s) remaining#015Completed 251.0 MiB/505.4 MiB (62.1 MiB/s) with 64 file(s) remaining#015Completed 251.3 MiB/505.4 MiB (62.2 MiB/s) with 64 file(s) remaining#015Completed 251.5 MiB/505.4 MiB (62.2 MiB/s) with 64 file(s) remaining#015Completed 251.8 MiB/505.4 MiB (62.3 MiB/s) with 64 file(s) remaining#015Completed 252.0 MiB/505.4 MiB (62.3 MiB/s) with 64 file(s) remaining#015Completed 252.3 MiB/505.4 MiB (62.4 MiB/s) with 64 file(s) remaining#015Completed 252.5 MiB/505.4 MiB (62.4 MiB/s) with 64 file(s) remaining#015Completed 252.8 MiB/505.4 MiB (62.5 MiB/s) with 64 file(s) remaining#015Completed 253.0 MiB/505.4 MiB (62.5 MiB/s) with 64 file(s) remaining#015Completed 253.3 MiB/505.4 MiB (62.6 MiB/s) with 64 file(s) remaining#015Completed 253.5 MiB/505.4 MiB (62.6 MiB/s) with 64 file(s) remaining#015Completed 253.7 MiB/505.4 MiB (62.7 MiB/s) with 64 file(s) remaining#015download: s3://sagemaker-us-east-1-905418336534/myvideotrainingdataset/videos/academic_source/youcook2/106/UHmKlQ2OkTM/split_6.mp4 to videos/academic_source/youcook2/106/UHmKlQ2OkTM/split_6.mp4\u001b[0m\n",
      "\u001b[34mCompleted 253.7 MiB/505.4 MiB (62.7 MiB/s) with 63 file(s) remaining#015Completed 254.0 MiB/505.4 MiB (62.7 MiB/s) with 63 file(s) remaining#015Completed 254.2 MiB/505.4 MiB (62.7 MiB/s) with 63 file(s) remaining#015download: s3://sagemaker-us-east-1-905418336534/myvideotrainingdataset/videos/academic_source/youcook2/117/zZysbuDEtWY/split_8.mp4 to videos/academic_source/youcook2/117/zZysbuDEtWY/split_8.mp4\u001b[0m\n",
      "\u001b[34mCompleted 254.2 MiB/505.4 MiB (62.7 MiB/s) with 62 file(s) remaining#015Completed 254.4 MiB/505.4 MiB (62.4 MiB/s) with 62 file(s) remaining#015Completed 254.7 MiB/505.4 MiB (62.5 MiB/s) with 62 file(s) remaining#015Completed 254.9 MiB/505.4 MiB (62.5 MiB/s) with 62 file(s) remaining#015Completed 255.2 MiB/505.4 MiB (62.6 MiB/s) with 62 file(s) remaining#015Completed 255.3 MiB/505.4 MiB (62.6 MiB/s) with 62 file(s) remaining#015download: s3://sagemaker-us-east-1-905418336534/myvideotrainingdataset/videos/academic_source/youcook2/121/nfO0YS2dSdw/split_8.mp4 to videos/academic_source/youcook2/121/nfO0YS2dSdw/split_8.mp4\u001b[0m\n",
      "\u001b[34mCompleted 255.3 MiB/505.4 MiB (62.6 MiB/s) with 61 file(s) remaining#015Completed 255.5 MiB/505.4 MiB (62.5 MiB/s) with 61 file(s) remaining#015Completed 255.8 MiB/505.4 MiB (62.5 MiB/s) with 61 file(s) remaining#015Completed 256.0 MiB/505.4 MiB (62.6 MiB/s) with 61 file(s) remaining#015Completed 256.0 MiB/505.4 MiB (62.6 MiB/s) with 61 file(s) remaining#015Completed 256.3 MiB/505.4 MiB (62.5 MiB/s) with 61 file(s) remaining#015Completed 256.5 MiB/505.4 MiB (62.5 MiB/s) with 61 file(s) remaining#015Completed 256.8 MiB/505.4 MiB (62.6 MiB/s) with 61 file(s) remaining#015Completed 257.0 MiB/505.4 MiB (62.6 MiB/s) with 61 file(s) remaining#015Completed 257.3 MiB/505.4 MiB (62.7 MiB/s) with 61 file(s) remaining#015Completed 257.5 MiB/505.4 MiB (62.7 MiB/s) with 61 file(s) remaining#015Completed 257.8 MiB/505.4 MiB (62.8 MiB/s) with 61 file(s) remaining#015Completed 258.0 MiB/505.4 MiB (62.8 MiB/s) with 61 file(s) remaining#015Completed 258.3 MiB/505.4 MiB (62.9 MiB/s) with 61 file(s) remaining#015Completed 258.5 MiB/505.4 MiB (62.9 MiB/s) with 61 file(s) remaining#015Completed 258.8 MiB/505.4 MiB (63.0 MiB/s) with 61 file(s) remaining#015Completed 259.0 MiB/505.4 MiB (63.0 MiB/s) with 61 file(s) remaining#015Completed 259.3 MiB/505.4 MiB (63.1 MiB/s) with 61 file(s) remaining#015Completed 259.5 MiB/505.4 MiB (63.1 MiB/s) with 61 file(s) remaining#015Completed 259.8 MiB/505.4 MiB (63.2 MiB/s) with 61 file(s) remaining#015Completed 260.0 MiB/505.4 MiB (63.2 MiB/s) with 61 file(s) remaining#015Completed 260.3 MiB/505.4 MiB (63.2 MiB/s) with 61 file(s) remaining#015Completed 260.5 MiB/505.4 MiB (63.2 MiB/s) with 61 file(s) remaining#015Completed 260.8 MiB/505.4 MiB (63.2 MiB/s) with 61 file(s) remaining#015Completed 261.0 MiB/505.4 MiB (63.3 MiB/s) with 61 file(s) remaining#015Completed 261.3 MiB/505.4 MiB (63.3 MiB/s) with 61 file(s) remaining#015Completed 261.5 MiB/505.4 MiB (63.4 MiB/s) with 61 file(s) remaining#015Completed 261.8 MiB/505.4 MiB (63.4 MiB/s) with 61 file(s) remaining#015Completed 262.0 MiB/505.4 MiB (63.5 MiB/s) with 61 file(s) remaining#015Completed 262.3 MiB/505.4 MiB (63.5 MiB/s) with 61 file(s) remaining#015Completed 262.5 MiB/505.4 MiB (63.5 MiB/s) with 61 file(s) remaining#015Completed 262.7 MiB/505.4 MiB (63.6 MiB/s) with 61 file(s) remaining#015download: s3://sagemaker-us-east-1-905418336534/myvideotrainingdataset/videos/academic_source/youcook2/111/lSq6y2F35ig/split_2.mp4 to videos/academic_source/youcook2/111/lSq6y2F35ig/split_2.mp4\u001b[0m\n",
      "\u001b[34mCompleted 262.7 MiB/505.4 MiB (63.6 MiB/s) with 60 file(s) remaining#015Completed 263.0 MiB/505.4 MiB (63.5 MiB/s) with 60 file(s) remaining#015Completed 263.2 MiB/505.4 MiB (63.5 MiB/s) with 60 file(s) remaining#015Completed 263.5 MiB/505.4 MiB (63.6 MiB/s) with 60 file(s) remaining#015Completed 263.7 MiB/505.4 MiB (63.6 MiB/s) with 60 file(s) remaining#015Completed 264.0 MiB/505.4 MiB (63.7 MiB/s) with 60 file(s) remaining#015Completed 264.2 MiB/505.4 MiB (63.7 MiB/s) with 60 file(s) remaining#015Completed 264.5 MiB/505.4 MiB (63.8 MiB/s) with 60 file(s) remaining#015Completed 264.7 MiB/505.4 MiB (63.8 MiB/s) with 60 file(s) remaining#015Completed 265.0 MiB/505.4 MiB (63.9 MiB/s) with 60 file(s) remaining#015Completed 265.2 MiB/505.4 MiB (63.9 MiB/s) with 60 file(s) remaining#015Completed 265.5 MiB/505.4 MiB (64.0 MiB/s) with 60 file(s) remaining#015Completed 265.7 MiB/505.4 MiB (64.0 MiB/s) with 60 file(s) remaining#015Completed 266.0 MiB/505.4 MiB (64.1 MiB/s) with 60 file(s) remaining#015Completed 266.2 MiB/505.4 MiB (64.1 MiB/s) with 60 file(s) remaining#015Completed 266.5 MiB/505.4 MiB (64.2 MiB/s) with 60 file(s) remaining#015Completed 266.7 MiB/505.4 MiB (64.2 MiB/s) with 60 file(s) remaining#015Completed 267.0 MiB/505.4 MiB (64.3 MiB/s) with 60 file(s) remaining#015Completed 267.2 MiB/505.4 MiB (64.3 MiB/s) with 60 file(s) remaining#015Completed 267.5 MiB/505.4 MiB (64.4 MiB/s) with 60 file(s) remaining#015Completed 267.7 MiB/505.4 MiB (64.4 MiB/s) with 60 file(s) remaining#015Completed 268.0 MiB/505.4 MiB (64.4 MiB/s) with 60 file(s) remaining#015Completed 268.2 MiB/505.4 MiB (64.5 MiB/s) with 60 file(s) remaining#015Completed 268.5 MiB/505.4 MiB (64.5 MiB/s) with 60 file(s) remaining#015Completed 268.7 MiB/505.4 MiB (64.6 MiB/s) with 60 file(s) remaining#015Completed 269.0 MiB/505.4 MiB (64.6 MiB/s) with 60 file(s) remaining#015Completed 269.2 MiB/505.4 MiB (64.7 MiB/s) with 60 file(s) remaining#015Completed 269.5 MiB/505.4 MiB (64.7 MiB/s) with 60 file(s) remaining#015Completed 269.7 MiB/505.4 MiB (64.8 MiB/s) with 60 file(s) remaining#015Completed 270.0 MiB/505.4 MiB (64.8 MiB/s) with 60 file(s) remaining#015Completed 270.2 MiB/505.4 MiB (64.8 MiB/s) with 60 file(s) remaining#015Completed 270.5 MiB/505.4 MiB (64.9 MiB/s) with 60 file(s) remaining#015Completed 270.7 MiB/505.4 MiB (64.9 MiB/s) with 60 file(s) remaining#015Completed 271.0 MiB/505.4 MiB (65.0 MiB/s) with 60 file(s) remaining#015Completed 271.2 MiB/505.4 MiB (65.0 MiB/s) with 60 file(s) remaining#015Completed 271.5 MiB/505.4 MiB (65.1 MiB/s) with 60 file(s) remaining#015Completed 271.7 MiB/505.4 MiB (65.1 MiB/s) with 60 file(s) remaining#015Completed 272.0 MiB/505.4 MiB (65.2 MiB/s) with 60 file(s) remaining#015Completed 272.2 MiB/505.4 MiB (65.2 MiB/s) with 60 file(s) remaining#015Completed 272.5 MiB/505.4 MiB (65.3 MiB/s) with 60 file(s) remaining#015Completed 272.7 MiB/505.4 MiB (65.3 MiB/s) with 60 file(s) remaining#015Completed 273.0 MiB/505.4 MiB (65.4 MiB/s) with 60 file(s) remaining#015Completed 273.2 MiB/505.4 MiB (65.2 MiB/s) with 60 file(s) remaining#015Completed 273.5 MiB/505.4 MiB (65.3 MiB/s) with 60 file(s) remaining#015Completed 273.7 MiB/505.4 MiB (65.3 MiB/s) with 60 file(s) remaining#015Completed 274.0 MiB/505.4 MiB (65.4 MiB/s) with 60 file(s) remaining#015Completed 274.2 MiB/505.4 MiB (65.4 MiB/s) with 60 file(s) remaining#015Completed 274.5 MiB/505.4 MiB (65.4 MiB/s) with 60 file(s) remaining#015Completed 274.7 MiB/505.4 MiB (65.5 MiB/s) with 60 file(s) remaining#015Completed 275.0 MiB/505.4 MiB (65.5 MiB/s) with 60 file(s) remaining#015Completed 275.2 MiB/505.4 MiB (65.6 MiB/s) with 60 file(s) remaining#015Completed 275.5 MiB/505.4 MiB (65.6 MiB/s) with 60 file(s) remaining#015Completed 275.7 MiB/505.4 MiB (65.7 MiB/s) with 60 file(s) remaining#015Completed 276.0 MiB/505.4 MiB (65.7 MiB/s) with 60 file(s) remaining#015Completed 276.2 MiB/505.4 MiB (65.8 MiB/s) with 60 file(s) remaining#015Completed 276.5 MiB/505.4 MiB (65.8 MiB/s) with 60 file(s) remaining#015Completed 276.7 MiB/505.4 MiB (65.8 MiB/s) with 60 file(s) remaining#015Completed 277.0 MiB/505.4 MiB (65.9 MiB/s) with 60 file(s) remaining#015Completed 277.2 MiB/505.4 MiB (66.0 MiB/s) with 60 file(s) remaining#015Completed 277.3 MiB/505.4 MiB (66.0 MiB/s) with 60 file(s) remaining#015download: s3://sagemaker-us-east-1-905418336534/myvideotrainingdataset/videos/academic_source/youcook2/117/1k64hSAAAd4/split_1.mp4 to videos/academic_source/youcook2/117/1k64hSAAAd4/split_1.mp4\u001b[0m\n",
      "\u001b[34mCompleted 277.3 MiB/505.4 MiB (66.0 MiB/s) with 59 file(s) remaining#015Completed 277.5 MiB/505.4 MiB (66.0 MiB/s) with 59 file(s) remaining#015Completed 277.8 MiB/505.4 MiB (66.0 MiB/s) with 59 file(s) remaining#015Completed 278.0 MiB/505.4 MiB (66.1 MiB/s) with 59 file(s) remaining#015Completed 278.3 MiB/505.4 MiB (66.1 MiB/s) with 59 file(s) remaining#015Completed 278.5 MiB/505.4 MiB (66.2 MiB/s) with 59 file(s) remaining#015Completed 278.8 MiB/505.4 MiB (66.2 MiB/s) with 59 file(s) remaining#015Completed 279.0 MiB/505.4 MiB (66.3 MiB/s) with 59 file(s) remaining#015Completed 279.3 MiB/505.4 MiB (66.4 MiB/s) with 59 file(s) remaining#015Completed 279.5 MiB/505.4 MiB (66.4 MiB/s) with 59 file(s) remaining#015Completed 279.8 MiB/505.4 MiB (66.5 MiB/s) with 59 file(s) remaining#015Completed 280.0 MiB/505.4 MiB (66.5 MiB/s) with 59 file(s) remaining#015Completed 280.3 MiB/505.4 MiB (66.6 MiB/s) with 59 file(s) remaining#015Completed 280.5 MiB/505.4 MiB (66.6 MiB/s) with 59 file(s) remaining#015Completed 280.8 MiB/505.4 MiB (66.7 MiB/s) with 59 file(s) remaining#015Completed 281.0 MiB/505.4 MiB (66.7 MiB/s) with 59 file(s) remaining#015Completed 281.3 MiB/505.4 MiB (66.8 MiB/s) with 59 file(s) remaining#015Completed 281.5 MiB/505.4 MiB (66.8 MiB/s) with 59 file(s) remaining#015Completed 281.8 MiB/505.4 MiB (66.9 MiB/s) with 59 file(s) remaining#015Completed 282.0 MiB/505.4 MiB (66.9 MiB/s) with 59 file(s) remaining#015Completed 282.3 MiB/505.4 MiB (67.0 MiB/s) with 59 file(s) remaining#015Completed 282.5 MiB/505.4 MiB (66.8 MiB/s) with 59 file(s) remaining#015Completed 282.8 MiB/505.4 MiB (66.8 MiB/s) with 59 file(s) remaining#015Completed 283.0 MiB/505.4 MiB (66.9 MiB/s) with 59 file(s) remaining#015Completed 283.3 MiB/505.4 MiB (66.9 MiB/s) with 59 file(s) remaining#015Completed 283.5 MiB/505.4 MiB (67.0 MiB/s) with 59 file(s) remaining#015download: s3://sagemaker-us-east-1-905418336534/myvideotrainingdataset/videos/academic_source/youcook2/124/qOB709GWcE8/split_3.mp4 to videos/academic_source/youcook2/124/qOB709GWcE8/split_3.mp4\u001b[0m\n",
      "\u001b[34mCompleted 283.5 MiB/505.4 MiB (67.0 MiB/s) with 58 file(s) remaining#015Completed 283.7 MiB/505.4 MiB (66.8 MiB/s) with 58 file(s) remaining#015Completed 284.0 MiB/505.4 MiB (66.8 MiB/s) with 58 file(s) remaining#015Completed 284.2 MiB/505.4 MiB (66.8 MiB/s) with 58 file(s) remaining#015Completed 284.5 MiB/505.4 MiB (66.9 MiB/s) with 58 file(s) remaining#015Completed 284.7 MiB/505.4 MiB (66.9 MiB/s) with 58 file(s) remaining#015Completed 285.0 MiB/505.4 MiB (67.0 MiB/s) with 58 file(s) remaining#015Completed 285.2 MiB/505.4 MiB (67.0 MiB/s) with 58 file(s) remaining#015Completed 285.5 MiB/505.4 MiB (67.1 MiB/s) with 58 file(s) remaining#015Completed 285.7 MiB/505.4 MiB (67.1 MiB/s) with 58 file(s) remaining#015Completed 286.0 MiB/505.4 MiB (67.2 MiB/s) with 58 file(s) remaining#015download: s3://sagemaker-us-east-1-905418336534/myvideotrainingdataset/videos/academic_source/youcook2/121/1OtWo8cXKWM/split_3.mp4 to videos/academic_source/youcook2/121/1OtWo8cXKWM/split_3.mp4\u001b[0m\n",
      "\u001b[34mCompleted 286.0 MiB/505.4 MiB (67.2 MiB/s) with 57 file(s) remaining#015Completed 286.2 MiB/505.4 MiB (67.2 MiB/s) with 57 file(s) remaining#015Completed 286.5 MiB/505.4 MiB (67.2 MiB/s) with 57 file(s) remaining#015Completed 286.7 MiB/505.4 MiB (67.3 MiB/s) with 57 file(s) remaining#015Completed 287.0 MiB/505.4 MiB (67.3 MiB/s) with 57 file(s) remaining#015Completed 287.2 MiB/505.4 MiB (67.4 MiB/s) with 57 file(s) remaining#015Completed 287.5 MiB/505.4 MiB (67.3 MiB/s) with 57 file(s) remaining#015Completed 287.7 MiB/505.4 MiB (67.3 MiB/s) with 57 file(s) remaining#015Completed 288.0 MiB/505.4 MiB (67.4 MiB/s) with 57 file(s) remaining#015Completed 288.2 MiB/505.4 MiB (67.4 MiB/s) with 57 file(s) remaining#015Completed 288.5 MiB/505.4 MiB (67.4 MiB/s) with 57 file(s) remaining#015Completed 288.7 MiB/505.4 MiB (67.5 MiB/s) with 57 file(s) remaining#015Completed 289.0 MiB/505.4 MiB (67.5 MiB/s) with 57 file(s) remaining#015Completed 289.2 MiB/505.4 MiB (67.4 MiB/s) with 57 file(s) remaining#015Completed 289.5 MiB/505.4 MiB (67.4 MiB/s) with 57 file(s) remaining#015Completed 289.7 MiB/505.4 MiB (67.5 MiB/s) with 57 file(s) remaining#015Completed 290.0 MiB/505.4 MiB (67.5 MiB/s) with 57 file(s) remaining#015Completed 290.2 MiB/505.4 MiB (67.6 MiB/s) with 57 file(s) remaining#015Completed 290.4 MiB/505.4 MiB (67.6 MiB/s) with 57 file(s) remaining#015download: s3://sagemaker-us-east-1-905418336534/myvideotrainingdataset/videos/academic_source/youcook2/121/UaQ_PwDnIis/split_0.mp4 to videos/academic_source/youcook2/121/UaQ_PwDnIis/split_0.mp4\u001b[0m\n",
      "\u001b[34mCompleted 290.4 MiB/505.4 MiB (67.6 MiB/s) with 56 file(s) remaining#015Completed 290.7 MiB/505.4 MiB (67.6 MiB/s) with 56 file(s) remaining#015Completed 290.9 MiB/505.4 MiB (67.7 MiB/s) with 56 file(s) remaining#015Completed 291.2 MiB/505.4 MiB (67.7 MiB/s) with 56 file(s) remaining#015Completed 291.4 MiB/505.4 MiB (67.8 MiB/s) with 56 file(s) remaining#015Completed 291.7 MiB/505.4 MiB (67.8 MiB/s) with 56 file(s) remaining#015Completed 291.9 MiB/505.4 MiB (67.9 MiB/s) with 56 file(s) remaining#015Completed 292.2 MiB/505.4 MiB (67.9 MiB/s) with 56 file(s) remaining#015Completed 292.4 MiB/505.4 MiB (68.0 MiB/s) with 56 file(s) remaining#015Completed 292.6 MiB/505.4 MiB (68.0 MiB/s) with 56 file(s) remaining#015download: s3://sagemaker-us-east-1-905418336534/myvideotrainingdataset/videos/academic_source/youcook2/221/FQRC8urWpew/split_2.mp4 to videos/academic_source/youcook2/221/FQRC8urWpew/split_2.mp4\u001b[0m\n",
      "\u001b[34mCompleted 292.6 MiB/505.4 MiB (68.0 MiB/s) with 55 file(s) remaining#015Completed 292.8 MiB/505.4 MiB (67.5 MiB/s) with 55 file(s) remaining#015Completed 293.1 MiB/505.4 MiB (67.6 MiB/s) with 55 file(s) remaining#015Completed 293.3 MiB/505.4 MiB (67.6 MiB/s) with 55 file(s) remaining#015Completed 293.6 MiB/505.4 MiB (67.7 MiB/s) with 55 file(s) remaining#015Completed 293.8 MiB/505.4 MiB (67.7 MiB/s) with 55 file(s) remaining#015Completed 294.1 MiB/505.4 MiB (67.8 MiB/s) with 55 file(s) remaining#015Completed 294.3 MiB/505.4 MiB (67.8 MiB/s) with 55 file(s) remaining#015Completed 294.6 MiB/505.4 MiB (67.9 MiB/s) with 55 file(s) remaining#015Completed 294.8 MiB/505.4 MiB (67.7 MiB/s) with 55 file(s) remaining#015Completed 295.1 MiB/505.4 MiB (67.8 MiB/s) with 55 file(s) remaining#015Completed 295.3 MiB/505.4 MiB (67.8 MiB/s) with 55 file(s) remaining#015Completed 295.6 MiB/505.4 MiB (67.9 MiB/s) with 55 file(s) remaining#015Completed 295.8 MiB/505.4 MiB (67.9 MiB/s) with 55 file(s) remaining#015Completed 295.9 MiB/505.4 MiB (68.0 MiB/s) with 55 file(s) remaining#015download: s3://sagemaker-us-east-1-905418336534/myvideotrainingdataset/videos/academic_source/youcook2/207/-ORd4EBliqw/split_9.mp4 to videos/academic_source/youcook2/207/-ORd4EBliqw/split_9.mp4\u001b[0m\n",
      "\u001b[34mCompleted 295.9 MiB/505.4 MiB (68.0 MiB/s) with 54 file(s) remaining#015Completed 296.2 MiB/505.4 MiB (68.0 MiB/s) with 54 file(s) remaining#015Completed 296.4 MiB/505.4 MiB (68.0 MiB/s) with 54 file(s) remaining#015Completed 296.4 MiB/505.4 MiB (68.0 MiB/s) with 54 file(s) remaining#015download: s3://sagemaker-us-east-1-905418336534/myvideotrainingdataset/videos/academic_source/youcook2/202/pCTdsgv1wZ4/split_5.mp4 to videos/academic_source/youcook2/202/pCTdsgv1wZ4/split_5.mp4\u001b[0m\n",
      "\u001b[34mCompleted 296.4 MiB/505.4 MiB (68.0 MiB/s) with 53 file(s) remaining#015Completed 296.7 MiB/505.4 MiB (68.0 MiB/s) with 53 file(s) remaining#015Completed 296.9 MiB/505.4 MiB (68.1 MiB/s) with 53 file(s) remaining#015Completed 297.2 MiB/505.4 MiB (68.1 MiB/s) with 53 file(s) remaining#015Completed 297.4 MiB/505.4 MiB (68.1 MiB/s) with 53 file(s) remaining#015Completed 297.6 MiB/505.4 MiB (68.1 MiB/s) with 53 file(s) remaining#015Completed 297.8 MiB/505.4 MiB (68.2 MiB/s) with 53 file(s) remaining#015Completed 298.1 MiB/505.4 MiB (68.2 MiB/s) with 53 file(s) remaining#015Completed 298.3 MiB/505.4 MiB (68.3 MiB/s) with 53 file(s) remaining#015Completed 298.6 MiB/505.4 MiB (68.3 MiB/s) with 53 file(s) remaining#015Completed 298.8 MiB/505.4 MiB (68.4 MiB/s) with 53 file(s) remaining#015Completed 299.0 MiB/505.4 MiB (68.4 MiB/s) with 53 file(s) remaining#015download: s3://sagemaker-us-east-1-905418336534/myvideotrainingdataset/videos/academic_source/youcook2/222/Bn0wtnfGUA8/split_3.mp4 to videos/academic_source/youcook2/222/Bn0wtnfGUA8/split_3.mp4\u001b[0m\n",
      "\u001b[34mCompleted 299.0 MiB/505.4 MiB (68.4 MiB/s) with 52 file(s) remaining#015Completed 299.3 MiB/505.4 MiB (68.2 MiB/s) with 52 file(s) remaining#015Completed 299.5 MiB/505.4 MiB (68.3 MiB/s) with 52 file(s) remaining#015Completed 299.8 MiB/505.4 MiB (68.3 MiB/s) with 52 file(s) remaining#015Completed 300.0 MiB/505.4 MiB (68.4 MiB/s) with 52 file(s) remaining#015Completed 300.2 MiB/505.4 MiB (68.4 MiB/s) with 52 file(s) remaining#015download: s3://sagemaker-us-east-1-905418336534/myvideotrainingdataset/videos/academic_source/youcook2/119/Lky6MPtNJto/split_6.mp4 to videos/academic_source/youcook2/119/Lky6MPtNJto/split_6.mp4\u001b[0m\n",
      "\u001b[34mCompleted 300.2 MiB/505.4 MiB (68.4 MiB/s) with 51 file(s) remaining#015Completed 300.5 MiB/505.4 MiB (68.3 MiB/s) with 51 file(s) remaining#015Completed 300.7 MiB/505.4 MiB (68.4 MiB/s) with 51 file(s) remaining#015Completed 301.0 MiB/505.4 MiB (68.4 MiB/s) with 51 file(s) remaining#015Completed 301.2 MiB/505.4 MiB (68.5 MiB/s) with 51 file(s) remaining#015Completed 301.5 MiB/505.4 MiB (68.5 MiB/s) with 51 file(s) remaining#015Completed 301.7 MiB/505.4 MiB (68.6 MiB/s) with 51 file(s) remaining#015Completed 302.0 MiB/505.4 MiB (68.6 MiB/s) with 51 file(s) remaining#015Completed 302.2 MiB/505.4 MiB (68.7 MiB/s) with 51 file(s) remaining#015Completed 302.5 MiB/505.4 MiB (68.6 MiB/s) with 51 file(s) remaining#015Completed 302.7 MiB/505.4 MiB (68.6 MiB/s) with 51 file(s) remaining#015Completed 303.0 MiB/505.4 MiB (68.7 MiB/s) with 51 file(s) remaining#015Completed 303.2 MiB/505.4 MiB (68.7 MiB/s) with 51 file(s) remaining#015Completed 303.5 MiB/505.4 MiB (68.8 MiB/s) with 51 file(s) remaining#015Completed 303.7 MiB/505.4 MiB (68.8 MiB/s) with 51 file(s) remaining#015Completed 304.0 MiB/505.4 MiB (68.9 MiB/s) with 51 file(s) remaining#015Completed 304.2 MiB/505.4 MiB (68.9 MiB/s) with 51 file(s) remaining#015Completed 304.5 MiB/505.4 MiB (69.0 MiB/s) with 51 file(s) remaining#015Completed 304.7 MiB/505.4 MiB (69.0 MiB/s) with 51 file(s) remaining#015Completed 305.0 MiB/505.4 MiB (69.1 MiB/s) with 51 file(s) remaining#015Completed 305.2 MiB/505.4 MiB (69.1 MiB/s) with 51 file(s) remaining#015Completed 305.5 MiB/505.4 MiB (69.2 MiB/s) with 51 file(s) remaining#015Completed 305.7 MiB/505.4 MiB (69.2 MiB/s) with 51 file(s) remaining#015Completed 306.0 MiB/505.4 MiB (69.3 MiB/s) with 51 file(s) remaining#015Completed 306.2 MiB/505.4 MiB (69.3 MiB/s) with 51 file(s) remaining#015Completed 306.5 MiB/505.4 MiB (69.4 MiB/s) with 51 file(s) remaining#015Completed 306.7 MiB/505.4 MiB (69.4 MiB/s) with 51 file(s) remaining#015Completed 307.0 MiB/505.4 MiB (69.4 MiB/s) with 51 file(s) remaining#015Completed 307.2 MiB/505.4 MiB (69.5 MiB/s) with 51 file(s) remaining#015Completed 307.5 MiB/505.4 MiB (69.5 MiB/s) with 51 file(s) remaining#015Completed 307.7 MiB/505.4 MiB (69.6 MiB/s) with 51 file(s) remaining#015Completed 308.0 MiB/505.4 MiB (69.6 MiB/s) with 51 file(s) remaining#015Completed 308.2 MiB/505.4 MiB (69.7 MiB/s) with 51 file(s) remaining#015Completed 308.5 MiB/505.4 MiB (69.7 MiB/s) with 51 file(s) remaining#015Completed 308.7 MiB/505.4 MiB (69.8 MiB/s) with 51 file(s) remaining#015Completed 309.0 MiB/505.4 MiB (69.8 MiB/s) with 51 file(s) remaining#015Completed 309.2 MiB/505.4 MiB (69.8 MiB/s) with 51 file(s) remaining#015Completed 309.5 MiB/505.4 MiB (69.9 MiB/s) with 51 file(s) remaining#015Completed 309.7 MiB/505.4 MiB (69.9 MiB/s) with 51 file(s) remaining#015Completed 309.9 MiB/505.4 MiB (70.0 MiB/s) with 51 file(s) remaining#015download: s3://sagemaker-us-east-1-905418336534/myvideotrainingdataset/videos/academic_source/youcook2/203/m7eR6vTPCxE/split_14.mp4 to videos/academic_source/youcook2/203/m7eR6vTPCxE/split_14.mp4\u001b[0m\n",
      "\u001b[34mCompleted 309.9 MiB/505.4 MiB (70.0 MiB/s) with 50 file(s) remaining#015Completed 310.0 MiB/505.4 MiB (69.6 MiB/s) with 50 file(s) remaining#015Completed 310.2 MiB/505.4 MiB (69.4 MiB/s) with 50 file(s) remaining#015Completed 310.5 MiB/505.4 MiB (69.5 MiB/s) with 50 file(s) remaining#015Completed 310.7 MiB/505.4 MiB (69.5 MiB/s) with 50 file(s) remaining#015Completed 311.0 MiB/505.4 MiB (69.6 MiB/s) with 50 file(s) remaining#015Completed 311.2 MiB/505.4 MiB (69.6 MiB/s) with 50 file(s) remaining#015Completed 311.5 MiB/505.4 MiB (69.6 MiB/s) with 50 file(s) remaining#015Completed 311.7 MiB/505.4 MiB (69.7 MiB/s) with 50 file(s) remaining#015Completed 312.0 MiB/505.4 MiB (69.7 MiB/s) with 50 file(s) remaining#015Completed 312.2 MiB/505.4 MiB (69.8 MiB/s) with 50 file(s) remaining#015Completed 312.5 MiB/505.4 MiB (69.8 MiB/s) with 50 file(s) remaining#015Completed 312.7 MiB/505.4 MiB (69.9 MiB/s) with 50 file(s) remaining#015Completed 313.0 MiB/505.4 MiB (69.9 MiB/s) with 50 file(s) remaining#015Completed 313.2 MiB/505.4 MiB (69.9 MiB/s) with 50 file(s) remaining#015Completed 313.5 MiB/505.4 MiB (70.0 MiB/s) with 50 file(s) remaining#015Completed 313.7 MiB/505.4 MiB (70.0 MiB/s) with 50 file(s) remaining#015Completed 314.0 MiB/505.4 MiB (70.1 MiB/s) with 50 file(s) remaining#015Completed 314.2 MiB/505.4 MiB (70.1 MiB/s) with 50 file(s) remaining#015Completed 314.5 MiB/505.4 MiB (70.1 MiB/s) with 50 file(s) remaining#015Completed 314.7 MiB/505.4 MiB (70.2 MiB/s) with 50 file(s) remaining#015Completed 315.0 MiB/505.4 MiB (70.2 MiB/s) with 50 file(s) remaining#015Completed 315.2 MiB/505.4 MiB (70.3 MiB/s) with 50 file(s) remaining#015Completed 315.5 MiB/505.4 MiB (70.3 MiB/s) with 50 file(s) remaining#015Completed 315.7 MiB/505.4 MiB (70.4 MiB/s) with 50 file(s) remaining#015Completed 316.0 MiB/505.4 MiB (70.4 MiB/s) with 50 file(s) remaining#015Completed 316.2 MiB/505.4 MiB (70.4 MiB/s) with 50 file(s) remaining#015Completed 316.5 MiB/505.4 MiB (70.5 MiB/s) with 50 file(s) remaining#015Completed 316.7 MiB/505.4 MiB (70.3 MiB/s) with 50 file(s) remaining#015Completed 317.0 MiB/505.4 MiB (70.3 MiB/s) with 50 file(s) remaining#015Completed 317.2 MiB/505.4 MiB (70.4 MiB/s) with 50 file(s) remaining#015Completed 317.5 MiB/505.4 MiB (70.4 MiB/s) with 50 file(s) remaining#015Completed 317.7 MiB/505.4 MiB (70.5 MiB/s) with 50 file(s) remaining#015Completed 318.0 MiB/505.4 MiB (70.5 MiB/s) with 50 file(s) remaining#015Completed 318.2 MiB/505.4 MiB (70.6 MiB/s) with 50 file(s) remaining#015Completed 318.5 MiB/505.4 MiB (70.6 MiB/s) with 50 file(s) remaining#015Completed 318.7 MiB/505.4 MiB (70.6 MiB/s) with 50 file(s) remaining#015Completed 319.0 MiB/505.4 MiB (70.7 MiB/s) with 50 file(s) remaining#015Completed 319.2 MiB/505.4 MiB (70.7 MiB/s) with 50 file(s) remaining#015Completed 319.5 MiB/505.4 MiB (70.7 MiB/s) with 50 file(s) remaining#015Completed 319.7 MiB/505.4 MiB (70.8 MiB/s) with 50 file(s) remaining#015Completed 320.0 MiB/505.4 MiB (70.8 MiB/s) with 50 file(s) remaining#015Completed 320.1 MiB/505.4 MiB (70.9 MiB/s) with 50 file(s) remaining#015Completed 320.4 MiB/505.4 MiB (70.9 MiB/s) with 50 file(s) remaining#015download: s3://sagemaker-us-east-1-905418336534/myvideotrainingdataset/videos/academic_source/youcook2/221/UB1_MNpdvgs/split_6.mp4 to videos/academic_source/youcook2/221/UB1_MNpdvgs/split_6.mp4\u001b[0m\n",
      "\u001b[34mCompleted 320.4 MiB/505.4 MiB (70.9 MiB/s) with 49 file(s) remaining#015Completed 320.6 MiB/505.4 MiB (70.9 MiB/s) with 49 file(s) remaining#015Completed 320.9 MiB/505.4 MiB (70.9 MiB/s) with 49 file(s) remaining#015Completed 321.1 MiB/505.4 MiB (70.9 MiB/s) with 49 file(s) remaining#015Completed 321.4 MiB/505.4 MiB (71.0 MiB/s) with 49 file(s) remaining#015Completed 321.6 MiB/505.4 MiB (71.0 MiB/s) with 49 file(s) remaining#015Completed 321.9 MiB/505.4 MiB (71.1 MiB/s) with 49 file(s) remaining#015Completed 322.1 MiB/505.4 MiB (71.1 MiB/s) with 49 file(s) remaining#015Completed 322.3 MiB/505.4 MiB (71.1 MiB/s) with 49 file(s) remaining#015download: s3://sagemaker-us-east-1-905418336534/myvideotrainingdataset/videos/academic_source/youcook2/207/MzOOayCmDkA/split_0.mp4 to videos/academic_source/youcook2/207/MzOOayCmDkA/split_0.mp4\u001b[0m\n",
      "\u001b[34mCompleted 322.3 MiB/505.4 MiB (71.1 MiB/s) with 48 file(s) remaining#015Completed 322.6 MiB/505.4 MiB (71.1 MiB/s) with 48 file(s) remaining#015Completed 322.8 MiB/505.4 MiB (71.2 MiB/s) with 48 file(s) remaining#015Completed 323.1 MiB/505.4 MiB (71.2 MiB/s) with 48 file(s) remaining#015Completed 323.3 MiB/505.4 MiB (71.3 MiB/s) with 48 file(s) remaining#015Completed 323.6 MiB/505.4 MiB (71.3 MiB/s) with 48 file(s) remaining#015Completed 323.8 MiB/505.4 MiB (71.3 MiB/s) with 48 file(s) remaining#015Completed 324.1 MiB/505.4 MiB (71.4 MiB/s) with 48 file(s) remaining#015Completed 324.3 MiB/505.4 MiB (71.4 MiB/s) with 48 file(s) remaining#015Completed 324.6 MiB/505.4 MiB (71.4 MiB/s) with 48 file(s) remaining#015Completed 324.8 MiB/505.4 MiB (71.5 MiB/s) with 48 file(s) remaining#015Completed 325.1 MiB/505.4 MiB (71.5 MiB/s) with 48 file(s) remaining#015Completed 325.3 MiB/505.4 MiB (71.5 MiB/s) with 48 file(s) remaining#015Completed 325.6 MiB/505.4 MiB (71.6 MiB/s) with 48 file(s) remaining#015Completed 325.8 MiB/505.4 MiB (71.6 MiB/s) with 48 file(s) remaining#015Completed 326.1 MiB/505.4 MiB (71.7 MiB/s) with 48 file(s) remaining#015Completed 326.3 MiB/505.4 MiB (71.7 MiB/s) with 48 file(s) remaining#015Completed 326.6 MiB/505.4 MiB (71.8 MiB/s) with 48 file(s) remaining#015Completed 326.8 MiB/505.4 MiB (71.8 MiB/s) with 48 file(s) remaining#015Completed 327.1 MiB/505.4 MiB (71.9 MiB/s) with 48 file(s) remaining#015Completed 327.3 MiB/505.4 MiB (71.9 MiB/s) with 48 file(s) remaining#015Completed 327.6 MiB/505.4 MiB (72.0 MiB/s) with 48 file(s) remaining#015Completed 327.8 MiB/505.4 MiB (72.0 MiB/s) with 48 file(s) remaining#015Completed 328.0 MiB/505.4 MiB (72.0 MiB/s) with 48 file(s) remaining#015Completed 328.3 MiB/505.4 MiB (72.1 MiB/s) with 48 file(s) remaining#015download: s3://sagemaker-us-east-1-905418336534/myvideotrainingdataset/videos/academic_source/youcook2/303/KP-sFwyyi2k/split_1.mp4 to videos/academic_source/youcook2/303/KP-sFwyyi2k/split_1.mp4\u001b[0m\n",
      "\u001b[34mCompleted 328.3 MiB/505.4 MiB (72.1 MiB/s) with 47 file(s) remaining#015Completed 328.5 MiB/505.4 MiB (72.1 MiB/s) with 47 file(s) remaining#015Completed 328.8 MiB/505.4 MiB (72.1 MiB/s) with 47 file(s) remaining#015download: s3://sagemaker-us-east-1-905418336534/myvideotrainingdataset/videos/academic_source/youcook2/209/Qsgz9Vr-5aU/split_0.mp4 to videos/academic_source/youcook2/209/Qsgz9Vr-5aU/split_0.mp4\u001b[0m\n",
      "\u001b[34mCompleted 328.8 MiB/505.4 MiB (72.1 MiB/s) with 46 file(s) remaining#015Completed 329.0 MiB/505.4 MiB (72.2 MiB/s) with 46 file(s) remaining#015Completed 329.3 MiB/505.4 MiB (72.2 MiB/s) with 46 file(s) remaining#015Completed 329.5 MiB/505.4 MiB (72.2 MiB/s) with 46 file(s) remaining#015Completed 329.8 MiB/505.4 MiB (72.3 MiB/s) with 46 file(s) remaining#015Completed 330.0 MiB/505.4 MiB (72.3 MiB/s) with 46 file(s) remaining#015Completed 330.3 MiB/505.4 MiB (72.4 MiB/s) with 46 file(s) remaining#015Completed 330.5 MiB/505.4 MiB (72.4 MiB/s) with 46 file(s) remaining#015Completed 330.8 MiB/505.4 MiB (72.5 MiB/s) with 46 file(s) remaining#015Completed 331.0 MiB/505.4 MiB (72.5 MiB/s) with 46 file(s) remaining#015Completed 331.3 MiB/505.4 MiB (72.5 MiB/s) with 46 file(s) remaining#015Completed 331.5 MiB/505.4 MiB (72.6 MiB/s) with 46 file(s) remaining#015Completed 331.8 MiB/505.4 MiB (72.6 MiB/s) with 46 file(s) remaining#015Completed 332.0 MiB/505.4 MiB (72.7 MiB/s) with 46 file(s) remaining#015Completed 332.3 MiB/505.4 MiB (72.7 MiB/s) with 46 file(s) remaining#015Completed 332.5 MiB/505.4 MiB (72.8 MiB/s) with 46 file(s) remaining#015Completed 332.8 MiB/505.4 MiB (72.8 MiB/s) with 46 file(s) remaining#015Completed 333.0 MiB/505.4 MiB (72.9 MiB/s) with 46 file(s) remaining#015Completed 333.3 MiB/505.4 MiB (72.9 MiB/s) with 46 file(s) remaining#015Completed 333.5 MiB/505.4 MiB (72.9 MiB/s) with 46 file(s) remaining#015Completed 333.8 MiB/505.4 MiB (73.0 MiB/s) with 46 file(s) remaining#015Completed 334.0 MiB/505.4 MiB (73.0 MiB/s) with 46 file(s) remaining#015Completed 334.3 MiB/505.4 MiB (73.1 MiB/s) with 46 file(s) remaining#015Completed 334.5 MiB/505.4 MiB (72.8 MiB/s) with 46 file(s) remaining#015Completed 334.8 MiB/505.4 MiB (72.9 MiB/s) with 46 file(s) remaining#015Completed 335.0 MiB/505.4 MiB (72.9 MiB/s) with 46 file(s) remaining#015Completed 335.3 MiB/505.4 MiB (72.9 MiB/s) with 46 file(s) remaining#015Completed 335.5 MiB/505.4 MiB (73.0 MiB/s) with 46 file(s) remaining#015Completed 335.8 MiB/505.4 MiB (73.0 MiB/s) with 46 file(s) remaining#015Completed 336.0 MiB/505.4 MiB (73.1 MiB/s) with 46 file(s) remaining#015Completed 336.3 MiB/505.4 MiB (73.1 MiB/s) with 46 file(s) remaining#015Completed 336.5 MiB/505.4 MiB (73.2 MiB/s) with 46 file(s) remaining#015Completed 336.8 MiB/505.4 MiB (73.2 MiB/s) with 46 file(s) remaining#015Completed 337.0 MiB/505.4 MiB (73.3 MiB/s) with 46 file(s) remaining#015Completed 337.3 MiB/505.4 MiB (73.3 MiB/s) with 46 file(s) remaining#015Completed 337.5 MiB/505.4 MiB (73.3 MiB/s) with 46 file(s) remaining#015Completed 337.8 MiB/505.4 MiB (73.4 MiB/s) with 46 file(s) remaining#015Completed 338.0 MiB/505.4 MiB (73.4 MiB/s) with 46 file(s) remaining#015Completed 338.3 MiB/505.4 MiB (73.5 MiB/s) with 46 file(s) remaining#015Completed 338.4 MiB/505.4 MiB (73.5 MiB/s) with 46 file(s) remaining#015download: s3://sagemaker-us-east-1-905418336534/myvideotrainingdataset/videos/academic_source/youcook2/225/WiliCz0XYVU/split_4.mp4 to videos/academic_source/youcook2/225/WiliCz0XYVU/split_4.mp4\u001b[0m\n",
      "\u001b[34mCompleted 338.4 MiB/505.4 MiB (73.5 MiB/s) with 45 file(s) remaining#015Completed 338.7 MiB/505.4 MiB (73.3 MiB/s) with 45 file(s) remaining#015Completed 338.9 MiB/505.4 MiB (73.3 MiB/s) with 45 file(s) remaining#015Completed 339.2 MiB/505.4 MiB (73.4 MiB/s) with 45 file(s) remaining#015Completed 339.3 MiB/505.4 MiB (73.4 MiB/s) with 45 file(s) remaining#015download: s3://sagemaker-us-east-1-905418336534/myvideotrainingdataset/videos/academic_source/youcook2/302/iQjNhG92hr4/split_4.mp4 to videos/academic_source/youcook2/302/iQjNhG92hr4/split_4.mp4\u001b[0m\n",
      "\u001b[34mCompleted 339.3 MiB/505.4 MiB (73.4 MiB/s) with 44 file(s) remaining#015Completed 339.5 MiB/505.4 MiB (73.4 MiB/s) with 44 file(s) remaining#015Completed 339.8 MiB/505.4 MiB (73.4 MiB/s) with 44 file(s) remaining#015Completed 340.0 MiB/505.4 MiB (73.4 MiB/s) with 44 file(s) remaining#015Completed 340.3 MiB/505.4 MiB (73.5 MiB/s) with 44 file(s) remaining#015Completed 340.5 MiB/505.4 MiB (73.5 MiB/s) with 44 file(s) remaining#015Completed 340.8 MiB/505.4 MiB (73.6 MiB/s) with 44 file(s) remaining#015Completed 341.0 MiB/505.4 MiB (73.6 MiB/s) with 44 file(s) remaining#015Completed 341.3 MiB/505.4 MiB (73.6 MiB/s) with 44 file(s) remaining#015Completed 341.5 MiB/505.4 MiB (73.7 MiB/s) with 44 file(s) remaining#015Completed 341.8 MiB/505.4 MiB (73.7 MiB/s) with 44 file(s) remaining#015download: s3://sagemaker-us-east-1-905418336534/myvideotrainingdataset/videos/academic_source/youcook2/229/oNgVoSBrndw/split_3.mp4 to videos/academic_source/youcook2/229/oNgVoSBrndw/split_3.mp4\u001b[0m\n",
      "\u001b[34mCompleted 341.8 MiB/505.4 MiB (73.7 MiB/s) with 43 file(s) remaining#015Completed 342.0 MiB/505.4 MiB (73.7 MiB/s) with 43 file(s) remaining#015Completed 342.3 MiB/505.4 MiB (73.8 MiB/s) with 43 file(s) remaining#015Completed 342.5 MiB/505.4 MiB (73.8 MiB/s) with 43 file(s) remaining#015Completed 342.8 MiB/505.4 MiB (73.8 MiB/s) with 43 file(s) remaining#015Completed 343.0 MiB/505.4 MiB (73.9 MiB/s) with 43 file(s) remaining#015Completed 343.3 MiB/505.4 MiB (73.9 MiB/s) with 43 file(s) remaining#015Completed 343.5 MiB/505.4 MiB (74.0 MiB/s) with 43 file(s) remaining#015Completed 343.8 MiB/505.4 MiB (74.0 MiB/s) with 43 file(s) remaining#015Completed 344.0 MiB/505.4 MiB (74.1 MiB/s) with 43 file(s) remaining#015Completed 344.3 MiB/505.4 MiB (74.1 MiB/s) with 43 file(s) remaining#015Completed 344.5 MiB/505.4 MiB (74.1 MiB/s) with 43 file(s) remaining#015Completed 344.8 MiB/505.4 MiB (74.2 MiB/s) with 43 file(s) remaining#015Completed 345.0 MiB/505.4 MiB (74.2 MiB/s) with 43 file(s) remaining#015Completed 345.3 MiB/505.4 MiB (74.3 MiB/s) with 43 file(s) remaining#015Completed 345.5 MiB/505.4 MiB (74.3 MiB/s) with 43 file(s) remaining#015Completed 345.8 MiB/505.4 MiB (74.4 MiB/s) with 43 file(s) remaining#015Completed 346.0 MiB/505.4 MiB (74.4 MiB/s) with 43 file(s) remaining#015Completed 346.3 MiB/505.4 MiB (74.4 MiB/s) with 43 file(s) remaining#015Completed 346.5 MiB/505.4 MiB (74.5 MiB/s) with 43 file(s) remaining#015Completed 346.8 MiB/505.4 MiB (74.5 MiB/s) with 43 file(s) remaining#015Completed 347.0 MiB/505.4 MiB (74.6 MiB/s) with 43 file(s) remaining#015Completed 347.3 MiB/505.4 MiB (74.6 MiB/s) with 43 file(s) remaining#015Completed 347.5 MiB/505.4 MiB (74.7 MiB/s) with 43 file(s) remaining#015Completed 347.8 MiB/505.4 MiB (74.7 MiB/s) with 43 file(s) remaining#015Completed 348.0 MiB/505.4 MiB (74.7 MiB/s) with 43 file(s) remaining#015Completed 348.3 MiB/505.4 MiB (74.8 MiB/s) with 43 file(s) remaining#015Completed 348.5 MiB/505.4 MiB (74.8 MiB/s) with 43 file(s) remaining#015Completed 348.8 MiB/505.4 MiB (74.8 MiB/s) with 43 file(s) remaining#015Completed 349.0 MiB/505.4 MiB (74.9 MiB/s) with 43 file(s) remaining#015Completed 349.3 MiB/505.4 MiB (74.9 MiB/s) with 43 file(s) remaining#015Completed 349.5 MiB/505.4 MiB (75.0 MiB/s) with 43 file(s) remaining#015Completed 349.8 MiB/505.4 MiB (75.0 MiB/s) with 43 file(s) remaining#015Completed 350.0 MiB/505.4 MiB (75.0 MiB/s) with 43 file(s) remaining#015Completed 350.3 MiB/505.4 MiB (75.1 MiB/s) with 43 file(s) remaining#015Completed 350.5 MiB/505.4 MiB (75.1 MiB/s) with 43 file(s) remaining#015Completed 350.8 MiB/505.4 MiB (75.2 MiB/s) with 43 file(s) remaining#015Completed 351.0 MiB/505.4 MiB (75.2 MiB/s) with 43 file(s) remaining#015Completed 351.3 MiB/505.4 MiB (75.2 MiB/s) with 43 file(s) remaining#015Completed 351.5 MiB/505.4 MiB (75.3 MiB/s) with 43 file(s) remaining#015Completed 351.8 MiB/505.4 MiB (75.3 MiB/s) with 43 file(s) remaining#015Completed 351.9 MiB/505.4 MiB (75.3 MiB/s) with 43 file(s) remaining#015download: s3://sagemaker-us-east-1-905418336534/myvideotrainingdataset/videos/academic_source/youcook2/227/ZcsshMf0NTI/split_3.mp4 to videos/academic_source/youcook2/227/ZcsshMf0NTI/split_3.mp4\u001b[0m\n",
      "\u001b[34mCompleted 351.9 MiB/505.4 MiB (75.3 MiB/s) with 42 file(s) remaining#015Completed 352.2 MiB/505.4 MiB (75.4 MiB/s) with 42 file(s) remaining#015Completed 352.4 MiB/505.4 MiB (75.4 MiB/s) with 42 file(s) remaining#015Completed 352.7 MiB/505.4 MiB (75.4 MiB/s) with 42 file(s) remaining#015Completed 352.9 MiB/505.4 MiB (75.5 MiB/s) with 42 file(s) remaining#015Completed 353.2 MiB/505.4 MiB (75.5 MiB/s) with 42 file(s) remaining#015Completed 353.4 MiB/505.4 MiB (75.5 MiB/s) with 42 file(s) remaining#015download: s3://sagemaker-us-east-1-905418336534/myvideotrainingdataset/videos/academic_source/youcook2/213/TmbdrTVJ_Mo/split_4.mp4 to videos/academic_source/youcook2/213/TmbdrTVJ_Mo/split_4.mp4\u001b[0m\n",
      "\u001b[34mCompleted 353.4 MiB/505.4 MiB (75.5 MiB/s) with 41 file(s) remaining#015Completed 353.7 MiB/505.4 MiB (75.6 MiB/s) with 41 file(s) remaining#015Completed 353.9 MiB/505.4 MiB (75.6 MiB/s) with 41 file(s) remaining#015Completed 354.2 MiB/505.4 MiB (75.6 MiB/s) with 41 file(s) remaining#015Completed 354.4 MiB/505.4 MiB (75.6 MiB/s) with 41 file(s) remaining#015Completed 354.7 MiB/505.4 MiB (75.6 MiB/s) with 41 file(s) remaining#015Completed 354.9 MiB/505.4 MiB (75.7 MiB/s) with 41 file(s) remaining#015Completed 355.2 MiB/505.4 MiB (75.7 MiB/s) with 41 file(s) remaining#015Completed 355.4 MiB/505.4 MiB (75.8 MiB/s) with 41 file(s) remaining#015Completed 355.7 MiB/505.4 MiB (75.8 MiB/s) with 41 file(s) remaining#015Completed 355.9 MiB/505.4 MiB (75.8 MiB/s) with 41 file(s) remaining#015Completed 356.2 MiB/505.4 MiB (75.9 MiB/s) with 41 file(s) remaining#015Completed 356.4 MiB/505.4 MiB (75.9 MiB/s) with 41 file(s) remaining#015Completed 356.7 MiB/505.4 MiB (76.0 MiB/s) with 41 file(s) remaining#015Completed 356.9 MiB/505.4 MiB (76.0 MiB/s) with 41 file(s) remaining#015Completed 357.2 MiB/505.4 MiB (76.0 MiB/s) with 41 file(s) remaining#015Completed 357.4 MiB/505.4 MiB (76.1 MiB/s) with 41 file(s) remaining#015Completed 357.7 MiB/505.4 MiB (76.1 MiB/s) with 41 file(s) remaining#015Completed 357.9 MiB/505.4 MiB (76.2 MiB/s) with 41 file(s) remaining#015Completed 358.2 MiB/505.4 MiB (76.2 MiB/s) with 41 file(s) remaining#015Completed 358.4 MiB/505.4 MiB (76.3 MiB/s) with 41 file(s) remaining#015Completed 358.7 MiB/505.4 MiB (76.3 MiB/s) with 41 file(s) remaining#015Completed 358.9 MiB/505.4 MiB (76.3 MiB/s) with 41 file(s) remaining#015Completed 359.2 MiB/505.4 MiB (76.4 MiB/s) with 41 file(s) remaining#015Completed 359.4 MiB/505.4 MiB (76.4 MiB/s) with 41 file(s) remaining#015Completed 359.7 MiB/505.4 MiB (76.5 MiB/s) with 41 file(s) remaining#015Completed 359.9 MiB/505.4 MiB (76.5 MiB/s) with 41 file(s) remaining#015Completed 360.2 MiB/505.4 MiB (76.5 MiB/s) with 41 file(s) remaining#015Completed 360.4 MiB/505.4 MiB (76.6 MiB/s) with 41 file(s) remaining#015Completed 360.7 MiB/505.4 MiB (76.6 MiB/s) with 41 file(s) remaining#015Completed 360.9 MiB/505.4 MiB (76.7 MiB/s) with 41 file(s) remaining#015Completed 361.2 MiB/505.4 MiB (76.7 MiB/s) with 41 file(s) remaining#015Completed 361.4 MiB/505.4 MiB (76.8 MiB/s) with 41 file(s) remaining#015Completed 361.7 MiB/505.4 MiB (76.8 MiB/s) with 41 file(s) remaining#015Completed 361.9 MiB/505.4 MiB (76.9 MiB/s) with 41 file(s) remaining#015Completed 362.2 MiB/505.4 MiB (76.9 MiB/s) with 41 file(s) remaining#015Completed 362.4 MiB/505.4 MiB (76.9 MiB/s) with 41 file(s) remaining#015Completed 362.7 MiB/505.4 MiB (76.9 MiB/s) with 41 file(s) remaining#015Completed 362.9 MiB/505.4 MiB (76.9 MiB/s) with 41 file(s) remaining#015Completed 363.2 MiB/505.4 MiB (77.0 MiB/s) with 41 file(s) remaining#015Completed 363.4 MiB/505.4 MiB (77.0 MiB/s) with 41 file(s) remaining#015Completed 363.5 MiB/505.4 MiB (77.0 MiB/s) with 41 file(s) remaining#015download: s3://sagemaker-us-east-1-905418336534/myvideotrainingdataset/videos/academic_source/youcook2/325/c87PnAWDbOA/split_1.mp4 to videos/academic_source/youcook2/325/c87PnAWDbOA/split_1.mp4\u001b[0m\n",
      "\u001b[34mCompleted 363.5 MiB/505.4 MiB (77.0 MiB/s) with 40 file(s) remaining#015Completed 363.8 MiB/505.4 MiB (77.0 MiB/s) with 40 file(s) remaining#015Completed 364.0 MiB/505.4 MiB (77.0 MiB/s) with 40 file(s) remaining#015Completed 364.3 MiB/505.4 MiB (77.0 MiB/s) with 40 file(s) remaining#015Completed 364.5 MiB/505.4 MiB (77.1 MiB/s) with 40 file(s) remaining#015Completed 364.8 MiB/505.4 MiB (77.1 MiB/s) with 40 file(s) remaining#015Completed 365.0 MiB/505.4 MiB (77.2 MiB/s) with 40 file(s) remaining#015Completed 365.3 MiB/505.4 MiB (77.2 MiB/s) with 40 file(s) remaining#015Completed 365.5 MiB/505.4 MiB (77.2 MiB/s) with 40 file(s) remaining#015Completed 365.8 MiB/505.4 MiB (77.2 MiB/s) with 40 file(s) remaining#015Completed 366.0 MiB/505.4 MiB (77.2 MiB/s) with 40 file(s) remaining#015Completed 366.3 MiB/505.4 MiB (77.3 MiB/s) with 40 file(s) remaining#015Completed 366.5 MiB/505.4 MiB (77.3 MiB/s) with 40 file(s) remaining#015Completed 366.8 MiB/505.4 MiB (77.4 MiB/s) with 40 file(s) remaining#015Completed 367.0 MiB/505.4 MiB (77.4 MiB/s) with 40 file(s) remaining#015Completed 367.3 MiB/505.4 MiB (77.4 MiB/s) with 40 file(s) remaining#015Completed 367.5 MiB/505.4 MiB (77.3 MiB/s) with 40 file(s) remaining#015Completed 367.8 MiB/505.4 MiB (77.4 MiB/s) with 40 file(s) remaining#015Completed 368.0 MiB/505.4 MiB (77.4 MiB/s) with 40 file(s) remaining#015Completed 368.3 MiB/505.4 MiB (77.4 MiB/s) with 40 file(s) remaining#015Completed 368.5 MiB/505.4 MiB (77.5 MiB/s) with 40 file(s) remaining#015download: s3://sagemaker-us-east-1-905418336534/myvideotrainingdataset/videos/academic_source/youcook2/316/FiE1KczH4pc/split_0.mp4 to videos/academic_source/youcook2/316/FiE1KczH4pc/split_0.mp4\u001b[0m\n",
      "\u001b[34mCompleted 368.5 MiB/505.4 MiB (77.5 MiB/s) with 39 file(s) remaining#015Completed 368.7 MiB/505.4 MiB (77.4 MiB/s) with 39 file(s) remaining#015Completed 369.0 MiB/505.4 MiB (77.4 MiB/s) with 39 file(s) remaining#015Completed 369.2 MiB/505.4 MiB (77.4 MiB/s) with 39 file(s) remaining#015Completed 369.5 MiB/505.4 MiB (77.5 MiB/s) with 39 file(s) remaining#015Completed 369.7 MiB/505.4 MiB (77.5 MiB/s) with 39 file(s) remaining#015Completed 370.0 MiB/505.4 MiB (77.6 MiB/s) with 39 file(s) remaining#015Completed 370.2 MiB/505.4 MiB (77.6 MiB/s) with 39 file(s) remaining#015Completed 370.5 MiB/505.4 MiB (77.6 MiB/s) with 39 file(s) remaining#015Completed 370.7 MiB/505.4 MiB (77.7 MiB/s) with 39 file(s) remaining#015Completed 371.0 MiB/505.4 MiB (77.7 MiB/s) with 39 file(s) remaining#015Completed 371.2 MiB/505.4 MiB (77.8 MiB/s) with 39 file(s) remaining#015Completed 371.5 MiB/505.4 MiB (77.8 MiB/s) with 39 file(s) remaining#015Completed 371.7 MiB/505.4 MiB (77.8 MiB/s) with 39 file(s) remaining#015Completed 372.0 MiB/505.4 MiB (77.9 MiB/s) with 39 file(s) remaining#015Completed 372.2 MiB/505.4 MiB (77.9 MiB/s) with 39 file(s) remaining#015Completed 372.5 MiB/505.4 MiB (78.0 MiB/s) with 39 file(s) remaining#015Completed 372.7 MiB/505.4 MiB (78.0 MiB/s) with 39 file(s) remaining#015Completed 373.0 MiB/505.4 MiB (78.0 MiB/s) with 39 file(s) remaining#015Completed 373.2 MiB/505.4 MiB (78.1 MiB/s) with 39 file(s) remaining#015Completed 373.5 MiB/505.4 MiB (78.1 MiB/s) with 39 file(s) remaining#015Completed 373.7 MiB/505.4 MiB (78.2 MiB/s) with 39 file(s) remaining#015Completed 374.0 MiB/505.4 MiB (78.2 MiB/s) with 39 file(s) remaining#015Completed 374.2 MiB/505.4 MiB (78.3 MiB/s) with 39 file(s) remaining#015Completed 374.5 MiB/505.4 MiB (78.3 MiB/s) with 39 file(s) remaining#015Completed 374.7 MiB/505.4 MiB (78.4 MiB/s) with 39 file(s) remaining#015Completed 375.0 MiB/505.4 MiB (78.3 MiB/s) with 39 file(s) remaining#015Completed 375.2 MiB/505.4 MiB (78.3 MiB/s) with 39 file(s) remaining#015Completed 375.5 MiB/505.4 MiB (78.4 MiB/s) with 39 file(s) remaining#015Completed 375.6 MiB/505.4 MiB (78.4 MiB/s) with 39 file(s) remaining#015download: s3://sagemaker-us-east-1-905418336534/myvideotrainingdataset/videos/academic_source/youcook2/226/iDMXdB88oQI/split_2.mp4 to videos/academic_source/youcook2/226/iDMXdB88oQI/split_2.mp4\u001b[0m\n",
      "\u001b[34mCompleted 375.6 MiB/505.4 MiB (78.4 MiB/s) with 38 file(s) remaining#015Completed 375.8 MiB/505.4 MiB (78.3 MiB/s) with 38 file(s) remaining#015Completed 376.1 MiB/505.4 MiB (78.3 MiB/s) with 38 file(s) remaining#015Completed 376.3 MiB/505.4 MiB (78.4 MiB/s) with 38 file(s) remaining#015Completed 376.6 MiB/505.4 MiB (78.4 MiB/s) with 38 file(s) remaining#015Completed 376.8 MiB/505.4 MiB (78.4 MiB/s) with 38 file(s) remaining#015Completed 377.1 MiB/505.4 MiB (78.5 MiB/s) with 38 file(s) remaining#015Completed 377.3 MiB/505.4 MiB (78.5 MiB/s) with 38 file(s) remaining#015Completed 377.6 MiB/505.4 MiB (78.6 MiB/s) with 38 file(s) remaining#015Completed 377.8 MiB/505.4 MiB (78.6 MiB/s) with 38 file(s) remaining#015Completed 378.1 MiB/505.4 MiB (78.6 MiB/s) with 38 file(s) remaining#015Completed 378.3 MiB/505.4 MiB (78.7 MiB/s) with 38 file(s) remaining#015Completed 378.6 MiB/505.4 MiB (78.7 MiB/s) with 38 file(s) remaining#015Completed 378.8 MiB/505.4 MiB (78.8 MiB/s) with 38 file(s) remaining#015Completed 379.1 MiB/505.4 MiB (78.8 MiB/s) with 38 file(s) remaining#015Completed 379.3 MiB/505.4 MiB (78.8 MiB/s) with 38 file(s) remaining#015Completed 379.5 MiB/505.4 MiB (78.9 MiB/s) with 38 file(s) remaining#015Completed 379.8 MiB/505.4 MiB (78.9 MiB/s) with 38 file(s) remaining#015Completed 380.0 MiB/505.4 MiB (78.9 MiB/s) with 38 file(s) remaining#015Completed 380.3 MiB/505.4 MiB (79.0 MiB/s) with 38 file(s) remaining#015Completed 380.5 MiB/505.4 MiB (78.9 MiB/s) with 38 file(s) remaining#015Completed 380.8 MiB/505.4 MiB (78.9 MiB/s) with 38 file(s) remaining#015Completed 381.0 MiB/505.4 MiB (79.0 MiB/s) with 38 file(s) remaining#015Completed 381.3 MiB/505.4 MiB (79.0 MiB/s) with 38 file(s) remaining#015Completed 381.5 MiB/505.4 MiB (79.0 MiB/s) with 38 file(s) remaining#015Completed 381.8 MiB/505.4 MiB (79.1 MiB/s) with 38 file(s) remaining#015Completed 382.0 MiB/505.4 MiB (79.1 MiB/s) with 38 file(s) remaining#015Completed 382.2 MiB/505.4 MiB (79.1 MiB/s) with 38 file(s) remaining#015download: s3://sagemaker-us-east-1-905418336534/myvideotrainingdataset/videos/academic_source/youcook2/310/cFZPX7by9N8/split_3.mp4 to videos/academic_source/youcook2/310/cFZPX7by9N8/split_3.mp4\u001b[0m\n",
      "\u001b[34mCompleted 382.2 MiB/505.4 MiB (79.1 MiB/s) with 37 file(s) remaining#015Completed 382.4 MiB/505.4 MiB (79.1 MiB/s) with 37 file(s) remaining#015Completed 382.5 MiB/505.4 MiB (79.2 MiB/s) with 37 file(s) remaining#015download: s3://sagemaker-us-east-1-905418336534/myvideotrainingdataset/videos/academic_source/youcook2/303/LaouC0RQoDg/split_8.mp4 to videos/academic_source/youcook2/303/LaouC0RQoDg/split_8.mp4\u001b[0m\n",
      "\u001b[34mCompleted 382.5 MiB/505.4 MiB (79.2 MiB/s) with 36 file(s) remaining#015Completed 382.8 MiB/505.4 MiB (79.1 MiB/s) with 36 file(s) remaining#015Completed 383.0 MiB/505.4 MiB (79.2 MiB/s) with 36 file(s) remaining#015Completed 383.3 MiB/505.4 MiB (79.2 MiB/s) with 36 file(s) remaining#015Completed 383.5 MiB/505.4 MiB (79.2 MiB/s) with 36 file(s) remaining#015Completed 383.8 MiB/505.4 MiB (79.3 MiB/s) with 36 file(s) remaining#015Completed 384.0 MiB/505.4 MiB (79.3 MiB/s) with 36 file(s) remaining#015Completed 384.3 MiB/505.4 MiB (79.4 MiB/s) with 36 file(s) remaining#015Completed 384.5 MiB/505.4 MiB (79.4 MiB/s) with 36 file(s) remaining#015Completed 384.8 MiB/505.4 MiB (79.4 MiB/s) with 36 file(s) remaining#015Completed 385.0 MiB/505.4 MiB (79.5 MiB/s) with 36 file(s) remaining#015Completed 385.2 MiB/505.4 MiB (79.5 MiB/s) with 36 file(s) remaining#015download: s3://sagemaker-us-east-1-905418336534/myvideotrainingdataset/videos/academic_source/youcook2/307/GrCrG-EMr8g/split_6.mp4 to videos/academic_source/youcook2/307/GrCrG-EMr8g/split_6.mp4\u001b[0m\n",
      "\u001b[34mCompleted 385.2 MiB/505.4 MiB (79.5 MiB/s) with 35 file(s) remaining#015Completed 385.4 MiB/505.4 MiB (79.5 MiB/s) with 35 file(s) remaining#015Completed 385.7 MiB/505.4 MiB (79.6 MiB/s) with 35 file(s) remaining#015Completed 385.9 MiB/505.4 MiB (79.6 MiB/s) with 35 file(s) remaining#015Completed 386.1 MiB/505.4 MiB (79.6 MiB/s) with 35 file(s) remaining#015download: s3://sagemaker-us-east-1-905418336534/myvideotrainingdataset/videos/academic_source/youcook2/318/qH6kSDQMiFA/split_0.mp4 to videos/academic_source/youcook2/318/qH6kSDQMiFA/split_0.mp4\u001b[0m\n",
      "\u001b[34mCompleted 386.1 MiB/505.4 MiB (79.6 MiB/s) with 34 file(s) remaining#015Completed 386.3 MiB/505.4 MiB (79.1 MiB/s) with 34 file(s) remaining#015Completed 386.6 MiB/505.4 MiB (79.1 MiB/s) with 34 file(s) remaining#015Completed 386.8 MiB/505.4 MiB (79.1 MiB/s) with 34 file(s) remaining#015Completed 387.1 MiB/505.4 MiB (79.2 MiB/s) with 34 file(s) remaining#015Completed 387.3 MiB/505.4 MiB (79.2 MiB/s) with 34 file(s) remaining#015Completed 387.6 MiB/505.4 MiB (79.2 MiB/s) with 34 file(s) remaining#015Completed 387.8 MiB/505.4 MiB (79.3 MiB/s) with 34 file(s) remaining#015download: s3://sagemaker-us-east-1-905418336534/myvideotrainingdataset/videos/academic_source/youcook2/303/nrsFW3HE7yo/split_6.mp4 to videos/academic_source/youcook2/303/nrsFW3HE7yo/split_6.mp4\u001b[0m\n",
      "\u001b[34mCompleted 387.8 MiB/505.4 MiB (79.3 MiB/s) with 33 file(s) remaining#015Completed 388.1 MiB/505.4 MiB (79.2 MiB/s) with 33 file(s) remaining#015Completed 388.3 MiB/505.4 MiB (79.3 MiB/s) with 33 file(s) remaining#015Completed 388.6 MiB/505.4 MiB (79.3 MiB/s) with 33 file(s) remaining#015Completed 388.8 MiB/505.4 MiB (79.3 MiB/s) with 33 file(s) remaining#015Completed 389.1 MiB/505.4 MiB (79.4 MiB/s) with 33 file(s) remaining#015Completed 389.3 MiB/505.4 MiB (79.4 MiB/s) with 33 file(s) remaining#015Completed 389.6 MiB/505.4 MiB (79.5 MiB/s) with 33 file(s) remaining#015Completed 389.8 MiB/505.4 MiB (79.5 MiB/s) with 33 file(s) remaining#015Completed 390.1 MiB/505.4 MiB (79.4 MiB/s) with 33 file(s) remaining#015Completed 390.3 MiB/505.4 MiB (79.4 MiB/s) with 33 file(s) remaining#015Completed 390.6 MiB/505.4 MiB (79.4 MiB/s) with 33 file(s) remaining#015Completed 390.7 MiB/505.4 MiB (79.5 MiB/s) with 33 file(s) remaining#015download: s3://sagemaker-us-east-1-905418336534/myvideotrainingdataset/videos/academic_source/youcook2/318/bpogVeh1pRw/split_1.mp4 to videos/academic_source/youcook2/318/bpogVeh1pRw/split_1.mp4\u001b[0m\n",
      "\u001b[34mCompleted 390.7 MiB/505.4 MiB (79.5 MiB/s) with 32 file(s) remaining#015Completed 391.0 MiB/505.4 MiB (79.5 MiB/s) with 32 file(s) remaining#015Completed 391.2 MiB/505.4 MiB (79.5 MiB/s) with 32 file(s) remaining#015Completed 391.5 MiB/505.4 MiB (79.5 MiB/s) with 32 file(s) remaining#015Completed 391.7 MiB/505.4 MiB (79.5 MiB/s) with 32 file(s) remaining#015Completed 392.0 MiB/505.4 MiB (79.6 MiB/s) with 32 file(s) remaining#015Completed 392.2 MiB/505.4 MiB (79.6 MiB/s) with 32 file(s) remaining#015Completed 392.5 MiB/505.4 MiB (79.7 MiB/s) with 32 file(s) remaining#015Completed 392.7 MiB/505.4 MiB (79.7 MiB/s) with 32 file(s) remaining#015Completed 393.0 MiB/505.4 MiB (79.7 MiB/s) with 32 file(s) remaining#015Completed 393.2 MiB/505.4 MiB (79.8 MiB/s) with 32 file(s) remaining#015Completed 393.5 MiB/505.4 MiB (79.8 MiB/s) with 32 file(s) remaining#015Completed 393.7 MiB/505.4 MiB (79.8 MiB/s) with 32 file(s) remaining#015download: s3://sagemaker-us-east-1-905418336534/myvideotrainingdataset/videos/academic_source/youcook2/410/gRoxcqIRXOU/split_3.mp4 to videos/academic_source/youcook2/410/gRoxcqIRXOU/split_3.mp4\u001b[0m\n",
      "\u001b[34mCompleted 393.7 MiB/505.4 MiB (79.8 MiB/s) with 31 file(s) remaining#015Completed 394.0 MiB/505.4 MiB (79.8 MiB/s) with 31 file(s) remaining#015Completed 394.2 MiB/505.4 MiB (79.9 MiB/s) with 31 file(s) remaining#015Completed 394.5 MiB/505.4 MiB (79.9 MiB/s) with 31 file(s) remaining#015Completed 394.7 MiB/505.4 MiB (80.0 MiB/s) with 31 file(s) remaining#015Completed 395.0 MiB/505.4 MiB (80.0 MiB/s) with 31 file(s) remaining#015Completed 395.2 MiB/505.4 MiB (80.0 MiB/s) with 31 file(s) remaining#015Completed 395.5 MiB/505.4 MiB (80.1 MiB/s) with 31 file(s) remaining#015Completed 395.7 MiB/505.4 MiB (80.1 MiB/s) with 31 file(s) remaining#015Completed 396.0 MiB/505.4 MiB (80.2 MiB/s) with 31 file(s) remaining#015Completed 396.2 MiB/505.4 MiB (80.0 MiB/s) with 31 file(s) remaining#015Completed 396.5 MiB/505.4 MiB (80.0 MiB/s) with 31 file(s) remaining#015Completed 396.7 MiB/505.4 MiB (80.1 MiB/s) with 31 file(s) remaining#015Completed 397.0 MiB/505.4 MiB (80.1 MiB/s) with 31 file(s) remaining#015Completed 397.2 MiB/505.4 MiB (80.1 MiB/s) with 31 file(s) remaining#015Completed 397.5 MiB/505.4 MiB (80.2 MiB/s) with 31 file(s) remaining#015Completed 397.7 MiB/505.4 MiB (80.2 MiB/s) with 31 file(s) remaining#015Completed 398.0 MiB/505.4 MiB (80.2 MiB/s) with 31 file(s) remaining#015Completed 398.2 MiB/505.4 MiB (80.3 MiB/s) with 31 file(s) remaining#015Completed 398.5 MiB/505.4 MiB (80.3 MiB/s) with 31 file(s) remaining#015Completed 398.7 MiB/505.4 MiB (80.4 MiB/s) with 31 file(s) remaining#015Completed 399.0 MiB/505.4 MiB (80.4 MiB/s) with 31 file(s) remaining#015Completed 399.2 MiB/505.4 MiB (80.4 MiB/s) with 31 file(s) remaining#015Completed 399.5 MiB/505.4 MiB (80.5 MiB/s) with 31 file(s) remaining#015Completed 399.7 MiB/505.4 MiB (80.5 MiB/s) with 31 file(s) remaining#015Completed 400.0 MiB/505.4 MiB (80.6 MiB/s) with 31 file(s) remaining#015Completed 400.2 MiB/505.4 MiB (80.5 MiB/s) with 31 file(s) remaining#015Completed 400.5 MiB/505.4 MiB (80.6 MiB/s) with 31 file(s) remaining#015Completed 400.6 MiB/505.4 MiB (80.6 MiB/s) with 31 file(s) remaining#015download: s3://sagemaker-us-east-1-905418336534/myvideotrainingdataset/videos/academic_source/youcook2/413/ny7G1uw36J0/split_2.mp4 to videos/academic_source/youcook2/413/ny7G1uw36J0/split_2.mp4\u001b[0m\n",
      "\u001b[34mCompleted 400.6 MiB/505.4 MiB (80.6 MiB/s) with 30 file(s) remaining#015Completed 400.9 MiB/505.4 MiB (80.4 MiB/s) with 30 file(s) remaining#015Completed 401.1 MiB/505.4 MiB (80.5 MiB/s) with 30 file(s) remaining#015Completed 401.4 MiB/505.4 MiB (80.5 MiB/s) with 30 file(s) remaining#015Completed 401.6 MiB/505.4 MiB (80.5 MiB/s) with 30 file(s) remaining#015Completed 401.9 MiB/505.4 MiB (80.6 MiB/s) with 30 file(s) remaining#015Completed 402.1 MiB/505.4 MiB (80.6 MiB/s) with 30 file(s) remaining#015Completed 402.4 MiB/505.4 MiB (80.7 MiB/s) with 30 file(s) remaining#015Completed 402.6 MiB/505.4 MiB (80.7 MiB/s) with 30 file(s) remaining#015Completed 402.9 MiB/505.4 MiB (80.7 MiB/s) with 30 file(s) remaining#015Completed 403.1 MiB/505.4 MiB (80.8 MiB/s) with 30 file(s) remaining#015Completed 403.4 MiB/505.4 MiB (80.8 MiB/s) with 30 file(s) remaining#015Completed 403.6 MiB/505.4 MiB (80.8 MiB/s) with 30 file(s) remaining#015Completed 403.9 MiB/505.4 MiB (80.9 MiB/s) with 30 file(s) remaining#015Completed 404.1 MiB/505.4 MiB (80.9 MiB/s) with 30 file(s) remaining#015Completed 404.4 MiB/505.4 MiB (81.0 MiB/s) with 30 file(s) remaining#015Completed 404.6 MiB/505.4 MiB (81.0 MiB/s) with 30 file(s) remaining#015Completed 404.9 MiB/505.4 MiB (81.0 MiB/s) with 30 file(s) remaining#015Completed 405.1 MiB/505.4 MiB (81.0 MiB/s) with 30 file(s) remaining#015Completed 405.4 MiB/505.4 MiB (81.1 MiB/s) with 30 file(s) remaining#015Completed 405.6 MiB/505.4 MiB (81.1 MiB/s) with 30 file(s) remaining#015Completed 405.9 MiB/505.4 MiB (81.1 MiB/s) with 30 file(s) remaining#015Completed 406.1 MiB/505.4 MiB (81.2 MiB/s) with 30 file(s) remaining#015Completed 406.4 MiB/505.4 MiB (81.2 MiB/s) with 30 file(s) remaining#015Completed 406.6 MiB/505.4 MiB (81.3 MiB/s) with 30 file(s) remaining#015Completed 406.8 MiB/505.4 MiB (81.3 MiB/s) with 30 file(s) remaining#015download: s3://sagemaker-us-east-1-905418336534/myvideotrainingdataset/videos/academic_source/youcook2/421/b56WIxbLd1c/split_4.mp4 to videos/academic_source/youcook2/421/b56WIxbLd1c/split_4.mp4\u001b[0m\n",
      "\u001b[34mCompleted 406.8 MiB/505.4 MiB (81.3 MiB/s) with 29 file(s) remaining#015Completed 407.0 MiB/505.4 MiB (81.2 MiB/s) with 29 file(s) remaining#015Completed 407.3 MiB/505.4 MiB (81.2 MiB/s) with 29 file(s) remaining#015Completed 407.5 MiB/505.4 MiB (81.3 MiB/s) with 29 file(s) remaining#015Completed 407.8 MiB/505.4 MiB (81.3 MiB/s) with 29 file(s) remaining#015Completed 408.0 MiB/505.4 MiB (81.3 MiB/s) with 29 file(s) remaining#015Completed 408.3 MiB/505.4 MiB (81.4 MiB/s) with 29 file(s) remaining#015Completed 408.5 MiB/505.4 MiB (81.4 MiB/s) with 29 file(s) remaining#015Completed 408.8 MiB/505.4 MiB (81.4 MiB/s) with 29 file(s) remaining#015Completed 409.0 MiB/505.4 MiB (81.5 MiB/s) with 29 file(s) remaining#015Completed 409.3 MiB/505.4 MiB (81.5 MiB/s) with 29 file(s) remaining#015Completed 409.5 MiB/505.4 MiB (81.5 MiB/s) with 29 file(s) remaining#015Completed 409.8 MiB/505.4 MiB (81.6 MiB/s) with 29 file(s) remaining#015Completed 410.0 MiB/505.4 MiB (81.6 MiB/s) with 29 file(s) remaining#015Completed 410.3 MiB/505.4 MiB (81.6 MiB/s) with 29 file(s) remaining#015Completed 410.5 MiB/505.4 MiB (81.7 MiB/s) with 29 file(s) remaining#015Completed 410.8 MiB/505.4 MiB (81.7 MiB/s) with 29 file(s) remaining#015Completed 411.0 MiB/505.4 MiB (81.8 MiB/s) with 29 file(s) remaining#015Completed 411.3 MiB/505.4 MiB (81.8 MiB/s) with 29 file(s) remaining#015Completed 411.5 MiB/505.4 MiB (81.9 MiB/s) with 29 file(s) remaining#015Completed 411.8 MiB/505.4 MiB (81.9 MiB/s) with 29 file(s) remaining#015Completed 412.0 MiB/505.4 MiB (81.9 MiB/s) with 29 file(s) remaining#015Completed 412.3 MiB/505.4 MiB (82.0 MiB/s) with 29 file(s) remaining#015Completed 412.5 MiB/505.4 MiB (82.0 MiB/s) with 29 file(s) remaining#015Completed 412.8 MiB/505.4 MiB (82.1 MiB/s) with 29 file(s) remaining#015Completed 413.0 MiB/505.4 MiB (82.1 MiB/s) with 29 file(s) remaining#015Completed 413.3 MiB/505.4 MiB (82.0 MiB/s) with 29 file(s) remaining#015Completed 413.5 MiB/505.4 MiB (82.0 MiB/s) with 29 file(s) remaining#015Completed 413.8 MiB/505.4 MiB (82.1 MiB/s) with 29 file(s) remaining#015Completed 414.0 MiB/505.4 MiB (82.1 MiB/s) with 29 file(s) remaining#015Completed 414.3 MiB/505.4 MiB (82.2 MiB/s) with 29 file(s) remaining#015Completed 414.5 MiB/505.4 MiB (82.2 MiB/s) with 29 file(s) remaining#015Completed 414.8 MiB/505.4 MiB (82.2 MiB/s) with 29 file(s) remaining#015Completed 415.0 MiB/505.4 MiB (82.3 MiB/s) with 29 file(s) remaining#015Completed 415.3 MiB/505.4 MiB (82.3 MiB/s) with 29 file(s) remaining#015Completed 415.5 MiB/505.4 MiB (82.4 MiB/s) with 29 file(s) remaining#015Completed 415.8 MiB/505.4 MiB (82.4 MiB/s) with 29 file(s) remaining#015Completed 416.0 MiB/505.4 MiB (82.4 MiB/s) with 29 file(s) remaining#015Completed 416.3 MiB/505.4 MiB (82.5 MiB/s) with 29 file(s) remaining#015Completed 416.5 MiB/505.4 MiB (82.5 MiB/s) with 29 file(s) remaining#015Completed 416.8 MiB/505.4 MiB (82.5 MiB/s) with 29 file(s) remaining#015Completed 417.0 MiB/505.4 MiB (82.6 MiB/s) with 29 file(s) remaining#015Completed 417.3 MiB/505.4 MiB (82.6 MiB/s) with 29 file(s) remaining#015Completed 417.5 MiB/505.4 MiB (82.7 MiB/s) with 29 file(s) remaining#015Completed 417.8 MiB/505.4 MiB (82.7 MiB/s) with 29 file(s) remaining#015Completed 418.0 MiB/505.4 MiB (82.8 MiB/s) with 29 file(s) remaining#015Completed 418.3 MiB/505.4 MiB (82.8 MiB/s) with 29 file(s) remaining#015Completed 418.5 MiB/505.4 MiB (82.8 MiB/s) with 29 file(s) remaining#015Completed 418.8 MiB/505.4 MiB (82.9 MiB/s) with 29 file(s) remaining#015Completed 419.0 MiB/505.4 MiB (82.9 MiB/s) with 29 file(s) remaining#015Completed 419.3 MiB/505.4 MiB (82.9 MiB/s) with 29 file(s) remaining#015Completed 419.5 MiB/505.4 MiB (83.0 MiB/s) with 29 file(s) remaining#015Completed 419.8 MiB/505.4 MiB (82.6 MiB/s) with 29 file(s) remaining#015Completed 420.0 MiB/505.4 MiB (82.6 MiB/s) with 29 file(s) remaining#015Completed 420.3 MiB/505.4 MiB (82.6 MiB/s) with 29 file(s) remaining#015Completed 420.5 MiB/505.4 MiB (82.6 MiB/s) with 29 file(s) remaining#015Completed 420.8 MiB/505.4 MiB (82.7 MiB/s) with 29 file(s) remaining#015Completed 421.0 MiB/505.4 MiB (82.7 MiB/s) with 29 file(s) remaining#015Completed 421.3 MiB/505.4 MiB (82.7 MiB/s) with 29 file(s) remaining#015Completed 421.5 MiB/505.4 MiB (82.8 MiB/s) with 29 file(s) remaining#015Completed 421.8 MiB/505.4 MiB (82.8 MiB/s) with 29 file(s) remaining#015Completed 422.0 MiB/505.4 MiB (82.8 MiB/s) with 29 file(s) remaining#015Completed 422.3 MiB/505.4 MiB (82.9 MiB/s) with 29 file(s) remaining#015Completed 422.5 MiB/505.4 MiB (82.9 MiB/s) with 29 file(s) remaining#015Completed 422.8 MiB/505.4 MiB (82.9 MiB/s) with 29 file(s) remaining#015Completed 423.0 MiB/505.4 MiB (83.0 MiB/s) with 29 file(s) remaining#015Completed 423.3 MiB/505.4 MiB (83.0 MiB/s) with 29 file(s) remaining#015Completed 423.5 MiB/505.4 MiB (83.1 MiB/s) with 29 file(s) remaining#015Completed 423.8 MiB/505.4 MiB (83.1 MiB/s) with 29 file(s) remaining#015Completed 424.0 MiB/505.4 MiB (83.1 MiB/s) with 29 file(s) remaining#015Completed 424.3 MiB/505.4 MiB (83.2 MiB/s) with 29 file(s) remaining#015Completed 424.5 MiB/505.4 MiB (83.2 MiB/s) with 29 file(s) remaining#015Completed 424.8 MiB/505.4 MiB (83.2 MiB/s) with 29 file(s) remaining#015Completed 425.0 MiB/505.4 MiB (83.3 MiB/s) with 29 file(s) remaining#015Completed 425.3 MiB/505.4 MiB (83.3 MiB/s) with 29 file(s) remaining#015Completed 425.5 MiB/505.4 MiB (83.4 MiB/s) with 29 file(s) remaining#015Completed 425.8 MiB/505.4 MiB (83.3 MiB/s) with 29 file(s) remaining#015Completed 426.0 MiB/505.4 MiB (83.4 MiB/s) with 29 file(s) remaining#015Completed 426.3 MiB/505.4 MiB (83.4 MiB/s) with 29 file(s) remaining#015Completed 426.5 MiB/505.4 MiB (83.5 MiB/s) with 29 file(s) remaining#015Completed 426.8 MiB/505.4 MiB (83.5 MiB/s) with 29 file(s) remaining#015Completed 427.0 MiB/505.4 MiB (83.5 MiB/s) with 29 file(s) remaining#015Completed 427.3 MiB/505.4 MiB (83.6 MiB/s) with 29 file(s) remaining#015Completed 427.5 MiB/505.4 MiB (83.6 MiB/s) with 29 file(s) remaining#015Completed 427.8 MiB/505.4 MiB (83.6 MiB/s) with 29 file(s) remaining#015Completed 428.0 MiB/505.4 MiB (83.6 MiB/s) with 29 file(s) remaining#015Completed 428.3 MiB/505.4 MiB (83.7 MiB/s) with 29 file(s) remaining#015Completed 428.5 MiB/505.4 MiB (83.7 MiB/s) with 29 file(s) remaining#015Completed 428.8 MiB/505.4 MiB (83.7 MiB/s) with 29 file(s) remaining#015Completed 429.0 MiB/505.4 MiB (83.8 MiB/s) with 29 file(s) remaining#015Completed 429.3 MiB/505.4 MiB (83.8 MiB/s) with 29 file(s) remaining#015Completed 429.5 MiB/505.4 MiB (83.8 MiB/s) with 29 file(s) remaining#015download: s3://sagemaker-us-east-1-905418336534/myvideotrainingdataset/videos/academic_source/youcook2/404/zwbCD3CUFIs/split_13.mp4 to videos/academic_source/youcook2/404/zwbCD3CUFIs/split_13.mp4\u001b[0m\n",
      "\u001b[34mCompleted 429.5 MiB/505.4 MiB (83.8 MiB/s) with 28 file(s) remaining#015Completed 429.8 MiB/505.4 MiB (83.8 MiB/s) with 28 file(s) remaining#015Completed 430.0 MiB/505.4 MiB (83.8 MiB/s) with 28 file(s) remaining#015Completed 430.2 MiB/505.4 MiB (83.8 MiB/s) with 28 file(s) remaining#015download: s3://sagemaker-us-east-1-905418336534/myvideotrainingdataset/videos/academic_source/youcook2/403/sb58mkT8_ak/split_4.mp4 to videos/academic_source/youcook2/403/sb58mkT8_ak/split_4.mp4\u001b[0m\n",
      "\u001b[34mCompleted 430.2 MiB/505.4 MiB (83.8 MiB/s) with 27 file(s) remaining#015Completed 430.5 MiB/505.4 MiB (83.8 MiB/s) with 27 file(s) remaining#015Completed 430.7 MiB/505.4 MiB (83.9 MiB/s) with 27 file(s) remaining#015Completed 430.8 MiB/505.4 MiB (83.9 MiB/s) with 27 file(s) remaining#015Completed 431.1 MiB/505.4 MiB (83.8 MiB/s) with 27 file(s) remaining#015Completed 431.3 MiB/505.4 MiB (83.8 MiB/s) with 27 file(s) remaining#015Completed 431.6 MiB/505.4 MiB (83.9 MiB/s) with 27 file(s) remaining#015Completed 431.6 MiB/505.4 MiB (83.9 MiB/s) with 27 file(s) remaining#015download: s3://sagemaker-us-east-1-905418336534/myvideotrainingdataset/videos/academic_source/youcook2/401/78dIqPhgnLs/split_6.mp4 to videos/academic_source/youcook2/401/78dIqPhgnLs/split_6.mp4\u001b[0m\n",
      "\u001b[34mCompleted 431.6 MiB/505.4 MiB (83.9 MiB/s) with 26 file(s) remaining#015Completed 431.9 MiB/505.4 MiB (83.9 MiB/s) with 26 file(s) remaining#015Completed 432.1 MiB/505.4 MiB (83.9 MiB/s) with 26 file(s) remaining#015Completed 432.4 MiB/505.4 MiB (83.9 MiB/s) with 26 file(s) remaining#015Completed 432.6 MiB/505.4 MiB (84.0 MiB/s) with 26 file(s) remaining#015Completed 432.9 MiB/505.4 MiB (84.0 MiB/s) with 26 file(s) remaining#015Completed 433.1 MiB/505.4 MiB (84.1 MiB/s) with 26 file(s) remaining#015Completed 433.4 MiB/505.4 MiB (84.1 MiB/s) with 26 file(s) remaining#015Completed 433.6 MiB/505.4 MiB (84.1 MiB/s) with 26 file(s) remaining#015Completed 433.9 MiB/505.4 MiB (84.2 MiB/s) with 26 file(s) remaining#015Completed 434.1 MiB/505.4 MiB (84.2 MiB/s) with 26 file(s) remaining#015Completed 434.4 MiB/505.4 MiB (84.2 MiB/s) with 26 file(s) remaining#015Completed 434.6 MiB/505.4 MiB (84.3 MiB/s) with 26 file(s) remaining#015Completed 434.9 MiB/505.4 MiB (84.3 MiB/s) with 26 file(s) remaining#015Completed 435.1 MiB/505.4 MiB (84.4 MiB/s) with 26 file(s) remaining#015Completed 435.4 MiB/505.4 MiB (84.4 MiB/s) with 26 file(s) remaining#015Completed 435.6 MiB/505.4 MiB (83.7 MiB/s) with 26 file(s) remaining#015Completed 435.9 MiB/505.4 MiB (83.7 MiB/s) with 26 file(s) remaining#015Completed 436.1 MiB/505.4 MiB (83.7 MiB/s) with 26 file(s) remaining#015Completed 436.4 MiB/505.4 MiB (83.8 MiB/s) with 26 file(s) remaining#015Completed 436.6 MiB/505.4 MiB (83.8 MiB/s) with 26 file(s) remaining#015Completed 436.9 MiB/505.4 MiB (83.8 MiB/s) with 26 file(s) remaining#015Completed 437.1 MiB/505.4 MiB (83.9 MiB/s) with 26 file(s) remaining#015Completed 437.4 MiB/505.4 MiB (83.7 MiB/s) with 26 file(s) remaining#015Completed 437.6 MiB/505.4 MiB (83.8 MiB/s) with 26 file(s) remaining#015Completed 437.9 MiB/505.4 MiB (83.8 MiB/s) with 26 file(s) remaining#015Completed 438.1 MiB/505.4 MiB (83.8 MiB/s) with 26 file(s) remaining#015Completed 438.3 MiB/505.4 MiB (83.8 MiB/s) with 26 file(s) remaining#015download: s3://sagemaker-us-east-1-905418336534/myvideotrainingdataset/videos/split_0.mp4 to videos/split_0.mp4\u001b[0m\n",
      "\u001b[34mCompleted 438.3 MiB/505.4 MiB (83.8 MiB/s) with 25 file(s) remaining#015Completed 438.6 MiB/505.4 MiB (83.7 MiB/s) with 25 file(s) remaining#015Completed 438.8 MiB/505.4 MiB (83.8 MiB/s) with 25 file(s) remaining#015Completed 439.1 MiB/505.4 MiB (83.8 MiB/s) with 25 file(s) remaining#015Completed 439.3 MiB/505.4 MiB (83.9 MiB/s) with 25 file(s) remaining#015Completed 439.6 MiB/505.4 MiB (83.9 MiB/s) with 25 file(s) remaining#015Completed 439.8 MiB/505.4 MiB (83.9 MiB/s) with 25 file(s) remaining#015Completed 440.1 MiB/505.4 MiB (84.0 MiB/s) with 25 file(s) remaining#015Completed 440.3 MiB/505.4 MiB (84.0 MiB/s) with 25 file(s) remaining#015Completed 440.3 MiB/505.4 MiB (84.0 MiB/s) with 25 file(s) remaining#015download: s3://sagemaker-us-east-1-905418336534/myvideotrainingdataset/videos/split_1.mp4 to videos/split_1.mp4\u001b[0m\n",
      "\u001b[34mCompleted 440.3 MiB/505.4 MiB (84.0 MiB/s) with 24 file(s) remaining#015Completed 440.6 MiB/505.4 MiB (83.9 MiB/s) with 24 file(s) remaining#015Completed 440.8 MiB/505.4 MiB (84.0 MiB/s) with 24 file(s) remaining#015Completed 441.1 MiB/505.4 MiB (84.0 MiB/s) with 24 file(s) remaining#015Completed 441.3 MiB/505.4 MiB (84.0 MiB/s) with 24 file(s) remaining#015Completed 441.6 MiB/505.4 MiB (84.1 MiB/s) with 24 file(s) remaining#015Completed 441.8 MiB/505.4 MiB (84.1 MiB/s) with 24 file(s) remaining#015Completed 442.1 MiB/505.4 MiB (84.2 MiB/s) with 24 file(s) remaining#015Completed 442.3 MiB/505.4 MiB (84.2 MiB/s) with 24 file(s) remaining#015Completed 442.6 MiB/505.4 MiB (84.2 MiB/s) with 24 file(s) remaining#015Completed 442.8 MiB/505.4 MiB (84.3 MiB/s) with 24 file(s) remaining#015Completed 443.1 MiB/505.4 MiB (84.3 MiB/s) with 24 file(s) remaining#015Completed 443.3 MiB/505.4 MiB (84.3 MiB/s) with 24 file(s) remaining#015Completed 443.6 MiB/505.4 MiB (84.4 MiB/s) with 24 file(s) remaining#015Completed 443.8 MiB/505.4 MiB (84.4 MiB/s) with 24 file(s) remaining#015Completed 444.1 MiB/505.4 MiB (84.4 MiB/s) with 24 file(s) remaining#015Completed 444.3 MiB/505.4 MiB (84.5 MiB/s) with 24 file(s) remaining#015Completed 444.6 MiB/505.4 MiB (84.5 MiB/s) with 24 file(s) remaining#015Completed 444.8 MiB/505.4 MiB (84.5 MiB/s) with 24 file(s) remaining#015Completed 445.1 MiB/505.4 MiB (84.6 MiB/s) with 24 file(s) remaining#015Completed 445.3 MiB/505.4 MiB (84.6 MiB/s) with 24 file(s) remaining#015Completed 445.6 MiB/505.4 MiB (84.7 MiB/s) with 24 file(s) remaining#015Completed 445.8 MiB/505.4 MiB (84.7 MiB/s) with 24 file(s) remaining#015Completed 446.1 MiB/505.4 MiB (84.7 MiB/s) with 24 file(s) remaining#015Completed 446.3 MiB/505.4 MiB (84.8 MiB/s) with 24 file(s) remaining#015Completed 446.6 MiB/505.4 MiB (84.8 MiB/s) with 24 file(s) remaining#015Completed 446.8 MiB/505.4 MiB (84.7 MiB/s) with 24 file(s) remaining#015Completed 447.1 MiB/505.4 MiB (84.8 MiB/s) with 24 file(s) remaining#015Completed 447.3 MiB/505.4 MiB (84.8 MiB/s) with 24 file(s) remaining#015Completed 447.6 MiB/505.4 MiB (84.8 MiB/s) with 24 file(s) remaining#015Completed 447.8 MiB/505.4 MiB (84.9 MiB/s) with 24 file(s) remaining#015Completed 448.1 MiB/505.4 MiB (84.9 MiB/s) with 24 file(s) remaining#015Completed 448.3 MiB/505.4 MiB (84.9 MiB/s) with 24 file(s) remaining#015Completed 448.6 MiB/505.4 MiB (85.0 MiB/s) with 24 file(s) remaining#015Completed 448.8 MiB/505.4 MiB (85.0 MiB/s) with 24 file(s) remaining#015Completed 449.1 MiB/505.4 MiB (85.0 MiB/s) with 24 file(s) remaining#015Completed 449.3 MiB/505.4 MiB (85.1 MiB/s) with 24 file(s) remaining#015Completed 449.6 MiB/505.4 MiB (85.1 MiB/s) with 24 file(s) remaining#015Completed 449.8 MiB/505.4 MiB (85.2 MiB/s) with 24 file(s) remaining#015Completed 450.1 MiB/505.4 MiB (85.2 MiB/s) with 24 file(s) remaining#015download: s3://sagemaker-us-east-1-905418336534/myvideotrainingdataset/videos/academic_source/youcook2/418/QuHIxCOkTAo/split_8.mp4 to videos/academic_source/youcook2/418/QuHIxCOkTAo/split_8.mp4\u001b[0m\n",
      "\u001b[34mCompleted 450.1 MiB/505.4 MiB (85.2 MiB/s) with 23 file(s) remaining#015Completed 450.3 MiB/505.4 MiB (85.2 MiB/s) with 23 file(s) remaining#015Completed 450.6 MiB/505.4 MiB (85.2 MiB/s) with 23 file(s) remaining#015Completed 450.8 MiB/505.4 MiB (85.2 MiB/s) with 23 file(s) remaining#015Completed 451.1 MiB/505.4 MiB (85.3 MiB/s) with 23 file(s) remaining#015Completed 451.2 MiB/505.4 MiB (85.3 MiB/s) with 23 file(s) remaining#015download: s3://sagemaker-us-east-1-905418336534/myvideotrainingdataset/videos/academic_source/youcook2/325/zia8N3EN69s/split_7.mp4 to videos/academic_source/youcook2/325/zia8N3EN69s/split_7.mp4\u001b[0m\n",
      "\u001b[34mCompleted 451.2 MiB/505.4 MiB (85.3 MiB/s) with 22 file(s) remaining#015Completed 451.5 MiB/505.4 MiB (85.1 MiB/s) with 22 file(s) remaining#015Completed 451.7 MiB/505.4 MiB (85.1 MiB/s) with 22 file(s) remaining#015Completed 452.0 MiB/505.4 MiB (85.2 MiB/s) with 22 file(s) remaining#015Completed 452.2 MiB/505.4 MiB (85.2 MiB/s) with 22 file(s) remaining#015Completed 452.5 MiB/505.4 MiB (85.2 MiB/s) with 22 file(s) remaining#015Completed 452.7 MiB/505.4 MiB (85.3 MiB/s) with 22 file(s) remaining#015Completed 453.0 MiB/505.4 MiB (85.3 MiB/s) with 22 file(s) remaining#015Completed 453.2 MiB/505.4 MiB (85.4 MiB/s) with 22 file(s) remaining#015Completed 453.4 MiB/505.4 MiB (85.4 MiB/s) with 22 file(s) remaining#015download: s3://sagemaker-us-east-1-905418336534/myvideotrainingdataset/videos/academic_source/youcook2/325/Z6c8hIW7bhI/split_2.mp4 to videos/academic_source/youcook2/325/Z6c8hIW7bhI/split_2.mp4\u001b[0m\n",
      "\u001b[34mCompleted 453.4 MiB/505.4 MiB (85.4 MiB/s) with 21 file(s) remaining#015Completed 453.7 MiB/505.4 MiB (85.4 MiB/s) with 21 file(s) remaining#015Completed 453.9 MiB/505.4 MiB (85.4 MiB/s) with 21 file(s) remaining#015Completed 454.2 MiB/505.4 MiB (85.5 MiB/s) with 21 file(s) remaining#015Completed 454.4 MiB/505.4 MiB (85.5 MiB/s) with 21 file(s) remaining#015Completed 454.7 MiB/505.4 MiB (85.5 MiB/s) with 21 file(s) remaining#015Completed 454.9 MiB/505.4 MiB (85.6 MiB/s) with 21 file(s) remaining#015Completed 455.2 MiB/505.4 MiB (85.6 MiB/s) with 21 file(s) remaining#015Completed 455.4 MiB/505.4 MiB (85.6 MiB/s) with 21 file(s) remaining#015Completed 455.7 MiB/505.4 MiB (85.7 MiB/s) with 21 file(s) remaining#015Completed 455.9 MiB/505.4 MiB (85.7 MiB/s) with 21 file(s) remaining#015Completed 456.2 MiB/505.4 MiB (85.8 MiB/s) with 21 file(s) remaining#015Completed 456.4 MiB/505.4 MiB (84.9 MiB/s) with 21 file(s) remaining#015Completed 456.7 MiB/505.4 MiB (85.0 MiB/s) with 21 file(s) remaining#015Completed 456.9 MiB/505.4 MiB (85.0 MiB/s) with 21 file(s) remaining#015Completed 457.2 MiB/505.4 MiB (85.0 MiB/s) with 21 file(s) remaining#015Completed 457.4 MiB/505.4 MiB (85.1 MiB/s) with 21 file(s) remaining#015Completed 457.7 MiB/505.4 MiB (85.1 MiB/s) with 21 file(s) remaining#015Completed 457.9 MiB/505.4 MiB (85.1 MiB/s) with 21 file(s) remaining#015Completed 458.2 MiB/505.4 MiB (85.1 MiB/s) with 21 file(s) remaining#015Completed 458.4 MiB/505.4 MiB (85.2 MiB/s) with 21 file(s) remaining#015Completed 458.7 MiB/505.4 MiB (85.2 MiB/s) with 21 file(s) remaining#015Completed 458.9 MiB/505.4 MiB (85.2 MiB/s) with 21 file(s) remaining#015Completed 459.2 MiB/505.4 MiB (85.3 MiB/s) with 21 file(s) remaining#015Completed 459.4 MiB/505.4 MiB (85.3 MiB/s) with 21 file(s) remaining#015Completed 459.7 MiB/505.4 MiB (85.3 MiB/s) with 21 file(s) remaining#015Completed 459.9 MiB/505.4 MiB (85.4 MiB/s) with 21 file(s) remaining#015Completed 460.2 MiB/505.4 MiB (85.4 MiB/s) with 21 file(s) remaining#015Completed 460.4 MiB/505.4 MiB (85.4 MiB/s) with 21 file(s) remaining#015Completed 460.7 MiB/505.4 MiB (85.5 MiB/s) with 21 file(s) remaining#015Completed 460.9 MiB/505.4 MiB (85.5 MiB/s) with 21 file(s) remaining#015Completed 461.1 MiB/505.4 MiB (85.5 MiB/s) with 21 file(s) remaining#015Completed 461.3 MiB/505.4 MiB (85.6 MiB/s) with 21 file(s) remaining#015download: s3://sagemaker-us-east-1-905418336534/myvideotrainingdataset/videos/split_5.mp4 to videos/split_5.mp4\u001b[0m\n",
      "\u001b[34mCompleted 461.3 MiB/505.4 MiB (85.6 MiB/s) with 20 file(s) remaining#015Completed 461.6 MiB/505.4 MiB (85.6 MiB/s) with 20 file(s) remaining#015Completed 461.8 MiB/505.4 MiB (85.6 MiB/s) with 20 file(s) remaining#015Completed 462.1 MiB/505.4 MiB (85.6 MiB/s) with 20 file(s) remaining#015Completed 462.2 MiB/505.4 MiB (85.6 MiB/s) with 20 file(s) remaining#015download: s3://sagemaker-us-east-1-905418336534/myvideotrainingdataset/videos/split_3.mp4 to videos/split_3.mp4\u001b[0m\n",
      "\u001b[34mCompleted 462.2 MiB/505.4 MiB (85.6 MiB/s) with 19 file(s) remaining#015Completed 462.3 MiB/505.4 MiB (85.6 MiB/s) with 19 file(s) remaining#015Completed 462.6 MiB/505.4 MiB (85.6 MiB/s) with 19 file(s) remaining#015download: s3://sagemaker-us-east-1-905418336534/myvideotrainingdataset/videos/academic_source/youcook2/421/z_ZHVTqbSZo/split_3.mp4 to videos/academic_source/youcook2/421/z_ZHVTqbSZo/split_3.mp4\u001b[0m\n",
      "\u001b[34mCompleted 462.6 MiB/505.4 MiB (85.6 MiB/s) with 18 file(s) remaining#015Completed 462.8 MiB/505.4 MiB (85.7 MiB/s) with 18 file(s) remaining#015Completed 463.1 MiB/505.4 MiB (85.7 MiB/s) with 18 file(s) remaining#015Completed 463.3 MiB/505.4 MiB (85.7 MiB/s) with 18 file(s) remaining#015Completed 463.6 MiB/505.4 MiB (85.8 MiB/s) with 18 file(s) remaining#015Completed 463.8 MiB/505.4 MiB (85.8 MiB/s) with 18 file(s) remaining#015Completed 464.1 MiB/505.4 MiB (85.8 MiB/s) with 18 file(s) remaining#015Completed 464.3 MiB/505.4 MiB (85.9 MiB/s) with 18 file(s) remaining#015Completed 464.6 MiB/505.4 MiB (85.9 MiB/s) with 18 file(s) remaining#015Completed 464.8 MiB/505.4 MiB (86.0 MiB/s) with 18 file(s) remaining#015Completed 465.1 MiB/505.4 MiB (86.0 MiB/s) with 18 file(s) remaining#015Completed 465.3 MiB/505.4 MiB (86.0 MiB/s) with 18 file(s) remaining#015Completed 465.6 MiB/505.4 MiB (86.1 MiB/s) with 18 file(s) remaining#015Completed 465.8 MiB/505.4 MiB (86.1 MiB/s) with 18 file(s) remaining#015Completed 466.1 MiB/505.4 MiB (86.2 MiB/s) with 18 file(s) remaining#015Completed 466.3 MiB/505.4 MiB (86.2 MiB/s) with 18 file(s) remaining#015Completed 466.6 MiB/505.4 MiB (86.0 MiB/s) with 18 file(s) remaining#015Completed 466.8 MiB/505.4 MiB (86.0 MiB/s) with 18 file(s) remaining#015Completed 467.1 MiB/505.4 MiB (86.1 MiB/s) with 18 file(s) remaining#015Completed 467.2 MiB/505.4 MiB (86.0 MiB/s) with 18 file(s) remaining#015download: s3://sagemaker-us-east-1-905418336534/myvideotrainingdataset/videos/split_14.mp4 to videos/split_14.mp4\u001b[0m\n",
      "\u001b[34mCompleted 467.2 MiB/505.4 MiB (86.0 MiB/s) with 17 file(s) remaining#015Completed 467.4 MiB/505.4 MiB (85.6 MiB/s) with 17 file(s) remaining#015Completed 467.7 MiB/505.4 MiB (85.7 MiB/s) with 17 file(s) remaining#015Completed 467.9 MiB/505.4 MiB (85.7 MiB/s) with 17 file(s) remaining#015Completed 468.2 MiB/505.4 MiB (85.8 MiB/s) with 17 file(s) remaining#015Completed 468.4 MiB/505.4 MiB (85.8 MiB/s) with 17 file(s) remaining#015Completed 468.7 MiB/505.4 MiB (85.8 MiB/s) with 17 file(s) remaining#015Completed 468.7 MiB/505.4 MiB (85.8 MiB/s) with 17 file(s) remaining#015download: s3://sagemaker-us-east-1-905418336534/myvideotrainingdataset/videos/academic_source/youcook2/412/KUL6f9Q5ER4/split_5.mp4 to videos/academic_source/youcook2/412/KUL6f9Q5ER4/split_5.mp4\u001b[0m\n",
      "\u001b[34mCompleted 468.7 MiB/505.4 MiB (85.8 MiB/s) with 16 file(s) remaining#015Completed 468.9 MiB/505.4 MiB (85.8 MiB/s) with 16 file(s) remaining#015Completed 469.2 MiB/505.4 MiB (85.9 MiB/s) with 16 file(s) remaining#015Completed 469.4 MiB/505.4 MiB (85.9 MiB/s) with 16 file(s) remaining#015Completed 469.7 MiB/505.4 MiB (85.9 MiB/s) with 16 file(s) remaining#015Completed 469.9 MiB/505.4 MiB (86.0 MiB/s) with 16 file(s) remaining#015Completed 470.0 MiB/505.4 MiB (86.0 MiB/s) with 16 file(s) remaining#015download: s3://sagemaker-us-east-1-905418336534/myvideotrainingdataset/videos/split_9.mp4 to videos/split_9.mp4\u001b[0m\n",
      "\u001b[34mCompleted 470.0 MiB/505.4 MiB (86.0 MiB/s) with 15 file(s) remaining#015Completed 470.3 MiB/505.4 MiB (86.0 MiB/s) with 15 file(s) remaining#015Completed 470.5 MiB/505.4 MiB (86.0 MiB/s) with 15 file(s) remaining#015Completed 470.8 MiB/505.4 MiB (86.1 MiB/s) with 15 file(s) remaining#015Completed 470.8 MiB/505.4 MiB (86.1 MiB/s) with 15 file(s) remaining#015download: s3://sagemaker-us-east-1-905418336534/myvideotrainingdataset/videos/split_11.mp4 to videos/split_11.mp4\u001b[0m\n",
      "\u001b[34mCompleted 470.8 MiB/505.4 MiB (86.1 MiB/s) with 14 file(s) remaining#015Completed 471.1 MiB/505.4 MiB (86.0 MiB/s) with 14 file(s) remaining#015Completed 471.3 MiB/505.4 MiB (86.1 MiB/s) with 14 file(s) remaining#015Completed 471.6 MiB/505.4 MiB (86.1 MiB/s) with 14 file(s) remaining#015Completed 471.8 MiB/505.4 MiB (86.1 MiB/s) with 14 file(s) remaining#015Completed 472.1 MiB/505.4 MiB (86.2 MiB/s) with 14 file(s) remaining#015Completed 472.3 MiB/505.4 MiB (86.2 MiB/s) with 14 file(s) remaining#015Completed 472.6 MiB/505.4 MiB (86.2 MiB/s) with 14 file(s) remaining#015Completed 472.8 MiB/505.4 MiB (86.2 MiB/s) with 14 file(s) remaining#015Completed 473.1 MiB/505.4 MiB (86.3 MiB/s) with 14 file(s) remaining#015Completed 473.3 MiB/505.4 MiB (86.3 MiB/s) with 14 file(s) remaining#015Completed 473.6 MiB/505.4 MiB (86.3 MiB/s) with 14 file(s) remaining#015Completed 473.7 MiB/505.4 MiB (86.3 MiB/s) with 14 file(s) remaining#015download: s3://sagemaker-us-east-1-905418336534/myvideotrainingdataset/videos/split_4.mp4 to videos/split_4.mp4\u001b[0m\n",
      "\u001b[34mCompleted 473.7 MiB/505.4 MiB (86.3 MiB/s) with 13 file(s) remaining#015Completed 473.9 MiB/505.4 MiB (86.3 MiB/s) with 13 file(s) remaining#015Completed 474.2 MiB/505.4 MiB (86.4 MiB/s) with 13 file(s) remaining#015Completed 474.4 MiB/505.4 MiB (86.4 MiB/s) with 13 file(s) remaining#015Completed 474.7 MiB/505.4 MiB (86.5 MiB/s) with 13 file(s) remaining#015Completed 474.9 MiB/505.4 MiB (86.5 MiB/s) with 13 file(s) remaining#015Completed 475.2 MiB/505.4 MiB (86.5 MiB/s) with 13 file(s) remaining#015Completed 475.4 MiB/505.4 MiB (86.6 MiB/s) with 13 file(s) remaining#015Completed 475.7 MiB/505.4 MiB (86.6 MiB/s) with 13 file(s) remaining#015Completed 475.9 MiB/505.4 MiB (86.6 MiB/s) with 13 file(s) remaining#015Completed 476.2 MiB/505.4 MiB (86.7 MiB/s) with 13 file(s) remaining#015Completed 476.4 MiB/505.4 MiB (86.7 MiB/s) with 13 file(s) remaining#015Completed 476.7 MiB/505.4 MiB (86.8 MiB/s) with 13 file(s) remaining#015Completed 476.9 MiB/505.4 MiB (86.8 MiB/s) with 13 file(s) remaining#015Completed 477.2 MiB/505.4 MiB (86.8 MiB/s) with 13 file(s) remaining#015Completed 477.4 MiB/505.4 MiB (86.9 MiB/s) with 13 file(s) remaining#015Completed 477.7 MiB/505.4 MiB (86.8 MiB/s) with 13 file(s) remaining#015Completed 477.9 MiB/505.4 MiB (86.8 MiB/s) with 13 file(s) remaining#015Completed 478.2 MiB/505.4 MiB (86.8 MiB/s) with 13 file(s) remaining#015Completed 478.4 MiB/505.4 MiB (86.8 MiB/s) with 13 file(s) remaining#015Completed 478.7 MiB/505.4 MiB (86.8 MiB/s) with 13 file(s) remaining#015Completed 478.7 MiB/505.4 MiB (86.8 MiB/s) with 13 file(s) remaining#015download: s3://sagemaker-us-east-1-905418336534/myvideotrainingdataset/videos/split_10.mp4 to videos/split_10.mp4\u001b[0m\n",
      "\u001b[34mCompleted 478.7 MiB/505.4 MiB (86.8 MiB/s) with 12 file(s) remaining#015Completed 479.0 MiB/505.4 MiB (86.7 MiB/s) with 12 file(s) remaining#015Completed 479.2 MiB/505.4 MiB (86.7 MiB/s) with 12 file(s) remaining#015Completed 479.5 MiB/505.4 MiB (86.8 MiB/s) with 12 file(s) remaining#015Completed 479.5 MiB/505.4 MiB (86.8 MiB/s) with 12 file(s) remaining#015download: s3://sagemaker-us-east-1-905418336534/myvideotrainingdataset/videos/v_4W4mrswC2tA.mp4 to videos/v_4W4mrswC2tA.mp4\u001b[0m\n",
      "\u001b[34mCompleted 479.5 MiB/505.4 MiB (86.8 MiB/s) with 11 file(s) remaining#015Completed 479.8 MiB/505.4 MiB (86.4 MiB/s) with 11 file(s) remaining#015Completed 480.0 MiB/505.4 MiB (86.4 MiB/s) with 11 file(s) remaining#015Completed 480.3 MiB/505.4 MiB (86.5 MiB/s) with 11 file(s) remaining#015Completed 480.5 MiB/505.4 MiB (86.5 MiB/s) with 11 file(s) remaining#015Completed 480.8 MiB/505.4 MiB (86.5 MiB/s) with 11 file(s) remaining#015Completed 481.0 MiB/505.4 MiB (86.6 MiB/s) with 11 file(s) remaining#015Completed 481.3 MiB/505.4 MiB (86.6 MiB/s) with 11 file(s) remaining#015Completed 481.5 MiB/505.4 MiB (86.6 MiB/s) with 11 file(s) remaining#015Completed 481.8 MiB/505.4 MiB (86.7 MiB/s) with 11 file(s) remaining#015Completed 482.0 MiB/505.4 MiB (86.7 MiB/s) with 11 file(s) remaining#015Completed 482.3 MiB/505.4 MiB (86.7 MiB/s) with 11 file(s) remaining#015download: s3://sagemaker-us-east-1-905418336534/myvideotrainingdataset/videos/v_q5tYHwZLRYU.mp4 to videos/v_q5tYHwZLRYU.mp4\u001b[0m\n",
      "\u001b[34mCompleted 482.3 MiB/505.4 MiB (86.7 MiB/s) with 10 file(s) remaining#015Completed 482.5 MiB/505.4 MiB (86.7 MiB/s) with 10 file(s) remaining#015Completed 482.8 MiB/505.4 MiB (86.8 MiB/s) with 10 file(s) remaining#015Completed 482.8 MiB/505.4 MiB (86.8 MiB/s) with 10 file(s) remaining#015download: s3://sagemaker-us-east-1-905418336534/myvideotrainingdataset/videos/split_6.mp4 to videos/split_6.mp4\u001b[0m\n",
      "\u001b[34mCompleted 482.8 MiB/505.4 MiB (86.8 MiB/s) with 9 file(s) remaining#015Completed 483.1 MiB/505.4 MiB (86.7 MiB/s) with 9 file(s) remaining#015Completed 483.1 MiB/505.4 MiB (86.7 MiB/s) with 9 file(s) remaining#015download: s3://sagemaker-us-east-1-905418336534/myvideotrainingdataset/videos/academic_source/youcook2/406/9RRHAydI_xk/split_0.mp4 to videos/academic_source/youcook2/406/9RRHAydI_xk/split_0.mp4\u001b[0m\n",
      "\u001b[34mCompleted 483.1 MiB/505.4 MiB (86.7 MiB/s) with 8 file(s) remaining#015Completed 483.3 MiB/505.4 MiB (86.7 MiB/s) with 8 file(s) remaining#015Completed 483.6 MiB/505.4 MiB (86.8 MiB/s) with 8 file(s) remaining#015Completed 483.8 MiB/505.4 MiB (86.8 MiB/s) with 8 file(s) remaining#015Completed 484.1 MiB/505.4 MiB (86.8 MiB/s) with 8 file(s) remaining#015Completed 484.3 MiB/505.4 MiB (86.9 MiB/s) with 8 file(s) remaining#015Completed 484.6 MiB/505.4 MiB (86.9 MiB/s) with 8 file(s) remaining#015Completed 484.8 MiB/505.4 MiB (87.0 MiB/s) with 8 file(s) remaining#015Completed 485.1 MiB/505.4 MiB (87.0 MiB/s) with 8 file(s) remaining#015Completed 485.3 MiB/505.4 MiB (87.0 MiB/s) with 8 file(s) remaining#015Completed 485.6 MiB/505.4 MiB (87.1 MiB/s) with 8 file(s) remaining#015Completed 485.8 MiB/505.4 MiB (87.1 MiB/s) with 8 file(s) remaining#015Completed 486.1 MiB/505.4 MiB (87.1 MiB/s) with 8 file(s) remaining#015Completed 486.3 MiB/505.4 MiB (87.2 MiB/s) with 8 file(s) remaining#015Completed 486.6 MiB/505.4 MiB (87.2 MiB/s) with 8 file(s) remaining#015Completed 486.8 MiB/505.4 MiB (87.2 MiB/s) with 8 file(s) remaining#015Completed 487.1 MiB/505.4 MiB (87.3 MiB/s) with 8 file(s) remaining#015Completed 487.3 MiB/505.4 MiB (87.3 MiB/s) with 8 file(s) remaining#015Completed 487.6 MiB/505.4 MiB (87.4 MiB/s) with 8 file(s) remaining#015Completed 487.8 MiB/505.4 MiB (87.4 MiB/s) with 8 file(s) remaining#015Completed 488.1 MiB/505.4 MiB (87.4 MiB/s) with 8 file(s) remaining#015Completed 488.3 MiB/505.4 MiB (87.5 MiB/s) with 8 file(s) remaining#015Completed 488.6 MiB/505.4 MiB (87.5 MiB/s) with 8 file(s) remaining#015Completed 488.8 MiB/505.4 MiB (87.5 MiB/s) with 8 file(s) remaining#015Completed 489.1 MiB/505.4 MiB (87.5 MiB/s) with 8 file(s) remaining#015Completed 489.3 MiB/505.4 MiB (87.6 MiB/s) with 8 file(s) remaining#015Completed 489.6 MiB/505.4 MiB (87.6 MiB/s) with 8 file(s) remaining#015Completed 489.8 MiB/505.4 MiB (87.6 MiB/s) with 8 file(s) remaining#015Completed 490.1 MiB/505.4 MiB (87.7 MiB/s) with 8 file(s) remaining#015Completed 490.3 MiB/505.4 MiB (87.7 MiB/s) with 8 file(s) remaining#015Completed 490.6 MiB/505.4 MiB (87.7 MiB/s) with 8 file(s) remaining#015Completed 490.8 MiB/505.4 MiB (87.8 MiB/s) with 8 file(s) remaining#015Completed 491.0 MiB/505.4 MiB (87.8 MiB/s) with 8 file(s) remaining#015download: s3://sagemaker-us-east-1-905418336534/myvideotrainingdataset/videos/split_2.mp4 to videos/split_2.mp4\u001b[0m\n",
      "\u001b[34mCompleted 491.0 MiB/505.4 MiB (87.8 MiB/s) with 7 file(s) remaining#015Completed 491.3 MiB/505.4 MiB (87.8 MiB/s) with 7 file(s) remaining#015Completed 491.5 MiB/505.4 MiB (87.8 MiB/s) with 7 file(s) remaining#015Completed 491.8 MiB/505.4 MiB (87.8 MiB/s) with 7 file(s) remaining#015Completed 492.0 MiB/505.4 MiB (87.8 MiB/s) with 7 file(s) remaining#015Completed 492.3 MiB/505.4 MiB (87.9 MiB/s) with 7 file(s) remaining#015Completed 492.5 MiB/505.4 MiB (87.9 MiB/s) with 7 file(s) remaining#015Completed 492.8 MiB/505.4 MiB (87.9 MiB/s) with 7 file(s) remaining#015Completed 493.0 MiB/505.4 MiB (88.0 MiB/s) with 7 file(s) remaining#015Completed 493.3 MiB/505.4 MiB (88.0 MiB/s) with 7 file(s) remaining#015Completed 493.5 MiB/505.4 MiB (88.0 MiB/s) with 7 file(s) remaining#015Completed 493.5 MiB/505.4 MiB (88.0 MiB/s) with 7 file(s) remaining#015Completed 493.8 MiB/505.4 MiB (88.0 MiB/s) with 7 file(s) remaining#015Completed 494.0 MiB/505.4 MiB (88.1 MiB/s) with 7 file(s) remaining#015download: s3://sagemaker-us-east-1-905418336534/myvideotrainingdataset/videos/v_oZTFplEHVDo.mp4 to videos/v_oZTFplEHVDo.mp4\u001b[0m\n",
      "\u001b[34mCompleted 494.0 MiB/505.4 MiB (88.1 MiB/s) with 6 file(s) remaining#015Completed 494.3 MiB/505.4 MiB (88.1 MiB/s) with 6 file(s) remaining#015Completed 494.5 MiB/505.4 MiB (88.2 MiB/s) with 6 file(s) remaining#015Completed 494.8 MiB/505.4 MiB (88.2 MiB/s) with 6 file(s) remaining#015Completed 495.0 MiB/505.4 MiB (88.2 MiB/s) with 6 file(s) remaining#015Completed 495.3 MiB/505.4 MiB (88.3 MiB/s) with 6 file(s) remaining#015Completed 495.4 MiB/505.4 MiB (88.3 MiB/s) with 6 file(s) remaining#015download: s3://sagemaker-us-east-1-905418336534/myvideotrainingdataset/videos/academic_source/youcook2/425/j878b3cSqEw/split_3.mp4 to videos/academic_source/youcook2/425/j878b3cSqEw/split_3.mp4\u001b[0m\n",
      "\u001b[34mCompleted 495.4 MiB/505.4 MiB (88.3 MiB/s) with 5 file(s) remaining#015Completed 495.7 MiB/505.4 MiB (87.6 MiB/s) with 5 file(s) remaining#015Completed 495.9 MiB/505.4 MiB (87.6 MiB/s) with 5 file(s) remaining#015Completed 496.2 MiB/505.4 MiB (87.6 MiB/s) with 5 file(s) remaining#015Completed 496.4 MiB/505.4 MiB (87.6 MiB/s) with 5 file(s) remaining#015Completed 496.7 MiB/505.4 MiB (87.7 MiB/s) with 5 file(s) remaining#015Completed 496.9 MiB/505.4 MiB (87.7 MiB/s) with 5 file(s) remaining#015Completed 497.2 MiB/505.4 MiB (87.7 MiB/s) with 5 file(s) remaining#015Completed 497.3 MiB/505.4 MiB (87.8 MiB/s) with 5 file(s) remaining#015download: s3://sagemaker-us-east-1-905418336534/myvideotrainingdataset/videos/academic_source/youcook2/419/EN1Qf9vcnN0/split_3.mp4 to videos/academic_source/youcook2/419/EN1Qf9vcnN0/split_3.mp4\u001b[0m\n",
      "\u001b[34mCompleted 497.3 MiB/505.4 MiB (87.8 MiB/s) with 4 file(s) remaining#015Completed 497.6 MiB/505.4 MiB (87.4 MiB/s) with 4 file(s) remaining#015Completed 497.8 MiB/505.4 MiB (87.4 MiB/s) with 4 file(s) remaining#015Completed 498.1 MiB/505.4 MiB (87.4 MiB/s) with 4 file(s) remaining#015Completed 498.3 MiB/505.4 MiB (87.5 MiB/s) with 4 file(s) remaining#015Completed 498.6 MiB/505.4 MiB (87.5 MiB/s) with 4 file(s) remaining#015Completed 498.8 MiB/505.4 MiB (87.5 MiB/s) with 4 file(s) remaining#015Completed 499.1 MiB/505.4 MiB (87.6 MiB/s) with 4 file(s) remaining#015Completed 499.3 MiB/505.4 MiB (87.6 MiB/s) with 4 file(s) remaining#015Completed 499.6 MiB/505.4 MiB (87.3 MiB/s) with 4 file(s) remaining#015Completed 499.8 MiB/505.4 MiB (87.3 MiB/s) with 4 file(s) remaining#015Completed 499.9 MiB/505.4 MiB (87.3 MiB/s) with 4 file(s) remaining#015download: s3://sagemaker-us-east-1-905418336534/myvideotrainingdataset/videos/split_7.mp4 to videos/split_7.mp4\u001b[0m\n",
      "\u001b[34mCompleted 499.9 MiB/505.4 MiB (87.3 MiB/s) with 3 file(s) remaining#015Completed 500.1 MiB/505.4 MiB (87.0 MiB/s) with 3 file(s) remaining#015Completed 500.4 MiB/505.4 MiB (87.1 MiB/s) with 3 file(s) remaining#015Completed 500.6 MiB/505.4 MiB (87.1 MiB/s) with 3 file(s) remaining#015Completed 500.9 MiB/505.4 MiB (87.1 MiB/s) with 3 file(s) remaining#015Completed 501.1 MiB/505.4 MiB (87.1 MiB/s) with 3 file(s) remaining#015Completed 501.4 MiB/505.4 MiB (87.2 MiB/s) with 3 file(s) remaining#015Completed 501.6 MiB/505.4 MiB (87.2 MiB/s) with 3 file(s) remaining#015download: s3://sagemaker-us-east-1-905418336534/myvideotrainingdataset/videos/v_7lNAmkaMyyg.mp4 to videos/v_7lNAmkaMyyg.mp4\u001b[0m\n",
      "\u001b[34mCompleted 501.6 MiB/505.4 MiB (87.2 MiB/s) with 2 file(s) remaining#015Completed 501.8 MiB/505.4 MiB (86.5 MiB/s) with 2 file(s) remaining#015Completed 502.1 MiB/505.4 MiB (86.5 MiB/s) with 2 file(s) remaining#015Completed 502.3 MiB/505.4 MiB (86.6 MiB/s) with 2 file(s) remaining#015Completed 502.6 MiB/505.4 MiB (86.6 MiB/s) with 2 file(s) remaining#015Completed 502.8 MiB/505.4 MiB (86.6 MiB/s) with 2 file(s) remaining#015Completed 503.1 MiB/505.4 MiB (86.7 MiB/s) with 2 file(s) remaining#015Completed 503.3 MiB/505.4 MiB (86.7 MiB/s) with 2 file(s) remaining#015Completed 503.6 MiB/505.4 MiB (86.7 MiB/s) with 2 file(s) remaining#015Completed 503.6 MiB/505.4 MiB (86.7 MiB/s) with 2 file(s) remaining#015download: s3://sagemaker-us-east-1-905418336534/myvideotrainingdataset/videos/academic_source/youcook2/425/Bts6MvK8f9k/split_5.mp4 to videos/academic_source/youcook2/425/Bts6MvK8f9k/split_5.mp4\u001b[0m\n",
      "\u001b[34mCompleted 503.6 MiB/505.4 MiB (86.7 MiB/s) with 1 file(s) remaining#015Completed 503.9 MiB/505.4 MiB (85.8 MiB/s) with 1 file(s) remaining#015Completed 504.1 MiB/505.4 MiB (85.8 MiB/s) with 1 file(s) remaining#015Completed 504.4 MiB/505.4 MiB (85.8 MiB/s) with 1 file(s) remaining#015Completed 504.6 MiB/505.4 MiB (85.8 MiB/s) with 1 file(s) remaining#015Completed 504.9 MiB/505.4 MiB (85.9 MiB/s) with 1 file(s) remaining#015Completed 505.1 MiB/505.4 MiB (85.9 MiB/s) with 1 file(s) remaining#015Completed 505.4 MiB/505.4 MiB (85.9 MiB/s) with 1 file(s) remaining#015Completed 505.4 MiB/505.4 MiB (85.9 MiB/s) with 1 file(s) remaining#015download: s3://sagemaker-us-east-1-905418336534/myvideotrainingdataset/videos/split_8.mp4 to videos/split_8.mp4\u001b[0m\n",
      "\u001b[34m[INFO:swift] Start time of running main: 2024-11-26 02:57:57.487451\u001b[0m\n",
      "\u001b[34m[INFO:swift] Using val_dataset, ignoring dataset_test_ratio\u001b[0m\n",
      "\u001b[34m[INFO:swift] Setting template_type: qwen2-vl\u001b[0m\n",
      "\u001b[34m[INFO:swift] Setting args.lazy_tokenize: True\u001b[0m\n",
      "\u001b[34m[INFO:swift] Setting args.dataloader_num_workers: 1\u001b[0m\n",
      "\u001b[34m[INFO:swift] output_dir: /opt/ml/model/qwen2-vl-2b-instruct/v0-20241126-025757\u001b[0m\n",
      "\u001b[34m[INFO:swift] args: SftArguments(model_type='qwen2-vl-2b-instruct', model_id_or_path='Qwen/Qwen2-VL-2B-Instruct', model_revision='main', full_determinism=False, sft_type='lora', freeze_parameters=[], freeze_vit=False, freeze_parameters_ratio=0.0, additional_trainable_parameters=[], tuner_backend='peft', template_type='qwen2-vl', output_dir='/opt/ml/model/qwen2-vl-2b-instruct/v0-20241126-025757', add_output_dir_suffix=True, ddp_backend=None, ddp_find_unused_parameters=None, ddp_broadcast_buffers=None, ddp_timeout=1800, seed=42, resume_from_checkpoint=None, resume_only_model=False, ignore_data_skip=False, dtype='bf16', packing=False, train_backend='transformers', tp=1, pp=1, min_lr=None, sequence_parallel=False, model_kwargs={}, loss_name=None, dataset=['./train.jsonl'], val_dataset=['./validation.jsonl'], dataset_seed=42, dataset_test_ratio=0.0, use_loss_scale=False, loss_scale_config_path='/opt/conda/lib/python3.11/site-packages/swift/llm/agent/default_loss_scale_config.json', system=None, tools_prompt='react_en', max_length=2048, truncation_strategy='delete', check_dataset_strategy='none', streaming=False, streaming_val_size=0, streaming_buffer_size=16384, model_name=[None, None], model_author=[None, None], quant_method=None, quantization_bit=0, hqq_axis=0, hqq_dynamic_config_path=None, bnb_4bit_comp_dtype='bf16', bnb_4bit_quant_type='nf4', bnb_4bit_use_double_quant=True, bnb_4bit_quant_storage=None, rescale_image=-1, target_modules='^(model)(?!.*(lm_head|output|emb|wte|shared)).*', target_regex=None, modules_to_save=[], lora_rank=8, lora_alpha=32, lora_dropout=0.05, lora_bias_trainable='none', lora_dtype='AUTO', lora_lr_ratio=None, use_rslora=False, use_dora=False, init_lora_weights='true', fourier_n_frequency=2000, fourier_scaling=300.0, rope_scaling=None, boft_block_size=4, boft_block_num=0, boft_n_butterfly_factor=1, boft_dropout=0.0, vera_rank=256, vera_projection_prng_key=0, vera_dropout=0.0, vera_d_initial=0.1, adapter_act='gelu', adapter_length=128, use_galore=False, galore_target_modules=None, galore_rank=128, galore_update_proj_gap=50, galore_scale=1.0, galore_proj_type='std', galore_optim_per_parameter=False, galore_with_embedding=False, galore_quantization=False, galore_proj_quant=False, galore_proj_bits=4, galore_proj_group_size=256, galore_cos_threshold=0.4, galore_gamma_proj=2, galore_queue_size=5, adalora_target_r=8, adalora_init_r=12, adalora_tinit=0, adalora_tfinal=0, adalora_deltaT=1, adalora_beta1=0.85, adalora_beta2=0.85, adalora_orth_reg_weight=0.5, ia3_feedforward_modules=[], llamapro_num_new_blocks=4, llamapro_num_groups=None, neftune_noise_alpha=None, neftune_backend='transformers', lisa_activated_layers=0, lisa_step_interval=20, reft_layer_key=None, reft_layers=None, reft_rank=4, reft_intervention_type='LoreftIntervention', reft_args=None, use_liger=False, gradient_checkpointing=True, vit_use_gc=True, deepspeed=None, batch_size=1, eval_batch_size=1, auto_find_batch_size=False, num_train_epochs=1, max_steps=-1, optim='adamw_torch', adam_beta1=0.9, adam_beta2=0.95, adam_epsilon=1e-08, learning_rate=0.0001, weight_decay=0.1, gradient_accumulation_steps=16, max_grad_norm=1, predict_with_generate=False, lr_scheduler_type='cosine', lr_scheduler_kwargs={}, warmup_ratio=0.05, warmup_steps=0, eval_steps=50, save_steps=50, save_only_model=False, save_total_limit=2, logging_steps=5, acc_steps=1, dataloader_num_workers=1, dataloader_pin_memory=True, dataloader_drop_last=False, push_to_hub=False, hub_model_id=None, hub_token=None, hub_private_repo=False, hub_strategy='every_save', test_oom_error=False, disable_tqdm=False, lazy_tokenize=True, preprocess_num_proc=1, use_flash_attn=None, ignore_args_error=False, check_model_is_latest=True, logging_dir='/opt/ml/model/qwen2-vl-2b-instruct/v0-20241126-025757/runs', report_to=['tensorboard'], acc_strategy='token', save_on_each_node=False, evaluation_strategy='steps', save_strategy='steps', save_safetensors=True, gpu_memory_fraction=None, include_num_input_tokens_seen=False, local_repo_path=None, custom_register_path=None, custom_dataset_info=None, device_map_config=None, device_max_memory=[], max_new_tokens=2048, do_sample=None, temperature=None, top_k=None, top_p=None, repetition_penalty=None, num_beams=1, fsdp='', fsdp_config=None, sequence_parallel_size=1, model_layer_cls_name=None, metric_warmup_step=0, fsdp_num=1, per_device_train_batch_size=None, per_device_eval_batch_size=None, eval_strategy=None, self_cognition_sample=0, train_dataset_mix_ratio=0.0, train_dataset_mix_ds=['ms-bench'], train_dataset_sample=-1, val_dataset_sample=None, safe_serialization=None, only_save_model=None, neftune_alpha=None, deepspeed_config_path=None, model_cache_dir=None, lora_dropout_p=None, lora_target_modules=[], lora_target_regex=None, lora_modules_to_save=[], boft_target_modules=[], boft_modules_to_save=[], vera_target_modules=[], vera_modules_to_save=[], ia3_target_modules=[], ia3_modules_to_save=[], custom_train_dataset_path=[], custom_val_dataset_path=[], device_map_config_path=None, push_hub_strategy=None)\u001b[0m\n",
      "\u001b[34m[INFO:swift] Global seed set to 42\u001b[0m\n",
      "\u001b[34m[INFO:swift] Downloading the model from HuggingFace Hub, model_id: Qwen/Qwen2-VL-2B-Instruct\u001b[0m\n",
      "\u001b[34mdevice_count: 4\u001b[0m\n",
      "\u001b[34mrank: -1, local_rank: -1, world_size: 1, local_world_size: 1\u001b[0m\n",
      "\u001b[34m#015Fetching 14 files:   0%|          | 0/14 [00:00<?, ?it/s]#015Fetching 14 files:  57%|█████▋    | 8/14 [06:23<04:47, 47.91s/it]#015Fetching 14 files: 100%|██████████| 14/14 [06:23<00:00, 27.38s/it]\u001b[0m\n",
      "\u001b[34m[INFO:swift] Loading the model using model_dir: /home/sagemaker-user/.cache/huggingface/hub/models--Qwen--Qwen2-VL-2B-Instruct/snapshots/aca78372505e6cb469c4fa6a35c60265b00ff5a4\u001b[0m\n",
      "\u001b[34m[INFO:swift] model_kwargs: {'device_map': 'auto', 'low_cpu_mem_usage': True}\u001b[0m\n",
      "\u001b[34mThe argument `trust_remote_code` is to be used with Auto classes. It has no effect here and is ignored.\u001b[0m\n",
      "\u001b[34m#015Loading checkpoint shards:   0%|          | 0/2 [00:00<?, ?it/s]#015Loading checkpoint shards:  50%|█████     | 1/2 [00:01<00:01,  1.08s/it]#015Loading checkpoint shards: 100%|██████████| 2/2 [00:01<00:00,  1.50it/s]#015Loading checkpoint shards: 100%|██████████| 2/2 [00:01<00:00,  1.37it/s]\u001b[0m\n",
      "\u001b[34m[INFO:swift] model.max_model_len: 32768\u001b[0m\n",
      "\u001b[34m[INFO:swift] model.hf_device_map: {'visual.patch_embed': 0, 'visual.rotary_pos_emb': 0, 'visual.blocks.0': 0, 'visual.blocks.1': 0, 'visual.blocks.2': 0, 'visual.blocks.3': 0, 'visual.blocks.4': 0, 'visual.blocks.5': 0, 'visual.blocks.6': 0, 'visual.blocks.7': 0, 'visual.blocks.8': 0, 'visual.blocks.9': 0, 'visual.blocks.10': 0, 'visual.blocks.11': 0, 'visual.blocks.12': 0, 'visual.blocks.13': 0, 'visual.blocks.14': 0, 'visual.blocks.15': 0, 'visual.blocks.16': 0, 'visual.blocks.17': 0, 'visual.blocks.18': 0, 'visual.blocks.19': 0, 'visual.blocks.20': 0, 'visual.blocks.21': 0, 'visual.blocks.22': 0, 'visual.blocks.23': 0, 'visual.blocks.24': 0, 'visual.blocks.25': 1, 'visual.blocks.26': 1, 'visual.blocks.27': 1, 'visual.blocks.28': 1, 'visual.blocks.29': 1, 'visual.blocks.30': 1, 'visual.blocks.31': 1, 'visual.merger': 1, 'model.embed_tokens': 1, 'lm_head': 1, 'model.layers.0': 1, 'model.layers.1': 1, 'model.layers.2': 1, 'model.layers.3': 1, 'model.layers.4': 1, 'model.layers.5': 1, 'model.layers.6': 2, 'model.layers.7': 2, 'model.layers.8': 2, 'model.layers.9': 2, 'model.layers.10': 2, 'model.layers.11': 2, 'model.layers.12': 2, 'model.layers.13': 2, 'model.layers.14': 2, 'model.layers.15': 2, 'model.layers.16': 2, 'model.layers.17': 2, 'model.layers.18': 2, 'model.layers.19': 3, 'model.layers.20': 3, 'model.layers.21': 3, 'model.layers.22': 3, 'model.layers.23': 3, 'model.layers.24': 3, 'model.layers.25': 3, 'model.layers.26': 3, 'model.layers.27': 3, 'model.norm': 3}\u001b[0m\n",
      "\u001b[34m[INFO:swift] model_config: Qwen2VLConfig {\n",
      "  \"_name_or_path\": \"/home/sagemaker-user/.cache/huggingface/hub/models--Qwen--Qwen2-VL-2B-Instruct/snapshots/aca78372505e6cb469c4fa6a35c60265b00ff5a4\",\n",
      "  \"architectures\": [\n",
      "    \"Qwen2VLForConditionalGeneration\"\n",
      "  ],\n",
      "  \"attention_dropout\": 0.0,\n",
      "  \"bos_token_id\": 151643,\n",
      "  \"eos_token_id\": 151645,\n",
      "  \"hidden_act\": \"silu\",\n",
      "  \"hidden_size\": 1536,\n",
      "  \"image_token_id\": 151655,\n",
      "  \"initializer_range\": 0.02,\n",
      "  \"intermediate_size\": 8960,\n",
      "  \"max_position_embeddings\": 32768,\n",
      "  \"max_window_layers\": 28,\n",
      "  \"model_type\": \"qwen2_vl\",\n",
      "  \"num_attention_heads\": 12,\n",
      "  \"num_hidden_layers\": 28,\n",
      "  \"num_key_value_heads\": 2,\n",
      "  \"rms_norm_eps\": 1e-06,\n",
      "  \"rope_scaling\": {\n",
      "    \"mrope_section\": [\n",
      "      16,\n",
      "      24,\n",
      "      24\n",
      "    ],\n",
      "    \"type\": \"mrope\"\n",
      "  },\n",
      "  \"rope_theta\": 1000000.0,\n",
      "  \"sliding_window\": 32768,\n",
      "  \"tie_word_embeddings\": true,\n",
      "  \"torch_dtype\": \"bfloat16\",\n",
      "  \"transformers_version\": \"4.45.0.dev0\",\n",
      "  \"use_cache\": true,\n",
      "  \"use_sliding_window\": false,\n",
      "  \"video_token_id\": 151656,\n",
      "  \"vision_config\": {\n",
      "    \"hidden_size\": 1536,\n",
      "    \"in_chans\": 3,\n",
      "    \"model_type\": \"qwen2_vl\",\n",
      "    \"spatial_patch_size\": 14\n",
      "  },\n",
      "  \"vision_end_token_id\": 151653,\n",
      "  \"vision_start_token_id\": 151652,\n",
      "  \"vision_token_id\": 151654,\n",
      "  \"vocab_size\": 151936\u001b[0m\n",
      "\u001b[34m}\u001b[0m\n",
      "\u001b[34m[INFO:swift] model.generation_config: GenerationConfig {\n",
      "  \"bos_token_id\": 151643,\n",
      "  \"do_sample\": true,\n",
      "  \"eos_token_id\": 151645,\n",
      "  \"max_new_tokens\": 2048,\n",
      "  \"pad_token_id\": 151643,\n",
      "  \"temperature\": 0.01,\n",
      "  \"top_k\": 1,\n",
      "  \"top_p\": 0.001\u001b[0m\n",
      "\u001b[34m}\u001b[0m\n",
      "\u001b[34m[INFO:swift] Automatically add gradient_checkpointing to <class 'transformers.models.qwen2_vl.modeling_qwen2_vl.Qwen2VisionTransformerPretrainedModel'>.\u001b[0m\n",
      "\u001b[34m[INFO:swift] Setting model.config.use_cache: False\u001b[0m\n",
      "\u001b[34m[INFO:swift] target_modules: ^(model)(?!.*(lm_head|output|emb|wte|shared)).*\u001b[0m\n",
      "\u001b[34m[INFO:swift] modules_to_save: []\u001b[0m\n",
      "\u001b[34m[INFO:swift] lora_config: get_wrapped_class.<locals>.PeftWrapper(peft_type=<PeftType.LORA: 'LORA'>, auto_mapping=None, base_model_name_or_path='/home/sagemaker-user/.cache/huggingface/hub/models--Qwen--Qwen2-VL-2B-Instruct/snapshots/aca78372505e6cb469c4fa6a35c60265b00ff5a4', revision=None, task_type='CAUSAL_LM', inference_mode=False, r=8, target_modules='^(model)(?!.*(lm_head|output|emb|wte|shared)).*', lora_alpha=32, lora_dropout=0.05, fan_in_fan_out=False, bias='none', use_rslora=False, modules_to_save=[], init_lora_weights=True, layers_to_transform=None, layers_pattern=None, rank_pattern={}, alpha_pattern={}, megatron_config=None, megatron_core='megatron.core', loftq_config={}, use_dora=False, layer_replication=None, runtime_config=LoraRuntimeConfig(ephemeral_gpu_offload=False), lora_dtype=None, lorap_lr_ratio=None, lorap_emb_lr=1e-06)\u001b[0m\n",
      "\u001b[34m[INFO:swift] [base_model.model.visual.patch_embed.proj.weight]: requires_grad=False, dtype=torch.bfloat16, device=cuda:0\u001b[0m\n",
      "\u001b[34m[INFO:swift] [base_model.model.visual.blocks.0.norm1.weight]: requires_grad=False, dtype=torch.bfloat16, device=cuda:0\u001b[0m\n",
      "\u001b[34m[INFO:swift] [base_model.model.visual.blocks.0.norm1.bias]: requires_grad=False, dtype=torch.bfloat16, device=cuda:0\u001b[0m\n",
      "\u001b[34m[INFO:swift] [base_model.model.visual.blocks.0.norm2.weight]: requires_grad=False, dtype=torch.bfloat16, device=cuda:0\u001b[0m\n",
      "\u001b[34m[INFO:swift] [base_model.model.visual.blocks.0.norm2.bias]: requires_grad=False, dtype=torch.bfloat16, device=cuda:0\u001b[0m\n",
      "\u001b[34m[INFO:swift] [base_model.model.visual.blocks.0.attn.qkv.weight]: requires_grad=False, dtype=torch.bfloat16, device=cuda:0\u001b[0m\n",
      "\u001b[34m[INFO:swift] [base_model.model.visual.blocks.0.attn.qkv.bias]: requires_grad=False, dtype=torch.bfloat16, device=cuda:0\u001b[0m\n",
      "\u001b[34m[INFO:swift] [base_model.model.visual.blocks.0.attn.proj.weight]: requires_grad=False, dtype=torch.bfloat16, device=cuda:0\u001b[0m\n",
      "\u001b[34m[INFO:swift] [base_model.model.visual.blocks.0.attn.proj.bias]: requires_grad=False, dtype=torch.bfloat16, device=cuda:0\u001b[0m\n",
      "\u001b[34m[INFO:swift] [base_model.model.visual.blocks.0.mlp.fc1.weight]: requires_grad=False, dtype=torch.bfloat16, device=cuda:0\u001b[0m\n",
      "\u001b[34m[INFO:swift] [base_model.model.visual.blocks.0.mlp.fc1.bias]: requires_grad=False, dtype=torch.bfloat16, device=cuda:0\u001b[0m\n",
      "\u001b[34m[INFO:swift] [base_model.model.visual.blocks.0.mlp.fc2.weight]: requires_grad=False, dtype=torch.bfloat16, device=cuda:0\u001b[0m\n",
      "\u001b[34m[INFO:swift] [base_model.model.visual.blocks.0.mlp.fc2.bias]: requires_grad=False, dtype=torch.bfloat16, device=cuda:0\u001b[0m\n",
      "\u001b[34m[INFO:swift] [base_model.model.visual.blocks.1.norm1.weight]: requires_grad=False, dtype=torch.bfloat16, device=cuda:0\u001b[0m\n",
      "\u001b[34m[INFO:swift] [base_model.model.visual.blocks.1.norm1.bias]: requires_grad=False, dtype=torch.bfloat16, device=cuda:0\u001b[0m\n",
      "\u001b[34m[INFO:swift] [base_model.model.visual.blocks.1.norm2.weight]: requires_grad=False, dtype=torch.bfloat16, device=cuda:0\u001b[0m\n",
      "\u001b[34m[INFO:swift] [base_model.model.visual.blocks.1.norm2.bias]: requires_grad=False, dtype=torch.bfloat16, device=cuda:0\u001b[0m\n",
      "\u001b[34m[INFO:swift] [base_model.model.visual.blocks.1.attn.qkv.weight]: requires_grad=False, dtype=torch.bfloat16, device=cuda:0\u001b[0m\n",
      "\u001b[34m[INFO:swift] [base_model.model.visual.blocks.1.attn.qkv.bias]: requires_grad=False, dtype=torch.bfloat16, device=cuda:0\u001b[0m\n",
      "\u001b[34m[INFO:swift] [base_model.model.visual.blocks.1.attn.proj.weight]: requires_grad=False, dtype=torch.bfloat16, device=cuda:0\u001b[0m\n",
      "\u001b[34m[INFO:swift] ...\u001b[0m\n",
      "\u001b[34m[INFO:swift] PeftModelForCausalLM(\n",
      "  (base_model): LoraModel(\n",
      "    (model): Qwen2VLForConditionalGeneration(\n",
      "      (visual): Qwen2VisionTransformerPretrainedModel(\n",
      "        (patch_embed): PatchEmbed(\n",
      "          (proj): Conv3d(3, 1280, kernel_size=(2, 14, 14), stride=(2, 14, 14), bias=False)\n",
      "        )\n",
      "        (rotary_pos_emb): VisionRotaryEmbedding()\n",
      "        (blocks): ModuleList(\n",
      "          (0-31): 32 x Qwen2VLVisionBlock(\n",
      "            (norm1): LayerNorm((1280,), eps=1e-06, elementwise_affine=True)\n",
      "            (norm2): LayerNorm((1280,), eps=1e-06, elementwise_affine=True)\n",
      "            (attn): VisionSdpaAttention(\n",
      "              (qkv): Linear(in_features=1280, out_features=3840, bias=True)\n",
      "              (proj): Linear(in_features=1280, out_features=1280, bias=True)\n",
      "            )\n",
      "            (mlp): VisionMlp(\n",
      "              (fc1): Linear(in_features=1280, out_features=5120, bias=True)\n",
      "              (act): QuickGELUActivation()\n",
      "              (fc2): Linear(in_features=5120, out_features=1280, bias=True)\n",
      "            )\n",
      "          )\n",
      "        )\n",
      "        (merger): PatchMerger(\n",
      "          (ln_q): LayerNorm((1280,), eps=1e-06, elementwise_affine=True)\n",
      "          (mlp): Sequential(\n",
      "            (0): Linear(in_features=5120, out_features=5120, bias=True)\n",
      "            (1): GELU(approximate='none')\n",
      "            (2): Linear(in_features=5120, out_features=1536, bias=True)\n",
      "          )\n",
      "        )\n",
      "      )\n",
      "      (model): Qwen2VLModel(\n",
      "        (embed_tokens): Embedding(151936, 1536)\n",
      "        (layers): ModuleList(\n",
      "          (0-27): 28 x Qwen2VLDecoderLayer(\n",
      "            (self_attn): Qwen2VLSdpaAttention(\n",
      "              (q_proj): lora.Linear(\n",
      "                (base_layer): Linear(in_features=1536, out_features=1536, bias=True)\n",
      "                (lora_dropout): ModuleDict(\n",
      "                  (default): Dropout(p=0.05, inplace=False)\n",
      "                )\n",
      "                (lora_A): ModuleDict(\n",
      "                  (default): Linear(in_features=1536, out_features=8, bias=False)\n",
      "                )\n",
      "                (lora_B): ModuleDict(\n",
      "                  (default): Linear(in_features=8, out_features=1536, bias=False)\n",
      "                )\n",
      "                (lora_embedding_A): ParameterDict()\n",
      "                (lora_embedding_B): ParameterDict()\n",
      "                (lora_magnitude_vector): ModuleDict()\n",
      "              )\n",
      "              (k_proj): lora.Linear(\n",
      "                (base_layer): Linear(in_features=1536, out_features=256, bias=True)\n",
      "                (lora_dropout): ModuleDict(\n",
      "                  (default): Dropout(p=0.05, inplace=False)\n",
      "                )\n",
      "                (lora_A): ModuleDict(\n",
      "                  (default): Linear(in_features=1536, out_features=8, bias=False)\n",
      "                )\n",
      "                (lora_B): ModuleDict(\n",
      "                  (default): Linear(in_features=8, out_features=256, bias=False)\n",
      "                )\n",
      "                (lora_embedding_A): ParameterDict()\n",
      "                (lora_embedding_B): ParameterDict()\n",
      "                (lora_magnitude_vector): ModuleDict()\n",
      "              )\n",
      "              (v_proj): lora.Linear(\n",
      "                (base_layer): Linear(in_features=1536, out_features=256, bias=True)\n",
      "                (lora_dropout): ModuleDict(\n",
      "                  (default): Dropout(p=0.05, inplace=False)\n",
      "                )\n",
      "                (lora_A): ModuleDict(\n",
      "                  (default): Linear(in_features=1536, out_features=8, bias=False)\n",
      "                )\n",
      "                (lora_B): ModuleDict(\n",
      "                  (default): Linear(in_features=8, out_features=256, bias=False)\n",
      "                )\n",
      "                (lora_embedding_A): ParameterDict()\n",
      "                (lora_embedding_B): ParameterDict()\n",
      "                (lora_magnitude_vector): ModuleDict()\n",
      "              )\n",
      "              (o_proj): lora.Linear(\n",
      "                (base_layer): Linear(in_features=1536, out_features=1536, bias=False)\n",
      "                (lora_dropout): ModuleDict(\n",
      "                  (default): Dropout(p=0.05, inplace=False)\n",
      "                )\n",
      "                (lora_A): ModuleDict(\n",
      "                  (default): Linear(in_features=1536, out_features=8, bias=False)\n",
      "                )\n",
      "                (lora_B): ModuleDict(\n",
      "                  (default): Linear(in_features=8, out_features=1536, bias=False)\n",
      "                )\n",
      "                (lora_embedding_A): ParameterDict()\n",
      "                (lora_embedding_B): ParameterDict()\n",
      "                (lora_magnitude_vector): ModuleDict()\n",
      "              )\n",
      "              (rotary_emb): Qwen2RotaryEmbedding()\n",
      "            )\n",
      "            (mlp): Qwen2MLP(\n",
      "              (gate_proj): lora.Linear(\n",
      "                (base_layer): Linear(in_features=1536, out_features=8960, bias=False)\n",
      "                (lora_dropout): ModuleDict(\n",
      "                  (default): Dropout(p=0.05, inplace=False)\n",
      "                )\n",
      "                (lora_A): ModuleDict(\n",
      "                  (default): Linear(in_features=1536, out_features=8, bias=False)\n",
      "                )\n",
      "                (lora_B): ModuleDict(\n",
      "                  (default): Linear(in_features=8, out_features=8960, bias=False)\n",
      "                )\n",
      "                (lora_embedding_A): ParameterDict()\n",
      "                (lora_embedding_B): ParameterDict()\n",
      "                (lora_magnitude_vector): ModuleDict()\n",
      "              )\n",
      "              (up_proj): lora.Linear(\n",
      "                (base_layer): Linear(in_features=1536, out_features=8960, bias=False)\n",
      "                (lora_dropout): ModuleDict(\n",
      "                  (default): Dropout(p=0.05, inplace=False)\n",
      "                )\n",
      "                (lora_A): ModuleDict(\n",
      "                  (default): Linear(in_features=1536, out_features=8, bias=False)\n",
      "                )\n",
      "                (lora_B): ModuleDict(\n",
      "                  (default): Linear(in_features=8, out_features=8960, bias=False)\n",
      "                )\n",
      "                (lora_embedding_A): ParameterDict()\n",
      "                (lora_embedding_B): ParameterDict()\n",
      "                (lora_magnitude_vector): ModuleDict()\n",
      "              )\n",
      "              (down_proj): lora.Linear(\n",
      "                (base_layer): Linear(in_features=8960, out_features=1536, bias=False)\n",
      "                (lora_dropout): ModuleDict(\n",
      "                  (default): Dropout(p=0.05, inplace=False)\n",
      "                )\n",
      "                (lora_A): ModuleDict(\n",
      "                  (default): Linear(in_features=8960, out_features=8, bias=False)\n",
      "                )\n",
      "                (lora_B): ModuleDict(\n",
      "                  (default): Linear(in_features=8, out_features=1536, bias=False)\n",
      "                )\n",
      "                (lora_embedding_A): ParameterDict()\n",
      "                (lora_embedding_B): ParameterDict()\n",
      "                (lora_magnitude_vector): ModuleDict()\n",
      "              )\n",
      "              (act_fn): SiLU()\n",
      "            )\n",
      "            (input_layernorm): Qwen2RMSNorm((1536,), eps=1e-06)\n",
      "            (post_attention_layernorm): Qwen2RMSNorm((1536,), eps=1e-06)\n",
      "          )\n",
      "        )\n",
      "        (norm): Qwen2RMSNorm((1536,), eps=1e-06)\n",
      "      )\n",
      "      (lm_head): Linear(in_features=1536, out_features=151936, bias=False)\n",
      "    )\n",
      "  )\u001b[0m\n",
      "\u001b[34m)\u001b[0m\n",
      "\u001b[34m[INFO:swift] PeftModelForCausalLM: 2218.2180M Params (9.2324M Trainable [0.4162%]), 234.8828M Buffers.\u001b[0m\n",
      "\u001b[34m[INFO:swift] system: You are a helpful assistant.\u001b[0m\n",
      "\u001b[34m[INFO:swift] args.lazy_tokenize: True\u001b[0m\n",
      "\u001b[34m#015Generating train split: 0 examples [00:00, ? examples/s]#015Generating train split: 100 examples [00:00, 30586.33 examples/s]\u001b[0m\n",
      "\u001b[34m#015  0%|          | 0/100 [00:00<?, ?it/s]#015100%|██████████| 100/100 [00:00<00:00, 1691251.61it/s]\u001b[0m\n",
      "\u001b[34m#015Generating train split: 0 examples [00:00, ? examples/s]#015Generating train split: 13 examples [00:00, 8458.88 examples/s]\u001b[0m\n",
      "\u001b[34m#015  0%|          | 0/13 [00:00<?, ?it/s]#015100%|██████████| 13/13 [00:00<00:00, 392273.04it/s]\u001b[0m\n",
      "\u001b[34m[INFO:swift] train_dataset: Dataset({\n",
      "    features: ['query', 'response', 'videos'],\n",
      "    num_rows: 100\u001b[0m\n",
      "\u001b[34m})\u001b[0m\n",
      "\u001b[34m[INFO:swift] val_dataset: Dataset({\n",
      "    features: ['query', 'response', 'videos'],\n",
      "    num_rows: 13\u001b[0m\n",
      "\u001b[34m})\u001b[0m\n",
      "\u001b[34m[INFO:swift] Using environment variable `NFRAMES`, Setting nframes: 24.\u001b[0m\n",
      "\u001b[34m[INFO:swift] Setting fps: None. You can adjust this hyperparameter through the environment variable: `FPS`.\u001b[0m\n",
      "\u001b[34m[INFO:swift] Setting frame_factor: 2. You can adjust this hyperparameter through the environment variable: `FRAME_FACTOR`.\u001b[0m\n",
      "\u001b[34m[INFO:swift] Setting video_min_pixels: 100352. You can adjust this hyperparameter through the environment variable: `VIDEO_MIN_PIXELS`.\u001b[0m\n",
      "\u001b[34m[INFO:swift] Setting video_total_pixels: 19267584. You can adjust this hyperparameter through the environment variable: `VIDEO_TOTAL_PIXELS`.\u001b[0m\n",
      "\u001b[34m[INFO:swift] Using environment variable `MAX_PIXELS`, Setting max_pixels: 100352.\u001b[0m\n",
      "\u001b[34m[INFO:swift] Setting resized_height: None. You can adjust this hyperparameter through the environment variable: `RESIZED_HEIGHT`.\u001b[0m\n",
      "\u001b[34m[INFO:swift] Setting resized_width: None. You can adjust this hyperparameter through the environment variable: `RESIZED_WIDTH`.\u001b[0m\n",
      "\u001b[34m[INFO:swift] [INPUT_IDS] [151644, 8948, 198, 2610, 525, 264, 10950, 17847, 13, 151645, 198, 151644, 872, 198, 4340, 1558, 279, 1697, 45932, 862, 3501, 2337, 279, 2766, 5267, 32, 13, 3216, 12743, 1677, 448, 825, 1424, 198, 33, 13, 3216, 4378, 389, 279, 3691, 2482, 198, 34, 13, 3216, 18545, 862, 7743, 198, 35, 13, 3216, 21633, 518, 279, 6006, 198, 5501, 5889, 448, 1172, 279, 6524, 315, 279, 4396, 4226, 13, 220, 151652, 151656, 151656, 151656, 151656, 151656, 151656, 151656, 151656, 151656, 151656, 151656, 151656, 151656, 151656, 151656, 151656, 151656, 151656, 151656, 151656, 151656, 151656, 151656, 151656, 151656, 151656, 151656, 151656, 151656, 151656, 151656, 151656, 151656, 151656, 151656, 151656, 151656, 151656, 151656, 151656, 151656, 151656, 151656, 151656, 151656, 151656, 151656, 151656, 151656, 151656, 151656, 151656, 151656, 151656, 151656, 151656, 151656, 151656, 151656, 151656, 151656, 151656, 151656, 151656, 151656, 151656, 151656, 151656, 151656, 151656, 151656, 151656, 151656, 151656, 151656, 151656, 151656, 151656, 151656, 151656, 151656, 151656, 151656, 151656, 151656, 151656, 151656, 151656, 151656, 151656, 151656, 151656, 151656, 151656, 151656, 151656, 151656, 151656, 151656, 151656, 151656, 151656, 151656, 151656, 151656, 151656, 151656, 151656, 151656, 151656, 151656, 151656, 151656, 151656, 151656, 151656, 151656, 151656, 151656, 151656, 151656, 151656, 151656, 151656, 151656, 151656, 151656, 151656, 151656, 151656, 151656, 151656, 151656, 151656, 151656, 151656, 151656, 151656, 151656, 151656, 151656, 151656, 151656, 151656, 151656, 151656, 151656, 151656, 151656, 151656, 151656, 151656, 151656, 151656, 151656, 151656, 151656, 151656, 151656, 151656, 151656, 151656, 151656, 151656, 151656, 151656, 151656, 151656, 151656, 151656, 151656, 151656, 151656, 151656, 151656, 151656, 151656, 151656, 151656, 151656, 151656, 151656, 151656, 151656, 151656, 151656, 151656, 151656, 151656, 151656, 151656, 151656, 151656, 151656, 151656, 151656, 151656, 151656, 151656, 151656, 151656, 151656, 151656, 151656, 151656, 151656, 151656, 151656, 151656, 151656, 151656, 151656, 151656, 151656, 151656, 151656, 151656, 151656, 151656, 151656, 151656, 151656, 151656, 151656, 151656, 151656, 151656, 151656, 151656, 151656, 151656, 151656, 151656, 151656, 151656, 151656, 151656, 151656, 151656, 151656, 151656, 151656, 151656, 151656, 151656, 151656, 151656, 151656, 151656, 151656, 151656, 151656, 151656, 151656, 151656, 151656, 151656, 151656, 151656, 151656, 151656, 151656, 151656, 151656, 151656, 151656, 151656, 151656, 151656, 151656, 151656, 151656, 151656, 151656, 151656, 151656, 151656, 151656, 151656, 151656, 151656, 151656, 151656, 151656, 151656, 151656, 151656, 151656, 151656, 151656, 151656, 151656, 151656, 151656, 151656, 151656, 151656, 151656, 151656, 151656, 151656, 151656, 151656, 151656, 151656, 151656, 151656, 151656, 151656, 151656, 151656, 151656, 151656, 151656, 151656, 151656, 151656, 151656, 151656, 151656, 151656, 151656, 151656, 151656, 151656, 151656, 151656, 151656, 151656, 151656, 151656, 151656, 151656, 151656, 151656, 151656, 151656, 151656, 151656, 151656, 151656, 151656, 151656, 151656, 151656, 151656, 151656, 151656, 151656, 151656, 151656, 151656, 151656, 151656, 151656, 151656, 151656, 151656, 151656, 151656, 151656, 151656, 151656, 151656, 151656, 151656, 151656, 151656, 151656, 151656, 151656, 151656, 151656, 151656, 151656, 151656, 151656, 151656, 151656, 151656, 151656, 151656, 151656, 151656, 151656, 151656, 151656, 151656, 151656, 151656, 151656, 151656, 151656, 151656, 151656, 151656, 151656, 151656, 151656, 151656, 151656, 151656, 151656, 151656, 151656, 151656, 151656, 151656, 151656, 151656, 151656, 151656, 151656, 151656, 151656, 151656, 151656, 151656, 151656, 151656, 151656, 151656, 151656, 151656, 151656, 151656, 151656, 151656, 151656, 151656, 151656, 151656, 151656, 151656, 151656, 151656, 151656, 151656, 151656, 151656, 151656, 151656, 151656, 151656, 151656, 151656, 151656, 151656, 151656, 151656, 151656, 151656, 151656, 151656, 151656, 151656, 151656, 151656, 151656, 151656, 151656, 151656, 151656, 151656, 151656, 151656, 151656, 151656, 151656, 151656, 151656, 151656, 151656, 151656, 151656, 151656, 151656, 151656, 151656, 151656, 151656, 151656, 151656, 151656, 151656, 151656, 151656, 151656, 151656, 151656, 151656, 151656, 151656, 151656, 151656, 151656, 151656, 151656, 151656, 151656, 151656, 151656, 151656, 151656, 151656, 151656, 151656, 151656, 151656, 151656, 151656, 151656, 151656, 151656, 151656, 151656, 151656, 151656, 151656, 151656, 151656, 151656, 151656, 151656, 151656, 151656, 151656, 151656, 151656, 151656, 151656, 151656, 151656, 151656, 151656, 151656, 151656, 151656, 151656, 151656, 151656, 151656, 151656, 151656, 151656, 151656, 151656, 151656, 151656, 151656, 151656, 151656, 151656, 151656, 151656, 151656, 151656, 151656, 151656, 151656, 151656, 151656, 151656, 151656, 151656, 151656, 151656, 151656, 151656, 151656, 151656, 151656, 151656, 151656, 151656, 151656, 151656, 151656, 151656, 151656, 151656, 151656, 151656, 151656, 151656, 151656, 151656, 151656, 151656, 151656, 151656, 151656, 151656, 151656, 151656, 151656, 151656, 151656, 151656, 151656, 151656, 151656, 151656, 151656, 151656, 151656, 151656, 151656, 151656, 151656, 151656, 151656, 151656, 151656, 151656, 151656, 151656, 151656, 151656, 151656, 151656, 151656, 151656, 151656, 151656, 151656, 151656, 151656, 151656, 151656, 151656, 151656, 151656, 151656, 151656, 151656, 151656, 151656, 151656, 151656, 151656, 151656, 151656, 151656, 151656, 151656, 151656, 151656, 151656, 151656, 151656, 151656, 151656, 151656, 151656, 151656, 151656, 151656, 151656, 151656, 151656, 151656, 151656, 151656, 151656, 151656, 151656, 151656, 151656, 151656, 151656, 151656, 151656, 151656, 151656, 151656, 151656, 151656, 151656, 151656, 151656, 151656, 151656, 151656, 151656, 151656, 151656, 151656, 151656, 151656, 151656, 151656, 151656, 151656, 151656, 151656, 151656, 151656, 151656, 151656, 151656, 151656, 151656, 151656, 151656, 151656, 151656, 151656, 151656, 151656, 151656, 151656, 151656, 151656, 151656, 151656, 151656, 151656, 151656, 151656, 151656, 151656, 151656, 151656, 151656, 151656, 151656, 151656, 151656, 151656, 151656, 151656, 151656, 151656, 151656, 151656, 151656, 151656, 151656, 151656, 151656, 151656, 151656, 151656, 151656, 151656, 151656, 151656, 151656, 151656, 151656, 151656, 151656, 151656, 151656, 151656, 151656, 151656, 151656, 151656, 151656, 151656, 151656, 151656, 151656, 151656, 151656, 151656, 151656, 151656, 151656, 151656, 151656, 151656, 151656, 151656, 151656, 151656, 151656, 151656, 151656, 151656, 151656, 151656, 151656, 151656, 151656, 151656, 151656, 151656, 151656, 151656, 151656, 151656, 151656, 151656, 151656, 151656, 151656, 151656, 151656, 151656, 151656, 151656, 151656, 151656, 151656, 151656, 151656, 151656, 151656, 151656, 151656, 151656, 151656, 151656, 151656, 151656, 151656, 151656, 151656, 151656, 151656, 151656, 151656, 151656, 151656, 151656, 151656, 151656, 151656, 151656, 151656, 151656, 151656, 151656, 151656, 151656, 151656, 151656, 151656, 151656, 151656, 151656, 151656, 151656, 151656, 151656, 151656, 151656, 151656, 151656, 151656, 151656, 151656, 151656, 151656, 151656, 151656, 151656, 151656, 151656, 151656, 151656, 151656, 151656, 151656, 151656, 151656, 151656, 151656, 151656, 151656, 151656, 151656, 151656, 151656, 151656, 151656, 151656, 151656, 151656, 151656, 151656, 151656, 151656, 151656, 151656, 151656, 151656, 151656, 151656, 151656, 151656, 151656, 151656, 151656, 151656, 151656, 151656, 151656, 151656, 151656, 151656, 151656, 151656, 151656, 151656, 151656, 151656, 151656, 151656, 151656, 151656, 151656, 151656, 151656, 151656, 151656, 151656, 151656, 151656, 151656, 151656, 151656, 151656, 151656, 151656, 151656, 151656, 151656, 151656, 151656, 151656, 151656, 151656, 151656, 151656, 151656, 151656, 151656, 151656, 151656, 151656, 151656, 151656, 151656, 151656, 151656, 151656, 151656, 151656, 151656, 151656, 151656, 151656, 151656, 151656, 151656, 151656, 151656, 151656, 151656, 151656, 151656, 151656, 151656, 151656, 151656, 151656, 151656, 151656, 151656, 151656, 151656, 151656, 151656, 151656, 151656, 151656, 151656, 151656, 151656, 151656, 151656, 151656, 151656, 151656, 151656, 151656, 151656, 151656, 151656, 151656, 151656, 151656, 151656, 151656, 151656, 151656, 151656, 151656, 151656, 151656, 151656, 151656, 151656, 151656, 151656, 151656, 151656, 151656, 151656, 151656, 151656, 151656, 151656, 151656, 151656, 151656, 151656, 151656, 151656, 151656, 151656, 151656, 151656, 151656, 151656, 151656, 151656, 151656, 151656, 151656, 151656, 151656, 151656, 151656, 151656, 151656, 151656, 151656, 151656, 151656, 151656, 151656, 151656, 151656, 151656, 151656, 151656, 151656, 151656, 151656, 151656, 151656, 151656, 151656, 151656, 151656, 151656, 151656, 151656, 151656, 151656, 151656, 151656, 151656, 151656, 151656, 151656, 151656, 151656, 151656, 151656, 151656, 151656, 151656, 151656, 151656, 151656, 151656, 151656, 151656, 151656, 151656, 151656, 151656, 151656, 151656, 151656, 151656, 151656, 151656, 151656, 151656, 151656, 151656, 151656, 151656, 151656, 151656, 151656, 151656, 151656, 151656, 151656, 151656, 151656, 151656, 151656, 151656, 151656, 151656, 151656, 151656, 151656, 151656, 151656, 151656, 151656, 151656, 151656, 151656, 151656, 151656, 151656, 151656, 151656, 151656, 151656, 151656, 151656, 151656, 151656, 151656, 151656, 151656, 151656, 151656, 151656, 151656, 151656, 151656, 151656, 151656, 151656, 151656, 151656, 151656, 151656, 151656, 151656, 151656, 151656, 151656, 151656, 151656, 151656, 151656, 151656, 151656, 151656, 151656, 151656, 151656, 151656, 151656, 151656, 151656, 151656, 151656, 151656, 151656, 151656, 151656, 151656, 151656, 151656, 151656, 151656, 151656, 151656, 151656, 151656, 151656, 151656, 151656, 151656, 151656, 151656, 151656, 151656, 151656, 151656, 151656, 151656, 151656, 151656, 151656, 151656, 151656, 151656, 151656, 151656, 151656, 151656, 151656, 151656, 151656, 151656, 151656, 151656, 151656, 151656, 151656, 151656, 151656, 151656, 151656, 151656, 151656, 151656, 151656, 151656, 151656, 151656, 151656, 151656, 151656, 151656, 151656, 151656, 151656, 151656, 151656, 151656, 151656, 151656, 151656, 151656, 151656, 151656, 151656, 151656, 151656, 151656, 151656, 151656, 151656, 151656, 151656, 151656, 151656, 151656, 151656, 151656, 151656, 151656, 151656, 151656, 151656, 151656, 151656, 151656, 151656, 151656, 151656, 151656, 151656, 151656, 151656, 151656, 151656, 151656, 151656, 151656, 151656, 151656, 151656, 151656, 151656, 151656, 151656, 151656, 151656, 151656, 151656, 151656, 151656, 151656, 151656, 151656, 151656, 151656, 151656, 151656, 151656, 151656, 151656, 151656, 151656, 151656, 151656, 151656, 151656, 151656, 151656, 151656, 151656, 151656, 151656, 151656, 151656, 151656, 151656, 151656, 151656, 151656, 151656, 151656, 151656, 151656, 151656, 151656, 151656, 151656, 151656, 151656, 151656, 151656, 151656, 151656, 151656, 151656, 151656, 151656, 151656, 151656, 151656, 151656, 151656, 151656, 151656, 151656, 151656, 151656, 151656, 151656, 151656, 151656, 151656, 151656, 151656, 151656, 151656, 151656, 151656, 151656, 151656, 151656, 151656, 151656, 151656, 151656, 151656, 151656, 151656, 151656, 151656, 151656, 151656, 151656, 151656, 151656, 151656, 151656, 151656, 151656, 151656, 151656, 151656, 151656, 151656, 151656, 151656, 151656, 151656, 151656, 151656, 151656, 151656, 151656, 151656, 151656, 151656, 151656, 151656, 151656, 151656, 151656, 151656, 151656, 151656, 151656, 151656, 151656, 151656, 151656, 151656, 151656, 151656, 151656, 151656, 151656, 151656, 151656, 151656, 151656, 151656, 151656, 151656, 151656, 151656, 151656, 151656, 151656, 151656, 151656, 151656, 151656, 151656, 151656, 151656, 151656, 151656, 151656, 151656, 151656, 151656, 151656, 151656, 151656, 151656, 151656, 151656, 151656, 151656, 151656, 151656, 151656, 151656, 151656, 151656, 151656, 151656, 151656, 151656, 151656, 151656, 151656, 151656, 151656, 151656, 151656, 151656, 151656, 151656, 151656, 151656, 151656, 151656, 151656, 151656, 151656, 151656, 151656, 151656, 151656, 151656, 151656, 151656, 151656, 151656, 151656, 151656, 151656, 151656, 151656, 151656, 151656, 151656, 151656, 151656, 151656, 151656, 151656, 151656, 151656, 151656, 151656, 151656, 151656, 151656, 151656, 151656, 151656, 151656, 151656, 151656, 151656, 151656, 151656, 151656, 151656, 151656, 151656, 151656, 151656, 151656, 151656, 151656, 151656, 151656, 151656, 151656, 151656, 151656, 151656, 151656, 151656, 151656, 151656, 151656, 151656, 151656, 151656, 151656, 151656, 151656, 151656, 151656, 151656, 151656, 151656, 151656, 151656, 151656, 151656, 151656, 151656, 151656, 151656, 151656, 151656, 151656, 151656, 151656, 151656, 151656, 151653, 151645, 198, 151644, 77091, 198, 32, 13, 151645]\u001b[0m\n",
      "\u001b[34m[INFO:swift] [INPUT] <|im_start|>system\u001b[0m\n",
      "\u001b[34mYou are a helpful assistant.<|im_end|>\u001b[0m\n",
      "\u001b[34m<|im_start|>user\u001b[0m\n",
      "\u001b[34mHow does the person emphasize their points during the video?\u001b[0m\n",
      "\u001b[34mA. By gesturing with one hand\u001b[0m\n",
      "\u001b[34mB. By writing on the blackboard\u001b[0m\n",
      "\u001b[34mC. By raising their voice\u001b[0m\n",
      "\u001b[34mD. By pointing at the door\u001b[0m\n",
      "\u001b[34mPlease respond with only the letter of the correct answer. <|vision_start|>[151656 * 1560]<|vision_end|><|im_end|>\u001b[0m\n",
      "\u001b[34m<|im_start|>assistant\u001b[0m\n",
      "\u001b[34mA.<|im_end|>\u001b[0m\n",
      "\u001b[34m[INFO:swift] [LABELS_IDS] [-100, -100, -100, -100, -100, -100, -100, -100, -100, -100, -100, -100, -100, -100, -100, -100, -100, -100, -100, -100, -100, -100, -100, -100, -100, -100, -100, -100, -100, -100, -100, -100, -100, -100, -100, -100, -100, -100, -100, -100, -100, -100, -100, -100, -100, -100, -100, -100, -100, -100, -100, -100, -100, -100, -100, -100, -100, -100, -100, -100, -100, -100, -100, -100, -100, -100, -100, -100, -100, -100, -100, -100, -100, -100, -100, -100, -100, -100, -100, -100, -100, -100, -100, -100, -100, -100, -100, -100, -100, -100, -100, -100, -100, -100, -100, -100, -100, -100, -100, -100, -100, -100, -100, -100, -100, -100, -100, -100, -100, -100, -100, -100, -100, -100, -100, -100, -100, -100, -100, -100, -100, -100, -100, -100, -100, -100, -100, -100, -100, -100, -100, -100, -100, -100, -100, -100, -100, -100, -100, -100, -100, -100, -100, -100, -100, -100, -100, -100, -100, -100, -100, -100, -100, -100, -100, -100, -100, -100, -100, -100, -100, -100, -100, -100, -100, -100, -100, -100, -100, -100, -100, -100, -100, -100, -100, -100, -100, -100, -100, -100, -100, -100, -100, -100, -100, -100, -100, -100, -100, -100, -100, -100, -100, -100, -100, -100, -100, -100, -100, -100, -100, -100, -100, -100, -100, -100, -100, -100, -100, -100, -100, -100, -100, -100, -100, -100, -100, -100, -100, -100, -100, -100, -100, -100, -100, -100, -100, -100, -100, -100, -100, -100, -100, -100, -100, -100, -100, -100, -100, -100, -100, -100, -100, -100, -100, -100, -100, -100, -100, -100, -100, -100, -100, -100, -100, -100, -100, -100, -100, -100, -100, -100, -100, -100, -100, -100, -100, -100, -100, -100, -100, -100, -100, -100, -100, -100, -100, -100, -100, -100, -100, -100, -100, -100, -100, -100, -100, -100, -100, -100, -100, -100, -100, -100, -100, -100, -100, -100, -100, -100, -100, -100, -100, -100, -100, -100, -100, -100, -100, -100, -100, -100, -100, -100, -100, -100, -100, -100, -100, -100, -100, -100, -100, -100, -100, -100, -100, -100, -100, -100, -100, -100, -100, -100, -100, -100, -100, -100, -100, -100, -100, -100, -100, -100, -100, -100, -100, -100, -100, -100, -100, -100, -100, -100, -100, -100, -100, -100, -100, -100, -100, -100, -100, -100, -100, -100, -100, -100, -100, -100, -100, -100, -100, -100, -100, -100, -100, -100, -100, -100, -100, -100, -100, -100, -100, -100, -100, -100, -100, -100, -100, -100, -100, -100, -100, -100, -100, -100, -100, -100, -100, -100, -100, -100, -100, -100, -100, -100, -100, -100, -100, -100, -100, -100, -100, -100, -100, -100, -100, -100, -100, -100, -100, -100, -100, -100, -100, -100, -100, -100, -100, -100, -100, -100, -100, -100, -100, -100, -100, -100, -100, -100, -100, -100, -100, -100, -100, -100, -100, -100, -100, -100, -100, -100, -100, -100, -100, -100, -100, -100, -100, -100, -100, -100, -100, -100, -100, -100, -100, -100, -100, -100, -100, -100, -100, -100, -100, -100, -100, -100, -100, -100, -100, -100, -100, -100, -100, -100, -100, -100, -100, -100, -100, -100, -100, -100, -100, -100, -100, -100, -100, -100, -100, -100, -100, -100, -100, -100, -100, -100, -100, -100, -100, -100, -100, -100, -100, -100, -100, -100, -100, -100, -100, -100, -100, -100, -100, -100, -100, -100, -100, -100, -100, -100, -100, -100, -100, -100, -100, -100, -100, -100, -100, -100, -100, -100, -100, -100, -100, -100, -100, -100, -100, -100, -100, -100, -100, -100, -100, -100, -100, -100, -100, -100, -100, -100, -100, -100, -100, -100, -100, -100, -100, -100, -100, -100, -100, -100, -100, -100, -100, -100, -100, -100, -100, -100, -100, -100, -100, -100, -100, -100, -100, -100, -100, -100, -100, -100, -100, -100, -100, -100, -100, -100, -100, -100, -100, -100, -100, -100, -100, -100, -100, -100, -100, -100, -100, -100, -100, -100, -100, -100, -100, -100, -100, -100, -100, -100, -100, -100, -100, -100, -100, -100, -100, -100, -100, -100, -100, -100, -100, -100, -100, -100, -100, -100, -100, -100, -100, -100, -100, -100, -100, -100, -100, -100, -100, -100, -100, -100, -100, -100, -100, -100, -100, -100, -100, -100, -100, -100, -100, -100, -100, -100, -100, -100, -100, -100, -100, -100, -100, -100, -100, -100, -100, -100, -100, -100, -100, -100, -100, -100, -100, -100, -100, -100, -100, -100, -100, -100, -100, -100, -100, -100, -100, -100, -100, -100, -100, -100, -100, -100, -100, -100, -100, -100, -100, -100, -100, -100, -100, -100, -100, -100, -100, -100, -100, -100, -100, -100, -100, -100, -100, -100, -100, -100, -100, -100, -100, -100, -100, -100, -100, -100, -100, -100, -100, -100, -100, -100, -100, -100, -100, -100, -100, -100, -100, -100, -100, -100, -100, -100, -100, -100, -100, -100, -100, -100, -100, -100, -100, -100, -100, -100, -100, -100, -100, -100, -100, -100, -100, -100, -100, -100, -100, -100, -100, -100, -100, -100, -100, -100, -100, -100, -100, -100, -100, -100, -100, -100, -100, -100, -100, -100, -100, -100, -100, -100, -100, -100, -100, -100, -100, -100, -100, -100, -100, -100, -100, -100, -100, -100, -100, -100, -100, -100, -100, -100, -100, -100, -100, -100, -100, -100, -100, -100, -100, -100, -100, -100, -100, -100, -100, -100, -100, -100, -100, -100, -100, -100, -100, -100, -100, -100, -100, -100, -100, -100, -100, -100, -100, -100, -100, -100, -100, -100, -100, -100, -100, -100, -100, -100, -100, -100, -100, -100, -100, -100, -100, -100, -100, -100, -100, -100, -100, -100, -100, -100, -100, -100, -100, -100, -100, -100, -100, -100, -100, -100, -100, -100, -100, -100, -100, -100, -100, -100, -100, -100, -100, -100, -100, -100, -100, -100, -100, -100, -100, -100, -100, -100, -100, -100, -100, -100, -100, -100, -100, -100, -100, -100, -100, -100, -100, -100, -100, -100, -100, -100, -100, -100, -100, -100, -100, -100, -100, -100, -100, -100, -100, -100, -100, -100, -100, -100, -100, -100, -100, -100, -100, -100, -100, -100, -100, -100, -100, -100, -100, -100, -100, -100, -100, -100, -100, -100, -100, -100, -100, -100, -100, -100, -100, -100, -100, -100, -100, -100, -100, -100, -100, -100, -100, -100, -100, -100, -100, -100, -100, -100, -100, -100, -100, -100, -100, -100, -100, -100, -100, -100, -100, -100, -100, -100, -100, -100, -100, -100, -100, -100, -100, -100, -100, -100, -100, -100, -100, -100, -100, -100, -100, -100, -100, -100, -100, -100, -100, -100, -100, -100, -100, -100, -100, -100, -100, -100, -100, -100, -100, -100, -100, -100, -100, -100, -100, -100, -100, -100, -100, -100, -100, -100, -100, -100, -100, -100, -100, -100, -100, -100, -100, -100, -100, -100, -100, -100, -100, -100, -100, -100, -100, -100, -100, -100, -100, -100, -100, -100, -100, -100, -100, -100, -100, -100, -100, -100, -100, -100, -100, -100, -100, -100, -100, -100, -100, -100, -100, -100, -100, -100, -100, -100, -100, -100, -100, -100, -100, -100, -100, -100, -100, -100, -100, -100, -100, -100, -100, -100, -100, -100, -100, -100, -100, -100, -100, -100, -100, -100, -100, -100, -100, -100, -100, -100, -100, -100, -100, -100, -100, -100, -100, -100, -100, -100, -100, -100, -100, -100, -100, -100, -100, -100, -100, -100, -100, -100, -100, -100, -100, -100, -100, -100, -100, -100, -100, -100, -100, -100, -100, -100, -100, -100, -100, -100, -100, -100, -100, -100, -100, -100, -100, -100, -100, -100, -100, -100, -100, -100, -100, -100, -100, -100, -100, -100, -100, -100, -100, -100, -100, -100, -100, -100, -100, -100, -100, -100, -100, -100, -100, -100, -100, -100, -100, -100, -100, -100, -100, -100, -100, -100, -100, -100, -100, -100, -100, -100, -100, -100, -100, -100, -100, -100, -100, -100, -100, -100, -100, -100, -100, -100, -100, -100, -100, -100, -100, -100, -100, -100, -100, -100, -100, -100, -100, -100, -100, -100, -100, -100, -100, -100, -100, -100, -100, -100, -100, -100, -100, -100, -100, -100, -100, -100, -100, -100, -100, -100, -100, -100, -100, -100, -100, -100, -100, -100, -100, -100, -100, -100, -100, -100, -100, -100, -100, -100, -100, -100, -100, -100, -100, -100, -100, -100, -100, -100, -100, -100, -100, -100, -100, -100, -100, -100, -100, -100, -100, -100, -100, -100, -100, -100, -100, -100, -100, -100, -100, -100, -100, -100, -100, -100, -100, -100, -100, -100, -100, -100, -100, -100, -100, -100, -100, -100, -100, -100, -100, -100, -100, -100, -100, -100, -100, -100, -100, -100, -100, -100, -100, -100, -100, -100, -100, -100, -100, -100, -100, -100, -100, -100, -100, -100, -100, -100, -100, -100, -100, -100, -100, -100, -100, -100, -100, -100, -100, -100, -100, -100, -100, -100, -100, -100, -100, -100, -100, -100, -100, -100, -100, -100, -100, -100, -100, -100, -100, -100, -100, -100, -100, -100, -100, -100, -100, -100, -100, -100, -100, -100, -100, -100, -100, -100, -100, -100, -100, -100, -100, -100, -100, -100, -100, -100, -100, -100, -100, -100, -100, -100, -100, -100, -100, -100, -100, -100, -100, -100, -100, -100, -100, -100, -100, -100, -100, -100, -100, -100, -100, -100, -100, -100, -100, -100, -100, -100, -100, -100, -100, -100, -100, -100, -100, -100, -100, -100, -100, -100, -100, -100, -100, -100, -100, -100, -100, -100, -100, -100, -100, -100, -100, -100, -100, -100, -100, -100, -100, -100, -100, -100, -100, -100, -100, -100, -100, -100, -100, -100, -100, -100, -100, -100, -100, -100, -100, -100, -100, -100, -100, -100, -100, -100, -100, -100, -100, -100, -100, -100, -100, -100, -100, -100, -100, -100, -100, -100, -100, -100, -100, -100, -100, -100, -100, -100, -100, -100, -100, -100, -100, -100, -100, -100, -100, -100, -100, -100, -100, -100, -100, -100, -100, -100, -100, -100, -100, -100, -100, -100, -100, -100, -100, -100, -100, -100, -100, -100, -100, -100, -100, -100, -100, -100, -100, -100, -100, -100, -100, -100, -100, -100, -100, -100, -100, -100, -100, -100, -100, -100, -100, -100, -100, -100, -100, -100, -100, -100, -100, -100, -100, -100, -100, -100, -100, -100, -100, -100, -100, -100, -100, -100, -100, -100, -100, -100, -100, -100, -100, -100, -100, -100, -100, -100, -100, 32, 13, 151645]\u001b[0m\n",
      "\u001b[34m[INFO:swift] [LABELS] [-100 * 1637]A.<|im_end|>\u001b[0m\n",
      "\u001b[34m[INFO:swift] training_args: Seq2SeqTrainingArguments(\u001b[0m\n",
      "\u001b[34m_n_gpu=4,\u001b[0m\n",
      "\u001b[34macc_strategy=token,\u001b[0m\n",
      "\u001b[34maccelerator_config={'split_batches': False, 'dispatch_batches': False, 'even_batches': True, 'use_seedable_sampler': True, 'non_blocking': False, 'gradient_accumulation_kwargs': None, 'use_configured_state': False},\u001b[0m\n",
      "\u001b[34madafactor=False,\u001b[0m\n",
      "\u001b[34madam_beta1=0.9,\u001b[0m\n",
      "\u001b[34madam_beta2=0.95,\u001b[0m\n",
      "\u001b[34madam_epsilon=1e-08,\u001b[0m\n",
      "\u001b[34madditional_saved_files=[],\u001b[0m\n",
      "\u001b[34mauto_find_batch_size=False,\u001b[0m\n",
      "\u001b[34mbatch_eval_metrics=False,\u001b[0m\n",
      "\u001b[34mbf16=True,\u001b[0m\n",
      "\u001b[34mbf16_full_eval=False,\u001b[0m\n",
      "\u001b[34mdata_seed=42,\u001b[0m\n",
      "\u001b[34mdataloader_drop_last=False,\u001b[0m\n",
      "\u001b[34mdataloader_num_workers=1,\u001b[0m\n",
      "\u001b[34mdataloader_persistent_workers=False,\u001b[0m\n",
      "\u001b[34mdataloader_pin_memory=True,\u001b[0m\n",
      "\u001b[34mdataloader_prefetch_factor=None,\u001b[0m\n",
      "\u001b[34mddp_backend=None,\u001b[0m\n",
      "\u001b[34mddp_broadcast_buffers=None,\u001b[0m\n",
      "\u001b[34mddp_bucket_cap_mb=None,\u001b[0m\n",
      "\u001b[34mddp_find_unused_parameters=None,\u001b[0m\n",
      "\u001b[34mddp_timeout=1800,\u001b[0m\n",
      "\u001b[34mdebug=[],\u001b[0m\n",
      "\u001b[34mdeepspeed=None,\u001b[0m\n",
      "\u001b[34mdisable_tqdm=False,\u001b[0m\n",
      "\u001b[34mdispatch_batches=None,\u001b[0m\n",
      "\u001b[34mdo_eval=True,\u001b[0m\n",
      "\u001b[34mdo_predict=False,\u001b[0m\n",
      "\u001b[34mdo_train=False,\u001b[0m\n",
      "\u001b[34meval_accumulation_steps=None,\u001b[0m\n",
      "\u001b[34meval_delay=0,\u001b[0m\n",
      "\u001b[34meval_do_concat_batches=True,\u001b[0m\n",
      "\u001b[34meval_on_start=False,\u001b[0m\n",
      "\u001b[34meval_steps=50,\u001b[0m\n",
      "\u001b[34meval_strategy=IntervalStrategy.STEPS,\u001b[0m\n",
      "\u001b[34meval_use_gather_object=False,\u001b[0m\n",
      "\u001b[34mevaluation_strategy=None,\u001b[0m\n",
      "\u001b[34mfp16=False,\u001b[0m\n",
      "\u001b[34mfp16_backend=auto,\u001b[0m\n",
      "\u001b[34mfp16_full_eval=False,\u001b[0m\n",
      "\u001b[34mfp16_opt_level=O1,\u001b[0m\n",
      "\u001b[34mfsdp=[],\u001b[0m\n",
      "\u001b[34mfsdp_config={'min_num_params': 0, 'xla': False, 'xla_fsdp_v2': False, 'xla_fsdp_grad_ckpt': False},\u001b[0m\n",
      "\u001b[34mfsdp_min_num_params=0,\u001b[0m\n",
      "\u001b[34mfsdp_transformer_layer_cls_to_wrap=None,\u001b[0m\n",
      "\u001b[34mfull_determinism=False,\u001b[0m\n",
      "\u001b[34mgeneration_config=GenerationConfig {\n",
      "  \"bos_token_id\": 151643,\n",
      "  \"do_sample\": true,\n",
      "  \"eos_token_id\": 151645,\n",
      "  \"max_new_tokens\": 2048,\n",
      "  \"pad_token_id\": 151643,\n",
      "  \"temperature\": 0.01,\n",
      "  \"top_k\": 1,\n",
      "  \"top_p\": 0.001\u001b[0m\n",
      "\u001b[34m}\u001b[0m\n",
      "\u001b[34m,\u001b[0m\n",
      "\u001b[34mgeneration_max_length=None,\u001b[0m\n",
      "\u001b[34mgeneration_num_beams=None,\u001b[0m\n",
      "\u001b[34mgradient_accumulation_steps=16,\u001b[0m\n",
      "\u001b[34mgradient_checkpointing=True,\u001b[0m\n",
      "\u001b[34mgradient_checkpointing_kwargs=None,\u001b[0m\n",
      "\u001b[34mgreater_is_better=False,\u001b[0m\n",
      "\u001b[34mgroup_by_length=False,\u001b[0m\n",
      "\u001b[34mhalf_precision_backend=auto,\u001b[0m\n",
      "\u001b[34mhub_always_push=False,\u001b[0m\n",
      "\u001b[34mhub_model_id=None,\u001b[0m\n",
      "\u001b[34mhub_private_repo=False,\u001b[0m\n",
      "\u001b[34mhub_strategy=HubStrategy.EVERY_SAVE,\u001b[0m\n",
      "\u001b[34mhub_token=<HUB_TOKEN>,\u001b[0m\n",
      "\u001b[34mignore_data_skip=False,\u001b[0m\n",
      "\u001b[34minclude_inputs_for_metrics=False,\u001b[0m\n",
      "\u001b[34minclude_num_input_tokens_seen=False,\u001b[0m\n",
      "\u001b[34minclude_tokens_per_second=False,\u001b[0m\n",
      "\u001b[34mjit_mode_eval=False,\u001b[0m\n",
      "\u001b[34mlabel_names=None,\u001b[0m\n",
      "\u001b[34mlabel_smoothing_factor=0.0,\u001b[0m\n",
      "\u001b[34mlearning_rate=0.0001,\u001b[0m\n",
      "\u001b[34mlength_column_name=length,\u001b[0m\n",
      "\u001b[34mload_best_model_at_end=False,\u001b[0m\n",
      "\u001b[34mlocal_rank=0,\u001b[0m\n",
      "\u001b[34mlog_level=passive,\u001b[0m\n",
      "\u001b[34mlog_level_replica=warning,\u001b[0m\n",
      "\u001b[34mlog_on_each_node=True,\u001b[0m\n",
      "\u001b[34mlogging_dir=/opt/ml/model/qwen2-vl-2b-instruct/v0-20241126-025757/runs,\u001b[0m\n",
      "\u001b[34mlogging_first_step=True,\u001b[0m\n",
      "\u001b[34mlogging_nan_inf_filter=True,\u001b[0m\n",
      "\u001b[34mlogging_steps=5,\u001b[0m\n",
      "\u001b[34mlogging_strategy=IntervalStrategy.STEPS,\u001b[0m\n",
      "\u001b[34mloss_name=None,\u001b[0m\n",
      "\u001b[34mlr_scheduler_kwargs={},\u001b[0m\n",
      "\u001b[34mlr_scheduler_type=SchedulerType.COSINE,\u001b[0m\n",
      "\u001b[34mmax_grad_norm=1,\u001b[0m\n",
      "\u001b[34mmax_steps=-1,\u001b[0m\n",
      "\u001b[34mmetric_for_best_model=loss,\u001b[0m\n",
      "\u001b[34mmetric_warmup_step=0,\u001b[0m\n",
      "\u001b[34mmp_parameters=,\u001b[0m\n",
      "\u001b[34mneftune_noise_alpha=None,\u001b[0m\n",
      "\u001b[34mno_cuda=False,\u001b[0m\n",
      "\u001b[34mnum_train_epochs=1,\u001b[0m\n",
      "\u001b[34moptim=OptimizerNames.ADAMW_TORCH,\u001b[0m\n",
      "\u001b[34moptim_args=None,\u001b[0m\n",
      "\u001b[34moptim_target_modules=None,\u001b[0m\n",
      "\u001b[34moutput_dir=/opt/ml/model/qwen2-vl-2b-instruct/v0-20241126-025757,\u001b[0m\n",
      "\u001b[34moverwrite_output_dir=False,\u001b[0m\n",
      "\u001b[34mpast_index=-1,\u001b[0m\n",
      "\u001b[34mper_device_eval_batch_size=1,\u001b[0m\n",
      "\u001b[34mper_device_train_batch_size=1,\u001b[0m\n",
      "\u001b[34mpredict_with_generate=False,\u001b[0m\n",
      "\u001b[34mprediction_loss_only=False,\u001b[0m\n",
      "\u001b[34mpush_to_hub=False,\u001b[0m\n",
      "\u001b[34mpush_to_hub_model_id=None,\u001b[0m\n",
      "\u001b[34mpush_to_hub_organization=None,\u001b[0m\n",
      "\u001b[34mpush_to_hub_token=<PUSH_TO_HUB_TOKEN>,\u001b[0m\n",
      "\u001b[34mray_scope=last,\u001b[0m\n",
      "\u001b[34mremove_unused_columns=False,\u001b[0m\n",
      "\u001b[34mreport_to=['tensorboard'],\u001b[0m\n",
      "\u001b[34mrestore_callback_states_from_checkpoint=False,\u001b[0m\n",
      "\u001b[34mresume_from_checkpoint=None,\u001b[0m\n",
      "\u001b[34mrun_name=/opt/ml/model/qwen2-vl-2b-instruct/v0-20241126-025757,\u001b[0m\n",
      "\u001b[34msave_on_each_node=False,\u001b[0m\n",
      "\u001b[34msave_only_model=False,\u001b[0m\n",
      "\u001b[34msave_safetensors=True,\u001b[0m\n",
      "\u001b[34msave_steps=50,\u001b[0m\n",
      "\u001b[34msave_strategy=IntervalStrategy.STEPS,\u001b[0m\n",
      "\u001b[34msave_total_limit=2,\u001b[0m\n",
      "\u001b[34mseed=42,\u001b[0m\n",
      "\u001b[34mskip_memory_metrics=True,\u001b[0m\n",
      "\u001b[34msortish_sampler=False,\u001b[0m\n",
      "\u001b[34msplit_batches=None,\u001b[0m\n",
      "\u001b[34mtf32=None,\u001b[0m\n",
      "\u001b[34mtorch_compile=False,\u001b[0m\n",
      "\u001b[34mtorch_compile_backend=None,\u001b[0m\n",
      "\u001b[34mtorch_compile_mode=None,\u001b[0m\n",
      "\u001b[34mtorch_empty_cache_steps=None,\u001b[0m\n",
      "\u001b[34mtorchdynamo=None,\u001b[0m\n",
      "\u001b[34mtpu_metrics_debug=False,\u001b[0m\n",
      "\u001b[34mtpu_num_cores=None,\u001b[0m\n",
      "\u001b[34mtrain_dataset_sample=-1,\u001b[0m\n",
      "\u001b[34mtrain_sampler_random=True,\u001b[0m\n",
      "\u001b[34muse_cpu=False,\u001b[0m\n",
      "\u001b[34muse_ipex=False,\u001b[0m\n",
      "\u001b[34muse_legacy_prediction_loop=False,\u001b[0m\n",
      "\u001b[34muse_liger_kernel=False,\u001b[0m\n",
      "\u001b[34muse_mps_device=False,\u001b[0m\n",
      "\u001b[34mwarmup_ratio=0.05,\u001b[0m\n",
      "\u001b[34mwarmup_steps=0,\u001b[0m\n",
      "\u001b[34mweight_decay=0.1,\u001b[0m\n",
      "\u001b[34m)\u001b[0m\n",
      "\u001b[34m[INFO:swift] The SftArguments will be saved in: /opt/ml/model/qwen2-vl-2b-instruct/v0-20241126-025757/sft_args.json\u001b[0m\n",
      "\u001b[34m[INFO:swift] The Seq2SeqTrainingArguments will be saved in: /opt/ml/model/qwen2-vl-2b-instruct/v0-20241126-025757/training_args.json\u001b[0m\n",
      "\u001b[34m[INFO:swift] The logging file will be saved in: /opt/ml/model/qwen2-vl-2b-instruct/v0-20241126-025757/logging.jsonl\u001b[0m\n",
      "\u001b[34m#015Train:   0%|          | 0/6 [00:00<?, ?it/s]/opt/conda/lib/python3.11/site-packages/torch/utils/checkpoint.py:295: FutureWarning: `torch.cpu.amp.autocast(args...)` is deprecated. Please use `torch.amp.autocast('cpu', args...)` instead.\n",
      "  with torch.enable_grad(), device_autocast_ctx, torch.cpu.amp.autocast(**ctx.cpu_autocast_kwargs):  # type: ignore[attr-defined]\u001b[0m\n",
      "\u001b[34m{'loss': 0.92418849, 'acc': 0.58458042, 'grad_norm': 8.8635807, 'learning_rate': 0.0001, 'memory(GiB)': 16.53, 'train_speed(iter/s)': 0.018204, 'epoch': 0.16, 'global_step/max_steps': '1/6', 'percentage': '16.67%', 'elapsed_time': '54s', 'remaining_time': '4m 32s'}\u001b[0m\n",
      "\u001b[34m{'loss': 0.78963685, 'acc': 0.67615253, 'grad_norm': 3.8084259, 'learning_rate': 9.55e-06, 'memory(GiB)': 16.53, 'train_speed(iter/s)': 0.025075, 'epoch': 0.8, 'global_step/max_steps': '5/6', 'percentage': '83.33%', 'elapsed_time': '3m 18s', 'remaining_time': '39s'}\u001b[0m\n",
      "\u001b[34m#015Train:  17%|█▋        | 1/6 [00:54<04:32, 54.42s/it]#015                                                    #015#015Train:  17%|█▋        | 1/6 [00:54<04:32, 54.42s/it]#015Train:  17%|█▋        | 1/6 [00:54<04:32, 54.42s/it]#015Train:  33%|███▎      | 2/6 [01:31<02:56, 44.08s/it]#015Train:  50%|█████     | 3/6 [02:06<02:00, 40.22s/it]#015Train:  67%|██████▋   | 4/6 [02:47<01:20, 40.47s/it]#015Train:  83%|████████▎ | 5/6 [03:18<00:37, 37.11s/it]#015                                                    #015#015Train:  83%|████████▎ | 5/6 [03:18<00:37, 37.11s/it]#015Train:  83%|████████▎ | 5/6 [03:18<00:37, 37.11s/it]#015Train: 100%|██████████| 6/6 [03:50<00:00, 35.13s/it]\u001b[0m\n",
      "\u001b[34m#015Val:   0%|          | 0/13 [00:00<?, ?it/s]#015Val:  15%|█▌        | 2/13 [00:02<00:11,  1.08s/it]#015Val:  23%|██▎       | 3/13 [00:03<00:10,  1.09s/it]#015Val:  31%|███       | 4/13 [00:04<00:09,  1.10s/it]#015Val:  38%|███▊      | 5/13 [00:05<00:09,  1.15s/it]#015Val:  46%|████▌     | 6/13 [00:06<00:08,  1.16s/it]#015Val:  54%|█████▍    | 7/13 [00:08<00:08,  1.34s/it]#015Val:  62%|██████▏   | 8/13 [00:11<00:08,  1.72s/it]#015Val:  69%|██████▉   | 9/13 [00:12<00:06,  1.53s/it]#015Val:  77%|███████▋  | 10/13 [00:13<00:04,  1.40s/it]#015Val:  85%|████████▍ | 11/13 [00:21<00:06,  3.47s/it]#015Val:  92%|█████████▏| 12/13 [00:22<00:02,  2.83s/it]#015Val: 100%|██████████| 13/13 [00:24<00:00,  2.46s/it]#015                                                    #015#015                                                    #015#015Val: 100%|██████████| 13/13 [00:24<00:00,  2.46s/it]#015Train: 100%|██████████| 6/6 [04:17<00:00, 35.13s/it]#015Train: 100%|██████████| 6/6 [04:17<00:00, 35.13s/it]#015Val: 100%|██████████| 13/13 [00:24<00:00,  1.88s/it]\u001b[0m\n",
      "\u001b[34m/opt/conda/lib/python3.11/site-packages/peft/utils/save_and_load.py:202: UserWarning: Setting `save_embedding_layers` to `True` as embedding layers found in `target_modules`.\n",
      "  warnings.warn(\"Setting `save_embedding_layers` to `True` as embedding layers found in `target_modules`.\")\u001b[0m\n",
      "\u001b[34m[INFO:swift] Saving model checkpoint to /opt/ml/model/qwen2-vl-2b-instruct/v0-20241126-025757/checkpoint-6\u001b[0m\n",
      "\u001b[34m#015                                                    #015#015Train: 100%|██████████| 6/6 [04:18<00:00, 35.13s/it]#015Train: 100%|██████████| 6/6 [04:18<00:00, 35.13s/it]#015Train: 100%|██████████| 6/6 [04:18<00:00, 43.15s/it]\u001b[0m\n",
      "\u001b[34m[INFO:swift] last_model_checkpoint: /opt/ml/model/qwen2-vl-2b-instruct/v0-20241126-025757/checkpoint-6\u001b[0m\n",
      "\u001b[34m[INFO:swift] best_model_checkpoint: /opt/ml/model/qwen2-vl-2b-instruct/v0-20241126-025757/checkpoint-6\u001b[0m\n",
      "\u001b[34m[INFO:swift] images_dir: /opt/ml/model/qwen2-vl-2b-instruct/v0-20241126-025757/images\u001b[0m\n",
      "\u001b[34m[INFO:swift] End time of running main: 2024-11-26 03:08:47.285877\u001b[0m\n",
      "\u001b[34m2024-11-26 03:08:47,286 sagemaker.remote_function INFO     Serializing the function return and uploading to s3://sagemaker-us-east-1-905418336534/multi-modal-finetune-2024-11-26-02-46-18-319/results\u001b[0m\n",
      "\u001b[34m{'eval_loss': 0.31493565, 'eval_acc': 0.89010989, 'eval_runtime': 27.7891, 'eval_samples_per_second': 0.468, 'eval_steps_per_second': 0.468, 'epoch': 0.96, 'global_step/max_steps': '6/6', 'percentage': '100.00%', 'elapsed_time': '4m 17s', 'remaining_time': '0s'}\u001b[0m\n",
      "\u001b[34m{'train_runtime': 258.8854, 'train_samples_per_second': 0.386, 'train_steps_per_second': 0.023, 'train_loss': 0.7309404, 'epoch': 0.96, 'global_step/max_steps': '6/6', 'percentage': '100.00%', 'elapsed_time': '4m 18s', 'remaining_time': '0s'}\u001b[0m\n",
      "\n",
      "2024-11-26 03:08:55 Uploading - Uploading generated training model\n",
      "2024-11-26 03:09:13 Completed - Instances not retained as a result of warmpool resource limits being exceeded\n",
      "Training seconds: 1271\n",
      "Billable seconds: 1271\n"
     ]
    },
    {
     "data": {
      "text/plain": [
       "'done'"
      ]
     },
     "execution_count": 14,
     "metadata": {},
     "output_type": "execute_result"
    }
   ],
   "source": [
    "print(f\"View your job here: https://{region}.console.aws.amazon.com/sagemaker/home?region={region}#/jobs/\")\n",
    "fine_tune_video(\n",
    "    dataset_s3_uri\n",
    ")"
   ]
  },
  {
   "cell_type": "markdown",
   "id": "370c35fe",
   "metadata": {},
   "source": [
    "Wait for the training job to complete. You can see the logs of the training above until it prints 'done' and the cell finishes executing."
   ]
  },
  {
   "cell_type": "markdown",
   "id": "d00b22d6-732e-4f07-922f-e6565e7fb390",
   "metadata": {},
   "source": [
    "<div style=\"background-color: #f5aeba; border: 2px solid #610010; padding: 10px; color: black; font-family: Arial, Helvetica, sans-serif;\">\n",
    "    TrainingJob on a <b>ml.g5.12xlarge</b> instance it should take <b>16-20 minutes</b>\n",
    "</div>"
   ]
  },
  {
   "cell_type": "markdown",
   "id": "559d782d",
   "metadata": {},
   "source": [
    "## Download Fine-Tuned Model for Evaluation"
   ]
  },
  {
   "cell_type": "code",
   "execution_count": 15,
   "id": "a73ec268-4155-46f8-bd77-330dc33aec75",
   "metadata": {},
   "outputs": [
    {
     "name": "stdout",
     "output_type": "stream",
     "text": [
      "found multi-modal-finetune-2024-11-26-02-46-18-319/multi-modal-finetune-2024-11-26-02-46-18-319/output/model.tar.gz\n"
     ]
    }
   ],
   "source": [
    "base_prefix = 'multi-modal-finetune-'\n",
    "models_list_s3 = !aws s3api list-objects-v2 --bucket {default_bucket_name} --prefix {base_prefix} --query \"Contents[?contains(Key, 'output/model.tar.gz')]|sort_by(@, &LastModified)[-1].Key\" --output text\n",
    "print(f\"found {models_list_s3[0]}\")"
   ]
  },
  {
   "cell_type": "code",
   "execution_count": 16,
   "id": "77cbf08e-e7d5-47f8-8ed1-44d51c8bebb4",
   "metadata": {},
   "outputs": [
    {
     "name": "stdout",
     "output_type": "stream",
     "text": [
      "Fine-tuned Model Adapter: s3://sagemaker-us-east-1-905418336534/multi-modal-finetune-2024-11-26-02-46-18-319/multi-modal-finetune-2024-11-26-02-46-18-319/output/model.tar.gz\n"
     ]
    }
   ],
   "source": [
    "model_suffix_s3 = models_list_s3[0]\n",
    "model_s3_path = os.path.join(\"s3://\", default_bucket_name, model_suffix_s3)\n",
    "print(f\"Fine-tuned Model Adapter: {model_s3_path}\")\n",
    "\n",
    "if not model_s3_path.endswith(\"model.tar.gz\"):\n",
    "    assert False, \"No latest fine-tuning found. Did your fine-tuning finish?\""
   ]
  },
  {
   "cell_type": "markdown",
   "id": "4ff20328-cd5b-49be-ab24-ad4a318fd574",
   "metadata": {},
   "source": [
    "We copy the model from S3 to our local directory"
   ]
  },
  {
   "cell_type": "code",
   "execution_count": 17,
   "id": "67b92526",
   "metadata": {},
   "outputs": [],
   "source": [
    "model_weights_dir = \"./model\"\n",
    "model_destination = f\"{model_weights_dir}/{model_suffix_s3}\"\n",
    "model_dest_dir = str(Path(model_destination).parent)"
   ]
  },
  {
   "cell_type": "code",
   "execution_count": 18,
   "id": "d361485f-e54b-4ee9-94bb-a37bf913e4e2",
   "metadata": {},
   "outputs": [
    {
     "name": "stdout",
     "output_type": "stream",
     "text": [
      "download: s3://sagemaker-us-east-1-905418336534/multi-modal-finetune-2024-11-26-02-46-18-319/multi-modal-finetune-2024-11-26-02-46-18-319/output/model.tar.gz to model/multi-modal-finetune-2024-11-26-02-46-18-319/multi-modal-finetune-2024-11-26-02-46-18-319/output/model.tar.gz\n"
     ]
    }
   ],
   "source": [
    "!aws s3 cp {model_s3_path} {model_destination}\n",
    "!tar --warning=no-unknown-keyword  -xzvf {model_destination} --directory {model_dest_dir} > /dev/null"
   ]
  },
  {
   "cell_type": "markdown",
   "id": "10a0d7a6-4364-4f84-9f1f-3046a794bd81",
   "metadata": {},
   "source": [
    "Lets have a look what is inside of `model.tar.gz`:\n",
    "\n",
    "* The checkpoint directory contains the actual adapter\n",
    "* `adapter_model.safetensors` - contains the actual weights of the adapter\n",
    "\n",
    "For inference we can either use the adapter together with the original model, or we merge the adapter with the original model."
   ]
  },
  {
   "cell_type": "code",
   "execution_count": 19,
   "id": "c3b0124f-21ca-4069-aad2-38215da286cd",
   "metadata": {},
   "outputs": [
    {
     "name": "stdout",
     "output_type": "stream",
     "text": [
      "98M\t./model.tar.gz\n",
      "12K\t./qwen2-vl-2b-instruct/v0-20241126-025757/sft_args.json\n",
      "4.0K\t./qwen2-vl-2b-instruct/v0-20241126-025757/logging.jsonl\n",
      "16K\t./qwen2-vl-2b-instruct/v0-20241126-025757/images/train_train_steps_per_second.png\n",
      "24K\t./qwen2-vl-2b-instruct/v0-20241126-025757/images/train_learning_rate.png\n",
      "20K\t./qwen2-vl-2b-instruct/v0-20241126-025757/images/train_acc.png\n",
      "16K\t./qwen2-vl-2b-instruct/v0-20241126-025757/images/eval_steps_per_second.png\n",
      "20K\t./qwen2-vl-2b-instruct/v0-20241126-025757/images/train_train_samples_per_second.png\n",
      "28K\t./qwen2-vl-2b-instruct/v0-20241126-025757/images/train_loss.png\n",
      "16K\t./qwen2-vl-2b-instruct/v0-20241126-025757/images/train_memory(GiB).png\n",
      "24K\t./qwen2-vl-2b-instruct/v0-20241126-025757/images/train_train_speed(iter_s).png\n",
      "16K\t./qwen2-vl-2b-instruct/v0-20241126-025757/images/eval_loss.png\n",
      "12K\t./qwen2-vl-2b-instruct/v0-20241126-025757/images/eval_acc.png\n",
      "12K\t./qwen2-vl-2b-instruct/v0-20241126-025757/images/train_train_runtime.png\n",
      "16K\t./qwen2-vl-2b-instruct/v0-20241126-025757/images/train_total_flos.png\n",
      "20K\t./qwen2-vl-2b-instruct/v0-20241126-025757/images/train_grad_norm.png\n",
      "16K\t./qwen2-vl-2b-instruct/v0-20241126-025757/images/train_train_loss.png\n",
      "12K\t./qwen2-vl-2b-instruct/v0-20241126-025757/images/eval_runtime.png\n",
      "16K\t./qwen2-vl-2b-instruct/v0-20241126-025757/images/eval_samples_per_second.png\n",
      "20K\t./qwen2-vl-2b-instruct/v0-20241126-025757/images/train_epoch.png\n",
      "308K\t./qwen2-vl-2b-instruct/v0-20241126-025757/images\n",
      "8.0K\t./qwen2-vl-2b-instruct/v0-20241126-025757/training_args.json\n",
      "12K\t./qwen2-vl-2b-instruct/v0-20241126-025757/runs/events.out.tfevents.1732590266.ip-10-0-150-224.ec2.internal.431.0\n",
      "12K\t./qwen2-vl-2b-instruct/v0-20241126-025757/runs\n",
      "4.0K\t./qwen2-vl-2b-instruct/v0-20241126-025757/checkpoint-6/generation_config.json\n",
      "4.0K\t./qwen2-vl-2b-instruct/v0-20241126-025757/checkpoint-6/adapter_config.json\n",
      "16K\t./qwen2-vl-2b-instruct/v0-20241126-025757/checkpoint-6/rng_state.pth\n",
      "12K\t./qwen2-vl-2b-instruct/v0-20241126-025757/checkpoint-6/sft_args.json\n",
      "36M\t./qwen2-vl-2b-instruct/v0-20241126-025757/checkpoint-6/adapter_model.safetensors\n",
      "8.0K\t./qwen2-vl-2b-instruct/v0-20241126-025757/checkpoint-6/README.md\n",
      "4.0K\t./qwen2-vl-2b-instruct/v0-20241126-025757/checkpoint-6/additional_config.json\n",
      "8.0K\t./qwen2-vl-2b-instruct/v0-20241126-025757/checkpoint-6/training_args.bin\n",
      "4.0K\t./qwen2-vl-2b-instruct/v0-20241126-025757/checkpoint-6/configuration.json\n",
      "71M\t./qwen2-vl-2b-instruct/v0-20241126-025757/checkpoint-6/optimizer.pt\n",
      "4.0K\t./qwen2-vl-2b-instruct/v0-20241126-025757/checkpoint-6/trainer_state.json\n",
      "4.0K\t./qwen2-vl-2b-instruct/v0-20241126-025757/checkpoint-6/scheduler.pt\n",
      "107M\t./qwen2-vl-2b-instruct/v0-20241126-025757/checkpoint-6\n",
      "107M\t./qwen2-vl-2b-instruct/v0-20241126-025757\n",
      "107M\t./qwen2-vl-2b-instruct\n",
      "205M\t.\n"
     ]
    }
   ],
   "source": [
    "! cd {model_dest_dir} && du -ah --max-depth=5"
   ]
  },
  {
   "cell_type": "code",
   "execution_count": 20,
   "id": "6937aa12-f626-436d-9735-b03f22b3edfa",
   "metadata": {},
   "outputs": [],
   "source": [
    "model_identifier = \"qwen2-vl-2b-instruct\""
   ]
  },
  {
   "cell_type": "code",
   "execution_count": 21,
   "id": "edd96400-0d48-4d67-8dc0-747caad87a44",
   "metadata": {},
   "outputs": [],
   "source": [
    "model_dir = os.path.join(model_dest_dir, model_identifier)"
   ]
  },
  {
   "cell_type": "code",
   "execution_count": 22,
   "id": "a117168b-4eea-4428-aae8-c09b7ee07194",
   "metadata": {},
   "outputs": [
    {
     "name": "stdout",
     "output_type": "stream",
     "text": [
      "best model checkpoint: qwen2-vl-2b-instruct/v0-20241126-025757/checkpoint-6\n"
     ]
    }
   ],
   "source": [
    "from utils.helpers import find_latest_version_directory, find_best_model_checkpoint\n",
    "\n",
    "latest_version = find_latest_version_directory(model_dir)\n",
    "logging_file = os.path.join(os.getcwd(), model_dir, latest_version, \"logging.jsonl\")\n",
    "best_model_checkpoint = find_best_model_checkpoint(logging_file)\n",
    "if best_model_checkpoint:\n",
    "    best_model_checkpoint = best_model_checkpoint.replace(\"/opt/ml/model/\",\"\")\n",
    "    print(f\"best model checkpoint: {best_model_checkpoint}\")\n",
    "else:\n",
    "    print(\"Best model checkpoint not found. Please search the logs manually to find the path that stores the best model checkpoint.\")\n",
    "          "
   ]
  },
  {
   "cell_type": "markdown",
   "id": "b99dd8ef-de15-4098-82e8-95647a8f2a7b",
   "metadata": {},
   "source": [
    "## Evaluation of Fine-Tuned Model"
   ]
  },
  {
   "cell_type": "markdown",
   "id": "53d2e5ce-462e-4933-97c5-9ccad955b86b",
   "metadata": {},
   "source": [
    "Let's look at the evaluation of a fine-tuning run. To save, you some time for the other labs we have already prepared the evaluation results and analysis for you below.  "
   ]
  },
  {
   "cell_type": "markdown",
   "id": "94d3719e-d5c7-4464-9f48-687133d1cc22",
   "metadata": {},
   "source": [
    "### Explanation Evaluation Metrics from Training"
   ]
  },
  {
   "cell_type": "markdown",
   "id": "2fb710a5-d4be-4a04-86f8-f510e7b35ec0",
   "metadata": {},
   "source": [
    "When training a machine learning model it makes sense to split the dataset into a training dataset, validation dataset, and an optional test dataset. "
   ]
  },
  {
   "cell_type": "markdown",
   "id": "55c7d737-b16d-4475-a8a1-f422d8bfa5d3",
   "metadata": {},
   "source": [
    "| Dataset Type | Purpose | Usage Phase | Characteristics | Model Interaction |\n",
    "|--------------|---------|-------------|-----------------|-------------------|\n",
    "| Training | Used to teach the model by adjusting its parameters and learning patterns. | Initial Training | Largest subset of data; must be representative of the overall dataset | Model actively learns and adjusts parameters based on this data |\n",
    "| Validation | Provides unbiased evaluation during training, prevent overfitting, helps fine-tune hyperparameters | During Training | Separate from training data; used for model optimization | Parameters can be adjusted based on performance, select between different model candidates |\n",
    "| Test | Offers final, unbiased evaluation of model performance | After Training | Completely unseen data; simulates real-world scenarios | No adjustments made; used only for final assessment |\n"
   ]
  },
  {
   "cell_type": "markdown",
   "id": "13693882-9a91-49ea-ab80-194b1fac2316",
   "metadata": {},
   "source": [
    "Metrics that give insights into the performance of the training process are accuracy and loss."
   ]
  },
  {
   "cell_type": "markdown",
   "id": "50bbf3a6-51d6-4ef5-bd1b-b1037414c1bf",
   "metadata": {},
   "source": [
    "#### Accuracy\n",
    "Accuracy measures how well your model performs on a dataset, expressed as a percentage of correct predictions. \n",
    "In this case the default accuracy used for fine-tuning is token level accuracy (parameter `--acc_strategy` in [swift documentation](https://swift.readthedocs.io/en/latest/Instruction/Command-line-parameters.html#sft-parameters)). [Token level accuracy is](https://github.com/modelscope/ms-swift/blob/552190740c1fefa836407a8dff53f5153bfbfa7e/swift/utils/metric.py#L53) defined as the number of correctly predicted tokens divided my the number of total predicted tokens. A token is the smallest unit that a language model generates. It is similar to words in the human vocabulary.\n",
    "\n",
    "Here is an example:\n",
    "| Metric | Dataset Label | Model Prediction |\n",
    "|--------|-------|------------|\n",
    "| Full Text | A. Hello World! | B. Hello Planet! |\n",
    "| Token IDs | [32, 13, 21927, 1879, 0] | [33, 13, 21927, 28835, 0] |\n",
    "\n",
    "_Matches:_ 3/5 tokens correct  \n",
    "_Accuracy:_ 60%\n",
    "\n",
    "For this sample the model output was [33, 13, 21927, 28835, 0] which decoded is \"B. Hello Planet!\". The label in the dataset is \"A. Hello World!\". So for this sample the accuracy is 60%.\n",
    "\n",
    "Accuracy helps you understand:\n",
    "* How well your model has learned the patterns in your data\n",
    "* Whether your model has sufficient capacity to learn the task\n",
    "* The overall progress of the learning process"
   ]
  },
  {
   "cell_type": "markdown",
   "id": "b8a8c38b-f72f-4084-a719-a6b32d28aa76",
   "metadata": {},
   "source": [
    "#### Loss\n",
    "Loss is a more nuanced metric that quantifies the model’s prediction errors during training. It represents the “cost” or “penalty” the model incurs for making incorrect or imprecise predictions. Key aspects include:\n",
    "The loss function depends on the model architecture. [Qwen2 VL uses Cross Entropy](https://github.com/huggingface/transformers/blob/1a0cd69435cf6ddfef2b15e37cbddd94e13348f4/src/transformers/models/qwen2_vl/modeling_qwen2_vl.py#L30) as the loss function.\n",
    "\n",
    "Cross-entropy loss measures how well a language model predicts the next token in a sequence by comparing:\n",
    "* The model's predicted probability distribution over all possible next tokens\n",
    "* The actual token that appears in the dataset\n",
    "\n",
    "Loss calculation examples:\n",
    "* If model is very confident (90%) and correct: Small loss\n",
    "* If model is unsure (33%): Medium loss\n",
    "* If model is confident but wrong (5% for correct answer): Large loss\n",
    "\n",
    "Key Points\n",
    "* Loss is smallest when the model is confident and correct\n",
    "* Loss increases when the model:\n",
    "    * Is uncertain about the correct answer\n",
    "    * Is confident about the wrong answer\n",
    "* Lower loss values indicate better model performance\n",
    "* Perfect zero loss is impossible because language has natural ambiguity\n",
    "* It provides a more sensitive measure of model improvement than accuracy"
   ]
  },
  {
   "cell_type": "markdown",
   "id": "0dff659e-1e66-4a67-90a5-6d79711679fe",
   "metadata": {},
   "source": [
    "### View Evaluation Metrics from actual fine-tuning"
   ]
  },
  {
   "cell_type": "markdown",
   "id": "7bebd5e7-9429-4a3b-b34b-98deb8fb4d98",
   "metadata": {},
   "source": [
    "Now we apply the accuracy and loss metrics to the training dataset and validation (evaluation) dataset from an actual training run."
   ]
  },
  {
   "cell_type": "markdown",
   "id": "b98097aa-dc2d-479d-b741-1f64f3a2a44a",
   "metadata": {},
   "source": [
    "The swift library captures images of training metrics in the `images` directory of the model directory.\n",
    "Let's take a look at the training metrics of a training job with a [dataset of 5000 samples](https://huggingface.co/datasets/malterei/LLaVA-Video-large-swift). Fine-tuning Qwen2 VL 2B on the larger 5000 samples dataset took 5 hours and 39 minutes on a `ml.g5.48xlarge` instance."
   ]
  },
  {
   "cell_type": "markdown",
   "id": "ff050b78-6858-4122-a848-e8022751dc82",
   "metadata": {},
   "source": [
    "#### Accuracy and loss on Training Dataset"
   ]
  },
  {
   "cell_type": "code",
   "execution_count": 23,
   "id": "005964a0-d115-4701-b88a-0c0d7eba5405",
   "metadata": {},
   "outputs": [],
   "source": [
    "from IPython.display import Image\n",
    "from IPython.display import display\n",
    "\n",
    "train_acc = Image(filename='evaluation/qwen2-vl-2b-instruct/large/v0-20241120-161510/images/train_acc.png') \n",
    "train_loss = Image(filename='evaluation/qwen2-vl-2b-instruct/large/v0-20241120-161510/images/train_loss.png')"
   ]
  },
  {
   "cell_type": "markdown",
   "id": "86fedf6d-1e81-488f-b0e6-c830c62d513d",
   "metadata": {},
   "source": [
    "Below is the training accuracy graph (**train/acc**).  \n",
    "The model starts with relatively low **accuracy** (60%) and quickly improves within the first 25 epochs, reaching about 90% accuracy. After this initial sharp improvement, the accuracy stabilizes and fluctuates between 93-96% for the remainder of the training. This pattern demonstrates successful learning with diminishing returns over time."
   ]
  },
  {
   "cell_type": "code",
   "execution_count": 24,
   "id": "43bc6973-eb03-4aad-aed8-67e5ef1aa705",
   "metadata": {},
   "outputs": [
    {
     "data": {
      "image/png": "[encoded data removed]",
      "text/plain": [
       "<IPython.core.display.Image object>"
      ]
     },
     "metadata": {},
     "output_type": "display_data"
    }
   ],
   "source": [
    "display(train_acc)"
   ]
  },
  {
   "cell_type": "markdown",
   "id": "56347c64-5d83-4115-b840-239cb1e066b7",
   "metadata": {},
   "source": [
    "The training loss (**train/loss**) graph below shows a classic exponential decay pattern that is typical of successful model training. "
   ]
  },
  {
   "cell_type": "code",
   "execution_count": 25,
   "id": "2a1afc98-c189-4317-a19a-da33e3f228b1",
   "metadata": {},
   "outputs": [
    {
     "data": {
      "image/png": "[encoded data removed]",
      "text/plain": [
       "<IPython.core.display.Image object>"
      ]
     },
     "metadata": {},
     "output_type": "display_data"
    }
   ],
   "source": [
    "display(train_loss)"
   ]
  },
  {
   "cell_type": "markdown",
   "id": "e77cbd89-0d55-4ab5-940a-3ffd3f9cf1d2",
   "metadata": {},
   "source": [
    "Together the training accuracy and training loss indicate that:\n",
    "* The model reaches a stable state without signs of overfitting.\n",
    "* The smooth curves suggest the learning rate was well-chosen for this task.\n",
    "* Improvements after the 200th epoch are minimal and early stopping would make sense."
   ]
  },
  {
   "cell_type": "markdown",
   "id": "078f0d25-b82d-48a5-a356-51b0e606fa3c",
   "metadata": {},
   "source": [
    "#### Accuracy and loss on Validation Dataset"
   ]
  },
  {
   "cell_type": "markdown",
   "id": "6149e95c-27a5-4912-9df7-bddd2f55107e",
   "metadata": {},
   "source": [
    "The evaluation metrics show the performance of the model on the validation dataset. \n",
    "\n",
    "The validation ensures that the model does not just memorize the training data but actually learns something about the task from the data."
   ]
  },
  {
   "cell_type": "code",
   "execution_count": 26,
   "id": "c674ab74-1ecf-476d-95bf-b52843a2cb45",
   "metadata": {},
   "outputs": [],
   "source": [
    "eval_acc = Image(filename='evaluation/qwen2-vl-2b-instruct/large/v0-20241120-161510/images/eval_acc.png') \n",
    "eval_loss = Image(filename='evaluation/qwen2-vl-2b-instruct/large/v0-20241120-161510/images/eval_loss.png') "
   ]
  },
  {
   "cell_type": "markdown",
   "id": "078886ad-6ff0-46c1-ae3f-133b1dc99655",
   "metadata": {},
   "source": [
    "Below are the graphs for the evaluation accuracy (**eval/acc**) and evaluation loss (**eval/loss**).\n",
    "Both evaluation metrics show consistent improvement without erratic behavior. This gradual improvement suggests good generalization to unseen real-world data.\n",
    "\n",
    "The evaluation accuracy demonstrates consistent improvement, starting at 96% around epoch 50 and gradually climbing to approximately 97% by epoch 300, with a slight peak around epoch 200. When compared to the training metrics, the relatively small gap between training and evaluation performance (training accuracy ~95% vs evaluation accuracy ~97%) suggests the model is not overfitting. \n",
    "\n",
    "Overfitting means the model would only learn the training data and not generalize well. In the metrics this would show if the training metrics keep improving while the evaluation metrics worsen or plateau.\n",
    "\n",
    "The evaluation loss shows a steady decrease from 0.125 to 0.095 over 300 epochs, with a notably smooth descent curve that indicates stable learning on unseen data. \n",
    "\n",
    "\n",
    "The relatively high accuracy and low loss values suggest this is a well-performing model on its intended multiple choice question answering task."
   ]
  },
  {
   "cell_type": "code",
   "execution_count": 27,
   "id": "1a700a64-43ed-456e-8fd6-f4ea385bb5a4",
   "metadata": {},
   "outputs": [
    {
     "data": {
      "image/png": "[encoded data removed]",
      "text/plain": [
       "<IPython.core.display.Image object>"
      ]
     },
     "metadata": {},
     "output_type": "display_data"
    },
    {
     "data": {
      "image/png": "[encoded data removed]",
      "text/plain": [
       "<IPython.core.display.Image object>"
      ]
     },
     "metadata": {},
     "output_type": "display_data"
    }
   ],
   "source": [
    "display(eval_acc)\n",
    "display(eval_loss)"
   ]
  },
  {
   "cell_type": "markdown",
   "id": "e4cb8bb8-1735-4adb-8316-88bb06795d9e",
   "metadata": {},
   "source": [
    "### Real-World Performance"
   ]
  },
  {
   "cell_type": "markdown",
   "id": "b328fa13-52d6-464c-bf5d-68e72f12cb1d",
   "metadata": {},
   "source": [
    "In addition to the training and evaluation metrics we have also run inference on an additional test dataset that has not been used during training.\n",
    "\n",
    "\n",
    "Large Language Models are challenging to evaluate due to their dynamic output generation, compared to simple classification tasks. The evaluation approach depends on the specific task and data, requiring data and task specific quantitative metrics and/or qualitative assessment methods for generated text, where multiple valid outputs may exist.\n",
    "\n",
    "Our dataset specifically is multiple choice questions on a video. In this case we have a correct multiple choice answer and can use that as a quantitative metric.\n",
    "\n",
    "Below you can see the accuracy (percentage of correct multiple choice answers) on the test dataset for the pre-trained model out of the box, the decent performance from fine-tuning on a small dataset, and the good performance when fine-tuning on a larger dataset for an extended time."
   ]
  },
  {
   "cell_type": "markdown",
   "id": "8e560175-ae09-47d4-9f74-c95f6d7b290b",
   "metadata": {},
   "source": [
    "| Model | Instance | Fine-Tuning Duration | Dataset Size | Accuracy |\n",
    "|----------|----------|----------|----------|----------|\n",
    "| Qwen2 VL 2B (vanilla)    | no fine-tuning     | no fine-tuning     | N/A | 50% |\n",
    "| Qwen2 VL 2B Fine-Tuned Small    | ml.g5.12xlarge     | 24 minutes     | 100 | 50% |\n",
    "| Qwen2 VL 2B Fine-Tuned Large    | ml.g5.48xlarge     | 5 hours 39 minutes     | 4660 | 83% |"
   ]
  },
  {
   "cell_type": "markdown",
   "id": "89d78844-6db2-4f55-9d41-4c33e863a677",
   "metadata": {},
   "source": [
    "We load the inference results to look at some incorrect responses from the models:"
   ]
  },
  {
   "cell_type": "code",
   "execution_count": 28,
   "id": "14c5e5d4-9977-4352-b466-f3e4ffaeeb1f",
   "metadata": {},
   "outputs": [],
   "source": [
    "qwen2_2b_responses = pd.read_json(\n",
    "    \"evaluation/qwen2-vl-2b-instruct/vanilla/outputs.jsonl\",\n",
    "    lines=True\n",
    ")"
   ]
  },
  {
   "cell_type": "code",
   "execution_count": 29,
   "id": "d6ddd4ec-b3b2-44b2-ab5e-1b581439df6c",
   "metadata": {},
   "outputs": [],
   "source": [
    "qwen2_2b_fine_tuned_responses_small = pd.read_json(\n",
    "    \"evaluation/qwen2-vl-2b-instruct/small/outputs.jsonl\",\n",
    "    lines=True\n",
    ")"
   ]
  },
  {
   "cell_type": "code",
   "execution_count": 30,
   "id": "72a0042f-b6a3-4f6c-b7c5-b53c9ba9c718",
   "metadata": {},
   "outputs": [],
   "source": [
    "qwen2_2b_fine_tuned_responses = pd.read_json(\n",
    "    \"evaluation/qwen2-vl-2b-instruct/large/outputs.jsonl\",\n",
    "    lines=True\n",
    ")"
   ]
  },
  {
   "cell_type": "markdown",
   "id": "9813cf29-b945-418b-a3d0-3a2d86ee704a",
   "metadata": {},
   "source": [
    "Out of the box pre-trained Qwen2 VL 2B incorrect predictions:"
   ]
  },
  {
   "cell_type": "code",
   "execution_count": 31,
   "id": "224345c5-0fe9-48c1-a7d4-20d10e620d84",
   "metadata": {},
   "outputs": [
    {
     "data": {
      "text/html": [
       "<div>\n",
       "<style scoped>\n",
       "    .dataframe tbody tr th:only-of-type {\n",
       "        vertical-align: middle;\n",
       "    }\n",
       "\n",
       "    .dataframe tbody tr th {\n",
       "        vertical-align: top;\n",
       "    }\n",
       "\n",
       "    .dataframe thead th {\n",
       "        text-align: right;\n",
       "    }\n",
       "</style>\n",
       "<table border=\"1\" class=\"dataframe\">\n",
       "  <thead>\n",
       "    <tr style=\"text-align: right;\">\n",
       "      <th></th>\n",
       "      <th>label</th>\n",
       "      <th>response</th>\n",
       "      <th>label_choice</th>\n",
       "      <th>response_choice</th>\n",
       "    </tr>\n",
       "  </thead>\n",
       "  <tbody>\n",
       "    <tr>\n",
       "      <th>2</th>\n",
       "      <td>A.</td>\n",
       "      <td>D</td>\n",
       "      <td>A</td>\n",
       "      <td>D</td>\n",
       "    </tr>\n",
       "    <tr>\n",
       "      <th>4</th>\n",
       "      <td>A.</td>\n",
       "      <td>C</td>\n",
       "      <td>A</td>\n",
       "      <td>C</td>\n",
       "    </tr>\n",
       "    <tr>\n",
       "      <th>5</th>\n",
       "      <td>C. Checkered.</td>\n",
       "      <td>The pattern on the floor in the hallway is che...</td>\n",
       "      <td>C</td>\n",
       "      <td>The pattern on the floor in the hallway is che...</td>\n",
       "    </tr>\n",
       "    <tr>\n",
       "      <th>7</th>\n",
       "      <td>A. A laptop and a plate.</td>\n",
       "      <td>The objects on the table are:\\n\\nA. A laptop\\n...</td>\n",
       "      <td>A</td>\n",
       "      <td>The objects on the table are:\\n\\nA. A laptop\\n...</td>\n",
       "    </tr>\n",
       "    <tr>\n",
       "      <th>8</th>\n",
       "      <td>B. Moderate.</td>\n",
       "      <td>The person in the video is seen walking around...</td>\n",
       "      <td>B</td>\n",
       "      <td>The person in the video is seen walking around...</td>\n",
       "    </tr>\n",
       "    <tr>\n",
       "      <th>9</th>\n",
       "      <td>D. A dark blue shirt and gray pants.</td>\n",
       "      <td>The person in the video is wearing a dark blue...</td>\n",
       "      <td>D</td>\n",
       "      <td>The person in the video is wearing a dark blue...</td>\n",
       "    </tr>\n",
       "  </tbody>\n",
       "</table>\n",
       "</div>"
      ],
      "text/plain": [
       "                                  label  \\\n",
       "2                                    A.   \n",
       "4                                    A.   \n",
       "5                         C. Checkered.   \n",
       "7              A. A laptop and a plate.   \n",
       "8                          B. Moderate.   \n",
       "9  D. A dark blue shirt and gray pants.   \n",
       "\n",
       "                                            response label_choice  \\\n",
       "2                                                  D            A   \n",
       "4                                                  C            A   \n",
       "5  The pattern on the floor in the hallway is che...            C   \n",
       "7  The objects on the table are:\\n\\nA. A laptop\\n...            A   \n",
       "8  The person in the video is seen walking around...            B   \n",
       "9  The person in the video is wearing a dark blue...            D   \n",
       "\n",
       "                                     response_choice  \n",
       "2                                                  D  \n",
       "4                                                  C  \n",
       "5  The pattern on the floor in the hallway is che...  \n",
       "7  The objects on the table are:\\n\\nA. A laptop\\n...  \n",
       "8  The person in the video is seen walking around...  \n",
       "9  The person in the video is wearing a dark blue...  "
      ]
     },
     "execution_count": 31,
     "metadata": {},
     "output_type": "execute_result"
    }
   ],
   "source": [
    "# Show incorrect predictions\n",
    "incorrect = qwen2_2b_responses[qwen2_2b_responses['label_choice'] != qwen2_2b_responses['response_choice']]\n",
    "incorrect[['label', 'response', 'label_choice', 'response_choice']]"
   ]
  },
  {
   "cell_type": "markdown",
   "id": "d3b9b716-7518-47eb-bd65-e7699baac7b3",
   "metadata": {},
   "source": [
    "The incorrect predictions of fine-tuned Qwen2 VL 2B on a small dataset for 24 minutes are in the table below.\n",
    "\n",
    "The accuracy didn't improve yet on the multiple-choice answering task compared to the out of the box pre-trained vanilla Qwen2 VL 2B. What we can already see is that the small fine-tuning has thought the model the expected output format of responding with the letter (for example \"A.\") from the available choices.\n",
    "\n",
    "However, the answer options that the fine-tuned model selects are still 50% incorrect. The hypothesis is that to understand the videos better we will need to fine-tune on more data.\n",
    "\n",
    "Fine-tuned model on small dataset incorrect predictions:"
   ]
  },
  {
   "cell_type": "code",
   "execution_count": 32,
   "id": "491237cb-6041-4e64-afd3-57850a33b2f8",
   "metadata": {},
   "outputs": [
    {
     "data": {
      "text/html": [
       "<div>\n",
       "<style scoped>\n",
       "    .dataframe tbody tr th:only-of-type {\n",
       "        vertical-align: middle;\n",
       "    }\n",
       "\n",
       "    .dataframe tbody tr th {\n",
       "        vertical-align: top;\n",
       "    }\n",
       "\n",
       "    .dataframe thead th {\n",
       "        text-align: right;\n",
       "    }\n",
       "</style>\n",
       "<table border=\"1\" class=\"dataframe\">\n",
       "  <thead>\n",
       "    <tr style=\"text-align: right;\">\n",
       "      <th></th>\n",
       "      <th>label</th>\n",
       "      <th>response</th>\n",
       "      <th>label_choice</th>\n",
       "      <th>response_choice</th>\n",
       "    </tr>\n",
       "  </thead>\n",
       "  <tbody>\n",
       "    <tr>\n",
       "      <th>1</th>\n",
       "      <td>C.</td>\n",
       "      <td>D.</td>\n",
       "      <td>C</td>\n",
       "      <td>D</td>\n",
       "    </tr>\n",
       "    <tr>\n",
       "      <th>2</th>\n",
       "      <td>A.</td>\n",
       "      <td>D.</td>\n",
       "      <td>A</td>\n",
       "      <td>D</td>\n",
       "    </tr>\n",
       "    <tr>\n",
       "      <th>4</th>\n",
       "      <td>A.</td>\n",
       "      <td>C.</td>\n",
       "      <td>A</td>\n",
       "      <td>C</td>\n",
       "    </tr>\n",
       "    <tr>\n",
       "      <th>5</th>\n",
       "      <td>C. Checkered.</td>\n",
       "      <td>D. Striped</td>\n",
       "      <td>C</td>\n",
       "      <td>D</td>\n",
       "    </tr>\n",
       "    <tr>\n",
       "      <th>7</th>\n",
       "      <td>A. A laptop and a plate.</td>\n",
       "      <td>B.</td>\n",
       "      <td>A</td>\n",
       "      <td>B</td>\n",
       "    </tr>\n",
       "    <tr>\n",
       "      <th>8</th>\n",
       "      <td>B. Moderate.</td>\n",
       "      <td>C. Very fast</td>\n",
       "      <td>B</td>\n",
       "      <td>C</td>\n",
       "    </tr>\n",
       "  </tbody>\n",
       "</table>\n",
       "</div>"
      ],
      "text/plain": [
       "                      label      response label_choice response_choice\n",
       "1                        C.            D.            C               D\n",
       "2                        A.            D.            A               D\n",
       "4                        A.            C.            A               C\n",
       "5             C. Checkered.    D. Striped            C               D\n",
       "7  A. A laptop and a plate.            B.            A               B\n",
       "8              B. Moderate.  C. Very fast            B               C"
      ]
     },
     "execution_count": 32,
     "metadata": {},
     "output_type": "execute_result"
    }
   ],
   "source": [
    "# Show incorrect predictions\n",
    "incorrect = qwen2_2b_fine_tuned_responses_small[qwen2_2b_fine_tuned_responses_small['label_choice'] != qwen2_2b_fine_tuned_responses_small['response_choice']]\n",
    "incorrect[['label', 'response', 'label_choice', 'response_choice']]"
   ]
  },
  {
   "cell_type": "markdown",
   "id": "73b268e2-c22e-466a-ba68-dff55a45e3d6",
   "metadata": {},
   "source": [
    "Below are the results of fine-tuning Qwen2 VL 2B on a large dataset for longer. We can see that now the model has learned not just the response format but also understanding videos it has never seen and answering multiple-choice questions with great success.\n",
    "\n",
    "From the 10 test questions it gets the following two wrong:"
   ]
  },
  {
   "cell_type": "code",
   "execution_count": 33,
   "id": "68c799b9-8936-47f1-863b-06af566fca4f",
   "metadata": {},
   "outputs": [
    {
     "data": {
      "text/html": [
       "<div>\n",
       "<style scoped>\n",
       "    .dataframe tbody tr th:only-of-type {\n",
       "        vertical-align: middle;\n",
       "    }\n",
       "\n",
       "    .dataframe tbody tr th {\n",
       "        vertical-align: top;\n",
       "    }\n",
       "\n",
       "    .dataframe thead th {\n",
       "        text-align: right;\n",
       "    }\n",
       "</style>\n",
       "<table border=\"1\" class=\"dataframe\">\n",
       "  <thead>\n",
       "    <tr style=\"text-align: right;\">\n",
       "      <th></th>\n",
       "      <th>label</th>\n",
       "      <th>response</th>\n",
       "      <th>label_choice</th>\n",
       "      <th>response_choice</th>\n",
       "    </tr>\n",
       "  </thead>\n",
       "  <tbody>\n",
       "    <tr>\n",
       "      <th>1</th>\n",
       "      <td>C.</td>\n",
       "      <td>B.</td>\n",
       "      <td>C</td>\n",
       "      <td>B</td>\n",
       "    </tr>\n",
       "    <tr>\n",
       "      <th>7</th>\n",
       "      <td>A. A laptop and a plate.</td>\n",
       "      <td>B. A laptop and a framed picture.</td>\n",
       "      <td>A</td>\n",
       "      <td>B</td>\n",
       "    </tr>\n",
       "  </tbody>\n",
       "</table>\n",
       "</div>"
      ],
      "text/plain": [
       "                      label                           response label_choice  \\\n",
       "1                        C.                                 B.            C   \n",
       "7  A. A laptop and a plate.  B. A laptop and a framed picture.            A   \n",
       "\n",
       "  response_choice  \n",
       "1               B  \n",
       "7               B  "
      ]
     },
     "execution_count": 33,
     "metadata": {},
     "output_type": "execute_result"
    }
   ],
   "source": [
    "# Show incorrect predictions\n",
    "incorrect = qwen2_2b_fine_tuned_responses[qwen2_2b_fine_tuned_responses['label_choice'] != qwen2_2b_fine_tuned_responses['response_choice']]\n",
    "incorrect[['label', 'response', 'label_choice', 'response_choice']]"
   ]
  },
  {
   "cell_type": "markdown",
   "id": "fd50715f-e68a-4934-9766-b444847c947f",
   "metadata": {},
   "source": [
    "Make sure to also include a qualitative human analysis of sample or failure cases, to ensure that the metric is aligning with your task specific expectations."
   ]
  },
  {
   "cell_type": "code",
   "execution_count": null,
   "id": "35756ca5-63d4-4919-9a9b-40519f25f76f",
   "metadata": {},
   "outputs": [],
   "source": []
  }
 ],
 "metadata": {
  "kernelspec": {
   "display_name": "Python 3 (ipykernel)",
   "language": "python",
   "name": "python3"
  },
  "language_info": {
   "codemirror_mode": {
    "name": "ipython",
    "version": 3
   },
   "file_extension": ".py",
   "mimetype": "text/x-python",
   "name": "python",
   "nbconvert_exporter": "python",
   "pygments_lexer": "ipython3",
   "version": "3.11.10"
  }
 },
 "nbformat": 4,
 "nbformat_minor": 5
}
